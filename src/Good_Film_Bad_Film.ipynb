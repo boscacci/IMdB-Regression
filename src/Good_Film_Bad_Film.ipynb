{
 "cells": [
  {
   "cell_type": "markdown",
   "metadata": {},
   "source": [
    "# Good Film // Bad Film\n",
    "## Film Plot Synopses and etc. as Predictors of Critical Reception"
   ]
  },
  {
   "cell_type": "markdown",
   "metadata": {},
   "source": [
    "This notebook builds and evaluates a handful of regression models which predict critical reception scores for films. Independent variables include plot synopsis free text, social media metrics on the leading actors, and other categorical variables such as film genre."
   ]
  },
  {
   "cell_type": "code",
   "execution_count": 1,
   "metadata": {
    "ExecuteTime": {
     "end_time": "2020-04-02T03:59:43.306332Z",
     "start_time": "2020-04-02T03:59:42.907066Z"
    }
   },
   "outputs": [],
   "source": [
    "import os\n",
    "import time\n",
    "import pickle\n",
    "\n",
    "import requests\n",
    "from pycountry import languages\n",
    "\n",
    "import pandas as pd\n",
    "import numpy as np\n",
    "\n",
    "import matplotlib.pyplot as plt"
   ]
  },
  {
   "cell_type": "markdown",
   "metadata": {},
   "source": [
    "# Data Collection"
   ]
  },
  {
   "cell_type": "markdown",
   "metadata": {},
   "source": [
    "## Kaggle Dataset"
   ]
  },
  {
   "cell_type": "markdown",
   "metadata": {},
   "source": [
    "From https://www.kaggle.com/tmdb/tmdb-movie-metadata:"
   ]
  },
  {
   "cell_type": "code",
   "execution_count": 2,
   "metadata": {
    "ExecuteTime": {
     "end_time": "2020-04-02T03:59:43.309046Z",
     "start_time": "2020-04-02T03:59:43.307577Z"
    }
   },
   "outputs": [],
   "source": [
    "# kaggle_data = pd.read_csv('../data/imdb_5000_movies.csv') # Just a big Kaggle dataset full of movies."
   ]
  },
  {
   "cell_type": "code",
   "execution_count": 3,
   "metadata": {
    "ExecuteTime": {
     "end_time": "2020-04-02T03:59:43.312025Z",
     "start_time": "2020-04-02T03:59:43.310393Z"
    }
   },
   "outputs": [],
   "source": [
    "# kaggle_data.shape"
   ]
  },
  {
   "cell_type": "markdown",
   "metadata": {},
   "source": [
    "## Extra Metadata from TheMovieDB.org"
   ]
  },
  {
   "cell_type": "markdown",
   "metadata": {},
   "source": [
    "One good thing about this dataset is that it provides the unique IMdB movie ID's, which we can pass to a third-party API in order to supplement our data with more features. Here we parse out those IMdB ID's:"
   ]
  },
  {
   "cell_type": "code",
   "execution_count": 4,
   "metadata": {
    "ExecuteTime": {
     "end_time": "2020-04-02T03:59:43.314815Z",
     "start_time": "2020-04-02T03:59:43.313167Z"
    }
   },
   "outputs": [],
   "source": [
    "# kaggle_data.tail()"
   ]
  },
  {
   "cell_type": "markdown",
   "metadata": {},
   "source": [
    "Grab IMdB ID numbers for each film and append to dataframe:"
   ]
  },
  {
   "cell_type": "code",
   "execution_count": 5,
   "metadata": {
    "ExecuteTime": {
     "end_time": "2020-04-02T03:59:43.317403Z",
     "start_time": "2020-04-02T03:59:43.315806Z"
    }
   },
   "outputs": [],
   "source": [
    "# imdb_ids = kaggle_data['movie_imdb_link'].str[26:35]\n",
    "# imdb_ids[3000:3005]"
   ]
  },
  {
   "cell_type": "code",
   "execution_count": 6,
   "metadata": {
    "ExecuteTime": {
     "end_time": "2020-04-02T03:59:43.320001Z",
     "start_time": "2020-04-02T03:59:43.318402Z"
    }
   },
   "outputs": [],
   "source": [
    "# kaggle_data['imdb_ids'] = imdb_ids"
   ]
  },
  {
   "cell_type": "markdown",
   "metadata": {},
   "source": [
    "Here we make the API calls, and persist our data to little .json files:"
   ]
  },
  {
   "cell_type": "code",
   "execution_count": 7,
   "metadata": {
    "ExecuteTime": {
     "end_time": "2020-04-02T03:59:43.323580Z",
     "start_time": "2020-04-02T03:59:43.321050Z"
    },
    "scrolled": true
   },
   "outputs": [],
   "source": [
    "# You will need to enter your own API key in the API_KEY.py file (remove the .template suffix)\n",
    "from API_KEY import API_KEY\n",
    "\n",
    "try:\n",
    "    os.mkdir('../data/movie_metadata')\n",
    "except FileExistsError:\n",
    "    pass"
   ]
  },
  {
   "cell_type": "markdown",
   "metadata": {},
   "source": [
    "__This will make lots of API calls, be warned and use sparingly__, to avoid burning out your API key"
   ]
  },
  {
   "cell_type": "code",
   "execution_count": 8,
   "metadata": {
    "ExecuteTime": {
     "end_time": "2020-04-02T03:59:43.327175Z",
     "start_time": "2020-04-02T03:59:43.325401Z"
    },
    "scrolled": true
   },
   "outputs": [],
   "source": [
    "# i=0; j=0; total=len(imdb_ids)\n",
    "\n",
    "# for id in imdb_ids:\n",
    "#     print(f\"Downloading movie {i} of {total}...\")\n",
    "#     i+=1\n",
    "#     query_string = f'https://api.themoviedb.org/3/movie/{id}?api_key={API_KEY}'\n",
    "#     json = requests.get(query_string).text\n",
    "#     if \"could not be found\" in json:\n",
    "#         j+=1\n",
    "#         print(f\"{round(j/i, 2)}% of movies not found\")\n",
    "#         continue\n",
    "#     f = open(f'../data/movie_metadata/movie_{id}.json', 'w+')\n",
    "#     f.write(json)\n",
    "#     f.close()"
   ]
  },
  {
   "cell_type": "markdown",
   "metadata": {},
   "source": [
    "## Combine Kaggle Dataset and TheMovieDB API Responses"
   ]
  },
  {
   "cell_type": "code",
   "execution_count": 9,
   "metadata": {
    "ExecuteTime": {
     "end_time": "2020-04-02T03:59:43.330441Z",
     "start_time": "2020-04-02T03:59:43.328626Z"
    }
   },
   "outputs": [],
   "source": [
    "# tmdb_movies = pd.DataFrame()\n",
    "\n",
    "# for filename in os.listdir(path='../data/movie_metadata/'):\n",
    "#     if \"movie\" in filename:\n",
    "#         this_movie = pd.read_json(f\"../data/movie_metadata/{filename}\", lines=True)\n",
    "#         tmdb_movies = pd.concat([this_movie,tmdb_movies], axis=0)\n",
    "\n",
    "# tmdb_movies = tmdb_movies.reset_index(drop=True)"
   ]
  },
  {
   "cell_type": "code",
   "execution_count": 10,
   "metadata": {
    "ExecuteTime": {
     "end_time": "2020-04-02T03:59:43.332995Z",
     "start_time": "2020-04-02T03:59:43.331506Z"
    }
   },
   "outputs": [],
   "source": [
    "# df_merged = tmdb_movies.merge(kaggle_data, \n",
    "#                               how='left',\n",
    "#                               left_on='imdb_id',\n",
    "#                               right_on='imdb_ids',\n",
    "#                               suffixes=(\"_kaggle\",\"_api\"))"
   ]
  },
  {
   "cell_type": "markdown",
   "metadata": {},
   "source": [
    "# Data Cleaning and EDA"
   ]
  },
  {
   "cell_type": "markdown",
   "metadata": {},
   "source": [
    "## Keep only interesting columns"
   ]
  },
  {
   "cell_type": "code",
   "execution_count": 11,
   "metadata": {
    "ExecuteTime": {
     "end_time": "2020-04-02T03:59:43.335669Z",
     "start_time": "2020-04-02T03:59:43.334009Z"
    }
   },
   "outputs": [],
   "source": [
    "# df_merged.columns.tolist()"
   ]
  },
  {
   "cell_type": "code",
   "execution_count": 12,
   "metadata": {
    "ExecuteTime": {
     "end_time": "2020-04-02T03:59:43.338432Z",
     "start_time": "2020-04-02T03:59:43.336724Z"
    }
   },
   "outputs": [],
   "source": [
    "# desired_cols = (\"duration adult budget_api budget_kaggle language original_language \"\n",
    "#                 \"production_countries runtime spoken_languages color genres_api \"\n",
    "#                 \"title movie_title original_title overview content_rating \"\n",
    "#                 \"actor_1_facebook_likes actor_2_facebook_likes actor_3_facebook_likes \"\n",
    "#                 \"director_facebook_likes cast_total_facebook_likes facenumber_in_poster \"\n",
    "#                 \"aspect_ratio imdb_score revenue\").split()"
   ]
  },
  {
   "cell_type": "code",
   "execution_count": 13,
   "metadata": {
    "ExecuteTime": {
     "end_time": "2020-04-02T03:59:43.341010Z",
     "start_time": "2020-04-02T03:59:43.339324Z"
    }
   },
   "outputs": [],
   "source": [
    "# df_lesscols = df_merged[desired_cols]\n",
    "# df_lesscols.head()"
   ]
  },
  {
   "cell_type": "code",
   "execution_count": 14,
   "metadata": {
    "ExecuteTime": {
     "end_time": "2020-04-02T03:59:43.343757Z",
     "start_time": "2020-04-02T03:59:43.342163Z"
    }
   },
   "outputs": [],
   "source": [
    "# df_lesscols.to_pickle(\"../data/pickles/df_lesscols.pkl\")"
   ]
  },
  {
   "cell_type": "code",
   "execution_count": 15,
   "metadata": {
    "ExecuteTime": {
     "end_time": "2020-04-02T03:59:43.413949Z",
     "start_time": "2020-04-02T03:59:43.344843Z"
    }
   },
   "outputs": [
    {
     "data": {
      "text/html": [
       "<div>\n",
       "<style scoped>\n",
       "    .dataframe tbody tr th:only-of-type {\n",
       "        vertical-align: middle;\n",
       "    }\n",
       "\n",
       "    .dataframe tbody tr th {\n",
       "        vertical-align: top;\n",
       "    }\n",
       "\n",
       "    .dataframe thead th {\n",
       "        text-align: right;\n",
       "    }\n",
       "</style>\n",
       "<table border=\"1\" class=\"dataframe\">\n",
       "  <thead>\n",
       "    <tr style=\"text-align: right;\">\n",
       "      <th></th>\n",
       "      <th>duration</th>\n",
       "      <th>adult</th>\n",
       "      <th>budget_api</th>\n",
       "      <th>budget_kaggle</th>\n",
       "      <th>language</th>\n",
       "      <th>original_language</th>\n",
       "      <th>production_countries</th>\n",
       "      <th>runtime</th>\n",
       "      <th>spoken_languages</th>\n",
       "      <th>color</th>\n",
       "      <th>...</th>\n",
       "      <th>content_rating</th>\n",
       "      <th>actor_1_facebook_likes</th>\n",
       "      <th>actor_2_facebook_likes</th>\n",
       "      <th>actor_3_facebook_likes</th>\n",
       "      <th>director_facebook_likes</th>\n",
       "      <th>cast_total_facebook_likes</th>\n",
       "      <th>facenumber_in_poster</th>\n",
       "      <th>aspect_ratio</th>\n",
       "      <th>imdb_score</th>\n",
       "      <th>revenue</th>\n",
       "    </tr>\n",
       "  </thead>\n",
       "  <tbody>\n",
       "    <tr>\n",
       "      <th>0</th>\n",
       "      <td>156.0</td>\n",
       "      <td>False</td>\n",
       "      <td>NaN</td>\n",
       "      <td>10951000</td>\n",
       "      <td>Korean</td>\n",
       "      <td>ko</td>\n",
       "      <td>[{'iso_3166_1': 'KR', 'name': 'South Korea'}]</td>\n",
       "      <td>156.0</td>\n",
       "      <td>[{'iso_639_1': 'de', 'name': 'Deutsch'}, {'iso...</td>\n",
       "      <td>Color</td>\n",
       "      <td>...</td>\n",
       "      <td>Not Rated</td>\n",
       "      <td>45.0</td>\n",
       "      <td>5.0</td>\n",
       "      <td>0.0</td>\n",
       "      <td>43.0</td>\n",
       "      <td>50</td>\n",
       "      <td>0.0</td>\n",
       "      <td>2.35</td>\n",
       "      <td>7.7</td>\n",
       "      <td>47098491</td>\n",
       "    </tr>\n",
       "    <tr>\n",
       "      <th>1</th>\n",
       "      <td>102.0</td>\n",
       "      <td>False</td>\n",
       "      <td>NaN</td>\n",
       "      <td>0</td>\n",
       "      <td>French</td>\n",
       "      <td>fr</td>\n",
       "      <td>[{'iso_3166_1': 'FR', 'name': 'France'}]</td>\n",
       "      <td>102.0</td>\n",
       "      <td>[{'iso_639_1': 'fr', 'name': 'Français'}]</td>\n",
       "      <td>Color</td>\n",
       "      <td>...</td>\n",
       "      <td>NaN</td>\n",
       "      <td>541.0</td>\n",
       "      <td>8.0</td>\n",
       "      <td>2.0</td>\n",
       "      <td>12.0</td>\n",
       "      <td>553</td>\n",
       "      <td>2.0</td>\n",
       "      <td>NaN</td>\n",
       "      <td>7.2</td>\n",
       "      <td>0</td>\n",
       "    </tr>\n",
       "    <tr>\n",
       "      <th>2</th>\n",
       "      <td>100.0</td>\n",
       "      <td>False</td>\n",
       "      <td>3500000.0</td>\n",
       "      <td>3500000</td>\n",
       "      <td>English</td>\n",
       "      <td>en</td>\n",
       "      <td>[{'iso_3166_1': 'US', 'name': 'United States o...</td>\n",
       "      <td>100.0</td>\n",
       "      <td>[{'iso_639_1': 'en', 'name': 'English'}]</td>\n",
       "      <td>Color</td>\n",
       "      <td>...</td>\n",
       "      <td>NaN</td>\n",
       "      <td>21.0</td>\n",
       "      <td>3.0</td>\n",
       "      <td>0.0</td>\n",
       "      <td>117.0</td>\n",
       "      <td>24</td>\n",
       "      <td>0.0</td>\n",
       "      <td>NaN</td>\n",
       "      <td>7.0</td>\n",
       "      <td>0</td>\n",
       "    </tr>\n",
       "  </tbody>\n",
       "</table>\n",
       "<p>3 rows × 25 columns</p>\n",
       "</div>"
      ],
      "text/plain": [
       "   duration  adult  budget_api  budget_kaggle language original_language  \\\n",
       "0     156.0  False         NaN       10951000   Korean                ko   \n",
       "1     102.0  False         NaN              0   French                fr   \n",
       "2     100.0  False   3500000.0        3500000  English                en   \n",
       "\n",
       "                                production_countries  runtime  \\\n",
       "0      [{'iso_3166_1': 'KR', 'name': 'South Korea'}]    156.0   \n",
       "1           [{'iso_3166_1': 'FR', 'name': 'France'}]    102.0   \n",
       "2  [{'iso_3166_1': 'US', 'name': 'United States o...    100.0   \n",
       "\n",
       "                                    spoken_languages  color  ...  \\\n",
       "0  [{'iso_639_1': 'de', 'name': 'Deutsch'}, {'iso...  Color  ...   \n",
       "1          [{'iso_639_1': 'fr', 'name': 'Français'}]  Color  ...   \n",
       "2           [{'iso_639_1': 'en', 'name': 'English'}]  Color  ...   \n",
       "\n",
       "  content_rating actor_1_facebook_likes actor_2_facebook_likes  \\\n",
       "0      Not Rated                   45.0                    5.0   \n",
       "1            NaN                  541.0                    8.0   \n",
       "2            NaN                   21.0                    3.0   \n",
       "\n",
       "  actor_3_facebook_likes director_facebook_likes cast_total_facebook_likes  \\\n",
       "0                    0.0                    43.0                        50   \n",
       "1                    2.0                    12.0                       553   \n",
       "2                    0.0                   117.0                        24   \n",
       "\n",
       "   facenumber_in_poster  aspect_ratio  imdb_score   revenue  \n",
       "0                   0.0          2.35         7.7  47098491  \n",
       "1                   2.0           NaN         7.2         0  \n",
       "2                   0.0           NaN         7.0         0  \n",
       "\n",
       "[3 rows x 25 columns]"
      ]
     },
     "execution_count": 15,
     "metadata": {},
     "output_type": "execute_result"
    }
   ],
   "source": [
    "df_lesscols = pd.read_pickle(\"../data/pickles/df_lesscols.pkl\")\n",
    "df_lesscols.head(3)"
   ]
  },
  {
   "cell_type": "markdown",
   "metadata": {},
   "source": [
    "## Null Values Management"
   ]
  },
  {
   "cell_type": "markdown",
   "metadata": {},
   "source": [
    "Here are all of the truly \"null\" values:"
   ]
  },
  {
   "cell_type": "code",
   "execution_count": 16,
   "metadata": {
    "ExecuteTime": {
     "end_time": "2020-04-02T03:59:43.619207Z",
     "start_time": "2020-04-02T03:59:43.415091Z"
    }
   },
   "outputs": [
    {
     "data": {
      "text/plain": [
       "[]"
      ]
     },
     "execution_count": 16,
     "metadata": {},
     "output_type": "execute_result"
    },
    {
     "data": {
      "image/png": "[encoded data removed]",
      "text/plain": [
       "<Figure size 1080x576 with 1 Axes>"
      ]
     },
     "metadata": {
      "needs_background": "light"
     },
     "output_type": "display_data"
    }
   ],
   "source": [
    "nulls = df_lesscols.isna().sum()[df_lesscols.isna().sum() > 0].sort_values(ascending=False)\n",
    "\n",
    "nulls.plot(kind='bar', figsize=(15,8)).plot()"
   ]
  },
  {
   "cell_type": "markdown",
   "metadata": {},
   "source": [
    "Gotta start somewhere."
   ]
  },
  {
   "cell_type": "markdown",
   "metadata": {},
   "source": [
    "### Budget"
   ]
  },
  {
   "cell_type": "markdown",
   "metadata": {},
   "source": [
    "We have two disparate budget columns to draw from. We want whatever seems most plausible."
   ]
  },
  {
   "cell_type": "code",
   "execution_count": 17,
   "metadata": {
    "ExecuteTime": {
     "end_time": "2020-04-02T03:59:43.627103Z",
     "start_time": "2020-04-02T03:59:43.620439Z"
    }
   },
   "outputs": [
    {
     "data": {
      "text/html": [
       "<div>\n",
       "<style scoped>\n",
       "    .dataframe tbody tr th:only-of-type {\n",
       "        vertical-align: middle;\n",
       "    }\n",
       "\n",
       "    .dataframe tbody tr th {\n",
       "        vertical-align: top;\n",
       "    }\n",
       "\n",
       "    .dataframe thead th {\n",
       "        text-align: right;\n",
       "    }\n",
       "</style>\n",
       "<table border=\"1\" class=\"dataframe\">\n",
       "  <thead>\n",
       "    <tr style=\"text-align: right;\">\n",
       "      <th></th>\n",
       "      <th>budget_api</th>\n",
       "      <th>budget_kaggle</th>\n",
       "    </tr>\n",
       "  </thead>\n",
       "  <tbody>\n",
       "    <tr>\n",
       "      <th>0</th>\n",
       "      <td>NaN</td>\n",
       "      <td>10951000</td>\n",
       "    </tr>\n",
       "    <tr>\n",
       "      <th>1</th>\n",
       "      <td>NaN</td>\n",
       "      <td>0</td>\n",
       "    </tr>\n",
       "    <tr>\n",
       "      <th>2</th>\n",
       "      <td>3500000.0</td>\n",
       "      <td>3500000</td>\n",
       "    </tr>\n",
       "    <tr>\n",
       "      <th>3</th>\n",
       "      <td>12620000.0</td>\n",
       "      <td>12700000</td>\n",
       "    </tr>\n",
       "    <tr>\n",
       "      <th>4</th>\n",
       "      <td>5000000.0</td>\n",
       "      <td>0</td>\n",
       "    </tr>\n",
       "    <tr>\n",
       "      <th>5</th>\n",
       "      <td>5000000.0</td>\n",
       "      <td>5000000</td>\n",
       "    </tr>\n",
       "    <tr>\n",
       "      <th>6</th>\n",
       "      <td>4900000.0</td>\n",
       "      <td>4900000</td>\n",
       "    </tr>\n",
       "    <tr>\n",
       "      <th>7</th>\n",
       "      <td>990000.0</td>\n",
       "      <td>0</td>\n",
       "    </tr>\n",
       "    <tr>\n",
       "      <th>8</th>\n",
       "      <td>168000.0</td>\n",
       "      <td>0</td>\n",
       "    </tr>\n",
       "    <tr>\n",
       "      <th>9</th>\n",
       "      <td>2000000.0</td>\n",
       "      <td>0</td>\n",
       "    </tr>\n",
       "  </tbody>\n",
       "</table>\n",
       "</div>"
      ],
      "text/plain": [
       "   budget_api  budget_kaggle\n",
       "0         NaN       10951000\n",
       "1         NaN              0\n",
       "2   3500000.0        3500000\n",
       "3  12620000.0       12700000\n",
       "4   5000000.0              0\n",
       "5   5000000.0        5000000\n",
       "6   4900000.0        4900000\n",
       "7    990000.0              0\n",
       "8    168000.0              0\n",
       "9   2000000.0              0"
      ]
     },
     "execution_count": 17,
     "metadata": {},
     "output_type": "execute_result"
    }
   ],
   "source": [
    "df_lesscols[[\"budget_api\", \"budget_kaggle\"]].head(10)"
   ]
  },
  {
   "cell_type": "markdown",
   "metadata": {},
   "source": [
    "Lots of nulls in budget_api, lots of zeroes in budget_kaggle. How best to handle this? And are there other columns where we just have a bunch of zero values instead of nulls (revenue??)"
   ]
  },
  {
   "cell_type": "code",
   "execution_count": 18,
   "metadata": {
    "ExecuteTime": {
     "end_time": "2020-04-02T03:59:43.632055Z",
     "start_time": "2020-04-02T03:59:43.628253Z"
    }
   },
   "outputs": [],
   "source": [
    "def best_guess_budget(row):\n",
    "    # When budget_api is NaN and budget_kaggle is non-zero, take budget_kaggle.\n",
    "    if row.isna()[\"budget_api\"] and row['budget_kaggle'] != 0:\n",
    "        return row['budget_kaggle']\n",
    "    \n",
    "    # When budget_api is not NaN but budget_kaggle is zero, take budget_api.\n",
    "    elif not row.isna()[\"budget_api\"] and row['budget_kaggle'] == 0:\n",
    "        return row['budget_api']\n",
    "    \n",
    "    # When both values are not NaN / non-zero, take the mean?\n",
    "    elif not row.isna()[\"budget_api\"] and row['budget_kaggle'] != 0:\n",
    "        return np.mean((row['budget_kaggle'], row['budget_api']))\n",
    "        \n",
    "    # When budget_api is NaN AND budget_kaggle is zero...that's tough. Maybe drop row. Consider imputing values?\n",
    "    else:\n",
    "        return None"
   ]
  },
  {
   "cell_type": "code",
   "execution_count": 19,
   "metadata": {
    "ExecuteTime": {
     "end_time": "2020-04-02T03:59:43.641256Z",
     "start_time": "2020-04-02T03:59:43.632981Z"
    }
   },
   "outputs": [
    {
     "data": {
      "text/plain": [
       "0    10951000.0\n",
       "1           NaN\n",
       "2     3500000.0\n",
       "3    12660000.0\n",
       "4     5000000.0\n",
       "5     5000000.0\n",
       "6     4900000.0\n",
       "7      990000.0\n",
       "8      168000.0\n",
       "9     2000000.0\n",
       "dtype: float64"
      ]
     },
     "execution_count": 19,
     "metadata": {},
     "output_type": "execute_result"
    }
   ],
   "source": [
    "df_lesscols.head(10).apply(best_guess_budget, axis=1)"
   ]
  },
  {
   "cell_type": "markdown",
   "metadata": {},
   "source": [
    "This is the desired behavior."
   ]
  },
  {
   "cell_type": "code",
   "execution_count": 20,
   "metadata": {
    "ExecuteTime": {
     "end_time": "2020-04-02T03:59:45.160979Z",
     "start_time": "2020-04-02T03:59:43.642545Z"
    }
   },
   "outputs": [],
   "source": [
    "best_budget = df_lesscols.apply(best_guess_budget, axis=1)"
   ]
  },
  {
   "cell_type": "code",
   "execution_count": 21,
   "metadata": {
    "ExecuteTime": {
     "end_time": "2020-04-02T03:59:45.167453Z",
     "start_time": "2020-04-02T03:59:45.162017Z"
    }
   },
   "outputs": [],
   "source": [
    "df_best_guess_budget = df_lesscols.assign(best_budget=best_budget\n",
    "                                         ).drop(\"budget_api budget_kaggle\".split(), axis=1)"
   ]
  },
  {
   "cell_type": "code",
   "execution_count": 22,
   "metadata": {
    "ExecuteTime": {
     "end_time": "2020-04-02T03:59:45.172110Z",
     "start_time": "2020-04-02T03:59:45.168518Z"
    }
   },
   "outputs": [
    {
     "data": {
      "text/plain": [
       "0.0550253807106599"
      ]
     },
     "execution_count": 22,
     "metadata": {},
     "output_type": "execute_result"
    }
   ],
   "source": [
    "df_best_guess_budget.best_budget.isna().mean()"
   ]
  },
  {
   "cell_type": "markdown",
   "metadata": {},
   "source": [
    "5% of budget values are missing. I think I will in fact impute the median."
   ]
  },
  {
   "cell_type": "code",
   "execution_count": 23,
   "metadata": {
    "ExecuteTime": {
     "end_time": "2020-04-02T03:59:45.183642Z",
     "start_time": "2020-04-02T03:59:45.177822Z"
    }
   },
   "outputs": [
    {
     "data": {
      "text/plain": [
       "(19500000.0, 37180395.97410829)"
      ]
     },
     "execution_count": 23,
     "metadata": {},
     "output_type": "execute_result"
    }
   ],
   "source": [
    "budget_med = df_best_guess_budget.best_budget.dropna().median()\n",
    "budget_mean = df_best_guess_budget.best_budget.dropna().mean()\n",
    "budget_med, budget_mean"
   ]
  },
  {
   "cell_type": "code",
   "execution_count": 24,
   "metadata": {
    "ExecuteTime": {
     "end_time": "2020-04-02T03:59:45.193960Z",
     "start_time": "2020-04-02T03:59:45.186091Z"
    }
   },
   "outputs": [],
   "source": [
    "df_filled_budget = df_best_guess_budget.assign(\n",
    "    filled_budget = df_best_guess_budget[\"best_budget\"].fillna(budget_med)\n",
    ").drop([\"best_budget\"],axis=1)"
   ]
  },
  {
   "cell_type": "code",
   "execution_count": 25,
   "metadata": {
    "ExecuteTime": {
     "end_time": "2020-04-02T03:59:45.199623Z",
     "start_time": "2020-04-02T03:59:45.195645Z"
    }
   },
   "outputs": [
    {
     "data": {
      "text/plain": [
       "0.0"
      ]
     },
     "execution_count": 25,
     "metadata": {},
     "output_type": "execute_result"
    }
   ],
   "source": [
    "df_filled_budget.filled_budget.isna().mean()"
   ]
  },
  {
   "cell_type": "code",
   "execution_count": 26,
   "metadata": {
    "ExecuteTime": {
     "end_time": "2020-04-02T03:59:45.204882Z",
     "start_time": "2020-04-02T03:59:45.200881Z"
    }
   },
   "outputs": [
    {
     "data": {
      "text/plain": [
       "(19500000.0, 36207525.45451777)"
      ]
     },
     "execution_count": 26,
     "metadata": {},
     "output_type": "execute_result"
    }
   ],
   "source": [
    "df_filled_budget.filled_budget.median(), df_filled_budget.filled_budget.mean()"
   ]
  },
  {
   "cell_type": "markdown",
   "metadata": {},
   "source": [
    "This doesn't seem to have shifted the mean much, that's good."
   ]
  },
  {
   "cell_type": "markdown",
   "metadata": {},
   "source": [
    "### Aspect Ratio"
   ]
  },
  {
   "cell_type": "code",
   "execution_count": 27,
   "metadata": {
    "ExecuteTime": {
     "end_time": "2020-04-02T03:59:45.210871Z",
     "start_time": "2020-04-02T03:59:45.206044Z"
    }
   },
   "outputs": [
    {
     "data": {
      "text/plain": [
       "0.060101522842639594"
      ]
     },
     "execution_count": 27,
     "metadata": {},
     "output_type": "execute_result"
    }
   ],
   "source": [
    "df_filled_budget.aspect_ratio.isna().mean()"
   ]
  },
  {
   "cell_type": "markdown",
   "metadata": {},
   "source": [
    "6% of aspect ratios are null."
   ]
  },
  {
   "cell_type": "markdown",
   "metadata": {},
   "source": [
    "This is a categorical describing the dimensions of the projected image. Your TV set is 16x9 aka 1.77 aspect ratio, whereas lots of hollywood films are 1.85 ratio or 2.40, much \"wider-screen\". 2.40 might be \"artsier\"."
   ]
  },
  {
   "cell_type": "code",
   "execution_count": 28,
   "metadata": {
    "ExecuteTime": {
     "end_time": "2020-04-02T03:59:45.362748Z",
     "start_time": "2020-04-02T03:59:45.212265Z"
    }
   },
   "outputs": [
    {
     "data": {
      "text/plain": [
       "<matplotlib.axes._subplots.AxesSubplot at 0x1217dec90>"
      ]
     },
     "execution_count": 28,
     "metadata": {},
     "output_type": "execute_result"
    },
    {
     "data": {
      "image/png": "[encoded data removed]",
      "text/plain": [
       "<Figure size 432x288 with 1 Axes>"
      ]
     },
     "metadata": {
      "needs_background": "light"
     },
     "output_type": "display_data"
    }
   ],
   "source": [
    "# Aspect ratio of 16 I take to mean 16x9 aka 1.77:\n",
    "df_filled_budget.aspect_ratio = df_filled_budget.aspect_ratio.apply(lambda x: 1.77 if x==16 else x)\n",
    "df_filled_budget.aspect_ratio.value_counts().sort_index().plot(kind=\"bar\")"
   ]
  },
  {
   "cell_type": "markdown",
   "metadata": {},
   "source": [
    "I think I will lump some of these together and impute 1.85 on null values. It's not *quite* the mode but it's a sort of middle-of-the road aspect ratio. The DCI standard lists 2.39 and 1.85 for theatrical projection. 16x9 or 1.77 is also common, and 4/3 or 1.33 is like an old-timey boxey aspect ratio."
   ]
  },
  {
   "cell_type": "code",
   "execution_count": 29,
   "metadata": {
    "ExecuteTime": {
     "end_time": "2020-04-02T03:59:45.366742Z",
     "start_time": "2020-04-02T03:59:45.363929Z"
    }
   },
   "outputs": [],
   "source": [
    "aspect_bins = [0, np.mean((1.33, 1.77)), np.mean((1.77,1.85)), np.mean((1.85,2.39)), np.inf]\n",
    "aspect_labels = \"1.33 1.77 1.85 2.39\".split()"
   ]
  },
  {
   "cell_type": "code",
   "execution_count": 30,
   "metadata": {
    "ExecuteTime": {
     "end_time": "2020-04-02T03:59:45.374882Z",
     "start_time": "2020-04-02T03:59:45.367770Z"
    }
   },
   "outputs": [
    {
     "data": {
      "text/plain": [
       "0       2.39\n",
       "1        NaN\n",
       "2        NaN\n",
       "3        NaN\n",
       "4        NaN\n",
       "        ... \n",
       "4920    1.33\n",
       "4921    1.33\n",
       "4922    1.33\n",
       "4923    1.33\n",
       "4924    1.33\n",
       "Name: aspect_ratio, Length: 4925, dtype: category\n",
       "Categories (4, object): [1.33 < 1.77 < 1.85 < 2.39]"
      ]
     },
     "execution_count": 30,
     "metadata": {},
     "output_type": "execute_result"
    }
   ],
   "source": [
    "pd.cut(df_filled_budget.aspect_ratio, \n",
    "       bins=aspect_bins, \n",
    "       labels=aspect_labels,\n",
    "       include_lowest=True)"
   ]
  },
  {
   "cell_type": "markdown",
   "metadata": {},
   "source": [
    "Lump values and impute 1.85:"
   ]
  },
  {
   "cell_type": "code",
   "execution_count": 31,
   "metadata": {
    "ExecuteTime": {
     "end_time": "2020-04-02T03:59:45.384293Z",
     "start_time": "2020-04-02T03:59:45.375973Z"
    }
   },
   "outputs": [],
   "source": [
    "df_fixed_aspect = df_filled_budget.assign(fixed_aspect = pd.cut(df_filled_budget.aspect_ratio, \n",
    "                                                         bins=aspect_bins, \n",
    "                                                         labels=aspect_labels,\n",
    "                                                         include_lowest=True\n",
    "                                                               ).fillna(\"1.85\")\n",
    "                                         ).drop([\"aspect_ratio\"],axis=1)"
   ]
  },
  {
   "cell_type": "code",
   "execution_count": 32,
   "metadata": {
    "ExecuteTime": {
     "end_time": "2020-04-02T03:59:45.490513Z",
     "start_time": "2020-04-02T03:59:45.385441Z"
    }
   },
   "outputs": [
    {
     "data": {
      "text/plain": [
       "<matplotlib.axes._subplots.AxesSubplot at 0x121cbd790>"
      ]
     },
     "execution_count": 32,
     "metadata": {},
     "output_type": "execute_result"
    },
    {
     "data": {
      "image/png": "[encoded data removed]",
      "text/plain": [
       "<Figure size 432x288 with 1 Axes>"
      ]
     },
     "metadata": {
      "needs_background": "light"
     },
     "output_type": "display_data"
    }
   ],
   "source": [
    "df_fixed_aspect.fixed_aspect.value_counts().sort_index().plot(kind=\"bar\")"
   ]
  },
  {
   "cell_type": "markdown",
   "metadata": {},
   "source": [
    "### Content Rating"
   ]
  },
  {
   "cell_type": "code",
   "execution_count": 33,
   "metadata": {
    "ExecuteTime": {
     "end_time": "2020-04-02T03:59:45.496201Z",
     "start_time": "2020-04-02T03:59:45.492146Z"
    }
   },
   "outputs": [
    {
     "data": {
      "text/plain": [
       "0.05096446700507614"
      ]
     },
     "execution_count": 33,
     "metadata": {},
     "output_type": "execute_result"
    }
   ],
   "source": [
    "df_fixed_aspect.content_rating.isna().mean()"
   ]
  },
  {
   "cell_type": "code",
   "execution_count": 34,
   "metadata": {
    "ExecuteTime": {
     "end_time": "2020-04-02T03:59:45.638738Z",
     "start_time": "2020-04-02T03:59:45.497318Z"
    }
   },
   "outputs": [
    {
     "data": {
      "text/plain": [
       "<matplotlib.axes._subplots.AxesSubplot at 0x122092610>"
      ]
     },
     "execution_count": 34,
     "metadata": {},
     "output_type": "execute_result"
    },
    {
     "data": {
      "image/png": "[encoded data removed]",
      "text/plain": [
       "<Figure size 432x288 with 1 Axes>"
      ]
     },
     "metadata": {
      "needs_background": "light"
     },
     "output_type": "display_data"
    }
   ],
   "source": [
    "df_fixed_aspect.content_rating.value_counts().plot(kind=\"bar\")"
   ]
  },
  {
   "cell_type": "markdown",
   "metadata": {},
   "source": [
    "Just gonna fill nulls with PG-13 and condense redundant ones"
   ]
  },
  {
   "cell_type": "code",
   "execution_count": 35,
   "metadata": {
    "ExecuteTime": {
     "end_time": "2020-04-02T03:59:45.644356Z",
     "start_time": "2020-04-02T03:59:45.639844Z"
    }
   },
   "outputs": [],
   "source": [
    "df_content_rating_filled = df_fixed_aspect.assign(\n",
    "                                content_rating=df_fixed_aspect.content_rating.fillna(\"PG-13\")\n",
    "                           )"
   ]
  },
  {
   "cell_type": "code",
   "execution_count": 36,
   "metadata": {
    "ExecuteTime": {
     "end_time": "2020-04-02T03:59:45.648421Z",
     "start_time": "2020-04-02T03:59:45.645399Z"
    }
   },
   "outputs": [],
   "source": [
    "def rating_mapper(rating):\n",
    "    if rating == \"Not Rated\":\n",
    "        return \"Unrated\"\n",
    "    elif rating in \"Approved Passed M TV-14\".split():\n",
    "        return \"PG-13\"\n",
    "    elif rating in \"TV-G GP G TV-PG\".split():\n",
    "        return \"PG\"\n",
    "    elif rating in [\"NC-17\"]:\n",
    "        return \"X\"\n",
    "    else:\n",
    "        return rating"
   ]
  },
  {
   "cell_type": "code",
   "execution_count": 37,
   "metadata": {
    "ExecuteTime": {
     "end_time": "2020-04-02T03:59:45.656383Z",
     "start_time": "2020-04-02T03:59:45.649545Z"
    }
   },
   "outputs": [],
   "source": [
    "df_content_rating_condensed = df_content_rating_filled.assign(\n",
    "                                content_rating = df_content_rating_filled.content_rating.map(rating_mapper)\n",
    "                              )"
   ]
  },
  {
   "cell_type": "code",
   "execution_count": 38,
   "metadata": {
    "ExecuteTime": {
     "end_time": "2020-04-02T03:59:45.759990Z",
     "start_time": "2020-04-02T03:59:45.657636Z"
    }
   },
   "outputs": [
    {
     "data": {
      "text/plain": [
       "<matplotlib.axes._subplots.AxesSubplot at 0x122158150>"
      ]
     },
     "execution_count": 38,
     "metadata": {},
     "output_type": "execute_result"
    },
    {
     "data": {
      "image/png": "[encoded data removed]",
      "text/plain": [
       "<Figure size 432x288 with 1 Axes>"
      ]
     },
     "metadata": {
      "needs_background": "light"
     },
     "output_type": "display_data"
    }
   ],
   "source": [
    "df_content_rating_condensed.content_rating.value_counts().plot(kind=\"bar\")"
   ]
  },
  {
   "cell_type": "code",
   "execution_count": 39,
   "metadata": {
    "ExecuteTime": {
     "end_time": "2020-04-02T03:59:45.765105Z",
     "start_time": "2020-04-02T03:59:45.761373Z"
    }
   },
   "outputs": [
    {
     "data": {
      "text/plain": [
       "0.0"
      ]
     },
     "execution_count": 39,
     "metadata": {},
     "output_type": "execute_result"
    }
   ],
   "source": [
    "df_content_rating_condensed.content_rating.isna().mean()"
   ]
  },
  {
   "cell_type": "markdown",
   "metadata": {},
   "source": [
    "How are we doing on null values globally?"
   ]
  },
  {
   "cell_type": "code",
   "execution_count": 40,
   "metadata": {
    "ExecuteTime": {
     "end_time": "2020-04-02T03:59:45.943278Z",
     "start_time": "2020-04-02T03:59:45.766384Z"
    }
   },
   "outputs": [
    {
     "data": {
      "text/plain": [
       "[]"
      ]
     },
     "execution_count": 40,
     "metadata": {},
     "output_type": "execute_result"
    },
    {
     "data": {
      "image/png": "[encoded data removed]",
      "text/plain": [
       "<Figure size 1080x576 with 1 Axes>"
      ]
     },
     "metadata": {
      "needs_background": "light"
     },
     "output_type": "display_data"
    }
   ],
   "source": [
    "nulls_update = df_content_rating_condensed.isna().sum()[\n",
    "    df_content_rating_condensed.isna().sum() > 0\n",
    "].sort_values(ascending=False)\n",
    "\n",
    "nulls_update.plot(kind='bar', figsize=(15,8), rot=45).plot()"
   ]
  },
  {
   "cell_type": "markdown",
   "metadata": {},
   "source": [
    "Clearing some memory:"
   ]
  },
  {
   "cell_type": "code",
   "execution_count": 41,
   "metadata": {
    "ExecuteTime": {
     "end_time": "2020-04-02T03:59:45.947699Z",
     "start_time": "2020-04-02T03:59:45.944441Z"
    }
   },
   "outputs": [],
   "source": [
    "# del nulls\n",
    "# del imdb_ids\n",
    "# del kaggle_data\n",
    "del best_budget\n",
    "del df_lesscols\n",
    "del df_best_guess_budget\n",
    "del df_filled_budget\n",
    "del df_content_rating_filled\n",
    "del df_fixed_aspect"
   ]
  },
  {
   "cell_type": "markdown",
   "metadata": {},
   "source": [
    "### Facebook Like Counts"
   ]
  },
  {
   "cell_type": "code",
   "execution_count": 42,
   "metadata": {
    "ExecuteTime": {
     "end_time": "2020-04-02T03:59:45.959557Z",
     "start_time": "2020-04-02T03:59:45.948725Z"
    }
   },
   "outputs": [
    {
     "data": {
      "text/html": [
       "<div>\n",
       "<style scoped>\n",
       "    .dataframe tbody tr th:only-of-type {\n",
       "        vertical-align: middle;\n",
       "    }\n",
       "\n",
       "    .dataframe tbody tr th {\n",
       "        vertical-align: top;\n",
       "    }\n",
       "\n",
       "    .dataframe thead th {\n",
       "        text-align: right;\n",
       "    }\n",
       "</style>\n",
       "<table border=\"1\" class=\"dataframe\">\n",
       "  <thead>\n",
       "    <tr style=\"text-align: right;\">\n",
       "      <th></th>\n",
       "      <th>actor_1_facebook_likes</th>\n",
       "      <th>actor_2_facebook_likes</th>\n",
       "      <th>actor_3_facebook_likes</th>\n",
       "      <th>director_facebook_likes</th>\n",
       "      <th>cast_total_facebook_likes</th>\n",
       "    </tr>\n",
       "  </thead>\n",
       "  <tbody>\n",
       "    <tr>\n",
       "      <th>0</th>\n",
       "      <td>45.0</td>\n",
       "      <td>5.0</td>\n",
       "      <td>0.0</td>\n",
       "      <td>43.0</td>\n",
       "      <td>50</td>\n",
       "    </tr>\n",
       "    <tr>\n",
       "      <th>1</th>\n",
       "      <td>541.0</td>\n",
       "      <td>8.0</td>\n",
       "      <td>2.0</td>\n",
       "      <td>12.0</td>\n",
       "      <td>553</td>\n",
       "    </tr>\n",
       "    <tr>\n",
       "      <th>2</th>\n",
       "      <td>21.0</td>\n",
       "      <td>3.0</td>\n",
       "      <td>0.0</td>\n",
       "      <td>117.0</td>\n",
       "      <td>24</td>\n",
       "    </tr>\n",
       "    <tr>\n",
       "      <th>3</th>\n",
       "      <td>14000.0</td>\n",
       "      <td>81.0</td>\n",
       "      <td>29.0</td>\n",
       "      <td>32.0</td>\n",
       "      <td>14133</td>\n",
       "    </tr>\n",
       "    <tr>\n",
       "      <th>4</th>\n",
       "      <td>927.0</td>\n",
       "      <td>509.0</td>\n",
       "      <td>503.0</td>\n",
       "      <td>23.0</td>\n",
       "      <td>3552</td>\n",
       "    </tr>\n",
       "  </tbody>\n",
       "</table>\n",
       "</div>"
      ],
      "text/plain": [
       "   actor_1_facebook_likes  actor_2_facebook_likes  actor_3_facebook_likes  \\\n",
       "0                    45.0                     5.0                     0.0   \n",
       "1                   541.0                     8.0                     2.0   \n",
       "2                    21.0                     3.0                     0.0   \n",
       "3                 14000.0                    81.0                    29.0   \n",
       "4                   927.0                   509.0                   503.0   \n",
       "\n",
       "   director_facebook_likes  cast_total_facebook_likes  \n",
       "0                     43.0                         50  \n",
       "1                     12.0                        553  \n",
       "2                    117.0                         24  \n",
       "3                     32.0                      14133  \n",
       "4                     23.0                       3552  "
      ]
     },
     "execution_count": 42,
     "metadata": {},
     "output_type": "execute_result"
    }
   ],
   "source": [
    "facebook_like_cols = [col for col in df_content_rating_condensed if \"facebook\" in col]\n",
    "likes = df_content_rating_condensed[facebook_like_cols]\n",
    "\n",
    "df_content_rating_condensed.drop(facebook_like_cols, axis=1, inplace=True)\n",
    "\n",
    "likes.head()"
   ]
  },
  {
   "cell_type": "code",
   "execution_count": 43,
   "metadata": {
    "ExecuteTime": {
     "end_time": "2020-04-02T03:59:45.967170Z",
     "start_time": "2020-04-02T03:59:45.960694Z"
    }
   },
   "outputs": [
    {
     "data": {
      "text/plain": [
       "actor_3_facebook_likes       0.32%\n",
       "actor_2_facebook_likes       0.18%\n",
       "actor_1_facebook_likes       0.12%\n",
       "director_facebook_likes      0.04%\n",
       "cast_total_facebook_likes     0.0%\n",
       "dtype: object"
      ]
     },
     "execution_count": 43,
     "metadata": {},
     "output_type": "execute_result"
    }
   ],
   "source": [
    "(round(likes.isna().mean()*100,2)).sort_values(ascending=False).astype('str')+\"%\""
   ]
  },
  {
   "cell_type": "markdown",
   "metadata": {},
   "source": [
    "Not that many values are missing. Will just use the medians."
   ]
  },
  {
   "cell_type": "code",
   "execution_count": 44,
   "metadata": {
    "ExecuteTime": {
     "end_time": "2020-04-02T03:59:45.975338Z",
     "start_time": "2020-04-02T03:59:45.968269Z"
    }
   },
   "outputs": [
    {
     "name": "stderr",
     "output_type": "stream",
     "text": [
      "/Users/admin/.local/share/virtualenvs/Good-Film-Bad-Film-vaMlpeB4/lib/python3.7/site-packages/pandas/core/generic.py:6245: SettingWithCopyWarning: \n",
      "A value is trying to be set on a copy of a slice from a DataFrame\n",
      "\n",
      "See the caveats in the documentation: https://pandas.pydata.org/pandas-docs/stable/user_guide/indexing.html#returning-a-view-versus-a-copy\n",
      "  self._update_inplace(new_data)\n"
     ]
    }
   ],
   "source": [
    "likes.fillna({col:likes[col].median() for col in likes.columns}, inplace=True)"
   ]
  },
  {
   "cell_type": "code",
   "execution_count": 45,
   "metadata": {
    "ExecuteTime": {
     "end_time": "2020-04-02T03:59:45.980926Z",
     "start_time": "2020-04-02T03:59:45.976486Z"
    }
   },
   "outputs": [],
   "source": [
    "df_likes_filled = pd.concat([df_content_rating_condensed,\n",
    "                             likes], axis=1)"
   ]
  },
  {
   "cell_type": "code",
   "execution_count": 46,
   "metadata": {
    "ExecuteTime": {
     "end_time": "2020-04-02T03:59:45.984441Z",
     "start_time": "2020-04-02T03:59:45.982195Z"
    }
   },
   "outputs": [],
   "source": [
    "del df_content_rating_condensed\n",
    "del likes"
   ]
  },
  {
   "cell_type": "markdown",
   "metadata": {},
   "source": [
    "Time for another check-in:"
   ]
  },
  {
   "cell_type": "code",
   "execution_count": 47,
   "metadata": {
    "ExecuteTime": {
     "end_time": "2020-04-02T03:59:46.135456Z",
     "start_time": "2020-04-02T03:59:45.985457Z"
    }
   },
   "outputs": [
    {
     "data": {
      "image/png": "[encoded data removed]",
      "text/plain": [
       "<Figure size 1080x576 with 1 Axes>"
      ]
     },
     "metadata": {
      "needs_background": "light"
     },
     "output_type": "display_data"
    }
   ],
   "source": [
    "nulls_update = df_likes_filled.isna().sum()[\n",
    "    df_likes_filled.isna().sum() > 0\n",
    "].sort_values(ascending=False)\n",
    "\n",
    "nulls_update.plot(kind='bar', figsize=(15,8), rot=45).plot()\n",
    "\n",
    "del nulls_update"
   ]
  },
  {
   "cell_type": "markdown",
   "metadata": {},
   "source": [
    "### Color"
   ]
  },
  {
   "cell_type": "code",
   "execution_count": 48,
   "metadata": {
    "ExecuteTime": {
     "end_time": "2020-04-02T03:59:46.142993Z",
     "start_time": "2020-04-02T03:59:46.136552Z"
    }
   },
   "outputs": [
    {
     "data": {
      "text/plain": [
       "Color              4704\n",
       "Black and White     206\n",
       "Name: color, dtype: int64"
      ]
     },
     "execution_count": 48,
     "metadata": {},
     "output_type": "execute_result"
    }
   ],
   "source": [
    "df_likes_filled.color = df_likes_filled.color.str.lstrip()\n",
    "df_likes_filled.color.value_counts()"
   ]
  },
  {
   "cell_type": "markdown",
   "metadata": {},
   "source": [
    "Seems safe to assume that the last dozen films are in color..."
   ]
  },
  {
   "cell_type": "code",
   "execution_count": 49,
   "metadata": {
    "ExecuteTime": {
     "end_time": "2020-04-02T03:59:46.148371Z",
     "start_time": "2020-04-02T03:59:46.144167Z"
    }
   },
   "outputs": [],
   "source": [
    "df_likes_filled.color = df_likes_filled.color.fillna(df_likes_filled.color.mode()[0])\n",
    "df_color_filled = df_likes_filled.copy()"
   ]
  },
  {
   "cell_type": "code",
   "execution_count": 50,
   "metadata": {
    "ExecuteTime": {
     "end_time": "2020-04-02T03:59:46.151498Z",
     "start_time": "2020-04-02T03:59:46.149533Z"
    }
   },
   "outputs": [],
   "source": [
    "del df_likes_filled"
   ]
  },
  {
   "cell_type": "code",
   "execution_count": 51,
   "metadata": {
    "ExecuteTime": {
     "end_time": "2020-04-02T03:59:46.176588Z",
     "start_time": "2020-04-02T03:59:46.152730Z"
    }
   },
   "outputs": [
    {
     "data": {
      "text/html": [
       "<div>\n",
       "<style scoped>\n",
       "    .dataframe tbody tr th:only-of-type {\n",
       "        vertical-align: middle;\n",
       "    }\n",
       "\n",
       "    .dataframe tbody tr th {\n",
       "        vertical-align: top;\n",
       "    }\n",
       "\n",
       "    .dataframe thead th {\n",
       "        text-align: right;\n",
       "    }\n",
       "</style>\n",
       "<table border=\"1\" class=\"dataframe\">\n",
       "  <thead>\n",
       "    <tr style=\"text-align: right;\">\n",
       "      <th></th>\n",
       "      <th>duration</th>\n",
       "      <th>adult</th>\n",
       "      <th>language</th>\n",
       "      <th>original_language</th>\n",
       "      <th>production_countries</th>\n",
       "      <th>runtime</th>\n",
       "      <th>spoken_languages</th>\n",
       "      <th>color</th>\n",
       "      <th>genres_api</th>\n",
       "      <th>title</th>\n",
       "      <th>...</th>\n",
       "      <th>facenumber_in_poster</th>\n",
       "      <th>imdb_score</th>\n",
       "      <th>revenue</th>\n",
       "      <th>filled_budget</th>\n",
       "      <th>fixed_aspect</th>\n",
       "      <th>actor_1_facebook_likes</th>\n",
       "      <th>actor_2_facebook_likes</th>\n",
       "      <th>actor_3_facebook_likes</th>\n",
       "      <th>director_facebook_likes</th>\n",
       "      <th>cast_total_facebook_likes</th>\n",
       "    </tr>\n",
       "  </thead>\n",
       "  <tbody>\n",
       "    <tr>\n",
       "      <th>0</th>\n",
       "      <td>156.0</td>\n",
       "      <td>False</td>\n",
       "      <td>Korean</td>\n",
       "      <td>ko</td>\n",
       "      <td>[{'iso_3166_1': 'KR', 'name': 'South Korea'}]</td>\n",
       "      <td>156.0</td>\n",
       "      <td>[{'iso_639_1': 'de', 'name': 'Deutsch'}, {'iso...</td>\n",
       "      <td>Color</td>\n",
       "      <td>Fantasy|Horror|Mystery|Thriller</td>\n",
       "      <td>The Wailing</td>\n",
       "      <td>...</td>\n",
       "      <td>0.0</td>\n",
       "      <td>7.7</td>\n",
       "      <td>47098491</td>\n",
       "      <td>10951000.0</td>\n",
       "      <td>2.39</td>\n",
       "      <td>45.0</td>\n",
       "      <td>5.0</td>\n",
       "      <td>0.0</td>\n",
       "      <td>43.0</td>\n",
       "      <td>50</td>\n",
       "    </tr>\n",
       "    <tr>\n",
       "      <th>1</th>\n",
       "      <td>102.0</td>\n",
       "      <td>False</td>\n",
       "      <td>French</td>\n",
       "      <td>fr</td>\n",
       "      <td>[{'iso_3166_1': 'FR', 'name': 'France'}]</td>\n",
       "      <td>102.0</td>\n",
       "      <td>[{'iso_639_1': 'fr', 'name': 'Français'}]</td>\n",
       "      <td>Color</td>\n",
       "      <td>Comedy|Drama</td>\n",
       "      <td>The Country Doctor</td>\n",
       "      <td>...</td>\n",
       "      <td>2.0</td>\n",
       "      <td>7.2</td>\n",
       "      <td>0</td>\n",
       "      <td>19500000.0</td>\n",
       "      <td>1.85</td>\n",
       "      <td>541.0</td>\n",
       "      <td>8.0</td>\n",
       "      <td>2.0</td>\n",
       "      <td>12.0</td>\n",
       "      <td>553</td>\n",
       "    </tr>\n",
       "    <tr>\n",
       "      <th>2</th>\n",
       "      <td>100.0</td>\n",
       "      <td>False</td>\n",
       "      <td>English</td>\n",
       "      <td>en</td>\n",
       "      <td>[{'iso_3166_1': 'US', 'name': 'United States o...</td>\n",
       "      <td>100.0</td>\n",
       "      <td>[{'iso_639_1': 'en', 'name': 'English'}]</td>\n",
       "      <td>Color</td>\n",
       "      <td>Documentary</td>\n",
       "      <td>Time to Choose</td>\n",
       "      <td>...</td>\n",
       "      <td>0.0</td>\n",
       "      <td>7.0</td>\n",
       "      <td>0</td>\n",
       "      <td>3500000.0</td>\n",
       "      <td>1.85</td>\n",
       "      <td>21.0</td>\n",
       "      <td>3.0</td>\n",
       "      <td>0.0</td>\n",
       "      <td>117.0</td>\n",
       "      <td>24</td>\n",
       "    </tr>\n",
       "  </tbody>\n",
       "</table>\n",
       "<p>3 rows × 24 columns</p>\n",
       "</div>"
      ],
      "text/plain": [
       "   duration  adult language original_language  \\\n",
       "0     156.0  False   Korean                ko   \n",
       "1     102.0  False   French                fr   \n",
       "2     100.0  False  English                en   \n",
       "\n",
       "                                production_countries  runtime  \\\n",
       "0      [{'iso_3166_1': 'KR', 'name': 'South Korea'}]    156.0   \n",
       "1           [{'iso_3166_1': 'FR', 'name': 'France'}]    102.0   \n",
       "2  [{'iso_3166_1': 'US', 'name': 'United States o...    100.0   \n",
       "\n",
       "                                    spoken_languages  color  \\\n",
       "0  [{'iso_639_1': 'de', 'name': 'Deutsch'}, {'iso...  Color   \n",
       "1          [{'iso_639_1': 'fr', 'name': 'Français'}]  Color   \n",
       "2           [{'iso_639_1': 'en', 'name': 'English'}]  Color   \n",
       "\n",
       "                        genres_api               title  ...  \\\n",
       "0  Fantasy|Horror|Mystery|Thriller         The Wailing  ...   \n",
       "1                     Comedy|Drama  The Country Doctor  ...   \n",
       "2                      Documentary      Time to Choose  ...   \n",
       "\n",
       "  facenumber_in_poster imdb_score   revenue filled_budget  fixed_aspect  \\\n",
       "0                  0.0        7.7  47098491    10951000.0          2.39   \n",
       "1                  2.0        7.2         0    19500000.0          1.85   \n",
       "2                  0.0        7.0         0     3500000.0          1.85   \n",
       "\n",
       "   actor_1_facebook_likes  actor_2_facebook_likes  actor_3_facebook_likes  \\\n",
       "0                    45.0                     5.0                     0.0   \n",
       "1                   541.0                     8.0                     2.0   \n",
       "2                    21.0                     3.0                     0.0   \n",
       "\n",
       "  director_facebook_likes  cast_total_facebook_likes  \n",
       "0                    43.0                         50  \n",
       "1                    12.0                        553  \n",
       "2                   117.0                         24  \n",
       "\n",
       "[3 rows x 24 columns]"
      ]
     },
     "execution_count": 51,
     "metadata": {},
     "output_type": "execute_result"
    }
   ],
   "source": [
    "df_color_filled.head(3)"
   ]
  },
  {
   "cell_type": "code",
   "execution_count": 52,
   "metadata": {
    "ExecuteTime": {
     "end_time": "2020-04-02T03:59:46.181321Z",
     "start_time": "2020-04-02T03:59:46.177627Z"
    }
   },
   "outputs": [
    {
     "data": {
      "text/plain": [
       "0.0"
      ]
     },
     "execution_count": 52,
     "metadata": {},
     "output_type": "execute_result"
    }
   ],
   "source": [
    "df_color_filled.color.isna().mean()"
   ]
  },
  {
   "cell_type": "markdown",
   "metadata": {},
   "source": [
    "### Face Number in Poster"
   ]
  },
  {
   "cell_type": "code",
   "execution_count": 53,
   "metadata": {
    "ExecuteTime": {
     "end_time": "2020-04-02T03:59:46.337092Z",
     "start_time": "2020-04-02T03:59:46.182530Z"
    }
   },
   "outputs": [
    {
     "data": {
      "text/plain": [
       "<matplotlib.axes._subplots.AxesSubplot at 0x12296aa50>"
      ]
     },
     "execution_count": 53,
     "metadata": {},
     "output_type": "execute_result"
    },
    {
     "data": {
      "image/png": "[encoded data removed]",
      "text/plain": [
       "<Figure size 432x288 with 1 Axes>"
      ]
     },
     "metadata": {
      "needs_background": "light"
     },
     "output_type": "display_data"
    }
   ],
   "source": [
    "df_color_filled.facenumber_in_poster.value_counts().plot(kind='bar')"
   ]
  },
  {
   "cell_type": "markdown",
   "metadata": {},
   "source": [
    "Zero seems to be a placeholder for \"idk\" in this dataset, I'll drop this column."
   ]
  },
  {
   "cell_type": "code",
   "execution_count": 54,
   "metadata": {
    "ExecuteTime": {
     "end_time": "2020-04-02T03:59:46.365482Z",
     "start_time": "2020-04-02T03:59:46.338330Z"
    }
   },
   "outputs": [
    {
     "data": {
      "text/html": [
       "<div>\n",
       "<style scoped>\n",
       "    .dataframe tbody tr th:only-of-type {\n",
       "        vertical-align: middle;\n",
       "    }\n",
       "\n",
       "    .dataframe tbody tr th {\n",
       "        vertical-align: top;\n",
       "    }\n",
       "\n",
       "    .dataframe thead th {\n",
       "        text-align: right;\n",
       "    }\n",
       "</style>\n",
       "<table border=\"1\" class=\"dataframe\">\n",
       "  <thead>\n",
       "    <tr style=\"text-align: right;\">\n",
       "      <th></th>\n",
       "      <th>duration</th>\n",
       "      <th>adult</th>\n",
       "      <th>language</th>\n",
       "      <th>original_language</th>\n",
       "      <th>production_countries</th>\n",
       "      <th>runtime</th>\n",
       "      <th>spoken_languages</th>\n",
       "      <th>color</th>\n",
       "      <th>genres_api</th>\n",
       "      <th>title</th>\n",
       "      <th>...</th>\n",
       "      <th>content_rating</th>\n",
       "      <th>imdb_score</th>\n",
       "      <th>revenue</th>\n",
       "      <th>filled_budget</th>\n",
       "      <th>fixed_aspect</th>\n",
       "      <th>actor_1_facebook_likes</th>\n",
       "      <th>actor_2_facebook_likes</th>\n",
       "      <th>actor_3_facebook_likes</th>\n",
       "      <th>director_facebook_likes</th>\n",
       "      <th>cast_total_facebook_likes</th>\n",
       "    </tr>\n",
       "  </thead>\n",
       "  <tbody>\n",
       "    <tr>\n",
       "      <th>0</th>\n",
       "      <td>156.0</td>\n",
       "      <td>False</td>\n",
       "      <td>Korean</td>\n",
       "      <td>ko</td>\n",
       "      <td>[{'iso_3166_1': 'KR', 'name': 'South Korea'}]</td>\n",
       "      <td>156.0</td>\n",
       "      <td>[{'iso_639_1': 'de', 'name': 'Deutsch'}, {'iso...</td>\n",
       "      <td>Color</td>\n",
       "      <td>Fantasy|Horror|Mystery|Thriller</td>\n",
       "      <td>The Wailing</td>\n",
       "      <td>...</td>\n",
       "      <td>Unrated</td>\n",
       "      <td>7.7</td>\n",
       "      <td>47098491</td>\n",
       "      <td>10951000.0</td>\n",
       "      <td>2.39</td>\n",
       "      <td>45.0</td>\n",
       "      <td>5.0</td>\n",
       "      <td>0.0</td>\n",
       "      <td>43.0</td>\n",
       "      <td>50</td>\n",
       "    </tr>\n",
       "    <tr>\n",
       "      <th>1</th>\n",
       "      <td>102.0</td>\n",
       "      <td>False</td>\n",
       "      <td>French</td>\n",
       "      <td>fr</td>\n",
       "      <td>[{'iso_3166_1': 'FR', 'name': 'France'}]</td>\n",
       "      <td>102.0</td>\n",
       "      <td>[{'iso_639_1': 'fr', 'name': 'Français'}]</td>\n",
       "      <td>Color</td>\n",
       "      <td>Comedy|Drama</td>\n",
       "      <td>The Country Doctor</td>\n",
       "      <td>...</td>\n",
       "      <td>PG-13</td>\n",
       "      <td>7.2</td>\n",
       "      <td>0</td>\n",
       "      <td>19500000.0</td>\n",
       "      <td>1.85</td>\n",
       "      <td>541.0</td>\n",
       "      <td>8.0</td>\n",
       "      <td>2.0</td>\n",
       "      <td>12.0</td>\n",
       "      <td>553</td>\n",
       "    </tr>\n",
       "    <tr>\n",
       "      <th>2</th>\n",
       "      <td>100.0</td>\n",
       "      <td>False</td>\n",
       "      <td>English</td>\n",
       "      <td>en</td>\n",
       "      <td>[{'iso_3166_1': 'US', 'name': 'United States o...</td>\n",
       "      <td>100.0</td>\n",
       "      <td>[{'iso_639_1': 'en', 'name': 'English'}]</td>\n",
       "      <td>Color</td>\n",
       "      <td>Documentary</td>\n",
       "      <td>Time to Choose</td>\n",
       "      <td>...</td>\n",
       "      <td>PG-13</td>\n",
       "      <td>7.0</td>\n",
       "      <td>0</td>\n",
       "      <td>3500000.0</td>\n",
       "      <td>1.85</td>\n",
       "      <td>21.0</td>\n",
       "      <td>3.0</td>\n",
       "      <td>0.0</td>\n",
       "      <td>117.0</td>\n",
       "      <td>24</td>\n",
       "    </tr>\n",
       "    <tr>\n",
       "      <th>3</th>\n",
       "      <td>115.0</td>\n",
       "      <td>False</td>\n",
       "      <td>English</td>\n",
       "      <td>ko</td>\n",
       "      <td>[{'iso_3166_1': 'KR', 'name': 'South Korea'}]</td>\n",
       "      <td>111.0</td>\n",
       "      <td>[{'iso_639_1': 'en', 'name': 'English'}, {'iso...</td>\n",
       "      <td>Color</td>\n",
       "      <td>Action|Drama|History|War</td>\n",
       "      <td>Operation Chromite</td>\n",
       "      <td>...</td>\n",
       "      <td>PG-13</td>\n",
       "      <td>6.8</td>\n",
       "      <td>49196532</td>\n",
       "      <td>12660000.0</td>\n",
       "      <td>1.85</td>\n",
       "      <td>14000.0</td>\n",
       "      <td>81.0</td>\n",
       "      <td>29.0</td>\n",
       "      <td>32.0</td>\n",
       "      <td>14133</td>\n",
       "    </tr>\n",
       "    <tr>\n",
       "      <th>4</th>\n",
       "      <td>96.0</td>\n",
       "      <td>False</td>\n",
       "      <td>English</td>\n",
       "      <td>en</td>\n",
       "      <td>[{'iso_3166_1': 'US', 'name': 'United States o...</td>\n",
       "      <td>96.0</td>\n",
       "      <td>[{'iso_639_1': 'en', 'name': 'English'}]</td>\n",
       "      <td>Color</td>\n",
       "      <td>Comedy|Romance</td>\n",
       "      <td>The Perfect Match</td>\n",
       "      <td>...</td>\n",
       "      <td>R</td>\n",
       "      <td>4.5</td>\n",
       "      <td>0</td>\n",
       "      <td>5000000.0</td>\n",
       "      <td>1.85</td>\n",
       "      <td>927.0</td>\n",
       "      <td>509.0</td>\n",
       "      <td>503.0</td>\n",
       "      <td>23.0</td>\n",
       "      <td>3552</td>\n",
       "    </tr>\n",
       "  </tbody>\n",
       "</table>\n",
       "<p>5 rows × 23 columns</p>\n",
       "</div>"
      ],
      "text/plain": [
       "   duration  adult language original_language  \\\n",
       "0     156.0  False   Korean                ko   \n",
       "1     102.0  False   French                fr   \n",
       "2     100.0  False  English                en   \n",
       "3     115.0  False  English                ko   \n",
       "4      96.0  False  English                en   \n",
       "\n",
       "                                production_countries  runtime  \\\n",
       "0      [{'iso_3166_1': 'KR', 'name': 'South Korea'}]    156.0   \n",
       "1           [{'iso_3166_1': 'FR', 'name': 'France'}]    102.0   \n",
       "2  [{'iso_3166_1': 'US', 'name': 'United States o...    100.0   \n",
       "3      [{'iso_3166_1': 'KR', 'name': 'South Korea'}]    111.0   \n",
       "4  [{'iso_3166_1': 'US', 'name': 'United States o...     96.0   \n",
       "\n",
       "                                    spoken_languages  color  \\\n",
       "0  [{'iso_639_1': 'de', 'name': 'Deutsch'}, {'iso...  Color   \n",
       "1          [{'iso_639_1': 'fr', 'name': 'Français'}]  Color   \n",
       "2           [{'iso_639_1': 'en', 'name': 'English'}]  Color   \n",
       "3  [{'iso_639_1': 'en', 'name': 'English'}, {'iso...  Color   \n",
       "4           [{'iso_639_1': 'en', 'name': 'English'}]  Color   \n",
       "\n",
       "                        genres_api               title  ... content_rating  \\\n",
       "0  Fantasy|Horror|Mystery|Thriller         The Wailing  ...        Unrated   \n",
       "1                     Comedy|Drama  The Country Doctor  ...          PG-13   \n",
       "2                      Documentary      Time to Choose  ...          PG-13   \n",
       "3         Action|Drama|History|War  Operation Chromite  ...          PG-13   \n",
       "4                   Comedy|Romance   The Perfect Match  ...              R   \n",
       "\n",
       "  imdb_score   revenue filled_budget  fixed_aspect  actor_1_facebook_likes  \\\n",
       "0        7.7  47098491    10951000.0          2.39                    45.0   \n",
       "1        7.2         0    19500000.0          1.85                   541.0   \n",
       "2        7.0         0     3500000.0          1.85                    21.0   \n",
       "3        6.8  49196532    12660000.0          1.85                 14000.0   \n",
       "4        4.5         0     5000000.0          1.85                   927.0   \n",
       "\n",
       "   actor_2_facebook_likes actor_3_facebook_likes  director_facebook_likes  \\\n",
       "0                     5.0                    0.0                     43.0   \n",
       "1                     8.0                    2.0                     12.0   \n",
       "2                     3.0                    0.0                    117.0   \n",
       "3                    81.0                   29.0                     32.0   \n",
       "4                   509.0                  503.0                     23.0   \n",
       "\n",
       "   cast_total_facebook_likes  \n",
       "0                         50  \n",
       "1                        553  \n",
       "2                         24  \n",
       "3                      14133  \n",
       "4                       3552  \n",
       "\n",
       "[5 rows x 23 columns]"
      ]
     },
     "execution_count": 54,
     "metadata": {},
     "output_type": "execute_result"
    }
   ],
   "source": [
    "df_no_facenums = df_color_filled.drop(['facenumber_in_poster'],axis=1)\n",
    "del df_color_filled\n",
    "df_no_facenums.head()"
   ]
  },
  {
   "cell_type": "markdown",
   "metadata": {},
   "source": [
    "### Language (\"original... spoken... language\")"
   ]
  },
  {
   "cell_type": "code",
   "execution_count": 55,
   "metadata": {
    "ExecuteTime": {
     "end_time": "2020-04-02T03:59:46.382561Z",
     "start_time": "2020-04-02T03:59:46.366673Z"
    }
   },
   "outputs": [
    {
     "data": {
      "text/html": [
       "<div>\n",
       "<style scoped>\n",
       "    .dataframe tbody tr th:only-of-type {\n",
       "        vertical-align: middle;\n",
       "    }\n",
       "\n",
       "    .dataframe tbody tr th {\n",
       "        vertical-align: top;\n",
       "    }\n",
       "\n",
       "    .dataframe thead th {\n",
       "        text-align: right;\n",
       "    }\n",
       "</style>\n",
       "<table border=\"1\" class=\"dataframe\">\n",
       "  <thead>\n",
       "    <tr style=\"text-align: right;\">\n",
       "      <th></th>\n",
       "      <th>language</th>\n",
       "      <th>original_language</th>\n",
       "      <th>spoken_languages</th>\n",
       "    </tr>\n",
       "  </thead>\n",
       "  <tbody>\n",
       "    <tr>\n",
       "      <th>0</th>\n",
       "      <td>Korean</td>\n",
       "      <td>ko</td>\n",
       "      <td>[{'iso_639_1': 'de', 'name': 'Deutsch'}, {'iso...</td>\n",
       "    </tr>\n",
       "    <tr>\n",
       "      <th>1</th>\n",
       "      <td>French</td>\n",
       "      <td>fr</td>\n",
       "      <td>[{'iso_639_1': 'fr', 'name': 'Français'}]</td>\n",
       "    </tr>\n",
       "    <tr>\n",
       "      <th>2</th>\n",
       "      <td>English</td>\n",
       "      <td>en</td>\n",
       "      <td>[{'iso_639_1': 'en', 'name': 'English'}]</td>\n",
       "    </tr>\n",
       "    <tr>\n",
       "      <th>3</th>\n",
       "      <td>English</td>\n",
       "      <td>ko</td>\n",
       "      <td>[{'iso_639_1': 'en', 'name': 'English'}, {'iso...</td>\n",
       "    </tr>\n",
       "    <tr>\n",
       "      <th>4</th>\n",
       "      <td>English</td>\n",
       "      <td>en</td>\n",
       "      <td>[{'iso_639_1': 'en', 'name': 'English'}]</td>\n",
       "    </tr>\n",
       "    <tr>\n",
       "      <th>5</th>\n",
       "      <td>English</td>\n",
       "      <td>en</td>\n",
       "      <td>[{'iso_639_1': 'en', 'name': 'English'}]</td>\n",
       "    </tr>\n",
       "    <tr>\n",
       "      <th>6</th>\n",
       "      <td>English</td>\n",
       "      <td>en</td>\n",
       "      <td>[{'iso_639_1': 'en', 'name': 'English'}]</td>\n",
       "    </tr>\n",
       "    <tr>\n",
       "      <th>7</th>\n",
       "      <td>English</td>\n",
       "      <td>en</td>\n",
       "      <td>[{'iso_639_1': 'en', 'name': 'English'}]</td>\n",
       "    </tr>\n",
       "    <tr>\n",
       "      <th>8</th>\n",
       "      <td>Romanian</td>\n",
       "      <td>ro</td>\n",
       "      <td>[{'iso_639_1': 'ro', 'name': 'Română'}]</td>\n",
       "    </tr>\n",
       "    <tr>\n",
       "      <th>9</th>\n",
       "      <td>English</td>\n",
       "      <td>en</td>\n",
       "      <td>[{'iso_639_1': 'en', 'name': 'English'}]</td>\n",
       "    </tr>\n",
       "    <tr>\n",
       "      <th>10</th>\n",
       "      <td>English</td>\n",
       "      <td>en</td>\n",
       "      <td>[{'iso_639_1': 'en', 'name': 'English'}]</td>\n",
       "    </tr>\n",
       "    <tr>\n",
       "      <th>11</th>\n",
       "      <td>English</td>\n",
       "      <td>en</td>\n",
       "      <td>[{'iso_639_1': 'ru', 'name': 'Pусский'}, {'iso...</td>\n",
       "    </tr>\n",
       "    <tr>\n",
       "      <th>12</th>\n",
       "      <td>English</td>\n",
       "      <td>en</td>\n",
       "      <td>[{'iso_639_1': 'ru', 'name': 'Pусский'}, {'iso...</td>\n",
       "    </tr>\n",
       "    <tr>\n",
       "      <th>13</th>\n",
       "      <td>English</td>\n",
       "      <td>zh</td>\n",
       "      <td>[{'iso_639_1': 'zh', 'name': '普通话'}]</td>\n",
       "    </tr>\n",
       "    <tr>\n",
       "      <th>14</th>\n",
       "      <td>Urdu</td>\n",
       "      <td>ur</td>\n",
       "      <td>[{'iso_639_1': 'ur', 'name': 'اردو'}]</td>\n",
       "    </tr>\n",
       "  </tbody>\n",
       "</table>\n",
       "</div>"
      ],
      "text/plain": [
       "    language original_language  \\\n",
       "0     Korean                ko   \n",
       "1     French                fr   \n",
       "2    English                en   \n",
       "3    English                ko   \n",
       "4    English                en   \n",
       "5    English                en   \n",
       "6    English                en   \n",
       "7    English                en   \n",
       "8   Romanian                ro   \n",
       "9    English                en   \n",
       "10   English                en   \n",
       "11   English                en   \n",
       "12   English                en   \n",
       "13   English                zh   \n",
       "14      Urdu                ur   \n",
       "\n",
       "                                     spoken_languages  \n",
       "0   [{'iso_639_1': 'de', 'name': 'Deutsch'}, {'iso...  \n",
       "1           [{'iso_639_1': 'fr', 'name': 'Français'}]  \n",
       "2            [{'iso_639_1': 'en', 'name': 'English'}]  \n",
       "3   [{'iso_639_1': 'en', 'name': 'English'}, {'iso...  \n",
       "4            [{'iso_639_1': 'en', 'name': 'English'}]  \n",
       "5            [{'iso_639_1': 'en', 'name': 'English'}]  \n",
       "6            [{'iso_639_1': 'en', 'name': 'English'}]  \n",
       "7            [{'iso_639_1': 'en', 'name': 'English'}]  \n",
       "8             [{'iso_639_1': 'ro', 'name': 'Română'}]  \n",
       "9            [{'iso_639_1': 'en', 'name': 'English'}]  \n",
       "10           [{'iso_639_1': 'en', 'name': 'English'}]  \n",
       "11  [{'iso_639_1': 'ru', 'name': 'Pусский'}, {'iso...  \n",
       "12  [{'iso_639_1': 'ru', 'name': 'Pусский'}, {'iso...  \n",
       "13               [{'iso_639_1': 'zh', 'name': '普通话'}]  \n",
       "14              [{'iso_639_1': 'ur', 'name': 'اردو'}]  "
      ]
     },
     "execution_count": 55,
     "metadata": {},
     "output_type": "execute_result"
    }
   ],
   "source": [
    "langs = df_no_facenums[[col for col in df_no_facenums.columns if \"language\" in col]]\n",
    "langs.head(15)"
   ]
  },
  {
   "cell_type": "code",
   "execution_count": 56,
   "metadata": {
    "ExecuteTime": {
     "end_time": "2020-04-02T03:59:46.388540Z",
     "start_time": "2020-04-02T03:59:46.383810Z"
    }
   },
   "outputs": [
    {
     "data": {
      "text/plain": [
       "language             0.001827\n",
       "original_language    0.000000\n",
       "spoken_languages     0.000000\n",
       "dtype: float64"
      ]
     },
     "execution_count": 56,
     "metadata": {},
     "output_type": "execute_result"
    }
   ],
   "source": [
    "langs.isna().mean()"
   ]
  },
  {
   "cell_type": "code",
   "execution_count": 57,
   "metadata": {
    "ExecuteTime": {
     "end_time": "2020-04-02T03:59:46.394489Z",
     "start_time": "2020-04-02T03:59:46.389733Z"
    }
   },
   "outputs": [
    {
     "data": {
      "text/plain": [
       "duration                                                                   119\n",
       "adult                                                                    False\n",
       "language                                                               English\n",
       "original_language                                                           zh\n",
       "production_countries         [{'iso_3166_1': 'HK', 'name': 'Hong Kong'}, {'...\n",
       "runtime                                                                    120\n",
       "spoken_languages                          [{'iso_639_1': 'zh', 'name': '普通话'}]\n",
       "color                                                                    Color\n",
       "genres_api                                            Action|Adventure|Fantasy\n",
       "title                                                        The Monkey King 2\n",
       "movie_title                       Xi you ji zhi: Sun Wukong san da Baigu Jing \n",
       "original_title                                                    西游记之孙悟空三打白骨精\n",
       "overview                     Taking place 500 years after the Havoc in Heav...\n",
       "content_rating                                                           PG-13\n",
       "imdb_score                                                                   6\n",
       "revenue                                                              193677158\n",
       "filled_budget                                                      6.82475e+07\n",
       "fixed_aspect                                                              2.39\n",
       "actor_1_facebook_likes                                                     879\n",
       "actor_2_facebook_likes                                                     107\n",
       "actor_3_facebook_likes                                                      22\n",
       "director_facebook_likes                                                      3\n",
       "cast_total_facebook_likes                                                 1026\n",
       "Name: 13, dtype: object"
      ]
     },
     "execution_count": 57,
     "metadata": {},
     "output_type": "execute_result"
    }
   ],
   "source": [
    "df_no_facenums.loc[13]"
   ]
  },
  {
   "cell_type": "markdown",
   "metadata": {},
   "source": [
    "The \"language\" column looks not great. \"original language\" is probably a better bet."
   ]
  },
  {
   "cell_type": "code",
   "execution_count": 58,
   "metadata": {
    "ExecuteTime": {
     "end_time": "2020-04-02T03:59:46.400649Z",
     "start_time": "2020-04-02T03:59:46.395548Z"
    }
   },
   "outputs": [
    {
     "data": {
      "text/plain": [
       "4920    [{'iso_639_1': 'xx', 'name': 'No Language'}]\n",
       "4921    [{'iso_639_1': 'xx', 'name': 'No Language'}]\n",
       "4922    [{'iso_639_1': 'xx', 'name': 'No Language'}]\n",
       "4923    [{'iso_639_1': 'xx', 'name': 'No Language'}]\n",
       "4924    [{'iso_639_1': 'xx', 'name': 'No Language'}]\n",
       "Name: spoken_languages, dtype: object"
      ]
     },
     "execution_count": 58,
     "metadata": {},
     "output_type": "execute_result"
    }
   ],
   "source": [
    "df_no_facenums.spoken_languages.tail()"
   ]
  },
  {
   "cell_type": "code",
   "execution_count": 59,
   "metadata": {
    "ExecuteTime": {
     "end_time": "2020-04-02T03:59:46.406938Z",
     "start_time": "2020-04-02T03:59:46.402068Z"
    }
   },
   "outputs": [
    {
     "data": {
      "text/plain": [
       "4920    de\n",
       "4921    de\n",
       "4922    en\n",
       "4923    en\n",
       "4924    en\n",
       "Name: original_language, dtype: object"
      ]
     },
     "execution_count": 59,
     "metadata": {},
     "output_type": "execute_result"
    }
   ],
   "source": [
    "df_no_facenums.original_language.tail()"
   ]
  },
  {
   "cell_type": "markdown",
   "metadata": {},
   "source": [
    "Yeah I think that's probably the best column."
   ]
  },
  {
   "cell_type": "code",
   "execution_count": 60,
   "metadata": {
    "ExecuteTime": {
     "end_time": "2020-04-02T03:59:46.415555Z",
     "start_time": "2020-04-02T03:59:46.409286Z"
    }
   },
   "outputs": [
    {
     "data": {
      "text/plain": [
       "en    4602\n",
       "fr      74\n",
       "es      34\n",
       "zh      29\n",
       "hi      29\n",
       "de      27\n",
       "ja      17\n",
       "cn      14\n",
       "ko      12\n",
       "ru      11\n",
       "Name: original_language, dtype: int64"
      ]
     },
     "execution_count": 60,
     "metadata": {},
     "output_type": "execute_result"
    }
   ],
   "source": [
    "df_no_facenums.original_language.value_counts().head(10)"
   ]
  },
  {
   "cell_type": "markdown",
   "metadata": {},
   "source": [
    "Using a python package to make language codes human-readable:"
   ]
  },
  {
   "cell_type": "code",
   "execution_count": 61,
   "metadata": {
    "ExecuteTime": {
     "end_time": "2020-04-02T03:59:46.488002Z",
     "start_time": "2020-04-02T03:59:46.417018Z"
    }
   },
   "outputs": [
    {
     "data": {
      "text/plain": [
       "[('aa', 'Afar'),\n",
       " ('ab', 'Abkhazian'),\n",
       " ('af', 'Afrikaans'),\n",
       " ('ak', 'Akan'),\n",
       " ('am', 'Amharic')]"
      ]
     },
     "execution_count": 61,
     "metadata": {},
     "output_type": "execute_result"
    }
   ],
   "source": [
    "lang_decoder = {lang.alpha_2: lang.name for lang in languages if hasattr(lang,'alpha_2')}\n",
    "list(lang_decoder.items())[:5]"
   ]
  },
  {
   "cell_type": "code",
   "execution_count": 62,
   "metadata": {
    "ExecuteTime": {
     "end_time": "2020-04-02T03:59:46.733953Z",
     "start_time": "2020-04-02T03:59:46.489123Z"
    }
   },
   "outputs": [
    {
     "data": {
      "text/plain": [
       "<matplotlib.axes._subplots.AxesSubplot at 0x122e00a10>"
      ]
     },
     "execution_count": 62,
     "metadata": {},
     "output_type": "execute_result"
    },
    {
     "data": {
      "image/png": "[encoded data removed]",
      "text/plain": [
       "<Figure size 432x288 with 1 Axes>"
      ]
     },
     "metadata": {
      "needs_background": "light"
     },
     "output_type": "display_data"
    }
   ],
   "source": [
    "df_no_facenums.original_language = df_no_facenums.original_language.map(lang_decoder)\n",
    "df_no_facenums.original_language.value_counts()[2:].plot(kind='bar')"
   ]
  },
  {
   "cell_type": "markdown",
   "metadata": {},
   "source": [
    "Just eyeballing it...I think anything after German, in terms of frequency, is gonna have to go in \"other\""
   ]
  },
  {
   "cell_type": "markdown",
   "metadata": {},
   "source": [
    "Grabbing most popular languages:"
   ]
  },
  {
   "cell_type": "code",
   "execution_count": 63,
   "metadata": {
    "ExecuteTime": {
     "end_time": "2020-04-02T03:59:46.740476Z",
     "start_time": "2020-04-02T03:59:46.735122Z"
    }
   },
   "outputs": [
    {
     "data": {
      "text/plain": [
       "['English', 'French', 'Spanish', 'Hindi', 'Chinese', 'German']"
      ]
     },
     "execution_count": 63,
     "metadata": {},
     "output_type": "execute_result"
    }
   ],
   "source": [
    "top_langs = df_no_facenums.original_language.value_counts().index[:6].tolist()\n",
    "top_langs"
   ]
  },
  {
   "cell_type": "code",
   "execution_count": 64,
   "metadata": {
    "ExecuteTime": {
     "end_time": "2020-04-02T03:59:46.745409Z",
     "start_time": "2020-04-02T03:59:46.742186Z"
    }
   },
   "outputs": [],
   "source": [
    "def language_lumper(lang):\n",
    "    if lang not in top_langs:\n",
    "        return \"Other\"\n",
    "    else:\n",
    "        return lang"
   ]
  },
  {
   "cell_type": "code",
   "execution_count": 65,
   "metadata": {
    "ExecuteTime": {
     "end_time": "2020-04-02T03:59:46.750864Z",
     "start_time": "2020-04-02T03:59:46.746861Z"
    }
   },
   "outputs": [],
   "source": [
    "df_no_facenums.original_language = df_no_facenums.original_language.apply(language_lumper)"
   ]
  },
  {
   "cell_type": "code",
   "execution_count": 66,
   "metadata": {
    "ExecuteTime": {
     "end_time": "2020-04-02T03:59:46.756924Z",
     "start_time": "2020-04-02T03:59:46.752399Z"
    }
   },
   "outputs": [],
   "source": [
    "df_langs_lumped = df_no_facenums.drop(\"language spoken_languages\".split(),axis=1)\n",
    "del df_no_facenums\n",
    "del langs"
   ]
  },
  {
   "cell_type": "code",
   "execution_count": 67,
   "metadata": {
    "ExecuteTime": {
     "end_time": "2020-04-02T03:59:46.785524Z",
     "start_time": "2020-04-02T03:59:46.758546Z"
    }
   },
   "outputs": [
    {
     "data": {
      "text/html": [
       "<div>\n",
       "<style scoped>\n",
       "    .dataframe tbody tr th:only-of-type {\n",
       "        vertical-align: middle;\n",
       "    }\n",
       "\n",
       "    .dataframe tbody tr th {\n",
       "        vertical-align: top;\n",
       "    }\n",
       "\n",
       "    .dataframe thead th {\n",
       "        text-align: right;\n",
       "    }\n",
       "</style>\n",
       "<table border=\"1\" class=\"dataframe\">\n",
       "  <thead>\n",
       "    <tr style=\"text-align: right;\">\n",
       "      <th></th>\n",
       "      <th>duration</th>\n",
       "      <th>adult</th>\n",
       "      <th>original_language</th>\n",
       "      <th>production_countries</th>\n",
       "      <th>runtime</th>\n",
       "      <th>color</th>\n",
       "      <th>genres_api</th>\n",
       "      <th>title</th>\n",
       "      <th>movie_title</th>\n",
       "      <th>original_title</th>\n",
       "      <th>...</th>\n",
       "      <th>content_rating</th>\n",
       "      <th>imdb_score</th>\n",
       "      <th>revenue</th>\n",
       "      <th>filled_budget</th>\n",
       "      <th>fixed_aspect</th>\n",
       "      <th>actor_1_facebook_likes</th>\n",
       "      <th>actor_2_facebook_likes</th>\n",
       "      <th>actor_3_facebook_likes</th>\n",
       "      <th>director_facebook_likes</th>\n",
       "      <th>cast_total_facebook_likes</th>\n",
       "    </tr>\n",
       "  </thead>\n",
       "  <tbody>\n",
       "    <tr>\n",
       "      <th>0</th>\n",
       "      <td>156.0</td>\n",
       "      <td>False</td>\n",
       "      <td>Other</td>\n",
       "      <td>[{'iso_3166_1': 'KR', 'name': 'South Korea'}]</td>\n",
       "      <td>156.0</td>\n",
       "      <td>Color</td>\n",
       "      <td>Fantasy|Horror|Mystery|Thriller</td>\n",
       "      <td>The Wailing</td>\n",
       "      <td>The Wailing</td>\n",
       "      <td>곡성</td>\n",
       "      <td>...</td>\n",
       "      <td>Unrated</td>\n",
       "      <td>7.7</td>\n",
       "      <td>47098491</td>\n",
       "      <td>10951000.0</td>\n",
       "      <td>2.39</td>\n",
       "      <td>45.0</td>\n",
       "      <td>5.0</td>\n",
       "      <td>0.0</td>\n",
       "      <td>43.0</td>\n",
       "      <td>50</td>\n",
       "    </tr>\n",
       "    <tr>\n",
       "      <th>1</th>\n",
       "      <td>102.0</td>\n",
       "      <td>False</td>\n",
       "      <td>French</td>\n",
       "      <td>[{'iso_3166_1': 'FR', 'name': 'France'}]</td>\n",
       "      <td>102.0</td>\n",
       "      <td>Color</td>\n",
       "      <td>Comedy|Drama</td>\n",
       "      <td>The Country Doctor</td>\n",
       "      <td>Irreplaceable</td>\n",
       "      <td>Médecin de campagne</td>\n",
       "      <td>...</td>\n",
       "      <td>PG-13</td>\n",
       "      <td>7.2</td>\n",
       "      <td>0</td>\n",
       "      <td>19500000.0</td>\n",
       "      <td>1.85</td>\n",
       "      <td>541.0</td>\n",
       "      <td>8.0</td>\n",
       "      <td>2.0</td>\n",
       "      <td>12.0</td>\n",
       "      <td>553</td>\n",
       "    </tr>\n",
       "    <tr>\n",
       "      <th>2</th>\n",
       "      <td>100.0</td>\n",
       "      <td>False</td>\n",
       "      <td>English</td>\n",
       "      <td>[{'iso_3166_1': 'US', 'name': 'United States o...</td>\n",
       "      <td>100.0</td>\n",
       "      <td>Color</td>\n",
       "      <td>Documentary</td>\n",
       "      <td>Time to Choose</td>\n",
       "      <td>Time to Choose</td>\n",
       "      <td>Time to Choose</td>\n",
       "      <td>...</td>\n",
       "      <td>PG-13</td>\n",
       "      <td>7.0</td>\n",
       "      <td>0</td>\n",
       "      <td>3500000.0</td>\n",
       "      <td>1.85</td>\n",
       "      <td>21.0</td>\n",
       "      <td>3.0</td>\n",
       "      <td>0.0</td>\n",
       "      <td>117.0</td>\n",
       "      <td>24</td>\n",
       "    </tr>\n",
       "    <tr>\n",
       "      <th>3</th>\n",
       "      <td>115.0</td>\n",
       "      <td>False</td>\n",
       "      <td>Other</td>\n",
       "      <td>[{'iso_3166_1': 'KR', 'name': 'South Korea'}]</td>\n",
       "      <td>111.0</td>\n",
       "      <td>Color</td>\n",
       "      <td>Action|Drama|History|War</td>\n",
       "      <td>Operation Chromite</td>\n",
       "      <td>Operation Chromite</td>\n",
       "      <td>인천상륙작전</td>\n",
       "      <td>...</td>\n",
       "      <td>PG-13</td>\n",
       "      <td>6.8</td>\n",
       "      <td>49196532</td>\n",
       "      <td>12660000.0</td>\n",
       "      <td>1.85</td>\n",
       "      <td>14000.0</td>\n",
       "      <td>81.0</td>\n",
       "      <td>29.0</td>\n",
       "      <td>32.0</td>\n",
       "      <td>14133</td>\n",
       "    </tr>\n",
       "    <tr>\n",
       "      <th>4</th>\n",
       "      <td>96.0</td>\n",
       "      <td>False</td>\n",
       "      <td>English</td>\n",
       "      <td>[{'iso_3166_1': 'US', 'name': 'United States o...</td>\n",
       "      <td>96.0</td>\n",
       "      <td>Color</td>\n",
       "      <td>Comedy|Romance</td>\n",
       "      <td>The Perfect Match</td>\n",
       "      <td>The Perfect Match</td>\n",
       "      <td>The Perfect Match</td>\n",
       "      <td>...</td>\n",
       "      <td>R</td>\n",
       "      <td>4.5</td>\n",
       "      <td>0</td>\n",
       "      <td>5000000.0</td>\n",
       "      <td>1.85</td>\n",
       "      <td>927.0</td>\n",
       "      <td>509.0</td>\n",
       "      <td>503.0</td>\n",
       "      <td>23.0</td>\n",
       "      <td>3552</td>\n",
       "    </tr>\n",
       "  </tbody>\n",
       "</table>\n",
       "<p>5 rows × 21 columns</p>\n",
       "</div>"
      ],
      "text/plain": [
       "   duration  adult original_language  \\\n",
       "0     156.0  False             Other   \n",
       "1     102.0  False            French   \n",
       "2     100.0  False           English   \n",
       "3     115.0  False             Other   \n",
       "4      96.0  False           English   \n",
       "\n",
       "                                production_countries  runtime  color  \\\n",
       "0      [{'iso_3166_1': 'KR', 'name': 'South Korea'}]    156.0  Color   \n",
       "1           [{'iso_3166_1': 'FR', 'name': 'France'}]    102.0  Color   \n",
       "2  [{'iso_3166_1': 'US', 'name': 'United States o...    100.0  Color   \n",
       "3      [{'iso_3166_1': 'KR', 'name': 'South Korea'}]    111.0  Color   \n",
       "4  [{'iso_3166_1': 'US', 'name': 'United States o...     96.0  Color   \n",
       "\n",
       "                        genres_api               title          movie_title  \\\n",
       "0  Fantasy|Horror|Mystery|Thriller         The Wailing         The Wailing    \n",
       "1                     Comedy|Drama  The Country Doctor       Irreplaceable    \n",
       "2                      Documentary      Time to Choose      Time to Choose    \n",
       "3         Action|Drama|History|War  Operation Chromite  Operation Chromite    \n",
       "4                   Comedy|Romance   The Perfect Match   The Perfect Match    \n",
       "\n",
       "        original_title  ... content_rating imdb_score   revenue  \\\n",
       "0                   곡성  ...        Unrated        7.7  47098491   \n",
       "1  Médecin de campagne  ...          PG-13        7.2         0   \n",
       "2       Time to Choose  ...          PG-13        7.0         0   \n",
       "3               인천상륙작전  ...          PG-13        6.8  49196532   \n",
       "4    The Perfect Match  ...              R        4.5         0   \n",
       "\n",
       "   filled_budget  fixed_aspect actor_1_facebook_likes  actor_2_facebook_likes  \\\n",
       "0     10951000.0          2.39                   45.0                     5.0   \n",
       "1     19500000.0          1.85                  541.0                     8.0   \n",
       "2      3500000.0          1.85                   21.0                     3.0   \n",
       "3     12660000.0          1.85                14000.0                    81.0   \n",
       "4      5000000.0          1.85                  927.0                   509.0   \n",
       "\n",
       "   actor_3_facebook_likes  director_facebook_likes  cast_total_facebook_likes  \n",
       "0                     0.0                     43.0                         50  \n",
       "1                     2.0                     12.0                        553  \n",
       "2                     0.0                    117.0                         24  \n",
       "3                    29.0                     32.0                      14133  \n",
       "4                   503.0                     23.0                       3552  \n",
       "\n",
       "[5 rows x 21 columns]"
      ]
     },
     "execution_count": 67,
     "metadata": {},
     "output_type": "execute_result"
    }
   ],
   "source": [
    "df_langs_lumped.head()"
   ]
  },
  {
   "cell_type": "code",
   "execution_count": 68,
   "metadata": {
    "ExecuteTime": {
     "end_time": "2020-04-02T03:59:46.927411Z",
     "start_time": "2020-04-02T03:59:46.794463Z"
    }
   },
   "outputs": [
    {
     "data": {
      "image/png": "[encoded data removed]",
      "text/plain": [
       "<Figure size 1080x576 with 1 Axes>"
      ]
     },
     "metadata": {
      "needs_background": "light"
     },
     "output_type": "display_data"
    }
   ],
   "source": [
    "nulls = df_langs_lumped.isna().sum()[df_langs_lumped.isna().sum() > 0].sort_values(ascending=False)\n",
    "\n",
    "nulls.plot(kind='bar', figsize=(15,8)).plot()\n",
    "\n",
    "del nulls"
   ]
  },
  {
   "cell_type": "markdown",
   "metadata": {},
   "source": [
    "### Duration / Runtime"
   ]
  },
  {
   "cell_type": "code",
   "execution_count": 69,
   "metadata": {
    "ExecuteTime": {
     "end_time": "2020-04-02T03:59:46.937830Z",
     "start_time": "2020-04-02T03:59:46.931445Z"
    }
   },
   "outputs": [
    {
     "data": {
      "text/html": [
       "<div>\n",
       "<style scoped>\n",
       "    .dataframe tbody tr th:only-of-type {\n",
       "        vertical-align: middle;\n",
       "    }\n",
       "\n",
       "    .dataframe tbody tr th {\n",
       "        vertical-align: top;\n",
       "    }\n",
       "\n",
       "    .dataframe thead th {\n",
       "        text-align: right;\n",
       "    }\n",
       "</style>\n",
       "<table border=\"1\" class=\"dataframe\">\n",
       "  <thead>\n",
       "    <tr style=\"text-align: right;\">\n",
       "      <th></th>\n",
       "      <th>duration</th>\n",
       "      <th>runtime</th>\n",
       "    </tr>\n",
       "  </thead>\n",
       "  <tbody>\n",
       "    <tr>\n",
       "      <th>0</th>\n",
       "      <td>156.0</td>\n",
       "      <td>156.0</td>\n",
       "    </tr>\n",
       "    <tr>\n",
       "      <th>1</th>\n",
       "      <td>102.0</td>\n",
       "      <td>102.0</td>\n",
       "    </tr>\n",
       "    <tr>\n",
       "      <th>2</th>\n",
       "      <td>100.0</td>\n",
       "      <td>100.0</td>\n",
       "    </tr>\n",
       "    <tr>\n",
       "      <th>3</th>\n",
       "      <td>115.0</td>\n",
       "      <td>111.0</td>\n",
       "    </tr>\n",
       "    <tr>\n",
       "      <th>4</th>\n",
       "      <td>96.0</td>\n",
       "      <td>96.0</td>\n",
       "    </tr>\n",
       "  </tbody>\n",
       "</table>\n",
       "</div>"
      ],
      "text/plain": [
       "   duration  runtime\n",
       "0     156.0    156.0\n",
       "1     102.0    102.0\n",
       "2     100.0    100.0\n",
       "3     115.0    111.0\n",
       "4      96.0     96.0"
      ]
     },
     "execution_count": 69,
     "metadata": {},
     "output_type": "execute_result"
    }
   ],
   "source": [
    "durs = df_langs_lumped[\"duration runtime\".split()]\n",
    "durs.head()"
   ]
  },
  {
   "cell_type": "markdown",
   "metadata": {
    "ExecuteTime": {
     "end_time": "2020-04-02T02:47:21.610275Z",
     "start_time": "2020-04-02T02:47:21.606596Z"
    }
   },
   "source": [
    "How different are these columns?"
   ]
  },
  {
   "cell_type": "code",
   "execution_count": 70,
   "metadata": {
    "ExecuteTime": {
     "end_time": "2020-04-02T03:59:47.053826Z",
     "start_time": "2020-04-02T03:59:46.938930Z"
    }
   },
   "outputs": [
    {
     "data": {
      "text/plain": [
       "0.9466829466829467"
      ]
     },
     "execution_count": 70,
     "metadata": {},
     "output_type": "execute_result"
    },
    {
     "data": {
      "image/png": "[encoded data removed]",
      "text/plain": [
       "<Figure size 432x288 with 1 Axes>"
      ]
     },
     "metadata": {
      "needs_background": "light"
     },
     "output_type": "display_data"
    }
   ],
   "source": [
    "(durs.duration - durs.runtime).plot(kind='hist')\n",
    "(durs.duration - durs.runtime).mean()"
   ]
  },
  {
   "cell_type": "markdown",
   "metadata": {},
   "source": [
    "Not very."
   ]
  },
  {
   "cell_type": "code",
   "execution_count": 71,
   "metadata": {
    "ExecuteTime": {
     "end_time": "2020-04-02T03:59:47.059048Z",
     "start_time": "2020-04-02T03:59:47.054979Z"
    }
   },
   "outputs": [],
   "source": [
    "df_langs_lumped.drop([\"duration\"],axis=1,inplace=True)"
   ]
  },
  {
   "cell_type": "code",
   "execution_count": 72,
   "metadata": {
    "ExecuteTime": {
     "end_time": "2020-04-02T03:59:47.067995Z",
     "start_time": "2020-04-02T03:59:47.060805Z"
    }
   },
   "outputs": [],
   "source": [
    "df_runtimes_filled = df_langs_lumped.assign(\n",
    "    durations=df_langs_lumped.runtime.fillna(\n",
    "        df_langs_lumped.runtime.median()\n",
    "    )\n",
    ").drop([\"runtime\"],axis=1)\n",
    "\n",
    "del df_langs_lumped\n",
    "del durs"
   ]
  },
  {
   "cell_type": "code",
   "execution_count": 73,
   "metadata": {
    "ExecuteTime": {
     "end_time": "2020-04-02T03:59:47.076192Z",
     "start_time": "2020-04-02T03:59:47.069440Z"
    }
   },
   "outputs": [
    {
     "data": {
      "text/plain": [
       "adult                        0.0\n",
       "original_language            0.0\n",
       "production_countries         0.0\n",
       "color                        0.0\n",
       "genres_api                   0.0\n",
       "title                        0.0\n",
       "movie_title                  0.0\n",
       "original_title               0.0\n",
       "overview                     0.0\n",
       "content_rating               0.0\n",
       "imdb_score                   0.0\n",
       "revenue                      0.0\n",
       "filled_budget                0.0\n",
       "fixed_aspect                 0.0\n",
       "actor_1_facebook_likes       0.0\n",
       "actor_2_facebook_likes       0.0\n",
       "actor_3_facebook_likes       0.0\n",
       "director_facebook_likes      0.0\n",
       "cast_total_facebook_likes    0.0\n",
       "durations                    0.0\n",
       "dtype: float64"
      ]
     },
     "execution_count": 73,
     "metadata": {},
     "output_type": "execute_result"
    }
   ],
   "source": [
    "df_runtimes_filled.isna().mean()"
   ]
  },
  {
   "cell_type": "markdown",
   "metadata": {},
   "source": [
    "**No more obvious nulls!**"
   ]
  },
  {
   "cell_type": "markdown",
   "metadata": {},
   "source": [
    "## Column Inspections"
   ]
  },
  {
   "cell_type": "markdown",
   "metadata": {},
   "source": [
    "### \"Adult\""
   ]
  },
  {
   "cell_type": "code",
   "execution_count": 74,
   "metadata": {
    "ExecuteTime": {
     "end_time": "2020-04-02T03:59:47.081721Z",
     "start_time": "2020-04-02T03:59:47.077255Z"
    }
   },
   "outputs": [
    {
     "data": {
      "text/plain": [
       "False    4925\n",
       "Name: adult, dtype: int64"
      ]
     },
     "execution_count": 74,
     "metadata": {},
     "output_type": "execute_result"
    }
   ],
   "source": [
    "df_runtimes_filled.adult.value_counts()"
   ]
  },
  {
   "cell_type": "markdown",
   "metadata": {},
   "source": [
    "Single-value column. Drop it"
   ]
  },
  {
   "cell_type": "code",
   "execution_count": 75,
   "metadata": {
    "ExecuteTime": {
     "end_time": "2020-04-02T03:59:47.087033Z",
     "start_time": "2020-04-02T03:59:47.082970Z"
    }
   },
   "outputs": [],
   "source": [
    "df_no_adult = df_runtimes_filled.drop([\"adult\"],axis=1)\n",
    "del df_runtimes_filled"
   ]
  },
  {
   "cell_type": "markdown",
   "metadata": {},
   "source": [
    "### Production Countries"
   ]
  },
  {
   "cell_type": "code",
   "execution_count": 76,
   "metadata": {
    "ExecuteTime": {
     "end_time": "2020-04-02T03:59:47.094774Z",
     "start_time": "2020-04-02T03:59:47.088218Z"
    }
   },
   "outputs": [
    {
     "data": {
      "text/plain": [
       "(0        [{'iso_3166_1': 'KR', 'name': 'South Korea'}]\n",
       " 1             [{'iso_3166_1': 'FR', 'name': 'France'}]\n",
       " 2    [{'iso_3166_1': 'US', 'name': 'United States o...\n",
       " 3        [{'iso_3166_1': 'KR', 'name': 'South Korea'}]\n",
       " 4    [{'iso_3166_1': 'US', 'name': 'United States o...\n",
       " Name: production_countries, dtype: object,\n",
       " 4920            [{'iso_3166_1': 'DE', 'name': 'Germany'}]\n",
       " 4921            [{'iso_3166_1': 'DE', 'name': 'Germany'}]\n",
       " 4922    [{'iso_3166_1': 'US', 'name': 'United States o...\n",
       " 4923    [{'iso_3166_1': 'US', 'name': 'United States o...\n",
       " 4924    [{'iso_3166_1': 'US', 'name': 'United States o...\n",
       " Name: production_countries, dtype: object)"
      ]
     },
     "execution_count": 76,
     "metadata": {},
     "output_type": "execute_result"
    }
   ],
   "source": [
    "df_no_adult['production_countries'].head(), df_no_adult['production_countries'].tail()"
   ]
  },
  {
   "cell_type": "markdown",
   "metadata": {},
   "source": [
    "Let's just grab the human-readable names:"
   ]
  },
  {
   "cell_type": "code",
   "execution_count": 77,
   "metadata": {
    "ExecuteTime": {
     "end_time": "2020-04-02T03:59:47.099092Z",
     "start_time": "2020-04-02T03:59:47.096134Z"
    }
   },
   "outputs": [],
   "source": [
    "def prod_countries_extractor(countries):\n",
    "    if len(countries)!=0:\n",
    "        return {country['name'] for country in countries}\n",
    "    else:\n",
    "        return np.nan"
   ]
  },
  {
   "cell_type": "code",
   "execution_count": 78,
   "metadata": {
    "ExecuteTime": {
     "end_time": "2020-04-02T03:59:47.106124Z",
     "start_time": "2020-04-02T03:59:47.100225Z"
    }
   },
   "outputs": [],
   "source": [
    "df_no_adult.production_countries = df_no_adult.production_countries.apply(prod_countries_extractor)"
   ]
  },
  {
   "cell_type": "code",
   "execution_count": 79,
   "metadata": {
    "ExecuteTime": {
     "end_time": "2020-04-02T03:59:47.112115Z",
     "start_time": "2020-04-02T03:59:47.107292Z"
    }
   },
   "outputs": [
    {
     "data": {
      "text/plain": [
       "29                      {France, Belgium, Spain}\n",
       "30                    {United States of America}\n",
       "31                                           NaN\n",
       "32    {United Kingdom, United States of America}\n",
       "33                                       {Japan}\n",
       "34                                       {Japan}\n",
       "Name: production_countries, dtype: object"
      ]
     },
     "execution_count": 79,
     "metadata": {},
     "output_type": "execute_result"
    }
   ],
   "source": [
    "df_no_adult.production_countries.loc[29:34]"
   ]
  },
  {
   "cell_type": "code",
   "execution_count": 81,
   "metadata": {
    "ExecuteTime": {
     "end_time": "2020-04-02T04:00:06.614027Z",
     "start_time": "2020-04-02T04:00:06.611238Z"
    }
   },
   "outputs": [
    {
     "name": "stdout",
     "output_type": "stream",
     "text": [
      "Turns out 2.82% of production countries are missing\n"
     ]
    }
   ],
   "source": [
    "print(\"Turns out \"\n",
    "    f\"{round(df_no_adult.production_countries.isna().mean()*100,2)}%\"\n",
    "    \" of production countries are missing\"\n",
    ")"
   ]
  },
  {
   "cell_type": "code",
   "execution_count": null,
   "metadata": {
    "ExecuteTime": {
     "end_time": "2020-04-02T03:55:06.921484Z",
     "start_time": "2020-04-02T03:55:06.803490Z"
    }
   },
   "outputs": [],
   "source": [
    "df_no_adult.production_countries.dropna().apply(\n",
    "    lambda x: len(x)\n",
    ").value_counts().sort_index().plot(kind='bar').plot()"
   ]
  },
  {
   "cell_type": "code",
   "execution_count": null,
   "metadata": {
    "ExecuteTime": {
     "end_time": "2020-04-02T03:53:12.362776Z",
     "start_time": "2020-04-02T03:53:12.341562Z"
    }
   },
   "outputs": [],
   "source": [
    "df_no_adult[df_no_adult.production_countries.apply(lambda x: len(x) if type(x)==list else 0) > 6]"
   ]
  },
  {
   "cell_type": "markdown",
   "metadata": {},
   "source": [
    "***"
   ]
  },
  {
   "cell_type": "markdown",
   "metadata": {},
   "source": [
    "## Encoding for Regression Models"
   ]
  },
  {
   "cell_type": "markdown",
   "metadata": {},
   "source": [
    "### One-hot encoding Genres"
   ]
  },
  {
   "cell_type": "markdown",
   "metadata": {},
   "source": [
    "### Log Transforming \"Actor Facebook Likes\""
   ]
  },
  {
   "cell_type": "markdown",
   "metadata": {},
   "source": [
    "## Correlation Matrix"
   ]
  },
  {
   "cell_type": "markdown",
   "metadata": {},
   "source": [
    "Are there any redundant features? Are there any features obviously correlated with our dependent var?"
   ]
  },
  {
   "cell_type": "code",
   "execution_count": null,
   "metadata": {
    "ExecuteTime": {
     "end_time": "2020-04-02T03:14:00.627373Z",
     "start_time": "2020-04-02T03:14:00.480306Z"
    },
    "scrolled": true
   },
   "outputs": [],
   "source": [
    "# Creating a multi-scatter plot\n",
    "main_corr= main_df.drop(['binary_target'], axis=1).iloc[:,:]\n",
    "pd.plotting.scatter_matrix(main_corr, figsize=[15,15]);"
   ]
  },
  {
   "cell_type": "code",
   "execution_count": null,
   "metadata": {
    "ExecuteTime": {
     "end_time": "2020-04-02T03:14:00.743857Z",
     "start_time": "2020-04-02T03:14:00.737669Z"
    }
   },
   "outputs": [],
   "source": [
    "sns.heatmap(main_corr.corr(), center=0);"
   ]
  },
  {
   "cell_type": "markdown",
   "metadata": {},
   "source": [
    "# Structured-Only Linear Regression"
   ]
  },
  {
   "cell_type": "markdown",
   "metadata": {},
   "source": [
    "Let's start without incorporating the unstructured text data, just numerical and categorical info:"
   ]
  },
  {
   "cell_type": "markdown",
   "metadata": {},
   "source": [
    "Now that we've cleaned up a bit, we'll start throwing our features at a statsmodels logistic regression estimator to evaluate r^2 and p-values of various features."
   ]
  },
  {
   "cell_type": "code",
   "execution_count": null,
   "metadata": {},
   "outputs": [],
   "source": [
    "# check LogReg with all initial variables from main_df (note: no plot)\n",
    "s = (\"binary_target ~ Year + C(Action) + C(Adventure) + C(Animation) + C(Biography) + C(Comedy)\"\n",
    "                 \"+ C(Crime) + C(Documentary) + C(Drama) + C(Family) + C(Fantasy) + C(History)\"\n",
    "                 \"+ C(Horror) + C(Musical) + C(Mystery) + C(Romance) + C(Sci_Fi) + C(Sport)\"\n",
    "                 \"+ C(Thriller) + C(War)+ C(Western)\"\n",
    "                 \"+ Actor_1_fb_likes_logged + Actor_2_fb_likes_logged\"\n",
    "                 \"+ Actor_3_fb_likes_logged\")\n",
    "\n",
    "y, X = dmatrices(s, main_df, return_type=\"dataframe\")\n",
    "\n",
    "X_train, X_test, y_train, y_test = train_test_split(X, y, test_size =  0.2)\n",
    "\n",
    "logit_model = sm.Logit(y_train.iloc[:,0], X_train)\n",
    "result = logit_model.fit()\n",
    "\n",
    "print(result.summary())\n",
    "\n",
    "y_preds = result.predict(X_test)\n",
    "\n",
    "accuracy_score(y_test, y_preds >=.5)"
   ]
  },
  {
   "cell_type": "markdown",
   "metadata": {},
   "source": [
    "This gives us an idea of which features might be less important in the determination of what makes a movie \"good\". We'll drop the less pertinent features and try again:"
   ]
  },
  {
   "cell_type": "code",
   "execution_count": null,
   "metadata": {
    "scrolled": false
   },
   "outputs": [],
   "source": [
    "s = (\"binary_target ~ Year + C(Action) + C(Animation) + C(Biography) + C(Comedy)\"\n",
    "                 \"+ C(Documentary) + C(Drama) + C(Family)\"\n",
    "                 \"+ C(Horror) + C(Mystery) + C(Romance) + C(Sci_Fi)\"\n",
    "                 \"+ C(Thriller)\"\n",
    "                 \"+ Actor_1_fb_likes_logged + Actor_2_fb_likes_logged\"\n",
    "                 \"+ Actor_3_fb_likes_logged\")\n",
    "\n",
    "main_df = main_df.drop(['Adventure','Crime', 'Fantasy', 'History', 'Musical', 'Sport', 'War', 'Western'], axis=1)\n",
    "\n",
    "y, X = dmatrices(s, main_df, return_type = \"dataframe\")\n",
    "\n",
    "X_train, X_test, y_train, y_test = train_test_split(X, y, test_size =  0.2)\n",
    "\n",
    "logit_model = sm.Logit(y_train.iloc[:,0], X_train)\n",
    "result = logit_model.fit()\n",
    "\n",
    "print(result.summary())\n",
    "\n",
    "y_preds = result.predict(X_test)\n",
    "\n",
    "accuracy_score(y_test, y_preds >=.5)"
   ]
  },
  {
   "cell_type": "code",
   "execution_count": null,
   "metadata": {},
   "outputs": [],
   "source": [
    "main_df.columns"
   ]
  },
  {
   "cell_type": "markdown",
   "metadata": {},
   "source": [
    "These are the features we're sticking with for now."
   ]
  },
  {
   "cell_type": "markdown",
   "metadata": {},
   "source": [
    "It's fairly intuitive that the social media popularity of the leading actors would be positively correlated, but we'll leave it in in case there are deviations from that norm. It's interesting to note that films in the \"animation\" genre are so commonly also in the \"family\" genre. Makes sense too."
   ]
  },
  {
   "cell_type": "markdown",
   "metadata": {},
   "source": [
    "# Preparing Unstructured Features"
   ]
  },
  {
   "cell_type": "markdown",
   "metadata": {},
   "source": [
    "## Lemmatize / Vectorize"
   ]
  },
  {
   "cell_type": "code",
   "execution_count": null,
   "metadata": {},
   "outputs": [],
   "source": [
    "stop_words = set(stopwords.words('english'))\n",
    "lemmatizer = WordNetLemmatizer()\n",
    "\n",
    "def lemmatize(plot_list):\n",
    "    lemmatized_plots = []\n",
    "    \n",
    "    for plot in plot_list:\n",
    "        tokenized_lower = word_tokenize(plot.lower()) # Make plot summary lowercase and lemmatize        \n",
    "        tokenized_lower =[word for word in tokenized_lower if english_d.check(word)] # Make sure it's an english word\n",
    "        dirty_lemma = [lemmatizer.lemmatize(w, get_wordnet_pos(w)) for w in tokenized_lower] # Lemmatize\n",
    "        dirty_lemma_string = ' '.join(dirty_lemma)\n",
    "        \n",
    "        # Filter out words that don't match this regex pattern:\n",
    "        reg = re.compile((r\"([a-zA-Z]+(?:'[a-z]+)?)\"))\n",
    "        lemmatized_regex = [word_lem for word_lem in dirty_lemma if word_lem in reg.findall(dirty_lemma_string)]\n",
    "        \n",
    "        # Remove stop words\n",
    "        lemmatized = [word_lem for word_lem in lemmatized_regex if not word_lem in stop_words]\n",
    "        lemmatized_string = ' '.join(lemmatized)\n",
    "        lemmatized_plots.append(lemmatized_string)\n",
    "        \n",
    "    return lemmatized_plots"
   ]
  },
  {
   "cell_type": "code",
   "execution_count": null,
   "metadata": {},
   "outputs": [],
   "source": [
    "def get_wordnet_pos(word):\n",
    "    \"\"\"Map POS tag to the first character that lemmatize() accepts\"\"\"\n",
    "    tag = nltk.pos_tag([word])[0][1][0].upper()\n",
    "    tag_dict = {\"J\": wordnet.ADJ,\n",
    "                \"N\": wordnet.NOUN,\n",
    "                \"V\": wordnet.VERB,\n",
    "                \"R\": wordnet.ADV}\n",
    "\n",
    "    return tag_dict.get(tag, wordnet.NOUN)"
   ]
  },
  {
   "cell_type": "markdown",
   "metadata": {},
   "source": [
    "### Run the Lemmatizer"
   ]
  },
  {
   "cell_type": "code",
   "execution_count": null,
   "metadata": {
    "scrolled": false
   },
   "outputs": [],
   "source": [
    "all_plots = [plot for plot in df.loc[:,'Plot'].values] # Get all movie plots.\n",
    "plots = lemmatize(all_plots) # Lemmatize."
   ]
  },
  {
   "cell_type": "markdown",
   "metadata": {},
   "source": [
    "### Vectorizing Plots"
   ]
  },
  {
   "cell_type": "code",
   "execution_count": null,
   "metadata": {},
   "outputs": [],
   "source": [
    "# Term frequency = Number of times a word appears in a document / number of words in document\n",
    "# Inverse document frequency = log base e(number of documents / number of documents with word in it)\n",
    "# tf:idf = tf * idf\n",
    "\n",
    "tfidf = TfidfVectorizer()\n",
    "response = tfidf.fit_transform(plots)\n",
    "print(response.shape)\n",
    "\n",
    "tfidf_df = pd.DataFrame(response.toarray(), columns=tfidf.get_feature_names())"
   ]
  },
  {
   "cell_type": "markdown",
   "metadata": {},
   "source": [
    "Now we have all plots lemmatized as \"plots\" and vectorized / weighted as \"tfidf_df\"."
   ]
  },
  {
   "cell_type": "markdown",
   "metadata": {},
   "source": [
    "## Topic Clustering with LDA"
   ]
  },
  {
   "cell_type": "markdown",
   "metadata": {},
   "source": [
    "Gensim clusters words that appear together frequently. The clusters can be interpreted as general topics, and each movie gets weights indicating the degree to which it belongs to each topic. These weights are then re-incorporated as features in our dataset."
   ]
  },
  {
   "cell_type": "code",
   "execution_count": null,
   "metadata": {},
   "outputs": [],
   "source": [
    "all_words = [plot.split(' ') for plot in plots] # Just formatting our corpus how Gensim wants it"
   ]
  },
  {
   "cell_type": "code",
   "execution_count": null,
   "metadata": {},
   "outputs": [],
   "source": [
    "dictionary = corpora.Dictionary(all_words)\n",
    "corpus = [dictionary.doc2bow(text) for text in all_words]\n",
    "pickle.dump(corpus, open('pickles/corpus.pkl', 'wb'))\n",
    "dictionary.save('pickles/dictionary.gensim')"
   ]
  },
  {
   "cell_type": "code",
   "execution_count": null,
   "metadata": {},
   "outputs": [],
   "source": [
    "NUM_TOPICS = 50 # This value was arbitrarily chosen.\n",
    "ldamodel = gensim.models.ldamodel.LdaModel(corpus, num_topics = NUM_TOPICS, id2word=dictionary, passes=10) # Also arb\n",
    "ldamodel.save('pickles/model5.gensim')"
   ]
  },
  {
   "cell_type": "code",
   "execution_count": null,
   "metadata": {},
   "outputs": [],
   "source": [
    "topics = ldamodel.print_topics(num_words=4)\n",
    "topics # These are examples of some of the clusters created by Gensim."
   ]
  },
  {
   "cell_type": "code",
   "execution_count": null,
   "metadata": {},
   "outputs": [],
   "source": [
    "pyLDAvis.enable_notebook()\n",
    "vis = pyLDAvis.gensim.prepare(ldamodel, corpus, dictionary)\n",
    "vis"
   ]
  },
  {
   "cell_type": "code",
   "execution_count": null,
   "metadata": {},
   "outputs": [],
   "source": [
    "tm = pd.DataFrame()\n",
    "for i in range(len(corpus)):\n",
    "    new_row = np.zeros(NUM_TOPICS)\n",
    "    for toop in ldamodel.get_document_topics(corpus[i]): # These two lines are where you do what you need to do\n",
    "        new_row[toop[0]] = toop[1]                       # to flip zeroes to ones if the genre appears\n",
    "    tm = tm.append(pd.Series(new_row), ignore_index=1)"
   ]
  },
  {
   "cell_type": "code",
   "execution_count": null,
   "metadata": {},
   "outputs": [],
   "source": [
    "tm.head() # This is a DataFrame with the weights from the GenSim clustering."
   ]
  },
  {
   "cell_type": "markdown",
   "metadata": {},
   "source": [
    "Bring it all together:"
   ]
  },
  {
   "cell_type": "code",
   "execution_count": null,
   "metadata": {},
   "outputs": [],
   "source": [
    "df = main_df.join(tm)\n",
    "len(df.columns)"
   ]
  },
  {
   "cell_type": "markdown",
   "metadata": {},
   "source": [
    "# All-Inclusive Model"
   ]
  },
  {
   "cell_type": "code",
   "execution_count": null,
   "metadata": {},
   "outputs": [],
   "source": [
    "X = df.drop(['binary_target'], axis=1)\n",
    "y = df.binary_target\n",
    "scaler = StandardScaler()\n",
    "X_scaled = scaler.fit_transform(X)"
   ]
  },
  {
   "cell_type": "markdown",
   "metadata": {},
   "source": [
    "train_test_split on X_scaled:"
   ]
  },
  {
   "cell_type": "code",
   "execution_count": null,
   "metadata": {},
   "outputs": [],
   "source": [
    "X_train, X_test, y_train, y_test = train_test_split(X_scaled, y, test_size =  0.2)"
   ]
  },
  {
   "cell_type": "markdown",
   "metadata": {},
   "source": [
    "## Baselining:"
   ]
  },
  {
   "cell_type": "code",
   "execution_count": null,
   "metadata": {},
   "outputs": [],
   "source": [
    "dc = DummyClassifier().fit(X_train, y_train)"
   ]
  },
  {
   "cell_type": "code",
   "execution_count": null,
   "metadata": {},
   "outputs": [],
   "source": [
    "accuracy_score(y_test,dc.predict(X_test))"
   ]
  },
  {
   "cell_type": "markdown",
   "metadata": {},
   "source": [
    "Dimensionality Reduction with SVD - For the PlotText Data:"
   ]
  },
  {
   "cell_type": "code",
   "execution_count": null,
   "metadata": {},
   "outputs": [],
   "source": [
    "svd = TruncatedSVD(n_components=50, n_iter=3, random_state=42)\n",
    "X_train_pca = pd.DataFrame(svd.fit_transform(X_train))\n",
    "print(svd.explained_variance_ratio_.sum())"
   ]
  },
  {
   "cell_type": "markdown",
   "metadata": {},
   "source": [
    "Next we'll try a simple Gaussian Naive Bayes Model:"
   ]
  },
  {
   "cell_type": "code",
   "execution_count": null,
   "metadata": {},
   "outputs": [],
   "source": [
    "clf = GaussianNB()\n",
    "clf.fit(X_train_pca, y_train)\n",
    "y_preds = clf.predict(pd.DataFrame(svd.transform(X_test)))\n",
    "print(metrics.classification_report(y_test, y_preds))\n",
    "test_accuracy = accuracy_score(y_test,y_preds)\n",
    "print(\"Test accuracy: {:.4}%\".format(test_accuracy * 100))"
   ]
  },
  {
   "cell_type": "markdown",
   "metadata": {},
   "source": [
    "__________"
   ]
  },
  {
   "cell_type": "markdown",
   "metadata": {},
   "source": [
    "Now we'll go nuts and try an XGBClassifier model. A boosted model seems to work better without PCA, so we'll drop it for this part."
   ]
  },
  {
   "cell_type": "code",
   "execution_count": null,
   "metadata": {},
   "outputs": [],
   "source": [
    "clf = xgb.XGBClassifier(n_jobs=-1)\n",
    "clf.fit(X_train, y_train)\n",
    "\n",
    "training_preds = clf.predict(X_train)\n",
    "test_preds = clf.predict(X_test)#pd.DataFrame(svd.transform(X_test)))\n",
    "\n",
    "training_accuracy = accuracy_score(y_train, training_preds)\n",
    "test_accuracy = accuracy_score(y_test, test_preds)\n",
    "\n",
    "print(\"Training Accuracy: {:.4}%\".format(training_accuracy * 100))\n",
    "print(\"Test accuracy: {:.4}%\".format(test_accuracy * 100))"
   ]
  },
  {
   "cell_type": "code",
   "execution_count": null,
   "metadata": {},
   "outputs": [],
   "source": [
    "y_score = clf.predict_proba(X_test)\n",
    "fpr, tpr, thresholds = roc_curve(y_test, y_score[:,1])\n",
    "print('AUC: {}'.format(auc(fpr, tpr)))"
   ]
  },
  {
   "cell_type": "code",
   "execution_count": null,
   "metadata": {},
   "outputs": [],
   "source": [
    "def draw_roc_curve(fpr,tpr):\n",
    "    sns.set_style(\"darkgrid\", {\"axes.facecolor\": \".9\"})\n",
    "    print('AUC: {}'.format(auc(fpr, tpr)))\n",
    "    plt.figure(figsize=(10,8))\n",
    "    lw = 2\n",
    "    plt.plot(fpr, tpr, color='darkorange', lw=lw, label='ROC curve')\n",
    "    plt.plot([0, 1], [0, 1], color='navy', lw=lw, linestyle='--')\n",
    "    plt.xlim([0.0, 1.0])\n",
    "    plt.ylim([0.0, 1.05])\n",
    "    plt.yticks([i/20.0 for i in range(21)])\n",
    "    plt.xticks([i/20.0 for i in range(21)])\n",
    "    plt.xlabel('False Positive Rate')\n",
    "    plt.ylabel('True Positive Rate')\n",
    "    plt.title('Receiver operating characteristic (ROC) Curve')\n",
    "    plt.legend(loc=\"lower right\")\n",
    "    plt.show()"
   ]
  },
  {
   "cell_type": "code",
   "execution_count": null,
   "metadata": {},
   "outputs": [],
   "source": [
    "draw_roc_curve(fpr,tpr)"
   ]
  },
  {
   "cell_type": "markdown",
   "metadata": {},
   "source": [
    "Looks like we're off to an okay start!"
   ]
  },
  {
   "cell_type": "markdown",
   "metadata": {},
   "source": [
    "## Grid Searching for better parameters"
   ]
  },
  {
   "cell_type": "code",
   "execution_count": null,
   "metadata": {},
   "outputs": [],
   "source": [
    "# svd_components = [100,500,1000]\n",
    "# itera = [3, 5]\n",
    "\n",
    "n_est = [50,80,100]\n",
    "max_depth = [2,3,4]\n",
    "learning_rates = [.08, .1, .15]\n",
    "\n",
    "pipe = Pipeline([\n",
    "#     ('reduce_dim', TruncatedSVD()),\n",
    "    ('classify', XGBClassifier())\n",
    "])\n",
    "\n",
    "param_grid = [\n",
    "    {\n",
    "#         'reduce_dim__n_components': svd_components,\n",
    "#         'reduce_dim__n_iter': itera,\n",
    "        'classify__n_estimators': n_est,\n",
    "        'classify__max_depth': max_depth,\n",
    "        'classify__n_jobs': [-1],\n",
    "        'classify__learning_rate': learning_rates\n",
    "    }]\n",
    "\n",
    "score = {'f1': 'f1', \n",
    "         'accuracy': 'accuracy'}\n",
    "\n",
    "grid_adc = GridSearchCV(pipe, \n",
    "                        n_jobs=-1, \n",
    "                        param_grid=param_grid, \n",
    "                        scoring=score, \n",
    "                        refit='accuracy',\n",
    "                        verbose=10)\n",
    "\n",
    "grid_adc.fit(X_train, y_train)\n",
    "grid_adc.best_params_"
   ]
  },
  {
   "cell_type": "code",
   "execution_count": null,
   "metadata": {},
   "outputs": [],
   "source": [
    "# Check the gridsearch results:\n",
    "y_preds = grid_adc.predict(X_test)\n",
    "accuracy_score(y_test, y_preds)"
   ]
  },
  {
   "cell_type": "code",
   "execution_count": null,
   "metadata": {},
   "outputs": [],
   "source": [
    "y_score = grid_adc.predict_proba(X_test)\n",
    "fpr_gs, tpr_gs, thresholds = roc_curve(y_test, y_score[:,1])\n",
    "print('AUC: {}'.format(auc(fpr_gs, tpr_gs)))"
   ]
  },
  {
   "cell_type": "code",
   "execution_count": null,
   "metadata": {},
   "outputs": [],
   "source": [
    "plt.figure(0).clf()\n",
    "plt.figure(figsize=(10,8))\n",
    "lw = 2\n",
    "\n",
    "plt.plot(fpr, tpr, color='darkorange',\n",
    "         lw=lw, label='ROC curve XGBClassifier')\n",
    "plt.plot(fpr_gs,tpr_gs,\n",
    "         label='Grid Searched XGBClassifier')\n",
    "\n",
    "plt.plot([0, 1], [0, 1], color='navy', lw=lw, linestyle='--')\n",
    "plt.xlim([0.0, 1.0])\n",
    "plt.ylim([0.0, 1.05])\n",
    "plt.yticks([i/20.0 for i in range(21)])\n",
    "plt.xticks([i/20.0 for i in range(21)])\n",
    "plt.xlabel('False Positive Rate')\n",
    "plt.ylabel('True Positive Rate')\n",
    "plt.title('Receiver operating characteristic (ROC) Curve')\n",
    "plt.legend(loc=\"lower right\")\n",
    "plt.legend(loc=0)"
   ]
  },
  {
   "cell_type": "markdown",
   "metadata": {},
   "source": [
    "Negligible improvement."
   ]
  },
  {
   "cell_type": "code",
   "execution_count": null,
   "metadata": {},
   "outputs": [],
   "source": []
  }
 ],
 "metadata": {
  "kernelspec": {
   "display_name": "Python 3",
   "language": "python",
   "name": "python3"
  },
  "language_info": {
   "codemirror_mode": {
    "name": "ipython",
    "version": 3
   },
   "file_extension": ".py",
   "mimetype": "text/x-python",
   "name": "python",
   "nbconvert_exporter": "python",
   "pygments_lexer": "ipython3",
   "version": "3.7.5"
  },
  "toc": {
   "base_numbering": 1,
   "nav_menu": {},
   "number_sections": true,
   "sideBar": true,
   "skip_h1_title": false,
   "title_cell": "Table of Contents",
   "title_sidebar": "Contents",
   "toc_cell": false,
   "toc_position": {
    "height": "calc(100% - 180px)",
    "left": "10px",
    "top": "150px",
    "width": "384px"
   },
   "toc_section_display": true,
   "toc_window_display": true
  },
  "varInspector": {
   "cols": {
    "lenName": 16,
    "lenType": 16,
    "lenVar": 40
   },
   "kernels_config": {
    "python": {
     "delete_cmd_postfix": "",
     "delete_cmd_prefix": "del ",
     "library": "var_list.py",
     "varRefreshCmd": "print(var_dic_list())"
    },
    "r": {
     "delete_cmd_postfix": ") ",
     "delete_cmd_prefix": "rm(",
     "library": "var_list.r",
     "varRefreshCmd": "cat(var_dic_list()) "
    }
   },
   "position": {
    "height": "513px",
    "left": "1548px",
    "right": "20px",
    "top": "116px",
    "width": "355px"
   },
   "types_to_exclude": [
    "module",
    "function",
    "builtin_function_or_method",
    "instance",
    "_Feature"
   ],
   "window_display": true
  }
 },
 "nbformat": 4,
 "nbformat_minor": 2
}
