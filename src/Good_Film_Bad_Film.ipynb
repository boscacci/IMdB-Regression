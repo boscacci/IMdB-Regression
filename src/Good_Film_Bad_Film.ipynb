{
 "cells": [
  {
   "cell_type": "markdown",
   "metadata": {},
   "source": [
    "# Good Film // Bad Film\n",
    "## Film Plot Synopses and etc. as Predictors of Critical Reception"
   ]
  },
  {
   "cell_type": "markdown",
   "metadata": {},
   "source": [
    "This notebook builds and evaluates a handful of regression models which predict critical reception scores for films. Independent variables include plot synopsis free text, social media metrics on the leading actors, and other categorical variables such as film genre."
   ]
  },
  {
   "cell_type": "code",
   "execution_count": 1,
   "metadata": {
    "ExecuteTime": {
     "end_time": "2020-04-03T20:01:02.002649Z",
     "start_time": "2020-04-03T20:01:01.338836Z"
    },
    "init_cell": true
   },
   "outputs": [],
   "source": [
    "import os\n",
    "import time\n",
    "import pickle\n",
    "\n",
    "import requests\n",
    "from pycountry import languages\n",
    "\n",
    "import pandas as pd\n",
    "import numpy as np\n",
    "from scipy.stats import boxcox\n",
    "\n",
    "import matplotlib.pyplot as plt"
   ]
  },
  {
   "cell_type": "markdown",
   "metadata": {},
   "source": [
    "# Data Collection"
   ]
  },
  {
   "cell_type": "markdown",
   "metadata": {},
   "source": [
    "## Kaggle Dataset"
   ]
  },
  {
   "cell_type": "markdown",
   "metadata": {},
   "source": [
    "From https://www.kaggle.com/tmdb/tmdb-movie-metadata:"
   ]
  },
  {
   "cell_type": "code",
   "execution_count": null,
   "metadata": {
    "ExecuteTime": {
     "end_time": "2020-04-02T22:18:52.105009Z",
     "start_time": "2020-04-02T22:18:52.102782Z"
    }
   },
   "outputs": [],
   "source": [
    "# kaggle_data = pd.read_csv('../data/imdb_5000_movies.csv') # Just a big Kaggle dataset full of movies."
   ]
  },
  {
   "cell_type": "code",
   "execution_count": null,
   "metadata": {
    "ExecuteTime": {
     "end_time": "2020-04-02T22:18:52.108779Z",
     "start_time": "2020-04-02T22:18:52.106735Z"
    }
   },
   "outputs": [],
   "source": [
    "# kaggle_data.shape"
   ]
  },
  {
   "cell_type": "markdown",
   "metadata": {},
   "source": [
    "## Extra Metadata from TheMovieDB.org"
   ]
  },
  {
   "cell_type": "markdown",
   "metadata": {},
   "source": [
    "One good thing about this dataset is that it provides the unique IMdB movie ID's, which we can pass to a third-party API in order to supplement our data with more features. Here we parse out those IMdB ID's:"
   ]
  },
  {
   "cell_type": "code",
   "execution_count": null,
   "metadata": {
    "ExecuteTime": {
     "end_time": "2020-04-02T22:18:52.111890Z",
     "start_time": "2020-04-02T22:18:52.110065Z"
    }
   },
   "outputs": [],
   "source": [
    "# kaggle_data.tail()"
   ]
  },
  {
   "cell_type": "markdown",
   "metadata": {},
   "source": [
    "Grab IMdB ID numbers for each film and append to dataframe:"
   ]
  },
  {
   "cell_type": "code",
   "execution_count": null,
   "metadata": {
    "ExecuteTime": {
     "end_time": "2020-04-02T22:18:52.115442Z",
     "start_time": "2020-04-02T22:18:52.113084Z"
    }
   },
   "outputs": [],
   "source": [
    "# imdb_ids = kaggle_data['movie_imdb_link'].str[26:35]\n",
    "# imdb_ids[3000:3005]"
   ]
  },
  {
   "cell_type": "code",
   "execution_count": null,
   "metadata": {
    "ExecuteTime": {
     "end_time": "2020-04-02T22:18:52.119391Z",
     "start_time": "2020-04-02T22:18:52.117147Z"
    }
   },
   "outputs": [],
   "source": [
    "# kaggle_data['imdb_ids'] = imdb_ids"
   ]
  },
  {
   "cell_type": "markdown",
   "metadata": {},
   "source": [
    "Here we make the API calls, and persist our data to little .json files:"
   ]
  },
  {
   "cell_type": "code",
   "execution_count": null,
   "metadata": {
    "ExecuteTime": {
     "end_time": "2020-04-02T22:18:52.124197Z",
     "start_time": "2020-04-02T22:18:52.120677Z"
    },
    "scrolled": true
   },
   "outputs": [],
   "source": [
    "# You will need to enter your own API key in the API_KEY.py file (remove the .template suffix)\n",
    "from API_KEY import API_KEY\n",
    "\n",
    "try:\n",
    "    os.mkdir('../data/movie_metadata')\n",
    "except FileExistsError:\n",
    "    pass"
   ]
  },
  {
   "cell_type": "markdown",
   "metadata": {},
   "source": [
    "__This will make lots of API calls, be warned and use sparingly__, to avoid burning out your API key"
   ]
  },
  {
   "cell_type": "code",
   "execution_count": null,
   "metadata": {
    "ExecuteTime": {
     "end_time": "2020-04-02T22:18:52.128737Z",
     "start_time": "2020-04-02T22:18:52.126707Z"
    },
    "scrolled": true
   },
   "outputs": [],
   "source": [
    "# i=0; j=0; total=len(imdb_ids)\n",
    "\n",
    "# for id in imdb_ids:\n",
    "#     print(f\"Downloading movie {i} of {total}...\")\n",
    "#     i+=1\n",
    "#     query_string = f'https://api.themoviedb.org/3/movie/{id}?api_key={API_KEY}'\n",
    "#     json = requests.get(query_string).text\n",
    "#     if \"could not be found\" in json:\n",
    "#         j+=1\n",
    "#         print(f\"{round(j/i, 2)}% of movies not found\")\n",
    "#         continue\n",
    "#     f = open(f'../data/movie_metadata/movie_{id}.json', 'w+')\n",
    "#     f.write(json)\n",
    "#     f.close()"
   ]
  },
  {
   "cell_type": "markdown",
   "metadata": {},
   "source": [
    "## Combine Kaggle Dataset and TheMovieDB API Responses"
   ]
  },
  {
   "cell_type": "code",
   "execution_count": null,
   "metadata": {
    "ExecuteTime": {
     "end_time": "2020-04-02T22:18:52.132267Z",
     "start_time": "2020-04-02T22:18:52.130406Z"
    }
   },
   "outputs": [],
   "source": [
    "# tmdb_movies = pd.DataFrame()\n",
    "\n",
    "# for filename in os.listdir(path='../data/movie_metadata/'):\n",
    "#     if \"movie\" in filename:\n",
    "#         this_movie = pd.read_json(f\"../data/movie_metadata/{filename}\", lines=True)\n",
    "#         tmdb_movies = pd.concat([this_movie,tmdb_movies], axis=0)\n",
    "\n",
    "# tmdb_movies = tmdb_movies.reset_index(drop=True)"
   ]
  },
  {
   "cell_type": "code",
   "execution_count": null,
   "metadata": {
    "ExecuteTime": {
     "end_time": "2020-04-02T22:18:52.134957Z",
     "start_time": "2020-04-02T22:18:52.133379Z"
    }
   },
   "outputs": [],
   "source": [
    "# df_merged = tmdb_movies.merge(kaggle_data, \n",
    "#                               how='left',\n",
    "#                               left_on='imdb_id',\n",
    "#                               right_on='imdb_ids',\n",
    "#                               suffixes=(\"_kaggle\",\"_api\"))"
   ]
  },
  {
   "cell_type": "markdown",
   "metadata": {},
   "source": [
    "# Data Cleaning and EDA"
   ]
  },
  {
   "cell_type": "markdown",
   "metadata": {},
   "source": [
    "## Keep only interesting columns"
   ]
  },
  {
   "cell_type": "code",
   "execution_count": null,
   "metadata": {
    "ExecuteTime": {
     "end_time": "2020-04-02T22:18:52.137780Z",
     "start_time": "2020-04-02T22:18:52.136052Z"
    }
   },
   "outputs": [],
   "source": [
    "# df_merged.columns.tolist()"
   ]
  },
  {
   "cell_type": "code",
   "execution_count": null,
   "metadata": {
    "ExecuteTime": {
     "end_time": "2020-04-02T22:18:52.140784Z",
     "start_time": "2020-04-02T22:18:52.139074Z"
    }
   },
   "outputs": [],
   "source": [
    "# desired_cols = (\"duration adult budget_api budget_kaggle language original_language \"\n",
    "#                 \"production_countries runtime spoken_languages color genres_api \"\n",
    "#                 \"title movie_title original_title overview content_rating \"\n",
    "#                 \"actor_1_facebook_likes actor_2_facebook_likes actor_3_facebook_likes \"\n",
    "#                 \"director_facebook_likes cast_total_facebook_likes facenumber_in_poster \"\n",
    "#                 \"aspect_ratio imdb_score revenue\").split()"
   ]
  },
  {
   "cell_type": "code",
   "execution_count": null,
   "metadata": {
    "ExecuteTime": {
     "end_time": "2020-04-02T22:18:52.143483Z",
     "start_time": "2020-04-02T22:18:52.141830Z"
    }
   },
   "outputs": [],
   "source": [
    "# df_lesscols = df_merged[desired_cols]\n",
    "# df_lesscols.head()"
   ]
  },
  {
   "cell_type": "code",
   "execution_count": null,
   "metadata": {
    "ExecuteTime": {
     "end_time": "2020-04-03T18:09:45.960412Z",
     "start_time": "2020-04-03T18:09:45.958344Z"
    }
   },
   "outputs": [],
   "source": [
    "# df_lesscols.to_pickle(\"../data/pickles/df_lesscols.pkl\")"
   ]
  },
  {
   "cell_type": "markdown",
   "metadata": {},
   "source": [
    "## Null Values Management"
   ]
  },
  {
   "cell_type": "code",
   "execution_count": null,
   "metadata": {
    "ExecuteTime": {
     "end_time": "2020-04-03T19:08:34.762445Z",
     "start_time": "2020-04-03T19:08:34.698003Z"
    }
   },
   "outputs": [],
   "source": [
    "df_lesscols = pd.read_pickle(\"../data/pickles/df_lesscols.pkl\")\n",
    "df_lesscols.head(3)"
   ]
  },
  {
   "cell_type": "markdown",
   "metadata": {},
   "source": [
    "Here are all of the truly \"null\" values:"
   ]
  },
  {
   "cell_type": "code",
   "execution_count": null,
   "metadata": {
    "ExecuteTime": {
     "end_time": "2020-04-03T19:08:35.478966Z",
     "start_time": "2020-04-03T19:08:35.279939Z"
    }
   },
   "outputs": [],
   "source": [
    "nulls = df_lesscols.isna().sum()[df_lesscols.isna().sum() > 0].sort_values(ascending=False)\n",
    "\n",
    "nulls.plot(kind='bar', figsize=(15,8)).plot()"
   ]
  },
  {
   "cell_type": "markdown",
   "metadata": {},
   "source": [
    "Gotta start somewhere."
   ]
  },
  {
   "cell_type": "markdown",
   "metadata": {},
   "source": [
    "### Budget"
   ]
  },
  {
   "cell_type": "markdown",
   "metadata": {},
   "source": [
    "We have two disparate budget columns to draw from. We want whatever seems most plausible."
   ]
  },
  {
   "cell_type": "code",
   "execution_count": null,
   "metadata": {
    "ExecuteTime": {
     "end_time": "2020-04-03T19:08:35.733759Z",
     "start_time": "2020-04-03T19:08:35.727281Z"
    }
   },
   "outputs": [],
   "source": [
    "df_lesscols[[\"budget_api\", \"budget_kaggle\"]].head(10)"
   ]
  },
  {
   "cell_type": "markdown",
   "metadata": {},
   "source": [
    "Lots of nulls in budget_api, lots of zeroes in budget_kaggle. How best to handle this? And are there other columns where we just have a bunch of zero values instead of nulls (revenue??)"
   ]
  },
  {
   "cell_type": "code",
   "execution_count": null,
   "metadata": {
    "ExecuteTime": {
     "end_time": "2020-04-03T19:08:35.977986Z",
     "start_time": "2020-04-03T19:08:35.974405Z"
    }
   },
   "outputs": [],
   "source": [
    "def best_guess_budget(row):\n",
    "    # When budget_api is NaN and budget_kaggle is non-zero, take budget_kaggle.\n",
    "    if row.isna()[\"budget_api\"] and row['budget_kaggle'] != 0:\n",
    "        return row['budget_kaggle']\n",
    "    \n",
    "    # When budget_api is not NaN but budget_kaggle is zero, take budget_api.\n",
    "    elif not row.isna()[\"budget_api\"] and row['budget_kaggle'] == 0:\n",
    "        return row['budget_api']\n",
    "    \n",
    "    # When both values are not NaN / non-zero, take the mean?\n",
    "    elif not row.isna()[\"budget_api\"] and row['budget_kaggle'] != 0:\n",
    "        return np.mean((row['budget_kaggle'], row['budget_api']))\n",
    "        \n",
    "    # When budget_api is NaN AND budget_kaggle is zero...that's tough. Maybe drop row. Consider imputing values?\n",
    "    else:\n",
    "        return None"
   ]
  },
  {
   "cell_type": "code",
   "execution_count": null,
   "metadata": {
    "ExecuteTime": {
     "end_time": "2020-04-03T19:08:35.987159Z",
     "start_time": "2020-04-03T19:08:35.978931Z"
    }
   },
   "outputs": [],
   "source": [
    "df_lesscols.head(10).apply(best_guess_budget, axis=1)"
   ]
  },
  {
   "cell_type": "markdown",
   "metadata": {},
   "source": [
    "This is the desired behavior."
   ]
  },
  {
   "cell_type": "code",
   "execution_count": null,
   "metadata": {
    "ExecuteTime": {
     "end_time": "2020-04-03T19:08:38.050558Z",
     "start_time": "2020-04-03T19:08:36.473242Z"
    }
   },
   "outputs": [],
   "source": [
    "best_budget = df_lesscols.apply(best_guess_budget, axis=1)"
   ]
  },
  {
   "cell_type": "code",
   "execution_count": null,
   "metadata": {
    "ExecuteTime": {
     "end_time": "2020-04-03T19:08:38.306101Z",
     "start_time": "2020-04-03T19:08:38.300548Z"
    }
   },
   "outputs": [],
   "source": [
    "df_best_guess_budget = df_lesscols.assign(best_budget=best_budget\n",
    "                                         ).drop(\"budget_api budget_kaggle\".split(), axis=1)"
   ]
  },
  {
   "cell_type": "code",
   "execution_count": null,
   "metadata": {
    "ExecuteTime": {
     "end_time": "2020-04-03T19:08:38.686359Z",
     "start_time": "2020-04-03T19:08:38.682839Z"
    }
   },
   "outputs": [],
   "source": [
    "df_best_guess_budget.best_budget.isna().mean()"
   ]
  },
  {
   "cell_type": "markdown",
   "metadata": {},
   "source": [
    "5% of budget values are missing. I think I will in fact impute the median."
   ]
  },
  {
   "cell_type": "code",
   "execution_count": null,
   "metadata": {
    "ExecuteTime": {
     "end_time": "2020-04-03T19:08:39.067095Z",
     "start_time": "2020-04-03T19:08:39.061937Z"
    }
   },
   "outputs": [],
   "source": [
    "budget_med = df_best_guess_budget.best_budget.dropna().median()\n",
    "budget_mean = df_best_guess_budget.best_budget.dropna().mean()\n",
    "budget_med, budget_mean"
   ]
  },
  {
   "cell_type": "code",
   "execution_count": null,
   "metadata": {
    "ExecuteTime": {
     "end_time": "2020-04-03T19:08:39.455934Z",
     "start_time": "2020-04-03T19:08:39.449450Z"
    }
   },
   "outputs": [],
   "source": [
    "df_filled_budget = df_best_guess_budget.assign(\n",
    "    filled_budget = df_best_guess_budget[\"best_budget\"].fillna(budget_med)\n",
    ").drop([\"best_budget\"],axis=1)"
   ]
  },
  {
   "cell_type": "code",
   "execution_count": null,
   "metadata": {
    "ExecuteTime": {
     "end_time": "2020-04-03T19:08:39.979632Z",
     "start_time": "2020-04-03T19:08:39.975790Z"
    }
   },
   "outputs": [],
   "source": [
    "df_filled_budget.filled_budget.isna().mean()"
   ]
  },
  {
   "cell_type": "code",
   "execution_count": null,
   "metadata": {
    "ExecuteTime": {
     "end_time": "2020-04-03T19:08:40.492746Z",
     "start_time": "2020-04-03T19:08:40.489167Z"
    }
   },
   "outputs": [],
   "source": [
    "df_filled_budget.filled_budget.median(), df_filled_budget.filled_budget.mean()"
   ]
  },
  {
   "cell_type": "markdown",
   "metadata": {},
   "source": [
    "This doesn't seem to have shifted the mean much, that's good."
   ]
  },
  {
   "cell_type": "markdown",
   "metadata": {},
   "source": [
    "### Aspect Ratio"
   ]
  },
  {
   "cell_type": "code",
   "execution_count": null,
   "metadata": {
    "ExecuteTime": {
     "end_time": "2020-04-03T19:08:40.999515Z",
     "start_time": "2020-04-03T19:08:40.996331Z"
    }
   },
   "outputs": [],
   "source": [
    "df_filled_budget.aspect_ratio.isna().mean()"
   ]
  },
  {
   "cell_type": "markdown",
   "metadata": {},
   "source": [
    "6% of aspect ratios are null."
   ]
  },
  {
   "cell_type": "markdown",
   "metadata": {},
   "source": [
    "This is a categorical describing the dimensions of the projected image. Your TV set is 16x9 aka 1.77 aspect ratio, whereas lots of hollywood films are 1.85 ratio or 2.40, much \"wider-screen\". 2.40 might be \"artsier\"."
   ]
  },
  {
   "cell_type": "code",
   "execution_count": null,
   "metadata": {
    "ExecuteTime": {
     "end_time": "2020-04-03T19:08:41.659765Z",
     "start_time": "2020-04-03T19:08:41.508140Z"
    }
   },
   "outputs": [],
   "source": [
    "# Aspect ratio of 16 I take to mean 16x9 aka 1.77:\n",
    "df_filled_budget.aspect_ratio = df_filled_budget.aspect_ratio.apply(lambda x: 1.77 if x==16 else x)\n",
    "df_filled_budget.aspect_ratio.value_counts().sort_index().plot(kind=\"bar\")"
   ]
  },
  {
   "cell_type": "markdown",
   "metadata": {},
   "source": [
    "I think I will lump some of these together and impute 1.85 on null values. It's not *quite* the mode but it's a sort of middle-of-the road aspect ratio. The DCI standard lists 2.39 and 1.85 for theatrical projection. 16x9 or 1.77 is also common, and 4/3 or 1.33 is like an old-timey boxey aspect ratio."
   ]
  },
  {
   "cell_type": "code",
   "execution_count": null,
   "metadata": {
    "ExecuteTime": {
     "end_time": "2020-04-03T19:08:42.166967Z",
     "start_time": "2020-04-03T19:08:42.164413Z"
    }
   },
   "outputs": [],
   "source": [
    "aspect_bins = [0, np.mean((1.33, 1.77)), np.mean((1.77,1.85)), np.mean((1.85,2.39)), np.inf]\n",
    "aspect_labels = \"1.33 1.77 1.85 2.39\".split()"
   ]
  },
  {
   "cell_type": "code",
   "execution_count": null,
   "metadata": {
    "ExecuteTime": {
     "end_time": "2020-04-03T19:08:42.684298Z",
     "start_time": "2020-04-03T19:08:42.677210Z"
    }
   },
   "outputs": [],
   "source": [
    "pd.cut(df_filled_budget.aspect_ratio, \n",
    "       bins=aspect_bins, \n",
    "       labels=aspect_labels,\n",
    "       include_lowest=True)"
   ]
  },
  {
   "cell_type": "markdown",
   "metadata": {},
   "source": [
    "Lump values and impute 1.85:"
   ]
  },
  {
   "cell_type": "code",
   "execution_count": null,
   "metadata": {
    "ExecuteTime": {
     "end_time": "2020-04-03T19:08:43.200234Z",
     "start_time": "2020-04-03T19:08:43.192932Z"
    }
   },
   "outputs": [],
   "source": [
    "df_fixed_aspect = df_filled_budget.assign(fixed_aspect = pd.cut(df_filled_budget.aspect_ratio, \n",
    "                                                         bins=aspect_bins, \n",
    "                                                         labels=aspect_labels,\n",
    "                                                         include_lowest=True\n",
    "                                                               ).fillna(\"1.85\")\n",
    "                                         ).drop([\"aspect_ratio\"],axis=1)"
   ]
  },
  {
   "cell_type": "code",
   "execution_count": null,
   "metadata": {
    "ExecuteTime": {
     "end_time": "2020-04-03T19:08:43.931166Z",
     "start_time": "2020-04-03T19:08:43.838674Z"
    }
   },
   "outputs": [],
   "source": [
    "df_fixed_aspect.fixed_aspect.value_counts().sort_index().plot(kind=\"bar\")"
   ]
  },
  {
   "cell_type": "markdown",
   "metadata": {},
   "source": [
    "### Content Rating"
   ]
  },
  {
   "cell_type": "code",
   "execution_count": null,
   "metadata": {
    "ExecuteTime": {
     "end_time": "2020-04-03T19:08:44.579665Z",
     "start_time": "2020-04-03T19:08:44.575658Z"
    }
   },
   "outputs": [],
   "source": [
    "df_fixed_aspect.content_rating.isna().mean()"
   ]
  },
  {
   "cell_type": "code",
   "execution_count": null,
   "metadata": {
    "ExecuteTime": {
     "end_time": "2020-04-03T19:08:45.368027Z",
     "start_time": "2020-04-03T19:08:45.225078Z"
    }
   },
   "outputs": [],
   "source": [
    "df_fixed_aspect.content_rating.value_counts().plot(kind=\"bar\")"
   ]
  },
  {
   "cell_type": "markdown",
   "metadata": {},
   "source": [
    "Just gonna fill nulls with PG-13 and condense redundant ones"
   ]
  },
  {
   "cell_type": "code",
   "execution_count": null,
   "metadata": {
    "ExecuteTime": {
     "end_time": "2020-04-03T19:08:46.006666Z",
     "start_time": "2020-04-03T19:08:46.003083Z"
    }
   },
   "outputs": [],
   "source": [
    "df_content_rating_filled = df_fixed_aspect.assign(\n",
    "                                content_rating=df_fixed_aspect.content_rating.fillna(\"PG-13\")\n",
    "                           )"
   ]
  },
  {
   "cell_type": "code",
   "execution_count": null,
   "metadata": {
    "ExecuteTime": {
     "end_time": "2020-04-03T19:08:46.788615Z",
     "start_time": "2020-04-03T19:08:46.785662Z"
    }
   },
   "outputs": [],
   "source": [
    "def rating_mapper(rating):\n",
    "    if rating == \"Not Rated\":\n",
    "        return \"Unrated\"\n",
    "    elif rating in \"Approved Passed M TV-14\".split():\n",
    "        return \"PG-13\"\n",
    "    elif rating in \"TV-G GP G TV-PG\".split():\n",
    "        return \"PG\"\n",
    "    elif rating in [\"NC-17\"]:\n",
    "        return \"X\"\n",
    "    else:\n",
    "        return rating"
   ]
  },
  {
   "cell_type": "code",
   "execution_count": null,
   "metadata": {
    "ExecuteTime": {
     "end_time": "2020-04-03T19:08:47.351263Z",
     "start_time": "2020-04-03T19:08:47.344492Z"
    }
   },
   "outputs": [],
   "source": [
    "df_content_rating_condensed = df_content_rating_filled.assign(\n",
    "                                content_rating = df_content_rating_filled.content_rating.map(rating_mapper)\n",
    "                              )"
   ]
  },
  {
   "cell_type": "code",
   "execution_count": null,
   "metadata": {
    "ExecuteTime": {
     "end_time": "2020-04-03T19:08:48.624907Z",
     "start_time": "2020-04-03T19:08:48.521354Z"
    }
   },
   "outputs": [],
   "source": [
    "df_content_rating_condensed.content_rating.value_counts().plot(kind=\"bar\")"
   ]
  },
  {
   "cell_type": "code",
   "execution_count": null,
   "metadata": {
    "ExecuteTime": {
     "end_time": "2020-04-03T19:08:49.531407Z",
     "start_time": "2020-04-03T19:08:49.527431Z"
    }
   },
   "outputs": [],
   "source": [
    "df_content_rating_condensed.content_rating.isna().mean()"
   ]
  },
  {
   "cell_type": "markdown",
   "metadata": {},
   "source": [
    "How are we doing on null values globally?"
   ]
  },
  {
   "cell_type": "code",
   "execution_count": null,
   "metadata": {
    "ExecuteTime": {
     "end_time": "2020-04-03T19:08:50.676653Z",
     "start_time": "2020-04-03T19:08:50.484565Z"
    }
   },
   "outputs": [],
   "source": [
    "nulls_update = df_content_rating_condensed.isna().sum()[\n",
    "    df_content_rating_condensed.isna().sum() > 0\n",
    "].sort_values(ascending=False)\n",
    "\n",
    "nulls_update.plot(kind='bar', figsize=(15,8), rot=45).plot()"
   ]
  },
  {
   "cell_type": "markdown",
   "metadata": {},
   "source": [
    "Clearing some memory:"
   ]
  },
  {
   "cell_type": "code",
   "execution_count": null,
   "metadata": {
    "ExecuteTime": {
     "end_time": "2020-04-03T19:08:51.615704Z",
     "start_time": "2020-04-03T19:08:51.612317Z"
    }
   },
   "outputs": [],
   "source": [
    "# del nulls\n",
    "# del imdb_ids\n",
    "# del kaggle_data\n",
    "del best_budget\n",
    "del df_lesscols\n",
    "del df_best_guess_budget\n",
    "del df_filled_budget\n",
    "del df_content_rating_filled\n",
    "del df_fixed_aspect"
   ]
  },
  {
   "cell_type": "markdown",
   "metadata": {},
   "source": [
    "### Facebook Like Counts"
   ]
  },
  {
   "cell_type": "code",
   "execution_count": null,
   "metadata": {
    "ExecuteTime": {
     "end_time": "2020-04-03T19:08:51.882083Z",
     "start_time": "2020-04-03T19:08:51.871766Z"
    }
   },
   "outputs": [],
   "source": [
    "facebook_like_cols = [col for col in df_content_rating_condensed if \"facebook\" in col]\n",
    "likes = df_content_rating_condensed[facebook_like_cols]\n",
    "\n",
    "df_content_rating_condensed.drop(facebook_like_cols, axis=1, inplace=True)\n",
    "\n",
    "likes.head()"
   ]
  },
  {
   "cell_type": "code",
   "execution_count": null,
   "metadata": {
    "ExecuteTime": {
     "end_time": "2020-04-03T19:08:52.137211Z",
     "start_time": "2020-04-03T19:08:52.130629Z"
    }
   },
   "outputs": [],
   "source": [
    "(round(likes.isna().mean()*100,2)).sort_values(ascending=False).astype('str')+\"%\""
   ]
  },
  {
   "cell_type": "markdown",
   "metadata": {},
   "source": [
    "Not that many values are missing. Will just use the medians."
   ]
  },
  {
   "cell_type": "code",
   "execution_count": null,
   "metadata": {
    "ExecuteTime": {
     "end_time": "2020-04-03T19:08:52.392585Z",
     "start_time": "2020-04-03T19:08:52.386359Z"
    }
   },
   "outputs": [],
   "source": [
    "likes.fillna({col:likes[col].median() for col in likes.columns}, inplace=True)"
   ]
  },
  {
   "cell_type": "code",
   "execution_count": null,
   "metadata": {
    "ExecuteTime": {
     "end_time": "2020-04-03T19:08:52.644575Z",
     "start_time": "2020-04-03T19:08:52.640319Z"
    }
   },
   "outputs": [],
   "source": [
    "df_likes_filled = pd.concat([df_content_rating_condensed,\n",
    "                             likes], axis=1)"
   ]
  },
  {
   "cell_type": "code",
   "execution_count": null,
   "metadata": {
    "ExecuteTime": {
     "end_time": "2020-04-03T19:08:53.039209Z",
     "start_time": "2020-04-03T19:08:53.037063Z"
    }
   },
   "outputs": [],
   "source": [
    "del df_content_rating_condensed\n",
    "del likes"
   ]
  },
  {
   "cell_type": "markdown",
   "metadata": {},
   "source": [
    "Time for another check-in:"
   ]
  },
  {
   "cell_type": "code",
   "execution_count": null,
   "metadata": {
    "ExecuteTime": {
     "end_time": "2020-04-03T19:08:53.449601Z",
     "start_time": "2020-04-03T19:08:53.297367Z"
    }
   },
   "outputs": [],
   "source": [
    "nulls_update = df_likes_filled.isna().sum()[\n",
    "    df_likes_filled.isna().sum() > 0\n",
    "].sort_values(ascending=False)\n",
    "\n",
    "nulls_update.plot(kind='bar', figsize=(15,8), rot=45).plot()\n",
    "\n",
    "del nulls_update"
   ]
  },
  {
   "cell_type": "markdown",
   "metadata": {},
   "source": [
    "### Color"
   ]
  },
  {
   "cell_type": "code",
   "execution_count": null,
   "metadata": {
    "ExecuteTime": {
     "end_time": "2020-04-03T19:08:53.706649Z",
     "start_time": "2020-04-03T19:08:53.699994Z"
    }
   },
   "outputs": [],
   "source": [
    "df_likes_filled.color = df_likes_filled.color.str.lstrip()\n",
    "df_likes_filled.color.value_counts()"
   ]
  },
  {
   "cell_type": "markdown",
   "metadata": {},
   "source": [
    "Seems safe to assume that the last dozen films are in color..."
   ]
  },
  {
   "cell_type": "code",
   "execution_count": null,
   "metadata": {
    "ExecuteTime": {
     "end_time": "2020-04-03T19:08:53.961684Z",
     "start_time": "2020-04-03T19:08:53.957585Z"
    }
   },
   "outputs": [],
   "source": [
    "df_likes_filled.color = df_likes_filled.color.fillna(df_likes_filled.color.mode()[0])\n",
    "df_color_filled = df_likes_filled.copy()"
   ]
  },
  {
   "cell_type": "code",
   "execution_count": null,
   "metadata": {
    "ExecuteTime": {
     "end_time": "2020-04-03T19:08:54.355075Z",
     "start_time": "2020-04-03T19:08:54.352721Z"
    }
   },
   "outputs": [],
   "source": [
    "del df_likes_filled"
   ]
  },
  {
   "cell_type": "code",
   "execution_count": null,
   "metadata": {
    "ExecuteTime": {
     "end_time": "2020-04-03T19:08:54.627919Z",
     "start_time": "2020-04-03T19:08:54.605843Z"
    }
   },
   "outputs": [],
   "source": [
    "df_color_filled.head(3)"
   ]
  },
  {
   "cell_type": "code",
   "execution_count": null,
   "metadata": {
    "ExecuteTime": {
     "end_time": "2020-04-03T19:08:54.881459Z",
     "start_time": "2020-04-03T19:08:54.877949Z"
    }
   },
   "outputs": [],
   "source": [
    "df_color_filled.color.isna().mean()"
   ]
  },
  {
   "cell_type": "markdown",
   "metadata": {},
   "source": [
    "### Face Number in Poster"
   ]
  },
  {
   "cell_type": "code",
   "execution_count": null,
   "metadata": {
    "ExecuteTime": {
     "end_time": "2020-04-03T19:08:55.290016Z",
     "start_time": "2020-04-03T19:08:55.139552Z"
    }
   },
   "outputs": [],
   "source": [
    "df_color_filled.facenumber_in_poster.value_counts().plot(kind='bar')"
   ]
  },
  {
   "cell_type": "markdown",
   "metadata": {},
   "source": [
    "Zero seems to be a placeholder for \"idk\" in this dataset, I'll drop this column."
   ]
  },
  {
   "cell_type": "code",
   "execution_count": null,
   "metadata": {
    "ExecuteTime": {
     "end_time": "2020-04-03T19:08:55.568278Z",
     "start_time": "2020-04-03T19:08:55.539779Z"
    }
   },
   "outputs": [],
   "source": [
    "df_no_facenums = df_color_filled.drop(['facenumber_in_poster'],axis=1)\n",
    "del df_color_filled\n",
    "df_no_facenums.head()"
   ]
  },
  {
   "cell_type": "markdown",
   "metadata": {},
   "source": [
    "### Language (\"original... spoken... language\")"
   ]
  },
  {
   "cell_type": "code",
   "execution_count": null,
   "metadata": {
    "ExecuteTime": {
     "end_time": "2020-04-03T19:08:55.837836Z",
     "start_time": "2020-04-03T19:08:55.821777Z"
    }
   },
   "outputs": [],
   "source": [
    "langs = df_no_facenums[[col for col in df_no_facenums.columns if \"language\" in col]]\n",
    "langs.head(15)"
   ]
  },
  {
   "cell_type": "code",
   "execution_count": null,
   "metadata": {
    "ExecuteTime": {
     "end_time": "2020-04-03T19:08:55.844261Z",
     "start_time": "2020-04-03T19:08:55.839277Z"
    }
   },
   "outputs": [],
   "source": [
    "langs.isna().mean()"
   ]
  },
  {
   "cell_type": "code",
   "execution_count": null,
   "metadata": {
    "ExecuteTime": {
     "end_time": "2020-04-03T19:08:56.426328Z",
     "start_time": "2020-04-03T19:08:56.421498Z"
    }
   },
   "outputs": [],
   "source": [
    "df_no_facenums.loc[13]"
   ]
  },
  {
   "cell_type": "markdown",
   "metadata": {},
   "source": [
    "The \"language\" column looks not great. \"original language\" is probably a better bet."
   ]
  },
  {
   "cell_type": "code",
   "execution_count": null,
   "metadata": {
    "ExecuteTime": {
     "end_time": "2020-04-03T19:08:56.727945Z",
     "start_time": "2020-04-03T19:08:56.723254Z"
    }
   },
   "outputs": [],
   "source": [
    "df_no_facenums.spoken_languages.tail()"
   ]
  },
  {
   "cell_type": "code",
   "execution_count": null,
   "metadata": {
    "ExecuteTime": {
     "end_time": "2020-04-03T19:08:57.019327Z",
     "start_time": "2020-04-03T19:08:57.015342Z"
    }
   },
   "outputs": [],
   "source": [
    "df_no_facenums.original_language.tail()"
   ]
  },
  {
   "cell_type": "markdown",
   "metadata": {},
   "source": [
    "Yeah I think that's probably the best column."
   ]
  },
  {
   "cell_type": "code",
   "execution_count": null,
   "metadata": {
    "ExecuteTime": {
     "end_time": "2020-04-03T19:08:57.307866Z",
     "start_time": "2020-04-03T19:08:57.303005Z"
    }
   },
   "outputs": [],
   "source": [
    "df_no_facenums.original_language.value_counts().head(10)"
   ]
  },
  {
   "cell_type": "markdown",
   "metadata": {},
   "source": [
    "Using a python package to make language codes human-readable:"
   ]
  },
  {
   "cell_type": "code",
   "execution_count": null,
   "metadata": {
    "ExecuteTime": {
     "end_time": "2020-04-03T19:08:57.627103Z",
     "start_time": "2020-04-03T19:08:57.589273Z"
    }
   },
   "outputs": [],
   "source": [
    "lang_decoder = {lang.alpha_2: lang.name for lang in languages if hasattr(lang,'alpha_2')}\n",
    "list(lang_decoder.items())[:5]"
   ]
  },
  {
   "cell_type": "code",
   "execution_count": null,
   "metadata": {
    "ExecuteTime": {
     "end_time": "2020-04-03T19:08:58.145249Z",
     "start_time": "2020-04-03T19:08:57.913969Z"
    }
   },
   "outputs": [],
   "source": [
    "df_no_facenums.original_language = df_no_facenums.original_language.map(lang_decoder)\n",
    "df_no_facenums.original_language.value_counts()[2:].plot(kind='bar')"
   ]
  },
  {
   "cell_type": "markdown",
   "metadata": {},
   "source": [
    "Just eyeballing it...I think anything after German, in terms of frequency, is gonna have to go in \"other\""
   ]
  },
  {
   "cell_type": "markdown",
   "metadata": {},
   "source": [
    "Grabbing most popular languages:"
   ]
  },
  {
   "cell_type": "code",
   "execution_count": null,
   "metadata": {
    "ExecuteTime": {
     "end_time": "2020-04-03T19:08:58.439505Z",
     "start_time": "2020-04-03T19:08:58.435027Z"
    }
   },
   "outputs": [],
   "source": [
    "top_langs = df_no_facenums.original_language.value_counts().index[:3].tolist()\n",
    "top_langs"
   ]
  },
  {
   "cell_type": "code",
   "execution_count": null,
   "metadata": {
    "ExecuteTime": {
     "end_time": "2020-04-03T19:08:58.734518Z",
     "start_time": "2020-04-03T19:08:58.732147Z"
    }
   },
   "outputs": [],
   "source": [
    "def language_lumper(lang):\n",
    "    if lang not in top_langs:\n",
    "        return \"Other\"\n",
    "    else:\n",
    "        return lang"
   ]
  },
  {
   "cell_type": "code",
   "execution_count": null,
   "metadata": {
    "ExecuteTime": {
     "end_time": "2020-04-03T19:08:59.022517Z",
     "start_time": "2020-04-03T19:08:59.019319Z"
    }
   },
   "outputs": [],
   "source": [
    "df_no_facenums.original_language = df_no_facenums.original_language.apply(language_lumper)"
   ]
  },
  {
   "cell_type": "code",
   "execution_count": null,
   "metadata": {
    "ExecuteTime": {
     "end_time": "2020-04-03T19:08:59.027244Z",
     "start_time": "2020-04-03T19:08:59.023835Z"
    }
   },
   "outputs": [],
   "source": [
    "df_langs_lumped = df_no_facenums.drop(\"language spoken_languages\".split(),axis=1)\n",
    "del df_no_facenums\n",
    "del langs"
   ]
  },
  {
   "cell_type": "code",
   "execution_count": null,
   "metadata": {
    "ExecuteTime": {
     "end_time": "2020-04-03T19:08:59.512371Z",
     "start_time": "2020-04-03T19:08:59.489420Z"
    }
   },
   "outputs": [],
   "source": [
    "df_langs_lumped.head()"
   ]
  },
  {
   "cell_type": "code",
   "execution_count": null,
   "metadata": {
    "ExecuteTime": {
     "end_time": "2020-04-03T19:08:59.841383Z",
     "start_time": "2020-04-03T19:08:59.748476Z"
    }
   },
   "outputs": [],
   "source": [
    "df_langs_lumped.original_language.value_counts().plot(kind='bar')"
   ]
  },
  {
   "cell_type": "markdown",
   "metadata": {},
   "source": [
    "***"
   ]
  },
  {
   "cell_type": "code",
   "execution_count": null,
   "metadata": {
    "ExecuteTime": {
     "end_time": "2020-04-03T19:09:00.245398Z",
     "start_time": "2020-04-03T19:09:00.113130Z"
    }
   },
   "outputs": [],
   "source": [
    "nulls = df_langs_lumped.isna().sum()[df_langs_lumped.isna().sum() > 0].sort_values(ascending=False)\n",
    "\n",
    "nulls.plot(kind='bar', figsize=(15,8)).plot()\n",
    "\n",
    "del nulls"
   ]
  },
  {
   "cell_type": "markdown",
   "metadata": {},
   "source": [
    "### Duration / Runtime"
   ]
  },
  {
   "cell_type": "code",
   "execution_count": null,
   "metadata": {
    "ExecuteTime": {
     "end_time": "2020-04-03T19:09:00.486524Z",
     "start_time": "2020-04-03T19:09:00.479665Z"
    }
   },
   "outputs": [],
   "source": [
    "durs = df_langs_lumped[\"duration runtime\".split()]\n",
    "durs.head()"
   ]
  },
  {
   "cell_type": "markdown",
   "metadata": {
    "ExecuteTime": {
     "end_time": "2020-04-02T02:47:21.610275Z",
     "start_time": "2020-04-02T02:47:21.606596Z"
    }
   },
   "source": [
    "How different are these columns?"
   ]
  },
  {
   "cell_type": "code",
   "execution_count": null,
   "metadata": {
    "ExecuteTime": {
     "end_time": "2020-04-03T19:09:00.860465Z",
     "start_time": "2020-04-03T19:09:00.741337Z"
    }
   },
   "outputs": [],
   "source": [
    "(durs.duration - durs.runtime).plot(kind='hist')\n",
    "(durs.duration - durs.runtime).mean()"
   ]
  },
  {
   "cell_type": "markdown",
   "metadata": {},
   "source": [
    "Not very."
   ]
  },
  {
   "cell_type": "code",
   "execution_count": null,
   "metadata": {
    "ExecuteTime": {
     "end_time": "2020-04-03T19:09:01.115159Z",
     "start_time": "2020-04-03T19:09:01.111720Z"
    }
   },
   "outputs": [],
   "source": [
    "df_langs_lumped.drop([\"duration\"],axis=1,inplace=True)"
   ]
  },
  {
   "cell_type": "code",
   "execution_count": null,
   "metadata": {
    "ExecuteTime": {
     "end_time": "2020-04-03T19:09:01.345748Z",
     "start_time": "2020-04-03T19:09:01.339443Z"
    }
   },
   "outputs": [],
   "source": [
    "df_runtimes_filled = df_langs_lumped.assign(\n",
    "    durations=df_langs_lumped.runtime.fillna(\n",
    "        df_langs_lumped.runtime.median()\n",
    "    )\n",
    ").drop([\"runtime\"],axis=1)\n",
    "\n",
    "del df_langs_lumped\n",
    "del durs"
   ]
  },
  {
   "cell_type": "code",
   "execution_count": null,
   "metadata": {
    "ExecuteTime": {
     "end_time": "2020-04-03T19:09:01.353362Z",
     "start_time": "2020-04-03T19:09:01.347010Z"
    }
   },
   "outputs": [],
   "source": [
    "df_runtimes_filled.isna().mean()"
   ]
  },
  {
   "cell_type": "markdown",
   "metadata": {},
   "source": [
    "**No more obvious nulls!**"
   ]
  },
  {
   "cell_type": "code",
   "execution_count": null,
   "metadata": {
    "ExecuteTime": {
     "end_time": "2020-04-03T19:09:01.754888Z",
     "start_time": "2020-04-03T19:09:01.753064Z"
    }
   },
   "outputs": [],
   "source": [
    "# df_runtimes_filled.to_pickle(\"../data/pickles/df_no_nulls.pkl\")"
   ]
  },
  {
   "cell_type": "markdown",
   "metadata": {},
   "source": [
    "## Column Inspection: Categoricals"
   ]
  },
  {
   "cell_type": "code",
   "execution_count": 62,
   "metadata": {
    "ExecuteTime": {
     "end_time": "2020-04-03T21:11:29.024525Z",
     "start_time": "2020-04-03T21:11:29.010642Z"
    }
   },
   "outputs": [
    {
     "data": {
      "text/plain": [
       "['adult',\n",
       " 'original_language',\n",
       " 'production_countries',\n",
       " 'color',\n",
       " 'genres_api',\n",
       " 'title',\n",
       " 'movie_title',\n",
       " 'original_title',\n",
       " 'overview',\n",
       " 'content_rating',\n",
       " 'imdb_score',\n",
       " 'revenue',\n",
       " 'filled_budget',\n",
       " 'fixed_aspect',\n",
       " 'actor_1_facebook_likes',\n",
       " 'actor_2_facebook_likes',\n",
       " 'actor_3_facebook_likes',\n",
       " 'director_facebook_likes',\n",
       " 'cast_total_facebook_likes',\n",
       " 'durations']"
      ]
     },
     "execution_count": 62,
     "metadata": {},
     "output_type": "execute_result"
    }
   ],
   "source": [
    "df_no_nulls = pd.read_pickle(\"../data/pickles/df_no_nulls.pkl\")\n",
    "df_no_nulls.columns.tolist()"
   ]
  },
  {
   "cell_type": "markdown",
   "metadata": {},
   "source": [
    "### \"Adult\""
   ]
  },
  {
   "cell_type": "code",
   "execution_count": 63,
   "metadata": {
    "ExecuteTime": {
     "end_time": "2020-04-03T21:11:29.392538Z",
     "start_time": "2020-04-03T21:11:29.387074Z"
    }
   },
   "outputs": [
    {
     "data": {
      "text/plain": [
       "False    4925\n",
       "Name: adult, dtype: int64"
      ]
     },
     "execution_count": 63,
     "metadata": {},
     "output_type": "execute_result"
    }
   ],
   "source": [
    "df_no_nulls.adult.value_counts()"
   ]
  },
  {
   "cell_type": "markdown",
   "metadata": {},
   "source": [
    "Single-value column. Drop it"
   ]
  },
  {
   "cell_type": "code",
   "execution_count": 64,
   "metadata": {
    "ExecuteTime": {
     "end_time": "2020-04-03T21:11:29.727088Z",
     "start_time": "2020-04-03T21:11:29.721652Z"
    }
   },
   "outputs": [],
   "source": [
    "df_no_adult = df_no_nulls.drop([\"adult\"],axis=1)\n",
    "del df_no_nulls"
   ]
  },
  {
   "cell_type": "code",
   "execution_count": 65,
   "metadata": {
    "ExecuteTime": {
     "end_time": "2020-04-03T21:11:30.058760Z",
     "start_time": "2020-04-03T21:11:30.056479Z"
    }
   },
   "outputs": [],
   "source": [
    "# df_no_adult.columns.tolist()"
   ]
  },
  {
   "cell_type": "markdown",
   "metadata": {},
   "source": [
    "### Production Countries"
   ]
  },
  {
   "cell_type": "code",
   "execution_count": 66,
   "metadata": {
    "ExecuteTime": {
     "end_time": "2020-04-03T21:11:30.385831Z",
     "start_time": "2020-04-03T21:11:30.381156Z"
    }
   },
   "outputs": [
    {
     "data": {
      "text/plain": [
       "0        [{'iso_3166_1': 'KR', 'name': 'South Korea'}]\n",
       "1             [{'iso_3166_1': 'FR', 'name': 'France'}]\n",
       "2    [{'iso_3166_1': 'US', 'name': 'United States o...\n",
       "3        [{'iso_3166_1': 'KR', 'name': 'South Korea'}]\n",
       "4    [{'iso_3166_1': 'US', 'name': 'United States o...\n",
       "Name: production_countries, dtype: object"
      ]
     },
     "execution_count": 66,
     "metadata": {},
     "output_type": "execute_result"
    }
   ],
   "source": [
    "df_no_adult['production_countries'].head()"
   ]
  },
  {
   "cell_type": "markdown",
   "metadata": {},
   "source": [
    "Hmm list of dict. Let's just grab the human-readable names:"
   ]
  },
  {
   "cell_type": "code",
   "execution_count": 67,
   "metadata": {
    "ExecuteTime": {
     "end_time": "2020-04-03T21:11:30.713126Z",
     "start_time": "2020-04-03T21:11:30.710552Z"
    }
   },
   "outputs": [],
   "source": [
    "def prod_countries_extractor(countries):\n",
    "    if len(countries)!=0:\n",
    "        return {country['name'] for country in countries}\n",
    "    else:\n",
    "        return {}"
   ]
  },
  {
   "cell_type": "code",
   "execution_count": 68,
   "metadata": {
    "ExecuteTime": {
     "end_time": "2020-04-03T21:11:31.043834Z",
     "start_time": "2020-04-03T21:11:31.035441Z"
    }
   },
   "outputs": [],
   "source": [
    "df_no_adult.production_countries = df_no_adult.production_countries.apply(prod_countries_extractor)"
   ]
  },
  {
   "cell_type": "code",
   "execution_count": 69,
   "metadata": {
    "ExecuteTime": {
     "end_time": "2020-04-03T21:11:31.399254Z",
     "start_time": "2020-04-03T21:11:31.394846Z"
    }
   },
   "outputs": [
    {
     "data": {
      "text/plain": [
       "29                      {France, Spain, Belgium}\n",
       "30                    {United States of America}\n",
       "31                                            {}\n",
       "32    {United Kingdom, United States of America}\n",
       "33                                       {Japan}\n",
       "34                                       {Japan}\n",
       "Name: production_countries, dtype: object"
      ]
     },
     "execution_count": 69,
     "metadata": {},
     "output_type": "execute_result"
    }
   ],
   "source": [
    "df_no_adult.production_countries.loc[29:34]"
   ]
  },
  {
   "cell_type": "code",
   "execution_count": 70,
   "metadata": {
    "ExecuteTime": {
     "end_time": "2020-04-03T21:11:31.898271Z",
     "start_time": "2020-04-03T21:11:31.769798Z"
    }
   },
   "outputs": [
    {
     "data": {
      "image/png": "[encoded data removed]",
      "text/plain": [
       "<Figure size 432x288 with 1 Axes>"
      ]
     },
     "metadata": {
      "needs_background": "light"
     },
     "output_type": "display_data"
    }
   ],
   "source": [
    "# Turns out pandas vectorized string operations work on lists too\n",
    "ax = df_no_adult.production_countries.str.len().value_counts().sort_index().plot(kind='bar')\n",
    "ax.set_xlabel(\"N countries\")\n",
    "ax.set_ylabel(\"N Films\")\n",
    "ax.plot()\n",
    "del ax"
   ]
  },
  {
   "cell_type": "markdown",
   "metadata": {},
   "source": [
    "I feel like that ^ can become an int column, after the zeroes are fixed"
   ]
  },
  {
   "cell_type": "code",
   "execution_count": 71,
   "metadata": {
    "ExecuteTime": {
     "end_time": "2020-04-03T21:11:32.406066Z",
     "start_time": "2020-04-03T21:11:32.387460Z"
    }
   },
   "outputs": [
    {
     "data": {
      "text/html": [
       "<div>\n",
       "<style scoped>\n",
       "    .dataframe tbody tr th:only-of-type {\n",
       "        vertical-align: middle;\n",
       "    }\n",
       "\n",
       "    .dataframe tbody tr th {\n",
       "        vertical-align: top;\n",
       "    }\n",
       "\n",
       "    .dataframe thead th {\n",
       "        text-align: right;\n",
       "    }\n",
       "</style>\n",
       "<table border=\"1\" class=\"dataframe\">\n",
       "  <thead>\n",
       "    <tr style=\"text-align: right;\">\n",
       "      <th></th>\n",
       "      <th>original_language</th>\n",
       "      <th>production_countries</th>\n",
       "      <th>color</th>\n",
       "      <th>genres_api</th>\n",
       "      <th>title</th>\n",
       "      <th>movie_title</th>\n",
       "      <th>original_title</th>\n",
       "      <th>overview</th>\n",
       "      <th>content_rating</th>\n",
       "      <th>imdb_score</th>\n",
       "      <th>revenue</th>\n",
       "      <th>filled_budget</th>\n",
       "      <th>fixed_aspect</th>\n",
       "      <th>actor_1_facebook_likes</th>\n",
       "      <th>actor_2_facebook_likes</th>\n",
       "      <th>actor_3_facebook_likes</th>\n",
       "      <th>director_facebook_likes</th>\n",
       "      <th>cast_total_facebook_likes</th>\n",
       "      <th>durations</th>\n",
       "    </tr>\n",
       "  </thead>\n",
       "  <tbody>\n",
       "    <tr>\n",
       "      <th>480</th>\n",
       "      <td>Other</td>\n",
       "      <td>{}</td>\n",
       "      <td>Color</td>\n",
       "      <td>Documentary|News</td>\n",
       "      <td>Food Chains</td>\n",
       "      <td>Food Chains</td>\n",
       "      <td>Food Chains</td>\n",
       "      <td></td>\n",
       "      <td>PG-13</td>\n",
       "      <td>7.1</td>\n",
       "      <td>0</td>\n",
       "      <td>913000.0</td>\n",
       "      <td>1.85</td>\n",
       "      <td>56.0</td>\n",
       "      <td>28.0</td>\n",
       "      <td>17.0</td>\n",
       "      <td>0.0</td>\n",
       "      <td>104</td>\n",
       "      <td>83.0</td>\n",
       "    </tr>\n",
       "    <tr>\n",
       "      <th>2051</th>\n",
       "      <td>Other</td>\n",
       "      <td>{}</td>\n",
       "      <td>Color</td>\n",
       "      <td>Horror|Thriller</td>\n",
       "      <td>The Tooth Fairy</td>\n",
       "      <td>The Tooth Fairy</td>\n",
       "      <td>The Tooth Fairy</td>\n",
       "      <td>A woman and her daughter (Nicole Muñoz) encoun...</td>\n",
       "      <td>PG-13</td>\n",
       "      <td>4.6</td>\n",
       "      <td>0</td>\n",
       "      <td>1500000.0</td>\n",
       "      <td>1.77</td>\n",
       "      <td>598.0</td>\n",
       "      <td>555.0</td>\n",
       "      <td>235.0</td>\n",
       "      <td>42.0</td>\n",
       "      <td>2353</td>\n",
       "      <td>89.0</td>\n",
       "    </tr>\n",
       "    <tr>\n",
       "      <th>2260</th>\n",
       "      <td>Other</td>\n",
       "      <td>{}</td>\n",
       "      <td>Color</td>\n",
       "      <td>Action|Adventure|Romance|Sci-Fi</td>\n",
       "      <td>Krrish</td>\n",
       "      <td>Krrish</td>\n",
       "      <td>कृष</td>\n",
       "      <td>In Singapore, Krishna is forced by circumstanc...</td>\n",
       "      <td>Unrated</td>\n",
       "      <td>6.3</td>\n",
       "      <td>0</td>\n",
       "      <td>10000000.0</td>\n",
       "      <td>2.39</td>\n",
       "      <td>307.0</td>\n",
       "      <td>200.0</td>\n",
       "      <td>45.0</td>\n",
       "      <td>53.0</td>\n",
       "      <td>616</td>\n",
       "      <td>174.0</td>\n",
       "    </tr>\n",
       "    <tr>\n",
       "      <th>3242</th>\n",
       "      <td>Other</td>\n",
       "      <td>{}</td>\n",
       "      <td>Color</td>\n",
       "      <td>Action|Comedy|Romance|Thriller</td>\n",
       "      <td>Hum To Mohabbat Karega</td>\n",
       "      <td>Hum To Mohabbat Karega</td>\n",
       "      <td>Hum To Mohabbat Karega</td>\n",
       "      <td>A man lies about being an eyewitness to a murd...</td>\n",
       "      <td>PG-13</td>\n",
       "      <td>2.8</td>\n",
       "      <td>0</td>\n",
       "      <td>19500000.0</td>\n",
       "      <td>1.85</td>\n",
       "      <td>353.0</td>\n",
       "      <td>89.0</td>\n",
       "      <td>72.0</td>\n",
       "      <td>4.0</td>\n",
       "      <td>613</td>\n",
       "      <td>148.0</td>\n",
       "    </tr>\n",
       "  </tbody>\n",
       "</table>\n",
       "</div>"
      ],
      "text/plain": [
       "     original_language production_countries  color  \\\n",
       "480              Other                   {}  Color   \n",
       "2051             Other                   {}  Color   \n",
       "2260             Other                   {}  Color   \n",
       "3242             Other                   {}  Color   \n",
       "\n",
       "                           genres_api                   title  \\\n",
       "480                  Documentary|News             Food Chains   \n",
       "2051                  Horror|Thriller         The Tooth Fairy   \n",
       "2260  Action|Adventure|Romance|Sci-Fi                  Krrish   \n",
       "3242   Action|Comedy|Romance|Thriller  Hum To Mohabbat Karega   \n",
       "\n",
       "                  movie_title          original_title  \\\n",
       "480              Food Chains              Food Chains   \n",
       "2051         The Tooth Fairy          The Tooth Fairy   \n",
       "2260                  Krrish                      कृष   \n",
       "3242  Hum To Mohabbat Karega   Hum To Mohabbat Karega   \n",
       "\n",
       "                                               overview content_rating  \\\n",
       "480                                                              PG-13   \n",
       "2051  A woman and her daughter (Nicole Muñoz) encoun...          PG-13   \n",
       "2260  In Singapore, Krishna is forced by circumstanc...        Unrated   \n",
       "3242  A man lies about being an eyewitness to a murd...          PG-13   \n",
       "\n",
       "      imdb_score  revenue  filled_budget fixed_aspect  actor_1_facebook_likes  \\\n",
       "480          7.1        0       913000.0         1.85                    56.0   \n",
       "2051         4.6        0      1500000.0         1.77                   598.0   \n",
       "2260         6.3        0     10000000.0         2.39                   307.0   \n",
       "3242         2.8        0     19500000.0         1.85                   353.0   \n",
       "\n",
       "      actor_2_facebook_likes  actor_3_facebook_likes  director_facebook_likes  \\\n",
       "480                     28.0                    17.0                      0.0   \n",
       "2051                   555.0                   235.0                     42.0   \n",
       "2260                   200.0                    45.0                     53.0   \n",
       "3242                    89.0                    72.0                      4.0   \n",
       "\n",
       "      cast_total_facebook_likes  durations  \n",
       "480                         104       83.0  \n",
       "2051                       2353       89.0  \n",
       "2260                        616      174.0  \n",
       "3242                        613      148.0  "
      ]
     },
     "execution_count": 71,
     "metadata": {},
     "output_type": "execute_result"
    }
   ],
   "source": [
    "# If it's not in English, can we guess where it was filmed?\n",
    "df_no_adult[(\n",
    "                df_no_adult.production_countries.str.len()==0\n",
    "            )&(\n",
    "                df_no_adult.original_language!=\"English\"\n",
    "            )]"
   ]
  },
  {
   "cell_type": "code",
   "execution_count": 72,
   "metadata": {
    "ExecuteTime": {
     "end_time": "2020-04-03T21:11:33.914975Z",
     "start_time": "2020-04-03T21:11:33.909743Z"
    }
   },
   "outputs": [
    {
     "name": "stderr",
     "output_type": "stream",
     "text": [
      "/Users/admin/.local/share/virtualenvs/Good-Film-Bad-Film-vaMlpeB4/lib/python3.7/site-packages/pandas/core/indexing.py:671: SettingWithCopyWarning: \n",
      "A value is trying to be set on a copy of a slice from a DataFrame\n",
      "\n",
      "See the caveats in the documentation: https://pandas.pydata.org/pandas-docs/stable/user_guide/indexing.html#returning-a-view-versus-a-copy\n",
      "  self._setitem_with_indexer(indexer, value)\n"
     ]
    }
   ],
   "source": [
    "guesses = {480:\"Germany\", \n",
    "           2051:\"Germany\",\n",
    "           2260:\"India\",\n",
    "           3242:\"India\"}\n",
    "\n",
    "for index, country in guesses.items():\n",
    "    df_no_adult['production_countries'].loc[index] = country\n",
    "    \n",
    "del index\n",
    "del country"
   ]
  },
  {
   "cell_type": "code",
   "execution_count": 73,
   "metadata": {
    "ExecuteTime": {
     "end_time": "2020-04-03T21:11:34.501440Z",
     "start_time": "2020-04-03T21:11:34.485595Z"
    }
   },
   "outputs": [
    {
     "data": {
      "text/html": [
       "<div>\n",
       "<style scoped>\n",
       "    .dataframe tbody tr th:only-of-type {\n",
       "        vertical-align: middle;\n",
       "    }\n",
       "\n",
       "    .dataframe tbody tr th {\n",
       "        vertical-align: top;\n",
       "    }\n",
       "\n",
       "    .dataframe thead th {\n",
       "        text-align: right;\n",
       "    }\n",
       "</style>\n",
       "<table border=\"1\" class=\"dataframe\">\n",
       "  <thead>\n",
       "    <tr style=\"text-align: right;\">\n",
       "      <th></th>\n",
       "      <th>original_language</th>\n",
       "      <th>production_countries</th>\n",
       "      <th>color</th>\n",
       "      <th>genres_api</th>\n",
       "      <th>title</th>\n",
       "      <th>movie_title</th>\n",
       "      <th>original_title</th>\n",
       "      <th>overview</th>\n",
       "      <th>content_rating</th>\n",
       "      <th>imdb_score</th>\n",
       "      <th>revenue</th>\n",
       "      <th>filled_budget</th>\n",
       "      <th>fixed_aspect</th>\n",
       "      <th>actor_1_facebook_likes</th>\n",
       "      <th>actor_2_facebook_likes</th>\n",
       "      <th>actor_3_facebook_likes</th>\n",
       "      <th>director_facebook_likes</th>\n",
       "      <th>cast_total_facebook_likes</th>\n",
       "      <th>durations</th>\n",
       "    </tr>\n",
       "  </thead>\n",
       "  <tbody>\n",
       "    <tr>\n",
       "      <th>480</th>\n",
       "      <td>Other</td>\n",
       "      <td>Germany</td>\n",
       "      <td>Color</td>\n",
       "      <td>Documentary|News</td>\n",
       "      <td>Food Chains</td>\n",
       "      <td>Food Chains</td>\n",
       "      <td>Food Chains</td>\n",
       "      <td></td>\n",
       "      <td>PG-13</td>\n",
       "      <td>7.1</td>\n",
       "      <td>0</td>\n",
       "      <td>913000.0</td>\n",
       "      <td>1.85</td>\n",
       "      <td>56.0</td>\n",
       "      <td>28.0</td>\n",
       "      <td>17.0</td>\n",
       "      <td>0.0</td>\n",
       "      <td>104</td>\n",
       "      <td>83.0</td>\n",
       "    </tr>\n",
       "    <tr>\n",
       "      <th>2051</th>\n",
       "      <td>Other</td>\n",
       "      <td>Germany</td>\n",
       "      <td>Color</td>\n",
       "      <td>Horror|Thriller</td>\n",
       "      <td>The Tooth Fairy</td>\n",
       "      <td>The Tooth Fairy</td>\n",
       "      <td>The Tooth Fairy</td>\n",
       "      <td>A woman and her daughter (Nicole Muñoz) encoun...</td>\n",
       "      <td>PG-13</td>\n",
       "      <td>4.6</td>\n",
       "      <td>0</td>\n",
       "      <td>1500000.0</td>\n",
       "      <td>1.77</td>\n",
       "      <td>598.0</td>\n",
       "      <td>555.0</td>\n",
       "      <td>235.0</td>\n",
       "      <td>42.0</td>\n",
       "      <td>2353</td>\n",
       "      <td>89.0</td>\n",
       "    </tr>\n",
       "    <tr>\n",
       "      <th>2260</th>\n",
       "      <td>Other</td>\n",
       "      <td>India</td>\n",
       "      <td>Color</td>\n",
       "      <td>Action|Adventure|Romance|Sci-Fi</td>\n",
       "      <td>Krrish</td>\n",
       "      <td>Krrish</td>\n",
       "      <td>कृष</td>\n",
       "      <td>In Singapore, Krishna is forced by circumstanc...</td>\n",
       "      <td>Unrated</td>\n",
       "      <td>6.3</td>\n",
       "      <td>0</td>\n",
       "      <td>10000000.0</td>\n",
       "      <td>2.39</td>\n",
       "      <td>307.0</td>\n",
       "      <td>200.0</td>\n",
       "      <td>45.0</td>\n",
       "      <td>53.0</td>\n",
       "      <td>616</td>\n",
       "      <td>174.0</td>\n",
       "    </tr>\n",
       "    <tr>\n",
       "      <th>3242</th>\n",
       "      <td>Other</td>\n",
       "      <td>India</td>\n",
       "      <td>Color</td>\n",
       "      <td>Action|Comedy|Romance|Thriller</td>\n",
       "      <td>Hum To Mohabbat Karega</td>\n",
       "      <td>Hum To Mohabbat Karega</td>\n",
       "      <td>Hum To Mohabbat Karega</td>\n",
       "      <td>A man lies about being an eyewitness to a murd...</td>\n",
       "      <td>PG-13</td>\n",
       "      <td>2.8</td>\n",
       "      <td>0</td>\n",
       "      <td>19500000.0</td>\n",
       "      <td>1.85</td>\n",
       "      <td>353.0</td>\n",
       "      <td>89.0</td>\n",
       "      <td>72.0</td>\n",
       "      <td>4.0</td>\n",
       "      <td>613</td>\n",
       "      <td>148.0</td>\n",
       "    </tr>\n",
       "  </tbody>\n",
       "</table>\n",
       "</div>"
      ],
      "text/plain": [
       "     original_language production_countries  color  \\\n",
       "480              Other              Germany  Color   \n",
       "2051             Other              Germany  Color   \n",
       "2260             Other                India  Color   \n",
       "3242             Other                India  Color   \n",
       "\n",
       "                           genres_api                   title  \\\n",
       "480                  Documentary|News             Food Chains   \n",
       "2051                  Horror|Thriller         The Tooth Fairy   \n",
       "2260  Action|Adventure|Romance|Sci-Fi                  Krrish   \n",
       "3242   Action|Comedy|Romance|Thriller  Hum To Mohabbat Karega   \n",
       "\n",
       "                  movie_title          original_title  \\\n",
       "480              Food Chains              Food Chains   \n",
       "2051         The Tooth Fairy          The Tooth Fairy   \n",
       "2260                  Krrish                      कृष   \n",
       "3242  Hum To Mohabbat Karega   Hum To Mohabbat Karega   \n",
       "\n",
       "                                               overview content_rating  \\\n",
       "480                                                              PG-13   \n",
       "2051  A woman and her daughter (Nicole Muñoz) encoun...          PG-13   \n",
       "2260  In Singapore, Krishna is forced by circumstanc...        Unrated   \n",
       "3242  A man lies about being an eyewitness to a murd...          PG-13   \n",
       "\n",
       "      imdb_score  revenue  filled_budget fixed_aspect  actor_1_facebook_likes  \\\n",
       "480          7.1        0       913000.0         1.85                    56.0   \n",
       "2051         4.6        0      1500000.0         1.77                   598.0   \n",
       "2260         6.3        0     10000000.0         2.39                   307.0   \n",
       "3242         2.8        0     19500000.0         1.85                   353.0   \n",
       "\n",
       "      actor_2_facebook_likes  actor_3_facebook_likes  director_facebook_likes  \\\n",
       "480                     28.0                    17.0                      0.0   \n",
       "2051                   555.0                   235.0                     42.0   \n",
       "2260                   200.0                    45.0                     53.0   \n",
       "3242                    89.0                    72.0                      4.0   \n",
       "\n",
       "      cast_total_facebook_likes  durations  \n",
       "480                         104       83.0  \n",
       "2051                       2353       89.0  \n",
       "2260                        616      174.0  \n",
       "3242                        613      148.0  "
      ]
     },
     "execution_count": 73,
     "metadata": {},
     "output_type": "execute_result"
    }
   ],
   "source": [
    "df_no_adult.loc[guesses.keys()]"
   ]
  },
  {
   "cell_type": "code",
   "execution_count": 74,
   "metadata": {
    "ExecuteTime": {
     "end_time": "2020-04-03T21:11:34.912645Z",
     "start_time": "2020-04-03T21:11:34.910561Z"
    }
   },
   "outputs": [],
   "source": [
    "del guesses"
   ]
  },
  {
   "cell_type": "code",
   "execution_count": 75,
   "metadata": {
    "ExecuteTime": {
     "end_time": "2020-04-03T21:11:35.300758Z",
     "start_time": "2020-04-03T21:11:35.283637Z"
    }
   },
   "outputs": [
    {
     "ename": "TypeError",
     "evalue": "unhashable type: 'set'",
     "output_type": "error",
     "traceback": [
      "\u001b[0;31m---------------------------------------------------------------------------\u001b[0m",
      "\u001b[0;31mTypeError\u001b[0m                                 Traceback (most recent call last)",
      "\u001b[0;32mpandas/_libs/hashtable_class_helper.pxi\u001b[0m in \u001b[0;36mpandas._libs.hashtable.PyObjectHashTable.map_locations\u001b[0;34m()\u001b[0m\n",
      "\u001b[0;31mTypeError\u001b[0m: unhashable type: 'set'"
     ]
    },
    {
     "name": "stderr",
     "output_type": "stream",
     "text": [
      "Exception ignored in: 'pandas._libs.index.IndexEngine._call_map_locations'\n",
      "Traceback (most recent call last):\n",
      "  File \"pandas/_libs/hashtable_class_helper.pxi\", line 1653, in pandas._libs.hashtable.PyObjectHashTable.map_locations\n",
      "TypeError: unhashable type: 'set'\n"
     ]
    },
    {
     "data": {
      "text/plain": [
       "{United States of America}                    3067\n",
       "{United Kingdom, United States of America}     222\n",
       "{Germany, United States of America}            139\n",
       "{}                                             135\n",
       "{United Kingdom}                               128\n",
       "{Canada, United States of America}             107\n",
       "{Australia, United States of America}           57\n",
       "{France}                                        49\n",
       "{Canada}                                        47\n",
       "{France, United States of America}              43\n",
       "Name: production_countries, dtype: int64"
      ]
     },
     "execution_count": 75,
     "metadata": {},
     "output_type": "execute_result"
    }
   ],
   "source": [
    "df_no_adult.production_countries.value_counts().head(10)"
   ]
  },
  {
   "cell_type": "code",
   "execution_count": 76,
   "metadata": {
    "ExecuteTime": {
     "end_time": "2020-04-03T21:11:35.677290Z",
     "start_time": "2020-04-03T21:11:35.675120Z"
    }
   },
   "outputs": [],
   "source": [
    "def fill_with_USA(country_set):\n",
    "    return {\"United States of America\"} if country_set == {} else country_set"
   ]
  },
  {
   "cell_type": "code",
   "execution_count": 77,
   "metadata": {
    "ExecuteTime": {
     "end_time": "2020-04-03T21:11:36.051016Z",
     "start_time": "2020-04-03T21:11:36.047166Z"
    }
   },
   "outputs": [],
   "source": [
    "df_no_adult[\"production_countries\"] = df_no_adult.production_countries.apply(fill_with_USA)"
   ]
  },
  {
   "cell_type": "code",
   "execution_count": 78,
   "metadata": {
    "ExecuteTime": {
     "end_time": "2020-04-03T21:11:36.364105Z",
     "start_time": "2020-04-03T21:11:36.361346Z"
    }
   },
   "outputs": [],
   "source": [
    "df_filled_USA = df_no_adult.copy()\n",
    "del df_no_adult"
   ]
  },
  {
   "cell_type": "markdown",
   "metadata": {},
   "source": [
    "Might need to split into USA and not-USA to deal with class imbalance"
   ]
  },
  {
   "cell_type": "code",
   "execution_count": 79,
   "metadata": {
    "ExecuteTime": {
     "end_time": "2020-04-03T21:11:37.151576Z",
     "start_time": "2020-04-03T21:11:37.149110Z"
    }
   },
   "outputs": [],
   "source": [
    "def usa_or_not(country_set):\n",
    "    return True if country_set=={\"United States of America\"} else False"
   ]
  },
  {
   "cell_type": "code",
   "execution_count": 80,
   "metadata": {
    "ExecuteTime": {
     "end_time": "2020-04-03T21:11:37.616517Z",
     "start_time": "2020-04-03T21:11:37.518613Z"
    }
   },
   "outputs": [
    {
     "data": {
      "image/png": "[encoded data removed]",
      "text/plain": [
       "<Figure size 432x288 with 1 Axes>"
      ]
     },
     "metadata": {
      "needs_background": "light"
     },
     "output_type": "display_data"
    }
   ],
   "source": [
    "ax = df_filled_USA.production_countries.apply(usa_or_not).value_counts().plot(kind='bar')\n",
    "ax.set_xlabel(\"Shot only in USA\")\n",
    "del ax"
   ]
  },
  {
   "cell_type": "code",
   "execution_count": 81,
   "metadata": {
    "ExecuteTime": {
     "end_time": "2020-04-03T21:11:37.927597Z",
     "start_time": "2020-04-03T21:11:37.923390Z"
    }
   },
   "outputs": [],
   "source": [
    "df_filled_USA['shot_only_in_USA'] = df_filled_USA.production_countries.apply(usa_or_not)"
   ]
  },
  {
   "cell_type": "code",
   "execution_count": 82,
   "metadata": {
    "ExecuteTime": {
     "end_time": "2020-04-03T21:11:38.244764Z",
     "start_time": "2020-04-03T21:11:38.242251Z"
    }
   },
   "outputs": [],
   "source": [
    "def shot_in_usa_and_abroad(country_set):\n",
    "    if len(country_set)>1 and \"United States of America\" in country_set:\n",
    "        return True\n",
    "    else:\n",
    "        return False"
   ]
  },
  {
   "cell_type": "code",
   "execution_count": 83,
   "metadata": {
    "ExecuteTime": {
     "end_time": "2020-04-03T21:11:38.566615Z",
     "start_time": "2020-04-03T21:11:38.562263Z"
    }
   },
   "outputs": [],
   "source": [
    "df_filled_USA['shot_in_USA_and_abroad'] = df_filled_USA.production_countries.apply(shot_in_usa_and_abroad)"
   ]
  },
  {
   "cell_type": "code",
   "execution_count": 84,
   "metadata": {
    "ExecuteTime": {
     "end_time": "2020-04-03T21:11:39.871934Z",
     "start_time": "2020-04-03T21:11:39.774120Z"
    }
   },
   "outputs": [
    {
     "data": {
      "text/plain": [
       "<matplotlib.axes._subplots.AxesSubplot at 0x13d193150>"
      ]
     },
     "execution_count": 84,
     "metadata": {},
     "output_type": "execute_result"
    },
    {
     "data": {
      "image/png": "[encoded data removed]",
      "text/plain": [
       "<Figure size 432x288 with 1 Axes>"
      ]
     },
     "metadata": {
      "needs_background": "light"
     },
     "output_type": "display_data"
    }
   ],
   "source": [
    "df_filled_USA['shot_in_USA_and_abroad'].value_counts().plot(kind='bar')"
   ]
  },
  {
   "cell_type": "code",
   "execution_count": 85,
   "metadata": {
    "ExecuteTime": {
     "end_time": "2020-04-03T21:11:40.314225Z",
     "start_time": "2020-04-03T21:11:40.214154Z"
    }
   },
   "outputs": [
    {
     "data": {
      "text/plain": [
       "<matplotlib.axes._subplots.AxesSubplot at 0x13b81fed0>"
      ]
     },
     "execution_count": 85,
     "metadata": {},
     "output_type": "execute_result"
    },
    {
     "data": {
      "image/png": "[encoded data removed]",
      "text/plain": [
       "<Figure size 432x288 with 1 Axes>"
      ]
     },
     "metadata": {
      "needs_background": "light"
     },
     "output_type": "display_data"
    }
   ],
   "source": [
    "df_filled_USA['n_production_countries'] = df_filled_USA.production_countries.str.len()\n",
    "df_filled_USA['n_production_countries'].plot(kind='box')"
   ]
  },
  {
   "cell_type": "code",
   "execution_count": 86,
   "metadata": {
    "ExecuteTime": {
     "end_time": "2020-04-03T21:11:40.670292Z",
     "start_time": "2020-04-03T21:11:40.666294Z"
    }
   },
   "outputs": [],
   "source": [
    "df_n_countries = df_filled_USA.drop([\"production_countries\"],axis=1)"
   ]
  },
  {
   "cell_type": "code",
   "execution_count": 87,
   "metadata": {
    "ExecuteTime": {
     "end_time": "2020-04-03T21:11:41.169421Z",
     "start_time": "2020-04-03T21:11:41.167323Z"
    }
   },
   "outputs": [],
   "source": [
    "del df_filled_USA"
   ]
  },
  {
   "cell_type": "code",
   "execution_count": 88,
   "metadata": {
    "ExecuteTime": {
     "end_time": "2020-04-03T21:11:41.672967Z",
     "start_time": "2020-04-03T21:11:41.669501Z"
    }
   },
   "outputs": [
    {
     "data": {
      "text/plain": [
       "['original_language',\n",
       " 'color',\n",
       " 'genres_api',\n",
       " 'title',\n",
       " 'movie_title',\n",
       " 'original_title',\n",
       " 'overview',\n",
       " 'content_rating',\n",
       " 'imdb_score',\n",
       " 'revenue',\n",
       " 'filled_budget',\n",
       " 'fixed_aspect',\n",
       " 'actor_1_facebook_likes',\n",
       " 'actor_2_facebook_likes',\n",
       " 'actor_3_facebook_likes',\n",
       " 'director_facebook_likes',\n",
       " 'cast_total_facebook_likes',\n",
       " 'durations',\n",
       " 'shot_only_in_USA',\n",
       " 'shot_in_USA_and_abroad',\n",
       " 'n_production_countries']"
      ]
     },
     "execution_count": 88,
     "metadata": {},
     "output_type": "execute_result"
    }
   ],
   "source": [
    "df_n_countries.columns.tolist()"
   ]
  },
  {
   "cell_type": "markdown",
   "metadata": {},
   "source": [
    "### Genre"
   ]
  },
  {
   "cell_type": "code",
   "execution_count": 89,
   "metadata": {
    "ExecuteTime": {
     "end_time": "2020-04-03T21:11:49.855295Z",
     "start_time": "2020-04-03T21:11:49.845338Z"
    }
   },
   "outputs": [],
   "source": [
    "df_n_countries['genre'] = df_n_countries['genres_api'].str.split(\"|\")\n",
    "df_n_countries['genre'] = df_n_countries['genre'].apply(lambda x: set(x))\n",
    "del df_n_countries[\"genres_api\"]"
   ]
  },
  {
   "cell_type": "code",
   "execution_count": 90,
   "metadata": {
    "ExecuteTime": {
     "end_time": "2020-04-03T21:12:08.059901Z",
     "start_time": "2020-04-03T21:12:08.014155Z"
    }
   },
   "outputs": [
    {
     "ename": "TypeError",
     "evalue": "unhashable type: 'set'",
     "output_type": "error",
     "traceback": [
      "\u001b[0;31m---------------------------------------------------------------------------\u001b[0m",
      "\u001b[0;31mTypeError\u001b[0m                                 Traceback (most recent call last)",
      "\u001b[0;32mpandas/_libs/hashtable_class_helper.pxi\u001b[0m in \u001b[0;36mpandas._libs.hashtable.PyObjectHashTable.map_locations\u001b[0;34m()\u001b[0m\n",
      "\u001b[0;31mTypeError\u001b[0m: unhashable type: 'set'"
     ]
    },
    {
     "name": "stderr",
     "output_type": "stream",
     "text": [
      "Exception ignored in: 'pandas._libs.index.IndexEngine._call_map_locations'\n",
      "Traceback (most recent call last):\n",
      "  File \"pandas/_libs/hashtable_class_helper.pxi\", line 1653, in pandas._libs.hashtable.PyObjectHashTable.map_locations\n",
      "TypeError: unhashable type: 'set'\n"
     ]
    },
    {
     "data": {
      "text/plain": [
       "{Drama}                              232\n",
       "{Comedy}                             200\n",
       "{Comedy, Drama}                      189\n",
       "{Comedy, Romance, Drama}             184\n",
       "{Comedy, Romance}                    153\n",
       "{Drama, Romance}                     149\n",
       "{Crime, Drama, Thriller}              98\n",
       "{Horror}                              71\n",
       "{Crime, Action, Thriller}             65\n",
       "{Crime, Drama, Action, Thriller}      64\n",
       "{Drama, Thriller}                     63\n",
       "{Crime, Drama}                        58\n",
       "{Horror, Thriller}                    56\n",
       "{Mystery, Crime, Drama, Thriller}     52\n",
       "{Adventure, Action, Sci-Fi}           51\n",
       "{Crime, Comedy}                       51\n",
       "{Documentary}                         48\n",
       "{Adventure, Action, Thriller}         46\n",
       "{Mystery, Drama, Thriller}            36\n",
       "{Mystery, Horror, Thriller}           35\n",
       "Name: genre, dtype: int64"
      ]
     },
     "execution_count": 90,
     "metadata": {},
     "output_type": "execute_result"
    }
   ],
   "source": [
    "df_n_countries['genre'].apply(lambda x: set(x)).value_counts().head(20)"
   ]
  },
  {
   "cell_type": "code",
   "execution_count": 91,
   "metadata": {
    "ExecuteTime": {
     "end_time": "2020-04-03T21:13:32.592343Z",
     "start_time": "2020-04-03T21:13:32.590025Z"
    }
   },
   "outputs": [],
   "source": [
    "genre_cats = \"Drama Comedy Romance Crime Thriller Horror Action Mystery Sci-Fi Adventure Documentary\".split()"
   ]
  },
  {
   "cell_type": "code",
   "execution_count": 92,
   "metadata": {
    "ExecuteTime": {
     "end_time": "2020-04-03T21:13:33.008158Z",
     "start_time": "2020-04-03T21:13:33.005399Z"
    }
   },
   "outputs": [],
   "source": [
    "def genre_encoder(genre_set):\n",
    "    new = pd.Series(False, index=genre_cats)\n",
    "    for genre in genre_set:\n",
    "        if genre in genre_cats:\n",
    "            new[genre] = True\n",
    "    return new"
   ]
  },
  {
   "cell_type": "code",
   "execution_count": 94,
   "metadata": {
    "ExecuteTime": {
     "end_time": "2020-04-03T21:13:42.914114Z",
     "start_time": "2020-04-03T21:13:42.909829Z"
    }
   },
   "outputs": [
    {
     "data": {
      "text/plain": [
       "0    {Fantasy, Horror, Mystery, Thriller}\n",
       "1                         {Comedy, Drama}\n",
       "2                           {Documentary}\n",
       "3           {Drama, Action, History, War}\n",
       "4                       {Comedy, Romance}\n",
       "Name: genre, dtype: object"
      ]
     },
     "execution_count": 94,
     "metadata": {},
     "output_type": "execute_result"
    }
   ],
   "source": [
    "df_n_countries.genre.head()"
   ]
  },
  {
   "cell_type": "code",
   "execution_count": 93,
   "metadata": {
    "ExecuteTime": {
     "end_time": "2020-04-03T21:13:33.667339Z",
     "start_time": "2020-04-03T21:13:33.654206Z"
    }
   },
   "outputs": [
    {
     "data": {
      "text/html": [
       "<div>\n",
       "<style scoped>\n",
       "    .dataframe tbody tr th:only-of-type {\n",
       "        vertical-align: middle;\n",
       "    }\n",
       "\n",
       "    .dataframe tbody tr th {\n",
       "        vertical-align: top;\n",
       "    }\n",
       "\n",
       "    .dataframe thead th {\n",
       "        text-align: right;\n",
       "    }\n",
       "</style>\n",
       "<table border=\"1\" class=\"dataframe\">\n",
       "  <thead>\n",
       "    <tr style=\"text-align: right;\">\n",
       "      <th></th>\n",
       "      <th>Drama</th>\n",
       "      <th>Comedy</th>\n",
       "      <th>Romance</th>\n",
       "      <th>Crime</th>\n",
       "      <th>Thriller</th>\n",
       "      <th>Horror</th>\n",
       "      <th>Action</th>\n",
       "      <th>Mystery</th>\n",
       "      <th>Sci-Fi</th>\n",
       "      <th>Adventure</th>\n",
       "      <th>Documentary</th>\n",
       "    </tr>\n",
       "  </thead>\n",
       "  <tbody>\n",
       "    <tr>\n",
       "      <th>0</th>\n",
       "      <td>False</td>\n",
       "      <td>False</td>\n",
       "      <td>False</td>\n",
       "      <td>False</td>\n",
       "      <td>True</td>\n",
       "      <td>True</td>\n",
       "      <td>False</td>\n",
       "      <td>True</td>\n",
       "      <td>False</td>\n",
       "      <td>False</td>\n",
       "      <td>False</td>\n",
       "    </tr>\n",
       "    <tr>\n",
       "      <th>1</th>\n",
       "      <td>True</td>\n",
       "      <td>True</td>\n",
       "      <td>False</td>\n",
       "      <td>False</td>\n",
       "      <td>False</td>\n",
       "      <td>False</td>\n",
       "      <td>False</td>\n",
       "      <td>False</td>\n",
       "      <td>False</td>\n",
       "      <td>False</td>\n",
       "      <td>False</td>\n",
       "    </tr>\n",
       "    <tr>\n",
       "      <th>2</th>\n",
       "      <td>False</td>\n",
       "      <td>False</td>\n",
       "      <td>False</td>\n",
       "      <td>False</td>\n",
       "      <td>False</td>\n",
       "      <td>False</td>\n",
       "      <td>False</td>\n",
       "      <td>False</td>\n",
       "      <td>False</td>\n",
       "      <td>False</td>\n",
       "      <td>True</td>\n",
       "    </tr>\n",
       "    <tr>\n",
       "      <th>3</th>\n",
       "      <td>True</td>\n",
       "      <td>False</td>\n",
       "      <td>False</td>\n",
       "      <td>False</td>\n",
       "      <td>False</td>\n",
       "      <td>False</td>\n",
       "      <td>True</td>\n",
       "      <td>False</td>\n",
       "      <td>False</td>\n",
       "      <td>False</td>\n",
       "      <td>False</td>\n",
       "    </tr>\n",
       "    <tr>\n",
       "      <th>4</th>\n",
       "      <td>False</td>\n",
       "      <td>True</td>\n",
       "      <td>True</td>\n",
       "      <td>False</td>\n",
       "      <td>False</td>\n",
       "      <td>False</td>\n",
       "      <td>False</td>\n",
       "      <td>False</td>\n",
       "      <td>False</td>\n",
       "      <td>False</td>\n",
       "      <td>False</td>\n",
       "    </tr>\n",
       "  </tbody>\n",
       "</table>\n",
       "</div>"
      ],
      "text/plain": [
       "   Drama  Comedy  Romance  Crime  Thriller  Horror  Action  Mystery  Sci-Fi  \\\n",
       "0  False   False    False  False      True    True   False     True   False   \n",
       "1   True    True    False  False     False   False   False    False   False   \n",
       "2  False   False    False  False     False   False   False    False   False   \n",
       "3   True   False    False  False     False   False    True    False   False   \n",
       "4  False    True     True  False     False   False   False    False   False   \n",
       "\n",
       "   Adventure  Documentary  \n",
       "0      False        False  \n",
       "1      False        False  \n",
       "2      False         True  \n",
       "3      False        False  \n",
       "4      False        False  "
      ]
     },
     "execution_count": 93,
     "metadata": {},
     "output_type": "execute_result"
    }
   ],
   "source": [
    "df_n_countries.genre.head().apply(genre_encoder)"
   ]
  },
  {
   "cell_type": "code",
   "execution_count": 95,
   "metadata": {
    "ExecuteTime": {
     "end_time": "2020-04-03T21:15:01.141100Z",
     "start_time": "2020-04-03T21:14:59.534811Z"
    }
   },
   "outputs": [],
   "source": [
    "genre_matrix = df_n_countries.genre.apply(genre_encoder)"
   ]
  },
  {
   "cell_type": "code",
   "execution_count": 96,
   "metadata": {
    "ExecuteTime": {
     "end_time": "2020-04-03T21:15:01.556311Z",
     "start_time": "2020-04-03T21:15:01.553883Z"
    }
   },
   "outputs": [],
   "source": [
    "del df_n_countries['genre']"
   ]
  },
  {
   "cell_type": "code",
   "execution_count": 104,
   "metadata": {
    "ExecuteTime": {
     "end_time": "2020-04-03T21:18:16.154533Z",
     "start_time": "2020-04-03T21:18:16.151480Z"
    }
   },
   "outputs": [],
   "source": [
    "genre_matrix.columns = [\"\".join([\"genre_\", col]) for col in genre_matrix.columns.tolist()]"
   ]
  },
  {
   "cell_type": "code",
   "execution_count": 105,
   "metadata": {
    "ExecuteTime": {
     "end_time": "2020-04-03T21:18:18.772613Z",
     "start_time": "2020-04-03T21:18:18.768194Z"
    }
   },
   "outputs": [],
   "source": [
    "df_encoded_genres = pd.concat([df_n_countries,genre_matrix],axis=1)"
   ]
  },
  {
   "cell_type": "code",
   "execution_count": 106,
   "metadata": {
    "ExecuteTime": {
     "end_time": "2020-04-03T21:18:19.321851Z",
     "start_time": "2020-04-03T21:18:19.319843Z"
    }
   },
   "outputs": [],
   "source": [
    "del df_n_countries\n",
    "del genre_matrix\n",
    "del genre_cats"
   ]
  },
  {
   "cell_type": "code",
   "execution_count": 108,
   "metadata": {
    "ExecuteTime": {
     "end_time": "2020-04-03T21:18:27.056974Z",
     "start_time": "2020-04-03T21:18:27.054764Z"
    }
   },
   "outputs": [],
   "source": [
    "# df_encoded_genres.to_pickle(\"../data/pickles/df_encoded_genres.pkl\")"
   ]
  },
  {
   "cell_type": "markdown",
   "metadata": {},
   "source": [
    "## Column Inspection: Numericals"
   ]
  },
  {
   "cell_type": "code",
   "execution_count": 219,
   "metadata": {
    "ExecuteTime": {
     "end_time": "2020-04-03T21:51:40.189557Z",
     "start_time": "2020-04-03T21:51:40.181205Z"
    }
   },
   "outputs": [],
   "source": [
    "df_encoded_genres = pd.read_pickle(\"../data/pickles/df_encoded_genres.pkl\")"
   ]
  },
  {
   "cell_type": "code",
   "execution_count": 220,
   "metadata": {
    "ExecuteTime": {
     "end_time": "2020-04-03T21:51:40.568824Z",
     "start_time": "2020-04-03T21:51:40.566947Z"
    },
    "scrolled": true
   },
   "outputs": [],
   "source": [
    "# df_encoded_genres.columns.tolist()"
   ]
  },
  {
   "cell_type": "markdown",
   "metadata": {},
   "source": [
    "### Facebook Likes"
   ]
  },
  {
   "cell_type": "code",
   "execution_count": 221,
   "metadata": {
    "ExecuteTime": {
     "end_time": "2020-04-03T21:51:40.901743Z",
     "start_time": "2020-04-03T21:51:40.892593Z"
    }
   },
   "outputs": [
    {
     "data": {
      "text/html": [
       "<div>\n",
       "<style scoped>\n",
       "    .dataframe tbody tr th:only-of-type {\n",
       "        vertical-align: middle;\n",
       "    }\n",
       "\n",
       "    .dataframe tbody tr th {\n",
       "        vertical-align: top;\n",
       "    }\n",
       "\n",
       "    .dataframe thead th {\n",
       "        text-align: right;\n",
       "    }\n",
       "</style>\n",
       "<table border=\"1\" class=\"dataframe\">\n",
       "  <thead>\n",
       "    <tr style=\"text-align: right;\">\n",
       "      <th></th>\n",
       "      <th>actor_1_facebook_likes</th>\n",
       "      <th>actor_2_facebook_likes</th>\n",
       "      <th>actor_3_facebook_likes</th>\n",
       "      <th>director_facebook_likes</th>\n",
       "      <th>cast_total_facebook_likes</th>\n",
       "    </tr>\n",
       "  </thead>\n",
       "  <tbody>\n",
       "    <tr>\n",
       "      <th>0</th>\n",
       "      <td>45.0</td>\n",
       "      <td>5.0</td>\n",
       "      <td>0.0</td>\n",
       "      <td>43.0</td>\n",
       "      <td>50</td>\n",
       "    </tr>\n",
       "    <tr>\n",
       "      <th>1</th>\n",
       "      <td>541.0</td>\n",
       "      <td>8.0</td>\n",
       "      <td>2.0</td>\n",
       "      <td>12.0</td>\n",
       "      <td>553</td>\n",
       "    </tr>\n",
       "    <tr>\n",
       "      <th>2</th>\n",
       "      <td>21.0</td>\n",
       "      <td>3.0</td>\n",
       "      <td>0.0</td>\n",
       "      <td>117.0</td>\n",
       "      <td>24</td>\n",
       "    </tr>\n",
       "    <tr>\n",
       "      <th>3</th>\n",
       "      <td>14000.0</td>\n",
       "      <td>81.0</td>\n",
       "      <td>29.0</td>\n",
       "      <td>32.0</td>\n",
       "      <td>14133</td>\n",
       "    </tr>\n",
       "    <tr>\n",
       "      <th>4</th>\n",
       "      <td>927.0</td>\n",
       "      <td>509.0</td>\n",
       "      <td>503.0</td>\n",
       "      <td>23.0</td>\n",
       "      <td>3552</td>\n",
       "    </tr>\n",
       "  </tbody>\n",
       "</table>\n",
       "</div>"
      ],
      "text/plain": [
       "   actor_1_facebook_likes  actor_2_facebook_likes  actor_3_facebook_likes  \\\n",
       "0                    45.0                     5.0                     0.0   \n",
       "1                   541.0                     8.0                     2.0   \n",
       "2                    21.0                     3.0                     0.0   \n",
       "3                 14000.0                    81.0                    29.0   \n",
       "4                   927.0                   509.0                   503.0   \n",
       "\n",
       "   director_facebook_likes  cast_total_facebook_likes  \n",
       "0                     43.0                         50  \n",
       "1                     12.0                        553  \n",
       "2                    117.0                         24  \n",
       "3                     32.0                      14133  \n",
       "4                     23.0                       3552  "
      ]
     },
     "execution_count": 221,
     "metadata": {},
     "output_type": "execute_result"
    }
   ],
   "source": [
    "likes = df_encoded_genres[[col for col in df_encoded_genres.columns if \"likes\" in col]]\n",
    "likes.head()"
   ]
  },
  {
   "cell_type": "code",
   "execution_count": 222,
   "metadata": {
    "ExecuteTime": {
     "end_time": "2020-04-03T21:51:41.270297Z",
     "start_time": "2020-04-03T21:51:41.263989Z"
    }
   },
   "outputs": [
    {
     "data": {
      "text/plain": [
       "count      4925.000000\n",
       "mean       6670.180508\n",
       "std       15157.916837\n",
       "min           0.000000\n",
       "25%         622.000000\n",
       "50%         995.000000\n",
       "75%       11000.000000\n",
       "max      640000.000000\n",
       "Name: actor_1_facebook_likes, dtype: float64"
      ]
     },
     "execution_count": 222,
     "metadata": {},
     "output_type": "execute_result"
    }
   ],
   "source": [
    "likes.actor_1_facebook_likes.describe()"
   ]
  },
  {
   "cell_type": "code",
   "execution_count": 223,
   "metadata": {
    "ExecuteTime": {
     "end_time": "2020-04-03T21:51:41.755173Z",
     "start_time": "2020-04-03T21:51:41.633214Z"
    }
   },
   "outputs": [
    {
     "data": {
      "text/plain": [
       "<matplotlib.axes._subplots.AxesSubplot at 0x143033750>"
      ]
     },
     "execution_count": 223,
     "metadata": {},
     "output_type": "execute_result"
    },
    {
     "data": {
      "image/png": "[encoded data removed]",
      "text/plain": [
       "<Figure size 432x288 with 1 Axes>"
      ]
     },
     "metadata": {
      "needs_background": "light"
     },
     "output_type": "display_data"
    }
   ],
   "source": [
    "likes.actor_1_facebook_likes.hist()"
   ]
  },
  {
   "cell_type": "markdown",
   "metadata": {},
   "source": [
    "Could probably use a log transform or something. Or is it just full of zeroes?"
   ]
  },
  {
   "cell_type": "code",
   "execution_count": 224,
   "metadata": {
    "ExecuteTime": {
     "end_time": "2020-04-03T21:51:42.119357Z",
     "start_time": "2020-04-03T21:51:42.115670Z"
    }
   },
   "outputs": [
    {
     "data": {
      "text/plain": [
       "(36,)"
      ]
     },
     "execution_count": 224,
     "metadata": {},
     "output_type": "execute_result"
    }
   ],
   "source": [
    "likes.actor_1_facebook_likes[likes.actor_1_facebook_likes < 5].shape"
   ]
  },
  {
   "cell_type": "code",
   "execution_count": 225,
   "metadata": {
    "ExecuteTime": {
     "end_time": "2020-04-03T21:51:42.486291Z",
     "start_time": "2020-04-03T21:51:42.482451Z"
    }
   },
   "outputs": [
    {
     "data": {
      "text/plain": [
       "(900,)"
      ]
     },
     "execution_count": 225,
     "metadata": {},
     "output_type": "execute_result"
    }
   ],
   "source": [
    "likes.director_facebook_likes[likes.director_facebook_likes == 0].shape"
   ]
  },
  {
   "cell_type": "code",
   "execution_count": 226,
   "metadata": {
    "ExecuteTime": {
     "end_time": "2020-04-03T21:51:42.850662Z",
     "start_time": "2020-04-03T21:51:42.845020Z"
    }
   },
   "outputs": [
    {
     "data": {
      "text/plain": [
       "count     4925.000000\n",
       "mean       688.347208\n",
       "std       2817.108898\n",
       "min          0.000000\n",
       "25%          7.000000\n",
       "50%         49.000000\n",
       "75%        197.000000\n",
       "max      23000.000000\n",
       "Name: director_facebook_likes, dtype: float64"
      ]
     },
     "execution_count": 226,
     "metadata": {},
     "output_type": "execute_result"
    }
   ],
   "source": [
    "likes.director_facebook_likes.describe()"
   ]
  },
  {
   "cell_type": "markdown",
   "metadata": {},
   "source": [
    "I'm willing to believe that directors are just generally not as popular as their actors"
   ]
  },
  {
   "cell_type": "code",
   "execution_count": 227,
   "metadata": {
    "ExecuteTime": {
     "end_time": "2020-04-03T21:51:43.351751Z",
     "start_time": "2020-04-03T21:51:43.217903Z"
    }
   },
   "outputs": [
    {
     "data": {
      "text/plain": [
       "<matplotlib.axes._subplots.AxesSubplot at 0x13c011910>"
      ]
     },
     "execution_count": 227,
     "metadata": {},
     "output_type": "execute_result"
    },
    {
     "data": {
      "image/png": "[encoded data removed]",
      "text/plain": [
       "<Figure size 432x288 with 1 Axes>"
      ]
     },
     "metadata": {
      "needs_background": "light"
     },
     "output_type": "display_data"
    }
   ],
   "source": [
    "# +1 like for boxcox, does not like zeroes\n",
    "pd.Series(boxcox(likes.actor_1_facebook_likes+1)[0]).hist()"
   ]
  },
  {
   "cell_type": "markdown",
   "metadata": {},
   "source": [
    "Seems good"
   ]
  },
  {
   "cell_type": "code",
   "execution_count": 228,
   "metadata": {
    "ExecuteTime": {
     "end_time": "2020-04-03T21:51:43.735570Z",
     "start_time": "2020-04-03T21:51:43.712332Z"
    }
   },
   "outputs": [],
   "source": [
    "all_boxcoxed = [pd.Series(boxcox(likes[col]+1)[0], name=f\"{col}_box\") for col in likes.columns]"
   ]
  },
  {
   "cell_type": "code",
   "execution_count": 229,
   "metadata": {
    "ExecuteTime": {
     "end_time": "2020-04-03T21:51:44.136807Z",
     "start_time": "2020-04-03T21:51:44.128927Z"
    }
   },
   "outputs": [
    {
     "data": {
      "text/html": [
       "<div>\n",
       "<style scoped>\n",
       "    .dataframe tbody tr th:only-of-type {\n",
       "        vertical-align: middle;\n",
       "    }\n",
       "\n",
       "    .dataframe tbody tr th {\n",
       "        vertical-align: top;\n",
       "    }\n",
       "\n",
       "    .dataframe thead th {\n",
       "        text-align: right;\n",
       "    }\n",
       "</style>\n",
       "<table border=\"1\" class=\"dataframe\">\n",
       "  <thead>\n",
       "    <tr style=\"text-align: right;\">\n",
       "      <th></th>\n",
       "      <th>actor_1_facebook_likes_box</th>\n",
       "      <th>actor_2_facebook_likes_box</th>\n",
       "      <th>actor_3_facebook_likes_box</th>\n",
       "      <th>director_facebook_likes_box</th>\n",
       "      <th>cast_total_facebook_likes_box</th>\n",
       "    </tr>\n",
       "  </thead>\n",
       "  <tbody>\n",
       "    <tr>\n",
       "      <th>0</th>\n",
       "      <td>4.258068</td>\n",
       "      <td>1.915040</td>\n",
       "      <td>0.000000</td>\n",
       "      <td>3.664026</td>\n",
       "      <td>5.230433</td>\n",
       "    </tr>\n",
       "    <tr>\n",
       "      <th>1</th>\n",
       "      <td>7.512101</td>\n",
       "      <td>2.384509</td>\n",
       "      <td>1.196106</td>\n",
       "      <td>2.509361</td>\n",
       "      <td>10.112309</td>\n",
       "    </tr>\n",
       "    <tr>\n",
       "      <th>2</th>\n",
       "      <td>3.367098</td>\n",
       "      <td>1.459349</td>\n",
       "      <td>0.000000</td>\n",
       "      <td>4.580765</td>\n",
       "      <td>4.058610</td>\n",
       "    </tr>\n",
       "    <tr>\n",
       "      <th>3</th>\n",
       "      <td>12.528987</td>\n",
       "      <td>5.203700</td>\n",
       "      <td>4.459035</td>\n",
       "      <td>3.393753</td>\n",
       "      <td>19.946681</td>\n",
       "    </tr>\n",
       "    <tr>\n",
       "      <th>4</th>\n",
       "      <td>8.281601</td>\n",
       "      <td>7.907600</td>\n",
       "      <td>10.385821</td>\n",
       "      <td>3.093011</td>\n",
       "      <td>15.209840</td>\n",
       "    </tr>\n",
       "  </tbody>\n",
       "</table>\n",
       "</div>"
      ],
      "text/plain": [
       "   actor_1_facebook_likes_box  actor_2_facebook_likes_box  \\\n",
       "0                    4.258068                    1.915040   \n",
       "1                    7.512101                    2.384509   \n",
       "2                    3.367098                    1.459349   \n",
       "3                   12.528987                    5.203700   \n",
       "4                    8.281601                    7.907600   \n",
       "\n",
       "   actor_3_facebook_likes_box  director_facebook_likes_box  \\\n",
       "0                    0.000000                     3.664026   \n",
       "1                    1.196106                     2.509361   \n",
       "2                    0.000000                     4.580765   \n",
       "3                    4.459035                     3.393753   \n",
       "4                   10.385821                     3.093011   \n",
       "\n",
       "   cast_total_facebook_likes_box  \n",
       "0                       5.230433  \n",
       "1                      10.112309  \n",
       "2                       4.058610  \n",
       "3                      19.946681  \n",
       "4                      15.209840  "
      ]
     },
     "execution_count": 229,
     "metadata": {},
     "output_type": "execute_result"
    }
   ],
   "source": [
    "boxed_df = pd.concat(all_boxcoxed,axis=1)\n",
    "boxed_df.head()"
   ]
  },
  {
   "cell_type": "code",
   "execution_count": 230,
   "metadata": {
    "ExecuteTime": {
     "end_time": "2020-04-03T21:51:45.149930Z",
     "start_time": "2020-04-03T21:51:44.562736Z"
    }
   },
   "outputs": [
    {
     "name": "stdout",
     "output_type": "stream",
     "text": [
      "actor_1_facebook_likes_box\n"
     ]
    },
    {
     "data": {
      "image/png": "[encoded data removed]",
      "text/plain": [
       "<Figure size 432x288 with 1 Axes>"
      ]
     },
     "metadata": {
      "needs_background": "light"
     },
     "output_type": "display_data"
    },
    {
     "name": "stdout",
     "output_type": "stream",
     "text": [
      "actor_2_facebook_likes_box\n"
     ]
    },
    {
     "data": {
      "image/png": "[encoded data removed]",
      "text/plain": [
       "<Figure size 432x288 with 1 Axes>"
      ]
     },
     "metadata": {
      "needs_background": "light"
     },
     "output_type": "display_data"
    },
    {
     "name": "stdout",
     "output_type": "stream",
     "text": [
      "actor_3_facebook_likes_box\n"
     ]
    },
    {
     "data": {
      "image/png": "[encoded data removed]",
      "text/plain": [
       "<Figure size 432x288 with 1 Axes>"
      ]
     },
     "metadata": {
      "needs_background": "light"
     },
     "output_type": "display_data"
    },
    {
     "name": "stdout",
     "output_type": "stream",
     "text": [
      "director_facebook_likes_box\n"
     ]
    },
    {
     "data": {
      "image/png": "[encoded data removed]",
      "text/plain": [
       "<Figure size 432x288 with 1 Axes>"
      ]
     },
     "metadata": {
      "needs_background": "light"
     },
     "output_type": "display_data"
    },
    {
     "name": "stdout",
     "output_type": "stream",
     "text": [
      "cast_total_facebook_likes_box\n"
     ]
    },
    {
     "data": {
      "image/png": "[encoded data removed]",
      "text/plain": [
       "<Figure size 432x288 with 1 Axes>"
      ]
     },
     "metadata": {
      "needs_background": "light"
     },
     "output_type": "display_data"
    }
   ],
   "source": [
    "for col in boxed_df:\n",
    "    plt.figure()\n",
    "    plt.hist(boxed_df[col])\n",
    "    print(col)\n",
    "    plt.show()\n",
    "del col"
   ]
  },
  {
   "cell_type": "code",
   "execution_count": 231,
   "metadata": {
    "ExecuteTime": {
     "end_time": "2020-04-03T21:51:45.587802Z",
     "start_time": "2020-04-03T21:51:45.583474Z"
    }
   },
   "outputs": [],
   "source": [
    "no_likes = df_encoded_genres.drop([col for col in df_encoded_genres if \"likes\" in col], axis=1)"
   ]
  },
  {
   "cell_type": "code",
   "execution_count": 232,
   "metadata": {
    "ExecuteTime": {
     "end_time": "2020-04-03T21:51:46.144700Z",
     "start_time": "2020-04-03T21:51:46.140657Z"
    }
   },
   "outputs": [],
   "source": [
    "df_boxcoxed_likes = pd.concat([no_likes, boxed_df],axis=1)"
   ]
  },
  {
   "cell_type": "code",
   "execution_count": 233,
   "metadata": {
    "ExecuteTime": {
     "end_time": "2020-04-03T21:51:46.845545Z",
     "start_time": "2020-04-03T21:51:46.827576Z"
    }
   },
   "outputs": [
    {
     "data": {
      "text/html": [
       "<div>\n",
       "<style scoped>\n",
       "    .dataframe tbody tr th:only-of-type {\n",
       "        vertical-align: middle;\n",
       "    }\n",
       "\n",
       "    .dataframe tbody tr th {\n",
       "        vertical-align: top;\n",
       "    }\n",
       "\n",
       "    .dataframe thead th {\n",
       "        text-align: right;\n",
       "    }\n",
       "</style>\n",
       "<table border=\"1\" class=\"dataframe\">\n",
       "  <thead>\n",
       "    <tr style=\"text-align: right;\">\n",
       "      <th></th>\n",
       "      <th>original_language</th>\n",
       "      <th>color</th>\n",
       "      <th>title</th>\n",
       "      <th>movie_title</th>\n",
       "      <th>original_title</th>\n",
       "      <th>overview</th>\n",
       "      <th>content_rating</th>\n",
       "      <th>imdb_score</th>\n",
       "      <th>revenue</th>\n",
       "      <th>filled_budget</th>\n",
       "      <th>...</th>\n",
       "      <th>genre_Action</th>\n",
       "      <th>genre_Mystery</th>\n",
       "      <th>genre_Sci-Fi</th>\n",
       "      <th>genre_Adventure</th>\n",
       "      <th>genre_Documentary</th>\n",
       "      <th>actor_1_facebook_likes_box</th>\n",
       "      <th>actor_2_facebook_likes_box</th>\n",
       "      <th>actor_3_facebook_likes_box</th>\n",
       "      <th>director_facebook_likes_box</th>\n",
       "      <th>cast_total_facebook_likes_box</th>\n",
       "    </tr>\n",
       "  </thead>\n",
       "  <tbody>\n",
       "    <tr>\n",
       "      <th>0</th>\n",
       "      <td>Other</td>\n",
       "      <td>Color</td>\n",
       "      <td>The Wailing</td>\n",
       "      <td>The Wailing</td>\n",
       "      <td>곡성</td>\n",
       "      <td>A stranger arrives in a little village and soo...</td>\n",
       "      <td>Unrated</td>\n",
       "      <td>7.7</td>\n",
       "      <td>47098491</td>\n",
       "      <td>10951000.0</td>\n",
       "      <td>...</td>\n",
       "      <td>False</td>\n",
       "      <td>True</td>\n",
       "      <td>False</td>\n",
       "      <td>False</td>\n",
       "      <td>False</td>\n",
       "      <td>4.258068</td>\n",
       "      <td>1.915040</td>\n",
       "      <td>0.000000</td>\n",
       "      <td>3.664026</td>\n",
       "      <td>5.230433</td>\n",
       "    </tr>\n",
       "    <tr>\n",
       "      <th>1</th>\n",
       "      <td>French</td>\n",
       "      <td>Color</td>\n",
       "      <td>The Country Doctor</td>\n",
       "      <td>Irreplaceable</td>\n",
       "      <td>Médecin de campagne</td>\n",
       "      <td>All the people in this countryside area, can c...</td>\n",
       "      <td>PG-13</td>\n",
       "      <td>7.2</td>\n",
       "      <td>0</td>\n",
       "      <td>19500000.0</td>\n",
       "      <td>...</td>\n",
       "      <td>False</td>\n",
       "      <td>False</td>\n",
       "      <td>False</td>\n",
       "      <td>False</td>\n",
       "      <td>False</td>\n",
       "      <td>7.512101</td>\n",
       "      <td>2.384509</td>\n",
       "      <td>1.196106</td>\n",
       "      <td>2.509361</td>\n",
       "      <td>10.112309</td>\n",
       "    </tr>\n",
       "    <tr>\n",
       "      <th>2</th>\n",
       "      <td>English</td>\n",
       "      <td>Color</td>\n",
       "      <td>Time to Choose</td>\n",
       "      <td>Time to Choose</td>\n",
       "      <td>Time to Choose</td>\n",
       "      <td>Academy Award® winning director Charles Fergus...</td>\n",
       "      <td>PG-13</td>\n",
       "      <td>7.0</td>\n",
       "      <td>0</td>\n",
       "      <td>3500000.0</td>\n",
       "      <td>...</td>\n",
       "      <td>False</td>\n",
       "      <td>False</td>\n",
       "      <td>False</td>\n",
       "      <td>False</td>\n",
       "      <td>True</td>\n",
       "      <td>3.367098</td>\n",
       "      <td>1.459349</td>\n",
       "      <td>0.000000</td>\n",
       "      <td>4.580765</td>\n",
       "      <td>4.058610</td>\n",
       "    </tr>\n",
       "  </tbody>\n",
       "</table>\n",
       "<p>3 rows × 31 columns</p>\n",
       "</div>"
      ],
      "text/plain": [
       "  original_language  color               title      movie_title  \\\n",
       "0             Other  Color         The Wailing     The Wailing    \n",
       "1            French  Color  The Country Doctor   Irreplaceable    \n",
       "2           English  Color      Time to Choose  Time to Choose    \n",
       "\n",
       "        original_title                                           overview  \\\n",
       "0                   곡성  A stranger arrives in a little village and soo...   \n",
       "1  Médecin de campagne  All the people in this countryside area, can c...   \n",
       "2       Time to Choose  Academy Award® winning director Charles Fergus...   \n",
       "\n",
       "  content_rating  imdb_score   revenue  filled_budget  ... genre_Action  \\\n",
       "0        Unrated         7.7  47098491     10951000.0  ...        False   \n",
       "1          PG-13         7.2         0     19500000.0  ...        False   \n",
       "2          PG-13         7.0         0      3500000.0  ...        False   \n",
       "\n",
       "   genre_Mystery  genre_Sci-Fi  genre_Adventure  genre_Documentary  \\\n",
       "0           True         False            False              False   \n",
       "1          False         False            False              False   \n",
       "2          False         False            False               True   \n",
       "\n",
       "   actor_1_facebook_likes_box  actor_2_facebook_likes_box  \\\n",
       "0                    4.258068                    1.915040   \n",
       "1                    7.512101                    2.384509   \n",
       "2                    3.367098                    1.459349   \n",
       "\n",
       "   actor_3_facebook_likes_box  director_facebook_likes_box  \\\n",
       "0                    0.000000                     3.664026   \n",
       "1                    1.196106                     2.509361   \n",
       "2                    0.000000                     4.580765   \n",
       "\n",
       "   cast_total_facebook_likes_box  \n",
       "0                       5.230433  \n",
       "1                      10.112309  \n",
       "2                       4.058610  \n",
       "\n",
       "[3 rows x 31 columns]"
      ]
     },
     "execution_count": 233,
     "metadata": {},
     "output_type": "execute_result"
    }
   ],
   "source": [
    "df_boxcoxed_likes.head(3)"
   ]
  },
  {
   "cell_type": "code",
   "execution_count": 234,
   "metadata": {
    "ExecuteTime": {
     "end_time": "2020-04-03T21:51:47.521104Z",
     "start_time": "2020-04-03T21:51:47.518395Z"
    }
   },
   "outputs": [],
   "source": [
    "del df_encoded_genres\n",
    "del no_likes\n",
    "del all_boxcoxed\n",
    "del boxed_df\n",
    "del likes"
   ]
  },
  {
   "cell_type": "markdown",
   "metadata": {},
   "source": [
    "### Budget"
   ]
  },
  {
   "cell_type": "code",
   "execution_count": 235,
   "metadata": {
    "ExecuteTime": {
     "end_time": "2020-04-03T21:51:47.984065Z",
     "start_time": "2020-04-03T21:51:47.859496Z"
    }
   },
   "outputs": [
    {
     "data": {
      "text/plain": [
       "<matplotlib.axes._subplots.AxesSubplot at 0x13b42ce10>"
      ]
     },
     "execution_count": 235,
     "metadata": {},
     "output_type": "execute_result"
    },
    {
     "data": {
      "image/png": "[encoded data removed]",
      "text/plain": [
       "<Figure size 432x288 with 1 Axes>"
      ]
     },
     "metadata": {
      "needs_background": "light"
     },
     "output_type": "display_data"
    }
   ],
   "source": [
    "df_boxcoxed_likes.filled_budget.hist()"
   ]
  },
  {
   "cell_type": "markdown",
   "metadata": {},
   "source": [
    "Also pretty skewed up"
   ]
  },
  {
   "cell_type": "code",
   "execution_count": 236,
   "metadata": {
    "ExecuteTime": {
     "end_time": "2020-04-03T21:51:48.430505Z",
     "start_time": "2020-04-03T21:51:48.311995Z"
    }
   },
   "outputs": [
    {
     "data": {
      "text/plain": [
       "<matplotlib.axes._subplots.AxesSubplot at 0x13b8b46d0>"
      ]
     },
     "execution_count": 236,
     "metadata": {},
     "output_type": "execute_result"
    },
    {
     "data": {
      "image/png": "[encoded data removed]",
      "text/plain": [
       "<Figure size 432x288 with 1 Axes>"
      ]
     },
     "metadata": {
      "needs_background": "light"
     },
     "output_type": "display_data"
    }
   ],
   "source": [
    "df_boxcoxed_likes.filled_budget.transform(np.log).hist()"
   ]
  },
  {
   "cell_type": "markdown",
   "metadata": {},
   "source": [
    "Not perfect, boxcox again?"
   ]
  },
  {
   "cell_type": "code",
   "execution_count": 237,
   "metadata": {
    "ExecuteTime": {
     "end_time": "2020-04-03T21:51:48.905638Z",
     "start_time": "2020-04-03T21:51:48.757847Z"
    }
   },
   "outputs": [
    {
     "data": {
      "text/plain": [
       "<matplotlib.axes._subplots.AxesSubplot at 0x13bc90e10>"
      ]
     },
     "execution_count": 237,
     "metadata": {},
     "output_type": "execute_result"
    },
    {
     "data": {
      "image/png": "[encoded data removed]",
      "text/plain": [
       "<Figure size 432x288 with 1 Axes>"
      ]
     },
     "metadata": {
      "needs_background": "light"
     },
     "output_type": "display_data"
    }
   ],
   "source": [
    "budget_boxed = pd.Series(boxcox(df_boxcoxed_likes.filled_budget)[0], name=\"budget_boxed\")\n",
    "budget_boxed.hist()"
   ]
  },
  {
   "cell_type": "code",
   "execution_count": 238,
   "metadata": {
    "ExecuteTime": {
     "end_time": "2020-04-03T21:51:49.242998Z",
     "start_time": "2020-04-03T21:51:49.240393Z"
    }
   },
   "outputs": [],
   "source": [
    "del df_boxcoxed_likes['filled_budget']"
   ]
  },
  {
   "cell_type": "code",
   "execution_count": 239,
   "metadata": {
    "ExecuteTime": {
     "end_time": "2020-04-03T21:51:49.592814Z",
     "start_time": "2020-04-03T21:51:49.588743Z"
    }
   },
   "outputs": [],
   "source": [
    "df_boxcoxed_budget = df_boxcoxed_likes.assign(budget_boxed=budget_boxed)"
   ]
  },
  {
   "cell_type": "code",
   "execution_count": 240,
   "metadata": {
    "ExecuteTime": {
     "end_time": "2020-04-03T21:51:50.063960Z",
     "start_time": "2020-04-03T21:51:50.061733Z"
    }
   },
   "outputs": [],
   "source": [
    "del budget_boxed\n",
    "del df_boxcoxed_likes"
   ]
  },
  {
   "cell_type": "markdown",
   "metadata": {},
   "source": [
    "### Duration"
   ]
  },
  {
   "cell_type": "code",
   "execution_count": 241,
   "metadata": {
    "ExecuteTime": {
     "end_time": "2020-04-03T21:51:50.570452Z",
     "start_time": "2020-04-03T21:51:50.402404Z"
    }
   },
   "outputs": [
    {
     "data": {
      "text/plain": [
       "<matplotlib.axes._subplots.AxesSubplot at 0x13be02c50>"
      ]
     },
     "execution_count": 241,
     "metadata": {},
     "output_type": "execute_result"
    },
    {
     "data": {
      "image/png": "[encoded data removed]",
      "text/plain": [
       "<Figure size 432x288 with 1 Axes>"
      ]
     },
     "metadata": {
      "needs_background": "light"
     },
     "output_type": "display_data"
    }
   ],
   "source": [
    "df_boxcoxed_budget.durations.hist(bins=50)"
   ]
  },
  {
   "cell_type": "markdown",
   "metadata": {},
   "source": [
    "Seems pretty tightly clustered around feature length film length"
   ]
  },
  {
   "cell_type": "code",
   "execution_count": 242,
   "metadata": {
    "ExecuteTime": {
     "end_time": "2020-04-03T21:51:51.003374Z",
     "start_time": "2020-04-03T21:51:50.907464Z"
    }
   },
   "outputs": [
    {
     "data": {
      "text/plain": [
       "<matplotlib.axes._subplots.AxesSubplot at 0x13bb0f8d0>"
      ]
     },
     "execution_count": 242,
     "metadata": {},
     "output_type": "execute_result"
    },
    {
     "data": {
      "image/png": "[encoded data removed]",
      "text/plain": [
       "<Figure size 144x432 with 1 Axes>"
      ]
     },
     "metadata": {
      "needs_background": "light"
     },
     "output_type": "display_data"
    }
   ],
   "source": [
    "df_boxcoxed_budget.durations.plot(kind='box',figsize=(2,6))"
   ]
  },
  {
   "cell_type": "code",
   "execution_count": 243,
   "metadata": {
    "ExecuteTime": {
     "end_time": "2020-04-03T21:51:51.567305Z",
     "start_time": "2020-04-03T21:51:51.336009Z"
    }
   },
   "outputs": [
    {
     "data": {
      "text/plain": [
       "<matplotlib.axes._subplots.AxesSubplot at 0x14283fd50>"
      ]
     },
     "execution_count": 243,
     "metadata": {},
     "output_type": "execute_result"
    },
    {
     "data": {
      "image/png": "[encoded data removed]",
      "text/plain": [
       "<Figure size 432x288 with 1 Axes>"
      ]
     },
     "metadata": {
      "needs_background": "light"
     },
     "output_type": "display_data"
    }
   ],
   "source": [
    "pd.Series(boxcox(df_boxcoxed_budget.durations+1)[0], name=f\"duration_box\").hist(bins=100)"
   ]
  },
  {
   "cell_type": "markdown",
   "metadata": {},
   "source": [
    "I think we can just stick with the original durations, no transform needed."
   ]
  },
  {
   "cell_type": "markdown",
   "metadata": {},
   "source": [
    "### Number of Production Countries"
   ]
  },
  {
   "cell_type": "code",
   "execution_count": 244,
   "metadata": {
    "ExecuteTime": {
     "end_time": "2020-04-03T21:51:52.028894Z",
     "start_time": "2020-04-03T21:51:51.908003Z"
    }
   },
   "outputs": [
    {
     "data": {
      "text/plain": [
       "<matplotlib.axes._subplots.AxesSubplot at 0x1449c1990>"
      ]
     },
     "execution_count": 244,
     "metadata": {},
     "output_type": "execute_result"
    },
    {
     "data": {
      "image/png": "[encoded data removed]",
      "text/plain": [
       "<Figure size 432x288 with 1 Axes>"
      ]
     },
     "metadata": {
      "needs_background": "light"
     },
     "output_type": "display_data"
    }
   ],
   "source": [
    "df_boxcoxed_budget.n_production_countries.value_counts().plot(kind='bar')"
   ]
  },
  {
   "cell_type": "markdown",
   "metadata": {},
   "source": [
    "I should lump together 5+ perhaps...it gets a bit sparse"
   ]
  },
  {
   "cell_type": "code",
   "execution_count": 245,
   "metadata": {
    "ExecuteTime": {
     "end_time": "2020-04-03T21:51:52.465774Z",
     "start_time": "2020-04-03T21:51:52.365147Z"
    }
   },
   "outputs": [
    {
     "data": {
      "text/plain": [
       "<matplotlib.axes._subplots.AxesSubplot at 0x13d945e10>"
      ]
     },
     "execution_count": 245,
     "metadata": {},
     "output_type": "execute_result"
    },
    {
     "data": {
      "image/png": "[encoded data removed]",
      "text/plain": [
       "<Figure size 432x288 with 1 Axes>"
      ]
     },
     "metadata": {
      "needs_background": "light"
     },
     "output_type": "display_data"
    }
   ],
   "source": [
    "df_boxcoxed_budget.n_production_countries.apply(lambda x: 5 if x >= 5 else x).value_counts().plot(kind='bar')"
   ]
  },
  {
   "cell_type": "code",
   "execution_count": 246,
   "metadata": {
    "ExecuteTime": {
     "end_time": "2020-04-03T21:51:52.803840Z",
     "start_time": "2020-04-03T21:51:52.799571Z"
    }
   },
   "outputs": [],
   "source": [
    "df_boxcoxed_budget[\"n_prod_locs_trunc\"] = df_boxcoxed_budget.n_production_countries.apply(\n",
    "                                                                                    lambda x: 5 if x >= 5 else x\n",
    "                                                                                )"
   ]
  },
  {
   "cell_type": "markdown",
   "metadata": {},
   "source": [
    "We will need to remember that here, the int 5 represents 5 or more countries of filming."
   ]
  },
  {
   "cell_type": "code",
   "execution_count": 247,
   "metadata": {
    "ExecuteTime": {
     "end_time": "2020-04-03T21:51:53.148925Z",
     "start_time": "2020-04-03T21:51:53.146392Z"
    }
   },
   "outputs": [],
   "source": [
    "del df_boxcoxed_budget[\"n_production_countries\"]"
   ]
  },
  {
   "cell_type": "markdown",
   "metadata": {},
   "source": [
    "### Revenue (Secondary Response Variable)"
   ]
  },
  {
   "cell_type": "code",
   "execution_count": 248,
   "metadata": {
    "ExecuteTime": {
     "end_time": "2020-04-03T21:51:53.661396Z",
     "start_time": "2020-04-03T21:51:53.488799Z"
    }
   },
   "outputs": [
    {
     "data": {
      "text/plain": [
       "<matplotlib.axes._subplots.AxesSubplot at 0x13b458050>"
      ]
     },
     "execution_count": 248,
     "metadata": {},
     "output_type": "execute_result"
    },
    {
     "data": {
      "image/png": "[encoded data removed]",
      "text/plain": [
       "<Figure size 432x288 with 1 Axes>"
      ]
     },
     "metadata": {
      "needs_background": "light"
     },
     "output_type": "display_data"
    }
   ],
   "source": [
    "df_boxcoxed_budget.revenue.hist(bins=50)"
   ]
  },
  {
   "cell_type": "code",
   "execution_count": 249,
   "metadata": {
    "ExecuteTime": {
     "end_time": "2020-04-03T21:51:54.282146Z",
     "start_time": "2020-04-03T21:51:54.276068Z"
    }
   },
   "outputs": [],
   "source": [
    "revenue_boxcox, lambda_revenue_boxcox = boxcox(df_boxcoxed_budget.revenue+1) #Again applying small adjustment for box"
   ]
  },
  {
   "cell_type": "code",
   "execution_count": 250,
   "metadata": {
    "ExecuteTime": {
     "end_time": "2020-04-03T21:51:54.744679Z",
     "start_time": "2020-04-03T21:51:54.620695Z"
    }
   },
   "outputs": [
    {
     "data": {
      "text/plain": [
       "<matplotlib.axes._subplots.AxesSubplot at 0x13babb950>"
      ]
     },
     "execution_count": 250,
     "metadata": {},
     "output_type": "execute_result"
    },
    {
     "data": {
      "image/png": "[encoded data removed]",
      "text/plain": [
       "<Figure size 432x288 with 1 Axes>"
      ]
     },
     "metadata": {
      "needs_background": "light"
     },
     "output_type": "display_data"
    }
   ],
   "source": [
    "revenue_boxcox = pd.Series(revenue_boxcox,name=\"revenue_boxcox\")\n",
    "revenue_boxcox.hist()"
   ]
  },
  {
   "cell_type": "markdown",
   "metadata": {
    "ExecuteTime": {
     "end_time": "2020-04-03T21:26:38.688947Z",
     "start_time": "2020-04-03T21:26:38.685362Z"
    }
   },
   "source": [
    "Still a pretty massive spike around $0 revenue...will this be a problem?"
   ]
  },
  {
   "cell_type": "code",
   "execution_count": 251,
   "metadata": {
    "ExecuteTime": {
     "end_time": "2020-04-03T21:51:55.084375Z",
     "start_time": "2020-04-03T21:51:55.081997Z"
    }
   },
   "outputs": [],
   "source": [
    "del df_boxcoxed_budget['revenue']"
   ]
  },
  {
   "cell_type": "code",
   "execution_count": 252,
   "metadata": {
    "ExecuteTime": {
     "end_time": "2020-04-03T21:51:55.434808Z",
     "start_time": "2020-04-03T21:51:55.431205Z"
    }
   },
   "outputs": [],
   "source": [
    "df_boxcox_rev = df_boxcoxed_budget.assign(revenue_boxcox=revenue_boxcox)"
   ]
  },
  {
   "cell_type": "code",
   "execution_count": 253,
   "metadata": {
    "ExecuteTime": {
     "end_time": "2020-04-03T21:51:55.791152Z",
     "start_time": "2020-04-03T21:51:55.788965Z"
    }
   },
   "outputs": [],
   "source": [
    "del df_boxcoxed_budget"
   ]
  },
  {
   "cell_type": "markdown",
   "metadata": {},
   "source": [
    "### IMdB Score (Response Variable)"
   ]
  },
  {
   "cell_type": "code",
   "execution_count": 254,
   "metadata": {
    "ExecuteTime": {
     "end_time": "2020-04-03T21:51:56.018117Z",
     "start_time": "2020-04-03T21:51:56.011898Z"
    }
   },
   "outputs": [
    {
     "data": {
      "text/plain": [
       "count    4925.000000\n",
       "mean        6.416975\n",
       "std         1.115080\n",
       "min         1.600000\n",
       "25%         5.800000\n",
       "50%         6.500000\n",
       "75%         7.200000\n",
       "max         9.300000\n",
       "Name: imdb_score, dtype: float64"
      ]
     },
     "execution_count": 254,
     "metadata": {},
     "output_type": "execute_result"
    }
   ],
   "source": [
    "df_boxcox_rev.imdb_score.describe()"
   ]
  },
  {
   "cell_type": "code",
   "execution_count": 255,
   "metadata": {
    "ExecuteTime": {
     "end_time": "2020-04-03T21:51:56.349924Z",
     "start_time": "2020-04-03T21:51:56.223257Z"
    }
   },
   "outputs": [
    {
     "data": {
      "text/plain": [
       "<matplotlib.axes._subplots.AxesSubplot at 0x13c5bb9d0>"
      ]
     },
     "execution_count": 255,
     "metadata": {},
     "output_type": "execute_result"
    },
    {
     "data": {
      "image/png": "[encoded data removed]",
      "text/plain": [
       "<Figure size 432x288 with 1 Axes>"
      ]
     },
     "metadata": {
      "needs_background": "light"
     },
     "output_type": "display_data"
    }
   ],
   "source": [
    "df_boxcox_rev.imdb_score.hist()"
   ]
  },
  {
   "cell_type": "markdown",
   "metadata": {},
   "source": [
    "Nice!"
   ]
  },
  {
   "cell_type": "code",
   "execution_count": 256,
   "metadata": {
    "ExecuteTime": {
     "end_time": "2020-04-03T21:51:56.796138Z",
     "start_time": "2020-04-03T21:51:56.563114Z"
    }
   },
   "outputs": [
    {
     "data": {
      "text/plain": [
       "<matplotlib.axes._subplots.AxesSubplot at 0x13e399bd0>"
      ]
     },
     "execution_count": 256,
     "metadata": {},
     "output_type": "execute_result"
    },
    {
     "data": {
      "image/png": "[encoded data removed]",
      "text/plain": [
       "<Figure size 432x288 with 1 Axes>"
      ]
     },
     "metadata": {
      "needs_background": "light"
     },
     "output_type": "display_data"
    }
   ],
   "source": [
    "pd.Series(boxcox(df_boxcox_rev.imdb_score)[0], name=\"imdb_score_boxed\").hist(bins=100)"
   ]
  },
  {
   "cell_type": "code",
   "execution_count": 257,
   "metadata": {
    "ExecuteTime": {
     "end_time": "2020-04-03T21:51:57.012245Z",
     "start_time": "2020-04-03T21:51:57.006003Z"
    }
   },
   "outputs": [],
   "source": [
    "imdb_score_boxed, lambda_imdb_score = boxcox(df_boxcox_rev.imdb_score)"
   ]
  },
  {
   "cell_type": "code",
   "execution_count": 258,
   "metadata": {
    "ExecuteTime": {
     "end_time": "2020-04-03T21:52:04.737912Z",
     "start_time": "2020-04-03T21:52:04.731273Z"
    }
   },
   "outputs": [],
   "source": [
    "df_boxcox_rev['imdb_score_boxed']=pd.Series(boxcox(df_boxcox_rev.imdb_score)[0], name=\"imdb_score_boxed\")"
   ]
  },
  {
   "cell_type": "code",
   "execution_count": 259,
   "metadata": {
    "ExecuteTime": {
     "end_time": "2020-04-03T21:52:05.007891Z",
     "start_time": "2020-04-03T21:52:05.005263Z"
    }
   },
   "outputs": [],
   "source": [
    "del df_boxcox_rev['imdb_score']"
   ]
  },
  {
   "cell_type": "code",
   "execution_count": 262,
   "metadata": {
    "ExecuteTime": {
     "end_time": "2020-04-03T21:54:16.686866Z",
     "start_time": "2020-04-03T21:54:16.685001Z"
    }
   },
   "outputs": [],
   "source": [
    "# df_boxcox_rev.to_pickle(\"../data/pickles/df_boxcox_rev.pkl\")"
   ]
  },
  {
   "cell_type": "markdown",
   "metadata": {},
   "source": [
    "## Column Inspection: Free Text"
   ]
  },
  {
   "cell_type": "code",
   "execution_count": 263,
   "metadata": {
    "ExecuteTime": {
     "end_time": "2020-04-03T21:54:56.046267Z",
     "start_time": "2020-04-03T21:54:56.037911Z"
    }
   },
   "outputs": [],
   "source": [
    "df_boxcox_revenue = pd.read_pickle(\"../data/pickles/df_boxcox_rev.pkl\")"
   ]
  },
  {
   "cell_type": "markdown",
   "metadata": {},
   "source": [
    "### Titles"
   ]
  },
  {
   "cell_type": "code",
   "execution_count": 264,
   "metadata": {
    "ExecuteTime": {
     "end_time": "2020-04-03T21:55:05.023921Z",
     "start_time": "2020-04-03T21:55:05.005083Z"
    }
   },
   "outputs": [
    {
     "data": {
      "text/html": [
       "<div>\n",
       "<style scoped>\n",
       "    .dataframe tbody tr th:only-of-type {\n",
       "        vertical-align: middle;\n",
       "    }\n",
       "\n",
       "    .dataframe tbody tr th {\n",
       "        vertical-align: top;\n",
       "    }\n",
       "\n",
       "    .dataframe thead th {\n",
       "        text-align: right;\n",
       "    }\n",
       "</style>\n",
       "<table border=\"1\" class=\"dataframe\">\n",
       "  <thead>\n",
       "    <tr style=\"text-align: right;\">\n",
       "      <th></th>\n",
       "      <th>original_language</th>\n",
       "      <th>color</th>\n",
       "      <th>title</th>\n",
       "      <th>movie_title</th>\n",
       "      <th>original_title</th>\n",
       "      <th>overview</th>\n",
       "      <th>content_rating</th>\n",
       "      <th>fixed_aspect</th>\n",
       "      <th>durations</th>\n",
       "      <th>shot_only_in_USA</th>\n",
       "      <th>...</th>\n",
       "      <th>genre_Documentary</th>\n",
       "      <th>actor_1_facebook_likes_box</th>\n",
       "      <th>actor_2_facebook_likes_box</th>\n",
       "      <th>actor_3_facebook_likes_box</th>\n",
       "      <th>director_facebook_likes_box</th>\n",
       "      <th>cast_total_facebook_likes_box</th>\n",
       "      <th>budget_boxed</th>\n",
       "      <th>n_prod_locs_trunc</th>\n",
       "      <th>revenue_boxcox</th>\n",
       "      <th>imdb_score_boxed</th>\n",
       "    </tr>\n",
       "  </thead>\n",
       "  <tbody>\n",
       "    <tr>\n",
       "      <th>0</th>\n",
       "      <td>Other</td>\n",
       "      <td>Color</td>\n",
       "      <td>The Wailing</td>\n",
       "      <td>The Wailing</td>\n",
       "      <td>곡성</td>\n",
       "      <td>A stranger arrives in a little village and soo...</td>\n",
       "      <td>Unrated</td>\n",
       "      <td>2.39</td>\n",
       "      <td>156.0</td>\n",
       "      <td>False</td>\n",
       "      <td>...</td>\n",
       "      <td>False</td>\n",
       "      <td>4.258068</td>\n",
       "      <td>1.915040</td>\n",
       "      <td>0.000000</td>\n",
       "      <td>3.664026</td>\n",
       "      <td>5.230433</td>\n",
       "      <td>116.935937</td>\n",
       "      <td>1</td>\n",
       "      <td>60.259745</td>\n",
       "      <td>40.128255</td>\n",
       "    </tr>\n",
       "    <tr>\n",
       "      <th>1</th>\n",
       "      <td>French</td>\n",
       "      <td>Color</td>\n",
       "      <td>The Country Doctor</td>\n",
       "      <td>Irreplaceable</td>\n",
       "      <td>Médecin de campagne</td>\n",
       "      <td>All the people in this countryside area, can c...</td>\n",
       "      <td>PG-13</td>\n",
       "      <td>1.85</td>\n",
       "      <td>102.0</td>\n",
       "      <td>False</td>\n",
       "      <td>...</td>\n",
       "      <td>False</td>\n",
       "      <td>7.512101</td>\n",
       "      <td>2.384509</td>\n",
       "      <td>1.196106</td>\n",
       "      <td>2.509361</td>\n",
       "      <td>10.112309</td>\n",
       "      <td>131.532585</td>\n",
       "      <td>1</td>\n",
       "      <td>0.000000</td>\n",
       "      <td>34.553970</td>\n",
       "    </tr>\n",
       "    <tr>\n",
       "      <th>2</th>\n",
       "      <td>English</td>\n",
       "      <td>Color</td>\n",
       "      <td>Time to Choose</td>\n",
       "      <td>Time to Choose</td>\n",
       "      <td>Time to Choose</td>\n",
       "      <td>Academy Award® winning director Charles Fergus...</td>\n",
       "      <td>PG-13</td>\n",
       "      <td>1.85</td>\n",
       "      <td>100.0</td>\n",
       "      <td>True</td>\n",
       "      <td>...</td>\n",
       "      <td>True</td>\n",
       "      <td>3.367098</td>\n",
       "      <td>1.459349</td>\n",
       "      <td>0.000000</td>\n",
       "      <td>4.580765</td>\n",
       "      <td>4.058610</td>\n",
       "      <td>92.507826</td>\n",
       "      <td>1</td>\n",
       "      <td>0.000000</td>\n",
       "      <td>32.449510</td>\n",
       "    </tr>\n",
       "    <tr>\n",
       "      <th>3</th>\n",
       "      <td>Other</td>\n",
       "      <td>Color</td>\n",
       "      <td>Operation Chromite</td>\n",
       "      <td>Operation Chromite</td>\n",
       "      <td>인천상륙작전</td>\n",
       "      <td>A squad of soldiers fight in the Korean War's ...</td>\n",
       "      <td>PG-13</td>\n",
       "      <td>1.85</td>\n",
       "      <td>111.0</td>\n",
       "      <td>False</td>\n",
       "      <td>...</td>\n",
       "      <td>False</td>\n",
       "      <td>12.528987</td>\n",
       "      <td>5.203700</td>\n",
       "      <td>4.459035</td>\n",
       "      <td>3.393753</td>\n",
       "      <td>19.946681</td>\n",
       "      <td>120.450934</td>\n",
       "      <td>1</td>\n",
       "      <td>60.616293</td>\n",
       "      <td>30.416024</td>\n",
       "    </tr>\n",
       "    <tr>\n",
       "      <th>4</th>\n",
       "      <td>English</td>\n",
       "      <td>Color</td>\n",
       "      <td>The Perfect Match</td>\n",
       "      <td>The Perfect Match</td>\n",
       "      <td>The Perfect Match</td>\n",
       "      <td>Terrence J. stars as Charlie, a playboy who's ...</td>\n",
       "      <td>R</td>\n",
       "      <td>1.85</td>\n",
       "      <td>96.0</td>\n",
       "      <td>True</td>\n",
       "      <td>...</td>\n",
       "      <td>False</td>\n",
       "      <td>8.281601</td>\n",
       "      <td>7.907600</td>\n",
       "      <td>10.385821</td>\n",
       "      <td>3.093011</td>\n",
       "      <td>15.209840</td>\n",
       "      <td>99.568658</td>\n",
       "      <td>1</td>\n",
       "      <td>0.000000</td>\n",
       "      <td>11.989734</td>\n",
       "    </tr>\n",
       "  </tbody>\n",
       "</table>\n",
       "<p>5 rows × 31 columns</p>\n",
       "</div>"
      ],
      "text/plain": [
       "  original_language  color               title          movie_title  \\\n",
       "0             Other  Color         The Wailing         The Wailing    \n",
       "1            French  Color  The Country Doctor       Irreplaceable    \n",
       "2           English  Color      Time to Choose      Time to Choose    \n",
       "3             Other  Color  Operation Chromite  Operation Chromite    \n",
       "4           English  Color   The Perfect Match   The Perfect Match    \n",
       "\n",
       "        original_title                                           overview  \\\n",
       "0                   곡성  A stranger arrives in a little village and soo...   \n",
       "1  Médecin de campagne  All the people in this countryside area, can c...   \n",
       "2       Time to Choose  Academy Award® winning director Charles Fergus...   \n",
       "3               인천상륙작전  A squad of soldiers fight in the Korean War's ...   \n",
       "4    The Perfect Match  Terrence J. stars as Charlie, a playboy who's ...   \n",
       "\n",
       "  content_rating fixed_aspect  durations  shot_only_in_USA  ...  \\\n",
       "0        Unrated         2.39      156.0             False  ...   \n",
       "1          PG-13         1.85      102.0             False  ...   \n",
       "2          PG-13         1.85      100.0              True  ...   \n",
       "3          PG-13         1.85      111.0             False  ...   \n",
       "4              R         1.85       96.0              True  ...   \n",
       "\n",
       "   genre_Documentary  actor_1_facebook_likes_box  actor_2_facebook_likes_box  \\\n",
       "0              False                    4.258068                    1.915040   \n",
       "1              False                    7.512101                    2.384509   \n",
       "2               True                    3.367098                    1.459349   \n",
       "3              False                   12.528987                    5.203700   \n",
       "4              False                    8.281601                    7.907600   \n",
       "\n",
       "   actor_3_facebook_likes_box  director_facebook_likes_box  \\\n",
       "0                    0.000000                     3.664026   \n",
       "1                    1.196106                     2.509361   \n",
       "2                    0.000000                     4.580765   \n",
       "3                    4.459035                     3.393753   \n",
       "4                   10.385821                     3.093011   \n",
       "\n",
       "   cast_total_facebook_likes_box  budget_boxed  n_prod_locs_trunc  \\\n",
       "0                       5.230433    116.935937                  1   \n",
       "1                      10.112309    131.532585                  1   \n",
       "2                       4.058610     92.507826                  1   \n",
       "3                      19.946681    120.450934                  1   \n",
       "4                      15.209840     99.568658                  1   \n",
       "\n",
       "   revenue_boxcox  imdb_score_boxed  \n",
       "0       60.259745         40.128255  \n",
       "1        0.000000         34.553970  \n",
       "2        0.000000         32.449510  \n",
       "3       60.616293         30.416024  \n",
       "4        0.000000         11.989734  \n",
       "\n",
       "[5 rows x 31 columns]"
      ]
     },
     "execution_count": 264,
     "metadata": {},
     "output_type": "execute_result"
    }
   ],
   "source": [
    "df_boxcox_revenue.head()"
   ]
  },
  {
   "cell_type": "code",
   "execution_count": null,
   "metadata": {},
   "outputs": [],
   "source": []
  },
  {
   "cell_type": "code",
   "execution_count": null,
   "metadata": {},
   "outputs": [],
   "source": []
  },
  {
   "cell_type": "code",
   "execution_count": null,
   "metadata": {},
   "outputs": [],
   "source": []
  },
  {
   "cell_type": "markdown",
   "metadata": {},
   "source": [
    "***"
   ]
  },
  {
   "cell_type": "markdown",
   "metadata": {},
   "source": [
    "# Bivariate Analyses"
   ]
  },
  {
   "cell_type": "code",
   "execution_count": null,
   "metadata": {},
   "outputs": [],
   "source": []
  },
  {
   "cell_type": "markdown",
   "metadata": {},
   "source": [
    "Are there any redundant features? Are there any features obviously correlated with our dependent var?"
   ]
  },
  {
   "cell_type": "code",
   "execution_count": null,
   "metadata": {
    "ExecuteTime": {
     "end_time": "2020-04-02T03:14:00.627373Z",
     "start_time": "2020-04-02T03:14:00.480306Z"
    },
    "scrolled": true
   },
   "outputs": [],
   "source": [
    "# Creating a multi-scatter plot\n",
    "main_corr= main_df.drop(['binary_target'], axis=1).iloc[:,:]\n",
    "pd.plotting.scatter_matrix(main_corr, figsize=[15,15]);"
   ]
  },
  {
   "cell_type": "code",
   "execution_count": null,
   "metadata": {
    "ExecuteTime": {
     "end_time": "2020-04-02T03:14:00.743857Z",
     "start_time": "2020-04-02T03:14:00.737669Z"
    }
   },
   "outputs": [],
   "source": [
    "sns.heatmap(main_corr.corr(), center=0);"
   ]
  },
  {
   "cell_type": "markdown",
   "metadata": {},
   "source": [
    "# Structured-Only Linear Regression"
   ]
  },
  {
   "cell_type": "markdown",
   "metadata": {},
   "source": [
    "Let's start without incorporating the unstructured text data, just numerical and categorical info:"
   ]
  },
  {
   "cell_type": "markdown",
   "metadata": {},
   "source": [
    "Now that we've cleaned up a bit, we'll start throwing our features at a statsmodels logistic regression estimator to evaluate r^2 and p-values of various features."
   ]
  },
  {
   "cell_type": "code",
   "execution_count": null,
   "metadata": {},
   "outputs": [],
   "source": [
    "# check LogReg with all initial variables from main_df (note: no plot)\n",
    "s = (\"binary_target ~ Year + C(Action) + C(Adventure) + C(Animation) + C(Biography) + C(Comedy)\"\n",
    "                 \"+ C(Crime) + C(Documentary) + C(Drama) + C(Family) + C(Fantasy) + C(History)\"\n",
    "                 \"+ C(Horror) + C(Musical) + C(Mystery) + C(Romance) + C(Sci_Fi) + C(Sport)\"\n",
    "                 \"+ C(Thriller) + C(War)+ C(Western)\"\n",
    "                 \"+ Actor_1_fb_likes_logged + Actor_2_fb_likes_logged\"\n",
    "                 \"+ Actor_3_fb_likes_logged\")\n",
    "\n",
    "y, X = dmatrices(s, main_df, return_type=\"dataframe\")\n",
    "\n",
    "X_train, X_test, y_train, y_test = train_test_split(X, y, test_size =  0.2)\n",
    "\n",
    "logit_model = sm.Logit(y_train.iloc[:,0], X_train)\n",
    "result = logit_model.fit()\n",
    "\n",
    "print(result.summary())\n",
    "\n",
    "y_preds = result.predict(X_test)\n",
    "\n",
    "accuracy_score(y_test, y_preds >=.5)"
   ]
  },
  {
   "cell_type": "markdown",
   "metadata": {},
   "source": [
    "This gives us an idea of which features might be less important in the determination of what makes a movie \"good\". We'll drop the less pertinent features and try again:"
   ]
  },
  {
   "cell_type": "code",
   "execution_count": null,
   "metadata": {
    "scrolled": false
   },
   "outputs": [],
   "source": [
    "s = (\"binary_target ~ Year + C(Action) + C(Animation) + C(Biography) + C(Comedy)\"\n",
    "                 \"+ C(Documentary) + C(Drama) + C(Family)\"\n",
    "                 \"+ C(Horror) + C(Mystery) + C(Romance) + C(Sci_Fi)\"\n",
    "                 \"+ C(Thriller)\"\n",
    "                 \"+ Actor_1_fb_likes_logged + Actor_2_fb_likes_logged\"\n",
    "                 \"+ Actor_3_fb_likes_logged\")\n",
    "\n",
    "main_df = main_df.drop(['Adventure','Crime', 'Fantasy', 'History', 'Musical', 'Sport', 'War', 'Western'], axis=1)\n",
    "\n",
    "y, X = dmatrices(s, main_df, return_type = \"dataframe\")\n",
    "\n",
    "X_train, X_test, y_train, y_test = train_test_split(X, y, test_size =  0.2)\n",
    "\n",
    "logit_model = sm.Logit(y_train.iloc[:,0], X_train)\n",
    "result = logit_model.fit()\n",
    "\n",
    "print(result.summary())\n",
    "\n",
    "y_preds = result.predict(X_test)\n",
    "\n",
    "accuracy_score(y_test, y_preds >=.5)"
   ]
  },
  {
   "cell_type": "code",
   "execution_count": null,
   "metadata": {},
   "outputs": [],
   "source": [
    "main_df.columns"
   ]
  },
  {
   "cell_type": "markdown",
   "metadata": {},
   "source": [
    "These are the features we're sticking with for now."
   ]
  },
  {
   "cell_type": "markdown",
   "metadata": {},
   "source": [
    "It's fairly intuitive that the social media popularity of the leading actors would be positively correlated, but we'll leave it in in case there are deviations from that norm. It's interesting to note that films in the \"animation\" genre are so commonly also in the \"family\" genre. Makes sense too."
   ]
  },
  {
   "cell_type": "markdown",
   "metadata": {},
   "source": [
    "# Preparing Unstructured Features"
   ]
  },
  {
   "cell_type": "markdown",
   "metadata": {},
   "source": [
    "## Lemmatize / Vectorize"
   ]
  },
  {
   "cell_type": "code",
   "execution_count": null,
   "metadata": {},
   "outputs": [],
   "source": [
    "stop_words = set(stopwords.words('english'))\n",
    "lemmatizer = WordNetLemmatizer()\n",
    "\n",
    "def lemmatize(plot_list):\n",
    "    lemmatized_plots = []\n",
    "    \n",
    "    for plot in plot_list:\n",
    "        tokenized_lower = word_tokenize(plot.lower()) # Make plot summary lowercase and lemmatize        \n",
    "        tokenized_lower =[word for word in tokenized_lower if english_d.check(word)] # Make sure it's an english word\n",
    "        dirty_lemma = [lemmatizer.lemmatize(w, get_wordnet_pos(w)) for w in tokenized_lower] # Lemmatize\n",
    "        dirty_lemma_string = ' '.join(dirty_lemma)\n",
    "        \n",
    "        # Filter out words that don't match this regex pattern:\n",
    "        reg = re.compile((r\"([a-zA-Z]+(?:'[a-z]+)?)\"))\n",
    "        lemmatized_regex = [word_lem for word_lem in dirty_lemma if word_lem in reg.findall(dirty_lemma_string)]\n",
    "        \n",
    "        # Remove stop words\n",
    "        lemmatized = [word_lem for word_lem in lemmatized_regex if not word_lem in stop_words]\n",
    "        lemmatized_string = ' '.join(lemmatized)\n",
    "        lemmatized_plots.append(lemmatized_string)\n",
    "        \n",
    "    return lemmatized_plots"
   ]
  },
  {
   "cell_type": "code",
   "execution_count": null,
   "metadata": {},
   "outputs": [],
   "source": [
    "def get_wordnet_pos(word):\n",
    "    \"\"\"Map POS tag to the first character that lemmatize() accepts\"\"\"\n",
    "    tag = nltk.pos_tag([word])[0][1][0].upper()\n",
    "    tag_dict = {\"J\": wordnet.ADJ,\n",
    "                \"N\": wordnet.NOUN,\n",
    "                \"V\": wordnet.VERB,\n",
    "                \"R\": wordnet.ADV}\n",
    "\n",
    "    return tag_dict.get(tag, wordnet.NOUN)"
   ]
  },
  {
   "cell_type": "markdown",
   "metadata": {},
   "source": [
    "### Run the Lemmatizer"
   ]
  },
  {
   "cell_type": "code",
   "execution_count": null,
   "metadata": {
    "scrolled": false
   },
   "outputs": [],
   "source": [
    "all_plots = [plot for plot in df.loc[:,'Plot'].values] # Get all movie plots.\n",
    "plots = lemmatize(all_plots) # Lemmatize."
   ]
  },
  {
   "cell_type": "markdown",
   "metadata": {},
   "source": [
    "### Vectorizing Plots"
   ]
  },
  {
   "cell_type": "code",
   "execution_count": null,
   "metadata": {},
   "outputs": [],
   "source": [
    "# Term frequency = Number of times a word appears in a document / number of words in document\n",
    "# Inverse document frequency = log base e(number of documents / number of documents with word in it)\n",
    "# tf:idf = tf * idf\n",
    "\n",
    "tfidf = TfidfVectorizer()\n",
    "response = tfidf.fit_transform(plots)\n",
    "print(response.shape)\n",
    "\n",
    "tfidf_df = pd.DataFrame(response.toarray(), columns=tfidf.get_feature_names())"
   ]
  },
  {
   "cell_type": "markdown",
   "metadata": {},
   "source": [
    "Now we have all plots lemmatized as \"plots\" and vectorized / weighted as \"tfidf_df\"."
   ]
  },
  {
   "cell_type": "markdown",
   "metadata": {},
   "source": [
    "## Topic Clustering with LDA"
   ]
  },
  {
   "cell_type": "markdown",
   "metadata": {},
   "source": [
    "Gensim clusters words that appear together frequently. The clusters can be interpreted as general topics, and each movie gets weights indicating the degree to which it belongs to each topic. These weights are then re-incorporated as features in our dataset."
   ]
  },
  {
   "cell_type": "code",
   "execution_count": null,
   "metadata": {},
   "outputs": [],
   "source": [
    "all_words = [plot.split(' ') for plot in plots] # Just formatting our corpus how Gensim wants it"
   ]
  },
  {
   "cell_type": "code",
   "execution_count": null,
   "metadata": {},
   "outputs": [],
   "source": [
    "dictionary = corpora.Dictionary(all_words)\n",
    "corpus = [dictionary.doc2bow(text) for text in all_words]\n",
    "pickle.dump(corpus, open('pickles/corpus.pkl', 'wb'))\n",
    "dictionary.save('pickles/dictionary.gensim')"
   ]
  },
  {
   "cell_type": "code",
   "execution_count": null,
   "metadata": {},
   "outputs": [],
   "source": [
    "NUM_TOPICS = 50 # This value was arbitrarily chosen.\n",
    "ldamodel = gensim.models.ldamodel.LdaModel(corpus, num_topics = NUM_TOPICS, id2word=dictionary, passes=10) # Also arb\n",
    "ldamodel.save('pickles/model5.gensim')"
   ]
  },
  {
   "cell_type": "code",
   "execution_count": null,
   "metadata": {},
   "outputs": [],
   "source": [
    "topics = ldamodel.print_topics(num_words=4)\n",
    "topics # These are examples of some of the clusters created by Gensim."
   ]
  },
  {
   "cell_type": "code",
   "execution_count": null,
   "metadata": {},
   "outputs": [],
   "source": [
    "pyLDAvis.enable_notebook()\n",
    "vis = pyLDAvis.gensim.prepare(ldamodel, corpus, dictionary)\n",
    "vis"
   ]
  },
  {
   "cell_type": "code",
   "execution_count": null,
   "metadata": {},
   "outputs": [],
   "source": [
    "tm = pd.DataFrame()\n",
    "for i in range(len(corpus)):\n",
    "    new_row = np.zeros(NUM_TOPICS)\n",
    "    for toop in ldamodel.get_document_topics(corpus[i]): # These two lines are where you do what you need to do\n",
    "        new_row[toop[0]] = toop[1]                       # to flip zeroes to ones if the genre appears\n",
    "    tm = tm.append(pd.Series(new_row), ignore_index=1)"
   ]
  },
  {
   "cell_type": "code",
   "execution_count": null,
   "metadata": {},
   "outputs": [],
   "source": [
    "tm.head() # This is a DataFrame with the weights from the GenSim clustering."
   ]
  },
  {
   "cell_type": "markdown",
   "metadata": {},
   "source": [
    "Bring it all together:"
   ]
  },
  {
   "cell_type": "code",
   "execution_count": null,
   "metadata": {},
   "outputs": [],
   "source": [
    "df = main_df.join(tm)\n",
    "len(df.columns)"
   ]
  },
  {
   "cell_type": "markdown",
   "metadata": {},
   "source": [
    "# All-Inclusive Model"
   ]
  },
  {
   "cell_type": "code",
   "execution_count": null,
   "metadata": {},
   "outputs": [],
   "source": [
    "X = df.drop(['binary_target'], axis=1)\n",
    "y = df.binary_target\n",
    "scaler = StandardScaler()\n",
    "X_scaled = scaler.fit_transform(X)"
   ]
  },
  {
   "cell_type": "markdown",
   "metadata": {},
   "source": [
    "train_test_split on X_scaled:"
   ]
  },
  {
   "cell_type": "code",
   "execution_count": null,
   "metadata": {},
   "outputs": [],
   "source": [
    "X_train, X_test, y_train, y_test = train_test_split(X_scaled, y, test_size =  0.2)"
   ]
  },
  {
   "cell_type": "markdown",
   "metadata": {},
   "source": [
    "## Baselining:"
   ]
  },
  {
   "cell_type": "code",
   "execution_count": null,
   "metadata": {},
   "outputs": [],
   "source": [
    "dc = DummyClassifier().fit(X_train, y_train)"
   ]
  },
  {
   "cell_type": "code",
   "execution_count": null,
   "metadata": {},
   "outputs": [],
   "source": [
    "accuracy_score(y_test,dc.predict(X_test))"
   ]
  },
  {
   "cell_type": "markdown",
   "metadata": {},
   "source": [
    "Dimensionality Reduction with SVD - For the PlotText Data:"
   ]
  },
  {
   "cell_type": "code",
   "execution_count": null,
   "metadata": {},
   "outputs": [],
   "source": [
    "svd = TruncatedSVD(n_components=50, n_iter=3, random_state=42)\n",
    "X_train_pca = pd.DataFrame(svd.fit_transform(X_train))\n",
    "print(svd.explained_variance_ratio_.sum())"
   ]
  },
  {
   "cell_type": "markdown",
   "metadata": {},
   "source": [
    "Next we'll try a simple Gaussian Naive Bayes Model:"
   ]
  },
  {
   "cell_type": "code",
   "execution_count": null,
   "metadata": {},
   "outputs": [],
   "source": [
    "clf = GaussianNB()\n",
    "clf.fit(X_train_pca, y_train)\n",
    "y_preds = clf.predict(pd.DataFrame(svd.transform(X_test)))\n",
    "print(metrics.classification_report(y_test, y_preds))\n",
    "test_accuracy = accuracy_score(y_test,y_preds)\n",
    "print(\"Test accuracy: {:.4}%\".format(test_accuracy * 100))"
   ]
  },
  {
   "cell_type": "markdown",
   "metadata": {},
   "source": [
    "__________"
   ]
  },
  {
   "cell_type": "markdown",
   "metadata": {},
   "source": [
    "Now we'll go nuts and try an XGBClassifier model. A boosted model seems to work better without PCA, so we'll drop it for this part."
   ]
  },
  {
   "cell_type": "code",
   "execution_count": null,
   "metadata": {},
   "outputs": [],
   "source": [
    "clf = xgb.XGBClassifier(n_jobs=-1)\n",
    "clf.fit(X_train, y_train)\n",
    "\n",
    "training_preds = clf.predict(X_train)\n",
    "test_preds = clf.predict(X_test)#pd.DataFrame(svd.transform(X_test)))\n",
    "\n",
    "training_accuracy = accuracy_score(y_train, training_preds)\n",
    "test_accuracy = accuracy_score(y_test, test_preds)\n",
    "\n",
    "print(\"Training Accuracy: {:.4}%\".format(training_accuracy * 100))\n",
    "print(\"Test accuracy: {:.4}%\".format(test_accuracy * 100))"
   ]
  },
  {
   "cell_type": "code",
   "execution_count": null,
   "metadata": {},
   "outputs": [],
   "source": [
    "y_score = clf.predict_proba(X_test)\n",
    "fpr, tpr, thresholds = roc_curve(y_test, y_score[:,1])\n",
    "print('AUC: {}'.format(auc(fpr, tpr)))"
   ]
  },
  {
   "cell_type": "code",
   "execution_count": null,
   "metadata": {},
   "outputs": [],
   "source": [
    "def draw_roc_curve(fpr,tpr):\n",
    "    sns.set_style(\"darkgrid\", {\"axes.facecolor\": \".9\"})\n",
    "    print('AUC: {}'.format(auc(fpr, tpr)))\n",
    "    plt.figure(figsize=(10,8))\n",
    "    lw = 2\n",
    "    plt.plot(fpr, tpr, color='darkorange', lw=lw, label='ROC curve')\n",
    "    plt.plot([0, 1], [0, 1], color='navy', lw=lw, linestyle='--')\n",
    "    plt.xlim([0.0, 1.0])\n",
    "    plt.ylim([0.0, 1.05])\n",
    "    plt.yticks([i/20.0 for i in range(21)])\n",
    "    plt.xticks([i/20.0 for i in range(21)])\n",
    "    plt.xlabel('False Positive Rate')\n",
    "    plt.ylabel('True Positive Rate')\n",
    "    plt.title('Receiver operating characteristic (ROC) Curve')\n",
    "    plt.legend(loc=\"lower right\")\n",
    "    plt.show()"
   ]
  },
  {
   "cell_type": "code",
   "execution_count": null,
   "metadata": {},
   "outputs": [],
   "source": [
    "draw_roc_curve(fpr,tpr)"
   ]
  },
  {
   "cell_type": "markdown",
   "metadata": {},
   "source": [
    "Looks like we're off to an okay start!"
   ]
  },
  {
   "cell_type": "markdown",
   "metadata": {},
   "source": [
    "## Grid Searching for better parameters"
   ]
  },
  {
   "cell_type": "code",
   "execution_count": null,
   "metadata": {},
   "outputs": [],
   "source": [
    "# svd_components = [100,500,1000]\n",
    "# itera = [3, 5]\n",
    "\n",
    "n_est = [50,80,100]\n",
    "max_depth = [2,3,4]\n",
    "learning_rates = [.08, .1, .15]\n",
    "\n",
    "pipe = Pipeline([\n",
    "#     ('reduce_dim', TruncatedSVD()),\n",
    "    ('classify', XGBClassifier())\n",
    "])\n",
    "\n",
    "param_grid = [\n",
    "    {\n",
    "#         'reduce_dim__n_components': svd_components,\n",
    "#         'reduce_dim__n_iter': itera,\n",
    "        'classify__n_estimators': n_est,\n",
    "        'classify__max_depth': max_depth,\n",
    "        'classify__n_jobs': [-1],\n",
    "        'classify__learning_rate': learning_rates\n",
    "    }]\n",
    "\n",
    "score = {'f1': 'f1', \n",
    "         'accuracy': 'accuracy'}\n",
    "\n",
    "grid_adc = GridSearchCV(pipe, \n",
    "                        n_jobs=-1, \n",
    "                        param_grid=param_grid, \n",
    "                        scoring=score, \n",
    "                        refit='accuracy',\n",
    "                        verbose=10)\n",
    "\n",
    "grid_adc.fit(X_train, y_train)\n",
    "grid_adc.best_params_"
   ]
  },
  {
   "cell_type": "code",
   "execution_count": null,
   "metadata": {},
   "outputs": [],
   "source": [
    "# Check the gridsearch results:\n",
    "y_preds = grid_adc.predict(X_test)\n",
    "accuracy_score(y_test, y_preds)"
   ]
  },
  {
   "cell_type": "code",
   "execution_count": null,
   "metadata": {},
   "outputs": [],
   "source": [
    "y_score = grid_adc.predict_proba(X_test)\n",
    "fpr_gs, tpr_gs, thresholds = roc_curve(y_test, y_score[:,1])\n",
    "print('AUC: {}'.format(auc(fpr_gs, tpr_gs)))"
   ]
  },
  {
   "cell_type": "code",
   "execution_count": null,
   "metadata": {},
   "outputs": [],
   "source": [
    "plt.figure(0).clf()\n",
    "plt.figure(figsize=(10,8))\n",
    "lw = 2\n",
    "\n",
    "plt.plot(fpr, tpr, color='darkorange',\n",
    "         lw=lw, label='ROC curve XGBClassifier')\n",
    "plt.plot(fpr_gs,tpr_gs,\n",
    "         label='Grid Searched XGBClassifier')\n",
    "\n",
    "plt.plot([0, 1], [0, 1], color='navy', lw=lw, linestyle='--')\n",
    "plt.xlim([0.0, 1.0])\n",
    "plt.ylim([0.0, 1.05])\n",
    "plt.yticks([i/20.0 for i in range(21)])\n",
    "plt.xticks([i/20.0 for i in range(21)])\n",
    "plt.xlabel('False Positive Rate')\n",
    "plt.ylabel('True Positive Rate')\n",
    "plt.title('Receiver operating characteristic (ROC) Curve')\n",
    "plt.legend(loc=\"lower right\")\n",
    "plt.legend(loc=0)"
   ]
  },
  {
   "cell_type": "markdown",
   "metadata": {},
   "source": [
    "Negligible improvement."
   ]
  },
  {
   "cell_type": "code",
   "execution_count": null,
   "metadata": {},
   "outputs": [],
   "source": []
  }
 ],
 "metadata": {
  "kernelspec": {
   "display_name": "Python 3",
   "language": "python",
   "name": "python3"
  },
  "language_info": {
   "codemirror_mode": {
    "name": "ipython",
    "version": 3
   },
   "file_extension": ".py",
   "mimetype": "text/x-python",
   "name": "python",
   "nbconvert_exporter": "python",
   "pygments_lexer": "ipython3",
   "version": "3.7.5"
  },
  "toc": {
   "base_numbering": 1,
   "nav_menu": {},
   "number_sections": true,
   "sideBar": true,
   "skip_h1_title": false,
   "title_cell": "Table of Contents",
   "title_sidebar": "Contents",
   "toc_cell": false,
   "toc_position": {
    "height": "calc(100% - 180px)",
    "left": "10px",
    "top": "150px",
    "width": "384px"
   },
   "toc_section_display": true,
   "toc_window_display": true
  },
  "varInspector": {
   "cols": {
    "lenName": 16,
    "lenType": 16,
    "lenVar": 40
   },
   "kernels_config": {
    "python": {
     "delete_cmd_postfix": "",
     "delete_cmd_prefix": "del ",
     "library": "var_list.py",
     "varRefreshCmd": "print(var_dic_list())"
    },
    "r": {
     "delete_cmd_postfix": ") ",
     "delete_cmd_prefix": "rm(",
     "library": "var_list.r",
     "varRefreshCmd": "cat(var_dic_list()) "
    }
   },
   "position": {
    "height": "513px",
    "left": "1548px",
    "right": "20px",
    "top": "117px",
    "width": "355px"
   },
   "types_to_exclude": [
    "module",
    "function",
    "builtin_function_or_method",
    "instance",
    "_Feature"
   ],
   "window_display": true
  }
 },
 "nbformat": 4,
 "nbformat_minor": 2
}
