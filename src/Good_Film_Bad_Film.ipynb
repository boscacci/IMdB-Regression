{
 "cells": [
  {
   "cell_type": "markdown",
   "metadata": {},
   "source": [
    "# Good Film // Bad Film\n",
    "## Film Plot Synopses and etc. as Predictors of Critical Reception"
   ]
  },
  {
   "cell_type": "markdown",
   "metadata": {},
   "source": [
    "This notebook builds and evaluates a handful of regression models which predict critical reception scores for films. Independent variables include plot synopsis free text, social media metrics on the leading actors, and other categorical variables such as film genre."
   ]
  },
  {
   "cell_type": "code",
   "execution_count": 3,
   "metadata": {
    "ExecuteTime": {
     "end_time": "2020-04-04T22:37:25.864242Z",
     "start_time": "2020-04-04T22:37:25.860349Z"
    },
    "init_cell": true
   },
   "outputs": [],
   "source": [
    "import os\n",
    "import time\n",
    "import pickle\n",
    "from unicodedata import normalize\n",
    "\n",
    "import requests\n",
    "from pycountry import languages\n",
    "\n",
    "import pandas as pd\n",
    "import numpy as np\n",
    "from scipy.stats import boxcox\n",
    "import matplotlib.pyplot as plt\n",
    "\n",
    "from nltk import pos_tag, word_tokenize\n",
    "from nltk.corpus import wordnet, stopwords\n",
    "from nltk.stem import WordNetLemmatizer\n",
    "from sklearn.feature_extraction.text import CountVectorizer\n",
    "from sklearn.feature_extraction.text import TfidfTransformer"
   ]
  },
  {
   "cell_type": "markdown",
   "metadata": {},
   "source": [
    "# Data Collection"
   ]
  },
  {
   "cell_type": "markdown",
   "metadata": {},
   "source": [
    "## Kaggle Dataset"
   ]
  },
  {
   "cell_type": "markdown",
   "metadata": {},
   "source": [
    "From https://www.kaggle.com/tmdb/tmdb-movie-metadata:"
   ]
  },
  {
   "cell_type": "code",
   "execution_count": 4,
   "metadata": {
    "ExecuteTime": {
     "end_time": "2020-04-04T22:37:25.892516Z",
     "start_time": "2020-04-04T22:37:25.867387Z"
    }
   },
   "outputs": [],
   "source": [
    "kaggle_data = pd.read_csv('../data/imdb_5000_movies.csv') # Just a big Kaggle dataset full of movies."
   ]
  },
  {
   "cell_type": "code",
   "execution_count": 5,
   "metadata": {
    "ExecuteTime": {
     "end_time": "2020-04-04T22:37:25.897951Z",
     "start_time": "2020-04-04T22:37:25.893899Z"
    }
   },
   "outputs": [
    {
     "data": {
      "text/plain": [
       "(5043, 28)"
      ]
     },
     "execution_count": 5,
     "metadata": {},
     "output_type": "execute_result"
    }
   ],
   "source": [
    "kaggle_data.shape"
   ]
  },
  {
   "cell_type": "markdown",
   "metadata": {},
   "source": [
    "## Extra Metadata from TheMovieDB.org"
   ]
  },
  {
   "cell_type": "markdown",
   "metadata": {},
   "source": [
    "One good thing about this dataset is that it provides the unique IMdB movie ID's, which we can pass to a third-party API in order to supplement our data with more features. Here we parse out those IMdB ID's:"
   ]
  },
  {
   "cell_type": "code",
   "execution_count": 6,
   "metadata": {
    "ExecuteTime": {
     "end_time": "2020-04-04T22:37:25.921339Z",
     "start_time": "2020-04-04T22:37:25.899642Z"
    }
   },
   "outputs": [
    {
     "data": {
      "text/html": [
       "<div>\n",
       "<style scoped>\n",
       "    .dataframe tbody tr th:only-of-type {\n",
       "        vertical-align: middle;\n",
       "    }\n",
       "\n",
       "    .dataframe tbody tr th {\n",
       "        vertical-align: top;\n",
       "    }\n",
       "\n",
       "    .dataframe thead th {\n",
       "        text-align: right;\n",
       "    }\n",
       "</style>\n",
       "<table border=\"1\" class=\"dataframe\">\n",
       "  <thead>\n",
       "    <tr style=\"text-align: right;\">\n",
       "      <th></th>\n",
       "      <th>color</th>\n",
       "      <th>director_name</th>\n",
       "      <th>num_critic_for_reviews</th>\n",
       "      <th>duration</th>\n",
       "      <th>director_facebook_likes</th>\n",
       "      <th>actor_3_facebook_likes</th>\n",
       "      <th>actor_2_name</th>\n",
       "      <th>actor_1_facebook_likes</th>\n",
       "      <th>gross</th>\n",
       "      <th>genres</th>\n",
       "      <th>...</th>\n",
       "      <th>num_user_for_reviews</th>\n",
       "      <th>language</th>\n",
       "      <th>country</th>\n",
       "      <th>content_rating</th>\n",
       "      <th>budget</th>\n",
       "      <th>title_year</th>\n",
       "      <th>actor_2_facebook_likes</th>\n",
       "      <th>imdb_score</th>\n",
       "      <th>aspect_ratio</th>\n",
       "      <th>movie_facebook_likes</th>\n",
       "    </tr>\n",
       "  </thead>\n",
       "  <tbody>\n",
       "    <tr>\n",
       "      <th>5038</th>\n",
       "      <td>Color</td>\n",
       "      <td>Scott Smith</td>\n",
       "      <td>1.0</td>\n",
       "      <td>87.0</td>\n",
       "      <td>2.0</td>\n",
       "      <td>318.0</td>\n",
       "      <td>Daphne Zuniga</td>\n",
       "      <td>637.0</td>\n",
       "      <td>NaN</td>\n",
       "      <td>Comedy|Drama</td>\n",
       "      <td>...</td>\n",
       "      <td>6.0</td>\n",
       "      <td>English</td>\n",
       "      <td>Canada</td>\n",
       "      <td>NaN</td>\n",
       "      <td>NaN</td>\n",
       "      <td>2013.0</td>\n",
       "      <td>470.0</td>\n",
       "      <td>7.7</td>\n",
       "      <td>NaN</td>\n",
       "      <td>84</td>\n",
       "    </tr>\n",
       "    <tr>\n",
       "      <th>5039</th>\n",
       "      <td>Color</td>\n",
       "      <td>NaN</td>\n",
       "      <td>43.0</td>\n",
       "      <td>43.0</td>\n",
       "      <td>NaN</td>\n",
       "      <td>319.0</td>\n",
       "      <td>Valorie Curry</td>\n",
       "      <td>841.0</td>\n",
       "      <td>NaN</td>\n",
       "      <td>Crime|Drama|Mystery|Thriller</td>\n",
       "      <td>...</td>\n",
       "      <td>359.0</td>\n",
       "      <td>English</td>\n",
       "      <td>USA</td>\n",
       "      <td>TV-14</td>\n",
       "      <td>NaN</td>\n",
       "      <td>NaN</td>\n",
       "      <td>593.0</td>\n",
       "      <td>7.5</td>\n",
       "      <td>16.00</td>\n",
       "      <td>32000</td>\n",
       "    </tr>\n",
       "    <tr>\n",
       "      <th>5040</th>\n",
       "      <td>Color</td>\n",
       "      <td>Benjamin Roberds</td>\n",
       "      <td>13.0</td>\n",
       "      <td>76.0</td>\n",
       "      <td>0.0</td>\n",
       "      <td>0.0</td>\n",
       "      <td>Maxwell Moody</td>\n",
       "      <td>0.0</td>\n",
       "      <td>NaN</td>\n",
       "      <td>Drama|Horror|Thriller</td>\n",
       "      <td>...</td>\n",
       "      <td>3.0</td>\n",
       "      <td>English</td>\n",
       "      <td>USA</td>\n",
       "      <td>NaN</td>\n",
       "      <td>1400.0</td>\n",
       "      <td>2013.0</td>\n",
       "      <td>0.0</td>\n",
       "      <td>6.3</td>\n",
       "      <td>NaN</td>\n",
       "      <td>16</td>\n",
       "    </tr>\n",
       "    <tr>\n",
       "      <th>5041</th>\n",
       "      <td>Color</td>\n",
       "      <td>Daniel Hsia</td>\n",
       "      <td>14.0</td>\n",
       "      <td>100.0</td>\n",
       "      <td>0.0</td>\n",
       "      <td>489.0</td>\n",
       "      <td>Daniel Henney</td>\n",
       "      <td>946.0</td>\n",
       "      <td>10443.0</td>\n",
       "      <td>Comedy|Drama|Romance</td>\n",
       "      <td>...</td>\n",
       "      <td>9.0</td>\n",
       "      <td>English</td>\n",
       "      <td>USA</td>\n",
       "      <td>PG-13</td>\n",
       "      <td>NaN</td>\n",
       "      <td>2012.0</td>\n",
       "      <td>719.0</td>\n",
       "      <td>6.3</td>\n",
       "      <td>2.35</td>\n",
       "      <td>660</td>\n",
       "    </tr>\n",
       "    <tr>\n",
       "      <th>5042</th>\n",
       "      <td>Color</td>\n",
       "      <td>Jon Gunn</td>\n",
       "      <td>43.0</td>\n",
       "      <td>90.0</td>\n",
       "      <td>16.0</td>\n",
       "      <td>16.0</td>\n",
       "      <td>Brian Herzlinger</td>\n",
       "      <td>86.0</td>\n",
       "      <td>85222.0</td>\n",
       "      <td>Documentary</td>\n",
       "      <td>...</td>\n",
       "      <td>84.0</td>\n",
       "      <td>English</td>\n",
       "      <td>USA</td>\n",
       "      <td>PG</td>\n",
       "      <td>1100.0</td>\n",
       "      <td>2004.0</td>\n",
       "      <td>23.0</td>\n",
       "      <td>6.6</td>\n",
       "      <td>1.85</td>\n",
       "      <td>456</td>\n",
       "    </tr>\n",
       "  </tbody>\n",
       "</table>\n",
       "<p>5 rows × 28 columns</p>\n",
       "</div>"
      ],
      "text/plain": [
       "      color     director_name  num_critic_for_reviews  duration  \\\n",
       "5038  Color       Scott Smith                     1.0      87.0   \n",
       "5039  Color               NaN                    43.0      43.0   \n",
       "5040  Color  Benjamin Roberds                    13.0      76.0   \n",
       "5041  Color       Daniel Hsia                    14.0     100.0   \n",
       "5042  Color          Jon Gunn                    43.0      90.0   \n",
       "\n",
       "      director_facebook_likes  actor_3_facebook_likes      actor_2_name  \\\n",
       "5038                      2.0                   318.0     Daphne Zuniga   \n",
       "5039                      NaN                   319.0     Valorie Curry   \n",
       "5040                      0.0                     0.0     Maxwell Moody   \n",
       "5041                      0.0                   489.0     Daniel Henney   \n",
       "5042                     16.0                    16.0  Brian Herzlinger   \n",
       "\n",
       "      actor_1_facebook_likes    gross                        genres  ...  \\\n",
       "5038                   637.0      NaN                  Comedy|Drama  ...   \n",
       "5039                   841.0      NaN  Crime|Drama|Mystery|Thriller  ...   \n",
       "5040                     0.0      NaN         Drama|Horror|Thriller  ...   \n",
       "5041                   946.0  10443.0          Comedy|Drama|Romance  ...   \n",
       "5042                    86.0  85222.0                   Documentary  ...   \n",
       "\n",
       "     num_user_for_reviews language  country  content_rating  budget  \\\n",
       "5038                  6.0  English   Canada             NaN     NaN   \n",
       "5039                359.0  English      USA           TV-14     NaN   \n",
       "5040                  3.0  English      USA             NaN  1400.0   \n",
       "5041                  9.0  English      USA           PG-13     NaN   \n",
       "5042                 84.0  English      USA              PG  1100.0   \n",
       "\n",
       "      title_year actor_2_facebook_likes imdb_score  aspect_ratio  \\\n",
       "5038      2013.0                  470.0        7.7           NaN   \n",
       "5039         NaN                  593.0        7.5         16.00   \n",
       "5040      2013.0                    0.0        6.3           NaN   \n",
       "5041      2012.0                  719.0        6.3          2.35   \n",
       "5042      2004.0                   23.0        6.6          1.85   \n",
       "\n",
       "     movie_facebook_likes  \n",
       "5038                   84  \n",
       "5039                32000  \n",
       "5040                   16  \n",
       "5041                  660  \n",
       "5042                  456  \n",
       "\n",
       "[5 rows x 28 columns]"
      ]
     },
     "execution_count": 6,
     "metadata": {},
     "output_type": "execute_result"
    }
   ],
   "source": [
    "kaggle_data.tail()"
   ]
  },
  {
   "cell_type": "markdown",
   "metadata": {},
   "source": [
    "Grab IMdB ID numbers for each film and append to dataframe:"
   ]
  },
  {
   "cell_type": "code",
   "execution_count": 7,
   "metadata": {
    "ExecuteTime": {
     "end_time": "2020-04-04T22:37:25.927213Z",
     "start_time": "2020-04-04T22:37:25.922842Z"
    }
   },
   "outputs": [],
   "source": [
    "imdb_ids = kaggle_data['movie_imdb_link'].str[26:35]\n",
    "# imdb_ids[3000:3005]"
   ]
  },
  {
   "cell_type": "code",
   "execution_count": 8,
   "metadata": {
    "ExecuteTime": {
     "end_time": "2020-04-04T22:37:25.931249Z",
     "start_time": "2020-04-04T22:37:25.928385Z"
    }
   },
   "outputs": [],
   "source": [
    "kaggle_data['imdb_ids'] = imdb_ids"
   ]
  },
  {
   "cell_type": "markdown",
   "metadata": {},
   "source": [
    "Here we make the API calls, and persist our data to little .json files:"
   ]
  },
  {
   "cell_type": "code",
   "execution_count": 9,
   "metadata": {
    "ExecuteTime": {
     "end_time": "2020-04-04T22:37:25.935389Z",
     "start_time": "2020-04-04T22:37:25.932331Z"
    },
    "scrolled": true
   },
   "outputs": [],
   "source": [
    "# You will need to enter your own API key in the API_KEY.py file (remove the .template suffix)\n",
    "from API_KEY import API_KEY\n",
    "\n",
    "try:\n",
    "    os.mkdir('../data/movie_metadata')\n",
    "except FileExistsError:\n",
    "    pass"
   ]
  },
  {
   "cell_type": "markdown",
   "metadata": {},
   "source": [
    "__This will make lots of API calls, be warned and use sparingly__, to avoid burning out your API key"
   ]
  },
  {
   "cell_type": "code",
   "execution_count": 10,
   "metadata": {
    "ExecuteTime": {
     "end_time": "2020-04-04T22:37:25.938951Z",
     "start_time": "2020-04-04T22:37:25.936887Z"
    },
    "scrolled": true
   },
   "outputs": [],
   "source": [
    "# i=0; j=0; total=len(imdb_ids)\n",
    "\n",
    "# for id in imdb_ids:\n",
    "#     print(f\"Downloading movie {i} of {total}...\")\n",
    "#     i+=1\n",
    "#     query_string = f'https://api.themoviedb.org/3/movie/{id}?api_key={API_KEY}'\n",
    "#     json = requests.get(query_string).text\n",
    "#     if \"could not be found\" in json:\n",
    "#         j+=1\n",
    "#         print(f\"{round(j/i, 2)}% of movies not found\")\n",
    "#         continue\n",
    "#     f = open(f'../data/movie_metadata/movie_{id}.json', 'w+')\n",
    "#     f.write(json)\n",
    "#     f.close()"
   ]
  },
  {
   "cell_type": "markdown",
   "metadata": {},
   "source": [
    "## Combine Kaggle Dataset and TheMovieDB API Responses"
   ]
  },
  {
   "cell_type": "code",
   "execution_count": 11,
   "metadata": {
    "ExecuteTime": {
     "end_time": "2020-04-04T22:38:26.815195Z",
     "start_time": "2020-04-04T22:37:25.941091Z"
    }
   },
   "outputs": [],
   "source": [
    "tmdb_movies = pd.DataFrame()\n",
    "\n",
    "for filename in os.listdir(path='../data/movie_metadata/'):\n",
    "    if \"movie\" in filename:\n",
    "        this_movie = pd.read_json(f\"../data/movie_metadata/{filename}\", lines=True)\n",
    "        tmdb_movies = pd.concat([this_movie,tmdb_movies], axis=0)\n",
    "\n",
    "tmdb_movies = tmdb_movies.reset_index(drop=True)"
   ]
  },
  {
   "cell_type": "code",
   "execution_count": 12,
   "metadata": {
    "ExecuteTime": {
     "end_time": "2020-04-04T22:38:26.850157Z",
     "start_time": "2020-04-04T22:38:26.817663Z"
    }
   },
   "outputs": [],
   "source": [
    "df_merged = tmdb_movies.merge(kaggle_data, \n",
    "                              how='left',\n",
    "                              left_on='imdb_id',\n",
    "                              right_on='imdb_ids',\n",
    "                              suffixes=(\"_kaggle\",\"_api\"))"
   ]
  },
  {
   "cell_type": "code",
   "execution_count": 13,
   "metadata": {
    "ExecuteTime": {
     "end_time": "2020-04-04T22:38:26.855483Z",
     "start_time": "2020-04-04T22:38:26.851600Z"
    }
   },
   "outputs": [
    {
     "data": {
      "text/plain": [
       "(4925, 54)"
      ]
     },
     "execution_count": 13,
     "metadata": {},
     "output_type": "execute_result"
    }
   ],
   "source": [
    "df_merged.shape"
   ]
  },
  {
   "cell_type": "markdown",
   "metadata": {},
   "source": [
    "# Data Cleaning and EDA"
   ]
  },
  {
   "cell_type": "markdown",
   "metadata": {},
   "source": [
    "## Keep only interesting columns"
   ]
  },
  {
   "cell_type": "code",
   "execution_count": 14,
   "metadata": {
    "ExecuteTime": {
     "end_time": "2020-04-04T22:38:26.861388Z",
     "start_time": "2020-04-04T22:38:26.856972Z"
    }
   },
   "outputs": [
    {
     "data": {
      "text/plain": [
       "Index(['adult', 'backdrop_path', 'belongs_to_collection', 'budget_kaggle',\n",
       "       'genres_kaggle', 'homepage', 'id', 'imdb_id', 'original_language',\n",
       "       'original_title', 'overview', 'popularity', 'poster_path',\n",
       "       'production_companies', 'production_countries', 'release_date',\n",
       "       'revenue', 'runtime', 'spoken_languages', 'status', 'tagline', 'title',\n",
       "       'video', 'vote_average', 'vote_count', 'color', 'director_name',\n",
       "       'num_critic_for_reviews', 'duration', 'director_facebook_likes',\n",
       "       'actor_3_facebook_likes', 'actor_2_name', 'actor_1_facebook_likes',\n",
       "       'gross', 'genres_api', 'actor_1_name', 'movie_title', 'num_voted_users',\n",
       "       'cast_total_facebook_likes', 'actor_3_name', 'facenumber_in_poster',\n",
       "       'plot_keywords', 'movie_imdb_link', 'num_user_for_reviews', 'language',\n",
       "       'country', 'content_rating', 'budget_api', 'title_year',\n",
       "       'actor_2_facebook_likes', 'imdb_score', 'aspect_ratio',\n",
       "       'movie_facebook_likes', 'imdb_ids'],\n",
       "      dtype='object')"
      ]
     },
     "execution_count": 14,
     "metadata": {},
     "output_type": "execute_result"
    }
   ],
   "source": [
    "df_merged.columns"
   ]
  },
  {
   "cell_type": "code",
   "execution_count": 15,
   "metadata": {
    "ExecuteTime": {
     "end_time": "2020-04-04T22:38:26.865876Z",
     "start_time": "2020-04-04T22:38:26.862841Z"
    }
   },
   "outputs": [],
   "source": [
    "desired_cols = (\"imdb_id duration adult budget_api budget_kaggle language original_language \"\n",
    "                \"production_countries runtime spoken_languages color genres_api \"\n",
    "                \"title movie_title original_title overview content_rating \"\n",
    "                \"actor_1_facebook_likes actor_2_facebook_likes actor_3_facebook_likes \"\n",
    "                \"director_facebook_likes cast_total_facebook_likes facenumber_in_poster \"\n",
    "                \"aspect_ratio imdb_score revenue\").split()"
   ]
  },
  {
   "cell_type": "code",
   "execution_count": 16,
   "metadata": {
    "ExecuteTime": {
     "end_time": "2020-04-04T22:38:26.904360Z",
     "start_time": "2020-04-04T22:38:26.867292Z"
    }
   },
   "outputs": [
    {
     "data": {
      "text/html": [
       "<div>\n",
       "<style scoped>\n",
       "    .dataframe tbody tr th:only-of-type {\n",
       "        vertical-align: middle;\n",
       "    }\n",
       "\n",
       "    .dataframe tbody tr th {\n",
       "        vertical-align: top;\n",
       "    }\n",
       "\n",
       "    .dataframe thead th {\n",
       "        text-align: right;\n",
       "    }\n",
       "</style>\n",
       "<table border=\"1\" class=\"dataframe\">\n",
       "  <thead>\n",
       "    <tr style=\"text-align: right;\">\n",
       "      <th></th>\n",
       "      <th>imdb_id</th>\n",
       "      <th>duration</th>\n",
       "      <th>adult</th>\n",
       "      <th>budget_api</th>\n",
       "      <th>budget_kaggle</th>\n",
       "      <th>language</th>\n",
       "      <th>original_language</th>\n",
       "      <th>production_countries</th>\n",
       "      <th>runtime</th>\n",
       "      <th>spoken_languages</th>\n",
       "      <th>...</th>\n",
       "      <th>content_rating</th>\n",
       "      <th>actor_1_facebook_likes</th>\n",
       "      <th>actor_2_facebook_likes</th>\n",
       "      <th>actor_3_facebook_likes</th>\n",
       "      <th>director_facebook_likes</th>\n",
       "      <th>cast_total_facebook_likes</th>\n",
       "      <th>facenumber_in_poster</th>\n",
       "      <th>aspect_ratio</th>\n",
       "      <th>imdb_score</th>\n",
       "      <th>revenue</th>\n",
       "    </tr>\n",
       "  </thead>\n",
       "  <tbody>\n",
       "    <tr>\n",
       "      <th>0</th>\n",
       "      <td>tt5215952</td>\n",
       "      <td>156.0</td>\n",
       "      <td>False</td>\n",
       "      <td>NaN</td>\n",
       "      <td>10951000</td>\n",
       "      <td>Korean</td>\n",
       "      <td>ko</td>\n",
       "      <td>[{'iso_3166_1': 'KR', 'name': 'South Korea'}]</td>\n",
       "      <td>156.0</td>\n",
       "      <td>[{'iso_639_1': 'de', 'name': 'Deutsch'}, {'iso...</td>\n",
       "      <td>...</td>\n",
       "      <td>Not Rated</td>\n",
       "      <td>45.0</td>\n",
       "      <td>5.0</td>\n",
       "      <td>0.0</td>\n",
       "      <td>43.0</td>\n",
       "      <td>50</td>\n",
       "      <td>0.0</td>\n",
       "      <td>2.35</td>\n",
       "      <td>7.7</td>\n",
       "      <td>47098491</td>\n",
       "    </tr>\n",
       "    <tr>\n",
       "      <th>1</th>\n",
       "      <td>tt5078326</td>\n",
       "      <td>102.0</td>\n",
       "      <td>False</td>\n",
       "      <td>NaN</td>\n",
       "      <td>0</td>\n",
       "      <td>French</td>\n",
       "      <td>fr</td>\n",
       "      <td>[{'iso_3166_1': 'FR', 'name': 'France'}]</td>\n",
       "      <td>102.0</td>\n",
       "      <td>[{'iso_639_1': 'fr', 'name': 'Français'}]</td>\n",
       "      <td>...</td>\n",
       "      <td>NaN</td>\n",
       "      <td>541.0</td>\n",
       "      <td>8.0</td>\n",
       "      <td>2.0</td>\n",
       "      <td>12.0</td>\n",
       "      <td>553</td>\n",
       "      <td>2.0</td>\n",
       "      <td>NaN</td>\n",
       "      <td>7.2</td>\n",
       "      <td>0</td>\n",
       "    </tr>\n",
       "    <tr>\n",
       "      <th>2</th>\n",
       "      <td>tt5001130</td>\n",
       "      <td>100.0</td>\n",
       "      <td>False</td>\n",
       "      <td>3500000.0</td>\n",
       "      <td>3500000</td>\n",
       "      <td>English</td>\n",
       "      <td>en</td>\n",
       "      <td>[{'iso_3166_1': 'US', 'name': 'United States o...</td>\n",
       "      <td>100.0</td>\n",
       "      <td>[{'iso_639_1': 'en', 'name': 'English'}]</td>\n",
       "      <td>...</td>\n",
       "      <td>NaN</td>\n",
       "      <td>21.0</td>\n",
       "      <td>3.0</td>\n",
       "      <td>0.0</td>\n",
       "      <td>117.0</td>\n",
       "      <td>24</td>\n",
       "      <td>0.0</td>\n",
       "      <td>NaN</td>\n",
       "      <td>7.0</td>\n",
       "      <td>0</td>\n",
       "    </tr>\n",
       "    <tr>\n",
       "      <th>3</th>\n",
       "      <td>tt4939066</td>\n",
       "      <td>115.0</td>\n",
       "      <td>False</td>\n",
       "      <td>12620000.0</td>\n",
       "      <td>12700000</td>\n",
       "      <td>English</td>\n",
       "      <td>ko</td>\n",
       "      <td>[{'iso_3166_1': 'KR', 'name': 'South Korea'}]</td>\n",
       "      <td>111.0</td>\n",
       "      <td>[{'iso_639_1': 'en', 'name': 'English'}, {'iso...</td>\n",
       "      <td>...</td>\n",
       "      <td>NaN</td>\n",
       "      <td>14000.0</td>\n",
       "      <td>81.0</td>\n",
       "      <td>29.0</td>\n",
       "      <td>32.0</td>\n",
       "      <td>14133</td>\n",
       "      <td>1.0</td>\n",
       "      <td>NaN</td>\n",
       "      <td>6.8</td>\n",
       "      <td>49196532</td>\n",
       "    </tr>\n",
       "    <tr>\n",
       "      <th>4</th>\n",
       "      <td>tt4871980</td>\n",
       "      <td>96.0</td>\n",
       "      <td>False</td>\n",
       "      <td>5000000.0</td>\n",
       "      <td>0</td>\n",
       "      <td>English</td>\n",
       "      <td>en</td>\n",
       "      <td>[{'iso_3166_1': 'US', 'name': 'United States o...</td>\n",
       "      <td>96.0</td>\n",
       "      <td>[{'iso_639_1': 'en', 'name': 'English'}]</td>\n",
       "      <td>...</td>\n",
       "      <td>R</td>\n",
       "      <td>927.0</td>\n",
       "      <td>509.0</td>\n",
       "      <td>503.0</td>\n",
       "      <td>23.0</td>\n",
       "      <td>3552</td>\n",
       "      <td>6.0</td>\n",
       "      <td>NaN</td>\n",
       "      <td>4.5</td>\n",
       "      <td>0</td>\n",
       "    </tr>\n",
       "  </tbody>\n",
       "</table>\n",
       "<p>5 rows × 26 columns</p>\n",
       "</div>"
      ],
      "text/plain": [
       "     imdb_id  duration  adult  budget_api  budget_kaggle language  \\\n",
       "0  tt5215952     156.0  False         NaN       10951000   Korean   \n",
       "1  tt5078326     102.0  False         NaN              0   French   \n",
       "2  tt5001130     100.0  False   3500000.0        3500000  English   \n",
       "3  tt4939066     115.0  False  12620000.0       12700000  English   \n",
       "4  tt4871980      96.0  False   5000000.0              0  English   \n",
       "\n",
       "  original_language                               production_countries  \\\n",
       "0                ko      [{'iso_3166_1': 'KR', 'name': 'South Korea'}]   \n",
       "1                fr           [{'iso_3166_1': 'FR', 'name': 'France'}]   \n",
       "2                en  [{'iso_3166_1': 'US', 'name': 'United States o...   \n",
       "3                ko      [{'iso_3166_1': 'KR', 'name': 'South Korea'}]   \n",
       "4                en  [{'iso_3166_1': 'US', 'name': 'United States o...   \n",
       "\n",
       "   runtime                                   spoken_languages  ...  \\\n",
       "0    156.0  [{'iso_639_1': 'de', 'name': 'Deutsch'}, {'iso...  ...   \n",
       "1    102.0          [{'iso_639_1': 'fr', 'name': 'Français'}]  ...   \n",
       "2    100.0           [{'iso_639_1': 'en', 'name': 'English'}]  ...   \n",
       "3    111.0  [{'iso_639_1': 'en', 'name': 'English'}, {'iso...  ...   \n",
       "4     96.0           [{'iso_639_1': 'en', 'name': 'English'}]  ...   \n",
       "\n",
       "  content_rating actor_1_facebook_likes actor_2_facebook_likes  \\\n",
       "0      Not Rated                   45.0                    5.0   \n",
       "1            NaN                  541.0                    8.0   \n",
       "2            NaN                   21.0                    3.0   \n",
       "3            NaN                14000.0                   81.0   \n",
       "4              R                  927.0                  509.0   \n",
       "\n",
       "  actor_3_facebook_likes director_facebook_likes cast_total_facebook_likes  \\\n",
       "0                    0.0                    43.0                        50   \n",
       "1                    2.0                    12.0                       553   \n",
       "2                    0.0                   117.0                        24   \n",
       "3                   29.0                    32.0                     14133   \n",
       "4                  503.0                    23.0                      3552   \n",
       "\n",
       "  facenumber_in_poster  aspect_ratio  imdb_score   revenue  \n",
       "0                  0.0          2.35         7.7  47098491  \n",
       "1                  2.0           NaN         7.2         0  \n",
       "2                  0.0           NaN         7.0         0  \n",
       "3                  1.0           NaN         6.8  49196532  \n",
       "4                  6.0           NaN         4.5         0  \n",
       "\n",
       "[5 rows x 26 columns]"
      ]
     },
     "execution_count": 16,
     "metadata": {},
     "output_type": "execute_result"
    }
   ],
   "source": [
    "df_lesscols = df_merged[desired_cols]\n",
    "df_lesscols.head()"
   ]
  },
  {
   "cell_type": "markdown",
   "metadata": {},
   "source": [
    "## Drop Duplicate Rows"
   ]
  },
  {
   "cell_type": "code",
   "execution_count": 17,
   "metadata": {
    "ExecuteTime": {
     "end_time": "2020-04-04T22:38:26.921968Z",
     "start_time": "2020-04-04T22:38:26.905476Z"
    },
    "scrolled": false
   },
   "outputs": [
    {
     "data": {
      "text/html": [
       "<div>\n",
       "<style scoped>\n",
       "    .dataframe tbody tr th:only-of-type {\n",
       "        vertical-align: middle;\n",
       "    }\n",
       "\n",
       "    .dataframe tbody tr th {\n",
       "        vertical-align: top;\n",
       "    }\n",
       "\n",
       "    .dataframe thead th {\n",
       "        text-align: right;\n",
       "    }\n",
       "</style>\n",
       "<table border=\"1\" class=\"dataframe\">\n",
       "  <thead>\n",
       "    <tr style=\"text-align: right;\">\n",
       "      <th></th>\n",
       "      <th>imdb_id</th>\n",
       "      <th>duration</th>\n",
       "      <th>title</th>\n",
       "      <th>language</th>\n",
       "    </tr>\n",
       "  </thead>\n",
       "  <tbody>\n",
       "    <tr>\n",
       "      <th>4865</th>\n",
       "      <td>tt0046672</td>\n",
       "      <td>127.0</td>\n",
       "      <td>20,000 Leagues Under the Sea</td>\n",
       "      <td>English</td>\n",
       "    </tr>\n",
       "    <tr>\n",
       "      <th>4864</th>\n",
       "      <td>tt0046672</td>\n",
       "      <td>127.0</td>\n",
       "      <td>20,000 Leagues Under the Sea</td>\n",
       "      <td>English</td>\n",
       "    </tr>\n",
       "    <tr>\n",
       "      <th>4837</th>\n",
       "      <td>tt0056193</td>\n",
       "      <td>152.0</td>\n",
       "      <td>Lolita</td>\n",
       "      <td>English</td>\n",
       "    </tr>\n",
       "    <tr>\n",
       "      <th>4838</th>\n",
       "      <td>tt0056193</td>\n",
       "      <td>152.0</td>\n",
       "      <td>Lolita</td>\n",
       "      <td>English</td>\n",
       "    </tr>\n",
       "    <tr>\n",
       "      <th>4792</th>\n",
       "      <td>tt0063350</td>\n",
       "      <td>96.0</td>\n",
       "      <td>Night of the Living Dead</td>\n",
       "      <td>English</td>\n",
       "    </tr>\n",
       "    <tr>\n",
       "      <th>4793</th>\n",
       "      <td>tt0063350</td>\n",
       "      <td>96.0</td>\n",
       "      <td>Night of the Living Dead</td>\n",
       "      <td>English</td>\n",
       "    </tr>\n",
       "    <tr>\n",
       "      <th>4758</th>\n",
       "      <td>tt0067116</td>\n",
       "      <td>104.0</td>\n",
       "      <td>The French Connection</td>\n",
       "      <td>English</td>\n",
       "    </tr>\n",
       "    <tr>\n",
       "      <th>4759</th>\n",
       "      <td>tt0067116</td>\n",
       "      <td>104.0</td>\n",
       "      <td>The French Connection</td>\n",
       "      <td>English</td>\n",
       "    </tr>\n",
       "    <tr>\n",
       "      <th>4728</th>\n",
       "      <td>tt0072271</td>\n",
       "      <td>88.0</td>\n",
       "      <td>The Texas Chain Saw Massacre</td>\n",
       "      <td>English</td>\n",
       "    </tr>\n",
       "    <tr>\n",
       "      <th>4727</th>\n",
       "      <td>tt0072271</td>\n",
       "      <td>88.0</td>\n",
       "      <td>The Texas Chain Saw Massacre</td>\n",
       "      <td>English</td>\n",
       "    </tr>\n",
       "    <tr>\n",
       "      <th>4715</th>\n",
       "      <td>tt0075005</td>\n",
       "      <td>107.0</td>\n",
       "      <td>The Omen</td>\n",
       "      <td>English</td>\n",
       "    </tr>\n",
       "    <tr>\n",
       "      <th>4714</th>\n",
       "      <td>tt0075005</td>\n",
       "      <td>107.0</td>\n",
       "      <td>The Omen</td>\n",
       "      <td>English</td>\n",
       "    </tr>\n",
       "    <tr>\n",
       "      <th>4687</th>\n",
       "      <td>tt0077651</td>\n",
       "      <td>101.0</td>\n",
       "      <td>Halloween</td>\n",
       "      <td>English</td>\n",
       "    </tr>\n",
       "    <tr>\n",
       "      <th>4686</th>\n",
       "      <td>tt0077651</td>\n",
       "      <td>101.0</td>\n",
       "      <td>Halloween</td>\n",
       "      <td>English</td>\n",
       "    </tr>\n",
       "    <tr>\n",
       "      <th>4685</th>\n",
       "      <td>tt0077651</td>\n",
       "      <td>101.0</td>\n",
       "      <td>Halloween</td>\n",
       "      <td>English</td>\n",
       "    </tr>\n",
       "    <tr>\n",
       "      <th>4653</th>\n",
       "      <td>tt0080749</td>\n",
       "      <td>89.0</td>\n",
       "      <td>The Fog</td>\n",
       "      <td>English</td>\n",
       "    </tr>\n",
       "    <tr>\n",
       "      <th>4652</th>\n",
       "      <td>tt0080749</td>\n",
       "      <td>89.0</td>\n",
       "      <td>The Fog</td>\n",
       "      <td>English</td>\n",
       "    </tr>\n",
       "    <tr>\n",
       "      <th>4633</th>\n",
       "      <td>tt0082198</td>\n",
       "      <td>129.0</td>\n",
       "      <td>Conan the Barbarian</td>\n",
       "      <td>English</td>\n",
       "    </tr>\n",
       "    <tr>\n",
       "      <th>4634</th>\n",
       "      <td>tt0082198</td>\n",
       "      <td>129.0</td>\n",
       "      <td>Conan the Barbarian</td>\n",
       "      <td>English</td>\n",
       "    </tr>\n",
       "    <tr>\n",
       "      <th>4621</th>\n",
       "      <td>tt0082517</td>\n",
       "      <td>92.0</td>\n",
       "      <td>History of the World: Part I</td>\n",
       "      <td>English</td>\n",
       "    </tr>\n",
       "    <tr>\n",
       "      <th>4622</th>\n",
       "      <td>tt0082517</td>\n",
       "      <td>92.0</td>\n",
       "      <td>History of the World: Part I</td>\n",
       "      <td>English</td>\n",
       "    </tr>\n",
       "    <tr>\n",
       "      <th>4603</th>\n",
       "      <td>tt0083722</td>\n",
       "      <td>93.0</td>\n",
       "      <td>Cat People</td>\n",
       "      <td>English</td>\n",
       "    </tr>\n",
       "    <tr>\n",
       "      <th>4602</th>\n",
       "      <td>tt0083722</td>\n",
       "      <td>93.0</td>\n",
       "      <td>Cat People</td>\n",
       "      <td>English</td>\n",
       "    </tr>\n",
       "    <tr>\n",
       "      <th>4600</th>\n",
       "      <td>tt0083767</td>\n",
       "      <td>130.0</td>\n",
       "      <td>Creepshow</td>\n",
       "      <td>English</td>\n",
       "    </tr>\n",
       "    <tr>\n",
       "      <th>4599</th>\n",
       "      <td>tt0083767</td>\n",
       "      <td>130.0</td>\n",
       "      <td>Creepshow</td>\n",
       "      <td>English</td>\n",
       "    </tr>\n",
       "    <tr>\n",
       "      <th>4593</th>\n",
       "      <td>tt0083944</td>\n",
       "      <td>93.0</td>\n",
       "      <td>First Blood</td>\n",
       "      <td>English</td>\n",
       "    </tr>\n",
       "    <tr>\n",
       "      <th>4592</th>\n",
       "      <td>tt0083944</td>\n",
       "      <td>93.0</td>\n",
       "      <td>First Blood</td>\n",
       "      <td>English</td>\n",
       "    </tr>\n",
       "    <tr>\n",
       "      <th>4585</th>\n",
       "      <td>tt0084516</td>\n",
       "      <td>120.0</td>\n",
       "      <td>Poltergeist</td>\n",
       "      <td>English</td>\n",
       "    </tr>\n",
       "    <tr>\n",
       "      <th>4584</th>\n",
       "      <td>tt0084516</td>\n",
       "      <td>120.0</td>\n",
       "      <td>Poltergeist</td>\n",
       "      <td>English</td>\n",
       "    </tr>\n",
       "    <tr>\n",
       "      <th>4545</th>\n",
       "      <td>tt0087277</td>\n",
       "      <td>107.0</td>\n",
       "      <td>Footloose</td>\n",
       "      <td>English</td>\n",
       "    </tr>\n",
       "    <tr>\n",
       "      <th>4544</th>\n",
       "      <td>tt0087277</td>\n",
       "      <td>107.0</td>\n",
       "      <td>Footloose</td>\n",
       "      <td>English</td>\n",
       "    </tr>\n",
       "    <tr>\n",
       "      <th>4537</th>\n",
       "      <td>tt0087538</td>\n",
       "      <td>126.0</td>\n",
       "      <td>The Karate Kid</td>\n",
       "      <td>English</td>\n",
       "    </tr>\n",
       "    <tr>\n",
       "      <th>4538</th>\n",
       "      <td>tt0087538</td>\n",
       "      <td>126.0</td>\n",
       "      <td>The Karate Kid</td>\n",
       "      <td>English</td>\n",
       "    </tr>\n",
       "    <tr>\n",
       "      <th>4536</th>\n",
       "      <td>tt0087800</td>\n",
       "      <td>101.0</td>\n",
       "      <td>A Nightmare on Elm Street</td>\n",
       "      <td>English</td>\n",
       "    </tr>\n",
       "    <tr>\n",
       "      <th>4535</th>\n",
       "      <td>tt0087800</td>\n",
       "      <td>101.0</td>\n",
       "      <td>A Nightmare on Elm Street</td>\n",
       "      <td>English</td>\n",
       "    </tr>\n",
       "    <tr>\n",
       "      <th>4519</th>\n",
       "      <td>tt0088993</td>\n",
       "      <td>87.0</td>\n",
       "      <td>Day of the Dead</td>\n",
       "      <td>English</td>\n",
       "    </tr>\n",
       "    <tr>\n",
       "      <th>4518</th>\n",
       "      <td>tt0088993</td>\n",
       "      <td>87.0</td>\n",
       "      <td>Day of the Dead</td>\n",
       "      <td>English</td>\n",
       "    </tr>\n",
       "    <tr>\n",
       "      <th>4505</th>\n",
       "      <td>tt0089907</td>\n",
       "      <td>108.0</td>\n",
       "      <td>The Return of the Living Dead</td>\n",
       "      <td>English</td>\n",
       "    </tr>\n",
       "    <tr>\n",
       "      <th>4504</th>\n",
       "      <td>tt0089907</td>\n",
       "      <td>108.0</td>\n",
       "      <td>The Return of the Living Dead</td>\n",
       "      <td>English</td>\n",
       "    </tr>\n",
       "    <tr>\n",
       "      <th>4428</th>\n",
       "      <td>tt0094947</td>\n",
       "      <td>119.0</td>\n",
       "      <td>Dangerous Liaisons</td>\n",
       "      <td>English</td>\n",
       "    </tr>\n",
       "    <tr>\n",
       "      <th>4427</th>\n",
       "      <td>tt0094947</td>\n",
       "      <td>119.0</td>\n",
       "      <td>Dangerous Liaisons</td>\n",
       "      <td>English</td>\n",
       "    </tr>\n",
       "    <tr>\n",
       "      <th>4394</th>\n",
       "      <td>tt0097441</td>\n",
       "      <td>122.0</td>\n",
       "      <td>Glory</td>\n",
       "      <td>English</td>\n",
       "    </tr>\n",
       "    <tr>\n",
       "      <th>4393</th>\n",
       "      <td>tt0097441</td>\n",
       "      <td>122.0</td>\n",
       "      <td>Glory</td>\n",
       "      <td>English</td>\n",
       "    </tr>\n",
       "    <tr>\n",
       "      <th>4347</th>\n",
       "      <td>tt0100802</td>\n",
       "      <td>113.0</td>\n",
       "      <td>Total Recall</td>\n",
       "      <td>English</td>\n",
       "    </tr>\n",
       "    <tr>\n",
       "      <th>4346</th>\n",
       "      <td>tt0100802</td>\n",
       "      <td>113.0</td>\n",
       "      <td>Total Recall</td>\n",
       "      <td>English</td>\n",
       "    </tr>\n",
       "    <tr>\n",
       "      <th>4066</th>\n",
       "      <td>tt0116477</td>\n",
       "      <td>150.0</td>\n",
       "      <td>Hamlet</td>\n",
       "      <td>English</td>\n",
       "    </tr>\n",
       "    <tr>\n",
       "      <th>4067</th>\n",
       "      <td>tt0116477</td>\n",
       "      <td>150.0</td>\n",
       "      <td>Hamlet</td>\n",
       "      <td>English</td>\n",
       "    </tr>\n",
       "    <tr>\n",
       "      <th>3955</th>\n",
       "      <td>tt0119164</td>\n",
       "      <td>91.0</td>\n",
       "      <td>The Full Monty</td>\n",
       "      <td>English</td>\n",
       "    </tr>\n",
       "    <tr>\n",
       "      <th>3956</th>\n",
       "      <td>tt0119164</td>\n",
       "      <td>91.0</td>\n",
       "      <td>The Full Monty</td>\n",
       "      <td>English</td>\n",
       "    </tr>\n",
       "    <tr>\n",
       "      <th>3834</th>\n",
       "      <td>tt0120681</td>\n",
       "      <td>122.0</td>\n",
       "      <td>From Hell</td>\n",
       "      <td>English</td>\n",
       "    </tr>\n",
       "    <tr>\n",
       "      <th>3833</th>\n",
       "      <td>tt0120681</td>\n",
       "      <td>122.0</td>\n",
       "      <td>From Hell</td>\n",
       "      <td>English</td>\n",
       "    </tr>\n",
       "  </tbody>\n",
       "</table>\n",
       "</div>"
      ],
      "text/plain": [
       "        imdb_id  duration                          title language\n",
       "4865  tt0046672     127.0   20,000 Leagues Under the Sea  English\n",
       "4864  tt0046672     127.0   20,000 Leagues Under the Sea  English\n",
       "4837  tt0056193     152.0                         Lolita  English\n",
       "4838  tt0056193     152.0                         Lolita  English\n",
       "4792  tt0063350      96.0       Night of the Living Dead  English\n",
       "4793  tt0063350      96.0       Night of the Living Dead  English\n",
       "4758  tt0067116     104.0          The French Connection  English\n",
       "4759  tt0067116     104.0          The French Connection  English\n",
       "4728  tt0072271      88.0   The Texas Chain Saw Massacre  English\n",
       "4727  tt0072271      88.0   The Texas Chain Saw Massacre  English\n",
       "4715  tt0075005     107.0                       The Omen  English\n",
       "4714  tt0075005     107.0                       The Omen  English\n",
       "4687  tt0077651     101.0                      Halloween  English\n",
       "4686  tt0077651     101.0                      Halloween  English\n",
       "4685  tt0077651     101.0                      Halloween  English\n",
       "4653  tt0080749      89.0                        The Fog  English\n",
       "4652  tt0080749      89.0                        The Fog  English\n",
       "4633  tt0082198     129.0            Conan the Barbarian  English\n",
       "4634  tt0082198     129.0            Conan the Barbarian  English\n",
       "4621  tt0082517      92.0   History of the World: Part I  English\n",
       "4622  tt0082517      92.0   History of the World: Part I  English\n",
       "4603  tt0083722      93.0                     Cat People  English\n",
       "4602  tt0083722      93.0                     Cat People  English\n",
       "4600  tt0083767     130.0                      Creepshow  English\n",
       "4599  tt0083767     130.0                      Creepshow  English\n",
       "4593  tt0083944      93.0                    First Blood  English\n",
       "4592  tt0083944      93.0                    First Blood  English\n",
       "4585  tt0084516     120.0                    Poltergeist  English\n",
       "4584  tt0084516     120.0                    Poltergeist  English\n",
       "4545  tt0087277     107.0                      Footloose  English\n",
       "4544  tt0087277     107.0                      Footloose  English\n",
       "4537  tt0087538     126.0                 The Karate Kid  English\n",
       "4538  tt0087538     126.0                 The Karate Kid  English\n",
       "4536  tt0087800     101.0      A Nightmare on Elm Street  English\n",
       "4535  tt0087800     101.0      A Nightmare on Elm Street  English\n",
       "4519  tt0088993      87.0                Day of the Dead  English\n",
       "4518  tt0088993      87.0                Day of the Dead  English\n",
       "4505  tt0089907     108.0  The Return of the Living Dead  English\n",
       "4504  tt0089907     108.0  The Return of the Living Dead  English\n",
       "4428  tt0094947     119.0             Dangerous Liaisons  English\n",
       "4427  tt0094947     119.0             Dangerous Liaisons  English\n",
       "4394  tt0097441     122.0                          Glory  English\n",
       "4393  tt0097441     122.0                          Glory  English\n",
       "4347  tt0100802     113.0                   Total Recall  English\n",
       "4346  tt0100802     113.0                   Total Recall  English\n",
       "4066  tt0116477     150.0                         Hamlet  English\n",
       "4067  tt0116477     150.0                         Hamlet  English\n",
       "3955  tt0119164      91.0                 The Full Monty  English\n",
       "3956  tt0119164      91.0                 The Full Monty  English\n",
       "3834  tt0120681     122.0                      From Hell  English\n",
       "3833  tt0120681     122.0                      From Hell  English"
      ]
     },
     "execution_count": 17,
     "metadata": {},
     "output_type": "execute_result"
    }
   ],
   "source": [
    "df_lesscols[\n",
    "    df_lesscols.imdb_id.duplicated(keep=False)\n",
    "].sort_values('imdb_id')[\n",
    "    \"imdb_id duration title language\".split()\n",
    "].head(51)"
   ]
  },
  {
   "cell_type": "code",
   "execution_count": 18,
   "metadata": {
    "ExecuteTime": {
     "end_time": "2020-04-04T22:38:26.942735Z",
     "start_time": "2020-04-04T22:38:26.923359Z"
    }
   },
   "outputs": [
    {
     "data": {
      "text/html": [
       "<div>\n",
       "<style scoped>\n",
       "    .dataframe tbody tr th:only-of-type {\n",
       "        vertical-align: middle;\n",
       "    }\n",
       "\n",
       "    .dataframe tbody tr th {\n",
       "        vertical-align: top;\n",
       "    }\n",
       "\n",
       "    .dataframe thead th {\n",
       "        text-align: right;\n",
       "    }\n",
       "</style>\n",
       "<table border=\"1\" class=\"dataframe\">\n",
       "  <thead>\n",
       "    <tr style=\"text-align: right;\">\n",
       "      <th></th>\n",
       "      <th>imdb_id</th>\n",
       "      <th>duration</th>\n",
       "      <th>title</th>\n",
       "      <th>language</th>\n",
       "    </tr>\n",
       "  </thead>\n",
       "  <tbody>\n",
       "    <tr>\n",
       "      <th>962</th>\n",
       "      <td>tt1528100</td>\n",
       "      <td>150.0</td>\n",
       "      <td>Exodus: Gods and Kings</td>\n",
       "      <td>English</td>\n",
       "    </tr>\n",
       "    <tr>\n",
       "      <th>961</th>\n",
       "      <td>tt1528100</td>\n",
       "      <td>150.0</td>\n",
       "      <td>Exodus: Gods and Kings</td>\n",
       "      <td>English</td>\n",
       "    </tr>\n",
       "    <tr>\n",
       "      <th>853</th>\n",
       "      <td>tt1623205</td>\n",
       "      <td>130.0</td>\n",
       "      <td>Oz the Great and Powerful</td>\n",
       "      <td>English</td>\n",
       "    </tr>\n",
       "    <tr>\n",
       "      <th>852</th>\n",
       "      <td>tt1623205</td>\n",
       "      <td>130.0</td>\n",
       "      <td>Oz the Great and Powerful</td>\n",
       "      <td>English</td>\n",
       "    </tr>\n",
       "    <tr>\n",
       "      <th>805</th>\n",
       "      <td>tt1661199</td>\n",
       "      <td>105.0</td>\n",
       "      <td>Cinderella</td>\n",
       "      <td>English</td>\n",
       "    </tr>\n",
       "    <tr>\n",
       "      <th>804</th>\n",
       "      <td>tt1661199</td>\n",
       "      <td>105.0</td>\n",
       "      <td>Cinderella</td>\n",
       "      <td>English</td>\n",
       "    </tr>\n",
       "    <tr>\n",
       "      <th>795</th>\n",
       "      <td>tt1666335</td>\n",
       "      <td>108.0</td>\n",
       "      <td>The Calling</td>\n",
       "      <td>English</td>\n",
       "    </tr>\n",
       "    <tr>\n",
       "      <th>796</th>\n",
       "      <td>tt1666335</td>\n",
       "      <td>108.0</td>\n",
       "      <td>The Calling</td>\n",
       "      <td>English</td>\n",
       "    </tr>\n",
       "    <tr>\n",
       "      <th>787</th>\n",
       "      <td>tt1673434</td>\n",
       "      <td>115.0</td>\n",
       "      <td>The Twilight Saga: Breaking Dawn - Part 2</td>\n",
       "      <td>English</td>\n",
       "    </tr>\n",
       "    <tr>\n",
       "      <th>786</th>\n",
       "      <td>tt1673434</td>\n",
       "      <td>115.0</td>\n",
       "      <td>The Twilight Saga: Breaking Dawn - Part 2</td>\n",
       "      <td>English</td>\n",
       "    </tr>\n",
       "    <tr>\n",
       "      <th>732</th>\n",
       "      <td>tt1742334</td>\n",
       "      <td>109.0</td>\n",
       "      <td>Sabotage</td>\n",
       "      <td>English</td>\n",
       "    </tr>\n",
       "    <tr>\n",
       "      <th>731</th>\n",
       "      <td>tt1742334</td>\n",
       "      <td>109.0</td>\n",
       "      <td>Sabotage</td>\n",
       "      <td>English</td>\n",
       "    </tr>\n",
       "    <tr>\n",
       "      <th>678</th>\n",
       "      <td>tt1809398</td>\n",
       "      <td>137.0</td>\n",
       "      <td>Unbroken</td>\n",
       "      <td>English</td>\n",
       "    </tr>\n",
       "    <tr>\n",
       "      <th>677</th>\n",
       "      <td>tt1809398</td>\n",
       "      <td>137.0</td>\n",
       "      <td>Unbroken</td>\n",
       "      <td>English</td>\n",
       "    </tr>\n",
       "    <tr>\n",
       "      <th>610</th>\n",
       "      <td>tt1924429</td>\n",
       "      <td>101.0</td>\n",
       "      <td>Trance</td>\n",
       "      <td>English</td>\n",
       "    </tr>\n",
       "    <tr>\n",
       "      <th>609</th>\n",
       "      <td>tt1924429</td>\n",
       "      <td>101.0</td>\n",
       "      <td>Trance</td>\n",
       "      <td>English</td>\n",
       "    </tr>\n",
       "    <tr>\n",
       "      <th>599</th>\n",
       "      <td>tt1939659</td>\n",
       "      <td>100.0</td>\n",
       "      <td>Carrie</td>\n",
       "      <td>English</td>\n",
       "    </tr>\n",
       "    <tr>\n",
       "      <th>598</th>\n",
       "      <td>tt1939659</td>\n",
       "      <td>100.0</td>\n",
       "      <td>Carrie</td>\n",
       "      <td>English</td>\n",
       "    </tr>\n",
       "    <tr>\n",
       "      <th>579</th>\n",
       "      <td>tt1976009</td>\n",
       "      <td>110.0</td>\n",
       "      <td>Victor Frankenstein</td>\n",
       "      <td>English</td>\n",
       "    </tr>\n",
       "    <tr>\n",
       "      <th>578</th>\n",
       "      <td>tt1976009</td>\n",
       "      <td>110.0</td>\n",
       "      <td>Victor Frankenstein</td>\n",
       "      <td>English</td>\n",
       "    </tr>\n",
       "    <tr>\n",
       "      <th>577</th>\n",
       "      <td>tt1976009</td>\n",
       "      <td>110.0</td>\n",
       "      <td>Victor Frankenstein</td>\n",
       "      <td>English</td>\n",
       "    </tr>\n",
       "    <tr>\n",
       "      <th>535</th>\n",
       "      <td>tt2039393</td>\n",
       "      <td>111.0</td>\n",
       "      <td>The Gambler</td>\n",
       "      <td>English</td>\n",
       "    </tr>\n",
       "    <tr>\n",
       "      <th>534</th>\n",
       "      <td>tt2039393</td>\n",
       "      <td>111.0</td>\n",
       "      <td>The Gambler</td>\n",
       "      <td>English</td>\n",
       "    </tr>\n",
       "    <tr>\n",
       "      <th>527</th>\n",
       "      <td>tt2053463</td>\n",
       "      <td>106.0</td>\n",
       "      <td>Side Effects</td>\n",
       "      <td>English</td>\n",
       "    </tr>\n",
       "    <tr>\n",
       "      <th>526</th>\n",
       "      <td>tt2053463</td>\n",
       "      <td>106.0</td>\n",
       "      <td>Side Effects</td>\n",
       "      <td>English</td>\n",
       "    </tr>\n",
       "    <tr>\n",
       "      <th>524</th>\n",
       "      <td>tt2058673</td>\n",
       "      <td>114.0</td>\n",
       "      <td>Point Break</td>\n",
       "      <td>English</td>\n",
       "    </tr>\n",
       "    <tr>\n",
       "      <th>523</th>\n",
       "      <td>tt2058673</td>\n",
       "      <td>114.0</td>\n",
       "      <td>Point Break</td>\n",
       "      <td>English</td>\n",
       "    </tr>\n",
       "    <tr>\n",
       "      <th>442</th>\n",
       "      <td>tt2224026</td>\n",
       "      <td>94.0</td>\n",
       "      <td>Home</td>\n",
       "      <td>English</td>\n",
       "    </tr>\n",
       "    <tr>\n",
       "      <th>441</th>\n",
       "      <td>tt2224026</td>\n",
       "      <td>94.0</td>\n",
       "      <td>Home</td>\n",
       "      <td>English</td>\n",
       "    </tr>\n",
       "    <tr>\n",
       "      <th>440</th>\n",
       "      <td>tt2224026</td>\n",
       "      <td>94.0</td>\n",
       "      <td>Home</td>\n",
       "      <td>English</td>\n",
       "    </tr>\n",
       "    <tr>\n",
       "      <th>414</th>\n",
       "      <td>tt2271563</td>\n",
       "      <td>90.0</td>\n",
       "      <td>Forsaken</td>\n",
       "      <td>English</td>\n",
       "    </tr>\n",
       "    <tr>\n",
       "      <th>413</th>\n",
       "      <td>tt2271563</td>\n",
       "      <td>90.0</td>\n",
       "      <td>Forsaken</td>\n",
       "      <td>English</td>\n",
       "    </tr>\n",
       "    <tr>\n",
       "      <th>321</th>\n",
       "      <td>tt2467046</td>\n",
       "      <td>110.0</td>\n",
       "      <td>Left Behind</td>\n",
       "      <td>English</td>\n",
       "    </tr>\n",
       "    <tr>\n",
       "      <th>320</th>\n",
       "      <td>tt2467046</td>\n",
       "      <td>110.0</td>\n",
       "      <td>Left Behind</td>\n",
       "      <td>English</td>\n",
       "    </tr>\n",
       "    <tr>\n",
       "      <th>280</th>\n",
       "      <td>tt2638144</td>\n",
       "      <td>141.0</td>\n",
       "      <td>Ben-Hur</td>\n",
       "      <td>English</td>\n",
       "    </tr>\n",
       "    <tr>\n",
       "      <th>282</th>\n",
       "      <td>tt2638144</td>\n",
       "      <td>141.0</td>\n",
       "      <td>Ben-Hur</td>\n",
       "      <td>English</td>\n",
       "    </tr>\n",
       "    <tr>\n",
       "      <th>281</th>\n",
       "      <td>tt2638144</td>\n",
       "      <td>141.0</td>\n",
       "      <td>Ben-Hur</td>\n",
       "      <td>English</td>\n",
       "    </tr>\n",
       "    <tr>\n",
       "      <th>193</th>\n",
       "      <td>tt3040964</td>\n",
       "      <td>106.0</td>\n",
       "      <td>The Jungle Book</td>\n",
       "      <td>English</td>\n",
       "    </tr>\n",
       "    <tr>\n",
       "      <th>192</th>\n",
       "      <td>tt3040964</td>\n",
       "      <td>106.0</td>\n",
       "      <td>The Jungle Book</td>\n",
       "      <td>English</td>\n",
       "    </tr>\n",
       "    <tr>\n",
       "      <th>148</th>\n",
       "      <td>tt3276924</td>\n",
       "      <td>93.0</td>\n",
       "      <td>Heist</td>\n",
       "      <td>English</td>\n",
       "    </tr>\n",
       "    <tr>\n",
       "      <th>147</th>\n",
       "      <td>tt3276924</td>\n",
       "      <td>93.0</td>\n",
       "      <td>Heist</td>\n",
       "      <td>English</td>\n",
       "    </tr>\n",
       "    <tr>\n",
       "      <th>136</th>\n",
       "      <td>tt3332064</td>\n",
       "      <td>111.0</td>\n",
       "      <td>Pan</td>\n",
       "      <td>English</td>\n",
       "    </tr>\n",
       "    <tr>\n",
       "      <th>135</th>\n",
       "      <td>tt3332064</td>\n",
       "      <td>111.0</td>\n",
       "      <td>Pan</td>\n",
       "      <td>English</td>\n",
       "    </tr>\n",
       "    <tr>\n",
       "      <th>134</th>\n",
       "      <td>tt3332064</td>\n",
       "      <td>111.0</td>\n",
       "      <td>Pan</td>\n",
       "      <td>English</td>\n",
       "    </tr>\n",
       "    <tr>\n",
       "      <th>43</th>\n",
       "      <td>tt4178092</td>\n",
       "      <td>108.0</td>\n",
       "      <td>The Gift</td>\n",
       "      <td>English</td>\n",
       "    </tr>\n",
       "    <tr>\n",
       "      <th>42</th>\n",
       "      <td>tt4178092</td>\n",
       "      <td>108.0</td>\n",
       "      <td>The Gift</td>\n",
       "      <td>English</td>\n",
       "    </tr>\n",
       "    <tr>\n",
       "      <th>34</th>\n",
       "      <td>tt4262980</td>\n",
       "      <td>120.0</td>\n",
       "      <td>Shin Godzilla</td>\n",
       "      <td>Japanese</td>\n",
       "    </tr>\n",
       "    <tr>\n",
       "      <th>33</th>\n",
       "      <td>tt4262980</td>\n",
       "      <td>120.0</td>\n",
       "      <td>Shin Godzilla</td>\n",
       "      <td>Japanese</td>\n",
       "    </tr>\n",
       "    <tr>\n",
       "      <th>12</th>\n",
       "      <td>tt4651520</td>\n",
       "      <td>100.0</td>\n",
       "      <td>Bad Moms</td>\n",
       "      <td>English</td>\n",
       "    </tr>\n",
       "    <tr>\n",
       "      <th>11</th>\n",
       "      <td>tt4651520</td>\n",
       "      <td>100.0</td>\n",
       "      <td>Bad Moms</td>\n",
       "      <td>English</td>\n",
       "    </tr>\n",
       "  </tbody>\n",
       "</table>\n",
       "</div>"
      ],
      "text/plain": [
       "       imdb_id  duration                                      title  language\n",
       "962  tt1528100     150.0                     Exodus: Gods and Kings   English\n",
       "961  tt1528100     150.0                     Exodus: Gods and Kings   English\n",
       "853  tt1623205     130.0                  Oz the Great and Powerful   English\n",
       "852  tt1623205     130.0                  Oz the Great and Powerful   English\n",
       "805  tt1661199     105.0                                 Cinderella   English\n",
       "804  tt1661199     105.0                                 Cinderella   English\n",
       "795  tt1666335     108.0                                The Calling   English\n",
       "796  tt1666335     108.0                                The Calling   English\n",
       "787  tt1673434     115.0  The Twilight Saga: Breaking Dawn - Part 2   English\n",
       "786  tt1673434     115.0  The Twilight Saga: Breaking Dawn - Part 2   English\n",
       "732  tt1742334     109.0                                   Sabotage   English\n",
       "731  tt1742334     109.0                                   Sabotage   English\n",
       "678  tt1809398     137.0                                   Unbroken   English\n",
       "677  tt1809398     137.0                                   Unbroken   English\n",
       "610  tt1924429     101.0                                     Trance   English\n",
       "609  tt1924429     101.0                                     Trance   English\n",
       "599  tt1939659     100.0                                     Carrie   English\n",
       "598  tt1939659     100.0                                     Carrie   English\n",
       "579  tt1976009     110.0                        Victor Frankenstein   English\n",
       "578  tt1976009     110.0                        Victor Frankenstein   English\n",
       "577  tt1976009     110.0                        Victor Frankenstein   English\n",
       "535  tt2039393     111.0                                The Gambler   English\n",
       "534  tt2039393     111.0                                The Gambler   English\n",
       "527  tt2053463     106.0                               Side Effects   English\n",
       "526  tt2053463     106.0                               Side Effects   English\n",
       "524  tt2058673     114.0                                Point Break   English\n",
       "523  tt2058673     114.0                                Point Break   English\n",
       "442  tt2224026      94.0                                       Home   English\n",
       "441  tt2224026      94.0                                       Home   English\n",
       "440  tt2224026      94.0                                       Home   English\n",
       "414  tt2271563      90.0                                   Forsaken   English\n",
       "413  tt2271563      90.0                                   Forsaken   English\n",
       "321  tt2467046     110.0                                Left Behind   English\n",
       "320  tt2467046     110.0                                Left Behind   English\n",
       "280  tt2638144     141.0                                    Ben-Hur   English\n",
       "282  tt2638144     141.0                                    Ben-Hur   English\n",
       "281  tt2638144     141.0                                    Ben-Hur   English\n",
       "193  tt3040964     106.0                            The Jungle Book   English\n",
       "192  tt3040964     106.0                            The Jungle Book   English\n",
       "148  tt3276924      93.0                                      Heist   English\n",
       "147  tt3276924      93.0                                      Heist   English\n",
       "136  tt3332064     111.0                                        Pan   English\n",
       "135  tt3332064     111.0                                        Pan   English\n",
       "134  tt3332064     111.0                                        Pan   English\n",
       "43   tt4178092     108.0                                   The Gift   English\n",
       "42   tt4178092     108.0                                   The Gift   English\n",
       "34   tt4262980     120.0                              Shin Godzilla  Japanese\n",
       "33   tt4262980     120.0                              Shin Godzilla  Japanese\n",
       "12   tt4651520     100.0                                   Bad Moms   English\n",
       "11   tt4651520     100.0                                   Bad Moms   English"
      ]
     },
     "execution_count": 18,
     "metadata": {},
     "output_type": "execute_result"
    }
   ],
   "source": [
    "df_lesscols[\n",
    "    df_lesscols.imdb_id.duplicated(keep=False)\n",
    "].sort_values('imdb_id')[\n",
    "    \"imdb_id duration title language\".split()\n",
    "].tail(50)"
   ]
  },
  {
   "cell_type": "code",
   "execution_count": 19,
   "metadata": {
    "ExecuteTime": {
     "end_time": "2020-04-04T22:38:26.953073Z",
     "start_time": "2020-04-04T22:38:26.944002Z"
    }
   },
   "outputs": [],
   "source": [
    "df_lesscols = df_lesscols.drop_duplicates(subset='imdb_id').set_index(\"imdb_id\")"
   ]
  },
  {
   "cell_type": "code",
   "execution_count": 21,
   "metadata": {
    "ExecuteTime": {
     "end_time": "2020-04-04T22:38:54.447103Z",
     "start_time": "2020-04-04T22:38:54.424698Z"
    }
   },
   "outputs": [
    {
     "data": {
      "text/html": [
       "<div>\n",
       "<style scoped>\n",
       "    .dataframe tbody tr th:only-of-type {\n",
       "        vertical-align: middle;\n",
       "    }\n",
       "\n",
       "    .dataframe tbody tr th {\n",
       "        vertical-align: top;\n",
       "    }\n",
       "\n",
       "    .dataframe thead th {\n",
       "        text-align: right;\n",
       "    }\n",
       "</style>\n",
       "<table border=\"1\" class=\"dataframe\">\n",
       "  <thead>\n",
       "    <tr style=\"text-align: right;\">\n",
       "      <th></th>\n",
       "      <th>duration</th>\n",
       "      <th>adult</th>\n",
       "      <th>budget_api</th>\n",
       "      <th>budget_kaggle</th>\n",
       "      <th>language</th>\n",
       "      <th>original_language</th>\n",
       "      <th>production_countries</th>\n",
       "      <th>runtime</th>\n",
       "      <th>spoken_languages</th>\n",
       "      <th>color</th>\n",
       "      <th>...</th>\n",
       "      <th>content_rating</th>\n",
       "      <th>actor_1_facebook_likes</th>\n",
       "      <th>actor_2_facebook_likes</th>\n",
       "      <th>actor_3_facebook_likes</th>\n",
       "      <th>director_facebook_likes</th>\n",
       "      <th>cast_total_facebook_likes</th>\n",
       "      <th>facenumber_in_poster</th>\n",
       "      <th>aspect_ratio</th>\n",
       "      <th>imdb_score</th>\n",
       "      <th>revenue</th>\n",
       "    </tr>\n",
       "    <tr>\n",
       "      <th>imdb_id</th>\n",
       "      <th></th>\n",
       "      <th></th>\n",
       "      <th></th>\n",
       "      <th></th>\n",
       "      <th></th>\n",
       "      <th></th>\n",
       "      <th></th>\n",
       "      <th></th>\n",
       "      <th></th>\n",
       "      <th></th>\n",
       "      <th></th>\n",
       "      <th></th>\n",
       "      <th></th>\n",
       "      <th></th>\n",
       "      <th></th>\n",
       "      <th></th>\n",
       "      <th></th>\n",
       "      <th></th>\n",
       "      <th></th>\n",
       "      <th></th>\n",
       "      <th></th>\n",
       "    </tr>\n",
       "  </thead>\n",
       "  <tbody>\n",
       "    <tr>\n",
       "      <th>tt5215952</th>\n",
       "      <td>156.0</td>\n",
       "      <td>False</td>\n",
       "      <td>NaN</td>\n",
       "      <td>10951000</td>\n",
       "      <td>Korean</td>\n",
       "      <td>ko</td>\n",
       "      <td>[{'iso_3166_1': 'KR', 'name': 'South Korea'}]</td>\n",
       "      <td>156.0</td>\n",
       "      <td>[{'iso_639_1': 'de', 'name': 'Deutsch'}, {'iso...</td>\n",
       "      <td>Color</td>\n",
       "      <td>...</td>\n",
       "      <td>Not Rated</td>\n",
       "      <td>45.0</td>\n",
       "      <td>5.0</td>\n",
       "      <td>0.0</td>\n",
       "      <td>43.0</td>\n",
       "      <td>50</td>\n",
       "      <td>0.0</td>\n",
       "      <td>2.35</td>\n",
       "      <td>7.7</td>\n",
       "      <td>47098491</td>\n",
       "    </tr>\n",
       "    <tr>\n",
       "      <th>tt5078326</th>\n",
       "      <td>102.0</td>\n",
       "      <td>False</td>\n",
       "      <td>NaN</td>\n",
       "      <td>0</td>\n",
       "      <td>French</td>\n",
       "      <td>fr</td>\n",
       "      <td>[{'iso_3166_1': 'FR', 'name': 'France'}]</td>\n",
       "      <td>102.0</td>\n",
       "      <td>[{'iso_639_1': 'fr', 'name': 'Français'}]</td>\n",
       "      <td>Color</td>\n",
       "      <td>...</td>\n",
       "      <td>NaN</td>\n",
       "      <td>541.0</td>\n",
       "      <td>8.0</td>\n",
       "      <td>2.0</td>\n",
       "      <td>12.0</td>\n",
       "      <td>553</td>\n",
       "      <td>2.0</td>\n",
       "      <td>NaN</td>\n",
       "      <td>7.2</td>\n",
       "      <td>0</td>\n",
       "    </tr>\n",
       "    <tr>\n",
       "      <th>tt5001130</th>\n",
       "      <td>100.0</td>\n",
       "      <td>False</td>\n",
       "      <td>3500000.0</td>\n",
       "      <td>3500000</td>\n",
       "      <td>English</td>\n",
       "      <td>en</td>\n",
       "      <td>[{'iso_3166_1': 'US', 'name': 'United States o...</td>\n",
       "      <td>100.0</td>\n",
       "      <td>[{'iso_639_1': 'en', 'name': 'English'}]</td>\n",
       "      <td>Color</td>\n",
       "      <td>...</td>\n",
       "      <td>NaN</td>\n",
       "      <td>21.0</td>\n",
       "      <td>3.0</td>\n",
       "      <td>0.0</td>\n",
       "      <td>117.0</td>\n",
       "      <td>24</td>\n",
       "      <td>0.0</td>\n",
       "      <td>NaN</td>\n",
       "      <td>7.0</td>\n",
       "      <td>0</td>\n",
       "    </tr>\n",
       "  </tbody>\n",
       "</table>\n",
       "<p>3 rows × 25 columns</p>\n",
       "</div>"
      ],
      "text/plain": [
       "           duration  adult  budget_api  budget_kaggle language  \\\n",
       "imdb_id                                                          \n",
       "tt5215952     156.0  False         NaN       10951000   Korean   \n",
       "tt5078326     102.0  False         NaN              0   French   \n",
       "tt5001130     100.0  False   3500000.0        3500000  English   \n",
       "\n",
       "          original_language  \\\n",
       "imdb_id                       \n",
       "tt5215952                ko   \n",
       "tt5078326                fr   \n",
       "tt5001130                en   \n",
       "\n",
       "                                        production_countries  runtime  \\\n",
       "imdb_id                                                                 \n",
       "tt5215952      [{'iso_3166_1': 'KR', 'name': 'South Korea'}]    156.0   \n",
       "tt5078326           [{'iso_3166_1': 'FR', 'name': 'France'}]    102.0   \n",
       "tt5001130  [{'iso_3166_1': 'US', 'name': 'United States o...    100.0   \n",
       "\n",
       "                                            spoken_languages  color  ...  \\\n",
       "imdb_id                                                              ...   \n",
       "tt5215952  [{'iso_639_1': 'de', 'name': 'Deutsch'}, {'iso...  Color  ...   \n",
       "tt5078326          [{'iso_639_1': 'fr', 'name': 'Français'}]  Color  ...   \n",
       "tt5001130           [{'iso_639_1': 'en', 'name': 'English'}]  Color  ...   \n",
       "\n",
       "          content_rating actor_1_facebook_likes actor_2_facebook_likes  \\\n",
       "imdb_id                                                                  \n",
       "tt5215952      Not Rated                   45.0                    5.0   \n",
       "tt5078326            NaN                  541.0                    8.0   \n",
       "tt5001130            NaN                   21.0                    3.0   \n",
       "\n",
       "          actor_3_facebook_likes director_facebook_likes  \\\n",
       "imdb_id                                                    \n",
       "tt5215952                    0.0                    43.0   \n",
       "tt5078326                    2.0                    12.0   \n",
       "tt5001130                    0.0                   117.0   \n",
       "\n",
       "          cast_total_facebook_likes  facenumber_in_poster  aspect_ratio  \\\n",
       "imdb_id                                                                   \n",
       "tt5215952                        50                   0.0          2.35   \n",
       "tt5078326                       553                   2.0           NaN   \n",
       "tt5001130                        24                   0.0           NaN   \n",
       "\n",
       "           imdb_score   revenue  \n",
       "imdb_id                          \n",
       "tt5215952         7.7  47098491  \n",
       "tt5078326         7.2         0  \n",
       "tt5001130         7.0         0  \n",
       "\n",
       "[3 rows x 25 columns]"
      ]
     },
     "execution_count": 21,
     "metadata": {},
     "output_type": "execute_result"
    }
   ],
   "source": [
    "df_lesscols.head(3)"
   ]
  },
  {
   "cell_type": "markdown",
   "metadata": {},
   "source": [
    "## Null Values Management"
   ]
  },
  {
   "cell_type": "markdown",
   "metadata": {},
   "source": [
    "Here are all of the truly \"null\" values:"
   ]
  },
  {
   "cell_type": "code",
   "execution_count": 22,
   "metadata": {
    "ExecuteTime": {
     "end_time": "2020-04-04T22:39:41.644608Z",
     "start_time": "2020-04-04T22:39:41.444231Z"
    }
   },
   "outputs": [
    {
     "data": {
      "text/plain": [
       "[]"
      ]
     },
     "execution_count": 22,
     "metadata": {},
     "output_type": "execute_result"
    },
    {
     "data": {
      "image/png": "[encoded data removed]",
      "text/plain": [
       "<Figure size 1080x576 with 1 Axes>"
      ]
     },
     "metadata": {
      "needs_background": "light"
     },
     "output_type": "display_data"
    }
   ],
   "source": [
    "nulls = df_lesscols.isna().sum()[df_lesscols.isna().sum() > 0].sort_values(ascending=False)\n",
    "\n",
    "nulls.plot(kind='bar', figsize=(15,8)).plot()"
   ]
  },
  {
   "cell_type": "markdown",
   "metadata": {},
   "source": [
    "Gotta start somewhere."
   ]
  },
  {
   "cell_type": "markdown",
   "metadata": {},
   "source": [
    "### Budget"
   ]
  },
  {
   "cell_type": "markdown",
   "metadata": {},
   "source": [
    "We have two disparate budget columns to draw from. We want whatever seems most plausible."
   ]
  },
  {
   "cell_type": "code",
   "execution_count": 23,
   "metadata": {
    "ExecuteTime": {
     "end_time": "2020-04-04T22:39:41.652974Z",
     "start_time": "2020-04-04T22:39:41.645969Z"
    }
   },
   "outputs": [
    {
     "data": {
      "text/html": [
       "<div>\n",
       "<style scoped>\n",
       "    .dataframe tbody tr th:only-of-type {\n",
       "        vertical-align: middle;\n",
       "    }\n",
       "\n",
       "    .dataframe tbody tr th {\n",
       "        vertical-align: top;\n",
       "    }\n",
       "\n",
       "    .dataframe thead th {\n",
       "        text-align: right;\n",
       "    }\n",
       "</style>\n",
       "<table border=\"1\" class=\"dataframe\">\n",
       "  <thead>\n",
       "    <tr style=\"text-align: right;\">\n",
       "      <th></th>\n",
       "      <th>budget_api</th>\n",
       "      <th>budget_kaggle</th>\n",
       "    </tr>\n",
       "    <tr>\n",
       "      <th>imdb_id</th>\n",
       "      <th></th>\n",
       "      <th></th>\n",
       "    </tr>\n",
       "  </thead>\n",
       "  <tbody>\n",
       "    <tr>\n",
       "      <th>tt5215952</th>\n",
       "      <td>NaN</td>\n",
       "      <td>10951000</td>\n",
       "    </tr>\n",
       "    <tr>\n",
       "      <th>tt5078326</th>\n",
       "      <td>NaN</td>\n",
       "      <td>0</td>\n",
       "    </tr>\n",
       "    <tr>\n",
       "      <th>tt5001130</th>\n",
       "      <td>3500000.0</td>\n",
       "      <td>3500000</td>\n",
       "    </tr>\n",
       "    <tr>\n",
       "      <th>tt4939066</th>\n",
       "      <td>12620000.0</td>\n",
       "      <td>12700000</td>\n",
       "    </tr>\n",
       "    <tr>\n",
       "      <th>tt4871980</th>\n",
       "      <td>5000000.0</td>\n",
       "      <td>0</td>\n",
       "    </tr>\n",
       "    <tr>\n",
       "      <th>tt4824308</th>\n",
       "      <td>5000000.0</td>\n",
       "      <td>5000000</td>\n",
       "    </tr>\n",
       "    <tr>\n",
       "      <th>tt4786282</th>\n",
       "      <td>4900000.0</td>\n",
       "      <td>4900000</td>\n",
       "    </tr>\n",
       "    <tr>\n",
       "      <th>tt4733536</th>\n",
       "      <td>990000.0</td>\n",
       "      <td>0</td>\n",
       "    </tr>\n",
       "    <tr>\n",
       "      <th>tt4707756</th>\n",
       "      <td>168000.0</td>\n",
       "      <td>0</td>\n",
       "    </tr>\n",
       "    <tr>\n",
       "      <th>tt4704314</th>\n",
       "      <td>2000000.0</td>\n",
       "      <td>0</td>\n",
       "    </tr>\n",
       "  </tbody>\n",
       "</table>\n",
       "</div>"
      ],
      "text/plain": [
       "           budget_api  budget_kaggle\n",
       "imdb_id                             \n",
       "tt5215952         NaN       10951000\n",
       "tt5078326         NaN              0\n",
       "tt5001130   3500000.0        3500000\n",
       "tt4939066  12620000.0       12700000\n",
       "tt4871980   5000000.0              0\n",
       "tt4824308   5000000.0        5000000\n",
       "tt4786282   4900000.0        4900000\n",
       "tt4733536    990000.0              0\n",
       "tt4707756    168000.0              0\n",
       "tt4704314   2000000.0              0"
      ]
     },
     "execution_count": 23,
     "metadata": {},
     "output_type": "execute_result"
    }
   ],
   "source": [
    "df_lesscols[[\"budget_api\", \"budget_kaggle\"]].head(10)"
   ]
  },
  {
   "cell_type": "markdown",
   "metadata": {},
   "source": [
    "Lots of nulls in budget_api, lots of zeroes in budget_kaggle. How best to handle this? And are there other columns where we just have a bunch of zero values instead of nulls (revenue??)"
   ]
  },
  {
   "cell_type": "code",
   "execution_count": 24,
   "metadata": {
    "ExecuteTime": {
     "end_time": "2020-04-04T22:39:41.658910Z",
     "start_time": "2020-04-04T22:39:41.654994Z"
    }
   },
   "outputs": [],
   "source": [
    "def best_guess_budget(row):\n",
    "    # When budget_api is NaN and budget_kaggle is non-zero, take budget_kaggle.\n",
    "    if row.isna()[\"budget_api\"] and row['budget_kaggle'] != 0:\n",
    "        return row['budget_kaggle']\n",
    "    \n",
    "    # When budget_api is not NaN but budget_kaggle is zero, take budget_api.\n",
    "    elif not row.isna()[\"budget_api\"] and row['budget_kaggle'] == 0:\n",
    "        return row['budget_api']\n",
    "    \n",
    "    # When both values are not NaN / non-zero, take the mean?\n",
    "    elif not row.isna()[\"budget_api\"] and row['budget_kaggle'] != 0:\n",
    "        return np.mean((row['budget_kaggle'], row['budget_api']))\n",
    "        \n",
    "    # When budget_api is NaN AND budget_kaggle is zero...that's tough. Maybe drop row. Consider imputing values?\n",
    "    else:\n",
    "        return None"
   ]
  },
  {
   "cell_type": "code",
   "execution_count": 25,
   "metadata": {
    "ExecuteTime": {
     "end_time": "2020-04-04T22:39:41.669419Z",
     "start_time": "2020-04-04T22:39:41.660277Z"
    }
   },
   "outputs": [
    {
     "data": {
      "text/plain": [
       "imdb_id\n",
       "tt5215952    10951000.0\n",
       "tt5078326           NaN\n",
       "tt5001130     3500000.0\n",
       "tt4939066    12660000.0\n",
       "tt4871980     5000000.0\n",
       "tt4824308     5000000.0\n",
       "tt4786282     4900000.0\n",
       "tt4733536      990000.0\n",
       "tt4707756      168000.0\n",
       "tt4704314     2000000.0\n",
       "dtype: float64"
      ]
     },
     "execution_count": 25,
     "metadata": {},
     "output_type": "execute_result"
    }
   ],
   "source": [
    "df_lesscols.head(10).apply(best_guess_budget, axis=1)"
   ]
  },
  {
   "cell_type": "markdown",
   "metadata": {},
   "source": [
    "This is the desired behavior."
   ]
  },
  {
   "cell_type": "code",
   "execution_count": 26,
   "metadata": {
    "ExecuteTime": {
     "end_time": "2020-04-04T22:39:43.152431Z",
     "start_time": "2020-04-04T22:39:41.670760Z"
    }
   },
   "outputs": [],
   "source": [
    "best_budget = df_lesscols.apply(best_guess_budget, axis=1)"
   ]
  },
  {
   "cell_type": "code",
   "execution_count": 27,
   "metadata": {
    "ExecuteTime": {
     "end_time": "2020-04-04T22:39:43.159203Z",
     "start_time": "2020-04-04T22:39:43.153586Z"
    }
   },
   "outputs": [],
   "source": [
    "df_best_guess_budget = df_lesscols.assign(best_budget=best_budget\n",
    "                                         ).drop(\"budget_api budget_kaggle\".split(), axis=1)"
   ]
  },
  {
   "cell_type": "code",
   "execution_count": 28,
   "metadata": {
    "ExecuteTime": {
     "end_time": "2020-04-04T22:39:43.164093Z",
     "start_time": "2020-04-04T22:39:43.160335Z"
    }
   },
   "outputs": [
    {
     "data": {
      "text/plain": [
       "0.05579845929627316"
      ]
     },
     "execution_count": 28,
     "metadata": {},
     "output_type": "execute_result"
    }
   ],
   "source": [
    "df_best_guess_budget.best_budget.isna().mean()"
   ]
  },
  {
   "cell_type": "markdown",
   "metadata": {},
   "source": [
    "5% of budget values are missing. I think I will in fact impute the median."
   ]
  },
  {
   "cell_type": "code",
   "execution_count": 29,
   "metadata": {
    "ExecuteTime": {
     "end_time": "2020-04-04T22:39:43.172436Z",
     "start_time": "2020-04-04T22:39:43.166735Z"
    }
   },
   "outputs": [
    {
     "data": {
      "text/plain": [
       "(19000000.0, 36654712.14840132)"
      ]
     },
     "execution_count": 29,
     "metadata": {},
     "output_type": "execute_result"
    }
   ],
   "source": [
    "budget_med = df_best_guess_budget.best_budget.dropna().median()\n",
    "budget_mean = df_best_guess_budget.best_budget.dropna().mean()\n",
    "budget_med, budget_mean"
   ]
  },
  {
   "cell_type": "code",
   "execution_count": 30,
   "metadata": {
    "ExecuteTime": {
     "end_time": "2020-04-04T22:39:43.181630Z",
     "start_time": "2020-04-04T22:39:43.174511Z"
    }
   },
   "outputs": [],
   "source": [
    "df_filled_budget = df_best_guess_budget.assign(\n",
    "    filled_budget = df_best_guess_budget[\"best_budget\"].fillna(budget_med)\n",
    ").drop([\"best_budget\"],axis=1)"
   ]
  },
  {
   "cell_type": "code",
   "execution_count": 31,
   "metadata": {
    "ExecuteTime": {
     "end_time": "2020-04-04T22:39:43.186637Z",
     "start_time": "2020-04-04T22:39:43.182657Z"
    }
   },
   "outputs": [
    {
     "data": {
      "text/plain": [
       "0.0"
      ]
     },
     "execution_count": 31,
     "metadata": {},
     "output_type": "execute_result"
    }
   ],
   "source": [
    "df_filled_budget.filled_budget.isna().mean()"
   ]
  },
  {
   "cell_type": "code",
   "execution_count": 32,
   "metadata": {
    "ExecuteTime": {
     "end_time": "2020-04-04T22:39:43.193207Z",
     "start_time": "2020-04-04T22:39:43.187831Z"
    }
   },
   "outputs": [
    {
     "data": {
      "text/plain": [
       "(19000000.0, 35669606.411201335)"
      ]
     },
     "execution_count": 32,
     "metadata": {},
     "output_type": "execute_result"
    }
   ],
   "source": [
    "df_filled_budget.filled_budget.median(), df_filled_budget.filled_budget.mean()"
   ]
  },
  {
   "cell_type": "markdown",
   "metadata": {},
   "source": [
    "This doesn't seem to have shifted the mean much, that's good."
   ]
  },
  {
   "cell_type": "markdown",
   "metadata": {},
   "source": [
    "### Aspect Ratio"
   ]
  },
  {
   "cell_type": "code",
   "execution_count": 33,
   "metadata": {
    "ExecuteTime": {
     "end_time": "2020-04-04T22:39:43.198390Z",
     "start_time": "2020-04-04T22:39:43.194340Z"
    }
   },
   "outputs": [
    {
     "data": {
      "text/plain": [
       "0.0610035394545076"
      ]
     },
     "execution_count": 33,
     "metadata": {},
     "output_type": "execute_result"
    }
   ],
   "source": [
    "df_filled_budget.aspect_ratio.isna().mean()"
   ]
  },
  {
   "cell_type": "markdown",
   "metadata": {},
   "source": [
    "6% of aspect ratios are null."
   ]
  },
  {
   "cell_type": "markdown",
   "metadata": {},
   "source": [
    "This is a categorical describing the dimensions of the projected image. Your TV set is 16x9 aka 1.77 aspect ratio, whereas lots of hollywood films are 1.85 ratio or 2.40, much \"wider-screen\". 2.40 might be \"artsier\"."
   ]
  },
  {
   "cell_type": "code",
   "execution_count": 34,
   "metadata": {
    "ExecuteTime": {
     "end_time": "2020-04-04T22:39:43.345145Z",
     "start_time": "2020-04-04T22:39:43.200262Z"
    }
   },
   "outputs": [
    {
     "data": {
      "text/plain": [
       "<matplotlib.axes._subplots.AxesSubplot at 0x133163f50>"
      ]
     },
     "execution_count": 34,
     "metadata": {},
     "output_type": "execute_result"
    },
    {
     "data": {
      "image/png": "[encoded data removed]",
      "text/plain": [
       "<Figure size 432x288 with 1 Axes>"
      ]
     },
     "metadata": {
      "needs_background": "light"
     },
     "output_type": "display_data"
    }
   ],
   "source": [
    "# Aspect ratio of 16 I take to mean 16x9 aka 1.77:\n",
    "df_filled_budget.aspect_ratio = df_filled_budget.aspect_ratio.apply(lambda x: 1.77 if x==16 else x)\n",
    "df_filled_budget.aspect_ratio.value_counts().sort_index().plot(kind=\"bar\")"
   ]
  },
  {
   "cell_type": "markdown",
   "metadata": {},
   "source": [
    "I think I will lump some of these together and impute 1.85 on null values. It's not *quite* the mode but it's a sort of middle-of-the road aspect ratio. The DCI standard lists 2.39 and 1.85 for theatrical projection. 16x9 or 1.77 is also common, and 4/3 or 1.33 is like an old-timey boxey aspect ratio."
   ]
  },
  {
   "cell_type": "code",
   "execution_count": 35,
   "metadata": {
    "ExecuteTime": {
     "end_time": "2020-04-04T22:39:43.349147Z",
     "start_time": "2020-04-04T22:39:43.346236Z"
    }
   },
   "outputs": [],
   "source": [
    "aspect_bins = [0, np.mean((1.33, 1.77)), np.mean((1.77,1.85)), np.mean((1.85,2.39)), np.inf]\n",
    "aspect_labels = \"1.33 1.77 1.85 2.39\".split()"
   ]
  },
  {
   "cell_type": "code",
   "execution_count": 36,
   "metadata": {
    "ExecuteTime": {
     "end_time": "2020-04-04T22:39:43.357900Z",
     "start_time": "2020-04-04T22:39:43.350204Z"
    }
   },
   "outputs": [
    {
     "data": {
      "text/plain": [
       "imdb_id\n",
       "tt5215952    2.39\n",
       "tt5078326     NaN\n",
       "tt5001130     NaN\n",
       "tt4939066     NaN\n",
       "tt4871980     NaN\n",
       "             ... \n",
       "tt0018737    1.33\n",
       "tt0017136    1.33\n",
       "tt0015624    1.33\n",
       "tt0011549    1.33\n",
       "tt0006864    1.33\n",
       "Name: aspect_ratio, Length: 4803, dtype: category\n",
       "Categories (4, object): [1.33 < 1.77 < 1.85 < 2.39]"
      ]
     },
     "execution_count": 36,
     "metadata": {},
     "output_type": "execute_result"
    }
   ],
   "source": [
    "pd.cut(df_filled_budget.aspect_ratio, \n",
    "       bins=aspect_bins, \n",
    "       labels=aspect_labels,\n",
    "       include_lowest=True)"
   ]
  },
  {
   "cell_type": "markdown",
   "metadata": {},
   "source": [
    "Lump values and impute 1.85:"
   ]
  },
  {
   "cell_type": "code",
   "execution_count": 37,
   "metadata": {
    "ExecuteTime": {
     "end_time": "2020-04-04T22:39:43.366712Z",
     "start_time": "2020-04-04T22:39:43.359112Z"
    }
   },
   "outputs": [],
   "source": [
    "df_fixed_aspect = df_filled_budget.assign(fixed_aspect = pd.cut(df_filled_budget.aspect_ratio, \n",
    "                                                         bins=aspect_bins, \n",
    "                                                         labels=aspect_labels,\n",
    "                                                         include_lowest=True\n",
    "                                                               ).fillna(\"1.85\")\n",
    "                                         ).drop([\"aspect_ratio\"],axis=1)"
   ]
  },
  {
   "cell_type": "code",
   "execution_count": 38,
   "metadata": {
    "ExecuteTime": {
     "end_time": "2020-04-04T22:39:43.521886Z",
     "start_time": "2020-04-04T22:39:43.367755Z"
    }
   },
   "outputs": [
    {
     "data": {
      "text/plain": [
       "<matplotlib.axes._subplots.AxesSubplot at 0x132de0490>"
      ]
     },
     "execution_count": 38,
     "metadata": {},
     "output_type": "execute_result"
    },
    {
     "data": {
      "image/png": "[encoded data removed]",
      "text/plain": [
       "<Figure size 432x288 with 1 Axes>"
      ]
     },
     "metadata": {
      "needs_background": "light"
     },
     "output_type": "display_data"
    }
   ],
   "source": [
    "df_fixed_aspect.fixed_aspect.value_counts().sort_index().plot(kind=\"bar\")"
   ]
  },
  {
   "cell_type": "markdown",
   "metadata": {},
   "source": [
    "### Content Rating"
   ]
  },
  {
   "cell_type": "code",
   "execution_count": 39,
   "metadata": {
    "ExecuteTime": {
     "end_time": "2020-04-04T22:39:43.527342Z",
     "start_time": "2020-04-04T22:39:43.523705Z"
    }
   },
   "outputs": [
    {
     "data": {
      "text/plain": [
       "0.051842598376014994"
      ]
     },
     "execution_count": 39,
     "metadata": {},
     "output_type": "execute_result"
    }
   ],
   "source": [
    "df_fixed_aspect.content_rating.isna().mean()"
   ]
  },
  {
   "cell_type": "code",
   "execution_count": 40,
   "metadata": {
    "ExecuteTime": {
     "end_time": "2020-04-04T22:39:43.669499Z",
     "start_time": "2020-04-04T22:39:43.528736Z"
    }
   },
   "outputs": [
    {
     "data": {
      "text/plain": [
       "<matplotlib.axes._subplots.AxesSubplot at 0x132e369d0>"
      ]
     },
     "execution_count": 40,
     "metadata": {},
     "output_type": "execute_result"
    },
    {
     "data": {
      "image/png": "[encoded data removed]",
      "text/plain": [
       "<Figure size 432x288 with 1 Axes>"
      ]
     },
     "metadata": {
      "needs_background": "light"
     },
     "output_type": "display_data"
    }
   ],
   "source": [
    "df_fixed_aspect.content_rating.value_counts().plot(kind=\"bar\")"
   ]
  },
  {
   "cell_type": "markdown",
   "metadata": {},
   "source": [
    "Just gonna fill nulls with PG-13 and condense redundant ones"
   ]
  },
  {
   "cell_type": "code",
   "execution_count": 41,
   "metadata": {
    "ExecuteTime": {
     "end_time": "2020-04-04T22:39:43.674345Z",
     "start_time": "2020-04-04T22:39:43.670644Z"
    }
   },
   "outputs": [],
   "source": [
    "df_content_rating_filled = df_fixed_aspect.assign(\n",
    "                                content_rating=df_fixed_aspect.content_rating.fillna(\"PG-13\")\n",
    "                           )"
   ]
  },
  {
   "cell_type": "code",
   "execution_count": 42,
   "metadata": {
    "ExecuteTime": {
     "end_time": "2020-04-04T22:39:43.678680Z",
     "start_time": "2020-04-04T22:39:43.675551Z"
    }
   },
   "outputs": [],
   "source": [
    "def rating_mapper(rating):\n",
    "    if rating == \"Not Rated\":\n",
    "        return \"Unrated\"\n",
    "    elif rating in \"Approved Passed M TV-14\".split():\n",
    "        return \"PG-13\"\n",
    "    elif rating in \"TV-G GP G TV-PG\".split():\n",
    "        return \"PG\"\n",
    "    elif rating in [\"NC-17\"]:\n",
    "        return \"X\"\n",
    "    else:\n",
    "        return rating"
   ]
  },
  {
   "cell_type": "code",
   "execution_count": 43,
   "metadata": {
    "ExecuteTime": {
     "end_time": "2020-04-04T22:39:43.686986Z",
     "start_time": "2020-04-04T22:39:43.679670Z"
    }
   },
   "outputs": [],
   "source": [
    "df_content_rating_condensed = df_content_rating_filled.assign(\n",
    "                                content_rating = df_content_rating_filled.content_rating.map(rating_mapper)\n",
    "                              )"
   ]
  },
  {
   "cell_type": "code",
   "execution_count": 44,
   "metadata": {
    "ExecuteTime": {
     "end_time": "2020-04-04T22:39:43.789951Z",
     "start_time": "2020-04-04T22:39:43.690669Z"
    }
   },
   "outputs": [
    {
     "data": {
      "text/plain": [
       "<matplotlib.axes._subplots.AxesSubplot at 0x133354e50>"
      ]
     },
     "execution_count": 44,
     "metadata": {},
     "output_type": "execute_result"
    },
    {
     "data": {
      "image/png": "[encoded data removed]",
      "text/plain": [
       "<Figure size 432x288 with 1 Axes>"
      ]
     },
     "metadata": {
      "needs_background": "light"
     },
     "output_type": "display_data"
    }
   ],
   "source": [
    "df_content_rating_condensed.content_rating.value_counts().plot(kind=\"bar\")"
   ]
  },
  {
   "cell_type": "code",
   "execution_count": 45,
   "metadata": {
    "ExecuteTime": {
     "end_time": "2020-04-04T22:39:43.795885Z",
     "start_time": "2020-04-04T22:39:43.792082Z"
    }
   },
   "outputs": [
    {
     "data": {
      "text/plain": [
       "0.0"
      ]
     },
     "execution_count": 45,
     "metadata": {},
     "output_type": "execute_result"
    }
   ],
   "source": [
    "df_content_rating_condensed.content_rating.isna().mean()"
   ]
  },
  {
   "cell_type": "markdown",
   "metadata": {},
   "source": [
    "How are we doing on null values globally?"
   ]
  },
  {
   "cell_type": "code",
   "execution_count": 46,
   "metadata": {
    "ExecuteTime": {
     "end_time": "2020-04-04T22:39:43.970714Z",
     "start_time": "2020-04-04T22:39:43.797177Z"
    }
   },
   "outputs": [
    {
     "data": {
      "text/plain": [
       "[]"
      ]
     },
     "execution_count": 46,
     "metadata": {},
     "output_type": "execute_result"
    },
    {
     "data": {
      "image/png": "[encoded data removed]",
      "text/plain": [
       "<Figure size 1080x576 with 1 Axes>"
      ]
     },
     "metadata": {
      "needs_background": "light"
     },
     "output_type": "display_data"
    }
   ],
   "source": [
    "nulls_update = df_content_rating_condensed.isna().sum()[\n",
    "    df_content_rating_condensed.isna().sum() > 0\n",
    "].sort_values(ascending=False)\n",
    "\n",
    "nulls_update.plot(kind='bar', figsize=(15,8), rot=45).plot()"
   ]
  },
  {
   "cell_type": "markdown",
   "metadata": {},
   "source": [
    "Clearing some memory:"
   ]
  },
  {
   "cell_type": "code",
   "execution_count": 47,
   "metadata": {
    "ExecuteTime": {
     "end_time": "2020-04-04T22:39:43.976042Z",
     "start_time": "2020-04-04T22:39:43.971975Z"
    }
   },
   "outputs": [],
   "source": [
    "del nulls\n",
    "del imdb_ids\n",
    "del kaggle_data\n",
    "del best_budget\n",
    "del df_lesscols\n",
    "del df_best_guess_budget\n",
    "del df_filled_budget\n",
    "del df_content_rating_filled\n",
    "del df_fixed_aspect"
   ]
  },
  {
   "cell_type": "markdown",
   "metadata": {},
   "source": [
    "### Facebook Like Counts"
   ]
  },
  {
   "cell_type": "code",
   "execution_count": 48,
   "metadata": {
    "ExecuteTime": {
     "end_time": "2020-04-04T22:39:43.988745Z",
     "start_time": "2020-04-04T22:39:43.977516Z"
    }
   },
   "outputs": [
    {
     "data": {
      "text/html": [
       "<div>\n",
       "<style scoped>\n",
       "    .dataframe tbody tr th:only-of-type {\n",
       "        vertical-align: middle;\n",
       "    }\n",
       "\n",
       "    .dataframe tbody tr th {\n",
       "        vertical-align: top;\n",
       "    }\n",
       "\n",
       "    .dataframe thead th {\n",
       "        text-align: right;\n",
       "    }\n",
       "</style>\n",
       "<table border=\"1\" class=\"dataframe\">\n",
       "  <thead>\n",
       "    <tr style=\"text-align: right;\">\n",
       "      <th></th>\n",
       "      <th>actor_1_facebook_likes</th>\n",
       "      <th>actor_2_facebook_likes</th>\n",
       "      <th>actor_3_facebook_likes</th>\n",
       "      <th>director_facebook_likes</th>\n",
       "      <th>cast_total_facebook_likes</th>\n",
       "    </tr>\n",
       "    <tr>\n",
       "      <th>imdb_id</th>\n",
       "      <th></th>\n",
       "      <th></th>\n",
       "      <th></th>\n",
       "      <th></th>\n",
       "      <th></th>\n",
       "    </tr>\n",
       "  </thead>\n",
       "  <tbody>\n",
       "    <tr>\n",
       "      <th>tt5215952</th>\n",
       "      <td>45.0</td>\n",
       "      <td>5.0</td>\n",
       "      <td>0.0</td>\n",
       "      <td>43.0</td>\n",
       "      <td>50</td>\n",
       "    </tr>\n",
       "    <tr>\n",
       "      <th>tt5078326</th>\n",
       "      <td>541.0</td>\n",
       "      <td>8.0</td>\n",
       "      <td>2.0</td>\n",
       "      <td>12.0</td>\n",
       "      <td>553</td>\n",
       "    </tr>\n",
       "    <tr>\n",
       "      <th>tt5001130</th>\n",
       "      <td>21.0</td>\n",
       "      <td>3.0</td>\n",
       "      <td>0.0</td>\n",
       "      <td>117.0</td>\n",
       "      <td>24</td>\n",
       "    </tr>\n",
       "    <tr>\n",
       "      <th>tt4939066</th>\n",
       "      <td>14000.0</td>\n",
       "      <td>81.0</td>\n",
       "      <td>29.0</td>\n",
       "      <td>32.0</td>\n",
       "      <td>14133</td>\n",
       "    </tr>\n",
       "    <tr>\n",
       "      <th>tt4871980</th>\n",
       "      <td>927.0</td>\n",
       "      <td>509.0</td>\n",
       "      <td>503.0</td>\n",
       "      <td>23.0</td>\n",
       "      <td>3552</td>\n",
       "    </tr>\n",
       "  </tbody>\n",
       "</table>\n",
       "</div>"
      ],
      "text/plain": [
       "           actor_1_facebook_likes  actor_2_facebook_likes  \\\n",
       "imdb_id                                                     \n",
       "tt5215952                    45.0                     5.0   \n",
       "tt5078326                   541.0                     8.0   \n",
       "tt5001130                    21.0                     3.0   \n",
       "tt4939066                 14000.0                    81.0   \n",
       "tt4871980                   927.0                   509.0   \n",
       "\n",
       "           actor_3_facebook_likes  director_facebook_likes  \\\n",
       "imdb_id                                                      \n",
       "tt5215952                     0.0                     43.0   \n",
       "tt5078326                     2.0                     12.0   \n",
       "tt5001130                     0.0                    117.0   \n",
       "tt4939066                    29.0                     32.0   \n",
       "tt4871980                   503.0                     23.0   \n",
       "\n",
       "           cast_total_facebook_likes  \n",
       "imdb_id                               \n",
       "tt5215952                         50  \n",
       "tt5078326                        553  \n",
       "tt5001130                         24  \n",
       "tt4939066                      14133  \n",
       "tt4871980                       3552  "
      ]
     },
     "execution_count": 48,
     "metadata": {},
     "output_type": "execute_result"
    }
   ],
   "source": [
    "facebook_like_cols = [col for col in df_content_rating_condensed if \"facebook\" in col]\n",
    "likes = df_content_rating_condensed[facebook_like_cols]\n",
    "\n",
    "df_content_rating_condensed.drop(facebook_like_cols, axis=1, inplace=True)\n",
    "\n",
    "likes.head()"
   ]
  },
  {
   "cell_type": "code",
   "execution_count": 49,
   "metadata": {
    "ExecuteTime": {
     "end_time": "2020-04-04T22:39:43.996742Z",
     "start_time": "2020-04-04T22:39:43.990238Z"
    }
   },
   "outputs": [
    {
     "data": {
      "text/plain": [
       "actor_3_facebook_likes       0.33%\n",
       "actor_2_facebook_likes       0.19%\n",
       "actor_1_facebook_likes       0.12%\n",
       "director_facebook_likes      0.04%\n",
       "cast_total_facebook_likes     0.0%\n",
       "dtype: object"
      ]
     },
     "execution_count": 49,
     "metadata": {},
     "output_type": "execute_result"
    }
   ],
   "source": [
    "(round(likes.isna().mean()*100,2)).sort_values(ascending=False).astype('str')+\"%\""
   ]
  },
  {
   "cell_type": "markdown",
   "metadata": {},
   "source": [
    "Not that many values are missing. Will just use the medians."
   ]
  },
  {
   "cell_type": "code",
   "execution_count": 50,
   "metadata": {
    "ExecuteTime": {
     "end_time": "2020-04-04T22:39:44.005358Z",
     "start_time": "2020-04-04T22:39:43.998156Z"
    }
   },
   "outputs": [
    {
     "name": "stderr",
     "output_type": "stream",
     "text": [
      "/Users/admin/.local/share/virtualenvs/Good-Film-Bad-Film-vaMlpeB4/lib/python3.7/site-packages/pandas/core/generic.py:6245: SettingWithCopyWarning: \n",
      "A value is trying to be set on a copy of a slice from a DataFrame\n",
      "\n",
      "See the caveats in the documentation: https://pandas.pydata.org/pandas-docs/stable/user_guide/indexing.html#returning-a-view-versus-a-copy\n",
      "  self._update_inplace(new_data)\n"
     ]
    }
   ],
   "source": [
    "likes.fillna({col:likes[col].median() for col in likes.columns}, inplace=True)"
   ]
  },
  {
   "cell_type": "code",
   "execution_count": 51,
   "metadata": {
    "ExecuteTime": {
     "end_time": "2020-04-04T22:39:44.011442Z",
     "start_time": "2020-04-04T22:39:44.006535Z"
    }
   },
   "outputs": [],
   "source": [
    "df_likes_filled = pd.concat([df_content_rating_condensed,\n",
    "                             likes], axis=1)"
   ]
  },
  {
   "cell_type": "code",
   "execution_count": 52,
   "metadata": {
    "ExecuteTime": {
     "end_time": "2020-04-04T22:39:44.015378Z",
     "start_time": "2020-04-04T22:39:44.012695Z"
    }
   },
   "outputs": [],
   "source": [
    "del df_content_rating_condensed\n",
    "del likes"
   ]
  },
  {
   "cell_type": "markdown",
   "metadata": {},
   "source": [
    "Time for another check-in:"
   ]
  },
  {
   "cell_type": "code",
   "execution_count": 53,
   "metadata": {
    "ExecuteTime": {
     "end_time": "2020-04-04T22:39:44.167660Z",
     "start_time": "2020-04-04T22:39:44.017104Z"
    }
   },
   "outputs": [
    {
     "data": {
      "image/png": "[encoded data removed]",
      "text/plain": [
       "<Figure size 1080x576 with 1 Axes>"
      ]
     },
     "metadata": {
      "needs_background": "light"
     },
     "output_type": "display_data"
    }
   ],
   "source": [
    "nulls_update = df_likes_filled.isna().sum()[\n",
    "    df_likes_filled.isna().sum() > 0\n",
    "].sort_values(ascending=False)\n",
    "\n",
    "nulls_update.plot(kind='bar', figsize=(15,8), rot=45).plot()\n",
    "\n",
    "del nulls_update"
   ]
  },
  {
   "cell_type": "markdown",
   "metadata": {},
   "source": [
    "### Color"
   ]
  },
  {
   "cell_type": "code",
   "execution_count": 54,
   "metadata": {
    "ExecuteTime": {
     "end_time": "2020-04-04T22:39:44.175167Z",
     "start_time": "2020-04-04T22:39:44.168806Z"
    }
   },
   "outputs": [
    {
     "data": {
      "text/plain": [
       "Color              4587\n",
       "Black and White     201\n",
       "Name: color, dtype: int64"
      ]
     },
     "execution_count": 54,
     "metadata": {},
     "output_type": "execute_result"
    }
   ],
   "source": [
    "df_likes_filled.color = df_likes_filled.color.str.lstrip()\n",
    "df_likes_filled.color.value_counts()"
   ]
  },
  {
   "cell_type": "markdown",
   "metadata": {},
   "source": [
    "Seems safe to assume that the last dozen films are in color..."
   ]
  },
  {
   "cell_type": "code",
   "execution_count": 55,
   "metadata": {
    "ExecuteTime": {
     "end_time": "2020-04-04T22:39:44.180419Z",
     "start_time": "2020-04-04T22:39:44.176413Z"
    }
   },
   "outputs": [],
   "source": [
    "df_likes_filled.color = df_likes_filled.color.fillna(df_likes_filled.color.mode()[0])\n",
    "df_color_filled = df_likes_filled.copy()"
   ]
  },
  {
   "cell_type": "code",
   "execution_count": 56,
   "metadata": {
    "ExecuteTime": {
     "end_time": "2020-04-04T22:39:44.183687Z",
     "start_time": "2020-04-04T22:39:44.181433Z"
    }
   },
   "outputs": [],
   "source": [
    "del df_likes_filled"
   ]
  },
  {
   "cell_type": "code",
   "execution_count": 57,
   "metadata": {
    "ExecuteTime": {
     "end_time": "2020-04-04T22:39:44.208428Z",
     "start_time": "2020-04-04T22:39:44.184925Z"
    }
   },
   "outputs": [
    {
     "data": {
      "text/html": [
       "<div>\n",
       "<style scoped>\n",
       "    .dataframe tbody tr th:only-of-type {\n",
       "        vertical-align: middle;\n",
       "    }\n",
       "\n",
       "    .dataframe tbody tr th {\n",
       "        vertical-align: top;\n",
       "    }\n",
       "\n",
       "    .dataframe thead th {\n",
       "        text-align: right;\n",
       "    }\n",
       "</style>\n",
       "<table border=\"1\" class=\"dataframe\">\n",
       "  <thead>\n",
       "    <tr style=\"text-align: right;\">\n",
       "      <th></th>\n",
       "      <th>duration</th>\n",
       "      <th>adult</th>\n",
       "      <th>language</th>\n",
       "      <th>original_language</th>\n",
       "      <th>production_countries</th>\n",
       "      <th>runtime</th>\n",
       "      <th>spoken_languages</th>\n",
       "      <th>color</th>\n",
       "      <th>genres_api</th>\n",
       "      <th>title</th>\n",
       "      <th>...</th>\n",
       "      <th>facenumber_in_poster</th>\n",
       "      <th>imdb_score</th>\n",
       "      <th>revenue</th>\n",
       "      <th>filled_budget</th>\n",
       "      <th>fixed_aspect</th>\n",
       "      <th>actor_1_facebook_likes</th>\n",
       "      <th>actor_2_facebook_likes</th>\n",
       "      <th>actor_3_facebook_likes</th>\n",
       "      <th>director_facebook_likes</th>\n",
       "      <th>cast_total_facebook_likes</th>\n",
       "    </tr>\n",
       "    <tr>\n",
       "      <th>imdb_id</th>\n",
       "      <th></th>\n",
       "      <th></th>\n",
       "      <th></th>\n",
       "      <th></th>\n",
       "      <th></th>\n",
       "      <th></th>\n",
       "      <th></th>\n",
       "      <th></th>\n",
       "      <th></th>\n",
       "      <th></th>\n",
       "      <th></th>\n",
       "      <th></th>\n",
       "      <th></th>\n",
       "      <th></th>\n",
       "      <th></th>\n",
       "      <th></th>\n",
       "      <th></th>\n",
       "      <th></th>\n",
       "      <th></th>\n",
       "      <th></th>\n",
       "      <th></th>\n",
       "    </tr>\n",
       "  </thead>\n",
       "  <tbody>\n",
       "    <tr>\n",
       "      <th>tt5215952</th>\n",
       "      <td>156.0</td>\n",
       "      <td>False</td>\n",
       "      <td>Korean</td>\n",
       "      <td>ko</td>\n",
       "      <td>[{'iso_3166_1': 'KR', 'name': 'South Korea'}]</td>\n",
       "      <td>156.0</td>\n",
       "      <td>[{'iso_639_1': 'de', 'name': 'Deutsch'}, {'iso...</td>\n",
       "      <td>Color</td>\n",
       "      <td>Fantasy|Horror|Mystery|Thriller</td>\n",
       "      <td>The Wailing</td>\n",
       "      <td>...</td>\n",
       "      <td>0.0</td>\n",
       "      <td>7.7</td>\n",
       "      <td>47098491</td>\n",
       "      <td>10951000.0</td>\n",
       "      <td>2.39</td>\n",
       "      <td>45.0</td>\n",
       "      <td>5.0</td>\n",
       "      <td>0.0</td>\n",
       "      <td>43.0</td>\n",
       "      <td>50</td>\n",
       "    </tr>\n",
       "    <tr>\n",
       "      <th>tt5078326</th>\n",
       "      <td>102.0</td>\n",
       "      <td>False</td>\n",
       "      <td>French</td>\n",
       "      <td>fr</td>\n",
       "      <td>[{'iso_3166_1': 'FR', 'name': 'France'}]</td>\n",
       "      <td>102.0</td>\n",
       "      <td>[{'iso_639_1': 'fr', 'name': 'Français'}]</td>\n",
       "      <td>Color</td>\n",
       "      <td>Comedy|Drama</td>\n",
       "      <td>The Country Doctor</td>\n",
       "      <td>...</td>\n",
       "      <td>2.0</td>\n",
       "      <td>7.2</td>\n",
       "      <td>0</td>\n",
       "      <td>19000000.0</td>\n",
       "      <td>1.85</td>\n",
       "      <td>541.0</td>\n",
       "      <td>8.0</td>\n",
       "      <td>2.0</td>\n",
       "      <td>12.0</td>\n",
       "      <td>553</td>\n",
       "    </tr>\n",
       "    <tr>\n",
       "      <th>tt5001130</th>\n",
       "      <td>100.0</td>\n",
       "      <td>False</td>\n",
       "      <td>English</td>\n",
       "      <td>en</td>\n",
       "      <td>[{'iso_3166_1': 'US', 'name': 'United States o...</td>\n",
       "      <td>100.0</td>\n",
       "      <td>[{'iso_639_1': 'en', 'name': 'English'}]</td>\n",
       "      <td>Color</td>\n",
       "      <td>Documentary</td>\n",
       "      <td>Time to Choose</td>\n",
       "      <td>...</td>\n",
       "      <td>0.0</td>\n",
       "      <td>7.0</td>\n",
       "      <td>0</td>\n",
       "      <td>3500000.0</td>\n",
       "      <td>1.85</td>\n",
       "      <td>21.0</td>\n",
       "      <td>3.0</td>\n",
       "      <td>0.0</td>\n",
       "      <td>117.0</td>\n",
       "      <td>24</td>\n",
       "    </tr>\n",
       "  </tbody>\n",
       "</table>\n",
       "<p>3 rows × 24 columns</p>\n",
       "</div>"
      ],
      "text/plain": [
       "           duration  adult language original_language  \\\n",
       "imdb_id                                                 \n",
       "tt5215952     156.0  False   Korean                ko   \n",
       "tt5078326     102.0  False   French                fr   \n",
       "tt5001130     100.0  False  English                en   \n",
       "\n",
       "                                        production_countries  runtime  \\\n",
       "imdb_id                                                                 \n",
       "tt5215952      [{'iso_3166_1': 'KR', 'name': 'South Korea'}]    156.0   \n",
       "tt5078326           [{'iso_3166_1': 'FR', 'name': 'France'}]    102.0   \n",
       "tt5001130  [{'iso_3166_1': 'US', 'name': 'United States o...    100.0   \n",
       "\n",
       "                                            spoken_languages  color  \\\n",
       "imdb_id                                                               \n",
       "tt5215952  [{'iso_639_1': 'de', 'name': 'Deutsch'}, {'iso...  Color   \n",
       "tt5078326          [{'iso_639_1': 'fr', 'name': 'Français'}]  Color   \n",
       "tt5001130           [{'iso_639_1': 'en', 'name': 'English'}]  Color   \n",
       "\n",
       "                                genres_api               title  ...  \\\n",
       "imdb_id                                                         ...   \n",
       "tt5215952  Fantasy|Horror|Mystery|Thriller         The Wailing  ...   \n",
       "tt5078326                     Comedy|Drama  The Country Doctor  ...   \n",
       "tt5001130                      Documentary      Time to Choose  ...   \n",
       "\n",
       "          facenumber_in_poster imdb_score   revenue filled_budget  \\\n",
       "imdb_id                                                             \n",
       "tt5215952                  0.0        7.7  47098491    10951000.0   \n",
       "tt5078326                  2.0        7.2         0    19000000.0   \n",
       "tt5001130                  0.0        7.0         0     3500000.0   \n",
       "\n",
       "           fixed_aspect  actor_1_facebook_likes  actor_2_facebook_likes  \\\n",
       "imdb_id                                                                   \n",
       "tt5215952          2.39                    45.0                     5.0   \n",
       "tt5078326          1.85                   541.0                     8.0   \n",
       "tt5001130          1.85                    21.0                     3.0   \n",
       "\n",
       "           actor_3_facebook_likes director_facebook_likes  \\\n",
       "imdb_id                                                     \n",
       "tt5215952                     0.0                    43.0   \n",
       "tt5078326                     2.0                    12.0   \n",
       "tt5001130                     0.0                   117.0   \n",
       "\n",
       "           cast_total_facebook_likes  \n",
       "imdb_id                               \n",
       "tt5215952                         50  \n",
       "tt5078326                        553  \n",
       "tt5001130                         24  \n",
       "\n",
       "[3 rows x 24 columns]"
      ]
     },
     "execution_count": 57,
     "metadata": {},
     "output_type": "execute_result"
    }
   ],
   "source": [
    "df_color_filled.head(3)"
   ]
  },
  {
   "cell_type": "code",
   "execution_count": 58,
   "metadata": {
    "ExecuteTime": {
     "end_time": "2020-04-04T22:39:44.213534Z",
     "start_time": "2020-04-04T22:39:44.209630Z"
    }
   },
   "outputs": [
    {
     "data": {
      "text/plain": [
       "0.0"
      ]
     },
     "execution_count": 58,
     "metadata": {},
     "output_type": "execute_result"
    }
   ],
   "source": [
    "df_color_filled.color.isna().mean()"
   ]
  },
  {
   "cell_type": "markdown",
   "metadata": {},
   "source": [
    "### Face Number in Poster"
   ]
  },
  {
   "cell_type": "code",
   "execution_count": 59,
   "metadata": {
    "ExecuteTime": {
     "end_time": "2020-04-04T22:39:44.362917Z",
     "start_time": "2020-04-04T22:39:44.214663Z"
    }
   },
   "outputs": [
    {
     "data": {
      "text/plain": [
       "<matplotlib.axes._subplots.AxesSubplot at 0x1360e6350>"
      ]
     },
     "execution_count": 59,
     "metadata": {},
     "output_type": "execute_result"
    },
    {
     "data": {
      "image/png": "[encoded data removed]",
      "text/plain": [
       "<Figure size 432x288 with 1 Axes>"
      ]
     },
     "metadata": {
      "needs_background": "light"
     },
     "output_type": "display_data"
    }
   ],
   "source": [
    "df_color_filled.facenumber_in_poster.value_counts().plot(kind='bar')"
   ]
  },
  {
   "cell_type": "markdown",
   "metadata": {},
   "source": [
    "Zero seems to be a placeholder for \"idk\" in this dataset, I'll drop this column."
   ]
  },
  {
   "cell_type": "code",
   "execution_count": 60,
   "metadata": {
    "ExecuteTime": {
     "end_time": "2020-04-04T22:39:44.392113Z",
     "start_time": "2020-04-04T22:39:44.364071Z"
    }
   },
   "outputs": [
    {
     "data": {
      "text/html": [
       "<div>\n",
       "<style scoped>\n",
       "    .dataframe tbody tr th:only-of-type {\n",
       "        vertical-align: middle;\n",
       "    }\n",
       "\n",
       "    .dataframe tbody tr th {\n",
       "        vertical-align: top;\n",
       "    }\n",
       "\n",
       "    .dataframe thead th {\n",
       "        text-align: right;\n",
       "    }\n",
       "</style>\n",
       "<table border=\"1\" class=\"dataframe\">\n",
       "  <thead>\n",
       "    <tr style=\"text-align: right;\">\n",
       "      <th></th>\n",
       "      <th>duration</th>\n",
       "      <th>adult</th>\n",
       "      <th>language</th>\n",
       "      <th>original_language</th>\n",
       "      <th>production_countries</th>\n",
       "      <th>runtime</th>\n",
       "      <th>spoken_languages</th>\n",
       "      <th>color</th>\n",
       "      <th>genres_api</th>\n",
       "      <th>title</th>\n",
       "      <th>...</th>\n",
       "      <th>content_rating</th>\n",
       "      <th>imdb_score</th>\n",
       "      <th>revenue</th>\n",
       "      <th>filled_budget</th>\n",
       "      <th>fixed_aspect</th>\n",
       "      <th>actor_1_facebook_likes</th>\n",
       "      <th>actor_2_facebook_likes</th>\n",
       "      <th>actor_3_facebook_likes</th>\n",
       "      <th>director_facebook_likes</th>\n",
       "      <th>cast_total_facebook_likes</th>\n",
       "    </tr>\n",
       "    <tr>\n",
       "      <th>imdb_id</th>\n",
       "      <th></th>\n",
       "      <th></th>\n",
       "      <th></th>\n",
       "      <th></th>\n",
       "      <th></th>\n",
       "      <th></th>\n",
       "      <th></th>\n",
       "      <th></th>\n",
       "      <th></th>\n",
       "      <th></th>\n",
       "      <th></th>\n",
       "      <th></th>\n",
       "      <th></th>\n",
       "      <th></th>\n",
       "      <th></th>\n",
       "      <th></th>\n",
       "      <th></th>\n",
       "      <th></th>\n",
       "      <th></th>\n",
       "      <th></th>\n",
       "      <th></th>\n",
       "    </tr>\n",
       "  </thead>\n",
       "  <tbody>\n",
       "    <tr>\n",
       "      <th>tt5215952</th>\n",
       "      <td>156.0</td>\n",
       "      <td>False</td>\n",
       "      <td>Korean</td>\n",
       "      <td>ko</td>\n",
       "      <td>[{'iso_3166_1': 'KR', 'name': 'South Korea'}]</td>\n",
       "      <td>156.0</td>\n",
       "      <td>[{'iso_639_1': 'de', 'name': 'Deutsch'}, {'iso...</td>\n",
       "      <td>Color</td>\n",
       "      <td>Fantasy|Horror|Mystery|Thriller</td>\n",
       "      <td>The Wailing</td>\n",
       "      <td>...</td>\n",
       "      <td>Unrated</td>\n",
       "      <td>7.7</td>\n",
       "      <td>47098491</td>\n",
       "      <td>10951000.0</td>\n",
       "      <td>2.39</td>\n",
       "      <td>45.0</td>\n",
       "      <td>5.0</td>\n",
       "      <td>0.0</td>\n",
       "      <td>43.0</td>\n",
       "      <td>50</td>\n",
       "    </tr>\n",
       "    <tr>\n",
       "      <th>tt5078326</th>\n",
       "      <td>102.0</td>\n",
       "      <td>False</td>\n",
       "      <td>French</td>\n",
       "      <td>fr</td>\n",
       "      <td>[{'iso_3166_1': 'FR', 'name': 'France'}]</td>\n",
       "      <td>102.0</td>\n",
       "      <td>[{'iso_639_1': 'fr', 'name': 'Français'}]</td>\n",
       "      <td>Color</td>\n",
       "      <td>Comedy|Drama</td>\n",
       "      <td>The Country Doctor</td>\n",
       "      <td>...</td>\n",
       "      <td>PG-13</td>\n",
       "      <td>7.2</td>\n",
       "      <td>0</td>\n",
       "      <td>19000000.0</td>\n",
       "      <td>1.85</td>\n",
       "      <td>541.0</td>\n",
       "      <td>8.0</td>\n",
       "      <td>2.0</td>\n",
       "      <td>12.0</td>\n",
       "      <td>553</td>\n",
       "    </tr>\n",
       "    <tr>\n",
       "      <th>tt5001130</th>\n",
       "      <td>100.0</td>\n",
       "      <td>False</td>\n",
       "      <td>English</td>\n",
       "      <td>en</td>\n",
       "      <td>[{'iso_3166_1': 'US', 'name': 'United States o...</td>\n",
       "      <td>100.0</td>\n",
       "      <td>[{'iso_639_1': 'en', 'name': 'English'}]</td>\n",
       "      <td>Color</td>\n",
       "      <td>Documentary</td>\n",
       "      <td>Time to Choose</td>\n",
       "      <td>...</td>\n",
       "      <td>PG-13</td>\n",
       "      <td>7.0</td>\n",
       "      <td>0</td>\n",
       "      <td>3500000.0</td>\n",
       "      <td>1.85</td>\n",
       "      <td>21.0</td>\n",
       "      <td>3.0</td>\n",
       "      <td>0.0</td>\n",
       "      <td>117.0</td>\n",
       "      <td>24</td>\n",
       "    </tr>\n",
       "    <tr>\n",
       "      <th>tt4939066</th>\n",
       "      <td>115.0</td>\n",
       "      <td>False</td>\n",
       "      <td>English</td>\n",
       "      <td>ko</td>\n",
       "      <td>[{'iso_3166_1': 'KR', 'name': 'South Korea'}]</td>\n",
       "      <td>111.0</td>\n",
       "      <td>[{'iso_639_1': 'en', 'name': 'English'}, {'iso...</td>\n",
       "      <td>Color</td>\n",
       "      <td>Action|Drama|History|War</td>\n",
       "      <td>Operation Chromite</td>\n",
       "      <td>...</td>\n",
       "      <td>PG-13</td>\n",
       "      <td>6.8</td>\n",
       "      <td>49196532</td>\n",
       "      <td>12660000.0</td>\n",
       "      <td>1.85</td>\n",
       "      <td>14000.0</td>\n",
       "      <td>81.0</td>\n",
       "      <td>29.0</td>\n",
       "      <td>32.0</td>\n",
       "      <td>14133</td>\n",
       "    </tr>\n",
       "    <tr>\n",
       "      <th>tt4871980</th>\n",
       "      <td>96.0</td>\n",
       "      <td>False</td>\n",
       "      <td>English</td>\n",
       "      <td>en</td>\n",
       "      <td>[{'iso_3166_1': 'US', 'name': 'United States o...</td>\n",
       "      <td>96.0</td>\n",
       "      <td>[{'iso_639_1': 'en', 'name': 'English'}]</td>\n",
       "      <td>Color</td>\n",
       "      <td>Comedy|Romance</td>\n",
       "      <td>The Perfect Match</td>\n",
       "      <td>...</td>\n",
       "      <td>R</td>\n",
       "      <td>4.5</td>\n",
       "      <td>0</td>\n",
       "      <td>5000000.0</td>\n",
       "      <td>1.85</td>\n",
       "      <td>927.0</td>\n",
       "      <td>509.0</td>\n",
       "      <td>503.0</td>\n",
       "      <td>23.0</td>\n",
       "      <td>3552</td>\n",
       "    </tr>\n",
       "  </tbody>\n",
       "</table>\n",
       "<p>5 rows × 23 columns</p>\n",
       "</div>"
      ],
      "text/plain": [
       "           duration  adult language original_language  \\\n",
       "imdb_id                                                 \n",
       "tt5215952     156.0  False   Korean                ko   \n",
       "tt5078326     102.0  False   French                fr   \n",
       "tt5001130     100.0  False  English                en   \n",
       "tt4939066     115.0  False  English                ko   \n",
       "tt4871980      96.0  False  English                en   \n",
       "\n",
       "                                        production_countries  runtime  \\\n",
       "imdb_id                                                                 \n",
       "tt5215952      [{'iso_3166_1': 'KR', 'name': 'South Korea'}]    156.0   \n",
       "tt5078326           [{'iso_3166_1': 'FR', 'name': 'France'}]    102.0   \n",
       "tt5001130  [{'iso_3166_1': 'US', 'name': 'United States o...    100.0   \n",
       "tt4939066      [{'iso_3166_1': 'KR', 'name': 'South Korea'}]    111.0   \n",
       "tt4871980  [{'iso_3166_1': 'US', 'name': 'United States o...     96.0   \n",
       "\n",
       "                                            spoken_languages  color  \\\n",
       "imdb_id                                                               \n",
       "tt5215952  [{'iso_639_1': 'de', 'name': 'Deutsch'}, {'iso...  Color   \n",
       "tt5078326          [{'iso_639_1': 'fr', 'name': 'Français'}]  Color   \n",
       "tt5001130           [{'iso_639_1': 'en', 'name': 'English'}]  Color   \n",
       "tt4939066  [{'iso_639_1': 'en', 'name': 'English'}, {'iso...  Color   \n",
       "tt4871980           [{'iso_639_1': 'en', 'name': 'English'}]  Color   \n",
       "\n",
       "                                genres_api               title  ...  \\\n",
       "imdb_id                                                         ...   \n",
       "tt5215952  Fantasy|Horror|Mystery|Thriller         The Wailing  ...   \n",
       "tt5078326                     Comedy|Drama  The Country Doctor  ...   \n",
       "tt5001130                      Documentary      Time to Choose  ...   \n",
       "tt4939066         Action|Drama|History|War  Operation Chromite  ...   \n",
       "tt4871980                   Comedy|Romance   The Perfect Match  ...   \n",
       "\n",
       "          content_rating imdb_score   revenue filled_budget  fixed_aspect  \\\n",
       "imdb_id                                                                     \n",
       "tt5215952        Unrated        7.7  47098491    10951000.0          2.39   \n",
       "tt5078326          PG-13        7.2         0    19000000.0          1.85   \n",
       "tt5001130          PG-13        7.0         0     3500000.0          1.85   \n",
       "tt4939066          PG-13        6.8  49196532    12660000.0          1.85   \n",
       "tt4871980              R        4.5         0     5000000.0          1.85   \n",
       "\n",
       "           actor_1_facebook_likes  actor_2_facebook_likes  \\\n",
       "imdb_id                                                     \n",
       "tt5215952                    45.0                     5.0   \n",
       "tt5078326                   541.0                     8.0   \n",
       "tt5001130                    21.0                     3.0   \n",
       "tt4939066                 14000.0                    81.0   \n",
       "tt4871980                   927.0                   509.0   \n",
       "\n",
       "          actor_3_facebook_likes  director_facebook_likes  \\\n",
       "imdb_id                                                     \n",
       "tt5215952                    0.0                     43.0   \n",
       "tt5078326                    2.0                     12.0   \n",
       "tt5001130                    0.0                    117.0   \n",
       "tt4939066                   29.0                     32.0   \n",
       "tt4871980                  503.0                     23.0   \n",
       "\n",
       "           cast_total_facebook_likes  \n",
       "imdb_id                               \n",
       "tt5215952                         50  \n",
       "tt5078326                        553  \n",
       "tt5001130                         24  \n",
       "tt4939066                      14133  \n",
       "tt4871980                       3552  \n",
       "\n",
       "[5 rows x 23 columns]"
      ]
     },
     "execution_count": 60,
     "metadata": {},
     "output_type": "execute_result"
    }
   ],
   "source": [
    "df_no_facenums = df_color_filled.drop(['facenumber_in_poster'],axis=1)\n",
    "del df_color_filled\n",
    "df_no_facenums.head()"
   ]
  },
  {
   "cell_type": "markdown",
   "metadata": {},
   "source": [
    "### Language (\"original... spoken... language\")"
   ]
  },
  {
   "cell_type": "code",
   "execution_count": 61,
   "metadata": {
    "ExecuteTime": {
     "end_time": "2020-04-04T22:39:44.409922Z",
     "start_time": "2020-04-04T22:39:44.393325Z"
    }
   },
   "outputs": [
    {
     "data": {
      "text/html": [
       "<div>\n",
       "<style scoped>\n",
       "    .dataframe tbody tr th:only-of-type {\n",
       "        vertical-align: middle;\n",
       "    }\n",
       "\n",
       "    .dataframe tbody tr th {\n",
       "        vertical-align: top;\n",
       "    }\n",
       "\n",
       "    .dataframe thead th {\n",
       "        text-align: right;\n",
       "    }\n",
       "</style>\n",
       "<table border=\"1\" class=\"dataframe\">\n",
       "  <thead>\n",
       "    <tr style=\"text-align: right;\">\n",
       "      <th></th>\n",
       "      <th>language</th>\n",
       "      <th>original_language</th>\n",
       "      <th>spoken_languages</th>\n",
       "    </tr>\n",
       "    <tr>\n",
       "      <th>imdb_id</th>\n",
       "      <th></th>\n",
       "      <th></th>\n",
       "      <th></th>\n",
       "    </tr>\n",
       "  </thead>\n",
       "  <tbody>\n",
       "    <tr>\n",
       "      <th>tt5215952</th>\n",
       "      <td>Korean</td>\n",
       "      <td>ko</td>\n",
       "      <td>[{'iso_639_1': 'de', 'name': 'Deutsch'}, {'iso...</td>\n",
       "    </tr>\n",
       "    <tr>\n",
       "      <th>tt5078326</th>\n",
       "      <td>French</td>\n",
       "      <td>fr</td>\n",
       "      <td>[{'iso_639_1': 'fr', 'name': 'Français'}]</td>\n",
       "    </tr>\n",
       "    <tr>\n",
       "      <th>tt5001130</th>\n",
       "      <td>English</td>\n",
       "      <td>en</td>\n",
       "      <td>[{'iso_639_1': 'en', 'name': 'English'}]</td>\n",
       "    </tr>\n",
       "    <tr>\n",
       "      <th>tt4939066</th>\n",
       "      <td>English</td>\n",
       "      <td>ko</td>\n",
       "      <td>[{'iso_639_1': 'en', 'name': 'English'}, {'iso...</td>\n",
       "    </tr>\n",
       "    <tr>\n",
       "      <th>tt4871980</th>\n",
       "      <td>English</td>\n",
       "      <td>en</td>\n",
       "      <td>[{'iso_639_1': 'en', 'name': 'English'}]</td>\n",
       "    </tr>\n",
       "    <tr>\n",
       "      <th>tt4824308</th>\n",
       "      <td>English</td>\n",
       "      <td>en</td>\n",
       "      <td>[{'iso_639_1': 'en', 'name': 'English'}]</td>\n",
       "    </tr>\n",
       "    <tr>\n",
       "      <th>tt4786282</th>\n",
       "      <td>English</td>\n",
       "      <td>en</td>\n",
       "      <td>[{'iso_639_1': 'en', 'name': 'English'}]</td>\n",
       "    </tr>\n",
       "    <tr>\n",
       "      <th>tt4733536</th>\n",
       "      <td>English</td>\n",
       "      <td>en</td>\n",
       "      <td>[{'iso_639_1': 'en', 'name': 'English'}]</td>\n",
       "    </tr>\n",
       "    <tr>\n",
       "      <th>tt4707756</th>\n",
       "      <td>Romanian</td>\n",
       "      <td>ro</td>\n",
       "      <td>[{'iso_639_1': 'ro', 'name': 'Română'}]</td>\n",
       "    </tr>\n",
       "    <tr>\n",
       "      <th>tt4704314</th>\n",
       "      <td>English</td>\n",
       "      <td>en</td>\n",
       "      <td>[{'iso_639_1': 'en', 'name': 'English'}]</td>\n",
       "    </tr>\n",
       "    <tr>\n",
       "      <th>tt4667094</th>\n",
       "      <td>English</td>\n",
       "      <td>en</td>\n",
       "      <td>[{'iso_639_1': 'en', 'name': 'English'}]</td>\n",
       "    </tr>\n",
       "    <tr>\n",
       "      <th>tt4651520</th>\n",
       "      <td>English</td>\n",
       "      <td>en</td>\n",
       "      <td>[{'iso_639_1': 'ru', 'name': 'Pусский'}, {'iso...</td>\n",
       "    </tr>\n",
       "    <tr>\n",
       "      <th>tt4591310</th>\n",
       "      <td>English</td>\n",
       "      <td>zh</td>\n",
       "      <td>[{'iso_639_1': 'zh', 'name': '普通话'}]</td>\n",
       "    </tr>\n",
       "    <tr>\n",
       "      <th>tt4590482</th>\n",
       "      <td>Urdu</td>\n",
       "      <td>ur</td>\n",
       "      <td>[{'iso_639_1': 'ur', 'name': 'اردو'}]</td>\n",
       "    </tr>\n",
       "    <tr>\n",
       "      <th>tt4519006</th>\n",
       "      <td>English</td>\n",
       "      <td>en</td>\n",
       "      <td>[{'iso_639_1': 'en', 'name': 'English'}]</td>\n",
       "    </tr>\n",
       "  </tbody>\n",
       "</table>\n",
       "</div>"
      ],
      "text/plain": [
       "           language original_language  \\\n",
       "imdb_id                                 \n",
       "tt5215952    Korean                ko   \n",
       "tt5078326    French                fr   \n",
       "tt5001130   English                en   \n",
       "tt4939066   English                ko   \n",
       "tt4871980   English                en   \n",
       "tt4824308   English                en   \n",
       "tt4786282   English                en   \n",
       "tt4733536   English                en   \n",
       "tt4707756  Romanian                ro   \n",
       "tt4704314   English                en   \n",
       "tt4667094   English                en   \n",
       "tt4651520   English                en   \n",
       "tt4591310   English                zh   \n",
       "tt4590482      Urdu                ur   \n",
       "tt4519006   English                en   \n",
       "\n",
       "                                            spoken_languages  \n",
       "imdb_id                                                       \n",
       "tt5215952  [{'iso_639_1': 'de', 'name': 'Deutsch'}, {'iso...  \n",
       "tt5078326          [{'iso_639_1': 'fr', 'name': 'Français'}]  \n",
       "tt5001130           [{'iso_639_1': 'en', 'name': 'English'}]  \n",
       "tt4939066  [{'iso_639_1': 'en', 'name': 'English'}, {'iso...  \n",
       "tt4871980           [{'iso_639_1': 'en', 'name': 'English'}]  \n",
       "tt4824308           [{'iso_639_1': 'en', 'name': 'English'}]  \n",
       "tt4786282           [{'iso_639_1': 'en', 'name': 'English'}]  \n",
       "tt4733536           [{'iso_639_1': 'en', 'name': 'English'}]  \n",
       "tt4707756            [{'iso_639_1': 'ro', 'name': 'Română'}]  \n",
       "tt4704314           [{'iso_639_1': 'en', 'name': 'English'}]  \n",
       "tt4667094           [{'iso_639_1': 'en', 'name': 'English'}]  \n",
       "tt4651520  [{'iso_639_1': 'ru', 'name': 'Pусский'}, {'iso...  \n",
       "tt4591310               [{'iso_639_1': 'zh', 'name': '普通话'}]  \n",
       "tt4590482              [{'iso_639_1': 'ur', 'name': 'اردو'}]  \n",
       "tt4519006           [{'iso_639_1': 'en', 'name': 'English'}]  "
      ]
     },
     "execution_count": 61,
     "metadata": {},
     "output_type": "execute_result"
    }
   ],
   "source": [
    "langs = df_no_facenums[[col for col in df_no_facenums.columns if \"language\" in col]]\n",
    "langs.head(15)"
   ]
  },
  {
   "cell_type": "code",
   "execution_count": 62,
   "metadata": {
    "ExecuteTime": {
     "end_time": "2020-04-04T22:39:44.416338Z",
     "start_time": "2020-04-04T22:39:44.410943Z"
    }
   },
   "outputs": [
    {
     "data": {
      "text/plain": [
       "language             0.001874\n",
       "original_language    0.000000\n",
       "spoken_languages     0.000000\n",
       "dtype: float64"
      ]
     },
     "execution_count": 62,
     "metadata": {},
     "output_type": "execute_result"
    }
   ],
   "source": [
    "langs.isna().mean()"
   ]
  },
  {
   "cell_type": "code",
   "execution_count": 63,
   "metadata": {
    "ExecuteTime": {
     "end_time": "2020-04-04T22:39:44.423452Z",
     "start_time": "2020-04-04T22:39:44.417599Z"
    }
   },
   "outputs": [
    {
     "data": {
      "text/plain": [
       "duration                                                                   NaN\n",
       "adult                                                                    False\n",
       "language                                                                  Urdu\n",
       "original_language                                                           ur\n",
       "production_countries                [{'iso_3166_1': 'PK', 'name': 'Pakistan'}]\n",
       "runtime                                                                    144\n",
       "spoken_languages                         [{'iso_639_1': 'ur', 'name': 'اردو'}]\n",
       "color                                                                    Color\n",
       "genres_api                                                       Comedy|Family\n",
       "title                                                        Karachi Se Lahore\n",
       "movie_title                                                 Karachi se Lahore \n",
       "original_title                                                  کراچی سے لاہور\n",
       "overview                     A road trip from Karachi to Lahore where 5 fri...\n",
       "content_rating                                                           PG-13\n",
       "imdb_score                                                                   7\n",
       "revenue                                                                1000000\n",
       "filled_budget                                                            1e+06\n",
       "fixed_aspect                                                              1.85\n",
       "actor_1_facebook_likes                                                       7\n",
       "actor_2_facebook_likes                                                       5\n",
       "actor_3_facebook_likes                                                       4\n",
       "director_facebook_likes                                                      3\n",
       "cast_total_facebook_likes                                                   19\n",
       "Name: tt4590482, dtype: object"
      ]
     },
     "execution_count": 63,
     "metadata": {},
     "output_type": "execute_result"
    }
   ],
   "source": [
    "df_no_facenums.iloc[13,:]"
   ]
  },
  {
   "cell_type": "markdown",
   "metadata": {},
   "source": [
    "The \"language\" column looks not great. \"original language\" is probably a better bet."
   ]
  },
  {
   "cell_type": "code",
   "execution_count": 64,
   "metadata": {
    "ExecuteTime": {
     "end_time": "2020-04-04T22:39:44.429606Z",
     "start_time": "2020-04-04T22:39:44.424613Z"
    }
   },
   "outputs": [
    {
     "data": {
      "text/plain": [
       "imdb_id\n",
       "tt0018737    [{'iso_639_1': 'xx', 'name': 'No Language'}]\n",
       "tt0017136    [{'iso_639_1': 'xx', 'name': 'No Language'}]\n",
       "tt0015624    [{'iso_639_1': 'xx', 'name': 'No Language'}]\n",
       "tt0011549    [{'iso_639_1': 'xx', 'name': 'No Language'}]\n",
       "tt0006864    [{'iso_639_1': 'xx', 'name': 'No Language'}]\n",
       "Name: spoken_languages, dtype: object"
      ]
     },
     "execution_count": 64,
     "metadata": {},
     "output_type": "execute_result"
    }
   ],
   "source": [
    "df_no_facenums.spoken_languages.tail()"
   ]
  },
  {
   "cell_type": "code",
   "execution_count": 65,
   "metadata": {
    "ExecuteTime": {
     "end_time": "2020-04-04T22:39:44.435282Z",
     "start_time": "2020-04-04T22:39:44.430917Z"
    }
   },
   "outputs": [
    {
     "data": {
      "text/plain": [
       "imdb_id\n",
       "tt0018737    de\n",
       "tt0017136    de\n",
       "tt0015624    en\n",
       "tt0011549    en\n",
       "tt0006864    en\n",
       "Name: original_language, dtype: object"
      ]
     },
     "execution_count": 65,
     "metadata": {},
     "output_type": "execute_result"
    }
   ],
   "source": [
    "df_no_facenums.original_language.tail()"
   ]
  },
  {
   "cell_type": "markdown",
   "metadata": {},
   "source": [
    "Yeah I think that's probably the best column."
   ]
  },
  {
   "cell_type": "code",
   "execution_count": 66,
   "metadata": {
    "ExecuteTime": {
     "end_time": "2020-04-04T22:39:44.443246Z",
     "start_time": "2020-04-04T22:39:44.437000Z"
    }
   },
   "outputs": [
    {
     "data": {
      "text/plain": [
       "en    4483\n",
       "fr      74\n",
       "es      34\n",
       "hi      29\n",
       "zh      27\n",
       "de      27\n",
       "ja      16\n",
       "cn      14\n",
       "ko      12\n",
       "ru      11\n",
       "Name: original_language, dtype: int64"
      ]
     },
     "execution_count": 66,
     "metadata": {},
     "output_type": "execute_result"
    }
   ],
   "source": [
    "df_no_facenums.original_language.value_counts().head(10)"
   ]
  },
  {
   "cell_type": "markdown",
   "metadata": {},
   "source": [
    "Using a python package to make language codes human-readable:"
   ]
  },
  {
   "cell_type": "code",
   "execution_count": 67,
   "metadata": {
    "ExecuteTime": {
     "end_time": "2020-04-04T22:39:44.481353Z",
     "start_time": "2020-04-04T22:39:44.444633Z"
    }
   },
   "outputs": [
    {
     "data": {
      "text/plain": [
       "[('aa', 'Afar'),\n",
       " ('ab', 'Abkhazian'),\n",
       " ('af', 'Afrikaans'),\n",
       " ('ak', 'Akan'),\n",
       " ('am', 'Amharic')]"
      ]
     },
     "execution_count": 67,
     "metadata": {},
     "output_type": "execute_result"
    }
   ],
   "source": [
    "lang_decoder = {lang.alpha_2: lang.name for lang in languages if hasattr(lang,'alpha_2')}\n",
    "list(lang_decoder.items())[:5]"
   ]
  },
  {
   "cell_type": "code",
   "execution_count": 68,
   "metadata": {
    "ExecuteTime": {
     "end_time": "2020-04-04T22:39:44.710446Z",
     "start_time": "2020-04-04T22:39:44.482473Z"
    }
   },
   "outputs": [
    {
     "data": {
      "text/plain": [
       "<matplotlib.axes._subplots.AxesSubplot at 0x136577a90>"
      ]
     },
     "execution_count": 68,
     "metadata": {},
     "output_type": "execute_result"
    },
    {
     "data": {
      "image/png": "[encoded data removed]",
      "text/plain": [
       "<Figure size 432x288 with 1 Axes>"
      ]
     },
     "metadata": {
      "needs_background": "light"
     },
     "output_type": "display_data"
    }
   ],
   "source": [
    "df_no_facenums.original_language = df_no_facenums.original_language.map(lang_decoder)\n",
    "df_no_facenums.original_language.value_counts()[2:].plot(kind='bar')"
   ]
  },
  {
   "cell_type": "markdown",
   "metadata": {},
   "source": [
    "Just eyeballing it...I think anything after German, in terms of frequency, is gonna have to go in \"other\""
   ]
  },
  {
   "cell_type": "markdown",
   "metadata": {},
   "source": [
    "Grabbing most popular languages:"
   ]
  },
  {
   "cell_type": "code",
   "execution_count": 69,
   "metadata": {
    "ExecuteTime": {
     "end_time": "2020-04-04T22:39:44.716221Z",
     "start_time": "2020-04-04T22:39:44.711708Z"
    }
   },
   "outputs": [
    {
     "data": {
      "text/plain": [
       "['English', 'French', 'Spanish']"
      ]
     },
     "execution_count": 69,
     "metadata": {},
     "output_type": "execute_result"
    }
   ],
   "source": [
    "top_langs = df_no_facenums.original_language.value_counts().index[:3].tolist()\n",
    "top_langs"
   ]
  },
  {
   "cell_type": "code",
   "execution_count": 70,
   "metadata": {
    "ExecuteTime": {
     "end_time": "2020-04-04T22:39:44.720150Z",
     "start_time": "2020-04-04T22:39:44.717627Z"
    }
   },
   "outputs": [],
   "source": [
    "def language_lumper(lang):\n",
    "    if lang not in top_langs:\n",
    "        return \"Other\"\n",
    "    else:\n",
    "        return lang"
   ]
  },
  {
   "cell_type": "code",
   "execution_count": 71,
   "metadata": {
    "ExecuteTime": {
     "end_time": "2020-04-04T22:39:44.724925Z",
     "start_time": "2020-04-04T22:39:44.721258Z"
    }
   },
   "outputs": [],
   "source": [
    "df_no_facenums.original_language = df_no_facenums.original_language.apply(language_lumper)"
   ]
  },
  {
   "cell_type": "code",
   "execution_count": 72,
   "metadata": {
    "ExecuteTime": {
     "end_time": "2020-04-04T22:39:44.730176Z",
     "start_time": "2020-04-04T22:39:44.726277Z"
    }
   },
   "outputs": [],
   "source": [
    "df_langs_lumped = df_no_facenums.drop(\"language spoken_languages\".split(),axis=1)\n",
    "del df_no_facenums\n",
    "del langs"
   ]
  },
  {
   "cell_type": "code",
   "execution_count": 73,
   "metadata": {
    "ExecuteTime": {
     "end_time": "2020-04-04T22:39:44.754646Z",
     "start_time": "2020-04-04T22:39:44.731438Z"
    }
   },
   "outputs": [
    {
     "data": {
      "text/html": [
       "<div>\n",
       "<style scoped>\n",
       "    .dataframe tbody tr th:only-of-type {\n",
       "        vertical-align: middle;\n",
       "    }\n",
       "\n",
       "    .dataframe tbody tr th {\n",
       "        vertical-align: top;\n",
       "    }\n",
       "\n",
       "    .dataframe thead th {\n",
       "        text-align: right;\n",
       "    }\n",
       "</style>\n",
       "<table border=\"1\" class=\"dataframe\">\n",
       "  <thead>\n",
       "    <tr style=\"text-align: right;\">\n",
       "      <th></th>\n",
       "      <th>duration</th>\n",
       "      <th>adult</th>\n",
       "      <th>original_language</th>\n",
       "      <th>production_countries</th>\n",
       "      <th>runtime</th>\n",
       "      <th>color</th>\n",
       "      <th>genres_api</th>\n",
       "      <th>title</th>\n",
       "      <th>movie_title</th>\n",
       "      <th>original_title</th>\n",
       "      <th>...</th>\n",
       "      <th>content_rating</th>\n",
       "      <th>imdb_score</th>\n",
       "      <th>revenue</th>\n",
       "      <th>filled_budget</th>\n",
       "      <th>fixed_aspect</th>\n",
       "      <th>actor_1_facebook_likes</th>\n",
       "      <th>actor_2_facebook_likes</th>\n",
       "      <th>actor_3_facebook_likes</th>\n",
       "      <th>director_facebook_likes</th>\n",
       "      <th>cast_total_facebook_likes</th>\n",
       "    </tr>\n",
       "    <tr>\n",
       "      <th>imdb_id</th>\n",
       "      <th></th>\n",
       "      <th></th>\n",
       "      <th></th>\n",
       "      <th></th>\n",
       "      <th></th>\n",
       "      <th></th>\n",
       "      <th></th>\n",
       "      <th></th>\n",
       "      <th></th>\n",
       "      <th></th>\n",
       "      <th></th>\n",
       "      <th></th>\n",
       "      <th></th>\n",
       "      <th></th>\n",
       "      <th></th>\n",
       "      <th></th>\n",
       "      <th></th>\n",
       "      <th></th>\n",
       "      <th></th>\n",
       "      <th></th>\n",
       "      <th></th>\n",
       "    </tr>\n",
       "  </thead>\n",
       "  <tbody>\n",
       "    <tr>\n",
       "      <th>tt5215952</th>\n",
       "      <td>156.0</td>\n",
       "      <td>False</td>\n",
       "      <td>Other</td>\n",
       "      <td>[{'iso_3166_1': 'KR', 'name': 'South Korea'}]</td>\n",
       "      <td>156.0</td>\n",
       "      <td>Color</td>\n",
       "      <td>Fantasy|Horror|Mystery|Thriller</td>\n",
       "      <td>The Wailing</td>\n",
       "      <td>The Wailing</td>\n",
       "      <td>곡성</td>\n",
       "      <td>...</td>\n",
       "      <td>Unrated</td>\n",
       "      <td>7.7</td>\n",
       "      <td>47098491</td>\n",
       "      <td>10951000.0</td>\n",
       "      <td>2.39</td>\n",
       "      <td>45.0</td>\n",
       "      <td>5.0</td>\n",
       "      <td>0.0</td>\n",
       "      <td>43.0</td>\n",
       "      <td>50</td>\n",
       "    </tr>\n",
       "    <tr>\n",
       "      <th>tt5078326</th>\n",
       "      <td>102.0</td>\n",
       "      <td>False</td>\n",
       "      <td>French</td>\n",
       "      <td>[{'iso_3166_1': 'FR', 'name': 'France'}]</td>\n",
       "      <td>102.0</td>\n",
       "      <td>Color</td>\n",
       "      <td>Comedy|Drama</td>\n",
       "      <td>The Country Doctor</td>\n",
       "      <td>Irreplaceable</td>\n",
       "      <td>Médecin de campagne</td>\n",
       "      <td>...</td>\n",
       "      <td>PG-13</td>\n",
       "      <td>7.2</td>\n",
       "      <td>0</td>\n",
       "      <td>19000000.0</td>\n",
       "      <td>1.85</td>\n",
       "      <td>541.0</td>\n",
       "      <td>8.0</td>\n",
       "      <td>2.0</td>\n",
       "      <td>12.0</td>\n",
       "      <td>553</td>\n",
       "    </tr>\n",
       "    <tr>\n",
       "      <th>tt5001130</th>\n",
       "      <td>100.0</td>\n",
       "      <td>False</td>\n",
       "      <td>English</td>\n",
       "      <td>[{'iso_3166_1': 'US', 'name': 'United States o...</td>\n",
       "      <td>100.0</td>\n",
       "      <td>Color</td>\n",
       "      <td>Documentary</td>\n",
       "      <td>Time to Choose</td>\n",
       "      <td>Time to Choose</td>\n",
       "      <td>Time to Choose</td>\n",
       "      <td>...</td>\n",
       "      <td>PG-13</td>\n",
       "      <td>7.0</td>\n",
       "      <td>0</td>\n",
       "      <td>3500000.0</td>\n",
       "      <td>1.85</td>\n",
       "      <td>21.0</td>\n",
       "      <td>3.0</td>\n",
       "      <td>0.0</td>\n",
       "      <td>117.0</td>\n",
       "      <td>24</td>\n",
       "    </tr>\n",
       "    <tr>\n",
       "      <th>tt4939066</th>\n",
       "      <td>115.0</td>\n",
       "      <td>False</td>\n",
       "      <td>Other</td>\n",
       "      <td>[{'iso_3166_1': 'KR', 'name': 'South Korea'}]</td>\n",
       "      <td>111.0</td>\n",
       "      <td>Color</td>\n",
       "      <td>Action|Drama|History|War</td>\n",
       "      <td>Operation Chromite</td>\n",
       "      <td>Operation Chromite</td>\n",
       "      <td>인천상륙작전</td>\n",
       "      <td>...</td>\n",
       "      <td>PG-13</td>\n",
       "      <td>6.8</td>\n",
       "      <td>49196532</td>\n",
       "      <td>12660000.0</td>\n",
       "      <td>1.85</td>\n",
       "      <td>14000.0</td>\n",
       "      <td>81.0</td>\n",
       "      <td>29.0</td>\n",
       "      <td>32.0</td>\n",
       "      <td>14133</td>\n",
       "    </tr>\n",
       "    <tr>\n",
       "      <th>tt4871980</th>\n",
       "      <td>96.0</td>\n",
       "      <td>False</td>\n",
       "      <td>English</td>\n",
       "      <td>[{'iso_3166_1': 'US', 'name': 'United States o...</td>\n",
       "      <td>96.0</td>\n",
       "      <td>Color</td>\n",
       "      <td>Comedy|Romance</td>\n",
       "      <td>The Perfect Match</td>\n",
       "      <td>The Perfect Match</td>\n",
       "      <td>The Perfect Match</td>\n",
       "      <td>...</td>\n",
       "      <td>R</td>\n",
       "      <td>4.5</td>\n",
       "      <td>0</td>\n",
       "      <td>5000000.0</td>\n",
       "      <td>1.85</td>\n",
       "      <td>927.0</td>\n",
       "      <td>509.0</td>\n",
       "      <td>503.0</td>\n",
       "      <td>23.0</td>\n",
       "      <td>3552</td>\n",
       "    </tr>\n",
       "  </tbody>\n",
       "</table>\n",
       "<p>5 rows × 21 columns</p>\n",
       "</div>"
      ],
      "text/plain": [
       "           duration  adult original_language  \\\n",
       "imdb_id                                        \n",
       "tt5215952     156.0  False             Other   \n",
       "tt5078326     102.0  False            French   \n",
       "tt5001130     100.0  False           English   \n",
       "tt4939066     115.0  False             Other   \n",
       "tt4871980      96.0  False           English   \n",
       "\n",
       "                                        production_countries  runtime  color  \\\n",
       "imdb_id                                                                        \n",
       "tt5215952      [{'iso_3166_1': 'KR', 'name': 'South Korea'}]    156.0  Color   \n",
       "tt5078326           [{'iso_3166_1': 'FR', 'name': 'France'}]    102.0  Color   \n",
       "tt5001130  [{'iso_3166_1': 'US', 'name': 'United States o...    100.0  Color   \n",
       "tt4939066      [{'iso_3166_1': 'KR', 'name': 'South Korea'}]    111.0  Color   \n",
       "tt4871980  [{'iso_3166_1': 'US', 'name': 'United States o...     96.0  Color   \n",
       "\n",
       "                                genres_api               title  \\\n",
       "imdb_id                                                          \n",
       "tt5215952  Fantasy|Horror|Mystery|Thriller         The Wailing   \n",
       "tt5078326                     Comedy|Drama  The Country Doctor   \n",
       "tt5001130                      Documentary      Time to Choose   \n",
       "tt4939066         Action|Drama|History|War  Operation Chromite   \n",
       "tt4871980                   Comedy|Romance   The Perfect Match   \n",
       "\n",
       "                   movie_title       original_title  ... content_rating  \\\n",
       "imdb_id                                              ...                  \n",
       "tt5215952         The Wailing                    곡성  ...        Unrated   \n",
       "tt5078326       Irreplaceable   Médecin de campagne  ...          PG-13   \n",
       "tt5001130      Time to Choose        Time to Choose  ...          PG-13   \n",
       "tt4939066  Operation Chromite                인천상륙작전  ...          PG-13   \n",
       "tt4871980   The Perfect Match     The Perfect Match  ...              R   \n",
       "\n",
       "          imdb_score   revenue  filled_budget  fixed_aspect  \\\n",
       "imdb_id                                                       \n",
       "tt5215952        7.7  47098491     10951000.0          2.39   \n",
       "tt5078326        7.2         0     19000000.0          1.85   \n",
       "tt5001130        7.0         0      3500000.0          1.85   \n",
       "tt4939066        6.8  49196532     12660000.0          1.85   \n",
       "tt4871980        4.5         0      5000000.0          1.85   \n",
       "\n",
       "          actor_1_facebook_likes  actor_2_facebook_likes  \\\n",
       "imdb_id                                                    \n",
       "tt5215952                   45.0                     5.0   \n",
       "tt5078326                  541.0                     8.0   \n",
       "tt5001130                   21.0                     3.0   \n",
       "tt4939066                14000.0                    81.0   \n",
       "tt4871980                  927.0                   509.0   \n",
       "\n",
       "           actor_3_facebook_likes  director_facebook_likes  \\\n",
       "imdb_id                                                      \n",
       "tt5215952                     0.0                     43.0   \n",
       "tt5078326                     2.0                     12.0   \n",
       "tt5001130                     0.0                    117.0   \n",
       "tt4939066                    29.0                     32.0   \n",
       "tt4871980                   503.0                     23.0   \n",
       "\n",
       "           cast_total_facebook_likes  \n",
       "imdb_id                               \n",
       "tt5215952                         50  \n",
       "tt5078326                        553  \n",
       "tt5001130                         24  \n",
       "tt4939066                      14133  \n",
       "tt4871980                       3552  \n",
       "\n",
       "[5 rows x 21 columns]"
      ]
     },
     "execution_count": 73,
     "metadata": {},
     "output_type": "execute_result"
    }
   ],
   "source": [
    "df_langs_lumped.head()"
   ]
  },
  {
   "cell_type": "code",
   "execution_count": 74,
   "metadata": {
    "ExecuteTime": {
     "end_time": "2020-04-04T22:39:44.854642Z",
     "start_time": "2020-04-04T22:39:44.755773Z"
    }
   },
   "outputs": [
    {
     "data": {
      "text/plain": [
       "<matplotlib.axes._subplots.AxesSubplot at 0x136450310>"
      ]
     },
     "execution_count": 74,
     "metadata": {},
     "output_type": "execute_result"
    },
    {
     "data": {
      "image/png": "[encoded data removed]",
      "text/plain": [
       "<Figure size 432x288 with 1 Axes>"
      ]
     },
     "metadata": {
      "needs_background": "light"
     },
     "output_type": "display_data"
    }
   ],
   "source": [
    "df_langs_lumped.original_language.value_counts().plot(kind='bar')"
   ]
  },
  {
   "cell_type": "markdown",
   "metadata": {},
   "source": [
    "***"
   ]
  },
  {
   "cell_type": "code",
   "execution_count": 75,
   "metadata": {
    "ExecuteTime": {
     "end_time": "2020-04-04T22:39:44.990387Z",
     "start_time": "2020-04-04T22:39:44.855764Z"
    }
   },
   "outputs": [
    {
     "data": {
      "image/png": "[encoded data removed]",
      "text/plain": [
       "<Figure size 1080x576 with 1 Axes>"
      ]
     },
     "metadata": {
      "needs_background": "light"
     },
     "output_type": "display_data"
    }
   ],
   "source": [
    "nulls = df_langs_lumped.isna().sum()[df_langs_lumped.isna().sum() > 0].sort_values(ascending=False)\n",
    "\n",
    "nulls.plot(kind='bar', figsize=(15,8)).plot()\n",
    "\n",
    "del nulls"
   ]
  },
  {
   "cell_type": "markdown",
   "metadata": {},
   "source": [
    "### Duration / Runtime"
   ]
  },
  {
   "cell_type": "code",
   "execution_count": 76,
   "metadata": {
    "ExecuteTime": {
     "end_time": "2020-04-04T22:39:44.998234Z",
     "start_time": "2020-04-04T22:39:44.991590Z"
    }
   },
   "outputs": [
    {
     "data": {
      "text/html": [
       "<div>\n",
       "<style scoped>\n",
       "    .dataframe tbody tr th:only-of-type {\n",
       "        vertical-align: middle;\n",
       "    }\n",
       "\n",
       "    .dataframe tbody tr th {\n",
       "        vertical-align: top;\n",
       "    }\n",
       "\n",
       "    .dataframe thead th {\n",
       "        text-align: right;\n",
       "    }\n",
       "</style>\n",
       "<table border=\"1\" class=\"dataframe\">\n",
       "  <thead>\n",
       "    <tr style=\"text-align: right;\">\n",
       "      <th></th>\n",
       "      <th>duration</th>\n",
       "      <th>runtime</th>\n",
       "    </tr>\n",
       "    <tr>\n",
       "      <th>imdb_id</th>\n",
       "      <th></th>\n",
       "      <th></th>\n",
       "    </tr>\n",
       "  </thead>\n",
       "  <tbody>\n",
       "    <tr>\n",
       "      <th>tt5215952</th>\n",
       "      <td>156.0</td>\n",
       "      <td>156.0</td>\n",
       "    </tr>\n",
       "    <tr>\n",
       "      <th>tt5078326</th>\n",
       "      <td>102.0</td>\n",
       "      <td>102.0</td>\n",
       "    </tr>\n",
       "    <tr>\n",
       "      <th>tt5001130</th>\n",
       "      <td>100.0</td>\n",
       "      <td>100.0</td>\n",
       "    </tr>\n",
       "    <tr>\n",
       "      <th>tt4939066</th>\n",
       "      <td>115.0</td>\n",
       "      <td>111.0</td>\n",
       "    </tr>\n",
       "    <tr>\n",
       "      <th>tt4871980</th>\n",
       "      <td>96.0</td>\n",
       "      <td>96.0</td>\n",
       "    </tr>\n",
       "  </tbody>\n",
       "</table>\n",
       "</div>"
      ],
      "text/plain": [
       "           duration  runtime\n",
       "imdb_id                     \n",
       "tt5215952     156.0    156.0\n",
       "tt5078326     102.0    102.0\n",
       "tt5001130     100.0    100.0\n",
       "tt4939066     115.0    111.0\n",
       "tt4871980      96.0     96.0"
      ]
     },
     "execution_count": 76,
     "metadata": {},
     "output_type": "execute_result"
    }
   ],
   "source": [
    "durs = df_langs_lumped[\"duration runtime\".split()]\n",
    "durs.head()"
   ]
  },
  {
   "cell_type": "markdown",
   "metadata": {
    "ExecuteTime": {
     "end_time": "2020-04-02T02:47:21.610275Z",
     "start_time": "2020-04-02T02:47:21.606596Z"
    }
   },
   "source": [
    "How different are these columns?"
   ]
  },
  {
   "cell_type": "code",
   "execution_count": 77,
   "metadata": {
    "ExecuteTime": {
     "end_time": "2020-04-04T22:39:45.112690Z",
     "start_time": "2020-04-04T22:39:44.999512Z"
    }
   },
   "outputs": [
    {
     "data": {
      "text/plain": [
       "0.9607679465776294"
      ]
     },
     "execution_count": 77,
     "metadata": {},
     "output_type": "execute_result"
    },
    {
     "data": {
      "image/png": "[encoded data removed]",
      "text/plain": [
       "<Figure size 432x288 with 1 Axes>"
      ]
     },
     "metadata": {
      "needs_background": "light"
     },
     "output_type": "display_data"
    }
   ],
   "source": [
    "(durs.duration - durs.runtime).plot(kind='hist')\n",
    "(durs.duration - durs.runtime).mean()"
   ]
  },
  {
   "cell_type": "markdown",
   "metadata": {},
   "source": [
    "Not very."
   ]
  },
  {
   "cell_type": "code",
   "execution_count": 78,
   "metadata": {
    "ExecuteTime": {
     "end_time": "2020-04-04T22:39:45.117760Z",
     "start_time": "2020-04-04T22:39:45.113886Z"
    }
   },
   "outputs": [],
   "source": [
    "df_langs_lumped.drop([\"duration\"],axis=1,inplace=True)"
   ]
  },
  {
   "cell_type": "code",
   "execution_count": 79,
   "metadata": {
    "ExecuteTime": {
     "end_time": "2020-04-04T22:39:45.126014Z",
     "start_time": "2020-04-04T22:39:45.119104Z"
    }
   },
   "outputs": [],
   "source": [
    "df_runtimes_filled = df_langs_lumped.assign(\n",
    "    durations=df_langs_lumped.runtime.fillna(\n",
    "        df_langs_lumped.runtime.median()\n",
    "    )\n",
    ").drop([\"runtime\"],axis=1)\n",
    "\n",
    "del df_langs_lumped\n",
    "del durs"
   ]
  },
  {
   "cell_type": "code",
   "execution_count": 80,
   "metadata": {
    "ExecuteTime": {
     "end_time": "2020-04-04T22:39:45.135365Z",
     "start_time": "2020-04-04T22:39:45.127182Z"
    }
   },
   "outputs": [
    {
     "data": {
      "text/plain": [
       "adult                        0.0\n",
       "original_language            0.0\n",
       "production_countries         0.0\n",
       "color                        0.0\n",
       "genres_api                   0.0\n",
       "title                        0.0\n",
       "movie_title                  0.0\n",
       "original_title               0.0\n",
       "overview                     0.0\n",
       "content_rating               0.0\n",
       "imdb_score                   0.0\n",
       "revenue                      0.0\n",
       "filled_budget                0.0\n",
       "fixed_aspect                 0.0\n",
       "actor_1_facebook_likes       0.0\n",
       "actor_2_facebook_likes       0.0\n",
       "actor_3_facebook_likes       0.0\n",
       "director_facebook_likes      0.0\n",
       "cast_total_facebook_likes    0.0\n",
       "durations                    0.0\n",
       "dtype: float64"
      ]
     },
     "execution_count": 80,
     "metadata": {},
     "output_type": "execute_result"
    }
   ],
   "source": [
    "df_runtimes_filled.isna().mean()"
   ]
  },
  {
   "cell_type": "markdown",
   "metadata": {},
   "source": [
    "**No more obvious nulls!**"
   ]
  },
  {
   "cell_type": "code",
   "execution_count": 81,
   "metadata": {
    "ExecuteTime": {
     "end_time": "2020-04-04T22:39:45.154162Z",
     "start_time": "2020-04-04T22:39:45.136651Z"
    }
   },
   "outputs": [],
   "source": [
    "df_runtimes_filled.to_pickle(\"../data/pickles/df_no_nulls.pkl\")"
   ]
  },
  {
   "cell_type": "markdown",
   "metadata": {},
   "source": [
    "## Categorical Columns"
   ]
  },
  {
   "cell_type": "code",
   "execution_count": 100,
   "metadata": {
    "ExecuteTime": {
     "end_time": "2020-04-04T22:43:41.057830Z",
     "start_time": "2020-04-04T22:43:41.043479Z"
    }
   },
   "outputs": [
    {
     "data": {
      "text/plain": [
       "['adult',\n",
       " 'original_language',\n",
       " 'production_countries',\n",
       " 'color',\n",
       " 'genres_api',\n",
       " 'title',\n",
       " 'movie_title',\n",
       " 'original_title',\n",
       " 'overview',\n",
       " 'content_rating',\n",
       " 'imdb_score',\n",
       " 'revenue',\n",
       " 'filled_budget',\n",
       " 'fixed_aspect',\n",
       " 'actor_1_facebook_likes',\n",
       " 'actor_2_facebook_likes',\n",
       " 'actor_3_facebook_likes',\n",
       " 'director_facebook_likes',\n",
       " 'cast_total_facebook_likes',\n",
       " 'durations']"
      ]
     },
     "execution_count": 100,
     "metadata": {},
     "output_type": "execute_result"
    }
   ],
   "source": [
    "df_no_nulls = pd.read_pickle(\"../data/pickles/df_no_nulls.pkl\")\n",
    "df_no_nulls.columns.tolist()"
   ]
  },
  {
   "cell_type": "markdown",
   "metadata": {},
   "source": [
    "### \"Adult\""
   ]
  },
  {
   "cell_type": "code",
   "execution_count": 101,
   "metadata": {
    "ExecuteTime": {
     "end_time": "2020-04-04T22:43:42.112229Z",
     "start_time": "2020-04-04T22:43:42.107367Z"
    }
   },
   "outputs": [
    {
     "data": {
      "text/plain": [
       "False    4803\n",
       "Name: adult, dtype: int64"
      ]
     },
     "execution_count": 101,
     "metadata": {},
     "output_type": "execute_result"
    }
   ],
   "source": [
    "df_no_nulls.adult.value_counts()"
   ]
  },
  {
   "cell_type": "markdown",
   "metadata": {},
   "source": [
    "Single-value column. Drop it"
   ]
  },
  {
   "cell_type": "code",
   "execution_count": 102,
   "metadata": {
    "ExecuteTime": {
     "end_time": "2020-04-04T22:43:42.912493Z",
     "start_time": "2020-04-04T22:43:42.908824Z"
    }
   },
   "outputs": [],
   "source": [
    "df_no_adult = df_no_nulls.drop([\"adult\"],axis=1)\n",
    "del df_no_nulls"
   ]
  },
  {
   "cell_type": "code",
   "execution_count": 103,
   "metadata": {
    "ExecuteTime": {
     "end_time": "2020-04-04T22:43:43.597680Z",
     "start_time": "2020-04-04T22:43:43.594498Z"
    }
   },
   "outputs": [
    {
     "data": {
      "text/plain": [
       "Index(['original_language', 'production_countries', 'color', 'genres_api',\n",
       "       'title', 'movie_title', 'original_title', 'overview', 'content_rating',\n",
       "       'imdb_score', 'revenue', 'filled_budget', 'fixed_aspect',\n",
       "       'actor_1_facebook_likes', 'actor_2_facebook_likes',\n",
       "       'actor_3_facebook_likes', 'director_facebook_likes',\n",
       "       'cast_total_facebook_likes', 'durations'],\n",
       "      dtype='object')"
      ]
     },
     "execution_count": 103,
     "metadata": {},
     "output_type": "execute_result"
    }
   ],
   "source": [
    "df_no_adult.columns"
   ]
  },
  {
   "cell_type": "markdown",
   "metadata": {},
   "source": [
    "### Production Countries"
   ]
  },
  {
   "cell_type": "code",
   "execution_count": 104,
   "metadata": {
    "ExecuteTime": {
     "end_time": "2020-04-04T22:43:44.247586Z",
     "start_time": "2020-04-04T22:43:44.242737Z"
    }
   },
   "outputs": [
    {
     "data": {
      "text/plain": [
       "imdb_id\n",
       "tt5215952        [{'iso_3166_1': 'KR', 'name': 'South Korea'}]\n",
       "tt5078326             [{'iso_3166_1': 'FR', 'name': 'France'}]\n",
       "tt5001130    [{'iso_3166_1': 'US', 'name': 'United States o...\n",
       "tt4939066        [{'iso_3166_1': 'KR', 'name': 'South Korea'}]\n",
       "tt4871980    [{'iso_3166_1': 'US', 'name': 'United States o...\n",
       "Name: production_countries, dtype: object"
      ]
     },
     "execution_count": 104,
     "metadata": {},
     "output_type": "execute_result"
    }
   ],
   "source": [
    "df_no_adult['production_countries'].head()"
   ]
  },
  {
   "cell_type": "markdown",
   "metadata": {},
   "source": [
    "Hmm list of dict. Let's just grab the human-readable names:"
   ]
  },
  {
   "cell_type": "code",
   "execution_count": 105,
   "metadata": {
    "ExecuteTime": {
     "end_time": "2020-04-04T22:43:44.895259Z",
     "start_time": "2020-04-04T22:43:44.892418Z"
    }
   },
   "outputs": [],
   "source": [
    "def prod_countries_extractor(countries):\n",
    "    if len(countries)!=0:\n",
    "        return {country['name'] for country in countries}\n",
    "    else:\n",
    "        return {}"
   ]
  },
  {
   "cell_type": "code",
   "execution_count": 106,
   "metadata": {
    "ExecuteTime": {
     "end_time": "2020-04-04T22:43:45.549012Z",
     "start_time": "2020-04-04T22:43:45.540033Z"
    }
   },
   "outputs": [],
   "source": [
    "df_no_adult.production_countries = df_no_adult.production_countries.apply(prod_countries_extractor)"
   ]
  },
  {
   "cell_type": "code",
   "execution_count": 107,
   "metadata": {
    "ExecuteTime": {
     "end_time": "2020-04-04T22:43:46.192834Z",
     "start_time": "2020-04-04T22:43:46.188625Z"
    }
   },
   "outputs": [
    {
     "data": {
      "text/plain": [
       "imdb_id\n",
       "tt4280822                    {United States of America}\n",
       "tt4273494                                            {}\n",
       "tt4263482    {United States of America, United Kingdom}\n",
       "tt4262980                                       {Japan}\n",
       "tt4257926                    {United States of America}\n",
       "Name: production_countries, dtype: object"
      ]
     },
     "execution_count": 107,
     "metadata": {},
     "output_type": "execute_result"
    }
   ],
   "source": [
    "df_no_adult.production_countries.iloc[29:34]"
   ]
  },
  {
   "cell_type": "code",
   "execution_count": 108,
   "metadata": {
    "ExecuteTime": {
     "end_time": "2020-04-04T22:43:46.938248Z",
     "start_time": "2020-04-04T22:43:46.819527Z"
    }
   },
   "outputs": [
    {
     "data": {
      "image/png": "[encoded data removed]",
      "text/plain": [
       "<Figure size 432x288 with 1 Axes>"
      ]
     },
     "metadata": {
      "needs_background": "light"
     },
     "output_type": "display_data"
    }
   ],
   "source": [
    "# Turns out pandas vectorized string operations work on lists too\n",
    "ax = df_no_adult.production_countries.str.len().value_counts().sort_index().plot(kind='bar')\n",
    "ax.set_xlabel(\"N countries\")\n",
    "ax.set_ylabel(\"N Films\")\n",
    "ax.plot()\n",
    "del ax"
   ]
  },
  {
   "cell_type": "markdown",
   "metadata": {},
   "source": [
    "I feel like that ^ can become an int column, after the zeroes are fixed"
   ]
  },
  {
   "cell_type": "code",
   "execution_count": 109,
   "metadata": {
    "ExecuteTime": {
     "end_time": "2020-04-04T22:43:47.584179Z",
     "start_time": "2020-04-04T22:43:47.564952Z"
    }
   },
   "outputs": [
    {
     "data": {
      "text/html": [
       "<div>\n",
       "<style scoped>\n",
       "    .dataframe tbody tr th:only-of-type {\n",
       "        vertical-align: middle;\n",
       "    }\n",
       "\n",
       "    .dataframe tbody tr th {\n",
       "        vertical-align: top;\n",
       "    }\n",
       "\n",
       "    .dataframe thead th {\n",
       "        text-align: right;\n",
       "    }\n",
       "</style>\n",
       "<table border=\"1\" class=\"dataframe\">\n",
       "  <thead>\n",
       "    <tr style=\"text-align: right;\">\n",
       "      <th></th>\n",
       "      <th>original_language</th>\n",
       "      <th>production_countries</th>\n",
       "      <th>color</th>\n",
       "      <th>genres_api</th>\n",
       "      <th>title</th>\n",
       "      <th>movie_title</th>\n",
       "      <th>original_title</th>\n",
       "      <th>overview</th>\n",
       "      <th>content_rating</th>\n",
       "      <th>imdb_score</th>\n",
       "      <th>revenue</th>\n",
       "      <th>filled_budget</th>\n",
       "      <th>fixed_aspect</th>\n",
       "      <th>actor_1_facebook_likes</th>\n",
       "      <th>actor_2_facebook_likes</th>\n",
       "      <th>actor_3_facebook_likes</th>\n",
       "      <th>director_facebook_likes</th>\n",
       "      <th>cast_total_facebook_likes</th>\n",
       "      <th>durations</th>\n",
       "    </tr>\n",
       "    <tr>\n",
       "      <th>imdb_id</th>\n",
       "      <th></th>\n",
       "      <th></th>\n",
       "      <th></th>\n",
       "      <th></th>\n",
       "      <th></th>\n",
       "      <th></th>\n",
       "      <th></th>\n",
       "      <th></th>\n",
       "      <th></th>\n",
       "      <th></th>\n",
       "      <th></th>\n",
       "      <th></th>\n",
       "      <th></th>\n",
       "      <th></th>\n",
       "      <th></th>\n",
       "      <th></th>\n",
       "      <th></th>\n",
       "      <th></th>\n",
       "      <th></th>\n",
       "    </tr>\n",
       "  </thead>\n",
       "  <tbody>\n",
       "    <tr>\n",
       "      <th>tt2141739</th>\n",
       "      <td>Other</td>\n",
       "      <td>{}</td>\n",
       "      <td>Color</td>\n",
       "      <td>Documentary|News</td>\n",
       "      <td>Food Chains</td>\n",
       "      <td>Food Chains</td>\n",
       "      <td>Food Chains</td>\n",
       "      <td></td>\n",
       "      <td>PG-13</td>\n",
       "      <td>7.1</td>\n",
       "      <td>0</td>\n",
       "      <td>913000.0</td>\n",
       "      <td>1.85</td>\n",
       "      <td>56.0</td>\n",
       "      <td>28.0</td>\n",
       "      <td>17.0</td>\n",
       "      <td>0.0</td>\n",
       "      <td>104</td>\n",
       "      <td>83.0</td>\n",
       "    </tr>\n",
       "    <tr>\n",
       "      <th>tt0473553</th>\n",
       "      <td>Other</td>\n",
       "      <td>{}</td>\n",
       "      <td>Color</td>\n",
       "      <td>Horror|Thriller</td>\n",
       "      <td>The Tooth Fairy</td>\n",
       "      <td>The Tooth Fairy</td>\n",
       "      <td>The Tooth Fairy</td>\n",
       "      <td>A woman and her daughter (Nicole Muñoz) encoun...</td>\n",
       "      <td>PG-13</td>\n",
       "      <td>4.6</td>\n",
       "      <td>0</td>\n",
       "      <td>1500000.0</td>\n",
       "      <td>1.77</td>\n",
       "      <td>598.0</td>\n",
       "      <td>555.0</td>\n",
       "      <td>235.0</td>\n",
       "      <td>42.0</td>\n",
       "      <td>2353</td>\n",
       "      <td>89.0</td>\n",
       "    </tr>\n",
       "    <tr>\n",
       "      <th>tt0432637</th>\n",
       "      <td>Other</td>\n",
       "      <td>{}</td>\n",
       "      <td>Color</td>\n",
       "      <td>Action|Adventure|Romance|Sci-Fi</td>\n",
       "      <td>Krrish</td>\n",
       "      <td>Krrish</td>\n",
       "      <td>कृष</td>\n",
       "      <td>In Singapore, Krishna is forced by circumstanc...</td>\n",
       "      <td>Unrated</td>\n",
       "      <td>6.3</td>\n",
       "      <td>0</td>\n",
       "      <td>10000000.0</td>\n",
       "      <td>2.39</td>\n",
       "      <td>307.0</td>\n",
       "      <td>200.0</td>\n",
       "      <td>45.0</td>\n",
       "      <td>53.0</td>\n",
       "      <td>616</td>\n",
       "      <td>174.0</td>\n",
       "    </tr>\n",
       "    <tr>\n",
       "      <th>tt0249588</th>\n",
       "      <td>Other</td>\n",
       "      <td>{}</td>\n",
       "      <td>Color</td>\n",
       "      <td>Action|Comedy|Romance|Thriller</td>\n",
       "      <td>Hum To Mohabbat Karega</td>\n",
       "      <td>Hum To Mohabbat Karega</td>\n",
       "      <td>Hum To Mohabbat Karega</td>\n",
       "      <td>A man lies about being an eyewitness to a murd...</td>\n",
       "      <td>PG-13</td>\n",
       "      <td>2.8</td>\n",
       "      <td>0</td>\n",
       "      <td>19000000.0</td>\n",
       "      <td>1.85</td>\n",
       "      <td>353.0</td>\n",
       "      <td>89.0</td>\n",
       "      <td>72.0</td>\n",
       "      <td>4.0</td>\n",
       "      <td>613</td>\n",
       "      <td>148.0</td>\n",
       "    </tr>\n",
       "  </tbody>\n",
       "</table>\n",
       "</div>"
      ],
      "text/plain": [
       "          original_language production_countries  color  \\\n",
       "imdb_id                                                   \n",
       "tt2141739             Other                   {}  Color   \n",
       "tt0473553             Other                   {}  Color   \n",
       "tt0432637             Other                   {}  Color   \n",
       "tt0249588             Other                   {}  Color   \n",
       "\n",
       "                                genres_api                   title  \\\n",
       "imdb_id                                                              \n",
       "tt2141739                 Documentary|News             Food Chains   \n",
       "tt0473553                  Horror|Thriller         The Tooth Fairy   \n",
       "tt0432637  Action|Adventure|Romance|Sci-Fi                  Krrish   \n",
       "tt0249588   Action|Comedy|Romance|Thriller  Hum To Mohabbat Karega   \n",
       "\n",
       "                       movie_title          original_title  \\\n",
       "imdb_id                                                      \n",
       "tt2141739             Food Chains              Food Chains   \n",
       "tt0473553         The Tooth Fairy          The Tooth Fairy   \n",
       "tt0432637                  Krrish                      कृष   \n",
       "tt0249588  Hum To Mohabbat Karega   Hum To Mohabbat Karega   \n",
       "\n",
       "                                                    overview content_rating  \\\n",
       "imdb_id                                                                       \n",
       "tt2141739                                                             PG-13   \n",
       "tt0473553  A woman and her daughter (Nicole Muñoz) encoun...          PG-13   \n",
       "tt0432637  In Singapore, Krishna is forced by circumstanc...        Unrated   \n",
       "tt0249588  A man lies about being an eyewitness to a murd...          PG-13   \n",
       "\n",
       "           imdb_score  revenue  filled_budget fixed_aspect  \\\n",
       "imdb_id                                                      \n",
       "tt2141739         7.1        0       913000.0         1.85   \n",
       "tt0473553         4.6        0      1500000.0         1.77   \n",
       "tt0432637         6.3        0     10000000.0         2.39   \n",
       "tt0249588         2.8        0     19000000.0         1.85   \n",
       "\n",
       "           actor_1_facebook_likes  actor_2_facebook_likes  \\\n",
       "imdb_id                                                     \n",
       "tt2141739                    56.0                    28.0   \n",
       "tt0473553                   598.0                   555.0   \n",
       "tt0432637                   307.0                   200.0   \n",
       "tt0249588                   353.0                    89.0   \n",
       "\n",
       "           actor_3_facebook_likes  director_facebook_likes  \\\n",
       "imdb_id                                                      \n",
       "tt2141739                    17.0                      0.0   \n",
       "tt0473553                   235.0                     42.0   \n",
       "tt0432637                    45.0                     53.0   \n",
       "tt0249588                    72.0                      4.0   \n",
       "\n",
       "           cast_total_facebook_likes  durations  \n",
       "imdb_id                                          \n",
       "tt2141739                        104       83.0  \n",
       "tt0473553                       2353       89.0  \n",
       "tt0432637                        616      174.0  \n",
       "tt0249588                        613      148.0  "
      ]
     },
     "execution_count": 109,
     "metadata": {},
     "output_type": "execute_result"
    }
   ],
   "source": [
    "# If it's not in English, can we guess where it was filmed?\n",
    "df_no_adult[(\n",
    "                df_no_adult.production_countries.str.len()==0\n",
    "            )&(\n",
    "                df_no_adult.original_language!=\"English\"\n",
    "            )]"
   ]
  },
  {
   "cell_type": "code",
   "execution_count": 110,
   "metadata": {
    "ExecuteTime": {
     "end_time": "2020-04-04T22:43:48.227064Z",
     "start_time": "2020-04-04T22:43:48.223018Z"
    }
   },
   "outputs": [
    {
     "name": "stderr",
     "output_type": "stream",
     "text": [
      "/Users/admin/.local/share/virtualenvs/Good-Film-Bad-Film-vaMlpeB4/lib/python3.7/site-packages/pandas/core/indexing.py:671: SettingWithCopyWarning: \n",
      "A value is trying to be set on a copy of a slice from a DataFrame\n",
      "\n",
      "See the caveats in the documentation: https://pandas.pydata.org/pandas-docs/stable/user_guide/indexing.html#returning-a-view-versus-a-copy\n",
      "  self._setitem_with_indexer(indexer, value)\n"
     ]
    }
   ],
   "source": [
    "guesses = {480:\"Germany\", \n",
    "           2051:\"Germany\",\n",
    "           2260:\"India\",\n",
    "           3242:\"India\"}\n",
    "\n",
    "for index, country in guesses.items():\n",
    "    df_no_adult['production_countries'].iloc[index] = country\n",
    "    \n",
    "del index\n",
    "del country"
   ]
  },
  {
   "cell_type": "code",
   "execution_count": 111,
   "metadata": {
    "ExecuteTime": {
     "end_time": "2020-04-04T22:43:52.919898Z",
     "start_time": "2020-04-04T22:43:52.901297Z"
    }
   },
   "outputs": [
    {
     "data": {
      "text/html": [
       "<div>\n",
       "<style scoped>\n",
       "    .dataframe tbody tr th:only-of-type {\n",
       "        vertical-align: middle;\n",
       "    }\n",
       "\n",
       "    .dataframe tbody tr th {\n",
       "        vertical-align: top;\n",
       "    }\n",
       "\n",
       "    .dataframe thead th {\n",
       "        text-align: right;\n",
       "    }\n",
       "</style>\n",
       "<table border=\"1\" class=\"dataframe\">\n",
       "  <thead>\n",
       "    <tr style=\"text-align: right;\">\n",
       "      <th></th>\n",
       "      <th>original_language</th>\n",
       "      <th>production_countries</th>\n",
       "      <th>color</th>\n",
       "      <th>genres_api</th>\n",
       "      <th>title</th>\n",
       "      <th>movie_title</th>\n",
       "      <th>original_title</th>\n",
       "      <th>overview</th>\n",
       "      <th>content_rating</th>\n",
       "      <th>imdb_score</th>\n",
       "      <th>revenue</th>\n",
       "      <th>filled_budget</th>\n",
       "      <th>fixed_aspect</th>\n",
       "      <th>actor_1_facebook_likes</th>\n",
       "      <th>actor_2_facebook_likes</th>\n",
       "      <th>actor_3_facebook_likes</th>\n",
       "      <th>director_facebook_likes</th>\n",
       "      <th>cast_total_facebook_likes</th>\n",
       "      <th>durations</th>\n",
       "    </tr>\n",
       "  </thead>\n",
       "  <tbody>\n",
       "    <tr>\n",
       "      <th>tt2111292</th>\n",
       "      <td>English</td>\n",
       "      <td>Germany</td>\n",
       "      <td>Color</td>\n",
       "      <td>Action</td>\n",
       "      <td>Diamond Ruff</td>\n",
       "      <td>Diamond Ruff</td>\n",
       "      <td>Diamond Ruff</td>\n",
       "      <td>Action - Orphan, con artist, crime boss and mi...</td>\n",
       "      <td>R</td>\n",
       "      <td>4.3</td>\n",
       "      <td>0</td>\n",
       "      <td>500000.0</td>\n",
       "      <td>1.85</td>\n",
       "      <td>472.0</td>\n",
       "      <td>251.0</td>\n",
       "      <td>237.0</td>\n",
       "      <td>5.0</td>\n",
       "      <td>1752</td>\n",
       "      <td>0.0</td>\n",
       "    </tr>\n",
       "    <tr>\n",
       "      <th>tt0462395</th>\n",
       "      <td>English</td>\n",
       "      <td>Germany</td>\n",
       "      <td>Color</td>\n",
       "      <td>Comedy|Romance</td>\n",
       "      <td>Larry the Cable Guy: Health Inspector</td>\n",
       "      <td>Larry the Cable Guy: Health Inspector</td>\n",
       "      <td>Larry the Cable Guy: Health Inspector</td>\n",
       "      <td>A slovenly cable repairman becomes a big-city ...</td>\n",
       "      <td>PG-13</td>\n",
       "      <td>3.1</td>\n",
       "      <td>0</td>\n",
       "      <td>4000000.0</td>\n",
       "      <td>1.33</td>\n",
       "      <td>690.0</td>\n",
       "      <td>400.0</td>\n",
       "      <td>323.0</td>\n",
       "      <td>0.0</td>\n",
       "      <td>2135</td>\n",
       "      <td>89.0</td>\n",
       "    </tr>\n",
       "    <tr>\n",
       "      <th>tt0421237</th>\n",
       "      <td>English</td>\n",
       "      <td>India</td>\n",
       "      <td>Color</td>\n",
       "      <td>Action|Thriller</td>\n",
       "      <td>Royal Kill</td>\n",
       "      <td>Royal Kill</td>\n",
       "      <td>Royal Kill</td>\n",
       "      <td>A fearsome warrior from the Kingdom of Samarza...</td>\n",
       "      <td>PG-13</td>\n",
       "      <td>3.2</td>\n",
       "      <td>0</td>\n",
       "      <td>350000.0</td>\n",
       "      <td>1.85</td>\n",
       "      <td>502.0</td>\n",
       "      <td>119.0</td>\n",
       "      <td>32.0</td>\n",
       "      <td>0.0</td>\n",
       "      <td>689</td>\n",
       "      <td>90.0</td>\n",
       "    </tr>\n",
       "    <tr>\n",
       "      <th>tt0229260</th>\n",
       "      <td>English</td>\n",
       "      <td>India</td>\n",
       "      <td>Color</td>\n",
       "      <td>Adventure|Fantasy|Horror|Mystery|Thriller</td>\n",
       "      <td>Book of Shadows: Blair Witch 2</td>\n",
       "      <td>Book of Shadows: Blair Witch 2</td>\n",
       "      <td>Book of Shadows: Blair Witch 2</td>\n",
       "      <td>Young adults become fascinated by the events o...</td>\n",
       "      <td>R</td>\n",
       "      <td>4.0</td>\n",
       "      <td>0</td>\n",
       "      <td>15000000.0</td>\n",
       "      <td>1.85</td>\n",
       "      <td>193.0</td>\n",
       "      <td>184.0</td>\n",
       "      <td>162.0</td>\n",
       "      <td>31.0</td>\n",
       "      <td>608</td>\n",
       "      <td>90.0</td>\n",
       "    </tr>\n",
       "  </tbody>\n",
       "</table>\n",
       "</div>"
      ],
      "text/plain": [
       "          original_language production_countries  color  \\\n",
       "tt2111292           English              Germany  Color   \n",
       "tt0462395           English              Germany  Color   \n",
       "tt0421237           English                India  Color   \n",
       "tt0229260           English                India  Color   \n",
       "\n",
       "                                          genres_api  \\\n",
       "tt2111292                                     Action   \n",
       "tt0462395                             Comedy|Romance   \n",
       "tt0421237                            Action|Thriller   \n",
       "tt0229260  Adventure|Fantasy|Horror|Mystery|Thriller   \n",
       "\n",
       "                                           title  \\\n",
       "tt2111292                           Diamond Ruff   \n",
       "tt0462395  Larry the Cable Guy: Health Inspector   \n",
       "tt0421237                             Royal Kill   \n",
       "tt0229260         Book of Shadows: Blair Witch 2   \n",
       "\n",
       "                                      movie_title  \\\n",
       "tt2111292                           Diamond Ruff    \n",
       "tt0462395  Larry the Cable Guy: Health Inspector    \n",
       "tt0421237                             Royal Kill    \n",
       "tt0229260         Book of Shadows: Blair Witch 2    \n",
       "\n",
       "                                  original_title  \\\n",
       "tt2111292                           Diamond Ruff   \n",
       "tt0462395  Larry the Cable Guy: Health Inspector   \n",
       "tt0421237                             Royal Kill   \n",
       "tt0229260         Book of Shadows: Blair Witch 2   \n",
       "\n",
       "                                                    overview content_rating  \\\n",
       "tt2111292  Action - Orphan, con artist, crime boss and mi...              R   \n",
       "tt0462395  A slovenly cable repairman becomes a big-city ...          PG-13   \n",
       "tt0421237  A fearsome warrior from the Kingdom of Samarza...          PG-13   \n",
       "tt0229260  Young adults become fascinated by the events o...              R   \n",
       "\n",
       "           imdb_score  revenue  filled_budget fixed_aspect  \\\n",
       "tt2111292         4.3        0       500000.0         1.85   \n",
       "tt0462395         3.1        0      4000000.0         1.33   \n",
       "tt0421237         3.2        0       350000.0         1.85   \n",
       "tt0229260         4.0        0     15000000.0         1.85   \n",
       "\n",
       "           actor_1_facebook_likes  actor_2_facebook_likes  \\\n",
       "tt2111292                   472.0                   251.0   \n",
       "tt0462395                   690.0                   400.0   \n",
       "tt0421237                   502.0                   119.0   \n",
       "tt0229260                   193.0                   184.0   \n",
       "\n",
       "           actor_3_facebook_likes  director_facebook_likes  \\\n",
       "tt2111292                   237.0                      5.0   \n",
       "tt0462395                   323.0                      0.0   \n",
       "tt0421237                    32.0                      0.0   \n",
       "tt0229260                   162.0                     31.0   \n",
       "\n",
       "           cast_total_facebook_likes  durations  \n",
       "tt2111292                       1752        0.0  \n",
       "tt0462395                       2135       89.0  \n",
       "tt0421237                        689       90.0  \n",
       "tt0229260                        608       90.0  "
      ]
     },
     "execution_count": 111,
     "metadata": {},
     "output_type": "execute_result"
    }
   ],
   "source": [
    "pd.DataFrame([df_no_adult.iloc[i,:] for i in guesses.keys()])"
   ]
  },
  {
   "cell_type": "code",
   "execution_count": 112,
   "metadata": {
    "ExecuteTime": {
     "end_time": "2020-04-04T22:44:00.630181Z",
     "start_time": "2020-04-04T22:44:00.628136Z"
    }
   },
   "outputs": [],
   "source": [
    "del guesses"
   ]
  },
  {
   "cell_type": "code",
   "execution_count": 113,
   "metadata": {
    "ExecuteTime": {
     "end_time": "2020-04-04T22:44:01.339371Z",
     "start_time": "2020-04-04T22:44:01.319278Z"
    }
   },
   "outputs": [
    {
     "ename": "TypeError",
     "evalue": "unhashable type: 'set'",
     "output_type": "error",
     "traceback": [
      "\u001b[0;31m---------------------------------------------------------------------------\u001b[0m",
      "\u001b[0;31mTypeError\u001b[0m                                 Traceback (most recent call last)",
      "\u001b[0;32mpandas/_libs/hashtable_class_helper.pxi\u001b[0m in \u001b[0;36mpandas._libs.hashtable.PyObjectHashTable.map_locations\u001b[0;34m()\u001b[0m\n",
      "\u001b[0;31mTypeError\u001b[0m: unhashable type: 'set'"
     ]
    },
    {
     "name": "stderr",
     "output_type": "stream",
     "text": [
      "Exception ignored in: 'pandas._libs.index.IndexEngine._call_map_locations'\n",
      "Traceback (most recent call last):\n",
      "  File \"pandas/_libs/hashtable_class_helper.pxi\", line 1653, in pandas._libs.hashtable.PyObjectHashTable.map_locations\n",
      "TypeError: unhashable type: 'set'\n"
     ]
    },
    {
     "data": {
      "text/plain": [
       "{United States of America}                    2990\n",
       "{United States of America, United Kingdom}     210\n",
       "{}                                             136\n",
       "{United States of America, Germany}            134\n",
       "{United Kingdom}                               127\n",
       "{Canada, United States of America}             103\n",
       "{United States of America, Australia}           55\n",
       "{France}                                        49\n",
       "{Canada}                                        45\n",
       "{United States of America, France}              43\n",
       "Name: production_countries, dtype: int64"
      ]
     },
     "execution_count": 113,
     "metadata": {},
     "output_type": "execute_result"
    }
   ],
   "source": [
    "df_no_adult.production_countries.value_counts().head(10)"
   ]
  },
  {
   "cell_type": "code",
   "execution_count": 114,
   "metadata": {
    "ExecuteTime": {
     "end_time": "2020-04-04T22:44:06.760243Z",
     "start_time": "2020-04-04T22:44:06.757562Z"
    }
   },
   "outputs": [],
   "source": [
    "def fill_with_USA(country_set):\n",
    "    return {\"United States of America\"} if country_set == {} else country_set"
   ]
  },
  {
   "cell_type": "code",
   "execution_count": 115,
   "metadata": {
    "ExecuteTime": {
     "end_time": "2020-04-04T22:44:09.592275Z",
     "start_time": "2020-04-04T22:44:09.588585Z"
    }
   },
   "outputs": [],
   "source": [
    "df_no_adult[\"production_countries\"] = df_no_adult.production_countries.apply(fill_with_USA)"
   ]
  },
  {
   "cell_type": "code",
   "execution_count": 116,
   "metadata": {
    "ExecuteTime": {
     "end_time": "2020-04-04T22:44:10.285301Z",
     "start_time": "2020-04-04T22:44:10.282613Z"
    }
   },
   "outputs": [],
   "source": [
    "df_filled_USA = df_no_adult.copy()\n",
    "del df_no_adult"
   ]
  },
  {
   "cell_type": "markdown",
   "metadata": {},
   "source": [
    "Might need to split into USA and not-USA to deal with class imbalance"
   ]
  },
  {
   "cell_type": "code",
   "execution_count": 117,
   "metadata": {
    "ExecuteTime": {
     "end_time": "2020-04-04T22:44:12.621408Z",
     "start_time": "2020-04-04T22:44:12.618935Z"
    }
   },
   "outputs": [],
   "source": [
    "def usa_or_not(country_set):\n",
    "    return 0 if country_set=={\"United States of America\"} else 1"
   ]
  },
  {
   "cell_type": "code",
   "execution_count": 118,
   "metadata": {
    "ExecuteTime": {
     "end_time": "2020-04-04T22:44:14.101476Z",
     "start_time": "2020-04-04T22:44:14.012526Z"
    }
   },
   "outputs": [
    {
     "data": {
      "image/png": "[encoded data removed]",
      "text/plain": [
       "<Figure size 432x288 with 1 Axes>"
      ]
     },
     "metadata": {
      "needs_background": "light"
     },
     "output_type": "display_data"
    }
   ],
   "source": [
    "ax = df_filled_USA.production_countries.apply(usa_or_not).value_counts().plot(kind='bar')\n",
    "ax.set_xlabel(\"Shot only in USA\")\n",
    "del ax"
   ]
  },
  {
   "cell_type": "code",
   "execution_count": 119,
   "metadata": {
    "ExecuteTime": {
     "end_time": "2020-04-04T22:44:15.488437Z",
     "start_time": "2020-04-04T22:44:15.483798Z"
    }
   },
   "outputs": [],
   "source": [
    "df_filled_USA['shot_only_in_USA'] = df_filled_USA.production_countries.apply(usa_or_not)"
   ]
  },
  {
   "cell_type": "code",
   "execution_count": 120,
   "metadata": {
    "ExecuteTime": {
     "end_time": "2020-04-04T22:44:17.726598Z",
     "start_time": "2020-04-04T22:44:17.723827Z"
    }
   },
   "outputs": [],
   "source": [
    "def shot_in_usa_and_abroad(country_set):\n",
    "    if len(country_set)>1 and \"United States of America\" in country_set:\n",
    "        return 1\n",
    "    else:\n",
    "        return 0"
   ]
  },
  {
   "cell_type": "code",
   "execution_count": 121,
   "metadata": {
    "ExecuteTime": {
     "end_time": "2020-04-04T22:44:19.106276Z",
     "start_time": "2020-04-04T22:44:19.101095Z"
    }
   },
   "outputs": [],
   "source": [
    "df_filled_USA['shot_in_USA_and_abroad'] = df_filled_USA.production_countries.apply(shot_in_usa_and_abroad)"
   ]
  },
  {
   "cell_type": "code",
   "execution_count": 122,
   "metadata": {
    "ExecuteTime": {
     "end_time": "2020-04-04T22:44:19.928829Z",
     "start_time": "2020-04-04T22:44:19.834883Z"
    }
   },
   "outputs": [
    {
     "data": {
      "text/plain": [
       "<matplotlib.axes._subplots.AxesSubplot at 0x138575d90>"
      ]
     },
     "execution_count": 122,
     "metadata": {},
     "output_type": "execute_result"
    },
    {
     "data": {
      "image/png": "[encoded data removed]",
      "text/plain": [
       "<Figure size 432x288 with 1 Axes>"
      ]
     },
     "metadata": {
      "needs_background": "light"
     },
     "output_type": "display_data"
    }
   ],
   "source": [
    "df_filled_USA['shot_in_USA_and_abroad'].value_counts().plot(kind='bar')"
   ]
  },
  {
   "cell_type": "code",
   "execution_count": 123,
   "metadata": {
    "ExecuteTime": {
     "end_time": "2020-04-04T22:44:20.676362Z",
     "start_time": "2020-04-04T22:44:20.584176Z"
    }
   },
   "outputs": [
    {
     "data": {
      "text/plain": [
       "<matplotlib.axes._subplots.AxesSubplot at 0x138519610>"
      ]
     },
     "execution_count": 123,
     "metadata": {},
     "output_type": "execute_result"
    },
    {
     "data": {
      "image/png": "[encoded data removed]",
      "text/plain": [
       "<Figure size 432x288 with 1 Axes>"
      ]
     },
     "metadata": {
      "needs_background": "light"
     },
     "output_type": "display_data"
    }
   ],
   "source": [
    "df_filled_USA['n_production_countries'] = df_filled_USA.production_countries.str.len()\n",
    "df_filled_USA['n_production_countries'].plot(kind='box')"
   ]
  },
  {
   "cell_type": "code",
   "execution_count": 124,
   "metadata": {
    "ExecuteTime": {
     "end_time": "2020-04-04T22:44:22.503746Z",
     "start_time": "2020-04-04T22:44:22.499593Z"
    }
   },
   "outputs": [],
   "source": [
    "df_n_countries = df_filled_USA.drop([\"production_countries\"],axis=1)"
   ]
  },
  {
   "cell_type": "code",
   "execution_count": 125,
   "metadata": {
    "ExecuteTime": {
     "end_time": "2020-04-04T22:44:23.314137Z",
     "start_time": "2020-04-04T22:44:23.311966Z"
    }
   },
   "outputs": [],
   "source": [
    "del df_filled_USA"
   ]
  },
  {
   "cell_type": "code",
   "execution_count": 126,
   "metadata": {
    "ExecuteTime": {
     "end_time": "2020-04-04T22:44:23.966148Z",
     "start_time": "2020-04-04T22:44:23.962777Z"
    }
   },
   "outputs": [
    {
     "data": {
      "text/plain": [
       "['original_language',\n",
       " 'color',\n",
       " 'genres_api',\n",
       " 'title',\n",
       " 'movie_title',\n",
       " 'original_title',\n",
       " 'overview',\n",
       " 'content_rating',\n",
       " 'imdb_score',\n",
       " 'revenue',\n",
       " 'filled_budget',\n",
       " 'fixed_aspect',\n",
       " 'actor_1_facebook_likes',\n",
       " 'actor_2_facebook_likes',\n",
       " 'actor_3_facebook_likes',\n",
       " 'director_facebook_likes',\n",
       " 'cast_total_facebook_likes',\n",
       " 'durations',\n",
       " 'shot_only_in_USA',\n",
       " 'shot_in_USA_and_abroad',\n",
       " 'n_production_countries']"
      ]
     },
     "execution_count": 126,
     "metadata": {},
     "output_type": "execute_result"
    }
   ],
   "source": [
    "df_n_countries.columns.tolist()"
   ]
  },
  {
   "cell_type": "markdown",
   "metadata": {},
   "source": [
    "### Genre"
   ]
  },
  {
   "cell_type": "code",
   "execution_count": 127,
   "metadata": {
    "ExecuteTime": {
     "end_time": "2020-04-04T22:44:28.155765Z",
     "start_time": "2020-04-04T22:44:28.144818Z"
    }
   },
   "outputs": [],
   "source": [
    "df_n_countries['genre'] = df_n_countries['genres_api'].str.split(\"|\")\n",
    "df_n_countries['genre'] = df_n_countries['genre'].apply(lambda x: set(x))\n",
    "del df_n_countries[\"genres_api\"]"
   ]
  },
  {
   "cell_type": "code",
   "execution_count": 128,
   "metadata": {
    "ExecuteTime": {
     "end_time": "2020-04-04T22:44:28.906202Z",
     "start_time": "2020-04-04T22:44:28.860544Z"
    }
   },
   "outputs": [
    {
     "ename": "TypeError",
     "evalue": "unhashable type: 'set'",
     "output_type": "error",
     "traceback": [
      "\u001b[0;31m---------------------------------------------------------------------------\u001b[0m",
      "\u001b[0;31mTypeError\u001b[0m                                 Traceback (most recent call last)",
      "\u001b[0;32mpandas/_libs/hashtable_class_helper.pxi\u001b[0m in \u001b[0;36mpandas._libs.hashtable.PyObjectHashTable.map_locations\u001b[0;34m()\u001b[0m\n",
      "\u001b[0;31mTypeError\u001b[0m: unhashable type: 'set'"
     ]
    },
    {
     "name": "stderr",
     "output_type": "stream",
     "text": [
      "Exception ignored in: 'pandas._libs.index.IndexEngine._call_map_locations'\n",
      "Traceback (most recent call last):\n",
      "  File \"pandas/_libs/hashtable_class_helper.pxi\", line 1653, in pandas._libs.hashtable.PyObjectHashTable.map_locations\n",
      "TypeError: unhashable type: 'set'\n"
     ]
    },
    {
     "data": {
      "text/plain": [
       "{Drama}                              230\n",
       "{Comedy}                             196\n",
       "{Drama, Comedy}                      187\n",
       "{Drama, Romance, Comedy}             182\n",
       "{Romance, Comedy}                    152\n",
       "{Drama, Romance}                     147\n",
       "{Crime, Thriller, Drama}              95\n",
       "{Horror}                              67\n",
       "{Crime, Action, Thriller}             62\n",
       "{Drama, Thriller}                     61\n",
       "{Crime, Thriller, Action, Drama}      61\n",
       "{Crime, Drama}                        58\n",
       "{Thriller, Horror}                    52\n",
       "{Crime, Thriller, Drama, Mystery}     50\n",
       "{Crime, Comedy}                       49\n",
       "{Documentary}                         48\n",
       "{Adventure, Action, Sci-Fi}           48\n",
       "{Adventure, Action, Thriller}         44\n",
       "{Biography, Drama}                    35\n",
       "{Drama, Thriller, Mystery}            35\n",
       "Name: genre, dtype: int64"
      ]
     },
     "execution_count": 128,
     "metadata": {},
     "output_type": "execute_result"
    }
   ],
   "source": [
    "df_n_countries['genre'].apply(lambda x: set(x)).value_counts().head(20)"
   ]
  },
  {
   "cell_type": "code",
   "execution_count": 129,
   "metadata": {
    "ExecuteTime": {
     "end_time": "2020-04-04T22:44:31.118477Z",
     "start_time": "2020-04-04T22:44:31.116259Z"
    }
   },
   "outputs": [],
   "source": [
    "genre_cats = \"Drama Comedy Romance Crime Thriller Horror Action Mystery Sci-Fi Adventure Documentary\".split()"
   ]
  },
  {
   "cell_type": "code",
   "execution_count": 130,
   "metadata": {
    "ExecuteTime": {
     "end_time": "2020-04-04T22:44:36.375332Z",
     "start_time": "2020-04-04T22:44:36.372356Z"
    }
   },
   "outputs": [],
   "source": [
    "def genre_encoder(genre_set):\n",
    "    new = pd.Series(0, index=genre_cats)\n",
    "    for genre in genre_set:\n",
    "        if genre in genre_cats:\n",
    "            new[genre] = 1\n",
    "    return new"
   ]
  },
  {
   "cell_type": "code",
   "execution_count": 131,
   "metadata": {
    "ExecuteTime": {
     "end_time": "2020-04-04T22:44:37.089506Z",
     "start_time": "2020-04-04T22:44:37.084810Z"
    }
   },
   "outputs": [
    {
     "data": {
      "text/plain": [
       "imdb_id\n",
       "tt5215952    {Fantasy, Thriller, Horror, Mystery}\n",
       "tt5078326                         {Drama, Comedy}\n",
       "tt5001130                           {Documentary}\n",
       "tt4939066           {War, Drama, Action, History}\n",
       "tt4871980                       {Romance, Comedy}\n",
       "Name: genre, dtype: object"
      ]
     },
     "execution_count": 131,
     "metadata": {},
     "output_type": "execute_result"
    }
   ],
   "source": [
    "df_n_countries.genre.head()"
   ]
  },
  {
   "cell_type": "code",
   "execution_count": 132,
   "metadata": {
    "ExecuteTime": {
     "end_time": "2020-04-04T22:44:37.747020Z",
     "start_time": "2020-04-04T22:44:37.736732Z"
    }
   },
   "outputs": [
    {
     "data": {
      "text/html": [
       "<div>\n",
       "<style scoped>\n",
       "    .dataframe tbody tr th:only-of-type {\n",
       "        vertical-align: middle;\n",
       "    }\n",
       "\n",
       "    .dataframe tbody tr th {\n",
       "        vertical-align: top;\n",
       "    }\n",
       "\n",
       "    .dataframe thead th {\n",
       "        text-align: right;\n",
       "    }\n",
       "</style>\n",
       "<table border=\"1\" class=\"dataframe\">\n",
       "  <thead>\n",
       "    <tr style=\"text-align: right;\">\n",
       "      <th></th>\n",
       "      <th>Drama</th>\n",
       "      <th>Comedy</th>\n",
       "      <th>Romance</th>\n",
       "      <th>Crime</th>\n",
       "      <th>Thriller</th>\n",
       "      <th>Horror</th>\n",
       "      <th>Action</th>\n",
       "      <th>Mystery</th>\n",
       "      <th>Sci-Fi</th>\n",
       "      <th>Adventure</th>\n",
       "      <th>Documentary</th>\n",
       "    </tr>\n",
       "    <tr>\n",
       "      <th>imdb_id</th>\n",
       "      <th></th>\n",
       "      <th></th>\n",
       "      <th></th>\n",
       "      <th></th>\n",
       "      <th></th>\n",
       "      <th></th>\n",
       "      <th></th>\n",
       "      <th></th>\n",
       "      <th></th>\n",
       "      <th></th>\n",
       "      <th></th>\n",
       "    </tr>\n",
       "  </thead>\n",
       "  <tbody>\n",
       "    <tr>\n",
       "      <th>tt5215952</th>\n",
       "      <td>0</td>\n",
       "      <td>0</td>\n",
       "      <td>0</td>\n",
       "      <td>0</td>\n",
       "      <td>1</td>\n",
       "      <td>1</td>\n",
       "      <td>0</td>\n",
       "      <td>1</td>\n",
       "      <td>0</td>\n",
       "      <td>0</td>\n",
       "      <td>0</td>\n",
       "    </tr>\n",
       "    <tr>\n",
       "      <th>tt5078326</th>\n",
       "      <td>1</td>\n",
       "      <td>1</td>\n",
       "      <td>0</td>\n",
       "      <td>0</td>\n",
       "      <td>0</td>\n",
       "      <td>0</td>\n",
       "      <td>0</td>\n",
       "      <td>0</td>\n",
       "      <td>0</td>\n",
       "      <td>0</td>\n",
       "      <td>0</td>\n",
       "    </tr>\n",
       "    <tr>\n",
       "      <th>tt5001130</th>\n",
       "      <td>0</td>\n",
       "      <td>0</td>\n",
       "      <td>0</td>\n",
       "      <td>0</td>\n",
       "      <td>0</td>\n",
       "      <td>0</td>\n",
       "      <td>0</td>\n",
       "      <td>0</td>\n",
       "      <td>0</td>\n",
       "      <td>0</td>\n",
       "      <td>1</td>\n",
       "    </tr>\n",
       "    <tr>\n",
       "      <th>tt4939066</th>\n",
       "      <td>1</td>\n",
       "      <td>0</td>\n",
       "      <td>0</td>\n",
       "      <td>0</td>\n",
       "      <td>0</td>\n",
       "      <td>0</td>\n",
       "      <td>1</td>\n",
       "      <td>0</td>\n",
       "      <td>0</td>\n",
       "      <td>0</td>\n",
       "      <td>0</td>\n",
       "    </tr>\n",
       "    <tr>\n",
       "      <th>tt4871980</th>\n",
       "      <td>0</td>\n",
       "      <td>1</td>\n",
       "      <td>1</td>\n",
       "      <td>0</td>\n",
       "      <td>0</td>\n",
       "      <td>0</td>\n",
       "      <td>0</td>\n",
       "      <td>0</td>\n",
       "      <td>0</td>\n",
       "      <td>0</td>\n",
       "      <td>0</td>\n",
       "    </tr>\n",
       "  </tbody>\n",
       "</table>\n",
       "</div>"
      ],
      "text/plain": [
       "           Drama  Comedy  Romance  Crime  Thriller  Horror  Action  Mystery  \\\n",
       "imdb_id                                                                       \n",
       "tt5215952      0       0        0      0         1       1       0        1   \n",
       "tt5078326      1       1        0      0         0       0       0        0   \n",
       "tt5001130      0       0        0      0         0       0       0        0   \n",
       "tt4939066      1       0        0      0         0       0       1        0   \n",
       "tt4871980      0       1        1      0         0       0       0        0   \n",
       "\n",
       "           Sci-Fi  Adventure  Documentary  \n",
       "imdb_id                                    \n",
       "tt5215952       0          0            0  \n",
       "tt5078326       0          0            0  \n",
       "tt5001130       0          0            1  \n",
       "tt4939066       0          0            0  \n",
       "tt4871980       0          0            0  "
      ]
     },
     "execution_count": 132,
     "metadata": {},
     "output_type": "execute_result"
    }
   ],
   "source": [
    "df_n_countries.genre.head().apply(genre_encoder)"
   ]
  },
  {
   "cell_type": "code",
   "execution_count": 133,
   "metadata": {
    "ExecuteTime": {
     "end_time": "2020-04-04T22:44:40.119754Z",
     "start_time": "2020-04-04T22:44:38.708710Z"
    }
   },
   "outputs": [],
   "source": [
    "genre_matrix = df_n_countries.genre.apply(genre_encoder)"
   ]
  },
  {
   "cell_type": "code",
   "execution_count": 134,
   "metadata": {
    "ExecuteTime": {
     "end_time": "2020-04-04T22:44:40.805791Z",
     "start_time": "2020-04-04T22:44:40.802935Z"
    }
   },
   "outputs": [],
   "source": [
    "del df_n_countries['genre']"
   ]
  },
  {
   "cell_type": "code",
   "execution_count": 135,
   "metadata": {
    "ExecuteTime": {
     "end_time": "2020-04-04T22:44:42.886271Z",
     "start_time": "2020-04-04T22:44:42.883299Z"
    }
   },
   "outputs": [],
   "source": [
    "genre_matrix.columns = [\"\".join([\"genre_\", col]) for col in genre_matrix.columns.tolist()]"
   ]
  },
  {
   "cell_type": "code",
   "execution_count": 136,
   "metadata": {
    "ExecuteTime": {
     "end_time": "2020-04-04T22:44:43.711314Z",
     "start_time": "2020-04-04T22:44:43.707117Z"
    }
   },
   "outputs": [],
   "source": [
    "df_encoded_genres = pd.concat([df_n_countries,genre_matrix],axis=1)"
   ]
  },
  {
   "cell_type": "code",
   "execution_count": 137,
   "metadata": {
    "ExecuteTime": {
     "end_time": "2020-04-04T22:44:44.513030Z",
     "start_time": "2020-04-04T22:44:44.510815Z"
    }
   },
   "outputs": [],
   "source": [
    "del df_n_countries\n",
    "del genre_matrix\n",
    "del genre_cats"
   ]
  },
  {
   "cell_type": "code",
   "execution_count": 138,
   "metadata": {
    "ExecuteTime": {
     "end_time": "2020-04-04T22:44:45.140097Z",
     "start_time": "2020-04-04T22:44:45.130835Z"
    }
   },
   "outputs": [],
   "source": [
    "df_encoded_genres.to_pickle(\"../data/pickles/df_encoded_genres.pkl\")"
   ]
  },
  {
   "cell_type": "markdown",
   "metadata": {},
   "source": [
    "## Numerical Columns"
   ]
  },
  {
   "cell_type": "code",
   "execution_count": 139,
   "metadata": {
    "ExecuteTime": {
     "end_time": "2020-04-04T22:44:46.484519Z",
     "start_time": "2020-04-04T22:44:46.475442Z"
    }
   },
   "outputs": [],
   "source": [
    "df_encoded_genres = pd.read_pickle(\"../data/pickles/df_encoded_genres.pkl\")"
   ]
  },
  {
   "cell_type": "code",
   "execution_count": 140,
   "metadata": {
    "ExecuteTime": {
     "end_time": "2020-04-04T22:44:47.156865Z",
     "start_time": "2020-04-04T22:44:47.153497Z"
    },
    "scrolled": true
   },
   "outputs": [
    {
     "data": {
      "text/plain": [
       "Index(['original_language', 'color', 'title', 'movie_title', 'original_title',\n",
       "       'overview', 'content_rating', 'imdb_score', 'revenue', 'filled_budget',\n",
       "       'fixed_aspect', 'actor_1_facebook_likes', 'actor_2_facebook_likes',\n",
       "       'actor_3_facebook_likes', 'director_facebook_likes',\n",
       "       'cast_total_facebook_likes', 'durations', 'shot_only_in_USA',\n",
       "       'shot_in_USA_and_abroad', 'n_production_countries', 'genre_Drama',\n",
       "       'genre_Comedy', 'genre_Romance', 'genre_Crime', 'genre_Thriller',\n",
       "       'genre_Horror', 'genre_Action', 'genre_Mystery', 'genre_Sci-Fi',\n",
       "       'genre_Adventure', 'genre_Documentary'],\n",
       "      dtype='object')"
      ]
     },
     "execution_count": 140,
     "metadata": {},
     "output_type": "execute_result"
    }
   ],
   "source": [
    "df_encoded_genres.columns"
   ]
  },
  {
   "cell_type": "markdown",
   "metadata": {},
   "source": [
    "### Facebook Likes"
   ]
  },
  {
   "cell_type": "code",
   "execution_count": 141,
   "metadata": {
    "ExecuteTime": {
     "end_time": "2020-04-04T22:44:49.221586Z",
     "start_time": "2020-04-04T22:44:49.211793Z"
    }
   },
   "outputs": [
    {
     "data": {
      "text/html": [
       "<div>\n",
       "<style scoped>\n",
       "    .dataframe tbody tr th:only-of-type {\n",
       "        vertical-align: middle;\n",
       "    }\n",
       "\n",
       "    .dataframe tbody tr th {\n",
       "        vertical-align: top;\n",
       "    }\n",
       "\n",
       "    .dataframe thead th {\n",
       "        text-align: right;\n",
       "    }\n",
       "</style>\n",
       "<table border=\"1\" class=\"dataframe\">\n",
       "  <thead>\n",
       "    <tr style=\"text-align: right;\">\n",
       "      <th></th>\n",
       "      <th>actor_1_facebook_likes</th>\n",
       "      <th>actor_2_facebook_likes</th>\n",
       "      <th>actor_3_facebook_likes</th>\n",
       "      <th>director_facebook_likes</th>\n",
       "      <th>cast_total_facebook_likes</th>\n",
       "    </tr>\n",
       "    <tr>\n",
       "      <th>imdb_id</th>\n",
       "      <th></th>\n",
       "      <th></th>\n",
       "      <th></th>\n",
       "      <th></th>\n",
       "      <th></th>\n",
       "    </tr>\n",
       "  </thead>\n",
       "  <tbody>\n",
       "    <tr>\n",
       "      <th>tt5215952</th>\n",
       "      <td>45.0</td>\n",
       "      <td>5.0</td>\n",
       "      <td>0.0</td>\n",
       "      <td>43.0</td>\n",
       "      <td>50</td>\n",
       "    </tr>\n",
       "    <tr>\n",
       "      <th>tt5078326</th>\n",
       "      <td>541.0</td>\n",
       "      <td>8.0</td>\n",
       "      <td>2.0</td>\n",
       "      <td>12.0</td>\n",
       "      <td>553</td>\n",
       "    </tr>\n",
       "    <tr>\n",
       "      <th>tt5001130</th>\n",
       "      <td>21.0</td>\n",
       "      <td>3.0</td>\n",
       "      <td>0.0</td>\n",
       "      <td>117.0</td>\n",
       "      <td>24</td>\n",
       "    </tr>\n",
       "    <tr>\n",
       "      <th>tt4939066</th>\n",
       "      <td>14000.0</td>\n",
       "      <td>81.0</td>\n",
       "      <td>29.0</td>\n",
       "      <td>32.0</td>\n",
       "      <td>14133</td>\n",
       "    </tr>\n",
       "    <tr>\n",
       "      <th>tt4871980</th>\n",
       "      <td>927.0</td>\n",
       "      <td>509.0</td>\n",
       "      <td>503.0</td>\n",
       "      <td>23.0</td>\n",
       "      <td>3552</td>\n",
       "    </tr>\n",
       "  </tbody>\n",
       "</table>\n",
       "</div>"
      ],
      "text/plain": [
       "           actor_1_facebook_likes  actor_2_facebook_likes  \\\n",
       "imdb_id                                                     \n",
       "tt5215952                    45.0                     5.0   \n",
       "tt5078326                   541.0                     8.0   \n",
       "tt5001130                    21.0                     3.0   \n",
       "tt4939066                 14000.0                    81.0   \n",
       "tt4871980                   927.0                   509.0   \n",
       "\n",
       "           actor_3_facebook_likes  director_facebook_likes  \\\n",
       "imdb_id                                                      \n",
       "tt5215952                     0.0                     43.0   \n",
       "tt5078326                     2.0                     12.0   \n",
       "tt5001130                     0.0                    117.0   \n",
       "tt4939066                    29.0                     32.0   \n",
       "tt4871980                   503.0                     23.0   \n",
       "\n",
       "           cast_total_facebook_likes  \n",
       "imdb_id                               \n",
       "tt5215952                         50  \n",
       "tt5078326                        553  \n",
       "tt5001130                         24  \n",
       "tt4939066                      14133  \n",
       "tt4871980                       3552  "
      ]
     },
     "execution_count": 141,
     "metadata": {},
     "output_type": "execute_result"
    }
   ],
   "source": [
    "likes = df_encoded_genres[[col for col in df_encoded_genres.columns if \"likes\" in col]]\n",
    "likes.head()"
   ]
  },
  {
   "cell_type": "code",
   "execution_count": 142,
   "metadata": {
    "ExecuteTime": {
     "end_time": "2020-04-04T22:44:51.563679Z",
     "start_time": "2020-04-04T22:44:51.555953Z"
    }
   },
   "outputs": [
    {
     "data": {
      "text/plain": [
       "count      4803.000000\n",
       "mean       6599.710181\n",
       "std       15242.735653\n",
       "min           0.000000\n",
       "25%         614.500000\n",
       "50%         989.000000\n",
       "75%       11000.000000\n",
       "max      640000.000000\n",
       "Name: actor_1_facebook_likes, dtype: float64"
      ]
     },
     "execution_count": 142,
     "metadata": {},
     "output_type": "execute_result"
    }
   ],
   "source": [
    "likes.actor_1_facebook_likes.describe()"
   ]
  },
  {
   "cell_type": "code",
   "execution_count": 143,
   "metadata": {
    "ExecuteTime": {
     "end_time": "2020-04-04T22:44:52.393059Z",
     "start_time": "2020-04-04T22:44:52.273503Z"
    }
   },
   "outputs": [
    {
     "data": {
      "text/plain": [
       "<matplotlib.axes._subplots.AxesSubplot at 0x138620d90>"
      ]
     },
     "execution_count": 143,
     "metadata": {},
     "output_type": "execute_result"
    },
    {
     "data": {
      "image/png": "[encoded data removed]",
      "text/plain": [
       "<Figure size 432x288 with 1 Axes>"
      ]
     },
     "metadata": {
      "needs_background": "light"
     },
     "output_type": "display_data"
    }
   ],
   "source": [
    "likes.actor_1_facebook_likes.hist()"
   ]
  },
  {
   "cell_type": "markdown",
   "metadata": {},
   "source": [
    "Could probably use a log transform or something. Or is it just full of zeroes?"
   ]
  },
  {
   "cell_type": "code",
   "execution_count": 144,
   "metadata": {
    "ExecuteTime": {
     "end_time": "2020-04-04T22:44:53.142079Z",
     "start_time": "2020-04-04T22:44:53.138185Z"
    }
   },
   "outputs": [
    {
     "data": {
      "text/plain": [
       "(36,)"
      ]
     },
     "execution_count": 144,
     "metadata": {},
     "output_type": "execute_result"
    }
   ],
   "source": [
    "likes.actor_1_facebook_likes[likes.actor_1_facebook_likes < 5].shape"
   ]
  },
  {
   "cell_type": "code",
   "execution_count": 145,
   "metadata": {
    "ExecuteTime": {
     "end_time": "2020-04-04T22:44:53.890088Z",
     "start_time": "2020-04-04T22:44:53.886262Z"
    }
   },
   "outputs": [
    {
     "data": {
      "text/plain": [
       "(872,)"
      ]
     },
     "execution_count": 145,
     "metadata": {},
     "output_type": "execute_result"
    }
   ],
   "source": [
    "likes.director_facebook_likes[likes.director_facebook_likes == 0].shape"
   ]
  },
  {
   "cell_type": "code",
   "execution_count": 146,
   "metadata": {
    "ExecuteTime": {
     "end_time": "2020-04-04T22:44:54.556437Z",
     "start_time": "2020-04-04T22:44:54.550451Z"
    }
   },
   "outputs": [
    {
     "data": {
      "text/plain": [
       "count     4803.000000\n",
       "mean       692.601915\n",
       "std       2836.009407\n",
       "min          0.000000\n",
       "25%          7.000000\n",
       "50%         48.000000\n",
       "75%        190.500000\n",
       "max      23000.000000\n",
       "Name: director_facebook_likes, dtype: float64"
      ]
     },
     "execution_count": 146,
     "metadata": {},
     "output_type": "execute_result"
    }
   ],
   "source": [
    "likes.director_facebook_likes.describe()"
   ]
  },
  {
   "cell_type": "markdown",
   "metadata": {},
   "source": [
    "I'm willing to believe that directors are just generally not as popular as their actors"
   ]
  },
  {
   "cell_type": "code",
   "execution_count": 147,
   "metadata": {
    "ExecuteTime": {
     "end_time": "2020-04-04T22:44:55.338335Z",
     "start_time": "2020-04-04T22:44:55.205292Z"
    }
   },
   "outputs": [
    {
     "data": {
      "text/plain": [
       "<matplotlib.axes._subplots.AxesSubplot at 0x13852c2d0>"
      ]
     },
     "execution_count": 147,
     "metadata": {},
     "output_type": "execute_result"
    },
    {
     "data": {
      "image/png": "[encoded data removed]",
      "text/plain": [
       "<Figure size 432x288 with 1 Axes>"
      ]
     },
     "metadata": {
      "needs_background": "light"
     },
     "output_type": "display_data"
    }
   ],
   "source": [
    "# +1 like for boxcox, does not like zeroes\n",
    "pd.Series(boxcox(likes.actor_1_facebook_likes+1)[0]).hist()"
   ]
  },
  {
   "cell_type": "markdown",
   "metadata": {},
   "source": [
    "Seems good"
   ]
  },
  {
   "cell_type": "code",
   "execution_count": 148,
   "metadata": {
    "ExecuteTime": {
     "end_time": "2020-04-04T22:44:56.580574Z",
     "start_time": "2020-04-04T22:44:56.556567Z"
    }
   },
   "outputs": [],
   "source": [
    "all_boxcoxed = [pd.Series(boxcox(likes[col]+1)[0], name=f\"{col}_box\") for col in likes.columns]"
   ]
  },
  {
   "cell_type": "code",
   "execution_count": 149,
   "metadata": {
    "ExecuteTime": {
     "end_time": "2020-04-04T22:44:59.446040Z",
     "start_time": "2020-04-04T22:44:59.436228Z"
    }
   },
   "outputs": [
    {
     "data": {
      "text/html": [
       "<div>\n",
       "<style scoped>\n",
       "    .dataframe tbody tr th:only-of-type {\n",
       "        vertical-align: middle;\n",
       "    }\n",
       "\n",
       "    .dataframe tbody tr th {\n",
       "        vertical-align: top;\n",
       "    }\n",
       "\n",
       "    .dataframe thead th {\n",
       "        text-align: right;\n",
       "    }\n",
       "</style>\n",
       "<table border=\"1\" class=\"dataframe\">\n",
       "  <thead>\n",
       "    <tr style=\"text-align: right;\">\n",
       "      <th></th>\n",
       "      <th>actor_1_facebook_likes_box</th>\n",
       "      <th>actor_2_facebook_likes_box</th>\n",
       "      <th>actor_3_facebook_likes_box</th>\n",
       "      <th>director_facebook_likes_box</th>\n",
       "      <th>cast_total_facebook_likes_box</th>\n",
       "    </tr>\n",
       "    <tr>\n",
       "      <th>imdb_id</th>\n",
       "      <th></th>\n",
       "      <th></th>\n",
       "      <th></th>\n",
       "      <th></th>\n",
       "      <th></th>\n",
       "    </tr>\n",
       "  </thead>\n",
       "  <tbody>\n",
       "    <tr>\n",
       "      <th>tt5215952</th>\n",
       "      <td>4.250035</td>\n",
       "      <td>1.917963</td>\n",
       "      <td>0.000000</td>\n",
       "      <td>3.648834</td>\n",
       "      <td>5.229121</td>\n",
       "    </tr>\n",
       "    <tr>\n",
       "      <th>tt5078326</th>\n",
       "      <td>7.488314</td>\n",
       "      <td>2.388995</td>\n",
       "      <td>1.198774</td>\n",
       "      <td>2.502277</td>\n",
       "      <td>10.108035</td>\n",
       "    </tr>\n",
       "    <tr>\n",
       "      <th>tt5001130</th>\n",
       "      <td>3.362001</td>\n",
       "      <td>1.461064</td>\n",
       "      <td>0.000000</td>\n",
       "      <td>4.556906</td>\n",
       "      <td>4.057789</td>\n",
       "    </tr>\n",
       "    <tr>\n",
       "      <th>tt4939066</th>\n",
       "      <td>12.467224</td>\n",
       "      <td>5.223879</td>\n",
       "      <td>4.491669</td>\n",
       "      <td>3.380737</td>\n",
       "      <td>19.933142</td>\n",
       "    </tr>\n",
       "    <tr>\n",
       "      <th>tt4871980</th>\n",
       "      <td>8.253012</td>\n",
       "      <td>7.951943</td>\n",
       "      <td>10.534436</td>\n",
       "      <td>3.082217</td>\n",
       "      <td>15.201223</td>\n",
       "    </tr>\n",
       "  </tbody>\n",
       "</table>\n",
       "</div>"
      ],
      "text/plain": [
       "           actor_1_facebook_likes_box  actor_2_facebook_likes_box  \\\n",
       "imdb_id                                                             \n",
       "tt5215952                    4.250035                    1.917963   \n",
       "tt5078326                    7.488314                    2.388995   \n",
       "tt5001130                    3.362001                    1.461064   \n",
       "tt4939066                   12.467224                    5.223879   \n",
       "tt4871980                    8.253012                    7.951943   \n",
       "\n",
       "           actor_3_facebook_likes_box  director_facebook_likes_box  \\\n",
       "imdb_id                                                              \n",
       "tt5215952                    0.000000                     3.648834   \n",
       "tt5078326                    1.198774                     2.502277   \n",
       "tt5001130                    0.000000                     4.556906   \n",
       "tt4939066                    4.491669                     3.380737   \n",
       "tt4871980                   10.534436                     3.082217   \n",
       "\n",
       "           cast_total_facebook_likes_box  \n",
       "imdb_id                                   \n",
       "tt5215952                       5.229121  \n",
       "tt5078326                      10.108035  \n",
       "tt5001130                       4.057789  \n",
       "tt4939066                      19.933142  \n",
       "tt4871980                      15.201223  "
      ]
     },
     "execution_count": 149,
     "metadata": {},
     "output_type": "execute_result"
    }
   ],
   "source": [
    "boxed_df = pd.concat(all_boxcoxed,axis=1)\n",
    "boxed_df.index = df_encoded_genres.index\n",
    "boxed_df.head()"
   ]
  },
  {
   "cell_type": "code",
   "execution_count": 150,
   "metadata": {
    "ExecuteTime": {
     "end_time": "2020-04-04T22:45:01.634296Z",
     "start_time": "2020-04-04T22:45:01.060082Z"
    }
   },
   "outputs": [
    {
     "name": "stdout",
     "output_type": "stream",
     "text": [
      "actor_1_facebook_likes_box\n"
     ]
    },
    {
     "data": {
      "image/png": "[encoded data removed]",
      "text/plain": [
       "<Figure size 432x288 with 1 Axes>"
      ]
     },
     "metadata": {
      "needs_background": "light"
     },
     "output_type": "display_data"
    },
    {
     "name": "stdout",
     "output_type": "stream",
     "text": [
      "actor_2_facebook_likes_box\n"
     ]
    },
    {
     "data": {
      "image/png": "[encoded data removed]",
      "text/plain": [
       "<Figure size 432x288 with 1 Axes>"
      ]
     },
     "metadata": {
      "needs_background": "light"
     },
     "output_type": "display_data"
    },
    {
     "name": "stdout",
     "output_type": "stream",
     "text": [
      "actor_3_facebook_likes_box\n"
     ]
    },
    {
     "data": {
      "image/png": "[encoded data removed]",
      "text/plain": [
       "<Figure size 432x288 with 1 Axes>"
      ]
     },
     "metadata": {
      "needs_background": "light"
     },
     "output_type": "display_data"
    },
    {
     "name": "stdout",
     "output_type": "stream",
     "text": [
      "director_facebook_likes_box\n"
     ]
    },
    {
     "data": {
      "image/png": "[encoded data removed]",
      "text/plain": [
       "<Figure size 432x288 with 1 Axes>"
      ]
     },
     "metadata": {
      "needs_background": "light"
     },
     "output_type": "display_data"
    },
    {
     "name": "stdout",
     "output_type": "stream",
     "text": [
      "cast_total_facebook_likes_box\n"
     ]
    },
    {
     "data": {
      "image/png": "[encoded data removed]",
      "text/plain": [
       "<Figure size 432x288 with 1 Axes>"
      ]
     },
     "metadata": {
      "needs_background": "light"
     },
     "output_type": "display_data"
    }
   ],
   "source": [
    "for col in boxed_df:\n",
    "    plt.figure()\n",
    "    plt.hist(boxed_df[col])\n",
    "    print(col)\n",
    "    plt.show()\n",
    "del col"
   ]
  },
  {
   "cell_type": "code",
   "execution_count": 151,
   "metadata": {
    "ExecuteTime": {
     "end_time": "2020-04-04T22:45:02.334047Z",
     "start_time": "2020-04-04T22:45:02.329679Z"
    }
   },
   "outputs": [],
   "source": [
    "no_likes = df_encoded_genres.drop([col for col in df_encoded_genres if \"likes\" in col], axis=1)"
   ]
  },
  {
   "cell_type": "code",
   "execution_count": 152,
   "metadata": {
    "ExecuteTime": {
     "end_time": "2020-04-04T22:45:03.124812Z",
     "start_time": "2020-04-04T22:45:03.122552Z"
    },
    "scrolled": true
   },
   "outputs": [],
   "source": [
    "boxed_df.index = no_likes.index"
   ]
  },
  {
   "cell_type": "code",
   "execution_count": 153,
   "metadata": {
    "ExecuteTime": {
     "end_time": "2020-04-04T22:45:03.903225Z",
     "start_time": "2020-04-04T22:45:03.899318Z"
    }
   },
   "outputs": [],
   "source": [
    "df_boxcoxed_likes = pd.concat([no_likes, boxed_df],axis=1)"
   ]
  },
  {
   "cell_type": "code",
   "execution_count": 154,
   "metadata": {
    "ExecuteTime": {
     "end_time": "2020-04-04T22:45:04.779656Z",
     "start_time": "2020-04-04T22:45:04.762985Z"
    }
   },
   "outputs": [
    {
     "data": {
      "text/html": [
       "<div>\n",
       "<style scoped>\n",
       "    .dataframe tbody tr th:only-of-type {\n",
       "        vertical-align: middle;\n",
       "    }\n",
       "\n",
       "    .dataframe tbody tr th {\n",
       "        vertical-align: top;\n",
       "    }\n",
       "\n",
       "    .dataframe thead th {\n",
       "        text-align: right;\n",
       "    }\n",
       "</style>\n",
       "<table border=\"1\" class=\"dataframe\">\n",
       "  <thead>\n",
       "    <tr style=\"text-align: right;\">\n",
       "      <th></th>\n",
       "      <th>original_language</th>\n",
       "      <th>color</th>\n",
       "      <th>title</th>\n",
       "      <th>movie_title</th>\n",
       "      <th>original_title</th>\n",
       "      <th>overview</th>\n",
       "      <th>content_rating</th>\n",
       "      <th>imdb_score</th>\n",
       "      <th>revenue</th>\n",
       "      <th>filled_budget</th>\n",
       "      <th>...</th>\n",
       "      <th>genre_Action</th>\n",
       "      <th>genre_Mystery</th>\n",
       "      <th>genre_Sci-Fi</th>\n",
       "      <th>genre_Adventure</th>\n",
       "      <th>genre_Documentary</th>\n",
       "      <th>actor_1_facebook_likes_box</th>\n",
       "      <th>actor_2_facebook_likes_box</th>\n",
       "      <th>actor_3_facebook_likes_box</th>\n",
       "      <th>director_facebook_likes_box</th>\n",
       "      <th>cast_total_facebook_likes_box</th>\n",
       "    </tr>\n",
       "    <tr>\n",
       "      <th>imdb_id</th>\n",
       "      <th></th>\n",
       "      <th></th>\n",
       "      <th></th>\n",
       "      <th></th>\n",
       "      <th></th>\n",
       "      <th></th>\n",
       "      <th></th>\n",
       "      <th></th>\n",
       "      <th></th>\n",
       "      <th></th>\n",
       "      <th></th>\n",
       "      <th></th>\n",
       "      <th></th>\n",
       "      <th></th>\n",
       "      <th></th>\n",
       "      <th></th>\n",
       "      <th></th>\n",
       "      <th></th>\n",
       "      <th></th>\n",
       "      <th></th>\n",
       "      <th></th>\n",
       "    </tr>\n",
       "  </thead>\n",
       "  <tbody>\n",
       "    <tr>\n",
       "      <th>tt5215952</th>\n",
       "      <td>Other</td>\n",
       "      <td>Color</td>\n",
       "      <td>The Wailing</td>\n",
       "      <td>The Wailing</td>\n",
       "      <td>곡성</td>\n",
       "      <td>A stranger arrives in a little village and soo...</td>\n",
       "      <td>Unrated</td>\n",
       "      <td>7.7</td>\n",
       "      <td>47098491</td>\n",
       "      <td>10951000.0</td>\n",
       "      <td>...</td>\n",
       "      <td>0</td>\n",
       "      <td>1</td>\n",
       "      <td>0</td>\n",
       "      <td>0</td>\n",
       "      <td>0</td>\n",
       "      <td>4.250035</td>\n",
       "      <td>1.917963</td>\n",
       "      <td>0.000000</td>\n",
       "      <td>3.648834</td>\n",
       "      <td>5.229121</td>\n",
       "    </tr>\n",
       "    <tr>\n",
       "      <th>tt5078326</th>\n",
       "      <td>French</td>\n",
       "      <td>Color</td>\n",
       "      <td>The Country Doctor</td>\n",
       "      <td>Irreplaceable</td>\n",
       "      <td>Médecin de campagne</td>\n",
       "      <td>All the people in this countryside area, can c...</td>\n",
       "      <td>PG-13</td>\n",
       "      <td>7.2</td>\n",
       "      <td>0</td>\n",
       "      <td>19000000.0</td>\n",
       "      <td>...</td>\n",
       "      <td>0</td>\n",
       "      <td>0</td>\n",
       "      <td>0</td>\n",
       "      <td>0</td>\n",
       "      <td>0</td>\n",
       "      <td>7.488314</td>\n",
       "      <td>2.388995</td>\n",
       "      <td>1.198774</td>\n",
       "      <td>2.502277</td>\n",
       "      <td>10.108035</td>\n",
       "    </tr>\n",
       "    <tr>\n",
       "      <th>tt5001130</th>\n",
       "      <td>English</td>\n",
       "      <td>Color</td>\n",
       "      <td>Time to Choose</td>\n",
       "      <td>Time to Choose</td>\n",
       "      <td>Time to Choose</td>\n",
       "      <td>Academy Award® winning director Charles Fergus...</td>\n",
       "      <td>PG-13</td>\n",
       "      <td>7.0</td>\n",
       "      <td>0</td>\n",
       "      <td>3500000.0</td>\n",
       "      <td>...</td>\n",
       "      <td>0</td>\n",
       "      <td>0</td>\n",
       "      <td>0</td>\n",
       "      <td>0</td>\n",
       "      <td>1</td>\n",
       "      <td>3.362001</td>\n",
       "      <td>1.461064</td>\n",
       "      <td>0.000000</td>\n",
       "      <td>4.556906</td>\n",
       "      <td>4.057789</td>\n",
       "    </tr>\n",
       "  </tbody>\n",
       "</table>\n",
       "<p>3 rows × 31 columns</p>\n",
       "</div>"
      ],
      "text/plain": [
       "          original_language  color               title      movie_title  \\\n",
       "imdb_id                                                                   \n",
       "tt5215952             Other  Color         The Wailing     The Wailing    \n",
       "tt5078326            French  Color  The Country Doctor   Irreplaceable    \n",
       "tt5001130           English  Color      Time to Choose  Time to Choose    \n",
       "\n",
       "                original_title  \\\n",
       "imdb_id                          \n",
       "tt5215952                   곡성   \n",
       "tt5078326  Médecin de campagne   \n",
       "tt5001130       Time to Choose   \n",
       "\n",
       "                                                    overview content_rating  \\\n",
       "imdb_id                                                                       \n",
       "tt5215952  A stranger arrives in a little village and soo...        Unrated   \n",
       "tt5078326  All the people in this countryside area, can c...          PG-13   \n",
       "tt5001130  Academy Award® winning director Charles Fergus...          PG-13   \n",
       "\n",
       "           imdb_score   revenue  filled_budget  ... genre_Action  \\\n",
       "imdb_id                                         ...                \n",
       "tt5215952         7.7  47098491     10951000.0  ...            0   \n",
       "tt5078326         7.2         0     19000000.0  ...            0   \n",
       "tt5001130         7.0         0      3500000.0  ...            0   \n",
       "\n",
       "           genre_Mystery  genre_Sci-Fi  genre_Adventure  genre_Documentary  \\\n",
       "imdb_id                                                                      \n",
       "tt5215952              1             0                0                  0   \n",
       "tt5078326              0             0                0                  0   \n",
       "tt5001130              0             0                0                  1   \n",
       "\n",
       "           actor_1_facebook_likes_box  actor_2_facebook_likes_box  \\\n",
       "imdb_id                                                             \n",
       "tt5215952                    4.250035                    1.917963   \n",
       "tt5078326                    7.488314                    2.388995   \n",
       "tt5001130                    3.362001                    1.461064   \n",
       "\n",
       "           actor_3_facebook_likes_box  director_facebook_likes_box  \\\n",
       "imdb_id                                                              \n",
       "tt5215952                    0.000000                     3.648834   \n",
       "tt5078326                    1.198774                     2.502277   \n",
       "tt5001130                    0.000000                     4.556906   \n",
       "\n",
       "           cast_total_facebook_likes_box  \n",
       "imdb_id                                   \n",
       "tt5215952                       5.229121  \n",
       "tt5078326                      10.108035  \n",
       "tt5001130                       4.057789  \n",
       "\n",
       "[3 rows x 31 columns]"
      ]
     },
     "execution_count": 154,
     "metadata": {},
     "output_type": "execute_result"
    }
   ],
   "source": [
    "df_boxcoxed_likes.head(3)"
   ]
  },
  {
   "cell_type": "markdown",
   "metadata": {},
   "source": [
    "### Budget"
   ]
  },
  {
   "cell_type": "code",
   "execution_count": 155,
   "metadata": {
    "ExecuteTime": {
     "end_time": "2020-04-04T22:45:11.413576Z",
     "start_time": "2020-04-04T22:45:11.283877Z"
    }
   },
   "outputs": [
    {
     "data": {
      "text/plain": [
       "<matplotlib.axes._subplots.AxesSubplot at 0x139716ed0>"
      ]
     },
     "execution_count": 155,
     "metadata": {},
     "output_type": "execute_result"
    },
    {
     "data": {
      "image/png": "[encoded data removed]",
      "text/plain": [
       "<Figure size 432x288 with 1 Axes>"
      ]
     },
     "metadata": {
      "needs_background": "light"
     },
     "output_type": "display_data"
    }
   ],
   "source": [
    "df_boxcoxed_likes.filled_budget.hist()"
   ]
  },
  {
   "cell_type": "markdown",
   "metadata": {},
   "source": [
    "Also pretty skewed up"
   ]
  },
  {
   "cell_type": "code",
   "execution_count": 156,
   "metadata": {
    "ExecuteTime": {
     "end_time": "2020-04-04T22:45:12.432497Z",
     "start_time": "2020-04-04T22:45:12.306641Z"
    }
   },
   "outputs": [
    {
     "data": {
      "text/plain": [
       "<matplotlib.axes._subplots.AxesSubplot at 0x137158110>"
      ]
     },
     "execution_count": 156,
     "metadata": {},
     "output_type": "execute_result"
    },
    {
     "data": {
      "image/png": "[encoded data removed]",
      "text/plain": [
       "<Figure size 432x288 with 1 Axes>"
      ]
     },
     "metadata": {
      "needs_background": "light"
     },
     "output_type": "display_data"
    }
   ],
   "source": [
    "df_boxcoxed_likes.filled_budget.transform(np.log).hist()"
   ]
  },
  {
   "cell_type": "markdown",
   "metadata": {},
   "source": [
    "Not perfect, boxcox again?"
   ]
  },
  {
   "cell_type": "code",
   "execution_count": 157,
   "metadata": {
    "ExecuteTime": {
     "end_time": "2020-04-04T22:45:13.650112Z",
     "start_time": "2020-04-04T22:45:13.515349Z"
    }
   },
   "outputs": [
    {
     "data": {
      "text/plain": [
       "<matplotlib.axes._subplots.AxesSubplot at 0x139aa0090>"
      ]
     },
     "execution_count": 157,
     "metadata": {},
     "output_type": "execute_result"
    },
    {
     "data": {
      "image/png": "[encoded data removed]",
      "text/plain": [
       "<Figure size 432x288 with 1 Axes>"
      ]
     },
     "metadata": {
      "needs_background": "light"
     },
     "output_type": "display_data"
    }
   ],
   "source": [
    "budget_boxed = pd.Series(boxcox(df_boxcoxed_likes.filled_budget)[0], name=\"budget_boxed\")\n",
    "budget_boxed.hist()"
   ]
  },
  {
   "cell_type": "code",
   "execution_count": 158,
   "metadata": {
    "ExecuteTime": {
     "end_time": "2020-04-04T22:45:14.510368Z",
     "start_time": "2020-04-04T22:45:14.506357Z"
    }
   },
   "outputs": [],
   "source": [
    "df_boxcoxed_budget = df_boxcoxed_likes.assign(budget_boxed=budget_boxed.values)"
   ]
  },
  {
   "cell_type": "code",
   "execution_count": 159,
   "metadata": {
    "ExecuteTime": {
     "end_time": "2020-04-04T22:45:15.480978Z",
     "start_time": "2020-04-04T22:45:15.463156Z"
    }
   },
   "outputs": [
    {
     "data": {
      "text/html": [
       "<div>\n",
       "<style scoped>\n",
       "    .dataframe tbody tr th:only-of-type {\n",
       "        vertical-align: middle;\n",
       "    }\n",
       "\n",
       "    .dataframe tbody tr th {\n",
       "        vertical-align: top;\n",
       "    }\n",
       "\n",
       "    .dataframe thead th {\n",
       "        text-align: right;\n",
       "    }\n",
       "</style>\n",
       "<table border=\"1\" class=\"dataframe\">\n",
       "  <thead>\n",
       "    <tr style=\"text-align: right;\">\n",
       "      <th></th>\n",
       "      <th>original_language</th>\n",
       "      <th>color</th>\n",
       "      <th>title</th>\n",
       "      <th>movie_title</th>\n",
       "      <th>original_title</th>\n",
       "      <th>overview</th>\n",
       "      <th>content_rating</th>\n",
       "      <th>imdb_score</th>\n",
       "      <th>revenue</th>\n",
       "      <th>filled_budget</th>\n",
       "      <th>...</th>\n",
       "      <th>genre_Mystery</th>\n",
       "      <th>genre_Sci-Fi</th>\n",
       "      <th>genre_Adventure</th>\n",
       "      <th>genre_Documentary</th>\n",
       "      <th>actor_1_facebook_likes_box</th>\n",
       "      <th>actor_2_facebook_likes_box</th>\n",
       "      <th>actor_3_facebook_likes_box</th>\n",
       "      <th>director_facebook_likes_box</th>\n",
       "      <th>cast_total_facebook_likes_box</th>\n",
       "      <th>budget_boxed</th>\n",
       "    </tr>\n",
       "    <tr>\n",
       "      <th>imdb_id</th>\n",
       "      <th></th>\n",
       "      <th></th>\n",
       "      <th></th>\n",
       "      <th></th>\n",
       "      <th></th>\n",
       "      <th></th>\n",
       "      <th></th>\n",
       "      <th></th>\n",
       "      <th></th>\n",
       "      <th></th>\n",
       "      <th></th>\n",
       "      <th></th>\n",
       "      <th></th>\n",
       "      <th></th>\n",
       "      <th></th>\n",
       "      <th></th>\n",
       "      <th></th>\n",
       "      <th></th>\n",
       "      <th></th>\n",
       "      <th></th>\n",
       "      <th></th>\n",
       "    </tr>\n",
       "  </thead>\n",
       "  <tbody>\n",
       "    <tr>\n",
       "      <th>tt5215952</th>\n",
       "      <td>Other</td>\n",
       "      <td>Color</td>\n",
       "      <td>The Wailing</td>\n",
       "      <td>The Wailing</td>\n",
       "      <td>곡성</td>\n",
       "      <td>A stranger arrives in a little village and soo...</td>\n",
       "      <td>Unrated</td>\n",
       "      <td>7.7</td>\n",
       "      <td>47098491</td>\n",
       "      <td>10951000.0</td>\n",
       "      <td>...</td>\n",
       "      <td>1</td>\n",
       "      <td>0</td>\n",
       "      <td>0</td>\n",
       "      <td>0</td>\n",
       "      <td>4.250035</td>\n",
       "      <td>1.917963</td>\n",
       "      <td>0.000000</td>\n",
       "      <td>3.648834</td>\n",
       "      <td>5.229121</td>\n",
       "      <td>116.223876</td>\n",
       "    </tr>\n",
       "    <tr>\n",
       "      <th>tt5078326</th>\n",
       "      <td>French</td>\n",
       "      <td>Color</td>\n",
       "      <td>The Country Doctor</td>\n",
       "      <td>Irreplaceable</td>\n",
       "      <td>Médecin de campagne</td>\n",
       "      <td>All the people in this countryside area, can c...</td>\n",
       "      <td>PG-13</td>\n",
       "      <td>7.2</td>\n",
       "      <td>0</td>\n",
       "      <td>19000000.0</td>\n",
       "      <td>...</td>\n",
       "      <td>0</td>\n",
       "      <td>0</td>\n",
       "      <td>0</td>\n",
       "      <td>0</td>\n",
       "      <td>7.488314</td>\n",
       "      <td>2.388995</td>\n",
       "      <td>1.198774</td>\n",
       "      <td>2.502277</td>\n",
       "      <td>10.108035</td>\n",
       "      <td>130.009231</td>\n",
       "    </tr>\n",
       "    <tr>\n",
       "      <th>tt5001130</th>\n",
       "      <td>English</td>\n",
       "      <td>Color</td>\n",
       "      <td>Time to Choose</td>\n",
       "      <td>Time to Choose</td>\n",
       "      <td>Time to Choose</td>\n",
       "      <td>Academy Award® winning director Charles Fergus...</td>\n",
       "      <td>PG-13</td>\n",
       "      <td>7.0</td>\n",
       "      <td>0</td>\n",
       "      <td>3500000.0</td>\n",
       "      <td>...</td>\n",
       "      <td>0</td>\n",
       "      <td>0</td>\n",
       "      <td>0</td>\n",
       "      <td>1</td>\n",
       "      <td>3.362001</td>\n",
       "      <td>1.461064</td>\n",
       "      <td>0.000000</td>\n",
       "      <td>4.556906</td>\n",
       "      <td>4.057789</td>\n",
       "      <td>91.992876</td>\n",
       "    </tr>\n",
       "    <tr>\n",
       "      <th>tt4939066</th>\n",
       "      <td>Other</td>\n",
       "      <td>Color</td>\n",
       "      <td>Operation Chromite</td>\n",
       "      <td>Operation Chromite</td>\n",
       "      <td>인천상륙작전</td>\n",
       "      <td>A squad of soldiers fight in the Korean War's ...</td>\n",
       "      <td>PG-13</td>\n",
       "      <td>6.8</td>\n",
       "      <td>49196532</td>\n",
       "      <td>12660000.0</td>\n",
       "      <td>...</td>\n",
       "      <td>0</td>\n",
       "      <td>0</td>\n",
       "      <td>0</td>\n",
       "      <td>0</td>\n",
       "      <td>12.467224</td>\n",
       "      <td>5.223879</td>\n",
       "      <td>4.491669</td>\n",
       "      <td>3.380737</td>\n",
       "      <td>19.933142</td>\n",
       "      <td>119.709388</td>\n",
       "    </tr>\n",
       "    <tr>\n",
       "      <th>tt4871980</th>\n",
       "      <td>English</td>\n",
       "      <td>Color</td>\n",
       "      <td>The Perfect Match</td>\n",
       "      <td>The Perfect Match</td>\n",
       "      <td>The Perfect Match</td>\n",
       "      <td>Terrence J. stars as Charlie, a playboy who's ...</td>\n",
       "      <td>R</td>\n",
       "      <td>4.5</td>\n",
       "      <td>0</td>\n",
       "      <td>5000000.0</td>\n",
       "      <td>...</td>\n",
       "      <td>0</td>\n",
       "      <td>0</td>\n",
       "      <td>0</td>\n",
       "      <td>0</td>\n",
       "      <td>8.253012</td>\n",
       "      <td>7.951943</td>\n",
       "      <td>10.534436</td>\n",
       "      <td>3.082217</td>\n",
       "      <td>15.201223</td>\n",
       "      <td>98.998224</td>\n",
       "    </tr>\n",
       "  </tbody>\n",
       "</table>\n",
       "<p>5 rows × 32 columns</p>\n",
       "</div>"
      ],
      "text/plain": [
       "          original_language  color               title          movie_title  \\\n",
       "imdb_id                                                                       \n",
       "tt5215952             Other  Color         The Wailing         The Wailing    \n",
       "tt5078326            French  Color  The Country Doctor       Irreplaceable    \n",
       "tt5001130           English  Color      Time to Choose      Time to Choose    \n",
       "tt4939066             Other  Color  Operation Chromite  Operation Chromite    \n",
       "tt4871980           English  Color   The Perfect Match   The Perfect Match    \n",
       "\n",
       "                original_title  \\\n",
       "imdb_id                          \n",
       "tt5215952                   곡성   \n",
       "tt5078326  Médecin de campagne   \n",
       "tt5001130       Time to Choose   \n",
       "tt4939066               인천상륙작전   \n",
       "tt4871980    The Perfect Match   \n",
       "\n",
       "                                                    overview content_rating  \\\n",
       "imdb_id                                                                       \n",
       "tt5215952  A stranger arrives in a little village and soo...        Unrated   \n",
       "tt5078326  All the people in this countryside area, can c...          PG-13   \n",
       "tt5001130  Academy Award® winning director Charles Fergus...          PG-13   \n",
       "tt4939066  A squad of soldiers fight in the Korean War's ...          PG-13   \n",
       "tt4871980  Terrence J. stars as Charlie, a playboy who's ...              R   \n",
       "\n",
       "           imdb_score   revenue  filled_budget  ... genre_Mystery  \\\n",
       "imdb_id                                         ...                 \n",
       "tt5215952         7.7  47098491     10951000.0  ...             1   \n",
       "tt5078326         7.2         0     19000000.0  ...             0   \n",
       "tt5001130         7.0         0      3500000.0  ...             0   \n",
       "tt4939066         6.8  49196532     12660000.0  ...             0   \n",
       "tt4871980         4.5         0      5000000.0  ...             0   \n",
       "\n",
       "           genre_Sci-Fi  genre_Adventure  genre_Documentary  \\\n",
       "imdb_id                                                       \n",
       "tt5215952             0                0                  0   \n",
       "tt5078326             0                0                  0   \n",
       "tt5001130             0                0                  1   \n",
       "tt4939066             0                0                  0   \n",
       "tt4871980             0                0                  0   \n",
       "\n",
       "           actor_1_facebook_likes_box  actor_2_facebook_likes_box  \\\n",
       "imdb_id                                                             \n",
       "tt5215952                    4.250035                    1.917963   \n",
       "tt5078326                    7.488314                    2.388995   \n",
       "tt5001130                    3.362001                    1.461064   \n",
       "tt4939066                   12.467224                    5.223879   \n",
       "tt4871980                    8.253012                    7.951943   \n",
       "\n",
       "           actor_3_facebook_likes_box  director_facebook_likes_box  \\\n",
       "imdb_id                                                              \n",
       "tt5215952                    0.000000                     3.648834   \n",
       "tt5078326                    1.198774                     2.502277   \n",
       "tt5001130                    0.000000                     4.556906   \n",
       "tt4939066                    4.491669                     3.380737   \n",
       "tt4871980                   10.534436                     3.082217   \n",
       "\n",
       "           cast_total_facebook_likes_box  budget_boxed  \n",
       "imdb_id                                                 \n",
       "tt5215952                       5.229121    116.223876  \n",
       "tt5078326                      10.108035    130.009231  \n",
       "tt5001130                       4.057789     91.992876  \n",
       "tt4939066                      19.933142    119.709388  \n",
       "tt4871980                      15.201223     98.998224  \n",
       "\n",
       "[5 rows x 32 columns]"
      ]
     },
     "execution_count": 159,
     "metadata": {},
     "output_type": "execute_result"
    }
   ],
   "source": [
    "df_boxcoxed_budget.head()"
   ]
  },
  {
   "cell_type": "markdown",
   "metadata": {},
   "source": [
    "### Duration"
   ]
  },
  {
   "cell_type": "code",
   "execution_count": 160,
   "metadata": {
    "ExecuteTime": {
     "end_time": "2020-04-04T22:45:16.590659Z",
     "start_time": "2020-04-04T22:45:16.431685Z"
    }
   },
   "outputs": [
    {
     "data": {
      "text/plain": [
       "<matplotlib.axes._subplots.AxesSubplot at 0x139be88d0>"
      ]
     },
     "execution_count": 160,
     "metadata": {},
     "output_type": "execute_result"
    },
    {
     "data": {
      "image/png": "[encoded data removed]",
      "text/plain": [
       "<Figure size 432x288 with 1 Axes>"
      ]
     },
     "metadata": {
      "needs_background": "light"
     },
     "output_type": "display_data"
    }
   ],
   "source": [
    "df_boxcoxed_budget.durations.hist(bins=50)"
   ]
  },
  {
   "cell_type": "markdown",
   "metadata": {},
   "source": [
    "Seems pretty tightly clustered around feature length film length"
   ]
  },
  {
   "cell_type": "code",
   "execution_count": 161,
   "metadata": {
    "ExecuteTime": {
     "end_time": "2020-04-04T22:45:18.740563Z",
     "start_time": "2020-04-04T22:45:18.652382Z"
    }
   },
   "outputs": [
    {
     "data": {
      "text/plain": [
       "<matplotlib.axes._subplots.AxesSubplot at 0x139beffd0>"
      ]
     },
     "execution_count": 161,
     "metadata": {},
     "output_type": "execute_result"
    },
    {
     "data": {
      "image/png": "[encoded data removed]",
      "text/plain": [
       "<Figure size 144x432 with 1 Axes>"
      ]
     },
     "metadata": {
      "needs_background": "light"
     },
     "output_type": "display_data"
    }
   ],
   "source": [
    "df_boxcoxed_budget.durations.plot(kind='box',figsize=(2,6))"
   ]
  },
  {
   "cell_type": "code",
   "execution_count": 162,
   "metadata": {
    "ExecuteTime": {
     "end_time": "2020-04-04T22:45:19.901660Z",
     "start_time": "2020-04-04T22:45:19.704484Z"
    }
   },
   "outputs": [
    {
     "data": {
      "text/plain": [
       "<matplotlib.axes._subplots.AxesSubplot at 0x139fcbe50>"
      ]
     },
     "execution_count": 162,
     "metadata": {},
     "output_type": "execute_result"
    },
    {
     "data": {
      "image/png": "[encoded data removed]",
      "text/plain": [
       "<Figure size 432x288 with 1 Axes>"
      ]
     },
     "metadata": {
      "needs_background": "light"
     },
     "output_type": "display_data"
    }
   ],
   "source": [
    "pd.Series(boxcox(df_boxcoxed_budget.durations+1)[0], name=f\"duration_box\").hist(bins=50)"
   ]
  },
  {
   "cell_type": "markdown",
   "metadata": {},
   "source": [
    "I think we can just stick with the original durations, no transform needed."
   ]
  },
  {
   "cell_type": "markdown",
   "metadata": {},
   "source": [
    "### Number of Production Countries"
   ]
  },
  {
   "cell_type": "code",
   "execution_count": 163,
   "metadata": {
    "ExecuteTime": {
     "end_time": "2020-04-04T22:45:20.985137Z",
     "start_time": "2020-04-04T22:45:20.853679Z"
    }
   },
   "outputs": [
    {
     "data": {
      "text/plain": [
       "<matplotlib.axes._subplots.AxesSubplot at 0x13a0e7c90>"
      ]
     },
     "execution_count": 163,
     "metadata": {},
     "output_type": "execute_result"
    },
    {
     "data": {
      "image/png": "[encoded data removed]",
      "text/plain": [
       "<Figure size 432x288 with 1 Axes>"
      ]
     },
     "metadata": {
      "needs_background": "light"
     },
     "output_type": "display_data"
    }
   ],
   "source": [
    "df_boxcoxed_budget.n_production_countries.value_counts().plot(kind='bar')"
   ]
  },
  {
   "cell_type": "markdown",
   "metadata": {},
   "source": [
    "I should lump together 5+ perhaps...it gets a bit sparse"
   ]
  },
  {
   "cell_type": "code",
   "execution_count": 164,
   "metadata": {
    "ExecuteTime": {
     "end_time": "2020-04-04T22:45:22.037778Z",
     "start_time": "2020-04-04T22:45:21.936868Z"
    }
   },
   "outputs": [
    {
     "data": {
      "text/plain": [
       "<matplotlib.axes._subplots.AxesSubplot at 0x13a205b90>"
      ]
     },
     "execution_count": 164,
     "metadata": {},
     "output_type": "execute_result"
    },
    {
     "data": {
      "image/png": "[encoded data removed]",
      "text/plain": [
       "<Figure size 432x288 with 1 Axes>"
      ]
     },
     "metadata": {
      "needs_background": "light"
     },
     "output_type": "display_data"
    }
   ],
   "source": [
    "df_boxcoxed_budget.n_production_countries.apply(lambda x: 5 if x >= 5 else x).value_counts().plot(kind='bar')"
   ]
  },
  {
   "cell_type": "code",
   "execution_count": 165,
   "metadata": {
    "ExecuteTime": {
     "end_time": "2020-04-04T22:45:22.987977Z",
     "start_time": "2020-04-04T22:45:22.983759Z"
    }
   },
   "outputs": [],
   "source": [
    "df_boxcoxed_budget[\"n_prod_locs_trunc\"] = df_boxcoxed_budget.n_production_countries.apply(\n",
    "                                                                                    lambda x: 5 if x >= 5 else x\n",
    "                                                                                )"
   ]
  },
  {
   "cell_type": "markdown",
   "metadata": {},
   "source": [
    "We will need to remember that here, the int 5 represents 5 or more countries of filming."
   ]
  },
  {
   "cell_type": "code",
   "execution_count": 166,
   "metadata": {
    "ExecuteTime": {
     "end_time": "2020-04-04T22:45:23.955102Z",
     "start_time": "2020-04-04T22:45:23.951983Z"
    }
   },
   "outputs": [],
   "source": [
    "del df_boxcoxed_budget[\"n_production_countries\"]"
   ]
  },
  {
   "cell_type": "markdown",
   "metadata": {},
   "source": [
    "### Revenue (Secondary Response Variable)"
   ]
  },
  {
   "cell_type": "code",
   "execution_count": 167,
   "metadata": {
    "ExecuteTime": {
     "end_time": "2020-04-04T22:45:25.096413Z",
     "start_time": "2020-04-04T22:45:24.931434Z"
    }
   },
   "outputs": [
    {
     "data": {
      "text/plain": [
       "<matplotlib.axes._subplots.AxesSubplot at 0x13a2e6290>"
      ]
     },
     "execution_count": 167,
     "metadata": {},
     "output_type": "execute_result"
    },
    {
     "data": {
      "image/png": "[encoded data removed]",
      "text/plain": [
       "<Figure size 432x288 with 1 Axes>"
      ]
     },
     "metadata": {
      "needs_background": "light"
     },
     "output_type": "display_data"
    }
   ],
   "source": [
    "df_boxcoxed_budget.revenue.hist(bins=50)"
   ]
  },
  {
   "cell_type": "code",
   "execution_count": 168,
   "metadata": {
    "ExecuteTime": {
     "end_time": "2020-04-04T22:45:26.058649Z",
     "start_time": "2020-04-04T22:45:26.051631Z"
    }
   },
   "outputs": [],
   "source": [
    "revenue_boxcox, lambda_revenue_boxcox = boxcox(df_boxcoxed_budget.revenue+1) #Again applying small adjustment for box\n",
    "\n",
    "with open(\"../data/pickles/lambda_revenue_boxcox.pkl\", \"wb\") as file:\n",
    "    pickle.dump(lambda_revenue_boxcox, file)"
   ]
  },
  {
   "cell_type": "code",
   "execution_count": 169,
   "metadata": {
    "ExecuteTime": {
     "end_time": "2020-04-04T22:45:28.928550Z",
     "start_time": "2020-04-04T22:45:28.804708Z"
    }
   },
   "outputs": [
    {
     "data": {
      "text/plain": [
       "<matplotlib.axes._subplots.AxesSubplot at 0x13a52db90>"
      ]
     },
     "execution_count": 169,
     "metadata": {},
     "output_type": "execute_result"
    },
    {
     "data": {
      "image/png": "[encoded data removed]",
      "text/plain": [
       "<Figure size 432x288 with 1 Axes>"
      ]
     },
     "metadata": {
      "needs_background": "light"
     },
     "output_type": "display_data"
    }
   ],
   "source": [
    "revenue_boxcox = pd.Series(revenue_boxcox,name=\"revenue_boxcox\")\n",
    "revenue_boxcox.hist()"
   ]
  },
  {
   "cell_type": "markdown",
   "metadata": {
    "ExecuteTime": {
     "end_time": "2020-04-03T21:26:38.688947Z",
     "start_time": "2020-04-03T21:26:38.685362Z"
    }
   },
   "source": [
    "Still a pretty massive spike around $0 revenue...will this be a problem?"
   ]
  },
  {
   "cell_type": "code",
   "execution_count": 170,
   "metadata": {
    "ExecuteTime": {
     "end_time": "2020-04-04T22:45:30.222983Z",
     "start_time": "2020-04-04T22:45:30.219675Z"
    }
   },
   "outputs": [],
   "source": [
    "del df_boxcoxed_budget['revenue']"
   ]
  },
  {
   "cell_type": "code",
   "execution_count": 171,
   "metadata": {
    "ExecuteTime": {
     "end_time": "2020-04-04T22:45:31.238214Z",
     "start_time": "2020-04-04T22:45:31.234350Z"
    }
   },
   "outputs": [],
   "source": [
    "df_boxcox_rev = df_boxcoxed_budget.assign(revenue_boxcox=revenue_boxcox.values)"
   ]
  },
  {
   "cell_type": "code",
   "execution_count": 172,
   "metadata": {
    "ExecuteTime": {
     "end_time": "2020-04-04T22:45:32.328033Z",
     "start_time": "2020-04-04T22:45:32.325816Z"
    }
   },
   "outputs": [],
   "source": [
    "del df_boxcoxed_budget"
   ]
  },
  {
   "cell_type": "code",
   "execution_count": 173,
   "metadata": {
    "ExecuteTime": {
     "end_time": "2020-04-04T22:45:33.316691Z",
     "start_time": "2020-04-04T22:45:33.298340Z"
    }
   },
   "outputs": [
    {
     "data": {
      "text/html": [
       "<div>\n",
       "<style scoped>\n",
       "    .dataframe tbody tr th:only-of-type {\n",
       "        vertical-align: middle;\n",
       "    }\n",
       "\n",
       "    .dataframe tbody tr th {\n",
       "        vertical-align: top;\n",
       "    }\n",
       "\n",
       "    .dataframe thead th {\n",
       "        text-align: right;\n",
       "    }\n",
       "</style>\n",
       "<table border=\"1\" class=\"dataframe\">\n",
       "  <thead>\n",
       "    <tr style=\"text-align: right;\">\n",
       "      <th></th>\n",
       "      <th>original_language</th>\n",
       "      <th>color</th>\n",
       "      <th>title</th>\n",
       "      <th>movie_title</th>\n",
       "      <th>original_title</th>\n",
       "      <th>overview</th>\n",
       "      <th>content_rating</th>\n",
       "      <th>imdb_score</th>\n",
       "      <th>filled_budget</th>\n",
       "      <th>fixed_aspect</th>\n",
       "      <th>...</th>\n",
       "      <th>genre_Adventure</th>\n",
       "      <th>genre_Documentary</th>\n",
       "      <th>actor_1_facebook_likes_box</th>\n",
       "      <th>actor_2_facebook_likes_box</th>\n",
       "      <th>actor_3_facebook_likes_box</th>\n",
       "      <th>director_facebook_likes_box</th>\n",
       "      <th>cast_total_facebook_likes_box</th>\n",
       "      <th>budget_boxed</th>\n",
       "      <th>n_prod_locs_trunc</th>\n",
       "      <th>revenue_boxcox</th>\n",
       "    </tr>\n",
       "    <tr>\n",
       "      <th>imdb_id</th>\n",
       "      <th></th>\n",
       "      <th></th>\n",
       "      <th></th>\n",
       "      <th></th>\n",
       "      <th></th>\n",
       "      <th></th>\n",
       "      <th></th>\n",
       "      <th></th>\n",
       "      <th></th>\n",
       "      <th></th>\n",
       "      <th></th>\n",
       "      <th></th>\n",
       "      <th></th>\n",
       "      <th></th>\n",
       "      <th></th>\n",
       "      <th></th>\n",
       "      <th></th>\n",
       "      <th></th>\n",
       "      <th></th>\n",
       "      <th></th>\n",
       "      <th></th>\n",
       "    </tr>\n",
       "  </thead>\n",
       "  <tbody>\n",
       "    <tr>\n",
       "      <th>tt5215952</th>\n",
       "      <td>Other</td>\n",
       "      <td>Color</td>\n",
       "      <td>The Wailing</td>\n",
       "      <td>The Wailing</td>\n",
       "      <td>곡성</td>\n",
       "      <td>A stranger arrives in a little village and soo...</td>\n",
       "      <td>Unrated</td>\n",
       "      <td>7.7</td>\n",
       "      <td>10951000.0</td>\n",
       "      <td>2.39</td>\n",
       "      <td>...</td>\n",
       "      <td>0</td>\n",
       "      <td>0</td>\n",
       "      <td>4.250035</td>\n",
       "      <td>1.917963</td>\n",
       "      <td>0.000000</td>\n",
       "      <td>3.648834</td>\n",
       "      <td>5.229121</td>\n",
       "      <td>116.223876</td>\n",
       "      <td>1</td>\n",
       "      <td>58.752586</td>\n",
       "    </tr>\n",
       "    <tr>\n",
       "      <th>tt5078326</th>\n",
       "      <td>French</td>\n",
       "      <td>Color</td>\n",
       "      <td>The Country Doctor</td>\n",
       "      <td>Irreplaceable</td>\n",
       "      <td>Médecin de campagne</td>\n",
       "      <td>All the people in this countryside area, can c...</td>\n",
       "      <td>PG-13</td>\n",
       "      <td>7.2</td>\n",
       "      <td>19000000.0</td>\n",
       "      <td>1.85</td>\n",
       "      <td>...</td>\n",
       "      <td>0</td>\n",
       "      <td>0</td>\n",
       "      <td>7.488314</td>\n",
       "      <td>2.388995</td>\n",
       "      <td>1.198774</td>\n",
       "      <td>2.502277</td>\n",
       "      <td>10.108035</td>\n",
       "      <td>130.009231</td>\n",
       "      <td>1</td>\n",
       "      <td>0.000000</td>\n",
       "    </tr>\n",
       "    <tr>\n",
       "      <th>tt5001130</th>\n",
       "      <td>English</td>\n",
       "      <td>Color</td>\n",
       "      <td>Time to Choose</td>\n",
       "      <td>Time to Choose</td>\n",
       "      <td>Time to Choose</td>\n",
       "      <td>Academy Award® winning director Charles Fergus...</td>\n",
       "      <td>PG-13</td>\n",
       "      <td>7.0</td>\n",
       "      <td>3500000.0</td>\n",
       "      <td>1.85</td>\n",
       "      <td>...</td>\n",
       "      <td>0</td>\n",
       "      <td>1</td>\n",
       "      <td>3.362001</td>\n",
       "      <td>1.461064</td>\n",
       "      <td>0.000000</td>\n",
       "      <td>4.556906</td>\n",
       "      <td>4.057789</td>\n",
       "      <td>91.992876</td>\n",
       "      <td>1</td>\n",
       "      <td>0.000000</td>\n",
       "    </tr>\n",
       "  </tbody>\n",
       "</table>\n",
       "<p>3 rows × 32 columns</p>\n",
       "</div>"
      ],
      "text/plain": [
       "          original_language  color               title      movie_title  \\\n",
       "imdb_id                                                                   \n",
       "tt5215952             Other  Color         The Wailing     The Wailing    \n",
       "tt5078326            French  Color  The Country Doctor   Irreplaceable    \n",
       "tt5001130           English  Color      Time to Choose  Time to Choose    \n",
       "\n",
       "                original_title  \\\n",
       "imdb_id                          \n",
       "tt5215952                   곡성   \n",
       "tt5078326  Médecin de campagne   \n",
       "tt5001130       Time to Choose   \n",
       "\n",
       "                                                    overview content_rating  \\\n",
       "imdb_id                                                                       \n",
       "tt5215952  A stranger arrives in a little village and soo...        Unrated   \n",
       "tt5078326  All the people in this countryside area, can c...          PG-13   \n",
       "tt5001130  Academy Award® winning director Charles Fergus...          PG-13   \n",
       "\n",
       "           imdb_score  filled_budget fixed_aspect  ...  genre_Adventure  \\\n",
       "imdb_id                                            ...                    \n",
       "tt5215952         7.7     10951000.0         2.39  ...                0   \n",
       "tt5078326         7.2     19000000.0         1.85  ...                0   \n",
       "tt5001130         7.0      3500000.0         1.85  ...                0   \n",
       "\n",
       "           genre_Documentary  actor_1_facebook_likes_box  \\\n",
       "imdb_id                                                    \n",
       "tt5215952                  0                    4.250035   \n",
       "tt5078326                  0                    7.488314   \n",
       "tt5001130                  1                    3.362001   \n",
       "\n",
       "           actor_2_facebook_likes_box  actor_3_facebook_likes_box  \\\n",
       "imdb_id                                                             \n",
       "tt5215952                    1.917963                    0.000000   \n",
       "tt5078326                    2.388995                    1.198774   \n",
       "tt5001130                    1.461064                    0.000000   \n",
       "\n",
       "           director_facebook_likes_box  cast_total_facebook_likes_box  \\\n",
       "imdb_id                                                                 \n",
       "tt5215952                     3.648834                       5.229121   \n",
       "tt5078326                     2.502277                      10.108035   \n",
       "tt5001130                     4.556906                       4.057789   \n",
       "\n",
       "           budget_boxed  n_prod_locs_trunc  revenue_boxcox  \n",
       "imdb_id                                                     \n",
       "tt5215952    116.223876                  1       58.752586  \n",
       "tt5078326    130.009231                  1        0.000000  \n",
       "tt5001130     91.992876                  1        0.000000  \n",
       "\n",
       "[3 rows x 32 columns]"
      ]
     },
     "execution_count": 173,
     "metadata": {},
     "output_type": "execute_result"
    }
   ],
   "source": [
    "df_boxcox_rev.head(3)"
   ]
  },
  {
   "cell_type": "markdown",
   "metadata": {},
   "source": [
    "### IMdB Score (Response Variable)"
   ]
  },
  {
   "cell_type": "code",
   "execution_count": 174,
   "metadata": {
    "ExecuteTime": {
     "end_time": "2020-04-04T22:45:41.770038Z",
     "start_time": "2020-04-04T22:45:41.764105Z"
    }
   },
   "outputs": [
    {
     "data": {
      "text/plain": [
       "count    4803.000000\n",
       "mean        6.412742\n",
       "std         1.117837\n",
       "min         1.600000\n",
       "25%         5.800000\n",
       "50%         6.500000\n",
       "75%         7.200000\n",
       "max         9.300000\n",
       "Name: imdb_score, dtype: float64"
      ]
     },
     "execution_count": 174,
     "metadata": {},
     "output_type": "execute_result"
    }
   ],
   "source": [
    "df_boxcox_rev.imdb_score.describe()"
   ]
  },
  {
   "cell_type": "code",
   "execution_count": 175,
   "metadata": {
    "ExecuteTime": {
     "end_time": "2020-04-04T22:45:42.905645Z",
     "start_time": "2020-04-04T22:45:42.783198Z"
    }
   },
   "outputs": [
    {
     "data": {
      "text/plain": [
       "<matplotlib.axes._subplots.AxesSubplot at 0x13a644090>"
      ]
     },
     "execution_count": 175,
     "metadata": {},
     "output_type": "execute_result"
    },
    {
     "data": {
      "image/png": "[encoded data removed]",
      "text/plain": [
       "<Figure size 432x288 with 1 Axes>"
      ]
     },
     "metadata": {
      "needs_background": "light"
     },
     "output_type": "display_data"
    }
   ],
   "source": [
    "df_boxcox_rev.imdb_score.hist()"
   ]
  },
  {
   "cell_type": "markdown",
   "metadata": {},
   "source": [
    "Close to normal..."
   ]
  },
  {
   "cell_type": "code",
   "execution_count": 176,
   "metadata": {
    "ExecuteTime": {
     "end_time": "2020-04-04T22:45:44.132582Z",
     "start_time": "2020-04-04T22:45:43.899464Z"
    }
   },
   "outputs": [
    {
     "data": {
      "text/plain": [
       "<matplotlib.axes._subplots.AxesSubplot at 0x13a8cf310>"
      ]
     },
     "execution_count": 176,
     "metadata": {},
     "output_type": "execute_result"
    },
    {
     "data": {
      "image/png": "[encoded data removed]",
      "text/plain": [
       "<Figure size 432x288 with 1 Axes>"
      ]
     },
     "metadata": {
      "needs_background": "light"
     },
     "output_type": "display_data"
    }
   ],
   "source": [
    "pd.Series(boxcox(df_boxcox_rev.imdb_score)[0], name=\"imdb_score_boxed\").hist(bins=100)"
   ]
  },
  {
   "cell_type": "code",
   "execution_count": 177,
   "metadata": {
    "ExecuteTime": {
     "end_time": "2020-04-04T22:45:45.114287Z",
     "start_time": "2020-04-04T22:45:45.106732Z"
    }
   },
   "outputs": [],
   "source": [
    "imdb_score_boxed, lambda_imdb_score = boxcox(df_boxcox_rev.imdb_score)\n",
    "\n",
    "with open(\"../data/pickles/lambda_imdb_score.pkl\", \"wb\") as file:\n",
    "    pickle.dump(lambda_imdb_score, file)"
   ]
  },
  {
   "cell_type": "code",
   "execution_count": 178,
   "metadata": {
    "ExecuteTime": {
     "end_time": "2020-04-04T22:45:46.105293Z",
     "start_time": "2020-04-04T22:45:46.098868Z"
    }
   },
   "outputs": [],
   "source": [
    "df_boxcox_rev['imdb_score_boxed']=boxcox(df_boxcox_rev.imdb_score)[0]"
   ]
  },
  {
   "cell_type": "code",
   "execution_count": 179,
   "metadata": {
    "ExecuteTime": {
     "end_time": "2020-04-04T22:45:47.075362Z",
     "start_time": "2020-04-04T22:45:47.072895Z"
    }
   },
   "outputs": [],
   "source": [
    "del df_boxcox_rev['imdb_score']"
   ]
  },
  {
   "cell_type": "code",
   "execution_count": 180,
   "metadata": {
    "ExecuteTime": {
     "end_time": "2020-04-04T22:45:48.065976Z",
     "start_time": "2020-04-04T22:45:48.055018Z"
    }
   },
   "outputs": [],
   "source": [
    "df_boxcox_rev.to_pickle(\"../data/pickles/df_boxcox_rev.pkl\")"
   ]
  },
  {
   "cell_type": "markdown",
   "metadata": {},
   "source": [
    "## Free Text Columns"
   ]
  },
  {
   "cell_type": "code",
   "execution_count": 181,
   "metadata": {
    "ExecuteTime": {
     "end_time": "2020-04-04T22:45:49.038770Z",
     "start_time": "2020-04-04T22:45:49.029425Z"
    }
   },
   "outputs": [],
   "source": [
    "df_boxcox_revenue = pd.read_pickle(\"../data/pickles/df_boxcox_rev.pkl\")"
   ]
  },
  {
   "cell_type": "markdown",
   "metadata": {},
   "source": [
    "### Titles"
   ]
  },
  {
   "cell_type": "code",
   "execution_count": 182,
   "metadata": {
    "ExecuteTime": {
     "end_time": "2020-04-04T22:45:50.141913Z",
     "start_time": "2020-04-04T22:45:50.127871Z"
    }
   },
   "outputs": [
    {
     "data": {
      "text/html": [
       "<div>\n",
       "<style scoped>\n",
       "    .dataframe tbody tr th:only-of-type {\n",
       "        vertical-align: middle;\n",
       "    }\n",
       "\n",
       "    .dataframe tbody tr th {\n",
       "        vertical-align: top;\n",
       "    }\n",
       "\n",
       "    .dataframe thead th {\n",
       "        text-align: right;\n",
       "    }\n",
       "</style>\n",
       "<table border=\"1\" class=\"dataframe\">\n",
       "  <thead>\n",
       "    <tr style=\"text-align: right;\">\n",
       "      <th></th>\n",
       "      <th>title</th>\n",
       "      <th>movie_title</th>\n",
       "      <th>original_title</th>\n",
       "    </tr>\n",
       "    <tr>\n",
       "      <th>imdb_id</th>\n",
       "      <th></th>\n",
       "      <th></th>\n",
       "      <th></th>\n",
       "    </tr>\n",
       "  </thead>\n",
       "  <tbody>\n",
       "    <tr>\n",
       "      <th>tt5215952</th>\n",
       "      <td>The Wailing</td>\n",
       "      <td>The Wailing</td>\n",
       "      <td>곡성</td>\n",
       "    </tr>\n",
       "    <tr>\n",
       "      <th>tt5078326</th>\n",
       "      <td>The Country Doctor</td>\n",
       "      <td>Irreplaceable</td>\n",
       "      <td>Médecin de campagne</td>\n",
       "    </tr>\n",
       "    <tr>\n",
       "      <th>tt5001130</th>\n",
       "      <td>Time to Choose</td>\n",
       "      <td>Time to Choose</td>\n",
       "      <td>Time to Choose</td>\n",
       "    </tr>\n",
       "    <tr>\n",
       "      <th>tt4939066</th>\n",
       "      <td>Operation Chromite</td>\n",
       "      <td>Operation Chromite</td>\n",
       "      <td>인천상륙작전</td>\n",
       "    </tr>\n",
       "    <tr>\n",
       "      <th>tt4871980</th>\n",
       "      <td>The Perfect Match</td>\n",
       "      <td>The Perfect Match</td>\n",
       "      <td>The Perfect Match</td>\n",
       "    </tr>\n",
       "    <tr>\n",
       "      <th>tt4824308</th>\n",
       "      <td>God's Not Dead 2</td>\n",
       "      <td>God's Not Dead 2</td>\n",
       "      <td>God's Not Dead 2</td>\n",
       "    </tr>\n",
       "    <tr>\n",
       "      <th>tt4786282</th>\n",
       "      <td>Lights Out</td>\n",
       "      <td>Lights Out</td>\n",
       "      <td>Lights Out</td>\n",
       "    </tr>\n",
       "    <tr>\n",
       "      <th>tt4733536</th>\n",
       "      <td>American Hero</td>\n",
       "      <td>American Hero</td>\n",
       "      <td>American Hero</td>\n",
       "    </tr>\n",
       "    <tr>\n",
       "      <th>tt4707756</th>\n",
       "      <td>The World Is Mine</td>\n",
       "      <td>The World Is Mine</td>\n",
       "      <td>Lumea e a mea</td>\n",
       "    </tr>\n",
       "    <tr>\n",
       "      <th>tt4704314</th>\n",
       "      <td>To Be Frank: Sinatra at 100</td>\n",
       "      <td>To Be Frank, Sinatra at 100</td>\n",
       "      <td>To Be Frank: Sinatra at 100</td>\n",
       "    </tr>\n",
       "    <tr>\n",
       "      <th>tt4667094</th>\n",
       "      <td>Fifty Shades of Black</td>\n",
       "      <td>Fifty Shades of Black</td>\n",
       "      <td>Fifty Shades of Black</td>\n",
       "    </tr>\n",
       "    <tr>\n",
       "      <th>tt4651520</th>\n",
       "      <td>Bad Moms</td>\n",
       "      <td>Bad Moms</td>\n",
       "      <td>Bad Moms</td>\n",
       "    </tr>\n",
       "    <tr>\n",
       "      <th>tt4591310</th>\n",
       "      <td>The Monkey King 2</td>\n",
       "      <td>Xi you ji zhi: Sun Wukong san da Baigu Jing</td>\n",
       "      <td>西游记之孙悟空三打白骨精</td>\n",
       "    </tr>\n",
       "    <tr>\n",
       "      <th>tt4590482</th>\n",
       "      <td>Karachi Se Lahore</td>\n",
       "      <td>Karachi se Lahore</td>\n",
       "      <td>کراچی سے لاہور</td>\n",
       "    </tr>\n",
       "    <tr>\n",
       "      <th>tt4519006</th>\n",
       "      <td>Abandoned</td>\n",
       "      <td>Abandoned</td>\n",
       "      <td>Abandoned</td>\n",
       "    </tr>\n",
       "    <tr>\n",
       "      <th>tt4517738</th>\n",
       "      <td>Restoration</td>\n",
       "      <td>Restoration</td>\n",
       "      <td>Restoration</td>\n",
       "    </tr>\n",
       "    <tr>\n",
       "      <th>tt4511566</th>\n",
       "      <td>Navy Seals vs. Zombies</td>\n",
       "      <td>Navy Seals vs. Zombies</td>\n",
       "      <td>Navy Seals vs. Zombies</td>\n",
       "    </tr>\n",
       "    <tr>\n",
       "      <th>tt4462082</th>\n",
       "      <td>Counting</td>\n",
       "      <td>Counting</td>\n",
       "      <td>Counting</td>\n",
       "    </tr>\n",
       "    <tr>\n",
       "      <th>tt4453560</th>\n",
       "      <td>Running Forever</td>\n",
       "      <td>Running Forever</td>\n",
       "      <td>Running Forever</td>\n",
       "    </tr>\n",
       "    <tr>\n",
       "      <th>tt4438848</th>\n",
       "      <td>Neighbors 2: Sorority Rising</td>\n",
       "      <td>Neighbors 2: Sorority Rising</td>\n",
       "      <td>Neighbors 2: Sorority Rising</td>\n",
       "    </tr>\n",
       "    <tr>\n",
       "      <th>tt4416518</th>\n",
       "      <td>Shark Lake</td>\n",
       "      <td>Shark Lake</td>\n",
       "      <td>Shark Lake</td>\n",
       "    </tr>\n",
       "    <tr>\n",
       "      <th>tt4412528</th>\n",
       "      <td>Two Lovers and a Bear</td>\n",
       "      <td>Two Lovers and a Bear</td>\n",
       "      <td>Two Lovers and a Bear</td>\n",
       "    </tr>\n",
       "    <tr>\n",
       "      <th>tt4387040</th>\n",
       "      <td>Airlift</td>\n",
       "      <td>Airlift</td>\n",
       "      <td>Airlift</td>\n",
       "    </tr>\n",
       "    <tr>\n",
       "      <th>tt4386242</th>\n",
       "      <td>R.L. Stine's Monsterville: The Cabinet of Souls</td>\n",
       "      <td>R.L. Stine's Monsterville: The Cabinet of Souls</td>\n",
       "      <td>R.L. Stine's Monsterville: The Cabinet of Souls</td>\n",
       "    </tr>\n",
       "    <tr>\n",
       "      <th>tt4374230</th>\n",
       "      <td>Juliet and Alfa Romeo</td>\n",
       "      <td>Julija in alfa Romeo</td>\n",
       "      <td>Julija in Alfa Romeo</td>\n",
       "    </tr>\n",
       "    <tr>\n",
       "      <th>tt4340720</th>\n",
       "      <td>Chain of Command</td>\n",
       "      <td>Chain of Command</td>\n",
       "      <td>Chain of Command</td>\n",
       "    </tr>\n",
       "    <tr>\n",
       "      <th>tt4337690</th>\n",
       "      <td>90 Minutes in Heaven</td>\n",
       "      <td>90 Minutes in Heaven</td>\n",
       "      <td>90 Minutes in Heaven</td>\n",
       "    </tr>\n",
       "    <tr>\n",
       "      <th>tt4333662</th>\n",
       "      <td>They Will Have to Kill Us First</td>\n",
       "      <td>They Will Have to Kill Us First</td>\n",
       "      <td>They Will Have to Kill Us First</td>\n",
       "    </tr>\n",
       "    <tr>\n",
       "      <th>tt4291590</th>\n",
       "      <td>Evolution</td>\n",
       "      <td>Evolution</td>\n",
       "      <td>Évolution</td>\n",
       "    </tr>\n",
       "    <tr>\n",
       "      <th>tt4280822</th>\n",
       "      <td>Fight Valley</td>\n",
       "      <td>Fight Valley</td>\n",
       "      <td>Fight Valley</td>\n",
       "    </tr>\n",
       "    <tr>\n",
       "      <th>tt4273494</th>\n",
       "      <td>Rise of the Entrepreneur: The Search for a Bet...</td>\n",
       "      <td>Rise of the Entrepreneur: The Search for a Bet...</td>\n",
       "      <td>Rise of the Entrepreneur: The Search for a Bet...</td>\n",
       "    </tr>\n",
       "    <tr>\n",
       "      <th>tt4263482</th>\n",
       "      <td>The Witch</td>\n",
       "      <td>The Witch</td>\n",
       "      <td>The Witch</td>\n",
       "    </tr>\n",
       "    <tr>\n",
       "      <th>tt4262980</th>\n",
       "      <td>Shin Godzilla</td>\n",
       "      <td>Godzilla Resurgence</td>\n",
       "      <td>シン・ゴジラ</td>\n",
       "    </tr>\n",
       "    <tr>\n",
       "      <th>tt4257926</th>\n",
       "      <td>Miracles from Heaven</td>\n",
       "      <td>Miracles from Heaven</td>\n",
       "      <td>Miracles from Heaven</td>\n",
       "    </tr>\n",
       "    <tr>\n",
       "      <th>tt4254584</th>\n",
       "      <td>Kicks</td>\n",
       "      <td>Kicks</td>\n",
       "      <td>Kicks</td>\n",
       "    </tr>\n",
       "    <tr>\n",
       "      <th>tt4219836</th>\n",
       "      <td>Top Spin</td>\n",
       "      <td>Top Spin</td>\n",
       "      <td>Top Spin</td>\n",
       "    </tr>\n",
       "    <tr>\n",
       "      <th>tt4196848</th>\n",
       "      <td>Mr. Church</td>\n",
       "      <td>Mr. Church</td>\n",
       "      <td>Mr. Church</td>\n",
       "    </tr>\n",
       "    <tr>\n",
       "      <th>tt4196776</th>\n",
       "      <td>Jason Bourne</td>\n",
       "      <td>Jason Bourne</td>\n",
       "      <td>Jason Bourne</td>\n",
       "    </tr>\n",
       "    <tr>\n",
       "      <th>tt4196450</th>\n",
       "      <td>The Birth of a Nation</td>\n",
       "      <td>The Birth of a Nation</td>\n",
       "      <td>The Birth of a Nation</td>\n",
       "    </tr>\n",
       "    <tr>\n",
       "      <th>tt4193394</th>\n",
       "      <td>Indignation</td>\n",
       "      <td>Indignation</td>\n",
       "      <td>Indignation</td>\n",
       "    </tr>\n",
       "    <tr>\n",
       "      <th>tt4178092</th>\n",
       "      <td>The Gift</td>\n",
       "      <td>The Gift</td>\n",
       "      <td>The Gift</td>\n",
       "    </tr>\n",
       "    <tr>\n",
       "      <th>tt4172430</th>\n",
       "      <td>13 Hours: The Secret Soldiers of Benghazi</td>\n",
       "      <td>13 Hours</td>\n",
       "      <td>13 Hours: The Secret Soldiers of Benghazi</td>\n",
       "    </tr>\n",
       "    <tr>\n",
       "      <th>tt4162992</th>\n",
       "      <td>Rotor DR1</td>\n",
       "      <td>Rotor DR1</td>\n",
       "      <td>Rotor DR1</td>\n",
       "    </tr>\n",
       "    <tr>\n",
       "      <th>tt4139124</th>\n",
       "      <td>Keanu</td>\n",
       "      <td>Keanu</td>\n",
       "      <td>Keanu</td>\n",
       "    </tr>\n",
       "    <tr>\n",
       "      <th>tt4136084</th>\n",
       "      <td>Florence Foster Jenkins</td>\n",
       "      <td>Florence Foster Jenkins</td>\n",
       "      <td>Florence Foster Jenkins</td>\n",
       "    </tr>\n",
       "    <tr>\n",
       "      <th>tt4094724</th>\n",
       "      <td>The Purge: Election Year</td>\n",
       "      <td>The Purge: Election Year</td>\n",
       "      <td>The Purge: Election Year</td>\n",
       "    </tr>\n",
       "    <tr>\n",
       "      <th>tt4080386</th>\n",
       "      <td>Sardaar Ji</td>\n",
       "      <td>Sardaar Ji</td>\n",
       "      <td>ਸਰਦਾਰ ਜੀ</td>\n",
       "    </tr>\n",
       "    <tr>\n",
       "      <th>tt4075322</th>\n",
       "      <td>Savva. Heart of the Warrior</td>\n",
       "      <td>A Warrior's Tail</td>\n",
       "      <td>Савва. Сердце воина</td>\n",
       "    </tr>\n",
       "    <tr>\n",
       "      <th>tt4063178</th>\n",
       "      <td>The Dog Lover</td>\n",
       "      <td>The Dog Lover</td>\n",
       "      <td>The Dog Lover</td>\n",
       "    </tr>\n",
       "    <tr>\n",
       "      <th>tt4062896</th>\n",
       "      <td>Rodeo Girl</td>\n",
       "      <td>Rodeo Girl</td>\n",
       "      <td>Rodeo Girl</td>\n",
       "    </tr>\n",
       "  </tbody>\n",
       "</table>\n",
       "</div>"
      ],
      "text/plain": [
       "                                                       title  \\\n",
       "imdb_id                                                        \n",
       "tt5215952                                        The Wailing   \n",
       "tt5078326                                 The Country Doctor   \n",
       "tt5001130                                     Time to Choose   \n",
       "tt4939066                                 Operation Chromite   \n",
       "tt4871980                                  The Perfect Match   \n",
       "tt4824308                                   God's Not Dead 2   \n",
       "tt4786282                                         Lights Out   \n",
       "tt4733536                                      American Hero   \n",
       "tt4707756                                  The World Is Mine   \n",
       "tt4704314                        To Be Frank: Sinatra at 100   \n",
       "tt4667094                              Fifty Shades of Black   \n",
       "tt4651520                                           Bad Moms   \n",
       "tt4591310                                  The Monkey King 2   \n",
       "tt4590482                                  Karachi Se Lahore   \n",
       "tt4519006                                          Abandoned   \n",
       "tt4517738                                        Restoration   \n",
       "tt4511566                             Navy Seals vs. Zombies   \n",
       "tt4462082                                           Counting   \n",
       "tt4453560                                    Running Forever   \n",
       "tt4438848                       Neighbors 2: Sorority Rising   \n",
       "tt4416518                                         Shark Lake   \n",
       "tt4412528                              Two Lovers and a Bear   \n",
       "tt4387040                                            Airlift   \n",
       "tt4386242    R.L. Stine's Monsterville: The Cabinet of Souls   \n",
       "tt4374230                              Juliet and Alfa Romeo   \n",
       "tt4340720                                   Chain of Command   \n",
       "tt4337690                               90 Minutes in Heaven   \n",
       "tt4333662                    They Will Have to Kill Us First   \n",
       "tt4291590                                          Evolution   \n",
       "tt4280822                                       Fight Valley   \n",
       "tt4273494  Rise of the Entrepreneur: The Search for a Bet...   \n",
       "tt4263482                                          The Witch   \n",
       "tt4262980                                      Shin Godzilla   \n",
       "tt4257926                               Miracles from Heaven   \n",
       "tt4254584                                              Kicks   \n",
       "tt4219836                                           Top Spin   \n",
       "tt4196848                                         Mr. Church   \n",
       "tt4196776                                       Jason Bourne   \n",
       "tt4196450                              The Birth of a Nation   \n",
       "tt4193394                                        Indignation   \n",
       "tt4178092                                           The Gift   \n",
       "tt4172430          13 Hours: The Secret Soldiers of Benghazi   \n",
       "tt4162992                                          Rotor DR1   \n",
       "tt4139124                                              Keanu   \n",
       "tt4136084                            Florence Foster Jenkins   \n",
       "tt4094724                           The Purge: Election Year   \n",
       "tt4080386                                         Sardaar Ji   \n",
       "tt4075322                        Savva. Heart of the Warrior   \n",
       "tt4063178                                      The Dog Lover   \n",
       "tt4062896                                         Rodeo Girl   \n",
       "\n",
       "                                                 movie_title  \\\n",
       "imdb_id                                                        \n",
       "tt5215952                                       The Wailing    \n",
       "tt5078326                                     Irreplaceable    \n",
       "tt5001130                                    Time to Choose    \n",
       "tt4939066                                Operation Chromite    \n",
       "tt4871980                                 The Perfect Match    \n",
       "tt4824308                                  God's Not Dead 2    \n",
       "tt4786282                                        Lights Out    \n",
       "tt4733536                                     American Hero    \n",
       "tt4707756                                 The World Is Mine    \n",
       "tt4704314                       To Be Frank, Sinatra at 100    \n",
       "tt4667094                             Fifty Shades of Black    \n",
       "tt4651520                                          Bad Moms    \n",
       "tt4591310       Xi you ji zhi: Sun Wukong san da Baigu Jing    \n",
       "tt4590482                                 Karachi se Lahore    \n",
       "tt4519006                                         Abandoned    \n",
       "tt4517738                                       Restoration    \n",
       "tt4511566                            Navy Seals vs. Zombies    \n",
       "tt4462082                                          Counting    \n",
       "tt4453560                                   Running Forever    \n",
       "tt4438848                      Neighbors 2: Sorority Rising    \n",
       "tt4416518                                        Shark Lake    \n",
       "tt4412528                             Two Lovers and a Bear    \n",
       "tt4387040                                           Airlift    \n",
       "tt4386242   R.L. Stine's Monsterville: The Cabinet of Souls    \n",
       "tt4374230                              Julija in alfa Romeo    \n",
       "tt4340720                                  Chain of Command    \n",
       "tt4337690                              90 Minutes in Heaven    \n",
       "tt4333662                   They Will Have to Kill Us First    \n",
       "tt4291590                                         Evolution    \n",
       "tt4280822                                      Fight Valley    \n",
       "tt4273494  Rise of the Entrepreneur: The Search for a Bet...   \n",
       "tt4263482                                         The Witch    \n",
       "tt4262980                               Godzilla Resurgence    \n",
       "tt4257926                              Miracles from Heaven    \n",
       "tt4254584                                             Kicks    \n",
       "tt4219836                                          Top Spin    \n",
       "tt4196848                                        Mr. Church    \n",
       "tt4196776                                      Jason Bourne    \n",
       "tt4196450                             The Birth of a Nation    \n",
       "tt4193394                                       Indignation    \n",
       "tt4178092                                          The Gift    \n",
       "tt4172430                                          13 Hours    \n",
       "tt4162992                                         Rotor DR1    \n",
       "tt4139124                                             Keanu    \n",
       "tt4136084                           Florence Foster Jenkins    \n",
       "tt4094724                          The Purge: Election Year    \n",
       "tt4080386                                        Sardaar Ji    \n",
       "tt4075322                                  A Warrior's Tail    \n",
       "tt4063178                                     The Dog Lover    \n",
       "tt4062896                                        Rodeo Girl    \n",
       "\n",
       "                                              original_title  \n",
       "imdb_id                                                       \n",
       "tt5215952                                                 곡성  \n",
       "tt5078326                                Médecin de campagne  \n",
       "tt5001130                                     Time to Choose  \n",
       "tt4939066                                             인천상륙작전  \n",
       "tt4871980                                  The Perfect Match  \n",
       "tt4824308                                   God's Not Dead 2  \n",
       "tt4786282                                         Lights Out  \n",
       "tt4733536                                      American Hero  \n",
       "tt4707756                                      Lumea e a mea  \n",
       "tt4704314                        To Be Frank: Sinatra at 100  \n",
       "tt4667094                              Fifty Shades of Black  \n",
       "tt4651520                                           Bad Moms  \n",
       "tt4591310                                       西游记之孙悟空三打白骨精  \n",
       "tt4590482                                     کراچی سے لاہور  \n",
       "tt4519006                                          Abandoned  \n",
       "tt4517738                                        Restoration  \n",
       "tt4511566                             Navy Seals vs. Zombies  \n",
       "tt4462082                                           Counting  \n",
       "tt4453560                                    Running Forever  \n",
       "tt4438848                       Neighbors 2: Sorority Rising  \n",
       "tt4416518                                         Shark Lake  \n",
       "tt4412528                              Two Lovers and a Bear  \n",
       "tt4387040                                            Airlift  \n",
       "tt4386242    R.L. Stine's Monsterville: The Cabinet of Souls  \n",
       "tt4374230                               Julija in Alfa Romeo  \n",
       "tt4340720                                   Chain of Command  \n",
       "tt4337690                               90 Minutes in Heaven  \n",
       "tt4333662                    They Will Have to Kill Us First  \n",
       "tt4291590                                          Évolution  \n",
       "tt4280822                                       Fight Valley  \n",
       "tt4273494  Rise of the Entrepreneur: The Search for a Bet...  \n",
       "tt4263482                                          The Witch  \n",
       "tt4262980                                             シン・ゴジラ  \n",
       "tt4257926                               Miracles from Heaven  \n",
       "tt4254584                                              Kicks  \n",
       "tt4219836                                           Top Spin  \n",
       "tt4196848                                         Mr. Church  \n",
       "tt4196776                                       Jason Bourne  \n",
       "tt4196450                              The Birth of a Nation  \n",
       "tt4193394                                        Indignation  \n",
       "tt4178092                                           The Gift  \n",
       "tt4172430          13 Hours: The Secret Soldiers of Benghazi  \n",
       "tt4162992                                          Rotor DR1  \n",
       "tt4139124                                              Keanu  \n",
       "tt4136084                            Florence Foster Jenkins  \n",
       "tt4094724                           The Purge: Election Year  \n",
       "tt4080386                                           ਸਰਦਾਰ ਜੀ  \n",
       "tt4075322                                Савва. Сердце воина  \n",
       "tt4063178                                      The Dog Lover  \n",
       "tt4062896                                         Rodeo Girl  "
      ]
     },
     "execution_count": 182,
     "metadata": {},
     "output_type": "execute_result"
    }
   ],
   "source": [
    "titles = df_boxcox_revenue[\"title movie_title original_title\".split()]\n",
    "titles.head(50)"
   ]
  },
  {
   "cell_type": "code",
   "execution_count": 183,
   "metadata": {
    "ExecuteTime": {
     "end_time": "2020-04-04T22:45:51.252222Z",
     "start_time": "2020-04-04T22:45:51.248822Z"
    }
   },
   "outputs": [
    {
     "data": {
      "text/plain": [
       "False"
      ]
     },
     "execution_count": 183,
     "metadata": {},
     "output_type": "execute_result"
    }
   ],
   "source": [
    "titles['title'].iloc[0] == titles[\"movie_title\"].iloc[0]"
   ]
  },
  {
   "cell_type": "code",
   "execution_count": 184,
   "metadata": {
    "ExecuteTime": {
     "end_time": "2020-04-04T22:45:52.361811Z",
     "start_time": "2020-04-04T22:45:52.359021Z"
    }
   },
   "outputs": [
    {
     "data": {
      "text/plain": [
       "'The Wailing'"
      ]
     },
     "execution_count": 184,
     "metadata": {},
     "output_type": "execute_result"
    }
   ],
   "source": [
    "titles['title'].iloc[0]"
   ]
  },
  {
   "cell_type": "code",
   "execution_count": 185,
   "metadata": {
    "ExecuteTime": {
     "end_time": "2020-04-04T22:45:53.447485Z",
     "start_time": "2020-04-04T22:45:53.444132Z"
    }
   },
   "outputs": [
    {
     "data": {
      "text/plain": [
       "'The Wailing\\xa0'"
      ]
     },
     "execution_count": 185,
     "metadata": {},
     "output_type": "execute_result"
    }
   ],
   "source": [
    "titles[\"movie_title\"].iloc[0]"
   ]
  },
  {
   "cell_type": "code",
   "execution_count": 186,
   "metadata": {
    "ExecuteTime": {
     "end_time": "2020-04-04T22:45:54.545700Z",
     "start_time": "2020-04-04T22:45:54.539606Z"
    }
   },
   "outputs": [
    {
     "name": "stderr",
     "output_type": "stream",
     "text": [
      "/Users/admin/.local/share/virtualenvs/Good-Film-Bad-Film-vaMlpeB4/lib/python3.7/site-packages/ipykernel_launcher.py:1: SettingWithCopyWarning: \n",
      "A value is trying to be set on a copy of a slice from a DataFrame.\n",
      "Try using .loc[row_indexer,col_indexer] = value instead\n",
      "\n",
      "See the caveats in the documentation: https://pandas.pydata.org/pandas-docs/stable/user_guide/indexing.html#returning-a-view-versus-a-copy\n",
      "  \"\"\"Entry point for launching an IPython kernel.\n"
     ]
    }
   ],
   "source": [
    "titles['movie_title'] = titles['movie_title'].apply(lambda title: normalize('NFKD', title).strip())"
   ]
  },
  {
   "cell_type": "code",
   "execution_count": 187,
   "metadata": {
    "ExecuteTime": {
     "end_time": "2020-04-04T22:45:55.644793Z",
     "start_time": "2020-04-04T22:45:55.641671Z"
    }
   },
   "outputs": [
    {
     "data": {
      "text/plain": [
       "True"
      ]
     },
     "execution_count": 187,
     "metadata": {},
     "output_type": "execute_result"
    }
   ],
   "source": [
    "titles['title'].iloc[0] == titles[\"movie_title\"].iloc[0]"
   ]
  },
  {
   "cell_type": "code",
   "execution_count": 188,
   "metadata": {
    "ExecuteTime": {
     "end_time": "2020-04-04T22:45:56.735289Z",
     "start_time": "2020-04-04T22:45:56.731243Z"
    }
   },
   "outputs": [
    {
     "data": {
      "text/plain": [
       "(228, 3)"
      ]
     },
     "execution_count": 188,
     "metadata": {},
     "output_type": "execute_result"
    }
   ],
   "source": [
    "titles[titles.title != titles.movie_title].shape"
   ]
  },
  {
   "cell_type": "code",
   "execution_count": 189,
   "metadata": {
    "ExecuteTime": {
     "end_time": "2020-04-04T22:45:57.826940Z",
     "start_time": "2020-04-04T22:45:57.816038Z"
    }
   },
   "outputs": [
    {
     "data": {
      "text/html": [
       "<div>\n",
       "<style scoped>\n",
       "    .dataframe tbody tr th:only-of-type {\n",
       "        vertical-align: middle;\n",
       "    }\n",
       "\n",
       "    .dataframe tbody tr th {\n",
       "        vertical-align: top;\n",
       "    }\n",
       "\n",
       "    .dataframe thead th {\n",
       "        text-align: right;\n",
       "    }\n",
       "</style>\n",
       "<table border=\"1\" class=\"dataframe\">\n",
       "  <thead>\n",
       "    <tr style=\"text-align: right;\">\n",
       "      <th></th>\n",
       "      <th>title</th>\n",
       "      <th>movie_title</th>\n",
       "      <th>original_title</th>\n",
       "    </tr>\n",
       "    <tr>\n",
       "      <th>imdb_id</th>\n",
       "      <th></th>\n",
       "      <th></th>\n",
       "      <th></th>\n",
       "    </tr>\n",
       "  </thead>\n",
       "  <tbody>\n",
       "    <tr>\n",
       "      <th>tt5078326</th>\n",
       "      <td>The Country Doctor</td>\n",
       "      <td>Irreplaceable</td>\n",
       "      <td>Médecin de campagne</td>\n",
       "    </tr>\n",
       "    <tr>\n",
       "      <th>tt4704314</th>\n",
       "      <td>To Be Frank: Sinatra at 100</td>\n",
       "      <td>To Be Frank, Sinatra at 100</td>\n",
       "      <td>To Be Frank: Sinatra at 100</td>\n",
       "    </tr>\n",
       "    <tr>\n",
       "      <th>tt4591310</th>\n",
       "      <td>The Monkey King 2</td>\n",
       "      <td>Xi you ji zhi: Sun Wukong san da Baigu Jing</td>\n",
       "      <td>西游记之孙悟空三打白骨精</td>\n",
       "    </tr>\n",
       "    <tr>\n",
       "      <th>tt4590482</th>\n",
       "      <td>Karachi Se Lahore</td>\n",
       "      <td>Karachi se Lahore</td>\n",
       "      <td>کراچی سے لاہور</td>\n",
       "    </tr>\n",
       "    <tr>\n",
       "      <th>tt4374230</th>\n",
       "      <td>Juliet and Alfa Romeo</td>\n",
       "      <td>Julija in alfa Romeo</td>\n",
       "      <td>Julija in Alfa Romeo</td>\n",
       "    </tr>\n",
       "    <tr>\n",
       "      <th>tt4262980</th>\n",
       "      <td>Shin Godzilla</td>\n",
       "      <td>Godzilla Resurgence</td>\n",
       "      <td>シン・ゴジラ</td>\n",
       "    </tr>\n",
       "    <tr>\n",
       "      <th>tt4172430</th>\n",
       "      <td>13 Hours: The Secret Soldiers of Benghazi</td>\n",
       "      <td>13 Hours</td>\n",
       "      <td>13 Hours: The Secret Soldiers of Benghazi</td>\n",
       "    </tr>\n",
       "    <tr>\n",
       "      <th>tt4075322</th>\n",
       "      <td>Savva. Heart of the Warrior</td>\n",
       "      <td>A Warrior's Tail</td>\n",
       "      <td>Савва. Сердце воина</td>\n",
       "    </tr>\n",
       "    <tr>\n",
       "      <th>tt4061848</th>\n",
       "      <td>Alpha and Omega: The Legend of the Saw Tooth Cave</td>\n",
       "      <td>Alpha and Omega 4: The Legend of the Saw Tooth...</td>\n",
       "      <td>Alpha and Omega: The Legend of the Saw Tooth Cave</td>\n",
       "    </tr>\n",
       "    <tr>\n",
       "      <th>tt4046784</th>\n",
       "      <td>Maze Runner: The Scorch Trials</td>\n",
       "      <td>The Scorch Trials</td>\n",
       "      <td>Maze Runner: The Scorch Trials</td>\n",
       "    </tr>\n",
       "    <tr>\n",
       "      <th>tt3719896</th>\n",
       "      <td>My All American</td>\n",
       "      <td>Courage</td>\n",
       "      <td>My All American</td>\n",
       "    </tr>\n",
       "    <tr>\n",
       "      <th>tt3565836</th>\n",
       "      <td>American Beast</td>\n",
       "      <td>Solitude</td>\n",
       "      <td>Solitude</td>\n",
       "    </tr>\n",
       "    <tr>\n",
       "      <th>tt3547740</th>\n",
       "      <td>The Bélier Family</td>\n",
       "      <td>La Famille Bélier</td>\n",
       "      <td>La Famille Bélier</td>\n",
       "    </tr>\n",
       "    <tr>\n",
       "      <th>tt3469440</th>\n",
       "      <td>Z  Storm</td>\n",
       "      <td>Z Storm</td>\n",
       "      <td>Z 風暴</td>\n",
       "    </tr>\n",
       "    <tr>\n",
       "      <th>tt3214286</th>\n",
       "      <td>A LEGO Brickumentary</td>\n",
       "      <td>A Lego Brickumentary</td>\n",
       "      <td>A LEGO Brickumentary</td>\n",
       "    </tr>\n",
       "    <tr>\n",
       "      <th>tt3148834</th>\n",
       "      <td>The House of Magic</td>\n",
       "      <td>Thunder and the House of Magic</td>\n",
       "      <td>The House of Magic</td>\n",
       "    </tr>\n",
       "    <tr>\n",
       "      <th>tt3109200</th>\n",
       "      <td>Dude Where's My Dog?</td>\n",
       "      <td>Dude, Where's My Dog?!</td>\n",
       "      <td>Dude Where's My Dog?</td>\n",
       "    </tr>\n",
       "    <tr>\n",
       "      <th>tt3072636</th>\n",
       "      <td>The Past Is a Grotesque Animal</td>\n",
       "      <td>The Past is a Grotesque Animal</td>\n",
       "      <td>The Past Is a Grotesque Animal</td>\n",
       "    </tr>\n",
       "    <tr>\n",
       "      <th>tt3063516</th>\n",
       "      <td>Jackass Presents: Bad Grandpa</td>\n",
       "      <td>Bad Grandpa</td>\n",
       "      <td>Jackass Presents: Bad Grandpa</td>\n",
       "    </tr>\n",
       "    <tr>\n",
       "      <th>tt3000844</th>\n",
       "      <td>Signed, Sealed, Delivered</td>\n",
       "      <td>Signed Sealed Delivered</td>\n",
       "      <td>Signed, Sealed, Delivered</td>\n",
       "    </tr>\n",
       "    <tr>\n",
       "      <th>tt2952602</th>\n",
       "      <td>Kung Fu Jungle</td>\n",
       "      <td>Kung Fu Killer</td>\n",
       "      <td>一個人的武林</td>\n",
       "    </tr>\n",
       "    <tr>\n",
       "      <th>tt2876428</th>\n",
       "      <td>Guten Tag, Ramón</td>\n",
       "      <td>Buen Día, Ramón</td>\n",
       "      <td>Guten Tag, Ramón</td>\n",
       "    </tr>\n",
       "    <tr>\n",
       "      <th>tt2800038</th>\n",
       "      <td>Atlas Shrugged: Part III</td>\n",
       "      <td>Atlas Shrugged: Who Is John Galt?</td>\n",
       "      <td>Atlas Shrugged: Part III</td>\n",
       "    </tr>\n",
       "    <tr>\n",
       "      <th>tt2690560</th>\n",
       "      <td>Reality Show</td>\n",
       "      <td>Shooting the Warwicks</td>\n",
       "      <td>Reality Show</td>\n",
       "    </tr>\n",
       "    <tr>\n",
       "      <th>tt2668134</th>\n",
       "      <td>Space Pirate Captain Harlock</td>\n",
       "      <td>Harlock: Space Pirate</td>\n",
       "      <td>キャプテンハーロック</td>\n",
       "    </tr>\n",
       "    <tr>\n",
       "      <th>tt2631186</th>\n",
       "      <td>Bahubali: The Beginning</td>\n",
       "      <td>Baahubali: The Beginning</td>\n",
       "      <td>Bahubali: The Beginning</td>\n",
       "    </tr>\n",
       "    <tr>\n",
       "      <th>tt2628316</th>\n",
       "      <td>Green Street Hooligans: Underground</td>\n",
       "      <td>Green Street 3: Never Back Down</td>\n",
       "      <td>Green Street Hooligans: Underground</td>\n",
       "    </tr>\n",
       "    <tr>\n",
       "      <th>tt2577172</th>\n",
       "      <td>GirlHouse</td>\n",
       "      <td>Girl House</td>\n",
       "      <td>GirlHouse</td>\n",
       "    </tr>\n",
       "    <tr>\n",
       "      <th>tt2553908</th>\n",
       "      <td>Cinco de Mayo: La Batalla</td>\n",
       "      <td>Cinco de Mayo, La Batalla</td>\n",
       "      <td>Cinco de Mayo: La Batalla</td>\n",
       "    </tr>\n",
       "    <tr>\n",
       "      <th>tt2417650</th>\n",
       "      <td>30 Nights of Paranormal Activity With the Devi...</td>\n",
       "      <td>30 Nights of Paranormal Activity with the Devi...</td>\n",
       "      <td>30 Nights of Paranormal Activity With the Devi...</td>\n",
       "    </tr>\n",
       "  </tbody>\n",
       "</table>\n",
       "</div>"
      ],
      "text/plain": [
       "                                                       title  \\\n",
       "imdb_id                                                        \n",
       "tt5078326                                 The Country Doctor   \n",
       "tt4704314                        To Be Frank: Sinatra at 100   \n",
       "tt4591310                                  The Monkey King 2   \n",
       "tt4590482                                  Karachi Se Lahore   \n",
       "tt4374230                              Juliet and Alfa Romeo   \n",
       "tt4262980                                      Shin Godzilla   \n",
       "tt4172430          13 Hours: The Secret Soldiers of Benghazi   \n",
       "tt4075322                        Savva. Heart of the Warrior   \n",
       "tt4061848  Alpha and Omega: The Legend of the Saw Tooth Cave   \n",
       "tt4046784                     Maze Runner: The Scorch Trials   \n",
       "tt3719896                                    My All American   \n",
       "tt3565836                                     American Beast   \n",
       "tt3547740                                  The Bélier Family   \n",
       "tt3469440                                           Z  Storm   \n",
       "tt3214286                               A LEGO Brickumentary   \n",
       "tt3148834                                 The House of Magic   \n",
       "tt3109200                               Dude Where's My Dog?   \n",
       "tt3072636                     The Past Is a Grotesque Animal   \n",
       "tt3063516                      Jackass Presents: Bad Grandpa   \n",
       "tt3000844                          Signed, Sealed, Delivered   \n",
       "tt2952602                                     Kung Fu Jungle   \n",
       "tt2876428                                   Guten Tag, Ramón   \n",
       "tt2800038                           Atlas Shrugged: Part III   \n",
       "tt2690560                                       Reality Show   \n",
       "tt2668134                       Space Pirate Captain Harlock   \n",
       "tt2631186                            Bahubali: The Beginning   \n",
       "tt2628316                Green Street Hooligans: Underground   \n",
       "tt2577172                                          GirlHouse   \n",
       "tt2553908                          Cinco de Mayo: La Batalla   \n",
       "tt2417650  30 Nights of Paranormal Activity With the Devi...   \n",
       "\n",
       "                                                 movie_title  \\\n",
       "imdb_id                                                        \n",
       "tt5078326                                      Irreplaceable   \n",
       "tt4704314                        To Be Frank, Sinatra at 100   \n",
       "tt4591310        Xi you ji zhi: Sun Wukong san da Baigu Jing   \n",
       "tt4590482                                  Karachi se Lahore   \n",
       "tt4374230                               Julija in alfa Romeo   \n",
       "tt4262980                                Godzilla Resurgence   \n",
       "tt4172430                                           13 Hours   \n",
       "tt4075322                                   A Warrior's Tail   \n",
       "tt4061848  Alpha and Omega 4: The Legend of the Saw Tooth...   \n",
       "tt4046784                                  The Scorch Trials   \n",
       "tt3719896                                            Courage   \n",
       "tt3565836                                           Solitude   \n",
       "tt3547740                                 La Famille Bélier   \n",
       "tt3469440                                            Z Storm   \n",
       "tt3214286                               A Lego Brickumentary   \n",
       "tt3148834                     Thunder and the House of Magic   \n",
       "tt3109200                             Dude, Where's My Dog?!   \n",
       "tt3072636                     The Past is a Grotesque Animal   \n",
       "tt3063516                                        Bad Grandpa   \n",
       "tt3000844                            Signed Sealed Delivered   \n",
       "tt2952602                                     Kung Fu Killer   \n",
       "tt2876428                                  Buen Día, Ramón   \n",
       "tt2800038                  Atlas Shrugged: Who Is John Galt?   \n",
       "tt2690560                              Shooting the Warwicks   \n",
       "tt2668134                              Harlock: Space Pirate   \n",
       "tt2631186                           Baahubali: The Beginning   \n",
       "tt2628316                    Green Street 3: Never Back Down   \n",
       "tt2577172                                         Girl House   \n",
       "tt2553908                          Cinco de Mayo, La Batalla   \n",
       "tt2417650  30 Nights of Paranormal Activity with the Devi...   \n",
       "\n",
       "                                              original_title  \n",
       "imdb_id                                                       \n",
       "tt5078326                                Médecin de campagne  \n",
       "tt4704314                        To Be Frank: Sinatra at 100  \n",
       "tt4591310                                       西游记之孙悟空三打白骨精  \n",
       "tt4590482                                     کراچی سے لاہور  \n",
       "tt4374230                               Julija in Alfa Romeo  \n",
       "tt4262980                                             シン・ゴジラ  \n",
       "tt4172430          13 Hours: The Secret Soldiers of Benghazi  \n",
       "tt4075322                                Савва. Сердце воина  \n",
       "tt4061848  Alpha and Omega: The Legend of the Saw Tooth Cave  \n",
       "tt4046784                     Maze Runner: The Scorch Trials  \n",
       "tt3719896                                    My All American  \n",
       "tt3565836                                           Solitude  \n",
       "tt3547740                                  La Famille Bélier  \n",
       "tt3469440                                               Z 風暴  \n",
       "tt3214286                               A LEGO Brickumentary  \n",
       "tt3148834                                 The House of Magic  \n",
       "tt3109200                               Dude Where's My Dog?  \n",
       "tt3072636                     The Past Is a Grotesque Animal  \n",
       "tt3063516                      Jackass Presents: Bad Grandpa  \n",
       "tt3000844                          Signed, Sealed, Delivered  \n",
       "tt2952602                                             一個人的武林  \n",
       "tt2876428                                   Guten Tag, Ramón  \n",
       "tt2800038                           Atlas Shrugged: Part III  \n",
       "tt2690560                                       Reality Show  \n",
       "tt2668134                                         キャプテンハーロック  \n",
       "tt2631186                            Bahubali: The Beginning  \n",
       "tt2628316                Green Street Hooligans: Underground  \n",
       "tt2577172                                          GirlHouse  \n",
       "tt2553908                          Cinco de Mayo: La Batalla  \n",
       "tt2417650  30 Nights of Paranormal Activity With the Devi...  "
      ]
     },
     "execution_count": 189,
     "metadata": {},
     "output_type": "execute_result"
    }
   ],
   "source": [
    "titles[titles.title != titles.movie_title].head(30)"
   ]
  },
  {
   "cell_type": "markdown",
   "metadata": {},
   "source": [
    "I can't tell just from looking which of these is the definitive \"right\" column to use. Original_title seems more likely to be in a foreign language..."
   ]
  },
  {
   "cell_type": "code",
   "execution_count": 190,
   "metadata": {
    "ExecuteTime": {
     "end_time": "2020-04-04T22:45:58.929179Z",
     "start_time": "2020-04-04T22:45:58.918515Z"
    }
   },
   "outputs": [
    {
     "data": {
      "text/html": [
       "<div>\n",
       "<style scoped>\n",
       "    .dataframe tbody tr th:only-of-type {\n",
       "        vertical-align: middle;\n",
       "    }\n",
       "\n",
       "    .dataframe tbody tr th {\n",
       "        vertical-align: top;\n",
       "    }\n",
       "\n",
       "    .dataframe thead th {\n",
       "        text-align: right;\n",
       "    }\n",
       "</style>\n",
       "<table border=\"1\" class=\"dataframe\">\n",
       "  <thead>\n",
       "    <tr style=\"text-align: right;\">\n",
       "      <th></th>\n",
       "      <th>title</th>\n",
       "      <th>movie_title</th>\n",
       "      <th>original_title</th>\n",
       "    </tr>\n",
       "    <tr>\n",
       "      <th>imdb_id</th>\n",
       "      <th></th>\n",
       "      <th></th>\n",
       "      <th></th>\n",
       "    </tr>\n",
       "  </thead>\n",
       "  <tbody>\n",
       "    <tr>\n",
       "      <th>tt0108500</th>\n",
       "      <td>The Visitors</td>\n",
       "      <td>Les visiteurs</td>\n",
       "      <td>Les Visiteurs</td>\n",
       "    </tr>\n",
       "    <tr>\n",
       "      <th>tt0107953</th>\n",
       "      <td>Return of the Living Dead 3</td>\n",
       "      <td>Return of the Living Dead III</td>\n",
       "      <td>Return of the Living Dead 3</td>\n",
       "    </tr>\n",
       "    <tr>\n",
       "      <th>tt0107659</th>\n",
       "      <td>National Lampoon's Loaded Weapon 1</td>\n",
       "      <td>Loaded Weapon 1</td>\n",
       "      <td>National Lampoon's Loaded Weapon 1</td>\n",
       "    </tr>\n",
       "    <tr>\n",
       "      <th>tt0106469</th>\n",
       "      <td>Bound by Honor</td>\n",
       "      <td>Blood In, Blood Out</td>\n",
       "      <td>Bound by Honor</td>\n",
       "    </tr>\n",
       "    <tr>\n",
       "      <th>tt0103874</th>\n",
       "      <td>Dracula</td>\n",
       "      <td>Bram Stoker's Dracula</td>\n",
       "      <td>Dracula</td>\n",
       "    </tr>\n",
       "    <tr>\n",
       "      <th>tt0103644</th>\n",
       "      <td>Alien³</td>\n",
       "      <td>Alien 3</td>\n",
       "      <td>Alien³</td>\n",
       "    </tr>\n",
       "    <tr>\n",
       "      <th>tt0102510</th>\n",
       "      <td>The Naked Gun 2½: The Smell of Fear</td>\n",
       "      <td>The Naked Gun 21⁄2: The Smell of Fear</td>\n",
       "      <td>The Naked Gun 2½: The Smell of Fear</td>\n",
       "    </tr>\n",
       "    <tr>\n",
       "      <th>tt0099685</th>\n",
       "      <td>GoodFellas</td>\n",
       "      <td>Goodfellas</td>\n",
       "      <td>GoodFellas</td>\n",
       "    </tr>\n",
       "    <tr>\n",
       "      <th>tt0098724</th>\n",
       "      <td>sex, lies, and videotape</td>\n",
       "      <td>Sex, Lies, and Videotape</td>\n",
       "      <td>sex, lies, and videotape</td>\n",
       "    </tr>\n",
       "    <tr>\n",
       "      <th>tt0097981</th>\n",
       "      <td>A Nightmare on Elm Street: The Dream Child</td>\n",
       "      <td>A Nightmare on Elm Street 5: The Dream Child</td>\n",
       "      <td>A Nightmare on Elm Street: The Dream Child</td>\n",
       "    </tr>\n",
       "    <tr>\n",
       "      <th>tt0097474</th>\n",
       "      <td>Halloween 5: The Revenge of Michael Myers</td>\n",
       "      <td>Halloween 5</td>\n",
       "      <td>Halloween 5: The Revenge of Michael Myers</td>\n",
       "    </tr>\n",
       "    <tr>\n",
       "      <th>tt0095687</th>\n",
       "      <td>My Stepmother is an Alien</td>\n",
       "      <td>My Stepmother Is an Alien</td>\n",
       "      <td>My Stepmother is an Alien</td>\n",
       "    </tr>\n",
       "    <tr>\n",
       "      <th>tt0091635</th>\n",
       "      <td>Nine 1/2 Weeks</td>\n",
       "      <td>91⁄2 Weeks</td>\n",
       "      <td>Nine 1/2 Weeks</td>\n",
       "    </tr>\n",
       "    <tr>\n",
       "      <th>tt0091080</th>\n",
       "      <td>Friday the 13th Part VI: Jason Lives</td>\n",
       "      <td>Jason Lives: Friday the 13th Part VI</td>\n",
       "      <td>Friday the 13th Part VI: Jason Lives</td>\n",
       "    </tr>\n",
       "    <tr>\n",
       "      <th>tt0089686</th>\n",
       "      <td>A Nightmare on Elm Street Part 2: Freddy's Rev...</td>\n",
       "      <td>A Nightmare on Elm Street 2: Freddy's Revenge</td>\n",
       "      <td>A Nightmare on Elm Street Part 2: Freddy's Rev...</td>\n",
       "    </tr>\n",
       "    <tr>\n",
       "      <th>tt0086190</th>\n",
       "      <td>Return of the Jedi</td>\n",
       "      <td>Star Wars: Episode VI - Return of the Jedi</td>\n",
       "      <td>Return of the Jedi</td>\n",
       "    </tr>\n",
       "    <tr>\n",
       "      <th>tt0084171</th>\n",
       "      <td>Jekyll and Hyde ... Together Again</td>\n",
       "      <td>Jekyll and Hyde... Together Again</td>\n",
       "      <td>Jekyll and Hyde ... Together Again</td>\n",
       "    </tr>\n",
       "    <tr>\n",
       "      <th>tt0082694</th>\n",
       "      <td>Mad Max 2</td>\n",
       "      <td>Mad Max 2: The Road Warrior</td>\n",
       "      <td>Mad Max 2</td>\n",
       "    </tr>\n",
       "    <tr>\n",
       "      <th>tt0080684</th>\n",
       "      <td>The Empire Strikes Back</td>\n",
       "      <td>Star Wars: Episode V - The Empire Strikes Back</td>\n",
       "      <td>The Empire Strikes Back</td>\n",
       "    </tr>\n",
       "    <tr>\n",
       "      <th>tt0079240</th>\n",
       "      <td>The First Great Train Robbery</td>\n",
       "      <td>The Great Train Robbery</td>\n",
       "      <td>The First Great Train Robbery</td>\n",
       "    </tr>\n",
       "    <tr>\n",
       "      <th>tt0078723</th>\n",
       "      <td>1941</td>\n",
       "      <td>1941</td>\n",
       "      <td>1941</td>\n",
       "    </tr>\n",
       "    <tr>\n",
       "      <th>tt0076759</th>\n",
       "      <td>Star Wars</td>\n",
       "      <td>Star Wars: Episode IV - A New Hope</td>\n",
       "      <td>Star Wars</td>\n",
       "    </tr>\n",
       "    <tr>\n",
       "      <th>tt0072626</th>\n",
       "      <td>The House of the Dead</td>\n",
       "      <td>Alien Zone</td>\n",
       "      <td>The House of the Dead</td>\n",
       "    </tr>\n",
       "    <tr>\n",
       "      <th>tt0069467</th>\n",
       "      <td>Cries and Whispers</td>\n",
       "      <td>Cries &amp; Whispers</td>\n",
       "      <td>Viskningar och rop</td>\n",
       "    </tr>\n",
       "    <tr>\n",
       "      <th>tt0068555</th>\n",
       "      <td>Everything You Always Wanted to Know About Sex...</td>\n",
       "      <td>Everything You Always Wanted to Know About Sex...</td>\n",
       "      <td>Everything You Always Wanted to Know About Sex...</td>\n",
       "    </tr>\n",
       "    <tr>\n",
       "      <th>tt0068156</th>\n",
       "      <td>1776</td>\n",
       "      <td>1776</td>\n",
       "      <td>1776</td>\n",
       "    </tr>\n",
       "    <tr>\n",
       "      <th>tt0062235</th>\n",
       "      <td>The Snake Pit and the Pendulum</td>\n",
       "      <td>The Torture Chamber of Dr. Sadism</td>\n",
       "      <td>Die Schlangengrube und das Pendel</td>\n",
       "    </tr>\n",
       "    <tr>\n",
       "      <th>tt0061747</th>\n",
       "      <td>Hang 'em High</td>\n",
       "      <td>Hang 'Em High</td>\n",
       "      <td>Hang 'em High</td>\n",
       "    </tr>\n",
       "    <tr>\n",
       "      <th>tt0060153</th>\n",
       "      <td>Batman</td>\n",
       "      <td>Batman: The Movie</td>\n",
       "      <td>Batman</td>\n",
       "    </tr>\n",
       "    <tr>\n",
       "      <th>tt0058701</th>\n",
       "      <td>The Married Woman</td>\n",
       "      <td>Une Femme Mariée</td>\n",
       "      <td>Une femme mariée: Suite de fragments d'un film...</td>\n",
       "    </tr>\n",
       "  </tbody>\n",
       "</table>\n",
       "</div>"
      ],
      "text/plain": [
       "                                                       title  \\\n",
       "imdb_id                                                        \n",
       "tt0108500                                       The Visitors   \n",
       "tt0107953                        Return of the Living Dead 3   \n",
       "tt0107659                 National Lampoon's Loaded Weapon 1   \n",
       "tt0106469                                     Bound by Honor   \n",
       "tt0103874                                            Dracula   \n",
       "tt0103644                                             Alien³   \n",
       "tt0102510                The Naked Gun 2½: The Smell of Fear   \n",
       "tt0099685                                         GoodFellas   \n",
       "tt0098724                           sex, lies, and videotape   \n",
       "tt0097981         A Nightmare on Elm Street: The Dream Child   \n",
       "tt0097474          Halloween 5: The Revenge of Michael Myers   \n",
       "tt0095687                          My Stepmother is an Alien   \n",
       "tt0091635                                     Nine 1/2 Weeks   \n",
       "tt0091080               Friday the 13th Part VI: Jason Lives   \n",
       "tt0089686  A Nightmare on Elm Street Part 2: Freddy's Rev...   \n",
       "tt0086190                                 Return of the Jedi   \n",
       "tt0084171                 Jekyll and Hyde ... Together Again   \n",
       "tt0082694                                          Mad Max 2   \n",
       "tt0080684                            The Empire Strikes Back   \n",
       "tt0079240                      The First Great Train Robbery   \n",
       "tt0078723                                               1941   \n",
       "tt0076759                                          Star Wars   \n",
       "tt0072626                              The House of the Dead   \n",
       "tt0069467                                 Cries and Whispers   \n",
       "tt0068555  Everything You Always Wanted to Know About Sex...   \n",
       "tt0068156                                               1776   \n",
       "tt0062235                     The Snake Pit and the Pendulum   \n",
       "tt0061747                                      Hang 'em High   \n",
       "tt0060153                                             Batman   \n",
       "tt0058701                                  The Married Woman   \n",
       "\n",
       "                                                 movie_title  \\\n",
       "imdb_id                                                        \n",
       "tt0108500                                      Les visiteurs   \n",
       "tt0107953                      Return of the Living Dead III   \n",
       "tt0107659                                    Loaded Weapon 1   \n",
       "tt0106469                                Blood In, Blood Out   \n",
       "tt0103874                              Bram Stoker's Dracula   \n",
       "tt0103644                                            Alien 3   \n",
       "tt0102510              The Naked Gun 21⁄2: The Smell of Fear   \n",
       "tt0099685                                         Goodfellas   \n",
       "tt0098724                           Sex, Lies, and Videotape   \n",
       "tt0097981       A Nightmare on Elm Street 5: The Dream Child   \n",
       "tt0097474                                        Halloween 5   \n",
       "tt0095687                          My Stepmother Is an Alien   \n",
       "tt0091635                                         91⁄2 Weeks   \n",
       "tt0091080               Jason Lives: Friday the 13th Part VI   \n",
       "tt0089686      A Nightmare on Elm Street 2: Freddy's Revenge   \n",
       "tt0086190         Star Wars: Episode VI - Return of the Jedi   \n",
       "tt0084171                  Jekyll and Hyde... Together Again   \n",
       "tt0082694                        Mad Max 2: The Road Warrior   \n",
       "tt0080684     Star Wars: Episode V - The Empire Strikes Back   \n",
       "tt0079240                            The Great Train Robbery   \n",
       "tt0078723                                               1941   \n",
       "tt0076759                 Star Wars: Episode IV - A New Hope   \n",
       "tt0072626                                         Alien Zone   \n",
       "tt0069467                                   Cries & Whispers   \n",
       "tt0068555  Everything You Always Wanted to Know About Sex...   \n",
       "tt0068156                                               1776   \n",
       "tt0062235                  The Torture Chamber of Dr. Sadism   \n",
       "tt0061747                                      Hang 'Em High   \n",
       "tt0060153                                  Batman: The Movie   \n",
       "tt0058701                                  Une Femme Mariée   \n",
       "\n",
       "                                              original_title  \n",
       "imdb_id                                                       \n",
       "tt0108500                                      Les Visiteurs  \n",
       "tt0107953                        Return of the Living Dead 3  \n",
       "tt0107659                 National Lampoon's Loaded Weapon 1  \n",
       "tt0106469                                     Bound by Honor  \n",
       "tt0103874                                            Dracula  \n",
       "tt0103644                                             Alien³  \n",
       "tt0102510                The Naked Gun 2½: The Smell of Fear  \n",
       "tt0099685                                         GoodFellas  \n",
       "tt0098724                           sex, lies, and videotape  \n",
       "tt0097981         A Nightmare on Elm Street: The Dream Child  \n",
       "tt0097474          Halloween 5: The Revenge of Michael Myers  \n",
       "tt0095687                          My Stepmother is an Alien  \n",
       "tt0091635                                     Nine 1/2 Weeks  \n",
       "tt0091080               Friday the 13th Part VI: Jason Lives  \n",
       "tt0089686  A Nightmare on Elm Street Part 2: Freddy's Rev...  \n",
       "tt0086190                                 Return of the Jedi  \n",
       "tt0084171                 Jekyll and Hyde ... Together Again  \n",
       "tt0082694                                          Mad Max 2  \n",
       "tt0080684                            The Empire Strikes Back  \n",
       "tt0079240                      The First Great Train Robbery  \n",
       "tt0078723                                               1941  \n",
       "tt0076759                                          Star Wars  \n",
       "tt0072626                              The House of the Dead  \n",
       "tt0069467                                 Viskningar och rop  \n",
       "tt0068555  Everything You Always Wanted to Know About Sex...  \n",
       "tt0068156                                               1776  \n",
       "tt0062235                  Die Schlangengrube und das Pendel  \n",
       "tt0061747                                      Hang 'em High  \n",
       "tt0060153                                             Batman  \n",
       "tt0058701  Une femme mariée: Suite de fragments d'un film...  "
      ]
     },
     "execution_count": 190,
     "metadata": {},
     "output_type": "execute_result"
    }
   ],
   "source": [
    "titles[titles.title != titles.movie_title].tail(30)"
   ]
  },
  {
   "cell_type": "markdown",
   "metadata": {},
   "source": [
    "I don't think there is going to be predictive information in the title itself. Maybe I'll just grab one as a plaintext reference to the datapoint..."
   ]
  },
  {
   "cell_type": "code",
   "execution_count": 191,
   "metadata": {
    "ExecuteTime": {
     "end_time": "2020-04-04T22:46:00.038851Z",
     "start_time": "2020-04-04T22:46:00.034828Z"
    }
   },
   "outputs": [],
   "source": [
    "df_boxcox_revenue.drop(['movie_title', \"original_title\"],axis=1,inplace=True)"
   ]
  },
  {
   "cell_type": "code",
   "execution_count": 192,
   "metadata": {
    "ExecuteTime": {
     "end_time": "2020-04-04T22:46:01.118920Z",
     "start_time": "2020-04-04T22:46:01.116951Z"
    }
   },
   "outputs": [],
   "source": [
    "del titles"
   ]
  },
  {
   "cell_type": "markdown",
   "metadata": {},
   "source": [
    "### Overview / Plot Synopsis"
   ]
  },
  {
   "cell_type": "markdown",
   "metadata": {},
   "source": [
    "This is where we need to get into real NLP stuff."
   ]
  },
  {
   "cell_type": "markdown",
   "metadata": {},
   "source": [
    "Let's have a peek at our plots:"
   ]
  },
  {
   "cell_type": "code",
   "execution_count": 193,
   "metadata": {
    "ExecuteTime": {
     "end_time": "2020-04-04T22:46:02.187295Z",
     "start_time": "2020-04-04T22:46:02.179754Z"
    }
   },
   "outputs": [
    {
     "name": "stdout",
     "output_type": "stream",
     "text": [
      "A stranger arrives in a little village and soon after a mysterious sickness starts spreading. A policeman is drawn into the incident and is forced to solve the mystery in order to save his daughter. \n",
      "\n",
      "All the people in this countryside area, can count on Jean-Pierre, the doctor who auscultates them, heals and reassures them day and night, 7 days a week. Now Jean-Pierre is sick, so he sees Natalie, a young doctor, coming from the hospital to assist him. But will she adapt to this new life and be able to replace the man that believed to be irreplaceable? \n",
      "\n",
      "Academy Award® winning director Charles Ferguson's new film investigates global climate change villains and heroes, and reveals practical solutions to act on. \n",
      "\n",
      "A squad of soldiers fight in the Korean War's crucial Battle of Incheon. \n",
      "\n",
      "Terrence J. stars as Charlie, a playboy who's convinced that relationships are dead. His two best friends, Donald Faison and Robert C. Riley, bet him that if he sticks to one woman for one month, he's bound to get attached. Charlie denies this until he crosses paths with the beautiful and mysterious Eva, played by singer/actress Cassie. They may agree to a casual affair, but eventually Charlie is questioning whether he may actually want more. \n",
      "\n",
      "When a high school teacher is asked a question in class about Jesus, her reasoned response lands her in deep trouble and could expel God from the public square once and for all. \n",
      "\n",
      "When Rebecca left home, she thought she left her childhood fears behind. Growing up, she was never really sure of what was and wasn’t real when the lights went out…and now her little brother, Martin, is experiencing the same unexplained and terrifying events that had once tested her sanity and threatened her safety. A frightening entity with a mysterious attachment to their mother, Sophie, has reemerged. \n",
      "\n",
      "Melvin, a reluctant hero who is far from super, has been suppressing his telekinetic powers for years with booze, drugs, and women. In the process, he has failed at practically everything, most of all as a parent to his son. After a brush with death, Melvin decides to use his powers for good and clean up the streets of New Orleans with the help of his best friend/definitely-not-a-sidekick, Lucille. For a man who can do the impossible, it might be a fight even he can’t win. \n",
      "\n",
      "Larisa is 16 and lives in a city by the sea. It's a small city, where gossip and news spread fast. It's a city where your image and influence, \"manelele\", money and power are all that matters. And Larisa… wants it all. And even if she doesn't have it, she fights for it. Larisa believes in herself. She knows that she deserves better. She is convinced that it's worth doing everything it takes to fulfill her dreams. And for her courage and recklessness - we love her. \n",
      "\n",
      "The life of Frank Sinatra, as an actor and singer and the steps along the way that led him to become such an icon. \n",
      "\n"
     ]
    },
    {
     "data": {
      "text/plain": [
       "[None, None, None, None, None, None, None, None, None, None]"
      ]
     },
     "execution_count": 193,
     "metadata": {},
     "output_type": "execute_result"
    }
   ],
   "source": [
    "[print(_,\"\\n\") for _ in df_boxcox_revenue.overview.head(10)]"
   ]
  },
  {
   "cell_type": "markdown",
   "metadata": {},
   "source": [
    "#### Removing stopwords, POS lemmatization"
   ]
  },
  {
   "cell_type": "code",
   "execution_count": 194,
   "metadata": {
    "ExecuteTime": {
     "end_time": "2020-04-04T22:46:03.255058Z",
     "start_time": "2020-04-04T22:46:03.248876Z"
    }
   },
   "outputs": [],
   "source": [
    "stop_words = set(stopwords.words('english'))\n",
    "lemmatizer = WordNetLemmatizer()\n",
    "\n",
    "def get_wordnet_pos(word):\n",
    "    \"\"\"Map POS tag to first character lemmatize() accepts\"\"\"\n",
    "    tag = pos_tag([word])[0][1][0].upper()\n",
    "    tag_dict = {\"J\": wordnet.ADJ,\n",
    "                \"N\": wordnet.NOUN,\n",
    "                \"V\": wordnet.VERB,\n",
    "                \"R\": wordnet.ADV}\n",
    "\n",
    "    return tag_dict.get(tag, wordnet.NOUN)\n",
    "\n",
    "def process_plot(plot):\n",
    "    tokens = word_tokenize(plot)\n",
    "    stops_removed = [w for w in tokens if w not in stop_words]\n",
    "    punc_removed = [w.lower() for w in stops_removed if w.isalpha()]\n",
    "    tagged = [(w, get_wordnet_pos(w)) for w in punc_removed]\n",
    "    return \" \".join([lemmatizer.lemmatize(word[0], pos=word[1]) for word in tagged])"
   ]
  },
  {
   "cell_type": "code",
   "execution_count": 195,
   "metadata": {
    "ExecuteTime": {
     "end_time": "2020-04-04T22:46:23.545950Z",
     "start_time": "2020-04-04T22:46:04.316715Z"
    },
    "scrolled": false
   },
   "outputs": [],
   "source": [
    "df_boxcox_revenue['plot_prepped'] = df_boxcox_revenue.overview.apply(process_plot)"
   ]
  },
  {
   "cell_type": "markdown",
   "metadata": {},
   "source": [
    "#### Binary Count Vectorizing, TF-IDF Normalizing"
   ]
  },
  {
   "cell_type": "markdown",
   "metadata": {},
   "source": [
    "From the [sklearn docs](https://scikit-learn.org/stable/modules/feature_extraction.html#):\n",
    "\n",
    "\"The word boundaries-aware variant `char_wb` is especially interesting for languages that use white-spaces for word separation...as it...can increase both the predictive accuracy and convergence speed of classifiers trained using such features while retaining the robustness with regards to misspellings and word derivations.\""
   ]
  },
  {
   "cell_type": "code",
   "execution_count": 196,
   "metadata": {
    "ExecuteTime": {
     "end_time": "2020-04-04T22:46:24.611802Z",
     "start_time": "2020-04-04T22:46:24.609034Z"
    }
   },
   "outputs": [],
   "source": [
    "bigram_vectorizer = CountVectorizer(analyzer='char_wb', ngram_range=(5, 5),#ngram_range=(1, 2),\n",
    "                                    token_pattern=r'\\b\\w+\\b', \n",
    "                                    min_df=1,\n",
    "                                    binary=True)\n",
    "\n",
    "# Plot synopsis texts are not very long: Using binary countvectorizer to help reduce noise"
   ]
  },
  {
   "cell_type": "code",
   "execution_count": 197,
   "metadata": {
    "ExecuteTime": {
     "end_time": "2020-04-04T22:46:25.674087Z",
     "start_time": "2020-04-04T22:46:25.671007Z"
    }
   },
   "outputs": [
    {
     "data": {
      "text/plain": [
       "CountVectorizer(analyzer='char_wb', binary=True, decode_error='strict',\n",
       "                dtype=<class 'numpy.int64'>, encoding='utf-8', input='content',\n",
       "                lowercase=True, max_df=1.0, max_features=None, min_df=1,\n",
       "                ngram_range=(5, 5), preprocessor=None, stop_words=None,\n",
       "                strip_accents=None, token_pattern='\\\\b\\\\w+\\\\b', tokenizer=None,\n",
       "                vocabulary=None)"
      ]
     },
     "execution_count": 197,
     "metadata": {},
     "output_type": "execute_result"
    }
   ],
   "source": [
    "bigram_vectorizer"
   ]
  },
  {
   "cell_type": "code",
   "execution_count": 198,
   "metadata": {
    "ExecuteTime": {
     "end_time": "2020-04-04T22:46:26.756377Z",
     "start_time": "2020-04-04T22:46:26.752673Z"
    }
   },
   "outputs": [
    {
     "data": {
      "text/plain": [
       "[' bi-g',\n",
       " 'bi-gr',\n",
       " 'i-gra',\n",
       " '-gram',\n",
       " 'grams',\n",
       " 'rams ',\n",
       " ' are ',\n",
       " ' cool',\n",
       " 'cool!',\n",
       " 'ool! ']"
      ]
     },
     "execution_count": 198,
     "metadata": {},
     "output_type": "execute_result"
    }
   ],
   "source": [
    "analyze = bigram_vectorizer.build_analyzer()\n",
    "analyze('Bi-grams are cool!')"
   ]
  },
  {
   "cell_type": "code",
   "execution_count": 199,
   "metadata": {
    "ExecuteTime": {
     "end_time": "2020-04-04T22:46:28.259825Z",
     "start_time": "2020-04-04T22:46:27.830705Z"
    }
   },
   "outputs": [
    {
     "data": {
      "text/plain": [
       "<4803x40742 sparse matrix of type '<class 'numpy.int64'>'\n",
       "\twith 487817 stored elements in Compressed Sparse Row format>"
      ]
     },
     "execution_count": 199,
     "metadata": {},
     "output_type": "execute_result"
    }
   ],
   "source": [
    "sparse_plots = bigram_vectorizer.fit_transform(df_boxcox_revenue['plot_prepped'])\n",
    "sparse_plots"
   ]
  },
  {
   "cell_type": "code",
   "execution_count": 200,
   "metadata": {
    "ExecuteTime": {
     "end_time": "2020-04-04T22:46:29.375873Z",
     "start_time": "2020-04-04T22:46:29.348231Z"
    }
   },
   "outputs": [],
   "source": [
    "bigram_columns = bigram_vectorizer.get_feature_names()"
   ]
  },
  {
   "cell_type": "code",
   "execution_count": 201,
   "metadata": {
    "ExecuteTime": {
     "end_time": "2020-04-04T22:46:30.871446Z",
     "start_time": "2020-04-04T22:46:30.497910Z"
    }
   },
   "outputs": [
    {
     "data": {
      "text/html": [
       "<div>\n",
       "<style scoped>\n",
       "    .dataframe tbody tr th:only-of-type {\n",
       "        vertical-align: middle;\n",
       "    }\n",
       "\n",
       "    .dataframe tbody tr th {\n",
       "        vertical-align: top;\n",
       "    }\n",
       "\n",
       "    .dataframe thead th {\n",
       "        text-align: right;\n",
       "    }\n",
       "</style>\n",
       "<table border=\"1\" class=\"dataframe\">\n",
       "  <thead>\n",
       "    <tr style=\"text-align: right;\">\n",
       "      <th></th>\n",
       "      <th>a</th>\n",
       "      <th>aa</th>\n",
       "      <th>aaa</th>\n",
       "      <th>aame</th>\n",
       "      <th>aang</th>\n",
       "      <th>aaro</th>\n",
       "      <th>aba</th>\n",
       "      <th>abad</th>\n",
       "      <th>abag</th>\n",
       "      <th>aban</th>\n",
       "      <th>...</th>\n",
       "      <th>érôme</th>\n",
       "      <th>ésar</th>\n",
       "      <th>örgy</th>\n",
       "      <th>öves</th>\n",
       "      <th>ørgen</th>\n",
       "      <th>única</th>\n",
       "      <th>ührer</th>\n",
       "      <th>ürren</th>\n",
       "      <th>ładys</th>\n",
       "      <th>ﬁcial</th>\n",
       "    </tr>\n",
       "  </thead>\n",
       "  <tbody>\n",
       "    <tr>\n",
       "      <th>0</th>\n",
       "      <td>1</td>\n",
       "      <td>0</td>\n",
       "      <td>0</td>\n",
       "      <td>0</td>\n",
       "      <td>0</td>\n",
       "      <td>0</td>\n",
       "      <td>0</td>\n",
       "      <td>0</td>\n",
       "      <td>0</td>\n",
       "      <td>0</td>\n",
       "      <td>...</td>\n",
       "      <td>0</td>\n",
       "      <td>0</td>\n",
       "      <td>0</td>\n",
       "      <td>0</td>\n",
       "      <td>0</td>\n",
       "      <td>0</td>\n",
       "      <td>0</td>\n",
       "      <td>0</td>\n",
       "      <td>0</td>\n",
       "      <td>0</td>\n",
       "    </tr>\n",
       "    <tr>\n",
       "      <th>1</th>\n",
       "      <td>0</td>\n",
       "      <td>0</td>\n",
       "      <td>0</td>\n",
       "      <td>0</td>\n",
       "      <td>0</td>\n",
       "      <td>0</td>\n",
       "      <td>0</td>\n",
       "      <td>0</td>\n",
       "      <td>0</td>\n",
       "      <td>0</td>\n",
       "      <td>...</td>\n",
       "      <td>0</td>\n",
       "      <td>0</td>\n",
       "      <td>0</td>\n",
       "      <td>0</td>\n",
       "      <td>0</td>\n",
       "      <td>0</td>\n",
       "      <td>0</td>\n",
       "      <td>0</td>\n",
       "      <td>0</td>\n",
       "      <td>0</td>\n",
       "    </tr>\n",
       "    <tr>\n",
       "      <th>2</th>\n",
       "      <td>0</td>\n",
       "      <td>0</td>\n",
       "      <td>0</td>\n",
       "      <td>0</td>\n",
       "      <td>0</td>\n",
       "      <td>0</td>\n",
       "      <td>0</td>\n",
       "      <td>0</td>\n",
       "      <td>0</td>\n",
       "      <td>0</td>\n",
       "      <td>...</td>\n",
       "      <td>0</td>\n",
       "      <td>0</td>\n",
       "      <td>0</td>\n",
       "      <td>0</td>\n",
       "      <td>0</td>\n",
       "      <td>0</td>\n",
       "      <td>0</td>\n",
       "      <td>0</td>\n",
       "      <td>0</td>\n",
       "      <td>0</td>\n",
       "    </tr>\n",
       "    <tr>\n",
       "      <th>3</th>\n",
       "      <td>1</td>\n",
       "      <td>0</td>\n",
       "      <td>0</td>\n",
       "      <td>0</td>\n",
       "      <td>0</td>\n",
       "      <td>0</td>\n",
       "      <td>0</td>\n",
       "      <td>0</td>\n",
       "      <td>0</td>\n",
       "      <td>0</td>\n",
       "      <td>...</td>\n",
       "      <td>0</td>\n",
       "      <td>0</td>\n",
       "      <td>0</td>\n",
       "      <td>0</td>\n",
       "      <td>0</td>\n",
       "      <td>0</td>\n",
       "      <td>0</td>\n",
       "      <td>0</td>\n",
       "      <td>0</td>\n",
       "      <td>0</td>\n",
       "    </tr>\n",
       "    <tr>\n",
       "      <th>4</th>\n",
       "      <td>0</td>\n",
       "      <td>0</td>\n",
       "      <td>0</td>\n",
       "      <td>0</td>\n",
       "      <td>0</td>\n",
       "      <td>0</td>\n",
       "      <td>0</td>\n",
       "      <td>0</td>\n",
       "      <td>0</td>\n",
       "      <td>0</td>\n",
       "      <td>...</td>\n",
       "      <td>0</td>\n",
       "      <td>0</td>\n",
       "      <td>0</td>\n",
       "      <td>0</td>\n",
       "      <td>0</td>\n",
       "      <td>0</td>\n",
       "      <td>0</td>\n",
       "      <td>0</td>\n",
       "      <td>0</td>\n",
       "      <td>0</td>\n",
       "    </tr>\n",
       "  </tbody>\n",
       "</table>\n",
       "<p>5 rows × 40742 columns</p>\n",
       "</div>"
      ],
      "text/plain": [
       "    a    aa    aaa    aame   aang   aaro   aba    abad   abag   aban  ...  \\\n",
       "0    1     0      0      0      0      0      0      0      0      0  ...   \n",
       "1    0     0      0      0      0      0      0      0      0      0  ...   \n",
       "2    0     0      0      0      0      0      0      0      0      0  ...   \n",
       "3    1     0      0      0      0      0      0      0      0      0  ...   \n",
       "4    0     0      0      0      0      0      0      0      0      0  ...   \n",
       "\n",
       "   érôme  ésar   örgy   öves   ørgen  única  ührer  ürren  ładys  ﬁcial  \n",
       "0      0      0      0      0      0      0      0      0      0      0  \n",
       "1      0      0      0      0      0      0      0      0      0      0  \n",
       "2      0      0      0      0      0      0      0      0      0      0  \n",
       "3      0      0      0      0      0      0      0      0      0      0  \n",
       "4      0      0      0      0      0      0      0      0      0      0  \n",
       "\n",
       "[5 rows x 40742 columns]"
      ]
     },
     "execution_count": 201,
     "metadata": {},
     "output_type": "execute_result"
    }
   ],
   "source": [
    "bigram_counts = pd.DataFrame(sparse_plots.toarray(),\n",
    "                             columns=bigram_columns)\n",
    "\n",
    "bigram_counts.head()"
   ]
  },
  {
   "cell_type": "code",
   "execution_count": 202,
   "metadata": {
    "ExecuteTime": {
     "end_time": "2020-04-04T22:46:37.630127Z",
     "start_time": "2020-04-04T22:46:34.806181Z"
    }
   },
   "outputs": [],
   "source": [
    "transformer = TfidfTransformer(smooth_idf=False)\n",
    "tfidf = transformer.fit_transform(bigram_counts)"
   ]
  },
  {
   "cell_type": "code",
   "execution_count": 203,
   "metadata": {
    "ExecuteTime": {
     "end_time": "2020-04-04T22:46:40.726407Z",
     "start_time": "2020-04-04T22:46:40.308799Z"
    }
   },
   "outputs": [
    {
     "data": {
      "text/html": [
       "<div>\n",
       "<style scoped>\n",
       "    .dataframe tbody tr th:only-of-type {\n",
       "        vertical-align: middle;\n",
       "    }\n",
       "\n",
       "    .dataframe tbody tr th {\n",
       "        vertical-align: top;\n",
       "    }\n",
       "\n",
       "    .dataframe thead th {\n",
       "        text-align: right;\n",
       "    }\n",
       "</style>\n",
       "<table border=\"1\" class=\"dataframe\">\n",
       "  <thead>\n",
       "    <tr style=\"text-align: right;\">\n",
       "      <th></th>\n",
       "      <th>a</th>\n",
       "      <th>aa</th>\n",
       "      <th>aaa</th>\n",
       "      <th>aame</th>\n",
       "      <th>aang</th>\n",
       "      <th>aaro</th>\n",
       "      <th>aba</th>\n",
       "      <th>abad</th>\n",
       "      <th>abag</th>\n",
       "      <th>aban</th>\n",
       "      <th>...</th>\n",
       "      <th>érôme</th>\n",
       "      <th>ésar</th>\n",
       "      <th>örgy</th>\n",
       "      <th>öves</th>\n",
       "      <th>ørgen</th>\n",
       "      <th>única</th>\n",
       "      <th>ührer</th>\n",
       "      <th>ürren</th>\n",
       "      <th>ładys</th>\n",
       "      <th>ﬁcial</th>\n",
       "    </tr>\n",
       "  </thead>\n",
       "  <tbody>\n",
       "    <tr>\n",
       "      <th>0</th>\n",
       "      <td>0.052352</td>\n",
       "      <td>0.0</td>\n",
       "      <td>0.0</td>\n",
       "      <td>0.0</td>\n",
       "      <td>0.0</td>\n",
       "      <td>0.0</td>\n",
       "      <td>0.0</td>\n",
       "      <td>0.0</td>\n",
       "      <td>0.0</td>\n",
       "      <td>0.0</td>\n",
       "      <td>...</td>\n",
       "      <td>0.0</td>\n",
       "      <td>0.0</td>\n",
       "      <td>0.0</td>\n",
       "      <td>0.0</td>\n",
       "      <td>0.0</td>\n",
       "      <td>0.0</td>\n",
       "      <td>0.0</td>\n",
       "      <td>0.0</td>\n",
       "      <td>0.0</td>\n",
       "      <td>0.0</td>\n",
       "    </tr>\n",
       "    <tr>\n",
       "      <th>1</th>\n",
       "      <td>0.000000</td>\n",
       "      <td>0.0</td>\n",
       "      <td>0.0</td>\n",
       "      <td>0.0</td>\n",
       "      <td>0.0</td>\n",
       "      <td>0.0</td>\n",
       "      <td>0.0</td>\n",
       "      <td>0.0</td>\n",
       "      <td>0.0</td>\n",
       "      <td>0.0</td>\n",
       "      <td>...</td>\n",
       "      <td>0.0</td>\n",
       "      <td>0.0</td>\n",
       "      <td>0.0</td>\n",
       "      <td>0.0</td>\n",
       "      <td>0.0</td>\n",
       "      <td>0.0</td>\n",
       "      <td>0.0</td>\n",
       "      <td>0.0</td>\n",
       "      <td>0.0</td>\n",
       "      <td>0.0</td>\n",
       "    </tr>\n",
       "    <tr>\n",
       "      <th>2</th>\n",
       "      <td>0.000000</td>\n",
       "      <td>0.0</td>\n",
       "      <td>0.0</td>\n",
       "      <td>0.0</td>\n",
       "      <td>0.0</td>\n",
       "      <td>0.0</td>\n",
       "      <td>0.0</td>\n",
       "      <td>0.0</td>\n",
       "      <td>0.0</td>\n",
       "      <td>0.0</td>\n",
       "      <td>...</td>\n",
       "      <td>0.0</td>\n",
       "      <td>0.0</td>\n",
       "      <td>0.0</td>\n",
       "      <td>0.0</td>\n",
       "      <td>0.0</td>\n",
       "      <td>0.0</td>\n",
       "      <td>0.0</td>\n",
       "      <td>0.0</td>\n",
       "      <td>0.0</td>\n",
       "      <td>0.0</td>\n",
       "    </tr>\n",
       "    <tr>\n",
       "      <th>3</th>\n",
       "      <td>0.065157</td>\n",
       "      <td>0.0</td>\n",
       "      <td>0.0</td>\n",
       "      <td>0.0</td>\n",
       "      <td>0.0</td>\n",
       "      <td>0.0</td>\n",
       "      <td>0.0</td>\n",
       "      <td>0.0</td>\n",
       "      <td>0.0</td>\n",
       "      <td>0.0</td>\n",
       "      <td>...</td>\n",
       "      <td>0.0</td>\n",
       "      <td>0.0</td>\n",
       "      <td>0.0</td>\n",
       "      <td>0.0</td>\n",
       "      <td>0.0</td>\n",
       "      <td>0.0</td>\n",
       "      <td>0.0</td>\n",
       "      <td>0.0</td>\n",
       "      <td>0.0</td>\n",
       "      <td>0.0</td>\n",
       "    </tr>\n",
       "    <tr>\n",
       "      <th>4</th>\n",
       "      <td>0.000000</td>\n",
       "      <td>0.0</td>\n",
       "      <td>0.0</td>\n",
       "      <td>0.0</td>\n",
       "      <td>0.0</td>\n",
       "      <td>0.0</td>\n",
       "      <td>0.0</td>\n",
       "      <td>0.0</td>\n",
       "      <td>0.0</td>\n",
       "      <td>0.0</td>\n",
       "      <td>...</td>\n",
       "      <td>0.0</td>\n",
       "      <td>0.0</td>\n",
       "      <td>0.0</td>\n",
       "      <td>0.0</td>\n",
       "      <td>0.0</td>\n",
       "      <td>0.0</td>\n",
       "      <td>0.0</td>\n",
       "      <td>0.0</td>\n",
       "      <td>0.0</td>\n",
       "      <td>0.0</td>\n",
       "    </tr>\n",
       "  </tbody>\n",
       "</table>\n",
       "<p>5 rows × 40742 columns</p>\n",
       "</div>"
      ],
      "text/plain": [
       "         a    aa    aaa    aame   aang   aaro   aba    abad   abag   aban  \\\n",
       "0  0.052352   0.0    0.0    0.0    0.0    0.0    0.0    0.0    0.0    0.0   \n",
       "1  0.000000   0.0    0.0    0.0    0.0    0.0    0.0    0.0    0.0    0.0   \n",
       "2  0.000000   0.0    0.0    0.0    0.0    0.0    0.0    0.0    0.0    0.0   \n",
       "3  0.065157   0.0    0.0    0.0    0.0    0.0    0.0    0.0    0.0    0.0   \n",
       "4  0.000000   0.0    0.0    0.0    0.0    0.0    0.0    0.0    0.0    0.0   \n",
       "\n",
       "   ...  érôme  ésar   örgy   öves   ørgen  única  ührer  ürren  ładys  ﬁcial  \n",
       "0  ...    0.0    0.0    0.0    0.0    0.0    0.0    0.0    0.0    0.0    0.0  \n",
       "1  ...    0.0    0.0    0.0    0.0    0.0    0.0    0.0    0.0    0.0    0.0  \n",
       "2  ...    0.0    0.0    0.0    0.0    0.0    0.0    0.0    0.0    0.0    0.0  \n",
       "3  ...    0.0    0.0    0.0    0.0    0.0    0.0    0.0    0.0    0.0    0.0  \n",
       "4  ...    0.0    0.0    0.0    0.0    0.0    0.0    0.0    0.0    0.0    0.0  \n",
       "\n",
       "[5 rows x 40742 columns]"
      ]
     },
     "execution_count": 203,
     "metadata": {},
     "output_type": "execute_result"
    }
   ],
   "source": [
    "df_tfidf = pd.DataFrame(tfidf.toarray(), columns=bigram_columns)\n",
    "df_tfidf.head()"
   ]
  },
  {
   "cell_type": "code",
   "execution_count": 204,
   "metadata": {
    "ExecuteTime": {
     "end_time": "2020-04-04T22:46:46.316231Z",
     "start_time": "2020-04-04T22:46:46.292131Z"
    }
   },
   "outputs": [],
   "source": [
    "del bigram_columns\n",
    "del bigram_counts\n",
    "del stop_words\n",
    "del analyze\n",
    "del df_boxcox_revenue['overview']\n",
    "del df_boxcox_revenue['plot_prepped']\n",
    "del tfidf\n",
    "del transformer\n",
    "del wordnet\n",
    "del lemmatizer\n",
    "del languages\n",
    "del sparse_plots\n",
    "del bigram_vectorizer\n",
    "del stopwords"
   ]
  },
  {
   "cell_type": "code",
   "execution_count": 205,
   "metadata": {
    "ExecuteTime": {
     "end_time": "2020-04-04T22:46:48.983024Z",
     "start_time": "2020-04-04T22:46:48.978858Z"
    }
   },
   "outputs": [
    {
     "data": {
      "text/plain": [
       "Index([' a ', ' aa ', ' aaa ', ' aame', ' aang', ' aaro', ' aba ', ' abad',\n",
       "       ' abag', ' aban', ' abba', ' abbe', ' abbi', ' abbo', ' abby', ' abdi',\n",
       "       ' abdu', ' abe ', ' abel', ' aber', ' abho', ' abid', ' abig', ' abil',\n",
       "       ' abla', ' able', ' aboa', ' abod', ' abol', ' abor', ' abou', ' abra',\n",
       "       ' abro', ' abru', ' abse', ' absh', ' abso', ' abst', ' absu', ' abu ',\n",
       "       ' abun', ' abus', ' abys', ' acad', ' acap', ' acce', ' acci', ' accl',\n",
       "       ' acco', ' accr', ' accu', ' ace ', ' ache', ' achi', ' acke', ' acme',\n",
       "       ' acp ', ' acqu', ' acre', ' acri', ' acro', ' act ', ' acti', ' acto',\n",
       "       ' actr', ' actu', ' acut', ' ad ', ' ada ', ' adal', ' adam', ' adap',\n",
       "       ' add ', ' adda', ' addi', ' addr', ' adel', ' adep', ' adib', ' adit',\n",
       "       ' adja', ' adju', ' adle', ' adm ', ' admi', ' admo', ' adol', ' adon',\n",
       "       ' adop', ' ador', ' adre', ' adri', ' adul', ' adva', ' adve', ' advi',\n",
       "       ' advo', ' aegi', ' aeri', ' afar'],\n",
       "      dtype='object')"
      ]
     },
     "execution_count": 205,
     "metadata": {},
     "output_type": "execute_result"
    }
   ],
   "source": [
    "df_tfidf.columns[:100]"
   ]
  },
  {
   "cell_type": "code",
   "execution_count": 206,
   "metadata": {
    "ExecuteTime": {
     "end_time": "2020-04-04T22:46:51.641151Z",
     "start_time": "2020-04-04T22:46:51.637411Z"
    }
   },
   "outputs": [
    {
     "data": {
      "text/plain": [
       "Index([' payc', ' payd', ' paym', ' payn', ' payo', ' peac', ' peak', ' pean',\n",
       "       ' pear', ' peas', ' pebb', ' peck', ' pecu', ' pedd', ' pede', ' pedl',\n",
       "       ' pedo', ' pedr', ' pee ', ' peeb', ' peek', ' peel', ' peep', ' peer',\n",
       "       ' peet', ' pegg', ' pei ', ' peka', ' peki', ' pele', ' peli', ' pelt',\n",
       "       ' pen ', ' pena', ' penc', ' pend', ' pene', ' peng', ' peni', ' penl',\n",
       "       ' penn', ' pens', ' pent', ' peop', ' pepp', ' pequ', ' per ', ' pera',\n",
       "       ' perc', ' perd', ' pere', ' perf', ' perh', ' peri', ' perk', ' perm',\n",
       "       ' pern', ' pero', ' perp', ' perr', ' pers', ' pert', ' peru', ' perv',\n",
       "       ' peró', ' pesc', ' pesk', ' pest', ' pet ', ' peta', ' pete', ' peti',\n",
       "       ' petr', ' pett', ' peve', ' peyt', ' pfei', ' pga ', ' phal', ' phan',\n",
       "       ' phar', ' phas', ' phel', ' phen', ' phi ', ' phil', ' phin', ' phob',\n",
       "       ' phoe', ' phon', ' phot', ' phra', ' phys', ' pi ', ' pian', ' pica',\n",
       "       ' picc', ' pick', ' pict', ' pie '],\n",
       "      dtype='object')"
      ]
     },
     "execution_count": 206,
     "metadata": {},
     "output_type": "execute_result"
    }
   ],
   "source": [
    "df_tfidf.columns[5000:5100]"
   ]
  },
  {
   "cell_type": "code",
   "execution_count": 207,
   "metadata": {
    "ExecuteTime": {
     "end_time": "2020-04-04T22:46:54.305208Z",
     "start_time": "2020-04-04T22:46:54.301824Z"
    }
   },
   "outputs": [
    {
     "data": {
      "text/plain": [
       "(4803, 40742)"
      ]
     },
     "execution_count": 207,
     "metadata": {},
     "output_type": "execute_result"
    }
   ],
   "source": [
    "df_tfidf.shape"
   ]
  },
  {
   "cell_type": "markdown",
   "metadata": {},
   "source": [
    "Pretty large feature space there. Maybe I'll incorporate some PCA in the modeling pipeline..."
   ]
  },
  {
   "cell_type": "code",
   "execution_count": 208,
   "metadata": {
    "ExecuteTime": {
     "end_time": "2020-04-04T22:47:15.842039Z",
     "start_time": "2020-04-04T22:46:56.983665Z"
    }
   },
   "outputs": [],
   "source": [
    "df_boxcox_revenue.to_pickle('../data/pickles/df_mostly_ready_metadata.pkl')\n",
    "df_tfidf.to_pickle('../data/pickles/df_tfidf.pkl')"
   ]
  },
  {
   "cell_type": "markdown",
   "metadata": {},
   "source": [
    "***"
   ]
  },
  {
   "cell_type": "markdown",
   "metadata": {},
   "source": [
    "## Encoding Everything"
   ]
  },
  {
   "cell_type": "code",
   "execution_count": 209,
   "metadata": {
    "ExecuteTime": {
     "end_time": "2020-04-04T22:47:18.515418Z",
     "start_time": "2020-04-04T22:47:18.509401Z"
    }
   },
   "outputs": [],
   "source": [
    "df_mostly_ready_metadata = pd.read_pickle('../data/pickles/df_mostly_ready_metadata.pkl')"
   ]
  },
  {
   "cell_type": "code",
   "execution_count": 210,
   "metadata": {
    "ExecuteTime": {
     "end_time": "2020-04-04T22:47:21.284365Z",
     "start_time": "2020-04-04T22:47:21.266009Z"
    }
   },
   "outputs": [
    {
     "data": {
      "text/html": [
       "<div>\n",
       "<style scoped>\n",
       "    .dataframe tbody tr th:only-of-type {\n",
       "        vertical-align: middle;\n",
       "    }\n",
       "\n",
       "    .dataframe tbody tr th {\n",
       "        vertical-align: top;\n",
       "    }\n",
       "\n",
       "    .dataframe thead th {\n",
       "        text-align: right;\n",
       "    }\n",
       "</style>\n",
       "<table border=\"1\" class=\"dataframe\">\n",
       "  <thead>\n",
       "    <tr style=\"text-align: right;\">\n",
       "      <th></th>\n",
       "      <th>original_language</th>\n",
       "      <th>color</th>\n",
       "      <th>title</th>\n",
       "      <th>content_rating</th>\n",
       "      <th>filled_budget</th>\n",
       "      <th>fixed_aspect</th>\n",
       "      <th>durations</th>\n",
       "      <th>shot_only_in_USA</th>\n",
       "      <th>shot_in_USA_and_abroad</th>\n",
       "      <th>genre_Drama</th>\n",
       "      <th>...</th>\n",
       "      <th>genre_Documentary</th>\n",
       "      <th>actor_1_facebook_likes_box</th>\n",
       "      <th>actor_2_facebook_likes_box</th>\n",
       "      <th>actor_3_facebook_likes_box</th>\n",
       "      <th>director_facebook_likes_box</th>\n",
       "      <th>cast_total_facebook_likes_box</th>\n",
       "      <th>budget_boxed</th>\n",
       "      <th>n_prod_locs_trunc</th>\n",
       "      <th>revenue_boxcox</th>\n",
       "      <th>imdb_score_boxed</th>\n",
       "    </tr>\n",
       "    <tr>\n",
       "      <th>imdb_id</th>\n",
       "      <th></th>\n",
       "      <th></th>\n",
       "      <th></th>\n",
       "      <th></th>\n",
       "      <th></th>\n",
       "      <th></th>\n",
       "      <th></th>\n",
       "      <th></th>\n",
       "      <th></th>\n",
       "      <th></th>\n",
       "      <th></th>\n",
       "      <th></th>\n",
       "      <th></th>\n",
       "      <th></th>\n",
       "      <th></th>\n",
       "      <th></th>\n",
       "      <th></th>\n",
       "      <th></th>\n",
       "      <th></th>\n",
       "      <th></th>\n",
       "      <th></th>\n",
       "    </tr>\n",
       "  </thead>\n",
       "  <tbody>\n",
       "    <tr>\n",
       "      <th>tt5215952</th>\n",
       "      <td>Other</td>\n",
       "      <td>Color</td>\n",
       "      <td>The Wailing</td>\n",
       "      <td>Unrated</td>\n",
       "      <td>10951000.0</td>\n",
       "      <td>2.39</td>\n",
       "      <td>156.0</td>\n",
       "      <td>1</td>\n",
       "      <td>0</td>\n",
       "      <td>0</td>\n",
       "      <td>...</td>\n",
       "      <td>0</td>\n",
       "      <td>4.250035</td>\n",
       "      <td>1.917963</td>\n",
       "      <td>0.000000</td>\n",
       "      <td>3.648834</td>\n",
       "      <td>5.229121</td>\n",
       "      <td>116.223876</td>\n",
       "      <td>1</td>\n",
       "      <td>58.752586</td>\n",
       "      <td>39.628994</td>\n",
       "    </tr>\n",
       "    <tr>\n",
       "      <th>tt5078326</th>\n",
       "      <td>French</td>\n",
       "      <td>Color</td>\n",
       "      <td>The Country Doctor</td>\n",
       "      <td>PG-13</td>\n",
       "      <td>19000000.0</td>\n",
       "      <td>1.85</td>\n",
       "      <td>102.0</td>\n",
       "      <td>1</td>\n",
       "      <td>0</td>\n",
       "      <td>1</td>\n",
       "      <td>...</td>\n",
       "      <td>0</td>\n",
       "      <td>7.488314</td>\n",
       "      <td>2.388995</td>\n",
       "      <td>1.198774</td>\n",
       "      <td>2.502277</td>\n",
       "      <td>10.108035</td>\n",
       "      <td>130.009231</td>\n",
       "      <td>1</td>\n",
       "      <td>0.000000</td>\n",
       "      <td>34.141130</td>\n",
       "    </tr>\n",
       "    <tr>\n",
       "      <th>tt5001130</th>\n",
       "      <td>English</td>\n",
       "      <td>Color</td>\n",
       "      <td>Time to Choose</td>\n",
       "      <td>PG-13</td>\n",
       "      <td>3500000.0</td>\n",
       "      <td>1.85</td>\n",
       "      <td>100.0</td>\n",
       "      <td>0</td>\n",
       "      <td>0</td>\n",
       "      <td>0</td>\n",
       "      <td>...</td>\n",
       "      <td>1</td>\n",
       "      <td>3.362001</td>\n",
       "      <td>1.461064</td>\n",
       "      <td>0.000000</td>\n",
       "      <td>4.556906</td>\n",
       "      <td>4.057789</td>\n",
       "      <td>91.992876</td>\n",
       "      <td>1</td>\n",
       "      <td>0.000000</td>\n",
       "      <td>32.068517</td>\n",
       "    </tr>\n",
       "  </tbody>\n",
       "</table>\n",
       "<p>3 rows × 29 columns</p>\n",
       "</div>"
      ],
      "text/plain": [
       "          original_language  color               title content_rating  \\\n",
       "imdb_id                                                                 \n",
       "tt5215952             Other  Color         The Wailing        Unrated   \n",
       "tt5078326            French  Color  The Country Doctor          PG-13   \n",
       "tt5001130           English  Color      Time to Choose          PG-13   \n",
       "\n",
       "           filled_budget fixed_aspect  durations  shot_only_in_USA  \\\n",
       "imdb_id                                                              \n",
       "tt5215952     10951000.0         2.39      156.0                 1   \n",
       "tt5078326     19000000.0         1.85      102.0                 1   \n",
       "tt5001130      3500000.0         1.85      100.0                 0   \n",
       "\n",
       "           shot_in_USA_and_abroad  genre_Drama  ...  genre_Documentary  \\\n",
       "imdb_id                                         ...                      \n",
       "tt5215952                       0            0  ...                  0   \n",
       "tt5078326                       0            1  ...                  0   \n",
       "tt5001130                       0            0  ...                  1   \n",
       "\n",
       "           actor_1_facebook_likes_box  actor_2_facebook_likes_box  \\\n",
       "imdb_id                                                             \n",
       "tt5215952                    4.250035                    1.917963   \n",
       "tt5078326                    7.488314                    2.388995   \n",
       "tt5001130                    3.362001                    1.461064   \n",
       "\n",
       "           actor_3_facebook_likes_box  director_facebook_likes_box  \\\n",
       "imdb_id                                                              \n",
       "tt5215952                    0.000000                     3.648834   \n",
       "tt5078326                    1.198774                     2.502277   \n",
       "tt5001130                    0.000000                     4.556906   \n",
       "\n",
       "           cast_total_facebook_likes_box  budget_boxed  n_prod_locs_trunc  \\\n",
       "imdb_id                                                                     \n",
       "tt5215952                       5.229121    116.223876                  1   \n",
       "tt5078326                      10.108035    130.009231                  1   \n",
       "tt5001130                       4.057789     91.992876                  1   \n",
       "\n",
       "           revenue_boxcox  imdb_score_boxed  \n",
       "imdb_id                                      \n",
       "tt5215952       58.752586         39.628994  \n",
       "tt5078326        0.000000         34.141130  \n",
       "tt5001130        0.000000         32.068517  \n",
       "\n",
       "[3 rows x 29 columns]"
      ]
     },
     "execution_count": 210,
     "metadata": {},
     "output_type": "execute_result"
    }
   ],
   "source": [
    "df_mostly_ready_metadata.head(3)"
   ]
  },
  {
   "cell_type": "code",
   "execution_count": 211,
   "metadata": {
    "ExecuteTime": {
     "end_time": "2020-04-04T22:47:44.405171Z",
     "start_time": "2020-04-04T22:47:44.400511Z"
    }
   },
   "outputs": [
    {
     "data": {
      "text/plain": [
       "original_language                  object\n",
       "color                              object\n",
       "title                              object\n",
       "content_rating                     object\n",
       "filled_budget                     float64\n",
       "fixed_aspect                     category\n",
       "durations                         float64\n",
       "shot_only_in_USA                    int64\n",
       "shot_in_USA_and_abroad              int64\n",
       "genre_Drama                         int64\n",
       "genre_Comedy                        int64\n",
       "genre_Romance                       int64\n",
       "genre_Crime                         int64\n",
       "genre_Thriller                      int64\n",
       "genre_Horror                        int64\n",
       "genre_Action                        int64\n",
       "genre_Mystery                       int64\n",
       "genre_Sci-Fi                        int64\n",
       "genre_Adventure                     int64\n",
       "genre_Documentary                   int64\n",
       "actor_1_facebook_likes_box        float64\n",
       "actor_2_facebook_likes_box        float64\n",
       "actor_3_facebook_likes_box        float64\n",
       "director_facebook_likes_box       float64\n",
       "cast_total_facebook_likes_box     float64\n",
       "budget_boxed                      float64\n",
       "n_prod_locs_trunc                   int64\n",
       "revenue_boxcox                    float64\n",
       "imdb_score_boxed                  float64\n",
       "dtype: object"
      ]
     },
     "execution_count": 211,
     "metadata": {},
     "output_type": "execute_result"
    }
   ],
   "source": [
    "df_mostly_ready_metadata.dtypes"
   ]
  },
  {
   "cell_type": "code",
   "execution_count": 212,
   "metadata": {
    "ExecuteTime": {
     "end_time": "2020-04-04T22:47:47.276672Z",
     "start_time": "2020-04-04T22:47:47.269118Z"
    }
   },
   "outputs": [
    {
     "data": {
      "text/html": [
       "<div>\n",
       "<style scoped>\n",
       "    .dataframe tbody tr th:only-of-type {\n",
       "        vertical-align: middle;\n",
       "    }\n",
       "\n",
       "    .dataframe tbody tr th {\n",
       "        vertical-align: top;\n",
       "    }\n",
       "\n",
       "    .dataframe thead th {\n",
       "        text-align: right;\n",
       "    }\n",
       "</style>\n",
       "<table border=\"1\" class=\"dataframe\">\n",
       "  <thead>\n",
       "    <tr style=\"text-align: right;\">\n",
       "      <th></th>\n",
       "      <th>lang_English</th>\n",
       "      <th>lang_French</th>\n",
       "      <th>lang_Other</th>\n",
       "      <th>lang_Spanish</th>\n",
       "    </tr>\n",
       "    <tr>\n",
       "      <th>imdb_id</th>\n",
       "      <th></th>\n",
       "      <th></th>\n",
       "      <th></th>\n",
       "      <th></th>\n",
       "    </tr>\n",
       "  </thead>\n",
       "  <tbody>\n",
       "    <tr>\n",
       "      <th>tt5215952</th>\n",
       "      <td>0</td>\n",
       "      <td>0</td>\n",
       "      <td>1</td>\n",
       "      <td>0</td>\n",
       "    </tr>\n",
       "    <tr>\n",
       "      <th>tt5078326</th>\n",
       "      <td>0</td>\n",
       "      <td>1</td>\n",
       "      <td>0</td>\n",
       "      <td>0</td>\n",
       "    </tr>\n",
       "    <tr>\n",
       "      <th>tt5001130</th>\n",
       "      <td>1</td>\n",
       "      <td>0</td>\n",
       "      <td>0</td>\n",
       "      <td>0</td>\n",
       "    </tr>\n",
       "    <tr>\n",
       "      <th>tt4939066</th>\n",
       "      <td>0</td>\n",
       "      <td>0</td>\n",
       "      <td>1</td>\n",
       "      <td>0</td>\n",
       "    </tr>\n",
       "    <tr>\n",
       "      <th>tt4871980</th>\n",
       "      <td>1</td>\n",
       "      <td>0</td>\n",
       "      <td>0</td>\n",
       "      <td>0</td>\n",
       "    </tr>\n",
       "  </tbody>\n",
       "</table>\n",
       "</div>"
      ],
      "text/plain": [
       "           lang_English  lang_French  lang_Other  lang_Spanish\n",
       "imdb_id                                                       \n",
       "tt5215952             0            0           1             0\n",
       "tt5078326             0            1           0             0\n",
       "tt5001130             1            0           0             0\n",
       "tt4939066             0            0           1             0\n",
       "tt4871980             1            0           0             0"
      ]
     },
     "execution_count": 212,
     "metadata": {},
     "output_type": "execute_result"
    }
   ],
   "source": [
    "lang_matrix = pd.get_dummies(df_mostly_ready_metadata['original_language'],\n",
    "                             prefix=\"lang\")\n",
    "lang_matrix.head()"
   ]
  },
  {
   "cell_type": "code",
   "execution_count": 213,
   "metadata": {
    "ExecuteTime": {
     "end_time": "2020-04-04T22:47:50.021784Z",
     "start_time": "2020-04-04T22:47:50.018452Z"
    }
   },
   "outputs": [],
   "source": [
    "df_mostly_ready_metadata.drop(['original_language'],axis=1,inplace=True)"
   ]
  },
  {
   "cell_type": "code",
   "execution_count": 214,
   "metadata": {
    "ExecuteTime": {
     "end_time": "2020-04-04T22:47:52.762262Z",
     "start_time": "2020-04-04T22:47:52.758584Z"
    }
   },
   "outputs": [],
   "source": [
    "df_mostly_ready_metadata = pd.concat([df_mostly_ready_metadata, \n",
    "                                      lang_matrix],axis=1)"
   ]
  },
  {
   "cell_type": "code",
   "execution_count": 215,
   "metadata": {
    "ExecuteTime": {
     "end_time": "2020-04-04T22:47:55.541447Z",
     "start_time": "2020-04-04T22:47:55.518528Z"
    }
   },
   "outputs": [
    {
     "data": {
      "text/html": [
       "<div>\n",
       "<style scoped>\n",
       "    .dataframe tbody tr th:only-of-type {\n",
       "        vertical-align: middle;\n",
       "    }\n",
       "\n",
       "    .dataframe tbody tr th {\n",
       "        vertical-align: top;\n",
       "    }\n",
       "\n",
       "    .dataframe thead th {\n",
       "        text-align: right;\n",
       "    }\n",
       "</style>\n",
       "<table border=\"1\" class=\"dataframe\">\n",
       "  <thead>\n",
       "    <tr style=\"text-align: right;\">\n",
       "      <th></th>\n",
       "      <th>color</th>\n",
       "      <th>title</th>\n",
       "      <th>content_rating</th>\n",
       "      <th>filled_budget</th>\n",
       "      <th>fixed_aspect</th>\n",
       "      <th>durations</th>\n",
       "      <th>shot_only_in_USA</th>\n",
       "      <th>shot_in_USA_and_abroad</th>\n",
       "      <th>genre_Drama</th>\n",
       "      <th>genre_Comedy</th>\n",
       "      <th>...</th>\n",
       "      <th>director_facebook_likes_box</th>\n",
       "      <th>cast_total_facebook_likes_box</th>\n",
       "      <th>budget_boxed</th>\n",
       "      <th>n_prod_locs_trunc</th>\n",
       "      <th>revenue_boxcox</th>\n",
       "      <th>imdb_score_boxed</th>\n",
       "      <th>lang_English</th>\n",
       "      <th>lang_French</th>\n",
       "      <th>lang_Other</th>\n",
       "      <th>lang_Spanish</th>\n",
       "    </tr>\n",
       "    <tr>\n",
       "      <th>imdb_id</th>\n",
       "      <th></th>\n",
       "      <th></th>\n",
       "      <th></th>\n",
       "      <th></th>\n",
       "      <th></th>\n",
       "      <th></th>\n",
       "      <th></th>\n",
       "      <th></th>\n",
       "      <th></th>\n",
       "      <th></th>\n",
       "      <th></th>\n",
       "      <th></th>\n",
       "      <th></th>\n",
       "      <th></th>\n",
       "      <th></th>\n",
       "      <th></th>\n",
       "      <th></th>\n",
       "      <th></th>\n",
       "      <th></th>\n",
       "      <th></th>\n",
       "      <th></th>\n",
       "    </tr>\n",
       "  </thead>\n",
       "  <tbody>\n",
       "    <tr>\n",
       "      <th>tt5215952</th>\n",
       "      <td>1</td>\n",
       "      <td>The Wailing</td>\n",
       "      <td>Unrated</td>\n",
       "      <td>10951000.0</td>\n",
       "      <td>2.39</td>\n",
       "      <td>156.0</td>\n",
       "      <td>1</td>\n",
       "      <td>0</td>\n",
       "      <td>0</td>\n",
       "      <td>0</td>\n",
       "      <td>...</td>\n",
       "      <td>3.648834</td>\n",
       "      <td>5.229121</td>\n",
       "      <td>116.223876</td>\n",
       "      <td>1</td>\n",
       "      <td>58.752586</td>\n",
       "      <td>39.628994</td>\n",
       "      <td>0</td>\n",
       "      <td>0</td>\n",
       "      <td>1</td>\n",
       "      <td>0</td>\n",
       "    </tr>\n",
       "    <tr>\n",
       "      <th>tt5078326</th>\n",
       "      <td>1</td>\n",
       "      <td>The Country Doctor</td>\n",
       "      <td>PG-13</td>\n",
       "      <td>19000000.0</td>\n",
       "      <td>1.85</td>\n",
       "      <td>102.0</td>\n",
       "      <td>1</td>\n",
       "      <td>0</td>\n",
       "      <td>1</td>\n",
       "      <td>1</td>\n",
       "      <td>...</td>\n",
       "      <td>2.502277</td>\n",
       "      <td>10.108035</td>\n",
       "      <td>130.009231</td>\n",
       "      <td>1</td>\n",
       "      <td>0.000000</td>\n",
       "      <td>34.141130</td>\n",
       "      <td>0</td>\n",
       "      <td>1</td>\n",
       "      <td>0</td>\n",
       "      <td>0</td>\n",
       "    </tr>\n",
       "    <tr>\n",
       "      <th>tt5001130</th>\n",
       "      <td>1</td>\n",
       "      <td>Time to Choose</td>\n",
       "      <td>PG-13</td>\n",
       "      <td>3500000.0</td>\n",
       "      <td>1.85</td>\n",
       "      <td>100.0</td>\n",
       "      <td>0</td>\n",
       "      <td>0</td>\n",
       "      <td>0</td>\n",
       "      <td>0</td>\n",
       "      <td>...</td>\n",
       "      <td>4.556906</td>\n",
       "      <td>4.057789</td>\n",
       "      <td>91.992876</td>\n",
       "      <td>1</td>\n",
       "      <td>0.000000</td>\n",
       "      <td>32.068517</td>\n",
       "      <td>1</td>\n",
       "      <td>0</td>\n",
       "      <td>0</td>\n",
       "      <td>0</td>\n",
       "    </tr>\n",
       "    <tr>\n",
       "      <th>tt4939066</th>\n",
       "      <td>1</td>\n",
       "      <td>Operation Chromite</td>\n",
       "      <td>PG-13</td>\n",
       "      <td>12660000.0</td>\n",
       "      <td>1.85</td>\n",
       "      <td>111.0</td>\n",
       "      <td>1</td>\n",
       "      <td>0</td>\n",
       "      <td>1</td>\n",
       "      <td>0</td>\n",
       "      <td>...</td>\n",
       "      <td>3.380737</td>\n",
       "      <td>19.933142</td>\n",
       "      <td>119.709388</td>\n",
       "      <td>1</td>\n",
       "      <td>59.095733</td>\n",
       "      <td>30.065359</td>\n",
       "      <td>0</td>\n",
       "      <td>0</td>\n",
       "      <td>1</td>\n",
       "      <td>0</td>\n",
       "    </tr>\n",
       "    <tr>\n",
       "      <th>tt4871980</th>\n",
       "      <td>1</td>\n",
       "      <td>The Perfect Match</td>\n",
       "      <td>R</td>\n",
       "      <td>5000000.0</td>\n",
       "      <td>1.85</td>\n",
       "      <td>96.0</td>\n",
       "      <td>0</td>\n",
       "      <td>0</td>\n",
       "      <td>0</td>\n",
       "      <td>1</td>\n",
       "      <td>...</td>\n",
       "      <td>3.082217</td>\n",
       "      <td>15.201223</td>\n",
       "      <td>98.998224</td>\n",
       "      <td>1</td>\n",
       "      <td>0.000000</td>\n",
       "      <td>11.886995</td>\n",
       "      <td>1</td>\n",
       "      <td>0</td>\n",
       "      <td>0</td>\n",
       "      <td>0</td>\n",
       "    </tr>\n",
       "  </tbody>\n",
       "</table>\n",
       "<p>5 rows × 32 columns</p>\n",
       "</div>"
      ],
      "text/plain": [
       "           color               title content_rating  filled_budget  \\\n",
       "imdb_id                                                              \n",
       "tt5215952      1         The Wailing        Unrated     10951000.0   \n",
       "tt5078326      1  The Country Doctor          PG-13     19000000.0   \n",
       "tt5001130      1      Time to Choose          PG-13      3500000.0   \n",
       "tt4939066      1  Operation Chromite          PG-13     12660000.0   \n",
       "tt4871980      1   The Perfect Match              R      5000000.0   \n",
       "\n",
       "          fixed_aspect  durations  shot_only_in_USA  shot_in_USA_and_abroad  \\\n",
       "imdb_id                                                                       \n",
       "tt5215952         2.39      156.0                 1                       0   \n",
       "tt5078326         1.85      102.0                 1                       0   \n",
       "tt5001130         1.85      100.0                 0                       0   \n",
       "tt4939066         1.85      111.0                 1                       0   \n",
       "tt4871980         1.85       96.0                 0                       0   \n",
       "\n",
       "           genre_Drama  genre_Comedy  ...  director_facebook_likes_box  \\\n",
       "imdb_id                               ...                                \n",
       "tt5215952            0             0  ...                     3.648834   \n",
       "tt5078326            1             1  ...                     2.502277   \n",
       "tt5001130            0             0  ...                     4.556906   \n",
       "tt4939066            1             0  ...                     3.380737   \n",
       "tt4871980            0             1  ...                     3.082217   \n",
       "\n",
       "           cast_total_facebook_likes_box  budget_boxed  n_prod_locs_trunc  \\\n",
       "imdb_id                                                                     \n",
       "tt5215952                       5.229121    116.223876                  1   \n",
       "tt5078326                      10.108035    130.009231                  1   \n",
       "tt5001130                       4.057789     91.992876                  1   \n",
       "tt4939066                      19.933142    119.709388                  1   \n",
       "tt4871980                      15.201223     98.998224                  1   \n",
       "\n",
       "           revenue_boxcox  imdb_score_boxed  lang_English  lang_French  \\\n",
       "imdb_id                                                                  \n",
       "tt5215952       58.752586         39.628994             0            0   \n",
       "tt5078326        0.000000         34.141130             0            1   \n",
       "tt5001130        0.000000         32.068517             1            0   \n",
       "tt4939066       59.095733         30.065359             0            0   \n",
       "tt4871980        0.000000         11.886995             1            0   \n",
       "\n",
       "           lang_Other  lang_Spanish  \n",
       "imdb_id                              \n",
       "tt5215952           1             0  \n",
       "tt5078326           0             0  \n",
       "tt5001130           0             0  \n",
       "tt4939066           1             0  \n",
       "tt4871980           0             0  \n",
       "\n",
       "[5 rows x 32 columns]"
      ]
     },
     "execution_count": 215,
     "metadata": {},
     "output_type": "execute_result"
    }
   ],
   "source": [
    "df_mostly_ready_metadata['color'] = df_mostly_ready_metadata['color'].map({\"Color\":1,\n",
    "                                                                           \"Black and White\":0})\n",
    "\n",
    "df_mostly_ready_metadata.head()"
   ]
  },
  {
   "cell_type": "code",
   "execution_count": 216,
   "metadata": {
    "ExecuteTime": {
     "end_time": "2020-04-04T22:47:58.298239Z",
     "start_time": "2020-04-04T22:47:58.295035Z"
    }
   },
   "outputs": [],
   "source": [
    "del df_mostly_ready_metadata['title']"
   ]
  },
  {
   "cell_type": "code",
   "execution_count": 217,
   "metadata": {
    "ExecuteTime": {
     "end_time": "2020-04-04T22:48:01.050794Z",
     "start_time": "2020-04-04T22:48:01.043553Z"
    }
   },
   "outputs": [],
   "source": [
    "df_some_binarized = pd.concat([df_mostly_ready_metadata.drop(['fixed_aspect'],axis=1), \n",
    "                                pd.get_dummies(df_mostly_ready_metadata.fixed_aspect, prefix=\"ratio\")],axis=1\n",
    "                              )"
   ]
  },
  {
   "cell_type": "code",
   "execution_count": 218,
   "metadata": {
    "ExecuteTime": {
     "end_time": "2020-04-04T22:48:03.883558Z",
     "start_time": "2020-04-04T22:48:03.880740Z"
    }
   },
   "outputs": [],
   "source": [
    "del df_mostly_ready_metadata"
   ]
  },
  {
   "cell_type": "code",
   "execution_count": 219,
   "metadata": {
    "ExecuteTime": {
     "end_time": "2020-04-04T22:48:06.645823Z",
     "start_time": "2020-04-04T22:48:06.628867Z"
    }
   },
   "outputs": [
    {
     "data": {
      "text/html": [
       "<div>\n",
       "<style scoped>\n",
       "    .dataframe tbody tr th:only-of-type {\n",
       "        vertical-align: middle;\n",
       "    }\n",
       "\n",
       "    .dataframe tbody tr th {\n",
       "        vertical-align: top;\n",
       "    }\n",
       "\n",
       "    .dataframe thead th {\n",
       "        text-align: right;\n",
       "    }\n",
       "</style>\n",
       "<table border=\"1\" class=\"dataframe\">\n",
       "  <thead>\n",
       "    <tr style=\"text-align: right;\">\n",
       "      <th></th>\n",
       "      <th>color</th>\n",
       "      <th>content_rating</th>\n",
       "      <th>filled_budget</th>\n",
       "      <th>durations</th>\n",
       "      <th>shot_only_in_USA</th>\n",
       "      <th>shot_in_USA_and_abroad</th>\n",
       "      <th>genre_Drama</th>\n",
       "      <th>genre_Comedy</th>\n",
       "      <th>genre_Romance</th>\n",
       "      <th>genre_Crime</th>\n",
       "      <th>...</th>\n",
       "      <th>revenue_boxcox</th>\n",
       "      <th>imdb_score_boxed</th>\n",
       "      <th>lang_English</th>\n",
       "      <th>lang_French</th>\n",
       "      <th>lang_Other</th>\n",
       "      <th>lang_Spanish</th>\n",
       "      <th>ratio_1.33</th>\n",
       "      <th>ratio_1.77</th>\n",
       "      <th>ratio_1.85</th>\n",
       "      <th>ratio_2.39</th>\n",
       "    </tr>\n",
       "    <tr>\n",
       "      <th>imdb_id</th>\n",
       "      <th></th>\n",
       "      <th></th>\n",
       "      <th></th>\n",
       "      <th></th>\n",
       "      <th></th>\n",
       "      <th></th>\n",
       "      <th></th>\n",
       "      <th></th>\n",
       "      <th></th>\n",
       "      <th></th>\n",
       "      <th></th>\n",
       "      <th></th>\n",
       "      <th></th>\n",
       "      <th></th>\n",
       "      <th></th>\n",
       "      <th></th>\n",
       "      <th></th>\n",
       "      <th></th>\n",
       "      <th></th>\n",
       "      <th></th>\n",
       "      <th></th>\n",
       "    </tr>\n",
       "  </thead>\n",
       "  <tbody>\n",
       "    <tr>\n",
       "      <th>tt5215952</th>\n",
       "      <td>1</td>\n",
       "      <td>Unrated</td>\n",
       "      <td>10951000.0</td>\n",
       "      <td>156.0</td>\n",
       "      <td>1</td>\n",
       "      <td>0</td>\n",
       "      <td>0</td>\n",
       "      <td>0</td>\n",
       "      <td>0</td>\n",
       "      <td>0</td>\n",
       "      <td>...</td>\n",
       "      <td>58.752586</td>\n",
       "      <td>39.628994</td>\n",
       "      <td>0</td>\n",
       "      <td>0</td>\n",
       "      <td>1</td>\n",
       "      <td>0</td>\n",
       "      <td>0</td>\n",
       "      <td>0</td>\n",
       "      <td>0</td>\n",
       "      <td>1</td>\n",
       "    </tr>\n",
       "    <tr>\n",
       "      <th>tt5078326</th>\n",
       "      <td>1</td>\n",
       "      <td>PG-13</td>\n",
       "      <td>19000000.0</td>\n",
       "      <td>102.0</td>\n",
       "      <td>1</td>\n",
       "      <td>0</td>\n",
       "      <td>1</td>\n",
       "      <td>1</td>\n",
       "      <td>0</td>\n",
       "      <td>0</td>\n",
       "      <td>...</td>\n",
       "      <td>0.000000</td>\n",
       "      <td>34.141130</td>\n",
       "      <td>0</td>\n",
       "      <td>1</td>\n",
       "      <td>0</td>\n",
       "      <td>0</td>\n",
       "      <td>0</td>\n",
       "      <td>0</td>\n",
       "      <td>1</td>\n",
       "      <td>0</td>\n",
       "    </tr>\n",
       "    <tr>\n",
       "      <th>tt5001130</th>\n",
       "      <td>1</td>\n",
       "      <td>PG-13</td>\n",
       "      <td>3500000.0</td>\n",
       "      <td>100.0</td>\n",
       "      <td>0</td>\n",
       "      <td>0</td>\n",
       "      <td>0</td>\n",
       "      <td>0</td>\n",
       "      <td>0</td>\n",
       "      <td>0</td>\n",
       "      <td>...</td>\n",
       "      <td>0.000000</td>\n",
       "      <td>32.068517</td>\n",
       "      <td>1</td>\n",
       "      <td>0</td>\n",
       "      <td>0</td>\n",
       "      <td>0</td>\n",
       "      <td>0</td>\n",
       "      <td>0</td>\n",
       "      <td>1</td>\n",
       "      <td>0</td>\n",
       "    </tr>\n",
       "    <tr>\n",
       "      <th>tt4939066</th>\n",
       "      <td>1</td>\n",
       "      <td>PG-13</td>\n",
       "      <td>12660000.0</td>\n",
       "      <td>111.0</td>\n",
       "      <td>1</td>\n",
       "      <td>0</td>\n",
       "      <td>1</td>\n",
       "      <td>0</td>\n",
       "      <td>0</td>\n",
       "      <td>0</td>\n",
       "      <td>...</td>\n",
       "      <td>59.095733</td>\n",
       "      <td>30.065359</td>\n",
       "      <td>0</td>\n",
       "      <td>0</td>\n",
       "      <td>1</td>\n",
       "      <td>0</td>\n",
       "      <td>0</td>\n",
       "      <td>0</td>\n",
       "      <td>1</td>\n",
       "      <td>0</td>\n",
       "    </tr>\n",
       "    <tr>\n",
       "      <th>tt4871980</th>\n",
       "      <td>1</td>\n",
       "      <td>R</td>\n",
       "      <td>5000000.0</td>\n",
       "      <td>96.0</td>\n",
       "      <td>0</td>\n",
       "      <td>0</td>\n",
       "      <td>0</td>\n",
       "      <td>1</td>\n",
       "      <td>1</td>\n",
       "      <td>0</td>\n",
       "      <td>...</td>\n",
       "      <td>0.000000</td>\n",
       "      <td>11.886995</td>\n",
       "      <td>1</td>\n",
       "      <td>0</td>\n",
       "      <td>0</td>\n",
       "      <td>0</td>\n",
       "      <td>0</td>\n",
       "      <td>0</td>\n",
       "      <td>1</td>\n",
       "      <td>0</td>\n",
       "    </tr>\n",
       "  </tbody>\n",
       "</table>\n",
       "<p>5 rows × 34 columns</p>\n",
       "</div>"
      ],
      "text/plain": [
       "           color content_rating  filled_budget  durations  shot_only_in_USA  \\\n",
       "imdb_id                                                                       \n",
       "tt5215952      1        Unrated     10951000.0      156.0                 1   \n",
       "tt5078326      1          PG-13     19000000.0      102.0                 1   \n",
       "tt5001130      1          PG-13      3500000.0      100.0                 0   \n",
       "tt4939066      1          PG-13     12660000.0      111.0                 1   \n",
       "tt4871980      1              R      5000000.0       96.0                 0   \n",
       "\n",
       "           shot_in_USA_and_abroad  genre_Drama  genre_Comedy  genre_Romance  \\\n",
       "imdb_id                                                                       \n",
       "tt5215952                       0            0             0              0   \n",
       "tt5078326                       0            1             1              0   \n",
       "tt5001130                       0            0             0              0   \n",
       "tt4939066                       0            1             0              0   \n",
       "tt4871980                       0            0             1              1   \n",
       "\n",
       "           genre_Crime  ...  revenue_boxcox  imdb_score_boxed  lang_English  \\\n",
       "imdb_id                 ...                                                   \n",
       "tt5215952            0  ...       58.752586         39.628994             0   \n",
       "tt5078326            0  ...        0.000000         34.141130             0   \n",
       "tt5001130            0  ...        0.000000         32.068517             1   \n",
       "tt4939066            0  ...       59.095733         30.065359             0   \n",
       "tt4871980            0  ...        0.000000         11.886995             1   \n",
       "\n",
       "           lang_French  lang_Other  lang_Spanish  ratio_1.33  ratio_1.77  \\\n",
       "imdb_id                                                                    \n",
       "tt5215952            0           1             0           0           0   \n",
       "tt5078326            1           0             0           0           0   \n",
       "tt5001130            0           0             0           0           0   \n",
       "tt4939066            0           1             0           0           0   \n",
       "tt4871980            0           0             0           0           0   \n",
       "\n",
       "           ratio_1.85  ratio_2.39  \n",
       "imdb_id                            \n",
       "tt5215952           0           1  \n",
       "tt5078326           1           0  \n",
       "tt5001130           1           0  \n",
       "tt4939066           1           0  \n",
       "tt4871980           1           0  \n",
       "\n",
       "[5 rows x 34 columns]"
      ]
     },
     "execution_count": 219,
     "metadata": {},
     "output_type": "execute_result"
    }
   ],
   "source": [
    "df_some_binarized.head()"
   ]
  },
  {
   "cell_type": "code",
   "execution_count": 220,
   "metadata": {
    "ExecuteTime": {
     "end_time": "2020-04-04T22:48:09.393622Z",
     "start_time": "2020-04-04T22:48:09.385523Z"
    }
   },
   "outputs": [
    {
     "data": {
      "text/html": [
       "<div>\n",
       "<style scoped>\n",
       "    .dataframe tbody tr th:only-of-type {\n",
       "        vertical-align: middle;\n",
       "    }\n",
       "\n",
       "    .dataframe tbody tr th {\n",
       "        vertical-align: top;\n",
       "    }\n",
       "\n",
       "    .dataframe thead th {\n",
       "        text-align: right;\n",
       "    }\n",
       "</style>\n",
       "<table border=\"1\" class=\"dataframe\">\n",
       "  <thead>\n",
       "    <tr style=\"text-align: right;\">\n",
       "      <th></th>\n",
       "      <th>content_PG</th>\n",
       "      <th>content_PG-13</th>\n",
       "      <th>content_R</th>\n",
       "      <th>content_Unrated</th>\n",
       "      <th>content_X</th>\n",
       "    </tr>\n",
       "    <tr>\n",
       "      <th>imdb_id</th>\n",
       "      <th></th>\n",
       "      <th></th>\n",
       "      <th></th>\n",
       "      <th></th>\n",
       "      <th></th>\n",
       "    </tr>\n",
       "  </thead>\n",
       "  <tbody>\n",
       "    <tr>\n",
       "      <th>tt5215952</th>\n",
       "      <td>0</td>\n",
       "      <td>0</td>\n",
       "      <td>0</td>\n",
       "      <td>1</td>\n",
       "      <td>0</td>\n",
       "    </tr>\n",
       "    <tr>\n",
       "      <th>tt5078326</th>\n",
       "      <td>0</td>\n",
       "      <td>1</td>\n",
       "      <td>0</td>\n",
       "      <td>0</td>\n",
       "      <td>0</td>\n",
       "    </tr>\n",
       "    <tr>\n",
       "      <th>tt5001130</th>\n",
       "      <td>0</td>\n",
       "      <td>1</td>\n",
       "      <td>0</td>\n",
       "      <td>0</td>\n",
       "      <td>0</td>\n",
       "    </tr>\n",
       "  </tbody>\n",
       "</table>\n",
       "</div>"
      ],
      "text/plain": [
       "           content_PG  content_PG-13  content_R  content_Unrated  content_X\n",
       "imdb_id                                                                    \n",
       "tt5215952           0              0          0                1          0\n",
       "tt5078326           0              1          0                0          0\n",
       "tt5001130           0              1          0                0          0"
      ]
     },
     "execution_count": 220,
     "metadata": {},
     "output_type": "execute_result"
    }
   ],
   "source": [
    "content_ratings = pd.get_dummies(df_some_binarized.content_rating,prefix=\"content\")\n",
    "content_ratings.head(3)"
   ]
  },
  {
   "cell_type": "code",
   "execution_count": 221,
   "metadata": {
    "ExecuteTime": {
     "end_time": "2020-04-04T22:48:12.162945Z",
     "start_time": "2020-04-04T22:48:12.157334Z"
    }
   },
   "outputs": [],
   "source": [
    "df_ratings_binarized = pd.concat([df_some_binarized.drop(['content_rating'],\n",
    "                                                         axis=1\n",
    "                                                        ), \n",
    "                                  content_ratings],\n",
    "                                 axis=1\n",
    "                                )"
   ]
  },
  {
   "cell_type": "code",
   "execution_count": 222,
   "metadata": {
    "ExecuteTime": {
     "end_time": "2020-04-04T22:48:14.972270Z",
     "start_time": "2020-04-04T22:48:14.969985Z"
    }
   },
   "outputs": [],
   "source": [
    "del content_ratings"
   ]
  },
  {
   "cell_type": "code",
   "execution_count": 232,
   "metadata": {
    "ExecuteTime": {
     "end_time": "2020-04-04T23:01:54.075034Z",
     "start_time": "2020-04-04T23:01:54.058915Z"
    }
   },
   "outputs": [
    {
     "data": {
      "text/html": [
       "<div>\n",
       "<style scoped>\n",
       "    .dataframe tbody tr th:only-of-type {\n",
       "        vertical-align: middle;\n",
       "    }\n",
       "\n",
       "    .dataframe tbody tr th {\n",
       "        vertical-align: top;\n",
       "    }\n",
       "\n",
       "    .dataframe thead th {\n",
       "        text-align: right;\n",
       "    }\n",
       "</style>\n",
       "<table border=\"1\" class=\"dataframe\">\n",
       "  <thead>\n",
       "    <tr style=\"text-align: right;\">\n",
       "      <th></th>\n",
       "      <th>color</th>\n",
       "      <th>filled_budget</th>\n",
       "      <th>durations</th>\n",
       "      <th>shot_only_in_USA</th>\n",
       "      <th>shot_in_USA_and_abroad</th>\n",
       "      <th>genre_Drama</th>\n",
       "      <th>genre_Comedy</th>\n",
       "      <th>genre_Romance</th>\n",
       "      <th>genre_Crime</th>\n",
       "      <th>genre_Thriller</th>\n",
       "      <th>...</th>\n",
       "      <th>lang_Spanish</th>\n",
       "      <th>ratio_1.33</th>\n",
       "      <th>ratio_1.77</th>\n",
       "      <th>ratio_1.85</th>\n",
       "      <th>ratio_2.39</th>\n",
       "      <th>content_PG</th>\n",
       "      <th>content_PG-13</th>\n",
       "      <th>content_R</th>\n",
       "      <th>content_Unrated</th>\n",
       "      <th>content_X</th>\n",
       "    </tr>\n",
       "    <tr>\n",
       "      <th>imdb_id</th>\n",
       "      <th></th>\n",
       "      <th></th>\n",
       "      <th></th>\n",
       "      <th></th>\n",
       "      <th></th>\n",
       "      <th></th>\n",
       "      <th></th>\n",
       "      <th></th>\n",
       "      <th></th>\n",
       "      <th></th>\n",
       "      <th></th>\n",
       "      <th></th>\n",
       "      <th></th>\n",
       "      <th></th>\n",
       "      <th></th>\n",
       "      <th></th>\n",
       "      <th></th>\n",
       "      <th></th>\n",
       "      <th></th>\n",
       "      <th></th>\n",
       "      <th></th>\n",
       "    </tr>\n",
       "  </thead>\n",
       "  <tbody>\n",
       "    <tr>\n",
       "      <th>tt5215952</th>\n",
       "      <td>1</td>\n",
       "      <td>10951000.0</td>\n",
       "      <td>156.0</td>\n",
       "      <td>1</td>\n",
       "      <td>0</td>\n",
       "      <td>0</td>\n",
       "      <td>0</td>\n",
       "      <td>0</td>\n",
       "      <td>0</td>\n",
       "      <td>1</td>\n",
       "      <td>...</td>\n",
       "      <td>0</td>\n",
       "      <td>0</td>\n",
       "      <td>0</td>\n",
       "      <td>0</td>\n",
       "      <td>1</td>\n",
       "      <td>0</td>\n",
       "      <td>0</td>\n",
       "      <td>0</td>\n",
       "      <td>1</td>\n",
       "      <td>0</td>\n",
       "    </tr>\n",
       "    <tr>\n",
       "      <th>tt5078326</th>\n",
       "      <td>1</td>\n",
       "      <td>19000000.0</td>\n",
       "      <td>102.0</td>\n",
       "      <td>1</td>\n",
       "      <td>0</td>\n",
       "      <td>1</td>\n",
       "      <td>1</td>\n",
       "      <td>0</td>\n",
       "      <td>0</td>\n",
       "      <td>0</td>\n",
       "      <td>...</td>\n",
       "      <td>0</td>\n",
       "      <td>0</td>\n",
       "      <td>0</td>\n",
       "      <td>1</td>\n",
       "      <td>0</td>\n",
       "      <td>0</td>\n",
       "      <td>1</td>\n",
       "      <td>0</td>\n",
       "      <td>0</td>\n",
       "      <td>0</td>\n",
       "    </tr>\n",
       "    <tr>\n",
       "      <th>tt5001130</th>\n",
       "      <td>1</td>\n",
       "      <td>3500000.0</td>\n",
       "      <td>100.0</td>\n",
       "      <td>0</td>\n",
       "      <td>0</td>\n",
       "      <td>0</td>\n",
       "      <td>0</td>\n",
       "      <td>0</td>\n",
       "      <td>0</td>\n",
       "      <td>0</td>\n",
       "      <td>...</td>\n",
       "      <td>0</td>\n",
       "      <td>0</td>\n",
       "      <td>0</td>\n",
       "      <td>1</td>\n",
       "      <td>0</td>\n",
       "      <td>0</td>\n",
       "      <td>1</td>\n",
       "      <td>0</td>\n",
       "      <td>0</td>\n",
       "      <td>0</td>\n",
       "    </tr>\n",
       "    <tr>\n",
       "      <th>tt4939066</th>\n",
       "      <td>1</td>\n",
       "      <td>12660000.0</td>\n",
       "      <td>111.0</td>\n",
       "      <td>1</td>\n",
       "      <td>0</td>\n",
       "      <td>1</td>\n",
       "      <td>0</td>\n",
       "      <td>0</td>\n",
       "      <td>0</td>\n",
       "      <td>0</td>\n",
       "      <td>...</td>\n",
       "      <td>0</td>\n",
       "      <td>0</td>\n",
       "      <td>0</td>\n",
       "      <td>1</td>\n",
       "      <td>0</td>\n",
       "      <td>0</td>\n",
       "      <td>1</td>\n",
       "      <td>0</td>\n",
       "      <td>0</td>\n",
       "      <td>0</td>\n",
       "    </tr>\n",
       "    <tr>\n",
       "      <th>tt4871980</th>\n",
       "      <td>1</td>\n",
       "      <td>5000000.0</td>\n",
       "      <td>96.0</td>\n",
       "      <td>0</td>\n",
       "      <td>0</td>\n",
       "      <td>0</td>\n",
       "      <td>1</td>\n",
       "      <td>1</td>\n",
       "      <td>0</td>\n",
       "      <td>0</td>\n",
       "      <td>...</td>\n",
       "      <td>0</td>\n",
       "      <td>0</td>\n",
       "      <td>0</td>\n",
       "      <td>1</td>\n",
       "      <td>0</td>\n",
       "      <td>0</td>\n",
       "      <td>0</td>\n",
       "      <td>1</td>\n",
       "      <td>0</td>\n",
       "      <td>0</td>\n",
       "    </tr>\n",
       "  </tbody>\n",
       "</table>\n",
       "<p>5 rows × 38 columns</p>\n",
       "</div>"
      ],
      "text/plain": [
       "           color  filled_budget  durations  shot_only_in_USA  \\\n",
       "imdb_id                                                        \n",
       "tt5215952      1     10951000.0      156.0                 1   \n",
       "tt5078326      1     19000000.0      102.0                 1   \n",
       "tt5001130      1      3500000.0      100.0                 0   \n",
       "tt4939066      1     12660000.0      111.0                 1   \n",
       "tt4871980      1      5000000.0       96.0                 0   \n",
       "\n",
       "           shot_in_USA_and_abroad  genre_Drama  genre_Comedy  genre_Romance  \\\n",
       "imdb_id                                                                       \n",
       "tt5215952                       0            0             0              0   \n",
       "tt5078326                       0            1             1              0   \n",
       "tt5001130                       0            0             0              0   \n",
       "tt4939066                       0            1             0              0   \n",
       "tt4871980                       0            0             1              1   \n",
       "\n",
       "           genre_Crime  genre_Thriller  ...  lang_Spanish  ratio_1.33  \\\n",
       "imdb_id                                 ...                             \n",
       "tt5215952            0               1  ...             0           0   \n",
       "tt5078326            0               0  ...             0           0   \n",
       "tt5001130            0               0  ...             0           0   \n",
       "tt4939066            0               0  ...             0           0   \n",
       "tt4871980            0               0  ...             0           0   \n",
       "\n",
       "           ratio_1.77  ratio_1.85  ratio_2.39  content_PG  content_PG-13  \\\n",
       "imdb_id                                                                    \n",
       "tt5215952           0           0           1           0              0   \n",
       "tt5078326           0           1           0           0              1   \n",
       "tt5001130           0           1           0           0              1   \n",
       "tt4939066           0           1           0           0              1   \n",
       "tt4871980           0           1           0           0              0   \n",
       "\n",
       "           content_R  content_Unrated  content_X  \n",
       "imdb_id                                           \n",
       "tt5215952          0                1          0  \n",
       "tt5078326          0                0          0  \n",
       "tt5001130          0                0          0  \n",
       "tt4939066          0                0          0  \n",
       "tt4871980          1                0          0  \n",
       "\n",
       "[5 rows x 38 columns]"
      ]
     },
     "execution_count": 232,
     "metadata": {},
     "output_type": "execute_result"
    }
   ],
   "source": [
    "df_ratings_binarized.head()"
   ]
  },
  {
   "cell_type": "code",
   "execution_count": null,
   "metadata": {},
   "outputs": [],
   "source": []
  },
  {
   "cell_type": "code",
   "execution_count": null,
   "metadata": {},
   "outputs": [],
   "source": []
  },
  {
   "cell_type": "code",
   "execution_count": null,
   "metadata": {},
   "outputs": [],
   "source": []
  },
  {
   "cell_type": "code",
   "execution_count": null,
   "metadata": {},
   "outputs": [],
   "source": []
  },
  {
   "cell_type": "code",
   "execution_count": null,
   "metadata": {},
   "outputs": [],
   "source": []
  },
  {
   "cell_type": "code",
   "execution_count": null,
   "metadata": {},
   "outputs": [],
   "source": [
    "# df_tfidf = pd.read_pickle('../data/pickles/df_tfidf.pkl')"
   ]
  },
  {
   "cell_type": "markdown",
   "metadata": {},
   "source": [
    "# Bivariate Analyses"
   ]
  },
  {
   "cell_type": "code",
   "execution_count": null,
   "metadata": {},
   "outputs": [],
   "source": []
  },
  {
   "cell_type": "markdown",
   "metadata": {},
   "source": [
    "Are there any redundant features? Are there any features obviously correlated with our dependent var?"
   ]
  },
  {
   "cell_type": "code",
   "execution_count": null,
   "metadata": {
    "ExecuteTime": {
     "end_time": "2020-04-02T03:14:00.627373Z",
     "start_time": "2020-04-02T03:14:00.480306Z"
    },
    "scrolled": true
   },
   "outputs": [],
   "source": [
    "# Creating a multi-scatter plot\n",
    "main_corr= main_df.drop(['binary_target'], axis=1).iloc[:,:]\n",
    "pd.plotting.scatter_matrix(main_corr, figsize=[15,15]);"
   ]
  },
  {
   "cell_type": "code",
   "execution_count": null,
   "metadata": {
    "ExecuteTime": {
     "end_time": "2020-04-02T03:14:00.743857Z",
     "start_time": "2020-04-02T03:14:00.737669Z"
    }
   },
   "outputs": [],
   "source": [
    "sns.heatmap(main_corr.corr(), center=0);"
   ]
  },
  {
   "cell_type": "markdown",
   "metadata": {},
   "source": [
    "# Structured-Only Linear Regression"
   ]
  },
  {
   "cell_type": "markdown",
   "metadata": {},
   "source": [
    "Let's start without incorporating the unstructured text data, just numerical and categorical info:"
   ]
  },
  {
   "cell_type": "markdown",
   "metadata": {},
   "source": [
    "Now that we've cleaned up a bit, we'll start throwing our features at a statsmodels logistic regression estimator to evaluate r^2 and p-values of various features."
   ]
  },
  {
   "cell_type": "code",
   "execution_count": null,
   "metadata": {},
   "outputs": [],
   "source": [
    "# check LogReg with all initial variables from main_df (note: no plot)\n",
    "s = (\"binary_target ~ Year + C(Action) + C(Adventure) + C(Animation) + C(Biography) + C(Comedy)\"\n",
    "                 \"+ C(Crime) + C(Documentary) + C(Drama) + C(Family) + C(Fantasy) + C(History)\"\n",
    "                 \"+ C(Horror) + C(Musical) + C(Mystery) + C(Romance) + C(Sci_Fi) + C(Sport)\"\n",
    "                 \"+ C(Thriller) + C(War)+ C(Western)\"\n",
    "                 \"+ Actor_1_fb_likes_logged + Actor_2_fb_likes_logged\"\n",
    "                 \"+ Actor_3_fb_likes_logged\")\n",
    "\n",
    "y, X = dmatrices(s, main_df, return_type=\"dataframe\")\n",
    "\n",
    "X_train, X_test, y_train, y_test = train_test_split(X, y, test_size =  0.2)\n",
    "\n",
    "logit_model = sm.Logit(y_train.iloc[:,0], X_train)\n",
    "result = logit_model.fit()\n",
    "\n",
    "print(result.summary())\n",
    "\n",
    "y_preds = result.predict(X_test)\n",
    "\n",
    "accuracy_score(y_test, y_preds >=.5)"
   ]
  },
  {
   "cell_type": "markdown",
   "metadata": {},
   "source": [
    "This gives us an idea of which features might be less important in the determination of what makes a movie \"good\". We'll drop the less pertinent features and try again:"
   ]
  },
  {
   "cell_type": "code",
   "execution_count": null,
   "metadata": {
    "scrolled": false
   },
   "outputs": [],
   "source": [
    "s = (\"binary_target ~ Year + C(Action) + C(Animation) + C(Biography) + C(Comedy)\"\n",
    "                 \"+ C(Documentary) + C(Drama) + C(Family)\"\n",
    "                 \"+ C(Horror) + C(Mystery) + C(Romance) + C(Sci_Fi)\"\n",
    "                 \"+ C(Thriller)\"\n",
    "                 \"+ Actor_1_fb_likes_logged + Actor_2_fb_likes_logged\"\n",
    "                 \"+ Actor_3_fb_likes_logged\")\n",
    "\n",
    "main_df = main_df.drop(['Adventure','Crime', 'Fantasy', 'History', 'Musical', 'Sport', 'War', 'Western'], axis=1)\n",
    "\n",
    "y, X = dmatrices(s, main_df, return_type = \"dataframe\")\n",
    "\n",
    "X_train, X_test, y_train, y_test = train_test_split(X, y, test_size =  0.2)\n",
    "\n",
    "logit_model = sm.Logit(y_train.iloc[:,0], X_train)\n",
    "result = logit_model.fit()\n",
    "\n",
    "print(result.summary())\n",
    "\n",
    "y_preds = result.predict(X_test)\n",
    "\n",
    "accuracy_score(y_test, y_preds >=.5)"
   ]
  },
  {
   "cell_type": "code",
   "execution_count": null,
   "metadata": {},
   "outputs": [],
   "source": [
    "main_df.columns"
   ]
  },
  {
   "cell_type": "markdown",
   "metadata": {},
   "source": [
    "These are the features we're sticking with for now."
   ]
  },
  {
   "cell_type": "markdown",
   "metadata": {},
   "source": [
    "It's fairly intuitive that the social media popularity of the leading actors would be positively correlated, but we'll leave it in in case there are deviations from that norm. It's interesting to note that films in the \"animation\" genre are so commonly also in the \"family\" genre. Makes sense too."
   ]
  },
  {
   "cell_type": "code",
   "execution_count": null,
   "metadata": {},
   "outputs": [],
   "source": []
  },
  {
   "cell_type": "code",
   "execution_count": null,
   "metadata": {},
   "outputs": [],
   "source": []
  },
  {
   "cell_type": "markdown",
   "metadata": {},
   "source": [
    "# LEFTOVERS"
   ]
  },
  {
   "cell_type": "markdown",
   "metadata": {},
   "source": [
    "## All-Inclusive Model"
   ]
  },
  {
   "cell_type": "markdown",
   "metadata": {},
   "source": [
    "## Baselining"
   ]
  },
  {
   "cell_type": "markdown",
   "metadata": {},
   "source": [
    "## Dimensionality Reduction"
   ]
  },
  {
   "cell_type": "markdown",
   "metadata": {},
   "source": [
    "Next we'll try a simple Gaussian Naive Bayes Model:"
   ]
  },
  {
   "cell_type": "markdown",
   "metadata": {},
   "source": [
    "Now we'll go nuts and try an XGBClassifier model. A boosted model seems to work better without PCA, so we'll drop it for this part."
   ]
  },
  {
   "cell_type": "markdown",
   "metadata": {},
   "source": [
    "## Grid Searching for better parameters"
   ]
  },
  {
   "cell_type": "code",
   "execution_count": null,
   "metadata": {},
   "outputs": [],
   "source": []
  }
 ],
 "metadata": {
  "kernelspec": {
   "display_name": "Python 3",
   "language": "python",
   "name": "python3"
  },
  "language_info": {
   "codemirror_mode": {
    "name": "ipython",
    "version": 3
   },
   "file_extension": ".py",
   "mimetype": "text/x-python",
   "name": "python",
   "nbconvert_exporter": "python",
   "pygments_lexer": "ipython3",
   "version": "3.7.5"
  },
  "toc": {
   "base_numbering": 1,
   "nav_menu": {},
   "number_sections": true,
   "sideBar": true,
   "skip_h1_title": false,
   "title_cell": "Table of Contents",
   "title_sidebar": "Contents",
   "toc_cell": false,
   "toc_position": {
    "height": "calc(100% - 180px)",
    "left": "10px",
    "top": "150px",
    "width": "384px"
   },
   "toc_section_display": true,
   "toc_window_display": true
  },
  "varInspector": {
   "cols": {
    "lenName": 16,
    "lenType": 16,
    "lenVar": 40
   },
   "kernels_config": {
    "python": {
     "delete_cmd_postfix": "",
     "delete_cmd_prefix": "del ",
     "library": "var_list.py",
     "varRefreshCmd": "print(var_dic_list())"
    },
    "r": {
     "delete_cmd_postfix": ") ",
     "delete_cmd_prefix": "rm(",
     "library": "var_list.r",
     "varRefreshCmd": "cat(var_dic_list()) "
    }
   },
   "position": {
    "height": "513px",
    "left": "1548px",
    "right": "20px",
    "top": "116px",
    "width": "355px"
   },
   "types_to_exclude": [
    "module",
    "function",
    "builtin_function_or_method",
    "instance",
    "_Feature"
   ],
   "window_display": true
  }
 },
 "nbformat": 4,
 "nbformat_minor": 2
}
