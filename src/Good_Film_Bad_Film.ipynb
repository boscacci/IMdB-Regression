{
 "cells": [
  {
   "cell_type": "markdown",
   "metadata": {},
   "source": [
    "# Good Film // Bad Film\n",
    "## Film Plot Synopses and etc. as Predictors of Critical Reception"
   ]
  },
  {
   "cell_type": "markdown",
   "metadata": {},
   "source": [
    "This notebook builds and evaluates a handful of regression models which predict critical reception scores for films. Independent variables include plot synopsis free text, social media metrics on the leading actors, and other categorical variables such as film genre."
   ]
  },
  {
   "cell_type": "code",
   "execution_count": 8,
   "metadata": {},
   "outputs": [],
   "source": [
    "# import pickle\n",
    "import os\n",
    "import time\n",
    "\n",
    "import pandas as pd\n",
    "import numpy as np\n",
    "\n",
    "import requests\n",
    "\n",
    "# import matplotlib.pyplot as plt\n",
    "# import seaborn as sns\n",
    "# sns.set(style='ticks', color_codes=True)\n",
    "\n",
    "# import nltk\n",
    "# from nltk import FreqDist, word_tokenize\n",
    "# from nltk.stem import WordNetLemmatizer \n",
    "# from nltk.corpus import wordnet\n",
    "# from nltk.corpus import stopwords\n",
    "\n",
    "# import enchant\n",
    "# english_d = enchant.Dict(\"en_US\")\n",
    "# import re\n",
    "# import gensim\n",
    "# from gensim import corpora, models, similarities\n",
    "\n",
    "# import pyLDAvis\n",
    "# import pyLDAvis.gensim\n",
    "\n",
    "# from sklearn.preprocessing import StandardScaler\n",
    "# from sklearn.feature_extraction.text import TfidfVectorizer\n",
    "# from sklearn.model_selection import train_test_split, GridSearchCV\n",
    "# from sklearn.decomposition import TruncatedSVD\n",
    "# from sklearn.naive_bayes import MultinomialNB, GaussianNB\n",
    "# from sklearn import metrics\n",
    "# from sklearn.metrics import accuracy_score, roc_curve, auc\n",
    "# from sklearn.dummy import DummyClassifier\n",
    "# from sklearn.ensemble import GradientBoostingClassifier\n",
    "# from sklearn.pipeline import Pipeline\n",
    "\n",
    "# import statsmodels.api as sm\n",
    "# import statsmodels.formula.api as sm\n",
    "# import scipy.stats as stats\n",
    "# from statsmodels.formula.api import ols\n",
    "\n",
    "# import xgboost as xgb\n",
    "# from xgboost import XGBClassifier\n",
    "# from patsy import dmatrices"
   ]
  },
  {
   "cell_type": "markdown",
   "metadata": {},
   "source": [
    "## Load the data"
   ]
  },
  {
   "cell_type": "markdown",
   "metadata": {},
   "source": [
    "From https://www.kaggle.com/tmdb/tmdb-movie-metadata:"
   ]
  },
  {
   "cell_type": "code",
   "execution_count": 2,
   "metadata": {},
   "outputs": [],
   "source": [
    "imdb = pd.read_csv('../data/imdb_5000_movies.csv') # Just a big Kaggle dataset full of movies."
   ]
  },
  {
   "cell_type": "markdown",
   "metadata": {},
   "source": [
    "One really nice thing about this dataset is that it provides the unique IMdB movie ID's, which we can pass to a third-party API in order to supplement our data with more features. A key to the OMdB API cost a minimum of one dollar. Here we parse out those IMdB ID's:"
   ]
  },
  {
   "cell_type": "code",
   "execution_count": 3,
   "metadata": {},
   "outputs": [
    {
     "data": {
      "text/plain": [
       "(5043, 28)"
      ]
     },
     "execution_count": 3,
     "metadata": {},
     "output_type": "execute_result"
    }
   ],
   "source": [
    "imdb.shape"
   ]
  },
  {
   "cell_type": "code",
   "execution_count": 33,
   "metadata": {},
   "outputs": [],
   "source": [
    "imdb_ids = [imdb.iloc[i]['movie_imdb_link'].split('title/')[1].split('/?')[0] for i in range(len(imdb))]"
   ]
  },
  {
   "cell_type": "markdown",
   "metadata": {},
   "source": [
    "Here we make the API calls, and persist our data to little .txt files:"
   ]
  },
  {
   "cell_type": "code",
   "execution_count": 34,
   "metadata": {
    "scrolled": true
   },
   "outputs": [],
   "source": [
    "# You will need to enter your own API key in the API_KEY.py file (remove the .template suffix)\n",
    "from API_KEY import API_KEY\n",
    "\n",
    "try:\n",
    "    os.mkdir('../data/movie_metadata')\n",
    "except FileExistsError:\n",
    "    pass"
   ]
  },
  {
   "cell_type": "code",
   "execution_count": null,
   "metadata": {
    "scrolled": true
   },
   "outputs": [
    {
     "name": "stdout",
     "output_type": "stream",
     "text": [
      "Downloading movie 0 of 5043...\n",
      "Downloading movie 1 of 5043...\n",
      "Downloading movie 2 of 5043...\n",
      "Downloading movie 3 of 5043...\n",
      "Downloading movie 4 of 5043...\n",
      "0.2% of movies not found\n",
      "Downloading movie 5 of 5043...\n",
      "Downloading movie 6 of 5043...\n",
      "Downloading movie 7 of 5043...\n",
      "Downloading movie 8 of 5043...\n",
      "Downloading movie 9 of 5043...\n",
      "Downloading movie 10 of 5043...\n",
      "Downloading movie 11 of 5043...\n",
      "Downloading movie 12 of 5043...\n",
      "Downloading movie 13 of 5043...\n",
      "Downloading movie 14 of 5043...\n",
      "Downloading movie 15 of 5043...\n",
      "Downloading movie 16 of 5043...\n",
      "Downloading movie 17 of 5043...\n",
      "Downloading movie 18 of 5043...\n",
      "Downloading movie 19 of 5043...\n",
      "Downloading movie 20 of 5043...\n",
      "Downloading movie 21 of 5043...\n",
      "Downloading movie 22 of 5043...\n",
      "Downloading movie 23 of 5043...\n",
      "Downloading movie 24 of 5043...\n",
      "Downloading movie 25 of 5043...\n",
      "Downloading movie 26 of 5043...\n",
      "Downloading movie 27 of 5043...\n",
      "Downloading movie 28 of 5043...\n",
      "Downloading movie 29 of 5043...\n",
      "Downloading movie 30 of 5043...\n",
      "Downloading movie 31 of 5043...\n",
      "Downloading movie 32 of 5043...\n",
      "Downloading movie 33 of 5043...\n",
      "Downloading movie 34 of 5043...\n",
      "Downloading movie 35 of 5043...\n",
      "Downloading movie 36 of 5043...\n",
      "Downloading movie 37 of 5043...\n",
      "Downloading movie 38 of 5043...\n",
      "Downloading movie 39 of 5043...\n",
      "Downloading movie 40 of 5043...\n",
      "Downloading movie 41 of 5043...\n",
      "Downloading movie 42 of 5043...\n",
      "Downloading movie 43 of 5043...\n",
      "Downloading movie 44 of 5043...\n",
      "Downloading movie 45 of 5043...\n",
      "Downloading movie 46 of 5043...\n",
      "Downloading movie 47 of 5043...\n",
      "Downloading movie 48 of 5043...\n",
      "Downloading movie 49 of 5043...\n",
      "Downloading movie 50 of 5043...\n",
      "Downloading movie 51 of 5043...\n",
      "Downloading movie 52 of 5043...\n",
      "Downloading movie 53 of 5043...\n",
      "Downloading movie 54 of 5043...\n",
      "Downloading movie 55 of 5043...\n",
      "Downloading movie 56 of 5043...\n",
      "Downloading movie 57 of 5043...\n",
      "Downloading movie 58 of 5043...\n",
      "Downloading movie 59 of 5043...\n",
      "Downloading movie 60 of 5043...\n",
      "Downloading movie 61 of 5043...\n",
      "Downloading movie 62 of 5043...\n",
      "Downloading movie 63 of 5043...\n",
      "Downloading movie 64 of 5043...\n",
      "Downloading movie 65 of 5043...\n",
      "Downloading movie 66 of 5043...\n",
      "Downloading movie 67 of 5043...\n",
      "Downloading movie 68 of 5043...\n",
      "Downloading movie 69 of 5043...\n",
      "Downloading movie 70 of 5043...\n",
      "Downloading movie 71 of 5043...\n",
      "Downloading movie 72 of 5043...\n",
      "Downloading movie 73 of 5043...\n",
      "Downloading movie 74 of 5043...\n",
      "Downloading movie 75 of 5043...\n",
      "Downloading movie 76 of 5043...\n",
      "Downloading movie 77 of 5043...\n",
      "Downloading movie 78 of 5043...\n",
      "Downloading movie 79 of 5043...\n",
      "Downloading movie 80 of 5043...\n",
      "Downloading movie 81 of 5043...\n",
      "Downloading movie 82 of 5043...\n",
      "Downloading movie 83 of 5043...\n",
      "Downloading movie 84 of 5043...\n",
      "Downloading movie 85 of 5043...\n",
      "Downloading movie 86 of 5043...\n",
      "Downloading movie 87 of 5043...\n",
      "Downloading movie 88 of 5043...\n",
      "Downloading movie 89 of 5043...\n",
      "Downloading movie 90 of 5043...\n",
      "Downloading movie 91 of 5043...\n",
      "Downloading movie 92 of 5043...\n",
      "Downloading movie 93 of 5043...\n",
      "Downloading movie 94 of 5043...\n",
      "Downloading movie 95 of 5043...\n",
      "Downloading movie 96 of 5043...\n",
      "Downloading movie 97 of 5043...\n",
      "Downloading movie 98 of 5043...\n",
      "Downloading movie 99 of 5043...\n",
      "Downloading movie 100 of 5043...\n",
      "Downloading movie 101 of 5043...\n",
      "Downloading movie 102 of 5043...\n",
      "Downloading movie 103 of 5043...\n",
      "Downloading movie 104 of 5043...\n",
      "Downloading movie 105 of 5043...\n",
      "Downloading movie 106 of 5043...\n",
      "Downloading movie 107 of 5043...\n",
      "Downloading movie 108 of 5043...\n",
      "Downloading movie 109 of 5043...\n",
      "Downloading movie 110 of 5043...\n",
      "Downloading movie 111 of 5043...\n",
      "Downloading movie 112 of 5043...\n",
      "Downloading movie 113 of 5043...\n",
      "Downloading movie 114 of 5043...\n",
      "Downloading movie 115 of 5043...\n",
      "Downloading movie 116 of 5043...\n",
      "Downloading movie 117 of 5043...\n",
      "Downloading movie 118 of 5043...\n",
      "Downloading movie 119 of 5043...\n",
      "Downloading movie 120 of 5043...\n",
      "Downloading movie 121 of 5043...\n",
      "Downloading movie 122 of 5043...\n",
      "Downloading movie 123 of 5043...\n",
      "Downloading movie 124 of 5043...\n",
      "Downloading movie 125 of 5043...\n",
      "Downloading movie 126 of 5043...\n",
      "Downloading movie 127 of 5043...\n",
      "Downloading movie 128 of 5043...\n",
      "Downloading movie 129 of 5043...\n",
      "Downloading movie 130 of 5043...\n",
      "Downloading movie 131 of 5043...\n",
      "Downloading movie 132 of 5043...\n",
      "Downloading movie 133 of 5043...\n",
      "Downloading movie 134 of 5043...\n",
      "Downloading movie 135 of 5043...\n",
      "Downloading movie 136 of 5043...\n",
      "Downloading movie 137 of 5043...\n",
      "Downloading movie 138 of 5043...\n",
      "Downloading movie 139 of 5043...\n",
      "Downloading movie 140 of 5043...\n",
      "Downloading movie 141 of 5043...\n",
      "Downloading movie 142 of 5043...\n",
      "Downloading movie 143 of 5043...\n",
      "Downloading movie 144 of 5043...\n",
      "Downloading movie 145 of 5043...\n",
      "Downloading movie 146 of 5043...\n",
      "Downloading movie 147 of 5043...\n",
      "Downloading movie 148 of 5043...\n",
      "Downloading movie 149 of 5043...\n",
      "Downloading movie 150 of 5043...\n",
      "Downloading movie 151 of 5043...\n",
      "Downloading movie 152 of 5043...\n",
      "Downloading movie 153 of 5043...\n",
      "Downloading movie 154 of 5043...\n",
      "Downloading movie 155 of 5043...\n",
      "Downloading movie 156 of 5043...\n",
      "Downloading movie 157 of 5043...\n",
      "Downloading movie 158 of 5043...\n",
      "Downloading movie 159 of 5043...\n",
      "Downloading movie 160 of 5043...\n",
      "Downloading movie 161 of 5043...\n",
      "Downloading movie 162 of 5043...\n",
      "Downloading movie 163 of 5043...\n",
      "Downloading movie 164 of 5043...\n",
      "Downloading movie 165 of 5043...\n",
      "Downloading movie 166 of 5043...\n",
      "Downloading movie 167 of 5043...\n",
      "Downloading movie 168 of 5043...\n",
      "Downloading movie 169 of 5043...\n",
      "Downloading movie 170 of 5043...\n",
      "Downloading movie 171 of 5043...\n",
      "Downloading movie 172 of 5043...\n",
      "Downloading movie 173 of 5043...\n",
      "Downloading movie 174 of 5043...\n",
      "Downloading movie 175 of 5043...\n",
      "Downloading movie 176 of 5043...\n",
      "Downloading movie 177 of 5043...\n",
      "0.01% of movies not found\n",
      "Downloading movie 178 of 5043...\n",
      "Downloading movie 179 of 5043...\n",
      "Downloading movie 180 of 5043...\n",
      "Downloading movie 181 of 5043...\n",
      "Downloading movie 182 of 5043...\n",
      "Downloading movie 183 of 5043...\n",
      "Downloading movie 184 of 5043...\n",
      "Downloading movie 185 of 5043...\n",
      "Downloading movie 186 of 5043...\n",
      "Downloading movie 187 of 5043...\n",
      "Downloading movie 188 of 5043...\n",
      "Downloading movie 189 of 5043...\n",
      "Downloading movie 190 of 5043...\n",
      "Downloading movie 191 of 5043...\n",
      "Downloading movie 192 of 5043...\n",
      "Downloading movie 193 of 5043...\n",
      "Downloading movie 194 of 5043...\n",
      "Downloading movie 195 of 5043...\n",
      "Downloading movie 196 of 5043...\n",
      "Downloading movie 197 of 5043...\n",
      "Downloading movie 198 of 5043...\n",
      "Downloading movie 199 of 5043...\n",
      "0.01% of movies not found\n",
      "Downloading movie 200 of 5043...\n",
      "Downloading movie 201 of 5043...\n",
      "Downloading movie 202 of 5043...\n",
      "Downloading movie 203 of 5043...\n",
      "Downloading movie 204 of 5043...\n",
      "Downloading movie 205 of 5043...\n",
      "Downloading movie 206 of 5043...\n",
      "0.02% of movies not found\n",
      "Downloading movie 207 of 5043...\n",
      "Downloading movie 208 of 5043...\n",
      "Downloading movie 209 of 5043...\n",
      "Downloading movie 210 of 5043...\n",
      "Downloading movie 211 of 5043...\n",
      "Downloading movie 212 of 5043...\n",
      "Downloading movie 213 of 5043...\n",
      "Downloading movie 214 of 5043...\n",
      "Downloading movie 215 of 5043...\n",
      "Downloading movie 216 of 5043...\n",
      "Downloading movie 217 of 5043...\n",
      "Downloading movie 218 of 5043...\n",
      "Downloading movie 219 of 5043...\n",
      "Downloading movie 220 of 5043...\n",
      "Downloading movie 221 of 5043...\n",
      "Downloading movie 222 of 5043...\n",
      "Downloading movie 223 of 5043...\n",
      "Downloading movie 224 of 5043...\n",
      "Downloading movie 225 of 5043...\n",
      "Downloading movie 226 of 5043...\n",
      "Downloading movie 227 of 5043...\n",
      "Downloading movie 228 of 5043...\n",
      "Downloading movie 229 of 5043...\n",
      "Downloading movie 230 of 5043...\n",
      "Downloading movie 231 of 5043...\n",
      "Downloading movie 232 of 5043...\n",
      "Downloading movie 233 of 5043...\n",
      "Downloading movie 234 of 5043...\n",
      "Downloading movie 235 of 5043...\n",
      "Downloading movie 236 of 5043...\n",
      "Downloading movie 237 of 5043...\n",
      "Downloading movie 238 of 5043...\n",
      "Downloading movie 239 of 5043...\n",
      "Downloading movie 240 of 5043...\n",
      "Downloading movie 241 of 5043...\n",
      "Downloading movie 242 of 5043...\n",
      "Downloading movie 243 of 5043...\n",
      "Downloading movie 244 of 5043...\n",
      "Downloading movie 245 of 5043...\n",
      "Downloading movie 246 of 5043...\n",
      "Downloading movie 247 of 5043...\n",
      "Downloading movie 248 of 5043...\n"
     ]
    },
    {
     "name": "stdout",
     "output_type": "stream",
     "text": [
      "Downloading movie 249 of 5043...\n",
      "Downloading movie 250 of 5043...\n",
      "Downloading movie 251 of 5043...\n",
      "Downloading movie 252 of 5043...\n",
      "Downloading movie 253 of 5043...\n",
      "Downloading movie 254 of 5043...\n",
      "Downloading movie 255 of 5043...\n",
      "Downloading movie 256 of 5043...\n",
      "Downloading movie 257 of 5043...\n",
      "Downloading movie 258 of 5043...\n",
      "Downloading movie 259 of 5043...\n",
      "Downloading movie 260 of 5043...\n",
      "0.02% of movies not found\n",
      "Downloading movie 261 of 5043...\n",
      "Downloading movie 262 of 5043...\n",
      "Downloading movie 263 of 5043...\n",
      "Downloading movie 264 of 5043...\n",
      "Downloading movie 265 of 5043...\n",
      "Downloading movie 266 of 5043...\n",
      "Downloading movie 267 of 5043...\n",
      "Downloading movie 268 of 5043...\n",
      "Downloading movie 269 of 5043...\n",
      "Downloading movie 270 of 5043...\n",
      "Downloading movie 271 of 5043...\n",
      "Downloading movie 272 of 5043...\n",
      "Downloading movie 273 of 5043...\n",
      "Downloading movie 274 of 5043...\n",
      "Downloading movie 275 of 5043...\n",
      "Downloading movie 276 of 5043...\n",
      "Downloading movie 277 of 5043...\n",
      "Downloading movie 278 of 5043...\n",
      "Downloading movie 279 of 5043...\n",
      "0.02% of movies not found\n",
      "Downloading movie 280 of 5043...\n",
      "Downloading movie 281 of 5043...\n",
      "Downloading movie 282 of 5043...\n",
      "Downloading movie 283 of 5043...\n",
      "Downloading movie 284 of 5043...\n",
      "Downloading movie 285 of 5043...\n",
      "Downloading movie 286 of 5043...\n",
      "Downloading movie 287 of 5043...\n",
      "Downloading movie 288 of 5043...\n",
      "Downloading movie 289 of 5043...\n",
      "Downloading movie 290 of 5043...\n",
      "Downloading movie 291 of 5043...\n",
      "Downloading movie 292 of 5043...\n",
      "Downloading movie 293 of 5043...\n",
      "Downloading movie 294 of 5043...\n",
      "Downloading movie 295 of 5043...\n",
      "Downloading movie 296 of 5043...\n",
      "Downloading movie 297 of 5043...\n",
      "Downloading movie 298 of 5043...\n",
      "Downloading movie 299 of 5043...\n",
      "Downloading movie 300 of 5043...\n",
      "Downloading movie 301 of 5043...\n",
      "Downloading movie 302 of 5043...\n",
      "Downloading movie 303 of 5043...\n",
      "Downloading movie 304 of 5043...\n",
      "Downloading movie 305 of 5043...\n",
      "Downloading movie 306 of 5043...\n",
      "Downloading movie 307 of 5043...\n",
      "Downloading movie 308 of 5043...\n",
      "Downloading movie 309 of 5043...\n",
      "Downloading movie 310 of 5043...\n",
      "Downloading movie 311 of 5043...\n",
      "Downloading movie 312 of 5043...\n",
      "Downloading movie 313 of 5043...\n",
      "Downloading movie 314 of 5043...\n",
      "Downloading movie 315 of 5043...\n",
      "Downloading movie 316 of 5043...\n",
      "Downloading movie 317 of 5043...\n",
      "Downloading movie 318 of 5043...\n",
      "Downloading movie 319 of 5043...\n",
      "Downloading movie 320 of 5043...\n",
      "Downloading movie 321 of 5043...\n",
      "Downloading movie 322 of 5043...\n",
      "Downloading movie 323 of 5043...\n",
      "Downloading movie 324 of 5043...\n",
      "Downloading movie 325 of 5043...\n",
      "Downloading movie 326 of 5043...\n",
      "Downloading movie 327 of 5043...\n",
      "Downloading movie 328 of 5043...\n",
      "Downloading movie 329 of 5043...\n",
      "Downloading movie 330 of 5043...\n",
      "Downloading movie 331 of 5043...\n",
      "Downloading movie 332 of 5043...\n",
      "Downloading movie 333 of 5043...\n",
      "Downloading movie 334 of 5043...\n",
      "Downloading movie 335 of 5043...\n",
      "Downloading movie 336 of 5043...\n",
      "Downloading movie 337 of 5043...\n",
      "Downloading movie 338 of 5043...\n",
      "Downloading movie 339 of 5043...\n",
      "Downloading movie 340 of 5043...\n",
      "Downloading movie 341 of 5043...\n",
      "Downloading movie 342 of 5043...\n",
      "Downloading movie 343 of 5043...\n",
      "Downloading movie 344 of 5043...\n",
      "Downloading movie 345 of 5043...\n",
      "Downloading movie 346 of 5043...\n",
      "Downloading movie 347 of 5043...\n",
      "Downloading movie 348 of 5043...\n",
      "Downloading movie 349 of 5043...\n",
      "Downloading movie 350 of 5043...\n",
      "Downloading movie 351 of 5043...\n",
      "Downloading movie 352 of 5043...\n",
      "Downloading movie 353 of 5043...\n",
      "Downloading movie 354 of 5043...\n",
      "Downloading movie 355 of 5043...\n",
      "Downloading movie 356 of 5043...\n",
      "Downloading movie 357 of 5043...\n",
      "Downloading movie 358 of 5043...\n",
      "Downloading movie 359 of 5043...\n",
      "Downloading movie 360 of 5043...\n",
      "Downloading movie 361 of 5043...\n",
      "Downloading movie 362 of 5043...\n",
      "Downloading movie 363 of 5043...\n",
      "Downloading movie 364 of 5043...\n",
      "Downloading movie 365 of 5043...\n",
      "Downloading movie 366 of 5043...\n",
      "Downloading movie 367 of 5043...\n",
      "Downloading movie 368 of 5043...\n",
      "Downloading movie 369 of 5043...\n",
      "Downloading movie 370 of 5043...\n",
      "Downloading movie 371 of 5043...\n",
      "Downloading movie 372 of 5043...\n",
      "Downloading movie 373 of 5043...\n",
      "Downloading movie 374 of 5043...\n",
      "Downloading movie 375 of 5043...\n",
      "Downloading movie 376 of 5043...\n",
      "Downloading movie 377 of 5043...\n",
      "Downloading movie 378 of 5043...\n",
      "Downloading movie 379 of 5043...\n",
      "Downloading movie 380 of 5043...\n",
      "Downloading movie 381 of 5043...\n",
      "Downloading movie 382 of 5043...\n",
      "Downloading movie 383 of 5043...\n",
      "Downloading movie 384 of 5043...\n",
      "Downloading movie 385 of 5043...\n",
      "Downloading movie 386 of 5043...\n",
      "Downloading movie 387 of 5043...\n",
      "Downloading movie 388 of 5043...\n",
      "Downloading movie 389 of 5043...\n",
      "Downloading movie 390 of 5043...\n",
      "Downloading movie 391 of 5043...\n",
      "Downloading movie 392 of 5043...\n",
      "Downloading movie 393 of 5043...\n",
      "Downloading movie 394 of 5043...\n",
      "Downloading movie 395 of 5043...\n",
      "Downloading movie 396 of 5043...\n",
      "Downloading movie 397 of 5043...\n",
      "Downloading movie 398 of 5043...\n",
      "Downloading movie 399 of 5043...\n",
      "Downloading movie 400 of 5043...\n",
      "Downloading movie 401 of 5043...\n",
      "Downloading movie 402 of 5043...\n",
      "Downloading movie 403 of 5043...\n",
      "Downloading movie 404 of 5043...\n",
      "0.02% of movies not found\n",
      "Downloading movie 405 of 5043...\n",
      "Downloading movie 406 of 5043...\n",
      "Downloading movie 407 of 5043...\n",
      "Downloading movie 408 of 5043...\n",
      "Downloading movie 409 of 5043...\n",
      "Downloading movie 410 of 5043...\n",
      "Downloading movie 411 of 5043...\n",
      "Downloading movie 412 of 5043...\n",
      "Downloading movie 413 of 5043...\n",
      "Downloading movie 414 of 5043...\n",
      "Downloading movie 415 of 5043...\n",
      "Downloading movie 416 of 5043...\n",
      "Downloading movie 417 of 5043...\n",
      "Downloading movie 418 of 5043...\n",
      "Downloading movie 419 of 5043...\n",
      "Downloading movie 420 of 5043...\n",
      "Downloading movie 421 of 5043...\n",
      "Downloading movie 422 of 5043...\n",
      "Downloading movie 423 of 5043...\n",
      "Downloading movie 424 of 5043...\n",
      "Downloading movie 425 of 5043...\n",
      "Downloading movie 426 of 5043...\n",
      "Downloading movie 427 of 5043...\n",
      "Downloading movie 428 of 5043...\n",
      "Downloading movie 429 of 5043...\n",
      "Downloading movie 430 of 5043...\n",
      "Downloading movie 431 of 5043...\n",
      "Downloading movie 432 of 5043...\n",
      "Downloading movie 433 of 5043...\n",
      "Downloading movie 434 of 5043...\n",
      "Downloading movie 435 of 5043...\n",
      "Downloading movie 436 of 5043...\n",
      "Downloading movie 437 of 5043...\n",
      "Downloading movie 438 of 5043...\n",
      "Downloading movie 439 of 5043...\n",
      "Downloading movie 440 of 5043...\n",
      "Downloading movie 441 of 5043...\n",
      "Downloading movie 442 of 5043...\n",
      "Downloading movie 443 of 5043...\n",
      "Downloading movie 444 of 5043...\n",
      "Downloading movie 445 of 5043...\n",
      "Downloading movie 446 of 5043...\n",
      "Downloading movie 447 of 5043...\n",
      "Downloading movie 448 of 5043...\n",
      "Downloading movie 449 of 5043...\n",
      "Downloading movie 450 of 5043...\n",
      "Downloading movie 451 of 5043...\n",
      "Downloading movie 452 of 5043...\n",
      "Downloading movie 453 of 5043...\n",
      "Downloading movie 454 of 5043...\n",
      "Downloading movie 455 of 5043...\n",
      "Downloading movie 456 of 5043...\n",
      "Downloading movie 457 of 5043...\n",
      "Downloading movie 458 of 5043...\n",
      "Downloading movie 459 of 5043...\n",
      "0.02% of movies not found\n",
      "Downloading movie 460 of 5043...\n",
      "Downloading movie 461 of 5043...\n",
      "Downloading movie 462 of 5043...\n",
      "Downloading movie 463 of 5043...\n",
      "Downloading movie 464 of 5043...\n",
      "Downloading movie 465 of 5043...\n",
      "Downloading movie 466 of 5043...\n",
      "Downloading movie 467 of 5043...\n",
      "Downloading movie 468 of 5043...\n",
      "Downloading movie 469 of 5043...\n",
      "Downloading movie 470 of 5043...\n",
      "Downloading movie 471 of 5043...\n",
      "Downloading movie 472 of 5043...\n",
      "Downloading movie 473 of 5043...\n",
      "Downloading movie 474 of 5043...\n",
      "Downloading movie 475 of 5043...\n",
      "Downloading movie 476 of 5043...\n",
      "Downloading movie 477 of 5043...\n",
      "Downloading movie 478 of 5043...\n",
      "Downloading movie 479 of 5043...\n",
      "0.02% of movies not found\n",
      "Downloading movie 480 of 5043...\n",
      "Downloading movie 481 of 5043...\n",
      "Downloading movie 482 of 5043...\n",
      "Downloading movie 483 of 5043...\n",
      "Downloading movie 484 of 5043...\n",
      "Downloading movie 485 of 5043...\n",
      "Downloading movie 486 of 5043...\n",
      "Downloading movie 487 of 5043...\n",
      "Downloading movie 488 of 5043...\n",
      "Downloading movie 489 of 5043...\n",
      "Downloading movie 490 of 5043...\n",
      "Downloading movie 491 of 5043...\n",
      "Downloading movie 492 of 5043...\n",
      "Downloading movie 493 of 5043...\n"
     ]
    },
    {
     "name": "stdout",
     "output_type": "stream",
     "text": [
      "Downloading movie 494 of 5043...\n",
      "Downloading movie 495 of 5043...\n",
      "Downloading movie 496 of 5043...\n",
      "Downloading movie 497 of 5043...\n",
      "Downloading movie 498 of 5043...\n",
      "Downloading movie 499 of 5043...\n",
      "Downloading movie 500 of 5043...\n",
      "Downloading movie 501 of 5043...\n",
      "Downloading movie 502 of 5043...\n",
      "Downloading movie 503 of 5043...\n",
      "Downloading movie 504 of 5043...\n",
      "Downloading movie 505 of 5043...\n",
      "Downloading movie 506 of 5043...\n",
      "Downloading movie 507 of 5043...\n",
      "Downloading movie 508 of 5043...\n",
      "Downloading movie 509 of 5043...\n",
      "Downloading movie 510 of 5043...\n",
      "Downloading movie 511 of 5043...\n",
      "Downloading movie 512 of 5043...\n",
      "Downloading movie 513 of 5043...\n",
      "Downloading movie 514 of 5043...\n",
      "Downloading movie 515 of 5043...\n",
      "Downloading movie 516 of 5043...\n",
      "Downloading movie 517 of 5043...\n",
      "Downloading movie 518 of 5043...\n",
      "Downloading movie 519 of 5043...\n",
      "Downloading movie 520 of 5043...\n",
      "Downloading movie 521 of 5043...\n",
      "Downloading movie 522 of 5043...\n",
      "Downloading movie 523 of 5043...\n",
      "Downloading movie 524 of 5043...\n",
      "Downloading movie 525 of 5043...\n",
      "Downloading movie 526 of 5043...\n",
      "Downloading movie 527 of 5043...\n",
      "Downloading movie 528 of 5043...\n",
      "Downloading movie 529 of 5043...\n",
      "Downloading movie 530 of 5043...\n",
      "Downloading movie 531 of 5043...\n",
      "Downloading movie 532 of 5043...\n",
      "Downloading movie 533 of 5043...\n",
      "Downloading movie 534 of 5043...\n",
      "Downloading movie 535 of 5043...\n",
      "Downloading movie 536 of 5043...\n",
      "Downloading movie 537 of 5043...\n",
      "0.02% of movies not found\n",
      "Downloading movie 538 of 5043...\n",
      "Downloading movie 539 of 5043...\n",
      "Downloading movie 540 of 5043...\n",
      "Downloading movie 541 of 5043...\n",
      "Downloading movie 542 of 5043...\n",
      "Downloading movie 543 of 5043...\n",
      "0.02% of movies not found\n",
      "Downloading movie 544 of 5043...\n",
      "Downloading movie 545 of 5043...\n",
      "Downloading movie 546 of 5043...\n",
      "Downloading movie 547 of 5043...\n",
      "Downloading movie 548 of 5043...\n",
      "Downloading movie 549 of 5043...\n",
      "Downloading movie 550 of 5043...\n",
      "Downloading movie 551 of 5043...\n",
      "Downloading movie 552 of 5043...\n",
      "Downloading movie 553 of 5043...\n",
      "Downloading movie 554 of 5043...\n",
      "Downloading movie 555 of 5043...\n",
      "Downloading movie 556 of 5043...\n",
      "Downloading movie 557 of 5043...\n",
      "Downloading movie 558 of 5043...\n",
      "Downloading movie 559 of 5043...\n",
      "Downloading movie 560 of 5043...\n",
      "Downloading movie 561 of 5043...\n",
      "Downloading movie 562 of 5043...\n",
      "Downloading movie 563 of 5043...\n",
      "Downloading movie 564 of 5043...\n",
      "Downloading movie 565 of 5043...\n",
      "Downloading movie 566 of 5043...\n",
      "Downloading movie 567 of 5043...\n",
      "Downloading movie 568 of 5043...\n",
      "Downloading movie 569 of 5043...\n",
      "Downloading movie 570 of 5043...\n",
      "Downloading movie 571 of 5043...\n",
      "Downloading movie 572 of 5043...\n",
      "Downloading movie 573 of 5043...\n",
      "Downloading movie 574 of 5043...\n",
      "Downloading movie 575 of 5043...\n",
      "Downloading movie 576 of 5043...\n",
      "Downloading movie 577 of 5043...\n",
      "Downloading movie 578 of 5043...\n",
      "Downloading movie 579 of 5043...\n",
      "Downloading movie 580 of 5043...\n",
      "Downloading movie 581 of 5043...\n",
      "Downloading movie 582 of 5043...\n",
      "Downloading movie 583 of 5043...\n",
      "Downloading movie 584 of 5043...\n",
      "Downloading movie 585 of 5043...\n",
      "Downloading movie 586 of 5043...\n",
      "Downloading movie 587 of 5043...\n",
      "Downloading movie 588 of 5043...\n",
      "Downloading movie 589 of 5043...\n",
      "Downloading movie 590 of 5043...\n",
      "Downloading movie 591 of 5043...\n",
      "Downloading movie 592 of 5043...\n",
      "Downloading movie 593 of 5043...\n",
      "0.02% of movies not found\n",
      "Downloading movie 594 of 5043...\n",
      "Downloading movie 595 of 5043...\n",
      "Downloading movie 596 of 5043...\n",
      "Downloading movie 597 of 5043...\n",
      "Downloading movie 598 of 5043...\n",
      "Downloading movie 599 of 5043...\n",
      "Downloading movie 600 of 5043...\n",
      "Downloading movie 601 of 5043...\n",
      "Downloading movie 602 of 5043...\n",
      "Downloading movie 603 of 5043...\n",
      "Downloading movie 604 of 5043...\n",
      "Downloading movie 605 of 5043...\n",
      "Downloading movie 606 of 5043...\n",
      "Downloading movie 607 of 5043...\n",
      "Downloading movie 608 of 5043...\n",
      "Downloading movie 609 of 5043...\n",
      "Downloading movie 610 of 5043...\n",
      "Downloading movie 611 of 5043...\n",
      "Downloading movie 612 of 5043...\n",
      "Downloading movie 613 of 5043...\n",
      "Downloading movie 614 of 5043...\n",
      "Downloading movie 615 of 5043...\n",
      "Downloading movie 616 of 5043...\n",
      "Downloading movie 617 of 5043...\n",
      "Downloading movie 618 of 5043...\n",
      "Downloading movie 619 of 5043...\n",
      "Downloading movie 620 of 5043...\n",
      "Downloading movie 621 of 5043...\n",
      "Downloading movie 622 of 5043...\n",
      "Downloading movie 623 of 5043...\n",
      "Downloading movie 624 of 5043...\n",
      "Downloading movie 625 of 5043...\n",
      "Downloading movie 626 of 5043...\n",
      "Downloading movie 627 of 5043...\n",
      "Downloading movie 628 of 5043...\n",
      "Downloading movie 629 of 5043...\n",
      "Downloading movie 630 of 5043...\n",
      "Downloading movie 631 of 5043...\n",
      "Downloading movie 632 of 5043...\n",
      "Downloading movie 633 of 5043...\n",
      "Downloading movie 634 of 5043...\n",
      "Downloading movie 635 of 5043...\n",
      "Downloading movie 636 of 5043...\n",
      "Downloading movie 637 of 5043...\n",
      "Downloading movie 638 of 5043...\n",
      "Downloading movie 639 of 5043...\n",
      "Downloading movie 640 of 5043...\n",
      "Downloading movie 641 of 5043...\n",
      "Downloading movie 642 of 5043...\n",
      "Downloading movie 643 of 5043...\n",
      "Downloading movie 644 of 5043...\n",
      "Downloading movie 645 of 5043...\n",
      "0.02% of movies not found\n",
      "Downloading movie 646 of 5043...\n",
      "Downloading movie 647 of 5043...\n",
      "Downloading movie 648 of 5043...\n",
      "Downloading movie 649 of 5043...\n",
      "Downloading movie 650 of 5043...\n",
      "Downloading movie 651 of 5043...\n",
      "Downloading movie 652 of 5043...\n",
      "Downloading movie 653 of 5043...\n",
      "Downloading movie 654 of 5043...\n",
      "Downloading movie 655 of 5043...\n",
      "Downloading movie 656 of 5043...\n",
      "Downloading movie 657 of 5043...\n",
      "Downloading movie 658 of 5043...\n",
      "Downloading movie 659 of 5043...\n",
      "Downloading movie 660 of 5043...\n",
      "Downloading movie 661 of 5043...\n",
      "Downloading movie 662 of 5043...\n",
      "Downloading movie 663 of 5043...\n",
      "Downloading movie 664 of 5043...\n",
      "Downloading movie 665 of 5043...\n",
      "Downloading movie 666 of 5043...\n",
      "Downloading movie 667 of 5043...\n",
      "Downloading movie 668 of 5043...\n",
      "Downloading movie 669 of 5043...\n",
      "Downloading movie 670 of 5043...\n",
      "Downloading movie 671 of 5043...\n",
      "Downloading movie 672 of 5043...\n",
      "Downloading movie 673 of 5043...\n",
      "Downloading movie 674 of 5043...\n",
      "Downloading movie 675 of 5043...\n",
      "Downloading movie 676 of 5043...\n",
      "Downloading movie 677 of 5043...\n",
      "Downloading movie 678 of 5043...\n",
      "Downloading movie 679 of 5043...\n",
      "Downloading movie 680 of 5043...\n",
      "Downloading movie 681 of 5043...\n",
      "Downloading movie 682 of 5043...\n",
      "Downloading movie 683 of 5043...\n",
      "Downloading movie 684 of 5043...\n",
      "Downloading movie 685 of 5043...\n",
      "0.02% of movies not found\n",
      "Downloading movie 686 of 5043...\n",
      "Downloading movie 687 of 5043...\n",
      "Downloading movie 688 of 5043...\n",
      "Downloading movie 689 of 5043...\n",
      "Downloading movie 690 of 5043...\n",
      "Downloading movie 691 of 5043...\n",
      "Downloading movie 692 of 5043...\n",
      "Downloading movie 693 of 5043...\n",
      "Downloading movie 694 of 5043...\n",
      "Downloading movie 695 of 5043...\n",
      "Downloading movie 696 of 5043...\n",
      "Downloading movie 697 of 5043...\n",
      "Downloading movie 698 of 5043...\n",
      "Downloading movie 699 of 5043...\n",
      "Downloading movie 700 of 5043...\n",
      "Downloading movie 701 of 5043...\n",
      "Downloading movie 702 of 5043...\n",
      "Downloading movie 703 of 5043...\n",
      "Downloading movie 704 of 5043...\n",
      "Downloading movie 705 of 5043...\n",
      "Downloading movie 706 of 5043...\n",
      "Downloading movie 707 of 5043...\n",
      "Downloading movie 708 of 5043...\n",
      "Downloading movie 709 of 5043...\n",
      "Downloading movie 710 of 5043...\n",
      "Downloading movie 711 of 5043...\n",
      "Downloading movie 712 of 5043...\n",
      "Downloading movie 713 of 5043...\n",
      "Downloading movie 714 of 5043...\n",
      "Downloading movie 715 of 5043...\n",
      "Downloading movie 716 of 5043...\n",
      "Downloading movie 717 of 5043...\n",
      "Downloading movie 718 of 5043...\n",
      "Downloading movie 719 of 5043...\n",
      "Downloading movie 720 of 5043...\n",
      "Downloading movie 721 of 5043...\n",
      "Downloading movie 722 of 5043...\n",
      "Downloading movie 723 of 5043...\n",
      "Downloading movie 724 of 5043...\n",
      "Downloading movie 725 of 5043...\n",
      "Downloading movie 726 of 5043...\n",
      "Downloading movie 727 of 5043...\n",
      "Downloading movie 728 of 5043...\n",
      "Downloading movie 729 of 5043...\n",
      "Downloading movie 730 of 5043...\n",
      "Downloading movie 731 of 5043...\n",
      "Downloading movie 732 of 5043...\n",
      "Downloading movie 733 of 5043...\n",
      "Downloading movie 734 of 5043...\n",
      "Downloading movie 735 of 5043...\n",
      "Downloading movie 736 of 5043...\n",
      "Downloading movie 737 of 5043...\n",
      "Downloading movie 738 of 5043...\n"
     ]
    },
    {
     "name": "stdout",
     "output_type": "stream",
     "text": [
      "Downloading movie 739 of 5043...\n",
      "Downloading movie 740 of 5043...\n",
      "Downloading movie 741 of 5043...\n",
      "Downloading movie 742 of 5043...\n",
      "Downloading movie 743 of 5043...\n",
      "Downloading movie 744 of 5043...\n",
      "Downloading movie 745 of 5043...\n",
      "Downloading movie 746 of 5043...\n",
      "Downloading movie 747 of 5043...\n",
      "Downloading movie 748 of 5043...\n",
      "Downloading movie 749 of 5043...\n",
      "Downloading movie 750 of 5043...\n",
      "Downloading movie 751 of 5043...\n",
      "Downloading movie 752 of 5043...\n",
      "Downloading movie 753 of 5043...\n",
      "Downloading movie 754 of 5043...\n",
      "Downloading movie 755 of 5043...\n",
      "Downloading movie 756 of 5043...\n",
      "Downloading movie 757 of 5043...\n",
      "0.02% of movies not found\n",
      "Downloading movie 758 of 5043...\n",
      "Downloading movie 759 of 5043...\n",
      "Downloading movie 760 of 5043...\n",
      "Downloading movie 761 of 5043...\n",
      "Downloading movie 762 of 5043...\n",
      "Downloading movie 763 of 5043...\n",
      "Downloading movie 764 of 5043...\n",
      "Downloading movie 765 of 5043...\n",
      "Downloading movie 766 of 5043...\n",
      "Downloading movie 767 of 5043...\n",
      "Downloading movie 768 of 5043...\n",
      "Downloading movie 769 of 5043...\n",
      "Downloading movie 770 of 5043...\n",
      "Downloading movie 771 of 5043...\n",
      "Downloading movie 772 of 5043...\n",
      "Downloading movie 773 of 5043...\n",
      "Downloading movie 774 of 5043...\n",
      "Downloading movie 775 of 5043...\n",
      "Downloading movie 776 of 5043...\n",
      "Downloading movie 777 of 5043...\n",
      "Downloading movie 778 of 5043...\n",
      "Downloading movie 779 of 5043...\n",
      "Downloading movie 780 of 5043...\n",
      "Downloading movie 781 of 5043...\n",
      "Downloading movie 782 of 5043...\n",
      "Downloading movie 783 of 5043...\n",
      "Downloading movie 784 of 5043...\n",
      "Downloading movie 785 of 5043...\n",
      "Downloading movie 786 of 5043...\n",
      "Downloading movie 787 of 5043...\n",
      "Downloading movie 788 of 5043...\n",
      "Downloading movie 789 of 5043...\n",
      "Downloading movie 790 of 5043...\n",
      "Downloading movie 791 of 5043...\n",
      "Downloading movie 792 of 5043...\n",
      "Downloading movie 793 of 5043...\n",
      "Downloading movie 794 of 5043...\n",
      "Downloading movie 795 of 5043...\n",
      "Downloading movie 796 of 5043...\n",
      "Downloading movie 797 of 5043...\n",
      "Downloading movie 798 of 5043...\n",
      "Downloading movie 799 of 5043...\n",
      "Downloading movie 800 of 5043...\n",
      "Downloading movie 801 of 5043...\n",
      "Downloading movie 802 of 5043...\n",
      "Downloading movie 803 of 5043...\n",
      "Downloading movie 804 of 5043...\n",
      "Downloading movie 805 of 5043...\n",
      "Downloading movie 806 of 5043...\n",
      "Downloading movie 807 of 5043...\n",
      "Downloading movie 808 of 5043...\n",
      "Downloading movie 809 of 5043...\n"
     ]
    }
   ],
   "source": [
    "i=0; j=0; total=len(imdb_ids)\n",
    "\n",
    "for id in imdb_ids:\n",
    "    print(f\"Downloading movie {i} of {total}...\")\n",
    "    i+=1\n",
    "    query_string = f'https://api.themoviedb.org/3/movie/{id}?api_key={API_KEY}'\n",
    "    json = requests.get(query_string).text\n",
    "    if \"could not be found\" in json:\n",
    "        j+=1\n",
    "        print(f\"{round(j/i, 2)}% of movies not found\")\n",
    "        continue\n",
    "    f = open(f'../data/movie_metadata/movie_{id}.json', 'w+')\n",
    "    f.write(json)\n",
    "    f.close()"
   ]
  },
  {
   "cell_type": "markdown",
   "metadata": {},
   "source": [
    "This is what we want our eventual pandas dataFrame to look like:"
   ]
  },
  {
   "cell_type": "code",
   "execution_count": null,
   "metadata": {},
   "outputs": [],
   "source": [
    "df = pd.DataFrame(columns=['Title', 'Year', 'ID', 'Plot', 'Genre', 'Production', \n",
    "                           'Director', 'Actor_1_name', 'Actor_1_fb_likes', 'Actor_2_name', \n",
    "                           'Actor_2_fb_likes', 'Actor_3_name', 'Actor_3_fb_likes', 'Budget', \n",
    "                           'Rated', 'Language', 'imdbRating'])"
   ]
  },
  {
   "cell_type": "markdown",
   "metadata": {},
   "source": [
    "This is where we frankenstein together the kaggle dataset with what we got from OMdB:"
   ]
  },
  {
   "cell_type": "code",
   "execution_count": null,
   "metadata": {},
   "outputs": [],
   "source": [
    "for i in range(len(imdb_ids)):\n",
    "    id = imdb.iloc[i]['movie_imdb_link'].split('title/')[1].split('/?')[0]\n",
    "    x_file = open(os.path.join('Movies', f\"movie_{id}\"), \"r\") # Open up each movie's text file\n",
    "    movie_text = x_file.readlines()[0]\n",
    "    dict = eval(movie_text) # Coerce string to dictionary\n",
    "    dict['Plot'] = dict['Plot'].replace(\"\\'\", \"'\") # Cleanup\n",
    "    df = df.append({'Title': dict['Title'], 'Year': dict['Year'], 'ID': id, \n",
    "                    'Plot': dict['Plot'], 'Genre': dict['Genre'], \n",
    "                    'imdbRating': dict['imdbRating'], \n",
    "                    'Director': imdb.iloc[i,:].loc['director_name'], \n",
    "                    'Actor_1_name':imdb.iloc[i,:].loc['actor_1_name'], \n",
    "                    'Actor_1_fb_likes':imdb.iloc[i,:].loc['actor_1_facebook_likes'], \n",
    "                    'Actor_2_name':imdb.iloc[i,:].loc['actor_2_name'], \n",
    "                    'Actor_2_fb_likes':imdb.iloc[i,:].loc['actor_2_facebook_likes'], \n",
    "                    'Actor_3_name':imdb.iloc[i,:].loc['actor_3_name'], \n",
    "                    'Actor_3_fb_likes':imdb.iloc[i,:].loc['actor_3_facebook_likes'], \n",
    "                    'Budget':imdb.iloc[i,:].loc['budget'], 'Language':dict['Language'], \n",
    "                    'Rated':dict['Rated']}, ignore_index=True) # Add to dataframe"
   ]
  },
  {
   "cell_type": "markdown",
   "metadata": {},
   "source": [
    "Here's our beautiful new dataFrame:"
   ]
  },
  {
   "cell_type": "code",
   "execution_count": null,
   "metadata": {},
   "outputs": [],
   "source": [
    "df.iloc[:3,:]"
   ]
  },
  {
   "cell_type": "markdown",
   "metadata": {},
   "source": [
    "## Munging and EDA"
   ]
  },
  {
   "cell_type": "markdown",
   "metadata": {},
   "source": [
    "We drop datapoints with null 'imdbRating' values, since that is our independent / target variable. We also convert these into binary; we are only concerned with whether or not a film's 'imbdRating' is above the mean (1) or below the mean (0). This binary value is saved into a new column called 'binary_target'.\n",
    "\n",
    "Null values in the 'actor facebook likes' column were imputed from the column mean."
   ]
  },
  {
   "cell_type": "code",
   "execution_count": null,
   "metadata": {},
   "outputs": [],
   "source": [
    "df = df[~((df['Plot'] == 'N/A')|(df['imdbRating'] == 'N/A'))] # Drops movies with null plots\n",
    "df.imdbRating = df.imdbRating.astype(float)\n",
    "df['binary_target'] = df['imdbRating'] >= df['imdbRating'].mean()   #binary target column. True = above mean ; False = below mean\n",
    "df['binary_target'] = df['binary_target'].astype(int)\n",
    "df['Actor_1_fb_likes'].fillna((df['Actor_1_fb_likes'].mean()), inplace=True)\n",
    "df['Actor_2_fb_likes'].fillna((df['Actor_2_fb_likes'].mean()), inplace=True)\n",
    "df['Actor_3_fb_likes'].fillna((df['Actor_3_fb_likes'].mean()), inplace=True)"
   ]
  },
  {
   "cell_type": "code",
   "execution_count": null,
   "metadata": {},
   "outputs": [],
   "source": [
    "df = df.reset_index()\n",
    "df = df.drop(['index'], axis=1)\n",
    "df[:3]"
   ]
  },
  {
   "cell_type": "markdown",
   "metadata": {},
   "source": [
    "### One-hot encoding Genres"
   ]
  },
  {
   "cell_type": "code",
   "execution_count": null,
   "metadata": {},
   "outputs": [],
   "source": [
    "final_genres = ['Action', 'Adventure', 'Animation', 'Biography', 'Comedy', 'Crime', 'Documentary', 'Drama', 'Family', 'Fantasy', 'History', 'Horror', 'Musical', 'Mystery', 'Romance', 'Sci_Fi', 'Sport', 'Thriller', 'War', 'Western']    \n",
    "\n",
    "#create a list of lists, where each element is a list of a movie's classified genres\n",
    "li = []\n",
    "[li.append(df.iloc[i]['Genre'].split(', ')) for i in range(len(df))]\n",
    "\n",
    "#adding columns to df for each genre, 1 represents the movie is classified under that genre, 0 is that it is not\n",
    "for genre in final_genres:\n",
    "    list = []\n",
    "    [list.append(1) if genre in movie\n",
    "    else list.append(0) for movie in li]\n",
    "    df[genre] = list"
   ]
  },
  {
   "cell_type": "markdown",
   "metadata": {},
   "source": [
    "### Creating a fresh DataFrame with everything but Plot Text Features"
   ]
  },
  {
   "cell_type": "code",
   "execution_count": null,
   "metadata": {},
   "outputs": [],
   "source": [
    "main_df = pd.DataFrame()\n",
    "\n",
    "#join the features we want to narrow in on with our target variable\n",
    "genres = df.iloc[:,-21:]\n",
    "main_df['Year'] = [int(year.split('–')[0]) for year in df['Year'].values]\n",
    "main_df = main_df.join(genres)\n",
    "\n",
    "main_df[:3]"
   ]
  },
  {
   "cell_type": "code",
   "execution_count": null,
   "metadata": {},
   "outputs": [],
   "source": [
    "main_df.columns"
   ]
  },
  {
   "cell_type": "code",
   "execution_count": null,
   "metadata": {},
   "outputs": [],
   "source": [
    "main_df.Year.hist()"
   ]
  },
  {
   "cell_type": "code",
   "execution_count": null,
   "metadata": {},
   "outputs": [],
   "source": [
    "main_df.binary_target.hist()"
   ]
  },
  {
   "cell_type": "markdown",
   "metadata": {},
   "source": [
    "### Log Transforming \"Actor Facebook Likes\""
   ]
  },
  {
   "cell_type": "markdown",
   "metadata": {},
   "source": [
    "'Actor_1_fb_likes' had some striking outliers and needed a log transform:"
   ]
  },
  {
   "cell_type": "code",
   "execution_count": null,
   "metadata": {},
   "outputs": [],
   "source": [
    "df.Actor_1_fb_likes.hist() # Check out those outliers. Can't even see them..."
   ]
  },
  {
   "cell_type": "code",
   "execution_count": null,
   "metadata": {},
   "outputs": [],
   "source": [
    "def log_transform_col(feature, dataframe):\n",
    "    logged = pd.Series(np.log(dataframe[feature].values+1), name=feature+'_logged')\n",
    "    return logged\n",
    "\n",
    "actor_features = ['Actor_1_fb_likes', 'Actor_2_fb_likes','Actor_3_fb_likes']\n",
    "\n",
    "actor_likes = [log_transform_col(actor_features[i], df) for i in range(len(actor_features))]"
   ]
  },
  {
   "cell_type": "code",
   "execution_count": null,
   "metadata": {},
   "outputs": [],
   "source": [
    "pd.Series(actor_likes).hist() # Much better"
   ]
  },
  {
   "cell_type": "markdown",
   "metadata": {},
   "source": [
    "Looks way more gaussian after a log transform. We add these logged features to our dataframe:"
   ]
  },
  {
   "cell_type": "code",
   "execution_count": null,
   "metadata": {},
   "outputs": [],
   "source": [
    "main_df = main_df.join(actor_likes)\n",
    "main_df[:3]"
   ]
  },
  {
   "cell_type": "markdown",
   "metadata": {},
   "source": [
    "### Baseline Logistic Regression without Plot-Text Features"
   ]
  },
  {
   "cell_type": "markdown",
   "metadata": {},
   "source": [
    "Now that we've cleaned up a bit, we'll start throwing our features at a statsmodels logistic regression estimator to evaluate r^2 and p-values of various features."
   ]
  },
  {
   "cell_type": "code",
   "execution_count": null,
   "metadata": {},
   "outputs": [],
   "source": [
    "# check LogReg with all initial variables from main_df (note: no plot)\n",
    "s = (\"binary_target ~ Year + C(Action) + C(Adventure) + C(Animation) + C(Biography) + C(Comedy)\"\n",
    "                 \"+ C(Crime) + C(Documentary) + C(Drama) + C(Family) + C(Fantasy) + C(History)\"\n",
    "                 \"+ C(Horror) + C(Musical) + C(Mystery) + C(Romance) + C(Sci_Fi) + C(Sport)\"\n",
    "                 \"+ C(Thriller) + C(War)+ C(Western)\"\n",
    "                 \"+ Actor_1_fb_likes_logged + Actor_2_fb_likes_logged\"\n",
    "                 \"+ Actor_3_fb_likes_logged\")\n",
    "\n",
    "y, X = dmatrices(s, main_df, return_type=\"dataframe\")\n",
    "\n",
    "X_train, X_test, y_train, y_test = train_test_split(X, y, test_size =  0.2)\n",
    "\n",
    "logit_model = sm.Logit(y_train.iloc[:,0], X_train)\n",
    "result = logit_model.fit()\n",
    "\n",
    "print(result.summary())\n",
    "\n",
    "y_preds = result.predict(X_test)\n",
    "\n",
    "accuracy_score(y_test, y_preds >=.5)"
   ]
  },
  {
   "cell_type": "markdown",
   "metadata": {},
   "source": [
    "This gives us an idea of which features might be less important in the determination of what makes a movie \"good\". We'll drop the less pertinent features and try again:"
   ]
  },
  {
   "cell_type": "code",
   "execution_count": null,
   "metadata": {
    "scrolled": false
   },
   "outputs": [],
   "source": [
    "s = (\"binary_target ~ Year + C(Action) + C(Animation) + C(Biography) + C(Comedy)\"\n",
    "                 \"+ C(Documentary) + C(Drama) + C(Family)\"\n",
    "                 \"+ C(Horror) + C(Mystery) + C(Romance) + C(Sci_Fi)\"\n",
    "                 \"+ C(Thriller)\"\n",
    "                 \"+ Actor_1_fb_likes_logged + Actor_2_fb_likes_logged\"\n",
    "                 \"+ Actor_3_fb_likes_logged\")\n",
    "\n",
    "main_df = main_df.drop(['Adventure','Crime', 'Fantasy', 'History', 'Musical', 'Sport', 'War', 'Western'], axis=1)\n",
    "\n",
    "y, X = dmatrices(s, main_df, return_type = \"dataframe\")\n",
    "\n",
    "X_train, X_test, y_train, y_test = train_test_split(X, y, test_size =  0.2)\n",
    "\n",
    "logit_model = sm.Logit(y_train.iloc[:,0], X_train)\n",
    "result = logit_model.fit()\n",
    "\n",
    "print(result.summary())\n",
    "\n",
    "y_preds = result.predict(X_test)\n",
    "\n",
    "accuracy_score(y_test, y_preds >=.5)"
   ]
  },
  {
   "cell_type": "code",
   "execution_count": null,
   "metadata": {},
   "outputs": [],
   "source": [
    "main_df.columns"
   ]
  },
  {
   "cell_type": "markdown",
   "metadata": {},
   "source": [
    "These are the features we're sticking with for now."
   ]
  },
  {
   "cell_type": "markdown",
   "metadata": {},
   "source": [
    "### Correlation Matrices"
   ]
  },
  {
   "cell_type": "markdown",
   "metadata": {},
   "source": [
    "We'd be remiss not to check for overly correlated features:"
   ]
  },
  {
   "cell_type": "code",
   "execution_count": null,
   "metadata": {
    "scrolled": true
   },
   "outputs": [],
   "source": [
    "# Creating a multi-scatter plot\n",
    "main_corr= main_df.drop(['binary_target'], axis=1).iloc[:,:]\n",
    "pd.plotting.scatter_matrix(main_corr, figsize=[15,15]);"
   ]
  },
  {
   "cell_type": "code",
   "execution_count": null,
   "metadata": {},
   "outputs": [],
   "source": [
    "sns.heatmap(main_corr.corr(), center=0);"
   ]
  },
  {
   "cell_type": "markdown",
   "metadata": {},
   "source": [
    "It's fairly intuitive that the social media popularity of the leading actors would be positively correlated, but we'll leave it in in case there are deviations from that norm. It's interesting to note that films in the \"animation\" genre are so commonly also in the \"family\" genre. Makes sense too."
   ]
  },
  {
   "cell_type": "markdown",
   "metadata": {},
   "source": [
    "## Using NLP to get features from the Plot Synopses"
   ]
  },
  {
   "cell_type": "markdown",
   "metadata": {},
   "source": [
    "#### Setting up Lemmatization / Normalization Functions:"
   ]
  },
  {
   "cell_type": "code",
   "execution_count": null,
   "metadata": {},
   "outputs": [],
   "source": [
    "stop_words = set(stopwords.words('english'))\n",
    "lemmatizer = WordNetLemmatizer()\n",
    "\n",
    "def lemmatize(plot_list):\n",
    "    lemmatized_plots = []\n",
    "    \n",
    "    for plot in plot_list:\n",
    "        tokenized_lower = word_tokenize(plot.lower()) # Make plot summary lowercase and lemmatize        \n",
    "        tokenized_lower =[word for word in tokenized_lower if english_d.check(word)] # Make sure it's an english word\n",
    "        dirty_lemma = [lemmatizer.lemmatize(w, get_wordnet_pos(w)) for w in tokenized_lower] # Lemmatize\n",
    "        dirty_lemma_string = ' '.join(dirty_lemma)\n",
    "        \n",
    "        # Filter out words that don't match this regex pattern:\n",
    "        reg = re.compile((r\"([a-zA-Z]+(?:'[a-z]+)?)\"))\n",
    "        lemmatized_regex = [word_lem for word_lem in dirty_lemma if word_lem in reg.findall(dirty_lemma_string)]\n",
    "        \n",
    "        # Remove stop words\n",
    "        lemmatized = [word_lem for word_lem in lemmatized_regex if not word_lem in stop_words]\n",
    "        lemmatized_string = ' '.join(lemmatized)\n",
    "        lemmatized_plots.append(lemmatized_string)\n",
    "        \n",
    "    return lemmatized_plots"
   ]
  },
  {
   "cell_type": "code",
   "execution_count": null,
   "metadata": {},
   "outputs": [],
   "source": [
    "def get_wordnet_pos(word):\n",
    "    \"\"\"Map POS tag to the first character that lemmatize() accepts\"\"\"\n",
    "    tag = nltk.pos_tag([word])[0][1][0].upper()\n",
    "    tag_dict = {\"J\": wordnet.ADJ,\n",
    "                \"N\": wordnet.NOUN,\n",
    "                \"V\": wordnet.VERB,\n",
    "                \"R\": wordnet.ADV}\n",
    "\n",
    "    return tag_dict.get(tag, wordnet.NOUN)"
   ]
  },
  {
   "cell_type": "markdown",
   "metadata": {},
   "source": [
    "### Run the Lemmatizer"
   ]
  },
  {
   "cell_type": "code",
   "execution_count": null,
   "metadata": {
    "scrolled": false
   },
   "outputs": [],
   "source": [
    "all_plots = [plot for plot in df.loc[:,'Plot'].values] # Get all movie plots.\n",
    "plots = lemmatize(all_plots) # Lemmatize."
   ]
  },
  {
   "cell_type": "markdown",
   "metadata": {},
   "source": [
    "### Vectorizing Plots"
   ]
  },
  {
   "cell_type": "code",
   "execution_count": null,
   "metadata": {},
   "outputs": [],
   "source": [
    "# Term frequency = Number of times a word appears in a document / number of words in document\n",
    "# Inverse document frequency = log base e(number of documents / number of documents with word in it)\n",
    "# tf:idf = tf * idf\n",
    "\n",
    "tfidf = TfidfVectorizer()\n",
    "response = tfidf.fit_transform(plots)\n",
    "print(response.shape)\n",
    "\n",
    "tfidf_df = pd.DataFrame(response.toarray(), columns=tfidf.get_feature_names())"
   ]
  },
  {
   "cell_type": "markdown",
   "metadata": {},
   "source": [
    "Now we have all plots lemmatized as \"plots\" and vectorized / weighted as \"tfidf_df\"."
   ]
  },
  {
   "cell_type": "markdown",
   "metadata": {},
   "source": [
    "### Incorporating some LDA; Clustering Documents by Topic"
   ]
  },
  {
   "cell_type": "markdown",
   "metadata": {},
   "source": [
    "Gensim clusters words that appear together frequently. The clusters can be interpreted as general topics, and each movie gets weights indicating the degree to which it belongs to each topic. These weights are then re-incorporated as features in our dataset."
   ]
  },
  {
   "cell_type": "code",
   "execution_count": null,
   "metadata": {},
   "outputs": [],
   "source": [
    "all_words = [plot.split(' ') for plot in plots] # Just formatting our corpus how Gensim wants it"
   ]
  },
  {
   "cell_type": "code",
   "execution_count": null,
   "metadata": {},
   "outputs": [],
   "source": [
    "dictionary = corpora.Dictionary(all_words)\n",
    "corpus = [dictionary.doc2bow(text) for text in all_words]\n",
    "pickle.dump(corpus, open('pickles/corpus.pkl', 'wb'))\n",
    "dictionary.save('pickles/dictionary.gensim')"
   ]
  },
  {
   "cell_type": "code",
   "execution_count": null,
   "metadata": {},
   "outputs": [],
   "source": [
    "NUM_TOPICS = 50 # This value was arbitrarily chosen.\n",
    "ldamodel = gensim.models.ldamodel.LdaModel(corpus, num_topics = NUM_TOPICS, id2word=dictionary, passes=10) # Also arb\n",
    "ldamodel.save('pickles/model5.gensim')"
   ]
  },
  {
   "cell_type": "code",
   "execution_count": null,
   "metadata": {},
   "outputs": [],
   "source": [
    "topics = ldamodel.print_topics(num_words=4)\n",
    "topics # These are examples of some of the clusters created by Gensim."
   ]
  },
  {
   "cell_type": "code",
   "execution_count": null,
   "metadata": {},
   "outputs": [],
   "source": [
    "pyLDAvis.enable_notebook()\n",
    "vis = pyLDAvis.gensim.prepare(ldamodel, corpus, dictionary)\n",
    "vis"
   ]
  },
  {
   "cell_type": "code",
   "execution_count": null,
   "metadata": {},
   "outputs": [],
   "source": [
    "tm = pd.DataFrame()\n",
    "for i in range(len(corpus)):\n",
    "    new_row = np.zeros(NUM_TOPICS)\n",
    "    for toop in ldamodel.get_document_topics(corpus[i]): # These two lines are where you do what you need to do\n",
    "        new_row[toop[0]] = toop[1]                       # to flip zeroes to ones if the genre appears\n",
    "    tm = tm.append(pd.Series(new_row), ignore_index=1)"
   ]
  },
  {
   "cell_type": "code",
   "execution_count": null,
   "metadata": {},
   "outputs": [],
   "source": [
    "tm.head() # This is a DataFrame with the weights from the GenSim clustering."
   ]
  },
  {
   "cell_type": "markdown",
   "metadata": {},
   "source": [
    "## Joining Topic-Modeled Synopses with Standard Features"
   ]
  },
  {
   "cell_type": "code",
   "execution_count": null,
   "metadata": {},
   "outputs": [],
   "source": [
    "df = main_df.join(tm)\n",
    "len(df.columns)"
   ]
  },
  {
   "cell_type": "markdown",
   "metadata": {},
   "source": [
    "## Model Building"
   ]
  },
  {
   "cell_type": "code",
   "execution_count": null,
   "metadata": {},
   "outputs": [],
   "source": [
    "X = df.drop(['binary_target'], axis=1)\n",
    "y = df.binary_target\n",
    "scaler = StandardScaler()\n",
    "X_scaled = scaler.fit_transform(X)"
   ]
  },
  {
   "cell_type": "markdown",
   "metadata": {},
   "source": [
    "train_test_split on X_scaled:"
   ]
  },
  {
   "cell_type": "code",
   "execution_count": null,
   "metadata": {},
   "outputs": [],
   "source": [
    "X_train, X_test, y_train, y_test = train_test_split(X_scaled, y, test_size =  0.2)"
   ]
  },
  {
   "cell_type": "markdown",
   "metadata": {},
   "source": [
    "### Baselining:"
   ]
  },
  {
   "cell_type": "code",
   "execution_count": null,
   "metadata": {},
   "outputs": [],
   "source": [
    "dc = DummyClassifier().fit(X_train, y_train)"
   ]
  },
  {
   "cell_type": "code",
   "execution_count": null,
   "metadata": {},
   "outputs": [],
   "source": [
    "accuracy_score(y_test,dc.predict(X_test))"
   ]
  },
  {
   "cell_type": "markdown",
   "metadata": {},
   "source": [
    "Dimensionality Reduction with SVD - For the PlotText Data:"
   ]
  },
  {
   "cell_type": "code",
   "execution_count": null,
   "metadata": {},
   "outputs": [],
   "source": [
    "svd = TruncatedSVD(n_components=50, n_iter=3, random_state=42)\n",
    "X_train_pca = pd.DataFrame(svd.fit_transform(X_train))\n",
    "print(svd.explained_variance_ratio_.sum())"
   ]
  },
  {
   "cell_type": "markdown",
   "metadata": {},
   "source": [
    "Next we'll try a simple Gaussian Naive Bayes Model:"
   ]
  },
  {
   "cell_type": "code",
   "execution_count": null,
   "metadata": {},
   "outputs": [],
   "source": [
    "clf = GaussianNB()\n",
    "clf.fit(X_train_pca, y_train)\n",
    "y_preds = clf.predict(pd.DataFrame(svd.transform(X_test)))\n",
    "print(metrics.classification_report(y_test, y_preds))\n",
    "test_accuracy = accuracy_score(y_test,y_preds)\n",
    "print(\"Test accuracy: {:.4}%\".format(test_accuracy * 100))"
   ]
  },
  {
   "cell_type": "markdown",
   "metadata": {},
   "source": [
    "__________"
   ]
  },
  {
   "cell_type": "markdown",
   "metadata": {},
   "source": [
    "Now we'll go nuts and try an XGBClassifier model. A boosted model seems to work better without PCA, so we'll drop it for this part."
   ]
  },
  {
   "cell_type": "code",
   "execution_count": null,
   "metadata": {},
   "outputs": [],
   "source": [
    "clf = xgb.XGBClassifier(n_jobs=-1)\n",
    "clf.fit(X_train, y_train)\n",
    "\n",
    "training_preds = clf.predict(X_train)\n",
    "test_preds = clf.predict(X_test)#pd.DataFrame(svd.transform(X_test)))\n",
    "\n",
    "training_accuracy = accuracy_score(y_train, training_preds)\n",
    "test_accuracy = accuracy_score(y_test, test_preds)\n",
    "\n",
    "print(\"Training Accuracy: {:.4}%\".format(training_accuracy * 100))\n",
    "print(\"Test accuracy: {:.4}%\".format(test_accuracy * 100))"
   ]
  },
  {
   "cell_type": "code",
   "execution_count": null,
   "metadata": {},
   "outputs": [],
   "source": [
    "y_score = clf.predict_proba(X_test)\n",
    "fpr, tpr, thresholds = roc_curve(y_test, y_score[:,1])\n",
    "print('AUC: {}'.format(auc(fpr, tpr)))"
   ]
  },
  {
   "cell_type": "code",
   "execution_count": null,
   "metadata": {},
   "outputs": [],
   "source": [
    "def draw_roc_curve(fpr,tpr):\n",
    "    sns.set_style(\"darkgrid\", {\"axes.facecolor\": \".9\"})\n",
    "    print('AUC: {}'.format(auc(fpr, tpr)))\n",
    "    plt.figure(figsize=(10,8))\n",
    "    lw = 2\n",
    "    plt.plot(fpr, tpr, color='darkorange', lw=lw, label='ROC curve')\n",
    "    plt.plot([0, 1], [0, 1], color='navy', lw=lw, linestyle='--')\n",
    "    plt.xlim([0.0, 1.0])\n",
    "    plt.ylim([0.0, 1.05])\n",
    "    plt.yticks([i/20.0 for i in range(21)])\n",
    "    plt.xticks([i/20.0 for i in range(21)])\n",
    "    plt.xlabel('False Positive Rate')\n",
    "    plt.ylabel('True Positive Rate')\n",
    "    plt.title('Receiver operating characteristic (ROC) Curve')\n",
    "    plt.legend(loc=\"lower right\")\n",
    "    plt.show()"
   ]
  },
  {
   "cell_type": "code",
   "execution_count": null,
   "metadata": {},
   "outputs": [],
   "source": [
    "draw_roc_curve(fpr,tpr)"
   ]
  },
  {
   "cell_type": "markdown",
   "metadata": {},
   "source": [
    "Looks like we're off to an okay start!"
   ]
  },
  {
   "cell_type": "markdown",
   "metadata": {},
   "source": [
    "## Grid Searching for better parameters"
   ]
  },
  {
   "cell_type": "code",
   "execution_count": null,
   "metadata": {},
   "outputs": [],
   "source": [
    "# svd_components = [100,500,1000]\n",
    "# itera = [3, 5]\n",
    "\n",
    "n_est = [50,80,100]\n",
    "max_depth = [2,3,4]\n",
    "learning_rates = [.08, .1, .15]\n",
    "\n",
    "pipe = Pipeline([\n",
    "#     ('reduce_dim', TruncatedSVD()),\n",
    "    ('classify', XGBClassifier())\n",
    "])\n",
    "\n",
    "param_grid = [\n",
    "    {\n",
    "#         'reduce_dim__n_components': svd_components,\n",
    "#         'reduce_dim__n_iter': itera,\n",
    "        'classify__n_estimators': n_est,\n",
    "        'classify__max_depth': max_depth,\n",
    "        'classify__n_jobs': [-1],\n",
    "        'classify__learning_rate': learning_rates\n",
    "    }]\n",
    "\n",
    "score = {'f1': 'f1', \n",
    "         'accuracy': 'accuracy'}\n",
    "\n",
    "grid_adc = GridSearchCV(pipe, \n",
    "                        n_jobs=-1, \n",
    "                        param_grid=param_grid, \n",
    "                        scoring=score, \n",
    "                        refit='accuracy',\n",
    "                        verbose=10)\n",
    "\n",
    "grid_adc.fit(X_train, y_train)\n",
    "grid_adc.best_params_"
   ]
  },
  {
   "cell_type": "code",
   "execution_count": null,
   "metadata": {},
   "outputs": [],
   "source": [
    "# Check the gridsearch results:\n",
    "y_preds = grid_adc.predict(X_test)\n",
    "accuracy_score(y_test, y_preds)"
   ]
  },
  {
   "cell_type": "code",
   "execution_count": null,
   "metadata": {},
   "outputs": [],
   "source": [
    "y_score = grid_adc.predict_proba(X_test)\n",
    "fpr_gs, tpr_gs, thresholds = roc_curve(y_test, y_score[:,1])\n",
    "print('AUC: {}'.format(auc(fpr_gs, tpr_gs)))"
   ]
  },
  {
   "cell_type": "code",
   "execution_count": null,
   "metadata": {},
   "outputs": [],
   "source": [
    "plt.figure(0).clf()\n",
    "plt.figure(figsize=(10,8))\n",
    "lw = 2\n",
    "\n",
    "plt.plot(fpr, tpr, color='darkorange',\n",
    "         lw=lw, label='ROC curve XGBClassifier')\n",
    "plt.plot(fpr_gs,tpr_gs,\n",
    "         label='Grid Searched XGBClassifier')\n",
    "\n",
    "plt.plot([0, 1], [0, 1], color='navy', lw=lw, linestyle='--')\n",
    "plt.xlim([0.0, 1.0])\n",
    "plt.ylim([0.0, 1.05])\n",
    "plt.yticks([i/20.0 for i in range(21)])\n",
    "plt.xticks([i/20.0 for i in range(21)])\n",
    "plt.xlabel('False Positive Rate')\n",
    "plt.ylabel('True Positive Rate')\n",
    "plt.title('Receiver operating characteristic (ROC) Curve')\n",
    "plt.legend(loc=\"lower right\")\n",
    "plt.legend(loc=0)"
   ]
  },
  {
   "cell_type": "markdown",
   "metadata": {},
   "source": [
    "Negligible improvement."
   ]
  },
  {
   "cell_type": "code",
   "execution_count": null,
   "metadata": {},
   "outputs": [],
   "source": []
  }
 ],
 "metadata": {
  "kernelspec": {
   "display_name": "Python 3",
   "language": "python",
   "name": "python3"
  },
  "language_info": {
   "codemirror_mode": {
    "name": "ipython",
    "version": 3
   },
   "file_extension": ".py",
   "mimetype": "text/x-python",
   "name": "python",
   "nbconvert_exporter": "python",
   "pygments_lexer": "ipython3",
   "version": "3.7.5"
  }
 },
 "nbformat": 4,
 "nbformat_minor": 2
}
