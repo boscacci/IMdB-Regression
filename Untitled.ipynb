{
 "cells": [
  {
   "cell_type": "code",
   "execution_count": null,
   "metadata": {},
   "outputs": [],
   "source": [
    "from selenium import webdriver\n",
    "from selenium.webdriver.common.keys import Keys\n",
    "from selenium.webdriver.common.by import By\n",
    "import time\n",
    "\n",
    "driver = webdriver.Chrome()\n",
    "driver.get(\"https://twitter.com/mindykaling\")\n",
    "\n",
    "\n",
    "# lenOfPage = driver.execute_script(\"window.scrollTo(0, document.body.scrollHeight);var lenOfPage=document.body.scrollHeight;return lenOfPage;\")\n",
    "# match=False\n",
    "# while(match==False):\n",
    "#     lastCount = lenOfPage\n",
    "#     time.sleep(3)\n",
    "#     lenOfPage = driver.execute_script(\"window.scrollTo(0, document.body.scrollHeight);var lenOfPage=document.body.scrollHeight;return lenOfPage;\")\n",
    "#     if lastCount==lenOfPage:\n",
    "#         match=True\n",
    "\n",
    "tweet_selector = 'js-stream-tweet'\n",
    "content = driver.find_elements_by_class_name(tweet_selector)\n",
    "\n",
    "# 'stream-item-tweet-1079990229509918721 > div.tweet.js-stream-tweet.js-actionable-tweet.js-profile-popup-actionable.dismissible-content.original-tweet.js-original-tweet.tweet-has-context'\n",
    "\n",
    "# driver.close()\n",
    "\n",
    "# tweets = [el.text for el in content]\n",
    "\n",
    "# len(tweets)\n",
    "\n",
    "# [tweet for tweet in tweets]"
   ]
  },
  {
   "cell_type": "code",
   "execution_count": 1,
   "metadata": {},
   "outputs": [
    {
     "data": {
      "text/plain": [
       "'<HTML>\\n<HEAD>\\n<TITLE>Your Title Here</TITLE>\\n</HEAD>\\n\\n<BODY>\\n<HR>\\n<a href=\"http://someurl.com\">Link Name</a>\\n<H1>This is a Header</H1>\\n<H2>This is a Medium Header</H2>\\n<P>This is a new paragraph! </P>\\n<P>This is a another paragraph!</P>\\n<B>This is a new sentence without a paragraph break, in bold italics.</B>\\n<HR>\\n</BODY>\\n</HTML>\\n'"
      ]
     },
     "execution_count": 1,
     "metadata": {},
     "output_type": "execute_result"
    }
   ],
   "source": [
    "import requests\n",
    "r = requests.get(\"https://raw.githubusercontent.com/selva86/datasets/master/sample.html\")\n",
    "r.text"
   ]
  },
  {
   "cell_type": "code",
   "execution_count": 2,
   "metadata": {},
   "outputs": [],
   "source": [
    "import re"
   ]
  },
  {
   "cell_type": "code",
   "execution_count": 14,
   "metadata": {},
   "outputs": [
    {
     "data": {
      "text/plain": [
       "('<TITLE>', '<TITLE>', 'Your Title Here', 'Your Title Here')"
      ]
     },
     "execution_count": 14,
     "metadata": {},
     "output_type": "execute_result"
    }
   ],
   "source": [
    "text = re.findall(\"((?=\\<)(.*?)(?<=\\>))((?<=\\>)(.*?)(?=\\<))\", r.text)\n",
    "len(text)\n",
    "text[0]"
   ]
  },
  {
   "cell_type": "code",
   "execution_count": 35,
   "metadata": {},
   "outputs": [
    {
     "data": {
      "text/plain": [
       "{'<TITLE>': ['Your Title Here'],\n",
       " '<a href=\"http://someurl.com\">': ['Link Name'],\n",
       " '<H1>': ['This is a Header'],\n",
       " '<H2>': ['This is a Medium Header'],\n",
       " '<P>': ['This is a new paragraph! ', 'This is a another paragraph!'],\n",
       " '<B>': ['This is a new sentence without a paragraph break, in bold italics.']}"
      ]
     },
     "execution_count": 35,
     "metadata": {},
     "output_type": "execute_result"
    }
   ],
   "source": [
    "text = re.findall(\"((?=\\<)(.*?)(?<=\\>))((?<=\\>)(.*?)(?=\\<))\", r.text)\n",
    "\n",
    "dict = {}\n",
    "for header in text:\n",
    "    if header[0] in dict:\n",
    "        dict[header[0]].append(header[2])\n",
    "    else:\n",
    "        dict[header[0]] = [header[2]]\n",
    "    \n",
    "dict"
   ]
  },
  {
   "cell_type": "code",
   "execution_count": 26,
   "metadata": {},
   "outputs": [],
   "source": [
    "text2 = re.findall(\"(\\<.*\\>)(.*?)(\\<\\/.*\\>)\", r.text)"
   ]
  },
  {
   "cell_type": "code",
   "execution_count": 37,
   "metadata": {},
   "outputs": [
    {
     "data": {
      "text/plain": [
       "{'<TITLE>': ['Your Title Here'],\n",
       " '<a href=\"http://someurl.com\">': ['Link Name'],\n",
       " '<H1>': ['This is a Header'],\n",
       " '<H2>': ['This is a Medium Header'],\n",
       " '<P>': ['This is a new paragraph! ', 'This is a another paragraph!'],\n",
       " '<B>': ['This is a new sentence without a paragraph break, in bold italics.']}"
      ]
     },
     "execution_count": 37,
     "metadata": {},
     "output_type": "execute_result"
    }
   ],
   "source": [
    "dict = {}\n",
    "for header in text2:\n",
    "    if header[0] in dict:\n",
    "        dict[header[0]].append(header[1])\n",
    "    else:\n",
    "        dict[header[0]] = [header[1]]\n",
    "\n",
    "dict"
   ]
  },
  {
   "cell_type": "code",
   "execution_count": null,
   "metadata": {},
   "outputs": [],
   "source": [
    "d = dict()\n",
    "[d [t [0]].append(t [1]) if t [0] in list(d.keys()) \n",
    " else d.update({t [0]: [t [1]]}) for t in matches]\n",
    "d"
   ]
  }
 ],
 "metadata": {
  "kernelspec": {
   "display_name": "Python 3",
   "language": "python",
   "name": "python3"
  },
  "language_info": {
   "codemirror_mode": {
    "name": "ipython",
    "version": 3
   },
   "file_extension": ".py",
   "mimetype": "text/x-python",
   "name": "python",
   "nbconvert_exporter": "python",
   "pygments_lexer": "ipython3",
   "version": "3.6.7"
  }
 },
 "nbformat": 4,
 "nbformat_minor": 2
}
