{
 "cells": [
  {
   "cell_type": "markdown",
   "metadata": {},
   "source": [
    "# Good Film // Bad Film\n",
    "## Film Plot Synopses and etc. as Predictors of Critical Reception"
   ]
  },
  {
   "cell_type": "markdown",
   "metadata": {},
   "source": [
    "This notebook builds a classifier which predicts whether or not a film will be \"good\" or \"bad\" based on the plot synopsis, the popularity of the leading actors, and other variables such as genre. \"Good\" films are those which perform better than the mean of all of the IMdB critic's rating scores in the dataset, while \"bad\" films score lower than that mean."
   ]
  },
  {
   "cell_type": "code",
   "execution_count": 1,
   "metadata": {},
   "outputs": [
    {
     "name": "stderr",
     "output_type": "stream",
     "text": [
      "/Users/rob/.local/share/virtualenvs/Good-Film-Bad-Film-eKSCkW5B/lib/python3.7/site-packages/statsmodels/base/wrapper.py:100: DeprecationWarning: `formatargspec` is deprecated since Python 3.5. Use `signature` and the `Signature` object directly\n",
      "  defaults=argspec[3])\n",
      "/Users/rob/.local/share/virtualenvs/Good-Film-Bad-Film-eKSCkW5B/lib/python3.7/site-packages/statsmodels/base/wrapper.py:100: DeprecationWarning: `formatargspec` is deprecated since Python 3.5. Use `signature` and the `Signature` object directly\n",
      "  defaults=argspec[3])\n",
      "/Users/rob/.local/share/virtualenvs/Good-Film-Bad-Film-eKSCkW5B/lib/python3.7/site-packages/statsmodels/base/wrapper.py:100: DeprecationWarning: `formatargspec` is deprecated since Python 3.5. Use `signature` and the `Signature` object directly\n",
      "  defaults=argspec[3])\n",
      "/Users/rob/.local/share/virtualenvs/Good-Film-Bad-Film-eKSCkW5B/lib/python3.7/site-packages/statsmodels/base/wrapper.py:100: DeprecationWarning: `formatargspec` is deprecated since Python 3.5. Use `signature` and the `Signature` object directly\n",
      "  defaults=argspec[3])\n",
      "/Users/rob/.local/share/virtualenvs/Good-Film-Bad-Film-eKSCkW5B/lib/python3.7/site-packages/statsmodels/base/wrapper.py:100: DeprecationWarning: `formatargspec` is deprecated since Python 3.5. Use `signature` and the `Signature` object directly\n",
      "  defaults=argspec[3])\n",
      "/Users/rob/.local/share/virtualenvs/Good-Film-Bad-Film-eKSCkW5B/lib/python3.7/site-packages/statsmodels/base/wrapper.py:100: DeprecationWarning: `formatargspec` is deprecated since Python 3.5. Use `signature` and the `Signature` object directly\n",
      "  defaults=argspec[3])\n",
      "/Users/rob/.local/share/virtualenvs/Good-Film-Bad-Film-eKSCkW5B/lib/python3.7/site-packages/statsmodels/base/wrapper.py:100: DeprecationWarning: `formatargspec` is deprecated since Python 3.5. Use `signature` and the `Signature` object directly\n",
      "  defaults=argspec[3])\n",
      "/Users/rob/.local/share/virtualenvs/Good-Film-Bad-Film-eKSCkW5B/lib/python3.7/site-packages/statsmodels/base/wrapper.py:100: DeprecationWarning: `formatargspec` is deprecated since Python 3.5. Use `signature` and the `Signature` object directly\n",
      "  defaults=argspec[3])\n",
      "/Users/rob/.local/share/virtualenvs/Good-Film-Bad-Film-eKSCkW5B/lib/python3.7/site-packages/statsmodels/base/wrapper.py:100: DeprecationWarning: `formatargspec` is deprecated since Python 3.5. Use `signature` and the `Signature` object directly\n",
      "  defaults=argspec[3])\n",
      "/Users/rob/.local/share/virtualenvs/Good-Film-Bad-Film-eKSCkW5B/lib/python3.7/site-packages/statsmodels/base/wrapper.py:100: DeprecationWarning: `formatargspec` is deprecated since Python 3.5. Use `signature` and the `Signature` object directly\n",
      "  defaults=argspec[3])\n",
      "/Users/rob/.local/share/virtualenvs/Good-Film-Bad-Film-eKSCkW5B/lib/python3.7/site-packages/statsmodels/base/wrapper.py:100: DeprecationWarning: `formatargspec` is deprecated since Python 3.5. Use `signature` and the `Signature` object directly\n",
      "  defaults=argspec[3])\n",
      "/Users/rob/.local/share/virtualenvs/Good-Film-Bad-Film-eKSCkW5B/lib/python3.7/site-packages/statsmodels/base/wrapper.py:100: DeprecationWarning: `formatargspec` is deprecated since Python 3.5. Use `signature` and the `Signature` object directly\n",
      "  defaults=argspec[3])\n",
      "/Users/rob/.local/share/virtualenvs/Good-Film-Bad-Film-eKSCkW5B/lib/python3.7/site-packages/statsmodels/base/wrapper.py:100: DeprecationWarning: `formatargspec` is deprecated since Python 3.5. Use `signature` and the `Signature` object directly\n",
      "  defaults=argspec[3])\n",
      "/Users/rob/.local/share/virtualenvs/Good-Film-Bad-Film-eKSCkW5B/lib/python3.7/site-packages/statsmodels/base/wrapper.py:100: DeprecationWarning: `formatargspec` is deprecated since Python 3.5. Use `signature` and the `Signature` object directly\n",
      "  defaults=argspec[3])\n",
      "/Users/rob/.local/share/virtualenvs/Good-Film-Bad-Film-eKSCkW5B/lib/python3.7/site-packages/statsmodels/base/wrapper.py:100: DeprecationWarning: `formatargspec` is deprecated since Python 3.5. Use `signature` and the `Signature` object directly\n",
      "  defaults=argspec[3])\n",
      "/Users/rob/.local/share/virtualenvs/Good-Film-Bad-Film-eKSCkW5B/lib/python3.7/site-packages/statsmodels/base/wrapper.py:100: DeprecationWarning: `formatargspec` is deprecated since Python 3.5. Use `signature` and the `Signature` object directly\n",
      "  defaults=argspec[3])\n",
      "/Users/rob/.local/share/virtualenvs/Good-Film-Bad-Film-eKSCkW5B/lib/python3.7/site-packages/statsmodels/base/wrapper.py:100: DeprecationWarning: `formatargspec` is deprecated since Python 3.5. Use `signature` and the `Signature` object directly\n",
      "  defaults=argspec[3])\n",
      "/Users/rob/.local/share/virtualenvs/Good-Film-Bad-Film-eKSCkW5B/lib/python3.7/site-packages/statsmodels/base/wrapper.py:100: DeprecationWarning: `formatargspec` is deprecated since Python 3.5. Use `signature` and the `Signature` object directly\n",
      "  defaults=argspec[3])\n",
      "/Users/rob/.local/share/virtualenvs/Good-Film-Bad-Film-eKSCkW5B/lib/python3.7/site-packages/statsmodels/base/wrapper.py:100: DeprecationWarning: `formatargspec` is deprecated since Python 3.5. Use `signature` and the `Signature` object directly\n",
      "  defaults=argspec[3])\n",
      "/Users/rob/.local/share/virtualenvs/Good-Film-Bad-Film-eKSCkW5B/lib/python3.7/site-packages/statsmodels/base/wrapper.py:100: DeprecationWarning: `formatargspec` is deprecated since Python 3.5. Use `signature` and the `Signature` object directly\n",
      "  defaults=argspec[3])\n",
      "/Users/rob/.local/share/virtualenvs/Good-Film-Bad-Film-eKSCkW5B/lib/python3.7/site-packages/statsmodels/base/wrapper.py:100: DeprecationWarning: `formatargspec` is deprecated since Python 3.5. Use `signature` and the `Signature` object directly\n",
      "  defaults=argspec[3])\n",
      "/Users/rob/.local/share/virtualenvs/Good-Film-Bad-Film-eKSCkW5B/lib/python3.7/site-packages/statsmodels/base/wrapper.py:100: DeprecationWarning: `formatargspec` is deprecated since Python 3.5. Use `signature` and the `Signature` object directly\n",
      "  defaults=argspec[3])\n",
      "/Users/rob/.local/share/virtualenvs/Good-Film-Bad-Film-eKSCkW5B/lib/python3.7/site-packages/statsmodels/base/wrapper.py:100: DeprecationWarning: `formatargspec` is deprecated since Python 3.5. Use `signature` and the `Signature` object directly\n",
      "  defaults=argspec[3])\n",
      "/Users/rob/.local/share/virtualenvs/Good-Film-Bad-Film-eKSCkW5B/lib/python3.7/site-packages/statsmodels/base/wrapper.py:100: DeprecationWarning: `formatargspec` is deprecated since Python 3.5. Use `signature` and the `Signature` object directly\n",
      "  defaults=argspec[3])\n",
      "/Users/rob/.local/share/virtualenvs/Good-Film-Bad-Film-eKSCkW5B/lib/python3.7/site-packages/statsmodels/base/wrapper.py:100: DeprecationWarning: `formatargspec` is deprecated since Python 3.5. Use `signature` and the `Signature` object directly\n",
      "  defaults=argspec[3])\n",
      "/Users/rob/.local/share/virtualenvs/Good-Film-Bad-Film-eKSCkW5B/lib/python3.7/site-packages/statsmodels/base/wrapper.py:100: DeprecationWarning: `formatargspec` is deprecated since Python 3.5. Use `signature` and the `Signature` object directly\n",
      "  defaults=argspec[3])\n",
      "/Users/rob/.local/share/virtualenvs/Good-Film-Bad-Film-eKSCkW5B/lib/python3.7/site-packages/statsmodels/base/wrapper.py:100: DeprecationWarning: `formatargspec` is deprecated since Python 3.5. Use `signature` and the `Signature` object directly\n",
      "  defaults=argspec[3])\n",
      "/Users/rob/.local/share/virtualenvs/Good-Film-Bad-Film-eKSCkW5B/lib/python3.7/site-packages/statsmodels/base/wrapper.py:100: DeprecationWarning: `formatargspec` is deprecated since Python 3.5. Use `signature` and the `Signature` object directly\n",
      "  defaults=argspec[3])\n",
      "/Users/rob/.local/share/virtualenvs/Good-Film-Bad-Film-eKSCkW5B/lib/python3.7/site-packages/statsmodels/base/wrapper.py:100: DeprecationWarning: `formatargspec` is deprecated since Python 3.5. Use `signature` and the `Signature` object directly\n",
      "  defaults=argspec[3])\n",
      "/Users/rob/.local/share/virtualenvs/Good-Film-Bad-Film-eKSCkW5B/lib/python3.7/site-packages/statsmodels/base/wrapper.py:100: DeprecationWarning: `formatargspec` is deprecated since Python 3.5. Use `signature` and the `Signature` object directly\n",
      "  defaults=argspec[3])\n",
      "/Users/rob/.local/share/virtualenvs/Good-Film-Bad-Film-eKSCkW5B/lib/python3.7/site-packages/statsmodels/base/wrapper.py:100: DeprecationWarning: `formatargspec` is deprecated since Python 3.5. Use `signature` and the `Signature` object directly\n",
      "  defaults=argspec[3])\n",
      "/Users/rob/.local/share/virtualenvs/Good-Film-Bad-Film-eKSCkW5B/lib/python3.7/site-packages/statsmodels/base/wrapper.py:100: DeprecationWarning: `formatargspec` is deprecated since Python 3.5. Use `signature` and the `Signature` object directly\n",
      "  defaults=argspec[3])\n",
      "/Users/rob/.local/share/virtualenvs/Good-Film-Bad-Film-eKSCkW5B/lib/python3.7/site-packages/statsmodels/base/wrapper.py:100: DeprecationWarning: `formatargspec` is deprecated since Python 3.5. Use `signature` and the `Signature` object directly\n",
      "  defaults=argspec[3])\n",
      "/Users/rob/.local/share/virtualenvs/Good-Film-Bad-Film-eKSCkW5B/lib/python3.7/site-packages/statsmodels/base/wrapper.py:100: DeprecationWarning: `formatargspec` is deprecated since Python 3.5. Use `signature` and the `Signature` object directly\n",
      "  defaults=argspec[3])\n",
      "/Users/rob/.local/share/virtualenvs/Good-Film-Bad-Film-eKSCkW5B/lib/python3.7/site-packages/statsmodels/base/wrapper.py:100: DeprecationWarning: `formatargspec` is deprecated since Python 3.5. Use `signature` and the `Signature` object directly\n",
      "  defaults=argspec[3])\n",
      "/Users/rob/.local/share/virtualenvs/Good-Film-Bad-Film-eKSCkW5B/lib/python3.7/site-packages/statsmodels/base/wrapper.py:100: DeprecationWarning: `formatargspec` is deprecated since Python 3.5. Use `signature` and the `Signature` object directly\n",
      "  defaults=argspec[3])\n",
      "/Users/rob/.local/share/virtualenvs/Good-Film-Bad-Film-eKSCkW5B/lib/python3.7/site-packages/statsmodels/base/wrapper.py:100: DeprecationWarning: `formatargspec` is deprecated since Python 3.5. Use `signature` and the `Signature` object directly\n",
      "  defaults=argspec[3])\n",
      "/Users/rob/.local/share/virtualenvs/Good-Film-Bad-Film-eKSCkW5B/lib/python3.7/site-packages/statsmodels/base/wrapper.py:100: DeprecationWarning: `formatargspec` is deprecated since Python 3.5. Use `signature` and the `Signature` object directly\n",
      "  defaults=argspec[3])\n",
      "/Users/rob/.local/share/virtualenvs/Good-Film-Bad-Film-eKSCkW5B/lib/python3.7/site-packages/statsmodels/base/wrapper.py:100: DeprecationWarning: `formatargspec` is deprecated since Python 3.5. Use `signature` and the `Signature` object directly\n",
      "  defaults=argspec[3])\n",
      "/Users/rob/.local/share/virtualenvs/Good-Film-Bad-Film-eKSCkW5B/lib/python3.7/site-packages/statsmodels/base/wrapper.py:100: DeprecationWarning: `formatargspec` is deprecated since Python 3.5. Use `signature` and the `Signature` object directly\n",
      "  defaults=argspec[3])\n",
      "/Users/rob/.local/share/virtualenvs/Good-Film-Bad-Film-eKSCkW5B/lib/python3.7/site-packages/statsmodels/base/wrapper.py:100: DeprecationWarning: `formatargspec` is deprecated since Python 3.5. Use `signature` and the `Signature` object directly\n",
      "  defaults=argspec[3])\n",
      "/Users/rob/.local/share/virtualenvs/Good-Film-Bad-Film-eKSCkW5B/lib/python3.7/site-packages/statsmodels/base/wrapper.py:100: DeprecationWarning: `formatargspec` is deprecated since Python 3.5. Use `signature` and the `Signature` object directly\n",
      "  defaults=argspec[3])\n",
      "/Users/rob/.local/share/virtualenvs/Good-Film-Bad-Film-eKSCkW5B/lib/python3.7/site-packages/statsmodels/base/wrapper.py:100: DeprecationWarning: `formatargspec` is deprecated since Python 3.5. Use `signature` and the `Signature` object directly\n",
      "  defaults=argspec[3])\n",
      "/Users/rob/.local/share/virtualenvs/Good-Film-Bad-Film-eKSCkW5B/lib/python3.7/site-packages/statsmodels/base/wrapper.py:100: DeprecationWarning: `formatargspec` is deprecated since Python 3.5. Use `signature` and the `Signature` object directly\n",
      "  defaults=argspec[3])\n",
      "/Users/rob/.local/share/virtualenvs/Good-Film-Bad-Film-eKSCkW5B/lib/python3.7/site-packages/statsmodels/base/wrapper.py:100: DeprecationWarning: `formatargspec` is deprecated since Python 3.5. Use `signature` and the `Signature` object directly\n",
      "  defaults=argspec[3])\n",
      "/Users/rob/.local/share/virtualenvs/Good-Film-Bad-Film-eKSCkW5B/lib/python3.7/site-packages/statsmodels/base/wrapper.py:100: DeprecationWarning: `formatargspec` is deprecated since Python 3.5. Use `signature` and the `Signature` object directly\n",
      "  defaults=argspec[3])\n",
      "/Users/rob/.local/share/virtualenvs/Good-Film-Bad-Film-eKSCkW5B/lib/python3.7/site-packages/statsmodels/base/wrapper.py:100: DeprecationWarning: `formatargspec` is deprecated since Python 3.5. Use `signature` and the `Signature` object directly\n",
      "  defaults=argspec[3])\n",
      "/Users/rob/.local/share/virtualenvs/Good-Film-Bad-Film-eKSCkW5B/lib/python3.7/site-packages/statsmodels/base/wrapper.py:100: DeprecationWarning: `formatargspec` is deprecated since Python 3.5. Use `signature` and the `Signature` object directly\n",
      "  defaults=argspec[3])\n",
      "/Users/rob/.local/share/virtualenvs/Good-Film-Bad-Film-eKSCkW5B/lib/python3.7/site-packages/statsmodels/base/wrapper.py:100: DeprecationWarning: `formatargspec` is deprecated since Python 3.5. Use `signature` and the `Signature` object directly\n",
      "  defaults=argspec[3])\n",
      "/Users/rob/.local/share/virtualenvs/Good-Film-Bad-Film-eKSCkW5B/lib/python3.7/site-packages/statsmodels/base/wrapper.py:100: DeprecationWarning: `formatargspec` is deprecated since Python 3.5. Use `signature` and the `Signature` object directly\n",
      "  defaults=argspec[3])\n",
      "/Users/rob/.local/share/virtualenvs/Good-Film-Bad-Film-eKSCkW5B/lib/python3.7/site-packages/statsmodels/base/wrapper.py:100: DeprecationWarning: `formatargspec` is deprecated since Python 3.5. Use `signature` and the `Signature` object directly\n",
      "  defaults=argspec[3])\n",
      "/Users/rob/.local/share/virtualenvs/Good-Film-Bad-Film-eKSCkW5B/lib/python3.7/site-packages/statsmodels/base/wrapper.py:100: DeprecationWarning: `formatargspec` is deprecated since Python 3.5. Use `signature` and the `Signature` object directly\n",
      "  defaults=argspec[3])\n",
      "/Users/rob/.local/share/virtualenvs/Good-Film-Bad-Film-eKSCkW5B/lib/python3.7/site-packages/statsmodels/base/wrapper.py:100: DeprecationWarning: `formatargspec` is deprecated since Python 3.5. Use `signature` and the `Signature` object directly\n",
      "  defaults=argspec[3])\n",
      "/Users/rob/.local/share/virtualenvs/Good-Film-Bad-Film-eKSCkW5B/lib/python3.7/site-packages/statsmodels/base/wrapper.py:100: DeprecationWarning: `formatargspec` is deprecated since Python 3.5. Use `signature` and the `Signature` object directly\n",
      "  defaults=argspec[3])\n",
      "/Users/rob/.local/share/virtualenvs/Good-Film-Bad-Film-eKSCkW5B/lib/python3.7/site-packages/statsmodels/base/wrapper.py:100: DeprecationWarning: `formatargspec` is deprecated since Python 3.5. Use `signature` and the `Signature` object directly\n",
      "  defaults=argspec[3])\n",
      "/Users/rob/.local/share/virtualenvs/Good-Film-Bad-Film-eKSCkW5B/lib/python3.7/site-packages/statsmodels/base/wrapper.py:100: DeprecationWarning: `formatargspec` is deprecated since Python 3.5. Use `signature` and the `Signature` object directly\n",
      "  defaults=argspec[3])\n",
      "/Users/rob/.local/share/virtualenvs/Good-Film-Bad-Film-eKSCkW5B/lib/python3.7/site-packages/statsmodels/base/wrapper.py:100: DeprecationWarning: `formatargspec` is deprecated since Python 3.5. Use `signature` and the `Signature` object directly\n",
      "  defaults=argspec[3])\n",
      "/Users/rob/.local/share/virtualenvs/Good-Film-Bad-Film-eKSCkW5B/lib/python3.7/site-packages/statsmodels/base/wrapper.py:100: DeprecationWarning: `formatargspec` is deprecated since Python 3.5. Use `signature` and the `Signature` object directly\n",
      "  defaults=argspec[3])\n",
      "/Users/rob/.local/share/virtualenvs/Good-Film-Bad-Film-eKSCkW5B/lib/python3.7/site-packages/statsmodels/base/wrapper.py:100: DeprecationWarning: `formatargspec` is deprecated since Python 3.5. Use `signature` and the `Signature` object directly\n",
      "  defaults=argspec[3])\n",
      "/Users/rob/.local/share/virtualenvs/Good-Film-Bad-Film-eKSCkW5B/lib/python3.7/site-packages/statsmodels/base/wrapper.py:100: DeprecationWarning: `formatargspec` is deprecated since Python 3.5. Use `signature` and the `Signature` object directly\n",
      "  defaults=argspec[3])\n",
      "/Users/rob/.local/share/virtualenvs/Good-Film-Bad-Film-eKSCkW5B/lib/python3.7/site-packages/statsmodels/base/wrapper.py:100: DeprecationWarning: `formatargspec` is deprecated since Python 3.5. Use `signature` and the `Signature` object directly\n",
      "  defaults=argspec[3])\n",
      "/Users/rob/.local/share/virtualenvs/Good-Film-Bad-Film-eKSCkW5B/lib/python3.7/site-packages/statsmodels/base/wrapper.py:100: DeprecationWarning: `formatargspec` is deprecated since Python 3.5. Use `signature` and the `Signature` object directly\n",
      "  defaults=argspec[3])\n",
      "/Users/rob/.local/share/virtualenvs/Good-Film-Bad-Film-eKSCkW5B/lib/python3.7/site-packages/statsmodels/base/wrapper.py:100: DeprecationWarning: `formatargspec` is deprecated since Python 3.5. Use `signature` and the `Signature` object directly\n",
      "  defaults=argspec[3])\n",
      "/Users/rob/.local/share/virtualenvs/Good-Film-Bad-Film-eKSCkW5B/lib/python3.7/site-packages/statsmodels/base/wrapper.py:100: DeprecationWarning: `formatargspec` is deprecated since Python 3.5. Use `signature` and the `Signature` object directly\n",
      "  defaults=argspec[3])\n",
      "/Users/rob/.local/share/virtualenvs/Good-Film-Bad-Film-eKSCkW5B/lib/python3.7/site-packages/statsmodels/base/wrapper.py:100: DeprecationWarning: `formatargspec` is deprecated since Python 3.5. Use `signature` and the `Signature` object directly\n",
      "  defaults=argspec[3])\n",
      "/Users/rob/.local/share/virtualenvs/Good-Film-Bad-Film-eKSCkW5B/lib/python3.7/site-packages/statsmodels/base/wrapper.py:100: DeprecationWarning: `formatargspec` is deprecated since Python 3.5. Use `signature` and the `Signature` object directly\n",
      "  defaults=argspec[3])\n",
      "/Users/rob/.local/share/virtualenvs/Good-Film-Bad-Film-eKSCkW5B/lib/python3.7/site-packages/statsmodels/base/wrapper.py:100: DeprecationWarning: `formatargspec` is deprecated since Python 3.5. Use `signature` and the `Signature` object directly\n",
      "  defaults=argspec[3])\n",
      "/Users/rob/.local/share/virtualenvs/Good-Film-Bad-Film-eKSCkW5B/lib/python3.7/site-packages/statsmodels/base/wrapper.py:100: DeprecationWarning: `formatargspec` is deprecated since Python 3.5. Use `signature` and the `Signature` object directly\n",
      "  defaults=argspec[3])\n",
      "/Users/rob/.local/share/virtualenvs/Good-Film-Bad-Film-eKSCkW5B/lib/python3.7/site-packages/statsmodels/base/wrapper.py:100: DeprecationWarning: `formatargspec` is deprecated since Python 3.5. Use `signature` and the `Signature` object directly\n",
      "  defaults=argspec[3])\n",
      "/Users/rob/.local/share/virtualenvs/Good-Film-Bad-Film-eKSCkW5B/lib/python3.7/site-packages/statsmodels/base/wrapper.py:100: DeprecationWarning: `formatargspec` is deprecated since Python 3.5. Use `signature` and the `Signature` object directly\n",
      "  defaults=argspec[3])\n",
      "/Users/rob/.local/share/virtualenvs/Good-Film-Bad-Film-eKSCkW5B/lib/python3.7/site-packages/statsmodels/base/wrapper.py:100: DeprecationWarning: `formatargspec` is deprecated since Python 3.5. Use `signature` and the `Signature` object directly\n",
      "  defaults=argspec[3])\n",
      "/Users/rob/.local/share/virtualenvs/Good-Film-Bad-Film-eKSCkW5B/lib/python3.7/site-packages/statsmodels/base/wrapper.py:100: DeprecationWarning: `formatargspec` is deprecated since Python 3.5. Use `signature` and the `Signature` object directly\n",
      "  defaults=argspec[3])\n",
      "/Users/rob/.local/share/virtualenvs/Good-Film-Bad-Film-eKSCkW5B/lib/python3.7/site-packages/statsmodels/base/wrapper.py:100: DeprecationWarning: `formatargspec` is deprecated since Python 3.5. Use `signature` and the `Signature` object directly\n",
      "  defaults=argspec[3])\n",
      "/Users/rob/.local/share/virtualenvs/Good-Film-Bad-Film-eKSCkW5B/lib/python3.7/site-packages/statsmodels/base/wrapper.py:100: DeprecationWarning: `formatargspec` is deprecated since Python 3.5. Use `signature` and the `Signature` object directly\n",
      "  defaults=argspec[3])\n",
      "/Users/rob/.local/share/virtualenvs/Good-Film-Bad-Film-eKSCkW5B/lib/python3.7/site-packages/statsmodels/base/wrapper.py:100: DeprecationWarning: `formatargspec` is deprecated since Python 3.5. Use `signature` and the `Signature` object directly\n",
      "  defaults=argspec[3])\n",
      "/Users/rob/.local/share/virtualenvs/Good-Film-Bad-Film-eKSCkW5B/lib/python3.7/site-packages/statsmodels/base/wrapper.py:100: DeprecationWarning: `formatargspec` is deprecated since Python 3.5. Use `signature` and the `Signature` object directly\n",
      "  defaults=argspec[3])\n",
      "/Users/rob/.local/share/virtualenvs/Good-Film-Bad-Film-eKSCkW5B/lib/python3.7/site-packages/statsmodels/base/wrapper.py:100: DeprecationWarning: `formatargspec` is deprecated since Python 3.5. Use `signature` and the `Signature` object directly\n",
      "  defaults=argspec[3])\n",
      "/Users/rob/.local/share/virtualenvs/Good-Film-Bad-Film-eKSCkW5B/lib/python3.7/site-packages/statsmodels/base/wrapper.py:100: DeprecationWarning: `formatargspec` is deprecated since Python 3.5. Use `signature` and the `Signature` object directly\n",
      "  defaults=argspec[3])\n",
      "/Users/rob/.local/share/virtualenvs/Good-Film-Bad-Film-eKSCkW5B/lib/python3.7/site-packages/statsmodels/base/wrapper.py:100: DeprecationWarning: `formatargspec` is deprecated since Python 3.5. Use `signature` and the `Signature` object directly\n",
      "  defaults=argspec[3])\n",
      "/Users/rob/.local/share/virtualenvs/Good-Film-Bad-Film-eKSCkW5B/lib/python3.7/site-packages/statsmodels/base/wrapper.py:100: DeprecationWarning: `formatargspec` is deprecated since Python 3.5. Use `signature` and the `Signature` object directly\n",
      "  defaults=argspec[3])\n",
      "/Users/rob/.local/share/virtualenvs/Good-Film-Bad-Film-eKSCkW5B/lib/python3.7/site-packages/statsmodels/base/wrapper.py:100: DeprecationWarning: `formatargspec` is deprecated since Python 3.5. Use `signature` and the `Signature` object directly\n",
      "  defaults=argspec[3])\n",
      "/Users/rob/.local/share/virtualenvs/Good-Film-Bad-Film-eKSCkW5B/lib/python3.7/site-packages/statsmodels/base/wrapper.py:100: DeprecationWarning: `formatargspec` is deprecated since Python 3.5. Use `signature` and the `Signature` object directly\n",
      "  defaults=argspec[3])\n",
      "/Users/rob/.local/share/virtualenvs/Good-Film-Bad-Film-eKSCkW5B/lib/python3.7/site-packages/statsmodels/base/wrapper.py:100: DeprecationWarning: `formatargspec` is deprecated since Python 3.5. Use `signature` and the `Signature` object directly\n",
      "  defaults=argspec[3])\n",
      "/Users/rob/.local/share/virtualenvs/Good-Film-Bad-Film-eKSCkW5B/lib/python3.7/site-packages/statsmodels/base/wrapper.py:100: DeprecationWarning: `formatargspec` is deprecated since Python 3.5. Use `signature` and the `Signature` object directly\n",
      "  defaults=argspec[3])\n",
      "/Users/rob/.local/share/virtualenvs/Good-Film-Bad-Film-eKSCkW5B/lib/python3.7/site-packages/statsmodels/base/wrapper.py:100: DeprecationWarning: `formatargspec` is deprecated since Python 3.5. Use `signature` and the `Signature` object directly\n",
      "  defaults=argspec[3])\n",
      "/Users/rob/.local/share/virtualenvs/Good-Film-Bad-Film-eKSCkW5B/lib/python3.7/site-packages/statsmodels/base/wrapper.py:100: DeprecationWarning: `formatargspec` is deprecated since Python 3.5. Use `signature` and the `Signature` object directly\n",
      "  defaults=argspec[3])\n",
      "/Users/rob/.local/share/virtualenvs/Good-Film-Bad-Film-eKSCkW5B/lib/python3.7/site-packages/statsmodels/base/wrapper.py:100: DeprecationWarning: `formatargspec` is deprecated since Python 3.5. Use `signature` and the `Signature` object directly\n",
      "  defaults=argspec[3])\n",
      "/Users/rob/.local/share/virtualenvs/Good-Film-Bad-Film-eKSCkW5B/lib/python3.7/site-packages/statsmodels/base/wrapper.py:100: DeprecationWarning: `formatargspec` is deprecated since Python 3.5. Use `signature` and the `Signature` object directly\n",
      "  defaults=argspec[3])\n",
      "/Users/rob/.local/share/virtualenvs/Good-Film-Bad-Film-eKSCkW5B/lib/python3.7/site-packages/statsmodels/base/wrapper.py:100: DeprecationWarning: `formatargspec` is deprecated since Python 3.5. Use `signature` and the `Signature` object directly\n",
      "  defaults=argspec[3])\n",
      "/Users/rob/.local/share/virtualenvs/Good-Film-Bad-Film-eKSCkW5B/lib/python3.7/site-packages/statsmodels/base/wrapper.py:100: DeprecationWarning: `formatargspec` is deprecated since Python 3.5. Use `signature` and the `Signature` object directly\n",
      "  defaults=argspec[3])\n",
      "/Users/rob/.local/share/virtualenvs/Good-Film-Bad-Film-eKSCkW5B/lib/python3.7/site-packages/statsmodels/base/wrapper.py:100: DeprecationWarning: `formatargspec` is deprecated since Python 3.5. Use `signature` and the `Signature` object directly\n",
      "  defaults=argspec[3])\n",
      "/Users/rob/.local/share/virtualenvs/Good-Film-Bad-Film-eKSCkW5B/lib/python3.7/site-packages/statsmodels/base/wrapper.py:100: DeprecationWarning: `formatargspec` is deprecated since Python 3.5. Use `signature` and the `Signature` object directly\n",
      "  defaults=argspec[3])\n",
      "/Users/rob/.local/share/virtualenvs/Good-Film-Bad-Film-eKSCkW5B/lib/python3.7/site-packages/statsmodels/base/wrapper.py:100: DeprecationWarning: `formatargspec` is deprecated since Python 3.5. Use `signature` and the `Signature` object directly\n",
      "  defaults=argspec[3])\n",
      "/Users/rob/.local/share/virtualenvs/Good-Film-Bad-Film-eKSCkW5B/lib/python3.7/site-packages/statsmodels/base/wrapper.py:100: DeprecationWarning: `formatargspec` is deprecated since Python 3.5. Use `signature` and the `Signature` object directly\n",
      "  defaults=argspec[3])\n",
      "/Users/rob/.local/share/virtualenvs/Good-Film-Bad-Film-eKSCkW5B/lib/python3.7/site-packages/statsmodels/base/wrapper.py:100: DeprecationWarning: `formatargspec` is deprecated since Python 3.5. Use `signature` and the `Signature` object directly\n",
      "  defaults=argspec[3])\n",
      "/Users/rob/.local/share/virtualenvs/Good-Film-Bad-Film-eKSCkW5B/lib/python3.7/site-packages/statsmodels/base/wrapper.py:100: DeprecationWarning: `formatargspec` is deprecated since Python 3.5. Use `signature` and the `Signature` object directly\n",
      "  defaults=argspec[3])\n",
      "/Users/rob/.local/share/virtualenvs/Good-Film-Bad-Film-eKSCkW5B/lib/python3.7/site-packages/statsmodels/base/wrapper.py:100: DeprecationWarning: `formatargspec` is deprecated since Python 3.5. Use `signature` and the `Signature` object directly\n",
      "  defaults=argspec[3])\n",
      "/Users/rob/.local/share/virtualenvs/Good-Film-Bad-Film-eKSCkW5B/lib/python3.7/site-packages/statsmodels/base/wrapper.py:100: DeprecationWarning: `formatargspec` is deprecated since Python 3.5. Use `signature` and the `Signature` object directly\n",
      "  defaults=argspec[3])\n",
      "/Users/rob/.local/share/virtualenvs/Good-Film-Bad-Film-eKSCkW5B/lib/python3.7/site-packages/statsmodels/base/wrapper.py:100: DeprecationWarning: `formatargspec` is deprecated since Python 3.5. Use `signature` and the `Signature` object directly\n",
      "  defaults=argspec[3])\n",
      "/Users/rob/.local/share/virtualenvs/Good-Film-Bad-Film-eKSCkW5B/lib/python3.7/site-packages/statsmodels/base/wrapper.py:100: DeprecationWarning: `formatargspec` is deprecated since Python 3.5. Use `signature` and the `Signature` object directly\n",
      "  defaults=argspec[3])\n",
      "/Users/rob/.local/share/virtualenvs/Good-Film-Bad-Film-eKSCkW5B/lib/python3.7/site-packages/statsmodels/base/wrapper.py:100: DeprecationWarning: `formatargspec` is deprecated since Python 3.5. Use `signature` and the `Signature` object directly\n",
      "  defaults=argspec[3])\n",
      "/Users/rob/.local/share/virtualenvs/Good-Film-Bad-Film-eKSCkW5B/lib/python3.7/site-packages/statsmodels/base/wrapper.py:100: DeprecationWarning: `formatargspec` is deprecated since Python 3.5. Use `signature` and the `Signature` object directly\n",
      "  defaults=argspec[3])\n",
      "/Users/rob/.local/share/virtualenvs/Good-Film-Bad-Film-eKSCkW5B/lib/python3.7/site-packages/statsmodels/base/wrapper.py:100: DeprecationWarning: `formatargspec` is deprecated since Python 3.5. Use `signature` and the `Signature` object directly\n",
      "  defaults=argspec[3])\n",
      "/Users/rob/.local/share/virtualenvs/Good-Film-Bad-Film-eKSCkW5B/lib/python3.7/site-packages/statsmodels/base/wrapper.py:100: DeprecationWarning: `formatargspec` is deprecated since Python 3.5. Use `signature` and the `Signature` object directly\n",
      "  defaults=argspec[3])\n",
      "/Users/rob/.local/share/virtualenvs/Good-Film-Bad-Film-eKSCkW5B/lib/python3.7/site-packages/statsmodels/base/wrapper.py:100: DeprecationWarning: `formatargspec` is deprecated since Python 3.5. Use `signature` and the `Signature` object directly\n",
      "  defaults=argspec[3])\n",
      "/Users/rob/.local/share/virtualenvs/Good-Film-Bad-Film-eKSCkW5B/lib/python3.7/site-packages/statsmodels/base/wrapper.py:100: DeprecationWarning: `formatargspec` is deprecated since Python 3.5. Use `signature` and the `Signature` object directly\n",
      "  defaults=argspec[3])\n",
      "/Users/rob/.local/share/virtualenvs/Good-Film-Bad-Film-eKSCkW5B/lib/python3.7/site-packages/statsmodels/base/wrapper.py:100: DeprecationWarning: `formatargspec` is deprecated since Python 3.5. Use `signature` and the `Signature` object directly\n",
      "  defaults=argspec[3])\n",
      "/Users/rob/.local/share/virtualenvs/Good-Film-Bad-Film-eKSCkW5B/lib/python3.7/site-packages/statsmodels/base/wrapper.py:100: DeprecationWarning: `formatargspec` is deprecated since Python 3.5. Use `signature` and the `Signature` object directly\n",
      "  defaults=argspec[3])\n",
      "/Users/rob/.local/share/virtualenvs/Good-Film-Bad-Film-eKSCkW5B/lib/python3.7/site-packages/statsmodels/base/wrapper.py:100: DeprecationWarning: `formatargspec` is deprecated since Python 3.5. Use `signature` and the `Signature` object directly\n",
      "  defaults=argspec[3])\n",
      "/Users/rob/.local/share/virtualenvs/Good-Film-Bad-Film-eKSCkW5B/lib/python3.7/site-packages/statsmodels/base/wrapper.py:100: DeprecationWarning: `formatargspec` is deprecated since Python 3.5. Use `signature` and the `Signature` object directly\n",
      "  defaults=argspec[3])\n",
      "/Users/rob/.local/share/virtualenvs/Good-Film-Bad-Film-eKSCkW5B/lib/python3.7/site-packages/statsmodels/base/wrapper.py:100: DeprecationWarning: `formatargspec` is deprecated since Python 3.5. Use `signature` and the `Signature` object directly\n",
      "  defaults=argspec[3])\n",
      "/Users/rob/.local/share/virtualenvs/Good-Film-Bad-Film-eKSCkW5B/lib/python3.7/site-packages/statsmodels/base/wrapper.py:100: DeprecationWarning: `formatargspec` is deprecated since Python 3.5. Use `signature` and the `Signature` object directly\n",
      "  defaults=argspec[3])\n"
     ]
    }
   ],
   "source": [
    "import pandas as pd\n",
    "import numpy as np\n",
    "import os\n",
    "\n",
    "import matplotlib.pyplot as plt\n",
    "import seaborn as sns\n",
    "sns.set(style='ticks', color_codes=True)\n",
    "\n",
    "import nltk\n",
    "from nltk import FreqDist, word_tokenize\n",
    "from nltk.stem import WordNetLemmatizer \n",
    "from nltk.corpus import wordnet\n",
    "from nltk.corpus import stopwords\n",
    "\n",
    "import enchant\n",
    "english_d = enchant.Dict(\"en_US\")\n",
    "import re\n",
    "import gensim\n",
    "from gensim import corpora, models, similarities\n",
    "import pickle\n",
    "\n",
    "import pyLDAvis\n",
    "import pyLDAvis.gensim\n",
    "\n",
    "from sklearn.preprocessing import StandardScaler\n",
    "from sklearn.feature_extraction.text import TfidfVectorizer\n",
    "from sklearn.model_selection import train_test_split, GridSearchCV\n",
    "from sklearn.decomposition import TruncatedSVD\n",
    "from sklearn.naive_bayes import MultinomialNB, GaussianNB\n",
    "from sklearn import metrics\n",
    "from sklearn.metrics import accuracy_score, roc_curve, auc\n",
    "from sklearn.dummy import DummyClassifier\n",
    "from sklearn.ensemble import GradientBoostingClassifier\n",
    "from sklearn.pipeline import Pipeline\n",
    "\n",
    "import statsmodels.api as sm\n",
    "import statsmodels.formula.api as sm\n",
    "import scipy.stats as stats\n",
    "from statsmodels.formula.api import ols\n",
    "\n",
    "import xgboost as xgb\n",
    "from xgboost import XGBClassifier\n",
    "from patsy import dmatrices"
   ]
  },
  {
   "cell_type": "markdown",
   "metadata": {},
   "source": [
    "## Get the data"
   ]
  },
  {
   "cell_type": "code",
   "execution_count": 2,
   "metadata": {},
   "outputs": [],
   "source": [
    "imdb = pd.read_csv('imdb_5000_movies.csv') # Just a big Kaggle dataset full of movies."
   ]
  },
  {
   "cell_type": "markdown",
   "metadata": {},
   "source": [
    "One really nice thing about this dataset is that it provides the unique IMdB movie ID's, which we can pass to another API in order to supplement our data with more features. A key to the OMdB API cost a minimum of one dollar. Here we parse out those IMdB ID's:"
   ]
  },
  {
   "cell_type": "code",
   "execution_count": 3,
   "metadata": {},
   "outputs": [
    {
     "data": {
      "text/plain": [
       "(5043, 28)"
      ]
     },
     "execution_count": 3,
     "metadata": {},
     "output_type": "execute_result"
    }
   ],
   "source": [
    "imdb.shape"
   ]
  },
  {
   "cell_type": "code",
   "execution_count": 4,
   "metadata": {},
   "outputs": [],
   "source": [
    "imdb_ids = [imdb.iloc[i]['movie_imdb_link'].split('title/')[1].split('/?')[0] for i in range(len(imdb))]"
   ]
  },
  {
   "cell_type": "markdown",
   "metadata": {},
   "source": [
    "Here we make the API calls, and persist our data to little .txt files:"
   ]
  },
  {
   "cell_type": "code",
   "execution_count": 5,
   "metadata": {},
   "outputs": [],
   "source": [
    "# for id in imdb_ids:\n",
    "\n",
    "#     request = requests.get(f'http://www.omdbapi.com/?i={id}&plot=full&apikey={API_KEY}').json()\n",
    "#     text = str(request)  \n",
    "    \n",
    "#     f = open(f'movie_{id}', 'w+')\n",
    "#     f.write(text)\n",
    "#     f.close()"
   ]
  },
  {
   "cell_type": "markdown",
   "metadata": {},
   "source": [
    "This is what we want our eventual pandas dataFrame to look like:"
   ]
  },
  {
   "cell_type": "code",
   "execution_count": 6,
   "metadata": {},
   "outputs": [],
   "source": [
    "df = pd.DataFrame(columns=['Title', 'Year', 'ID', 'Plot', 'Genre', 'Production', \n",
    "                           'Director', 'Actor_1_name', 'Actor_1_fb_likes', 'Actor_2_name', \n",
    "                           'Actor_2_fb_likes', 'Actor_3_name', 'Actor_3_fb_likes', 'Budget', \n",
    "                           'Rated', 'Language', 'imdbRating'])"
   ]
  },
  {
   "cell_type": "markdown",
   "metadata": {},
   "source": [
    "This is where we frankenstein together the kaggle dataset with what we got from OMdB:"
   ]
  },
  {
   "cell_type": "code",
   "execution_count": 7,
   "metadata": {},
   "outputs": [],
   "source": [
    "for i in range(len(imdb_ids)):\n",
    "    id = imdb.iloc[i]['movie_imdb_link'].split('title/')[1].split('/?')[0]\n",
    "    x_file = open(os.path.join('Movies', f\"movie_{id}\"), \"r\") # Open up each movie's text file\n",
    "    movie_text = x_file.readlines()[0]\n",
    "    dict = eval(movie_text) # Coerce string to dictionary\n",
    "    dict['Plot'] = dict['Plot'].replace(\"\\'\", \"'\") # Cleanup\n",
    "    df = df.append({'Title': dict['Title'], 'Year': dict['Year'], 'ID': id, \n",
    "                    'Plot': dict['Plot'], 'Genre': dict['Genre'], \n",
    "                    'imdbRating': dict['imdbRating'], \n",
    "                    'Director': imdb.iloc[i,:].loc['director_name'], \n",
    "                    'Actor_1_name':imdb.iloc[i,:].loc['actor_1_name'], \n",
    "                    'Actor_1_fb_likes':imdb.iloc[i,:].loc['actor_1_facebook_likes'], \n",
    "                    'Actor_2_name':imdb.iloc[i,:].loc['actor_2_name'], \n",
    "                    'Actor_2_fb_likes':imdb.iloc[i,:].loc['actor_2_facebook_likes'], \n",
    "                    'Actor_3_name':imdb.iloc[i,:].loc['actor_3_name'], \n",
    "                    'Actor_3_fb_likes':imdb.iloc[i,:].loc['actor_3_facebook_likes'], \n",
    "                    'Budget':imdb.iloc[i,:].loc['budget'], 'Language':dict['Language'], \n",
    "                    'Rated':dict['Rated']}, ignore_index=True) # Add to dataframe"
   ]
  },
  {
   "cell_type": "markdown",
   "metadata": {},
   "source": [
    "Here's our beautiful new dataFrame:"
   ]
  },
  {
   "cell_type": "code",
   "execution_count": 8,
   "metadata": {},
   "outputs": [
    {
     "data": {
      "text/html": [
       "<div>\n",
       "<style scoped>\n",
       "    .dataframe tbody tr th:only-of-type {\n",
       "        vertical-align: middle;\n",
       "    }\n",
       "\n",
       "    .dataframe tbody tr th {\n",
       "        vertical-align: top;\n",
       "    }\n",
       "\n",
       "    .dataframe thead th {\n",
       "        text-align: right;\n",
       "    }\n",
       "</style>\n",
       "<table border=\"1\" class=\"dataframe\">\n",
       "  <thead>\n",
       "    <tr style=\"text-align: right;\">\n",
       "      <th></th>\n",
       "      <th>Title</th>\n",
       "      <th>Year</th>\n",
       "      <th>ID</th>\n",
       "      <th>Plot</th>\n",
       "      <th>Genre</th>\n",
       "      <th>Production</th>\n",
       "      <th>Director</th>\n",
       "      <th>Actor_1_name</th>\n",
       "      <th>Actor_1_fb_likes</th>\n",
       "      <th>Actor_2_name</th>\n",
       "      <th>Actor_2_fb_likes</th>\n",
       "      <th>Actor_3_name</th>\n",
       "      <th>Actor_3_fb_likes</th>\n",
       "      <th>Budget</th>\n",
       "      <th>Rated</th>\n",
       "      <th>Language</th>\n",
       "      <th>imdbRating</th>\n",
       "    </tr>\n",
       "  </thead>\n",
       "  <tbody>\n",
       "    <tr>\n",
       "      <th>0</th>\n",
       "      <td>Avatar</td>\n",
       "      <td>2009</td>\n",
       "      <td>tt0499549</td>\n",
       "      <td>When his brother is killed in a robbery, parap...</td>\n",
       "      <td>Action, Adventure, Fantasy, Sci-Fi</td>\n",
       "      <td>NaN</td>\n",
       "      <td>James Cameron</td>\n",
       "      <td>CCH Pounder</td>\n",
       "      <td>1000.0</td>\n",
       "      <td>Joel David Moore</td>\n",
       "      <td>936.0</td>\n",
       "      <td>Wes Studi</td>\n",
       "      <td>855.0</td>\n",
       "      <td>237000000.0</td>\n",
       "      <td>PG-13</td>\n",
       "      <td>English, Spanish</td>\n",
       "      <td>7.8</td>\n",
       "    </tr>\n",
       "    <tr>\n",
       "      <th>1</th>\n",
       "      <td>Pirates of the Caribbean: At World's End</td>\n",
       "      <td>2007</td>\n",
       "      <td>tt0449088</td>\n",
       "      <td>After Elizabeth, Will, and Captain Barbossa re...</td>\n",
       "      <td>Action, Adventure, Fantasy</td>\n",
       "      <td>NaN</td>\n",
       "      <td>Gore Verbinski</td>\n",
       "      <td>Johnny Depp</td>\n",
       "      <td>40000.0</td>\n",
       "      <td>Orlando Bloom</td>\n",
       "      <td>5000.0</td>\n",
       "      <td>Jack Davenport</td>\n",
       "      <td>1000.0</td>\n",
       "      <td>300000000.0</td>\n",
       "      <td>PG-13</td>\n",
       "      <td>English</td>\n",
       "      <td>7.1</td>\n",
       "    </tr>\n",
       "    <tr>\n",
       "      <th>2</th>\n",
       "      <td>Spectre</td>\n",
       "      <td>2015</td>\n",
       "      <td>tt2379713</td>\n",
       "      <td>A cryptic message from the past sends James Bo...</td>\n",
       "      <td>Action, Adventure, Thriller</td>\n",
       "      <td>NaN</td>\n",
       "      <td>Sam Mendes</td>\n",
       "      <td>Christoph Waltz</td>\n",
       "      <td>11000.0</td>\n",
       "      <td>Rory Kinnear</td>\n",
       "      <td>393.0</td>\n",
       "      <td>Stephanie Sigman</td>\n",
       "      <td>161.0</td>\n",
       "      <td>245000000.0</td>\n",
       "      <td>PG-13</td>\n",
       "      <td>English, Spanish, Italian, German, French</td>\n",
       "      <td>6.8</td>\n",
       "    </tr>\n",
       "  </tbody>\n",
       "</table>\n",
       "</div>"
      ],
      "text/plain": [
       "                                      Title  Year         ID  \\\n",
       "0                                    Avatar  2009  tt0499549   \n",
       "1  Pirates of the Caribbean: At World's End  2007  tt0449088   \n",
       "2                                   Spectre  2015  tt2379713   \n",
       "\n",
       "                                                Plot  \\\n",
       "0  When his brother is killed in a robbery, parap...   \n",
       "1  After Elizabeth, Will, and Captain Barbossa re...   \n",
       "2  A cryptic message from the past sends James Bo...   \n",
       "\n",
       "                                Genre  Production        Director  \\\n",
       "0  Action, Adventure, Fantasy, Sci-Fi         NaN   James Cameron   \n",
       "1          Action, Adventure, Fantasy         NaN  Gore Verbinski   \n",
       "2         Action, Adventure, Thriller         NaN      Sam Mendes   \n",
       "\n",
       "      Actor_1_name  Actor_1_fb_likes      Actor_2_name  Actor_2_fb_likes  \\\n",
       "0      CCH Pounder            1000.0  Joel David Moore             936.0   \n",
       "1      Johnny Depp           40000.0     Orlando Bloom            5000.0   \n",
       "2  Christoph Waltz           11000.0      Rory Kinnear             393.0   \n",
       "\n",
       "       Actor_3_name  Actor_3_fb_likes       Budget  Rated  \\\n",
       "0         Wes Studi             855.0  237000000.0  PG-13   \n",
       "1    Jack Davenport            1000.0  300000000.0  PG-13   \n",
       "2  Stephanie Sigman             161.0  245000000.0  PG-13   \n",
       "\n",
       "                                    Language imdbRating  \n",
       "0                           English, Spanish        7.8  \n",
       "1                                    English        7.1  \n",
       "2  English, Spanish, Italian, German, French        6.8  "
      ]
     },
     "execution_count": 8,
     "metadata": {},
     "output_type": "execute_result"
    }
   ],
   "source": [
    "df.iloc[:3,:]"
   ]
  },
  {
   "cell_type": "markdown",
   "metadata": {},
   "source": [
    "## Munging and EDA"
   ]
  },
  {
   "cell_type": "markdown",
   "metadata": {},
   "source": [
    "We drop datapoints with null 'imdbRating' values, since that is our independent / target variable. We also convert these into binary; we are only concerned with whether or not a film's 'imbdRating' is above the mean (1) or below the mean (0). This binary value is saved into a new column called 'binary_target'.\n",
    "\n",
    "Null values in the 'actor facebook likes' column were imputed from the column mean."
   ]
  },
  {
   "cell_type": "code",
   "execution_count": 9,
   "metadata": {},
   "outputs": [],
   "source": [
    "df = df[~((df['Plot'] == 'N/A')|(df['imdbRating'] == 'N/A'))] # Drops movies with null plots\n",
    "df.imdbRating = df.imdbRating.astype(float)\n",
    "df['binary_target'] = df['imdbRating'] >= df['imdbRating'].mean()   #binary target column. True = above mean ; False = below mean\n",
    "df['binary_target'] = df['binary_target'].astype(int)\n",
    "df['Actor_1_fb_likes'].fillna((df['Actor_1_fb_likes'].mean()), inplace=True)\n",
    "df['Actor_2_fb_likes'].fillna((df['Actor_2_fb_likes'].mean()), inplace=True)\n",
    "df['Actor_3_fb_likes'].fillna((df['Actor_3_fb_likes'].mean()), inplace=True)"
   ]
  },
  {
   "cell_type": "code",
   "execution_count": 10,
   "metadata": {},
   "outputs": [
    {
     "data": {
      "text/html": [
       "<div>\n",
       "<style scoped>\n",
       "    .dataframe tbody tr th:only-of-type {\n",
       "        vertical-align: middle;\n",
       "    }\n",
       "\n",
       "    .dataframe tbody tr th {\n",
       "        vertical-align: top;\n",
       "    }\n",
       "\n",
       "    .dataframe thead th {\n",
       "        text-align: right;\n",
       "    }\n",
       "</style>\n",
       "<table border=\"1\" class=\"dataframe\">\n",
       "  <thead>\n",
       "    <tr style=\"text-align: right;\">\n",
       "      <th></th>\n",
       "      <th>Title</th>\n",
       "      <th>Year</th>\n",
       "      <th>ID</th>\n",
       "      <th>Plot</th>\n",
       "      <th>Genre</th>\n",
       "      <th>Production</th>\n",
       "      <th>Director</th>\n",
       "      <th>Actor_1_name</th>\n",
       "      <th>Actor_1_fb_likes</th>\n",
       "      <th>Actor_2_name</th>\n",
       "      <th>Actor_2_fb_likes</th>\n",
       "      <th>Actor_3_name</th>\n",
       "      <th>Actor_3_fb_likes</th>\n",
       "      <th>Budget</th>\n",
       "      <th>Rated</th>\n",
       "      <th>Language</th>\n",
       "      <th>imdbRating</th>\n",
       "      <th>binary_target</th>\n",
       "    </tr>\n",
       "  </thead>\n",
       "  <tbody>\n",
       "    <tr>\n",
       "      <th>0</th>\n",
       "      <td>Avatar</td>\n",
       "      <td>2009</td>\n",
       "      <td>tt0499549</td>\n",
       "      <td>When his brother is killed in a robbery, parap...</td>\n",
       "      <td>Action, Adventure, Fantasy, Sci-Fi</td>\n",
       "      <td>NaN</td>\n",
       "      <td>James Cameron</td>\n",
       "      <td>CCH Pounder</td>\n",
       "      <td>1000.0</td>\n",
       "      <td>Joel David Moore</td>\n",
       "      <td>936.0</td>\n",
       "      <td>Wes Studi</td>\n",
       "      <td>855.0</td>\n",
       "      <td>237000000.0</td>\n",
       "      <td>PG-13</td>\n",
       "      <td>English, Spanish</td>\n",
       "      <td>7.8</td>\n",
       "      <td>1</td>\n",
       "    </tr>\n",
       "    <tr>\n",
       "      <th>1</th>\n",
       "      <td>Pirates of the Caribbean: At World's End</td>\n",
       "      <td>2007</td>\n",
       "      <td>tt0449088</td>\n",
       "      <td>After Elizabeth, Will, and Captain Barbossa re...</td>\n",
       "      <td>Action, Adventure, Fantasy</td>\n",
       "      <td>NaN</td>\n",
       "      <td>Gore Verbinski</td>\n",
       "      <td>Johnny Depp</td>\n",
       "      <td>40000.0</td>\n",
       "      <td>Orlando Bloom</td>\n",
       "      <td>5000.0</td>\n",
       "      <td>Jack Davenport</td>\n",
       "      <td>1000.0</td>\n",
       "      <td>300000000.0</td>\n",
       "      <td>PG-13</td>\n",
       "      <td>English</td>\n",
       "      <td>7.1</td>\n",
       "      <td>1</td>\n",
       "    </tr>\n",
       "    <tr>\n",
       "      <th>2</th>\n",
       "      <td>Spectre</td>\n",
       "      <td>2015</td>\n",
       "      <td>tt2379713</td>\n",
       "      <td>A cryptic message from the past sends James Bo...</td>\n",
       "      <td>Action, Adventure, Thriller</td>\n",
       "      <td>NaN</td>\n",
       "      <td>Sam Mendes</td>\n",
       "      <td>Christoph Waltz</td>\n",
       "      <td>11000.0</td>\n",
       "      <td>Rory Kinnear</td>\n",
       "      <td>393.0</td>\n",
       "      <td>Stephanie Sigman</td>\n",
       "      <td>161.0</td>\n",
       "      <td>245000000.0</td>\n",
       "      <td>PG-13</td>\n",
       "      <td>English, Spanish, Italian, German, French</td>\n",
       "      <td>6.8</td>\n",
       "      <td>1</td>\n",
       "    </tr>\n",
       "  </tbody>\n",
       "</table>\n",
       "</div>"
      ],
      "text/plain": [
       "                                      Title  Year         ID  \\\n",
       "0                                    Avatar  2009  tt0499549   \n",
       "1  Pirates of the Caribbean: At World's End  2007  tt0449088   \n",
       "2                                   Spectre  2015  tt2379713   \n",
       "\n",
       "                                                Plot  \\\n",
       "0  When his brother is killed in a robbery, parap...   \n",
       "1  After Elizabeth, Will, and Captain Barbossa re...   \n",
       "2  A cryptic message from the past sends James Bo...   \n",
       "\n",
       "                                Genre  Production        Director  \\\n",
       "0  Action, Adventure, Fantasy, Sci-Fi         NaN   James Cameron   \n",
       "1          Action, Adventure, Fantasy         NaN  Gore Verbinski   \n",
       "2         Action, Adventure, Thriller         NaN      Sam Mendes   \n",
       "\n",
       "      Actor_1_name  Actor_1_fb_likes      Actor_2_name  Actor_2_fb_likes  \\\n",
       "0      CCH Pounder            1000.0  Joel David Moore             936.0   \n",
       "1      Johnny Depp           40000.0     Orlando Bloom            5000.0   \n",
       "2  Christoph Waltz           11000.0      Rory Kinnear             393.0   \n",
       "\n",
       "       Actor_3_name  Actor_3_fb_likes       Budget  Rated  \\\n",
       "0         Wes Studi             855.0  237000000.0  PG-13   \n",
       "1    Jack Davenport            1000.0  300000000.0  PG-13   \n",
       "2  Stephanie Sigman             161.0  245000000.0  PG-13   \n",
       "\n",
       "                                    Language  imdbRating  binary_target  \n",
       "0                           English, Spanish         7.8              1  \n",
       "1                                    English         7.1              1  \n",
       "2  English, Spanish, Italian, German, French         6.8              1  "
      ]
     },
     "execution_count": 10,
     "metadata": {},
     "output_type": "execute_result"
    }
   ],
   "source": [
    "df = df.reset_index()\n",
    "df = df.drop(['index'], axis=1)\n",
    "df[:3]"
   ]
  },
  {
   "cell_type": "markdown",
   "metadata": {},
   "source": [
    "### One-hot encoding Genres"
   ]
  },
  {
   "cell_type": "code",
   "execution_count": 11,
   "metadata": {},
   "outputs": [],
   "source": [
    "final_genres = ['Action', 'Adventure', 'Animation', 'Biography', 'Comedy', 'Crime', 'Documentary', 'Drama', 'Family', 'Fantasy', 'History', 'Horror', 'Musical', 'Mystery', 'Romance', 'Sci_Fi', 'Sport', 'Thriller', 'War', 'Western']    \n",
    "\n",
    "#create a list of lists, where each element is a list of a movie's classified genres\n",
    "li = []\n",
    "[li.append(df.iloc[i]['Genre'].split(', ')) for i in range(len(df))]\n",
    "\n",
    "#adding columns to df for each genre, 1 represents the movie is classified under that genre, 0 is that it is not\n",
    "for genre in final_genres:\n",
    "    list = []\n",
    "    [list.append(1) if genre in movie\n",
    "    else list.append(0) for movie in li]\n",
    "    df[genre] = list"
   ]
  },
  {
   "cell_type": "markdown",
   "metadata": {},
   "source": [
    "### Creating a fresh DataFrame with everything but Plot Text Features"
   ]
  },
  {
   "cell_type": "code",
   "execution_count": 12,
   "metadata": {},
   "outputs": [
    {
     "data": {
      "text/html": [
       "<div>\n",
       "<style scoped>\n",
       "    .dataframe tbody tr th:only-of-type {\n",
       "        vertical-align: middle;\n",
       "    }\n",
       "\n",
       "    .dataframe tbody tr th {\n",
       "        vertical-align: top;\n",
       "    }\n",
       "\n",
       "    .dataframe thead th {\n",
       "        text-align: right;\n",
       "    }\n",
       "</style>\n",
       "<table border=\"1\" class=\"dataframe\">\n",
       "  <thead>\n",
       "    <tr style=\"text-align: right;\">\n",
       "      <th></th>\n",
       "      <th>Year</th>\n",
       "      <th>binary_target</th>\n",
       "      <th>Action</th>\n",
       "      <th>Adventure</th>\n",
       "      <th>Animation</th>\n",
       "      <th>Biography</th>\n",
       "      <th>Comedy</th>\n",
       "      <th>Crime</th>\n",
       "      <th>Documentary</th>\n",
       "      <th>Drama</th>\n",
       "      <th>...</th>\n",
       "      <th>History</th>\n",
       "      <th>Horror</th>\n",
       "      <th>Musical</th>\n",
       "      <th>Mystery</th>\n",
       "      <th>Romance</th>\n",
       "      <th>Sci_Fi</th>\n",
       "      <th>Sport</th>\n",
       "      <th>Thriller</th>\n",
       "      <th>War</th>\n",
       "      <th>Western</th>\n",
       "    </tr>\n",
       "  </thead>\n",
       "  <tbody>\n",
       "    <tr>\n",
       "      <th>0</th>\n",
       "      <td>2009</td>\n",
       "      <td>1</td>\n",
       "      <td>1</td>\n",
       "      <td>1</td>\n",
       "      <td>0</td>\n",
       "      <td>0</td>\n",
       "      <td>0</td>\n",
       "      <td>0</td>\n",
       "      <td>0</td>\n",
       "      <td>0</td>\n",
       "      <td>...</td>\n",
       "      <td>0</td>\n",
       "      <td>0</td>\n",
       "      <td>0</td>\n",
       "      <td>0</td>\n",
       "      <td>0</td>\n",
       "      <td>0</td>\n",
       "      <td>0</td>\n",
       "      <td>0</td>\n",
       "      <td>0</td>\n",
       "      <td>0</td>\n",
       "    </tr>\n",
       "    <tr>\n",
       "      <th>1</th>\n",
       "      <td>2007</td>\n",
       "      <td>1</td>\n",
       "      <td>1</td>\n",
       "      <td>1</td>\n",
       "      <td>0</td>\n",
       "      <td>0</td>\n",
       "      <td>0</td>\n",
       "      <td>0</td>\n",
       "      <td>0</td>\n",
       "      <td>0</td>\n",
       "      <td>...</td>\n",
       "      <td>0</td>\n",
       "      <td>0</td>\n",
       "      <td>0</td>\n",
       "      <td>0</td>\n",
       "      <td>0</td>\n",
       "      <td>0</td>\n",
       "      <td>0</td>\n",
       "      <td>0</td>\n",
       "      <td>0</td>\n",
       "      <td>0</td>\n",
       "    </tr>\n",
       "    <tr>\n",
       "      <th>2</th>\n",
       "      <td>2015</td>\n",
       "      <td>1</td>\n",
       "      <td>1</td>\n",
       "      <td>1</td>\n",
       "      <td>0</td>\n",
       "      <td>0</td>\n",
       "      <td>0</td>\n",
       "      <td>0</td>\n",
       "      <td>0</td>\n",
       "      <td>0</td>\n",
       "      <td>...</td>\n",
       "      <td>0</td>\n",
       "      <td>0</td>\n",
       "      <td>0</td>\n",
       "      <td>0</td>\n",
       "      <td>0</td>\n",
       "      <td>0</td>\n",
       "      <td>0</td>\n",
       "      <td>1</td>\n",
       "      <td>0</td>\n",
       "      <td>0</td>\n",
       "    </tr>\n",
       "  </tbody>\n",
       "</table>\n",
       "<p>3 rows × 22 columns</p>\n",
       "</div>"
      ],
      "text/plain": [
       "   Year  binary_target  Action  Adventure  Animation  Biography  Comedy  \\\n",
       "0  2009              1       1          1          0          0       0   \n",
       "1  2007              1       1          1          0          0       0   \n",
       "2  2015              1       1          1          0          0       0   \n",
       "\n",
       "   Crime  Documentary  Drama  ...  History  Horror  Musical  Mystery  Romance  \\\n",
       "0      0            0      0  ...        0       0        0        0        0   \n",
       "1      0            0      0  ...        0       0        0        0        0   \n",
       "2      0            0      0  ...        0       0        0        0        0   \n",
       "\n",
       "   Sci_Fi  Sport  Thriller  War  Western  \n",
       "0       0      0         0    0        0  \n",
       "1       0      0         0    0        0  \n",
       "2       0      0         1    0        0  \n",
       "\n",
       "[3 rows x 22 columns]"
      ]
     },
     "execution_count": 12,
     "metadata": {},
     "output_type": "execute_result"
    }
   ],
   "source": [
    "main_df = pd.DataFrame()\n",
    "\n",
    "#join the features we want to narrow in on with our target variable\n",
    "genres = df.iloc[:,-21:]\n",
    "main_df['Year'] = [int(year.split('–')[0]) for year in df['Year'].values]\n",
    "main_df = main_df.join(genres)\n",
    "\n",
    "main_df[:3]"
   ]
  },
  {
   "cell_type": "code",
   "execution_count": 13,
   "metadata": {},
   "outputs": [
    {
     "data": {
      "text/plain": [
       "Index(['Year', 'binary_target', 'Action', 'Adventure', 'Animation',\n",
       "       'Biography', 'Comedy', 'Crime', 'Documentary', 'Drama', 'Family',\n",
       "       'Fantasy', 'History', 'Horror', 'Musical', 'Mystery', 'Romance',\n",
       "       'Sci_Fi', 'Sport', 'Thriller', 'War', 'Western'],\n",
       "      dtype='object')"
      ]
     },
     "execution_count": 13,
     "metadata": {},
     "output_type": "execute_result"
    }
   ],
   "source": [
    "main_df.columns"
   ]
  },
  {
   "cell_type": "code",
   "execution_count": 14,
   "metadata": {},
   "outputs": [
    {
     "data": {
      "text/plain": [
       "<matplotlib.axes._subplots.AxesSubplot at 0x10dbd4048>"
      ]
     },
     "execution_count": 14,
     "metadata": {},
     "output_type": "execute_result"
    },
    {
     "data": {
      "image/png": "[encoded data removed]",
      "text/plain": [
       "<Figure size 432x288 with 1 Axes>"
      ]
     },
     "metadata": {
      "needs_background": "light"
     },
     "output_type": "display_data"
    }
   ],
   "source": [
    "main_df.Year.hist()"
   ]
  },
  {
   "cell_type": "code",
   "execution_count": 15,
   "metadata": {},
   "outputs": [
    {
     "data": {
      "text/plain": [
       "<matplotlib.axes._subplots.AxesSubplot at 0x12561e898>"
      ]
     },
     "execution_count": 15,
     "metadata": {},
     "output_type": "execute_result"
    },
    {
     "data": {
      "image/png": "[encoded data removed]",
      "text/plain": [
       "<Figure size 432x288 with 1 Axes>"
      ]
     },
     "metadata": {
      "needs_background": "light"
     },
     "output_type": "display_data"
    }
   ],
   "source": [
    "main_df.binary_target.hist()"
   ]
  },
  {
   "cell_type": "markdown",
   "metadata": {},
   "source": [
    "### Log Transforming \"Actor Facebook Likes\""
   ]
  },
  {
   "cell_type": "markdown",
   "metadata": {},
   "source": [
    "'Actor_1_fb_likes' had some striking outliers and needed a log transform:"
   ]
  },
  {
   "cell_type": "code",
   "execution_count": 16,
   "metadata": {},
   "outputs": [
    {
     "data": {
      "text/plain": [
       "<matplotlib.axes._subplots.AxesSubplot at 0x1256a0f28>"
      ]
     },
     "execution_count": 16,
     "metadata": {},
     "output_type": "execute_result"
    },
    {
     "data": {
      "image/png": "[encoded data removed]",
      "text/plain": [
       "<Figure size 432x288 with 1 Axes>"
      ]
     },
     "metadata": {
      "needs_background": "light"
     },
     "output_type": "display_data"
    }
   ],
   "source": [
    "df.Actor_1_fb_likes.hist() # Check out those outliers. Can't even see them..."
   ]
  },
  {
   "cell_type": "code",
   "execution_count": 17,
   "metadata": {},
   "outputs": [],
   "source": [
    "def log_transform_col(feature, dataframe):\n",
    "    logged = pd.Series(np.log(dataframe[feature].values+1), name=feature+'_logged')\n",
    "    return logged\n",
    "\n",
    "actor_features = ['Actor_1_fb_likes', 'Actor_2_fb_likes','Actor_3_fb_likes']\n",
    "\n",
    "actor_likes = [log_transform_col(actor_features[i], df) for i in range(len(actor_features))]"
   ]
  },
  {
   "cell_type": "code",
   "execution_count": 18,
   "metadata": {},
   "outputs": [
    {
     "data": {
      "text/plain": [
       "<matplotlib.axes._subplots.AxesSubplot at 0x12571c908>"
      ]
     },
     "execution_count": 18,
     "metadata": {},
     "output_type": "execute_result"
    },
    {
     "data": {
      "image/png": "[encoded data removed]",
      "text/plain": [
       "<Figure size 432x288 with 1 Axes>"
      ]
     },
     "metadata": {
      "needs_background": "light"
     },
     "output_type": "display_data"
    }
   ],
   "source": [
    "pd.Series(actor_likes).hist() # Much better"
   ]
  },
  {
   "cell_type": "markdown",
   "metadata": {},
   "source": [
    "Looks way more gaussian after a log transform. We add these logged features to our dataframe:"
   ]
  },
  {
   "cell_type": "code",
   "execution_count": 19,
   "metadata": {},
   "outputs": [
    {
     "data": {
      "text/html": [
       "<div>\n",
       "<style scoped>\n",
       "    .dataframe tbody tr th:only-of-type {\n",
       "        vertical-align: middle;\n",
       "    }\n",
       "\n",
       "    .dataframe tbody tr th {\n",
       "        vertical-align: top;\n",
       "    }\n",
       "\n",
       "    .dataframe thead th {\n",
       "        text-align: right;\n",
       "    }\n",
       "</style>\n",
       "<table border=\"1\" class=\"dataframe\">\n",
       "  <thead>\n",
       "    <tr style=\"text-align: right;\">\n",
       "      <th></th>\n",
       "      <th>Year</th>\n",
       "      <th>binary_target</th>\n",
       "      <th>Action</th>\n",
       "      <th>Adventure</th>\n",
       "      <th>Animation</th>\n",
       "      <th>Biography</th>\n",
       "      <th>Comedy</th>\n",
       "      <th>Crime</th>\n",
       "      <th>Documentary</th>\n",
       "      <th>Drama</th>\n",
       "      <th>...</th>\n",
       "      <th>Mystery</th>\n",
       "      <th>Romance</th>\n",
       "      <th>Sci_Fi</th>\n",
       "      <th>Sport</th>\n",
       "      <th>Thriller</th>\n",
       "      <th>War</th>\n",
       "      <th>Western</th>\n",
       "      <th>Actor_1_fb_likes_logged</th>\n",
       "      <th>Actor_2_fb_likes_logged</th>\n",
       "      <th>Actor_3_fb_likes_logged</th>\n",
       "    </tr>\n",
       "  </thead>\n",
       "  <tbody>\n",
       "    <tr>\n",
       "      <th>0</th>\n",
       "      <td>2009</td>\n",
       "      <td>1</td>\n",
       "      <td>1</td>\n",
       "      <td>1</td>\n",
       "      <td>0</td>\n",
       "      <td>0</td>\n",
       "      <td>0</td>\n",
       "      <td>0</td>\n",
       "      <td>0</td>\n",
       "      <td>0</td>\n",
       "      <td>...</td>\n",
       "      <td>0</td>\n",
       "      <td>0</td>\n",
       "      <td>0</td>\n",
       "      <td>0</td>\n",
       "      <td>0</td>\n",
       "      <td>0</td>\n",
       "      <td>0</td>\n",
       "      <td>6.908755</td>\n",
       "      <td>6.842683</td>\n",
       "      <td>6.752270</td>\n",
       "    </tr>\n",
       "    <tr>\n",
       "      <th>1</th>\n",
       "      <td>2007</td>\n",
       "      <td>1</td>\n",
       "      <td>1</td>\n",
       "      <td>1</td>\n",
       "      <td>0</td>\n",
       "      <td>0</td>\n",
       "      <td>0</td>\n",
       "      <td>0</td>\n",
       "      <td>0</td>\n",
       "      <td>0</td>\n",
       "      <td>...</td>\n",
       "      <td>0</td>\n",
       "      <td>0</td>\n",
       "      <td>0</td>\n",
       "      <td>0</td>\n",
       "      <td>0</td>\n",
       "      <td>0</td>\n",
       "      <td>0</td>\n",
       "      <td>10.596660</td>\n",
       "      <td>8.517393</td>\n",
       "      <td>6.908755</td>\n",
       "    </tr>\n",
       "    <tr>\n",
       "      <th>2</th>\n",
       "      <td>2015</td>\n",
       "      <td>1</td>\n",
       "      <td>1</td>\n",
       "      <td>1</td>\n",
       "      <td>0</td>\n",
       "      <td>0</td>\n",
       "      <td>0</td>\n",
       "      <td>0</td>\n",
       "      <td>0</td>\n",
       "      <td>0</td>\n",
       "      <td>...</td>\n",
       "      <td>0</td>\n",
       "      <td>0</td>\n",
       "      <td>0</td>\n",
       "      <td>0</td>\n",
       "      <td>1</td>\n",
       "      <td>0</td>\n",
       "      <td>0</td>\n",
       "      <td>9.305741</td>\n",
       "      <td>5.976351</td>\n",
       "      <td>5.087596</td>\n",
       "    </tr>\n",
       "  </tbody>\n",
       "</table>\n",
       "<p>3 rows × 25 columns</p>\n",
       "</div>"
      ],
      "text/plain": [
       "   Year  binary_target  Action  Adventure  Animation  Biography  Comedy  \\\n",
       "0  2009              1       1          1          0          0       0   \n",
       "1  2007              1       1          1          0          0       0   \n",
       "2  2015              1       1          1          0          0       0   \n",
       "\n",
       "   Crime  Documentary  Drama  ...  Mystery  Romance  Sci_Fi  Sport  Thriller  \\\n",
       "0      0            0      0  ...        0        0       0      0         0   \n",
       "1      0            0      0  ...        0        0       0      0         0   \n",
       "2      0            0      0  ...        0        0       0      0         1   \n",
       "\n",
       "   War  Western  Actor_1_fb_likes_logged  Actor_2_fb_likes_logged  \\\n",
       "0    0        0                 6.908755                 6.842683   \n",
       "1    0        0                10.596660                 8.517393   \n",
       "2    0        0                 9.305741                 5.976351   \n",
       "\n",
       "   Actor_3_fb_likes_logged  \n",
       "0                 6.752270  \n",
       "1                 6.908755  \n",
       "2                 5.087596  \n",
       "\n",
       "[3 rows x 25 columns]"
      ]
     },
     "execution_count": 19,
     "metadata": {},
     "output_type": "execute_result"
    }
   ],
   "source": [
    "main_df = main_df.join(actor_likes)\n",
    "main_df[:3]"
   ]
  },
  {
   "cell_type": "markdown",
   "metadata": {},
   "source": [
    "### Baseline Logistic Regression without Plot-Text Features"
   ]
  },
  {
   "cell_type": "markdown",
   "metadata": {},
   "source": [
    "Now that we've cleaned up a bit, we'll start throwing our features at a statsmodels logistic regression estimator to evaluate r^2 and p-values of various features."
   ]
  },
  {
   "cell_type": "code",
   "execution_count": 20,
   "metadata": {},
   "outputs": [
    {
     "name": "stdout",
     "output_type": "stream",
     "text": [
      "Optimization terminated successfully.\n",
      "         Current function value: 0.586021\n",
      "         Iterations 6\n",
      "                           Logit Regression Results                           \n",
      "==============================================================================\n",
      "Dep. Variable:          binary_target   No. Observations:                 4029\n",
      "Model:                          Logit   Df Residuals:                     4005\n",
      "Method:                           MLE   Df Model:                           23\n",
      "Date:                Sun, 03 Mar 2019   Pseudo R-squ.:                  0.1514\n",
      "Time:                        00:12:15   Log-Likelihood:                -2361.1\n",
      "converged:                       True   LL-Null:                       -2782.2\n",
      "                                        LLR p-value:                4.100e-163\n",
      "===========================================================================================\n",
      "                              coef    std err          z      P>|z|      [0.025      0.975]\n",
      "-------------------------------------------------------------------------------------------\n",
      "Intercept                  84.7424      7.040     12.038      0.000      70.945      98.540\n",
      "C(Action)[T.1]             -0.4480      0.100     -4.491      0.000      -0.643      -0.252\n",
      "C(Adventure)[T.1]           0.1556      0.110      1.414      0.157      -0.060       0.371\n",
      "C(Animation)[T.1]           1.2078      0.197      6.142      0.000       0.822       1.593\n",
      "C(Biography)[T.1]           1.0812      0.201      5.367      0.000       0.686       1.476\n",
      "C(Comedy)[T.1]             -0.6103      0.090     -6.746      0.000      -0.788      -0.433\n",
      "C(Crime)[T.1]               0.0270      0.104      0.259      0.795      -0.177       0.231\n",
      "C(Documentary)[T.1]         1.8115      0.315      5.751      0.000       1.194       2.429\n",
      "C(Drama)[T.1]               0.8917      0.086     10.358      0.000       0.723       1.060\n",
      "C(Family)[T.1]             -0.4677      0.144     -3.253      0.001      -0.750      -0.186\n",
      "C(Fantasy)[T.1]            -0.0370      0.117     -0.316      0.752      -0.267       0.192\n",
      "C(History)[T.1]            -0.0101      0.220     -0.046      0.963      -0.442       0.422\n",
      "C(Horror)[T.1]             -0.9812      0.131     -7.469      0.000      -1.239      -0.724\n",
      "C(Musical)[T.1]            -0.0236      0.243     -0.097      0.923      -0.500       0.452\n",
      "C(Mystery)[T.1]             0.2022      0.124      1.624      0.104      -0.042       0.446\n",
      "C(Romance)[T.1]            -0.2936      0.093     -3.144      0.002      -0.477      -0.111\n",
      "C(Sport)[T.1]              -0.0028      0.199     -0.014      0.989      -0.394       0.388\n",
      "C(Thriller)[T.1]           -0.2439      0.100     -2.436      0.015      -0.440      -0.048\n",
      "C(War)[T.1]                 0.0994      0.203      0.491      0.624      -0.298       0.496\n",
      "C(Western)[T.1]            -0.1232      0.274     -0.449      0.653      -0.661       0.414\n",
      "Year                       -0.0425      0.004    -12.063      0.000      -0.049      -0.036\n",
      "Actor_1_fb_likes_logged     0.1648      0.029      5.606      0.000       0.107       0.222\n",
      "Actor_2_fb_likes_logged     0.0456      0.049      0.931      0.352      -0.050       0.141\n",
      "Actor_3_fb_likes_logged    -0.1706      0.045     -3.787      0.000      -0.259      -0.082\n",
      "===========================================================================================\n"
     ]
    },
    {
     "data": {
      "text/plain": [
       "0.6815476190476191"
      ]
     },
     "execution_count": 20,
     "metadata": {},
     "output_type": "execute_result"
    }
   ],
   "source": [
    "# check LogReg with all initial variables from main_df (note: no plot)\n",
    "s = (\"binary_target ~ Year + C(Action) + C(Adventure) + C(Animation) + C(Biography) + C(Comedy)\"\n",
    "                 \"+ C(Crime) + C(Documentary) + C(Drama) + C(Family) + C(Fantasy) + C(History)\"\n",
    "                 \"+ C(Horror) + C(Musical) + C(Mystery) + C(Romance) + C(Sci_Fi) + C(Sport)\"\n",
    "                 \"+ C(Thriller) + C(War)+ C(Western)\"\n",
    "                 \"+ Actor_1_fb_likes_logged + Actor_2_fb_likes_logged\"\n",
    "                 \"+ Actor_3_fb_likes_logged\")\n",
    "\n",
    "y, X = dmatrices(s, main_df, return_type=\"dataframe\")\n",
    "\n",
    "X_train, X_test, y_train, y_test = train_test_split(X, y, test_size =  0.2)\n",
    "\n",
    "logit_model = sm.Logit(y_train.iloc[:,0], X_train)\n",
    "result = logit_model.fit()\n",
    "\n",
    "print(result.summary())\n",
    "\n",
    "y_preds = result.predict(X_test)\n",
    "\n",
    "accuracy_score(y_test, y_preds >=.5)"
   ]
  },
  {
   "cell_type": "markdown",
   "metadata": {},
   "source": [
    "This gives us an idea of which features might be less important in the determination of what makes a movie \"good\". We'll drop the less pertinent features and try again:"
   ]
  },
  {
   "cell_type": "code",
   "execution_count": 21,
   "metadata": {
    "scrolled": false
   },
   "outputs": [
    {
     "name": "stdout",
     "output_type": "stream",
     "text": [
      "Optimization terminated successfully.\n",
      "         Current function value: 0.595035\n",
      "         Iterations 6\n",
      "                           Logit Regression Results                           \n",
      "==============================================================================\n",
      "Dep. Variable:          binary_target   No. Observations:                 4029\n",
      "Model:                          Logit   Df Residuals:                     4013\n",
      "Method:                           MLE   Df Model:                           15\n",
      "Date:                Sun, 03 Mar 2019   Pseudo R-squ.:                  0.1387\n",
      "Time:                        00:12:15   Log-Likelihood:                -2397.4\n",
      "converged:                       True   LL-Null:                       -2783.4\n",
      "                                        LLR p-value:                7.835e-155\n",
      "===========================================================================================\n",
      "                              coef    std err          z      P>|z|      [0.025      0.975]\n",
      "-------------------------------------------------------------------------------------------\n",
      "Intercept                  83.9924      6.928     12.123      0.000      70.413      97.572\n",
      "C(Action)[T.1]             -0.3288      0.093     -3.528      0.000      -0.511      -0.146\n",
      "C(Animation)[T.1]           1.1077      0.188      5.904      0.000       0.740       1.475\n",
      "C(Biography)[T.1]           1.0638      0.193      5.504      0.000       0.685       1.443\n",
      "C(Comedy)[T.1]             -0.5233      0.086     -6.078      0.000      -0.692      -0.355\n",
      "C(Documentary)[T.1]         2.0706      0.327      6.325      0.000       1.429       2.712\n",
      "C(Drama)[T.1]               0.8802      0.083     10.651      0.000       0.718       1.042\n",
      "C(Family)[T.1]             -0.4575      0.137     -3.351      0.001      -0.725      -0.190\n",
      "C(Horror)[T.1]             -0.8456      0.126     -6.737      0.000      -1.092      -0.600\n",
      "C(Mystery)[T.1]             0.1785      0.123      1.449      0.147      -0.063       0.420\n",
      "C(Romance)[T.1]            -0.2361      0.091     -2.598      0.009      -0.414      -0.058\n",
      "C(Thriller)[T.1]           -0.2895      0.093     -3.116      0.002      -0.472      -0.107\n",
      "Year                       -0.0422      0.003    -12.155      0.000      -0.049      -0.035\n",
      "Actor_1_fb_likes_logged     0.1620      0.029      5.566      0.000       0.105       0.219\n",
      "Actor_2_fb_likes_logged     0.0581      0.048      1.218      0.223      -0.035       0.152\n",
      "Actor_3_fb_likes_logged    -0.1760      0.044     -3.998      0.000      -0.262      -0.090\n",
      "===========================================================================================\n"
     ]
    },
    {
     "data": {
      "text/plain": [
       "0.7142857142857143"
      ]
     },
     "execution_count": 21,
     "metadata": {},
     "output_type": "execute_result"
    }
   ],
   "source": [
    "s = (\"binary_target ~ Year + C(Action) + C(Animation) + C(Biography) + C(Comedy)\"\n",
    "                 \"+ C(Documentary) + C(Drama) + C(Family)\"\n",
    "                 \"+ C(Horror) + C(Mystery) + C(Romance) + C(Sci_Fi)\"\n",
    "                 \"+ C(Thriller)\"\n",
    "                 \"+ Actor_1_fb_likes_logged + Actor_2_fb_likes_logged\"\n",
    "                 \"+ Actor_3_fb_likes_logged\")\n",
    "\n",
    "main_df = main_df.drop(['Adventure','Crime', 'Fantasy', 'History', 'Musical', 'Sport', 'War', 'Western'], axis=1)\n",
    "\n",
    "y, X = dmatrices(s, main_df, return_type = \"dataframe\")\n",
    "\n",
    "X_train, X_test, y_train, y_test = train_test_split(X, y, test_size =  0.2)\n",
    "\n",
    "logit_model = sm.Logit(y_train.iloc[:,0], X_train)\n",
    "result = logit_model.fit()\n",
    "\n",
    "print(result.summary())\n",
    "\n",
    "y_preds = result.predict(X_test)\n",
    "\n",
    "accuracy_score(y_test, y_preds >=.5)"
   ]
  },
  {
   "cell_type": "code",
   "execution_count": 22,
   "metadata": {},
   "outputs": [
    {
     "data": {
      "text/plain": [
       "Index(['Year', 'binary_target', 'Action', 'Animation', 'Biography', 'Comedy',\n",
       "       'Documentary', 'Drama', 'Family', 'Horror', 'Mystery', 'Romance',\n",
       "       'Sci_Fi', 'Thriller', 'Actor_1_fb_likes_logged',\n",
       "       'Actor_2_fb_likes_logged', 'Actor_3_fb_likes_logged'],\n",
       "      dtype='object')"
      ]
     },
     "execution_count": 22,
     "metadata": {},
     "output_type": "execute_result"
    }
   ],
   "source": [
    "main_df.columns"
   ]
  },
  {
   "cell_type": "markdown",
   "metadata": {},
   "source": [
    "These are the features we're sticking with for now."
   ]
  },
  {
   "cell_type": "markdown",
   "metadata": {},
   "source": [
    "### Correlation Matrices"
   ]
  },
  {
   "cell_type": "markdown",
   "metadata": {},
   "source": [
    "We'd be remiss not to check for overly correlated features:"
   ]
  },
  {
   "cell_type": "code",
   "execution_count": 23,
   "metadata": {
    "scrolled": true
   },
   "outputs": [
    {
     "name": "stderr",
     "output_type": "stream",
     "text": [
      "/Users/rob/.local/share/virtualenvs/Good-Film-Bad-Film-eKSCkW5B/lib/python3.7/site-packages/pandas/plotting/_misc.py:108: UserWarning: Attempting to set identical left==right results\n",
      "in singular transformations; automatically expanding.\n",
      "left=0.0, right=0.0\n",
      "  ax.set_xlim(boundaries_list[j])\n",
      "/Users/rob/.local/share/virtualenvs/Good-Film-Bad-Film-eKSCkW5B/lib/python3.7/site-packages/pandas/plotting/_misc.py:108: UserWarning: Attempting to set identical left==right results\n",
      "in singular transformations; automatically expanding.\n",
      "left=0.0, right=0.0\n",
      "  ax.set_xlim(boundaries_list[j])\n",
      "/Users/rob/.local/share/virtualenvs/Good-Film-Bad-Film-eKSCkW5B/lib/python3.7/site-packages/pandas/plotting/_misc.py:108: UserWarning: Attempting to set identical left==right results\n",
      "in singular transformations; automatically expanding.\n",
      "left=0.0, right=0.0\n",
      "  ax.set_xlim(boundaries_list[j])\n",
      "/Users/rob/.local/share/virtualenvs/Good-Film-Bad-Film-eKSCkW5B/lib/python3.7/site-packages/pandas/plotting/_misc.py:108: UserWarning: Attempting to set identical left==right results\n",
      "in singular transformations; automatically expanding.\n",
      "left=0.0, right=0.0\n",
      "  ax.set_xlim(boundaries_list[j])\n",
      "/Users/rob/.local/share/virtualenvs/Good-Film-Bad-Film-eKSCkW5B/lib/python3.7/site-packages/pandas/plotting/_misc.py:108: UserWarning: Attempting to set identical left==right results\n",
      "in singular transformations; automatically expanding.\n",
      "left=0.0, right=0.0\n",
      "  ax.set_xlim(boundaries_list[j])\n",
      "/Users/rob/.local/share/virtualenvs/Good-Film-Bad-Film-eKSCkW5B/lib/python3.7/site-packages/pandas/plotting/_misc.py:108: UserWarning: Attempting to set identical left==right results\n",
      "in singular transformations; automatically expanding.\n",
      "left=0.0, right=0.0\n",
      "  ax.set_xlim(boundaries_list[j])\n",
      "/Users/rob/.local/share/virtualenvs/Good-Film-Bad-Film-eKSCkW5B/lib/python3.7/site-packages/pandas/plotting/_misc.py:108: UserWarning: Attempting to set identical left==right results\n",
      "in singular transformations; automatically expanding.\n",
      "left=0.0, right=0.0\n",
      "  ax.set_xlim(boundaries_list[j])\n",
      "/Users/rob/.local/share/virtualenvs/Good-Film-Bad-Film-eKSCkW5B/lib/python3.7/site-packages/pandas/plotting/_misc.py:108: UserWarning: Attempting to set identical left==right results\n",
      "in singular transformations; automatically expanding.\n",
      "left=0.0, right=0.0\n",
      "  ax.set_xlim(boundaries_list[j])\n",
      "/Users/rob/.local/share/virtualenvs/Good-Film-Bad-Film-eKSCkW5B/lib/python3.7/site-packages/pandas/plotting/_misc.py:108: UserWarning: Attempting to set identical left==right results\n",
      "in singular transformations; automatically expanding.\n",
      "left=0.0, right=0.0\n",
      "  ax.set_xlim(boundaries_list[j])\n",
      "/Users/rob/.local/share/virtualenvs/Good-Film-Bad-Film-eKSCkW5B/lib/python3.7/site-packages/pandas/plotting/_misc.py:108: UserWarning: Attempting to set identical left==right results\n",
      "in singular transformations; automatically expanding.\n",
      "left=0.0, right=0.0\n",
      "  ax.set_xlim(boundaries_list[j])\n",
      "/Users/rob/.local/share/virtualenvs/Good-Film-Bad-Film-eKSCkW5B/lib/python3.7/site-packages/pandas/plotting/_misc.py:108: UserWarning: Attempting to set identical left==right results\n",
      "in singular transformations; automatically expanding.\n",
      "left=0.0, right=0.0\n",
      "  ax.set_xlim(boundaries_list[j])\n",
      "/Users/rob/.local/share/virtualenvs/Good-Film-Bad-Film-eKSCkW5B/lib/python3.7/site-packages/pandas/plotting/_misc.py:109: UserWarning: Attempting to set identical bottom==top results\n",
      "in singular transformations; automatically expanding.\n",
      "bottom=0.0, top=0.0\n",
      "  ax.set_ylim(boundaries_list[i])\n",
      "/Users/rob/.local/share/virtualenvs/Good-Film-Bad-Film-eKSCkW5B/lib/python3.7/site-packages/pandas/plotting/_misc.py:109: UserWarning: Attempting to set identical bottom==top results\n",
      "in singular transformations; automatically expanding.\n",
      "bottom=0.0, top=0.0\n",
      "  ax.set_ylim(boundaries_list[i])\n",
      "/Users/rob/.local/share/virtualenvs/Good-Film-Bad-Film-eKSCkW5B/lib/python3.7/site-packages/pandas/plotting/_misc.py:109: UserWarning: Attempting to set identical bottom==top results\n",
      "in singular transformations; automatically expanding.\n",
      "bottom=0.0, top=0.0\n",
      "  ax.set_ylim(boundaries_list[i])\n",
      "/Users/rob/.local/share/virtualenvs/Good-Film-Bad-Film-eKSCkW5B/lib/python3.7/site-packages/pandas/plotting/_misc.py:109: UserWarning: Attempting to set identical bottom==top results\n",
      "in singular transformations; automatically expanding.\n",
      "bottom=0.0, top=0.0\n",
      "  ax.set_ylim(boundaries_list[i])\n",
      "/Users/rob/.local/share/virtualenvs/Good-Film-Bad-Film-eKSCkW5B/lib/python3.7/site-packages/pandas/plotting/_misc.py:109: UserWarning: Attempting to set identical bottom==top results\n",
      "in singular transformations; automatically expanding.\n",
      "bottom=0.0, top=0.0\n",
      "  ax.set_ylim(boundaries_list[i])\n",
      "/Users/rob/.local/share/virtualenvs/Good-Film-Bad-Film-eKSCkW5B/lib/python3.7/site-packages/pandas/plotting/_misc.py:109: UserWarning: Attempting to set identical bottom==top results\n",
      "in singular transformations; automatically expanding.\n",
      "bottom=0.0, top=0.0\n",
      "  ax.set_ylim(boundaries_list[i])\n",
      "/Users/rob/.local/share/virtualenvs/Good-Film-Bad-Film-eKSCkW5B/lib/python3.7/site-packages/pandas/plotting/_misc.py:109: UserWarning: Attempting to set identical bottom==top results\n",
      "in singular transformations; automatically expanding.\n",
      "bottom=0.0, top=0.0\n",
      "  ax.set_ylim(boundaries_list[i])\n",
      "/Users/rob/.local/share/virtualenvs/Good-Film-Bad-Film-eKSCkW5B/lib/python3.7/site-packages/pandas/plotting/_misc.py:109: UserWarning: Attempting to set identical bottom==top results\n",
      "in singular transformations; automatically expanding.\n",
      "bottom=0.0, top=0.0\n",
      "  ax.set_ylim(boundaries_list[i])\n",
      "/Users/rob/.local/share/virtualenvs/Good-Film-Bad-Film-eKSCkW5B/lib/python3.7/site-packages/pandas/plotting/_misc.py:109: UserWarning: Attempting to set identical bottom==top results\n",
      "in singular transformations; automatically expanding.\n",
      "bottom=0.0, top=0.0\n",
      "  ax.set_ylim(boundaries_list[i])\n",
      "/Users/rob/.local/share/virtualenvs/Good-Film-Bad-Film-eKSCkW5B/lib/python3.7/site-packages/pandas/plotting/_misc.py:109: UserWarning: Attempting to set identical bottom==top results\n",
      "in singular transformations; automatically expanding.\n",
      "bottom=0.0, top=0.0\n",
      "  ax.set_ylim(boundaries_list[i])\n",
      "/Users/rob/.local/share/virtualenvs/Good-Film-Bad-Film-eKSCkW5B/lib/python3.7/site-packages/pandas/plotting/_misc.py:109: UserWarning: Attempting to set identical bottom==top results\n",
      "in singular transformations; automatically expanding.\n",
      "bottom=0.0, top=0.0\n",
      "  ax.set_ylim(boundaries_list[i])\n",
      "/Users/rob/.local/share/virtualenvs/Good-Film-Bad-Film-eKSCkW5B/lib/python3.7/site-packages/pandas/plotting/_misc.py:100: UserWarning: Attempting to set identical left==right results\n",
      "in singular transformations; automatically expanding.\n",
      "left=0.0, right=0.0\n",
      "  ax.set_xlim(boundaries_list[i])\n",
      "/Users/rob/.local/share/virtualenvs/Good-Film-Bad-Film-eKSCkW5B/lib/python3.7/site-packages/pandas/plotting/_misc.py:109: UserWarning: Attempting to set identical bottom==top results\n",
      "in singular transformations; automatically expanding.\n",
      "bottom=0.0, top=0.0\n",
      "  ax.set_ylim(boundaries_list[i])\n",
      "/Users/rob/.local/share/virtualenvs/Good-Film-Bad-Film-eKSCkW5B/lib/python3.7/site-packages/pandas/plotting/_misc.py:109: UserWarning: Attempting to set identical bottom==top results\n",
      "in singular transformations; automatically expanding.\n",
      "bottom=0.0, top=0.0\n",
      "  ax.set_ylim(boundaries_list[i])\n",
      "/Users/rob/.local/share/virtualenvs/Good-Film-Bad-Film-eKSCkW5B/lib/python3.7/site-packages/pandas/plotting/_misc.py:109: UserWarning: Attempting to set identical bottom==top results\n",
      "in singular transformations; automatically expanding.\n",
      "bottom=0.0, top=0.0\n",
      "  ax.set_ylim(boundaries_list[i])\n",
      "/Users/rob/.local/share/virtualenvs/Good-Film-Bad-Film-eKSCkW5B/lib/python3.7/site-packages/pandas/plotting/_misc.py:109: UserWarning: Attempting to set identical bottom==top results\n",
      "in singular transformations; automatically expanding.\n",
      "bottom=0.0, top=0.0\n",
      "  ax.set_ylim(boundaries_list[i])\n",
      "/Users/rob/.local/share/virtualenvs/Good-Film-Bad-Film-eKSCkW5B/lib/python3.7/site-packages/pandas/plotting/_misc.py:108: UserWarning: Attempting to set identical left==right results\n",
      "in singular transformations; automatically expanding.\n",
      "left=0.0, right=0.0\n",
      "  ax.set_xlim(boundaries_list[j])\n",
      "/Users/rob/.local/share/virtualenvs/Good-Film-Bad-Film-eKSCkW5B/lib/python3.7/site-packages/pandas/plotting/_misc.py:108: UserWarning: Attempting to set identical left==right results\n",
      "in singular transformations; automatically expanding.\n",
      "left=0.0, right=0.0\n",
      "  ax.set_xlim(boundaries_list[j])\n"
     ]
    },
    {
     "name": "stderr",
     "output_type": "stream",
     "text": [
      "/Users/rob/.local/share/virtualenvs/Good-Film-Bad-Film-eKSCkW5B/lib/python3.7/site-packages/pandas/plotting/_misc.py:108: UserWarning: Attempting to set identical left==right results\n",
      "in singular transformations; automatically expanding.\n",
      "left=0.0, right=0.0\n",
      "  ax.set_xlim(boundaries_list[j])\n",
      "/Users/rob/.local/share/virtualenvs/Good-Film-Bad-Film-eKSCkW5B/lib/python3.7/site-packages/pandas/plotting/_misc.py:108: UserWarning: Attempting to set identical left==right results\n",
      "in singular transformations; automatically expanding.\n",
      "left=0.0, right=0.0\n",
      "  ax.set_xlim(boundaries_list[j])\n"
     ]
    },
    {
     "data": {
      "image/png": "[encoded data removed]",
      "text/plain": [
       "<Figure size 1080x1080 with 256 Axes>"
      ]
     },
     "metadata": {
      "needs_background": "light"
     },
     "output_type": "display_data"
    }
   ],
   "source": [
    "# Creating a multi-scatter plot\n",
    "main_corr= main_df.drop(['binary_target'], axis=1).iloc[:,:]\n",
    "pd.plotting.scatter_matrix(main_corr, figsize=[15,15]);"
   ]
  },
  {
   "cell_type": "code",
   "execution_count": 24,
   "metadata": {},
   "outputs": [
    {
     "data": {
      "image/png": "[encoded data removed]",
      "text/plain": [
       "<Figure size 432x288 with 2 Axes>"
      ]
     },
     "metadata": {
      "needs_background": "light"
     },
     "output_type": "display_data"
    }
   ],
   "source": [
    "sns.heatmap(main_corr.corr(), center=0);"
   ]
  },
  {
   "cell_type": "markdown",
   "metadata": {},
   "source": [
    "It's fairly intuitive that the social media popularity of the leading actors would be positively correlated, but we'll leave it in in case there are deviations from that norm. It's interesting to note that films in the \"animation\" genre are so commonly also in the \"family\" genre. Makes sense too."
   ]
  },
  {
   "cell_type": "markdown",
   "metadata": {},
   "source": [
    "## Using NLP to get features from the Plot Synopses"
   ]
  },
  {
   "cell_type": "markdown",
   "metadata": {},
   "source": [
    "#### Setting up Lemmatization / Normalization Functions:"
   ]
  },
  {
   "cell_type": "code",
   "execution_count": 25,
   "metadata": {},
   "outputs": [],
   "source": [
    "stop_words = set(stopwords.words('english'))\n",
    "lemmatizer = WordNetLemmatizer()\n",
    "\n",
    "def lemmatize(plot_list):\n",
    "    lemmatized_plots = []\n",
    "    \n",
    "    for plot in plot_list:\n",
    "        tokenized_lower = word_tokenize(plot.lower()) # Make plot summary lowercase and lemmatize        \n",
    "        tokenized_lower =[word for word in tokenized_lower if english_d.check(word)] # Make sure it's an english word\n",
    "        dirty_lemma = [lemmatizer.lemmatize(w, get_wordnet_pos(w)) for w in tokenized_lower] # Lemmatize\n",
    "        dirty_lemma_string = ' '.join(dirty_lemma)\n",
    "        \n",
    "        # Filter out words that don't match this regex pattern:\n",
    "        reg = re.compile((r\"([a-zA-Z]+(?:'[a-z]+)?)\"))\n",
    "        lemmatized_regex = [word_lem for word_lem in dirty_lemma if word_lem in reg.findall(dirty_lemma_string)]\n",
    "        \n",
    "        # Remove stop words\n",
    "        lemmatized = [word_lem for word_lem in lemmatized_regex if not word_lem in stop_words]\n",
    "        lemmatized_string = ' '.join(lemmatized)\n",
    "        lemmatized_plots.append(lemmatized_string)\n",
    "        \n",
    "    return lemmatized_plots"
   ]
  },
  {
   "cell_type": "code",
   "execution_count": 26,
   "metadata": {},
   "outputs": [],
   "source": [
    "def get_wordnet_pos(word):\n",
    "    \"\"\"Map POS tag to the first character that lemmatize() accepts\"\"\"\n",
    "    tag = nltk.pos_tag([word])[0][1][0].upper()\n",
    "    tag_dict = {\"J\": wordnet.ADJ,\n",
    "                \"N\": wordnet.NOUN,\n",
    "                \"V\": wordnet.VERB,\n",
    "                \"R\": wordnet.ADV}\n",
    "\n",
    "    return tag_dict.get(tag, wordnet.NOUN)"
   ]
  },
  {
   "cell_type": "markdown",
   "metadata": {},
   "source": [
    "### Run the Lemmatizer"
   ]
  },
  {
   "cell_type": "code",
   "execution_count": 30,
   "metadata": {
    "scrolled": false
   },
   "outputs": [],
   "source": [
    "all_plots = [plot for plot in df.loc[:,'Plot'].values] # Get all movie plots.\n",
    "plots = lemmatize(all_plots) # Lemmatize."
   ]
  },
  {
   "cell_type": "markdown",
   "metadata": {},
   "source": [
    "### Vectorizing Plots"
   ]
  },
  {
   "cell_type": "code",
   "execution_count": 31,
   "metadata": {},
   "outputs": [
    {
     "name": "stdout",
     "output_type": "stream",
     "text": [
      "(5037, 13807)\n"
     ]
    }
   ],
   "source": [
    "# Term frequency = Number of times a word appears in a document / number of words in document\n",
    "# Inverse document frequency = log base e(number of documents / number of documents with word in it)\n",
    "# tf:idf = tf * idf\n",
    "\n",
    "tfidf = TfidfVectorizer()\n",
    "response = tfidf.fit_transform(plots)\n",
    "print(response.shape)\n",
    "\n",
    "tfidf_df = pd.DataFrame(response.toarray(), columns=tfidf.get_feature_names())"
   ]
  },
  {
   "cell_type": "markdown",
   "metadata": {},
   "source": [
    "Now we have all plots lemmatized as \"plots\" and vectorized / weighted as \"tfidf_df\"."
   ]
  },
  {
   "cell_type": "markdown",
   "metadata": {},
   "source": [
    "### Incorporating some LDA; Clustering Documents by Topic"
   ]
  },
  {
   "cell_type": "markdown",
   "metadata": {},
   "source": [
    "Gensim clusters words that appear together frequently. The clusters can be interpreted as general topics, and each movie gets weights indicating the degree to which it belongs to each topic. These weights are then re-incorporated as features in our dataset."
   ]
  },
  {
   "cell_type": "code",
   "execution_count": 32,
   "metadata": {},
   "outputs": [],
   "source": [
    "all_words = [plot.split(' ') for plot in plots] # Just formatting our corpus how Gensim wants it"
   ]
  },
  {
   "cell_type": "code",
   "execution_count": 33,
   "metadata": {},
   "outputs": [
    {
     "ename": "FileNotFoundError",
     "evalue": "[Errno 2] No such file or directory: 'pickles/corpus.pkl'",
     "output_type": "error",
     "traceback": [
      "\u001b[0;31m---------------------------------------------------------------------------\u001b[0m",
      "\u001b[0;31mFileNotFoundError\u001b[0m                         Traceback (most recent call last)",
      "\u001b[0;32m<ipython-input-33-dcc73ba74afd>\u001b[0m in \u001b[0;36m<module>\u001b[0;34m\u001b[0m\n\u001b[1;32m      1\u001b[0m \u001b[0mdictionary\u001b[0m \u001b[0;34m=\u001b[0m \u001b[0mcorpora\u001b[0m\u001b[0;34m.\u001b[0m\u001b[0mDictionary\u001b[0m\u001b[0;34m(\u001b[0m\u001b[0mall_words\u001b[0m\u001b[0;34m)\u001b[0m\u001b[0;34m\u001b[0m\u001b[0;34m\u001b[0m\u001b[0m\n\u001b[1;32m      2\u001b[0m \u001b[0mcorpus\u001b[0m \u001b[0;34m=\u001b[0m \u001b[0;34m[\u001b[0m\u001b[0mdictionary\u001b[0m\u001b[0;34m.\u001b[0m\u001b[0mdoc2bow\u001b[0m\u001b[0;34m(\u001b[0m\u001b[0mtext\u001b[0m\u001b[0;34m)\u001b[0m \u001b[0;32mfor\u001b[0m \u001b[0mtext\u001b[0m \u001b[0;32min\u001b[0m \u001b[0mall_words\u001b[0m\u001b[0;34m]\u001b[0m\u001b[0;34m\u001b[0m\u001b[0;34m\u001b[0m\u001b[0m\n\u001b[0;32m----> 3\u001b[0;31m \u001b[0mpickle\u001b[0m\u001b[0;34m.\u001b[0m\u001b[0mdump\u001b[0m\u001b[0;34m(\u001b[0m\u001b[0mcorpus\u001b[0m\u001b[0;34m,\u001b[0m \u001b[0mopen\u001b[0m\u001b[0;34m(\u001b[0m\u001b[0;34m'pickles/corpus.pkl'\u001b[0m\u001b[0;34m,\u001b[0m \u001b[0;34m'wb'\u001b[0m\u001b[0;34m)\u001b[0m\u001b[0;34m)\u001b[0m\u001b[0;34m\u001b[0m\u001b[0;34m\u001b[0m\u001b[0m\n\u001b[0m\u001b[1;32m      4\u001b[0m \u001b[0mdictionary\u001b[0m\u001b[0;34m.\u001b[0m\u001b[0msave\u001b[0m\u001b[0;34m(\u001b[0m\u001b[0;34m'pickles/dictionary.gensim'\u001b[0m\u001b[0;34m)\u001b[0m\u001b[0;34m\u001b[0m\u001b[0;34m\u001b[0m\u001b[0m\n",
      "\u001b[0;31mFileNotFoundError\u001b[0m: [Errno 2] No such file or directory: 'pickles/corpus.pkl'"
     ]
    }
   ],
   "source": [
    "dictionary = corpora.Dictionary(all_words)\n",
    "corpus = [dictionary.doc2bow(text) for text in all_words]\n",
    "pickle.dump(corpus, open('pickles/corpus.pkl', 'wb'))\n",
    "dictionary.save('pickles/dictionary.gensim')"
   ]
  },
  {
   "cell_type": "code",
   "execution_count": null,
   "metadata": {},
   "outputs": [],
   "source": [
    "NUM_TOPICS = 200 # This value was arbitrarily chosen.\n",
    "ldamodel = gensim.models.ldamodel.LdaModel(corpus, num_topics = NUM_TOPICS, id2word=dictionary, passes=10) # Also arb\n",
    "ldamodel.save('pickles/model5.gensim')"
   ]
  },
  {
   "cell_type": "code",
   "execution_count": null,
   "metadata": {},
   "outputs": [],
   "source": [
    "topics = ldamodel.print_topics(num_words=4)\n",
    "topics # These are examples of some of the clusters created by Gensim."
   ]
  },
  {
   "cell_type": "code",
   "execution_count": null,
   "metadata": {},
   "outputs": [],
   "source": [
    "pyLDAvis.enable_notebook()\n",
    "vis = pyLDAvis.gensim.prepare(ldamodel, corpus, dictionary)\n",
    "vis"
   ]
  },
  {
   "cell_type": "code",
   "execution_count": 34,
   "metadata": {},
   "outputs": [
    {
     "ename": "NameError",
     "evalue": "name 'NUM_TOPICS' is not defined",
     "output_type": "error",
     "traceback": [
      "\u001b[0;31m---------------------------------------------------------------------------\u001b[0m",
      "\u001b[0;31mNameError\u001b[0m                                 Traceback (most recent call last)",
      "\u001b[0;32m<ipython-input-34-ca4147247a35>\u001b[0m in \u001b[0;36m<module>\u001b[0;34m\u001b[0m\n\u001b[1;32m      1\u001b[0m \u001b[0mtm\u001b[0m \u001b[0;34m=\u001b[0m \u001b[0mpd\u001b[0m\u001b[0;34m.\u001b[0m\u001b[0mDataFrame\u001b[0m\u001b[0;34m(\u001b[0m\u001b[0;34m)\u001b[0m\u001b[0;34m\u001b[0m\u001b[0;34m\u001b[0m\u001b[0m\n\u001b[1;32m      2\u001b[0m \u001b[0;32mfor\u001b[0m \u001b[0mi\u001b[0m \u001b[0;32min\u001b[0m \u001b[0mrange\u001b[0m\u001b[0;34m(\u001b[0m\u001b[0mlen\u001b[0m\u001b[0;34m(\u001b[0m\u001b[0mcorpus\u001b[0m\u001b[0;34m)\u001b[0m\u001b[0;34m)\u001b[0m\u001b[0;34m:\u001b[0m\u001b[0;34m\u001b[0m\u001b[0;34m\u001b[0m\u001b[0m\n\u001b[0;32m----> 3\u001b[0;31m     \u001b[0mnew_row\u001b[0m \u001b[0;34m=\u001b[0m \u001b[0mnp\u001b[0m\u001b[0;34m.\u001b[0m\u001b[0mzeros\u001b[0m\u001b[0;34m(\u001b[0m\u001b[0mNUM_TOPICS\u001b[0m\u001b[0;34m)\u001b[0m\u001b[0;34m\u001b[0m\u001b[0;34m\u001b[0m\u001b[0m\n\u001b[0m\u001b[1;32m      4\u001b[0m     \u001b[0;32mfor\u001b[0m \u001b[0mtoop\u001b[0m \u001b[0;32min\u001b[0m \u001b[0mldamodel\u001b[0m\u001b[0;34m.\u001b[0m\u001b[0mget_document_topics\u001b[0m\u001b[0;34m(\u001b[0m\u001b[0mcorpus\u001b[0m\u001b[0;34m[\u001b[0m\u001b[0mi\u001b[0m\u001b[0;34m]\u001b[0m\u001b[0;34m)\u001b[0m\u001b[0;34m:\u001b[0m \u001b[0;31m# These two lines are where you do what you need to do\u001b[0m\u001b[0;34m\u001b[0m\u001b[0;34m\u001b[0m\u001b[0m\n\u001b[1;32m      5\u001b[0m         \u001b[0mnew_row\u001b[0m\u001b[0;34m[\u001b[0m\u001b[0mtoop\u001b[0m\u001b[0;34m[\u001b[0m\u001b[0;36m0\u001b[0m\u001b[0;34m]\u001b[0m\u001b[0;34m]\u001b[0m \u001b[0;34m=\u001b[0m \u001b[0mtoop\u001b[0m\u001b[0;34m[\u001b[0m\u001b[0;36m1\u001b[0m\u001b[0;34m]\u001b[0m                       \u001b[0;31m# to flip zeroes to ones if the genre appears\u001b[0m\u001b[0;34m\u001b[0m\u001b[0;34m\u001b[0m\u001b[0m\n",
      "\u001b[0;31mNameError\u001b[0m: name 'NUM_TOPICS' is not defined"
     ]
    }
   ],
   "source": [
    "tm = pd.DataFrame()\n",
    "for i in range(len(corpus)):\n",
    "    new_row = np.zeros(NUM_TOPICS)\n",
    "    for toop in ldamodel.get_document_topics(corpus[i]): # These two lines are where you do what you need to do\n",
    "        new_row[toop[0]] = toop[1]                       # to flip zeroes to ones if the genre appears\n",
    "    tm = tm.append(pd.Series(new_row), ignore_index=1)"
   ]
  },
  {
   "cell_type": "code",
   "execution_count": null,
   "metadata": {},
   "outputs": [],
   "source": [
    "tm.head() # This is a DataFrame with the weights from the GenSim clustering."
   ]
  },
  {
   "cell_type": "markdown",
   "metadata": {},
   "source": [
    "## Joining Topic-Modeled Synopses with Standard Features"
   ]
  },
  {
   "cell_type": "code",
   "execution_count": null,
   "metadata": {},
   "outputs": [],
   "source": [
    "df = main_df.join(tm)\n",
    "len(df.columns)"
   ]
  },
  {
   "cell_type": "markdown",
   "metadata": {},
   "source": [
    "## Model Building"
   ]
  },
  {
   "cell_type": "code",
   "execution_count": null,
   "metadata": {},
   "outputs": [],
   "source": [
    "X = df.drop(['binary_target'], axis=1)\n",
    "y = df.binary_target\n",
    "scaler = StandardScaler()\n",
    "X_scaled = scaler.fit_transform(X)"
   ]
  },
  {
   "cell_type": "markdown",
   "metadata": {},
   "source": [
    "train_test_split on X_scaled:"
   ]
  },
  {
   "cell_type": "code",
   "execution_count": null,
   "metadata": {},
   "outputs": [],
   "source": [
    "X_train, X_test, y_train, y_test = train_test_split(X_scaled, y, test_size =  0.2)"
   ]
  },
  {
   "cell_type": "markdown",
   "metadata": {},
   "source": [
    "### Baselining:"
   ]
  },
  {
   "cell_type": "code",
   "execution_count": null,
   "metadata": {},
   "outputs": [],
   "source": [
    "dc = DummyClassifier().fit(X_train, y_train)"
   ]
  },
  {
   "cell_type": "code",
   "execution_count": null,
   "metadata": {},
   "outputs": [],
   "source": [
    "accuracy_score(y_test,dc.predict(X_test))"
   ]
  },
  {
   "cell_type": "markdown",
   "metadata": {},
   "source": [
    "Our baseline / dummy accuracy is 47%, roughly."
   ]
  },
  {
   "cell_type": "markdown",
   "metadata": {},
   "source": [
    "Dimensionality Reduction with SVD - For the PlotText Data:"
   ]
  },
  {
   "cell_type": "code",
   "execution_count": null,
   "metadata": {},
   "outputs": [],
   "source": [
    "svd = TruncatedSVD(n_components=50, n_iter=3, random_state=42)\n",
    "X_train_pca = pd.DataFrame(svd.fit_transform(X_train))\n",
    "print(svd.explained_variance_ratio_.sum())"
   ]
  },
  {
   "cell_type": "markdown",
   "metadata": {},
   "source": [
    "Next we'll try a simple Gaussian Naive Bayes Model:"
   ]
  },
  {
   "cell_type": "code",
   "execution_count": null,
   "metadata": {},
   "outputs": [],
   "source": [
    "clf = GaussianNB()\n",
    "clf.fit(X_train_pca, y_train)\n",
    "y_preds = clf.predict(pd.DataFrame(svd.transform(X_test)))\n",
    "print(metrics.classification_report(y_test, y_preds))\n",
    "test_accuracy = accuracy_score(y_test,y_preds)\n",
    "print(\"Test accuracy: {:.4}%\".format(test_accuracy * 100))"
   ]
  },
  {
   "cell_type": "markdown",
   "metadata": {},
   "source": [
    "__________"
   ]
  },
  {
   "cell_type": "markdown",
   "metadata": {},
   "source": [
    "Now we'll go nuts and try an XGBClassifier model. A boosted model seems to work better without PCA, so we'll drop it for this part."
   ]
  },
  {
   "cell_type": "code",
   "execution_count": null,
   "metadata": {},
   "outputs": [],
   "source": [
    "clf = xgb.XGBClassifier(n_jobs=-1)\n",
    "clf.fit(X_train, y_train)\n",
    "\n",
    "training_preds = clf.predict(X_train)\n",
    "test_preds = clf.predict(X_test)#pd.DataFrame(svd.transform(X_test)))\n",
    "\n",
    "training_accuracy = accuracy_score(y_train, training_preds)\n",
    "test_accuracy = accuracy_score(y_test, test_preds)\n",
    "\n",
    "print(\"Training Accuracy: {:.4}%\".format(training_accuracy * 100))\n",
    "print(\"Test accuracy: {:.4}%\".format(test_accuracy * 100))"
   ]
  },
  {
   "cell_type": "code",
   "execution_count": null,
   "metadata": {},
   "outputs": [],
   "source": [
    "y_score = clf.predict_proba(X_test)\n",
    "fpr, tpr, thresholds = roc_curve(y_test, y_score[:,1])\n",
    "print('AUC: {}'.format(auc(fpr, tpr)))"
   ]
  },
  {
   "cell_type": "code",
   "execution_count": null,
   "metadata": {},
   "outputs": [],
   "source": [
    "def draw_roc_curve(fpr,tpr):\n",
    "    sns.set_style(\"darkgrid\", {\"axes.facecolor\": \".9\"})\n",
    "    print('AUC: {}'.format(auc(fpr, tpr)))\n",
    "    plt.figure(figsize=(10,8))\n",
    "    lw = 2\n",
    "    plt.plot(fpr, tpr, color='darkorange', lw=lw, label='ROC curve')\n",
    "    plt.plot([0, 1], [0, 1], color='navy', lw=lw, linestyle='--')\n",
    "    plt.xlim([0.0, 1.0])\n",
    "    plt.ylim([0.0, 1.05])\n",
    "    plt.yticks([i/20.0 for i in range(21)])\n",
    "    plt.xticks([i/20.0 for i in range(21)])\n",
    "    plt.xlabel('False Positive Rate')\n",
    "    plt.ylabel('True Positive Rate')\n",
    "    plt.title('Receiver operating characteristic (ROC) Curve')\n",
    "    plt.legend(loc=\"lower right\")\n",
    "    plt.show()"
   ]
  },
  {
   "cell_type": "code",
   "execution_count": null,
   "metadata": {},
   "outputs": [],
   "source": [
    "draw_roc_curve(fpr,tpr)"
   ]
  },
  {
   "cell_type": "markdown",
   "metadata": {},
   "source": [
    "Looks like we're off to an okay start!"
   ]
  },
  {
   "cell_type": "markdown",
   "metadata": {},
   "source": [
    "## Grid Searching for better parameters"
   ]
  },
  {
   "cell_type": "code",
   "execution_count": null,
   "metadata": {},
   "outputs": [],
   "source": [
    "# svd_components = [100,500,1000]\n",
    "# itera = [3, 5]\n",
    "\n",
    "n_est = [50,80,100]\n",
    "max_depth = [2,3,4]\n",
    "learning_rates = [.08, .1, .15]\n",
    "\n",
    "pipe = Pipeline([\n",
    "#     ('reduce_dim', TruncatedSVD()),\n",
    "    ('classify', XGBClassifier())\n",
    "])\n",
    "\n",
    "param_grid = [\n",
    "    {\n",
    "#         'reduce_dim__n_components': svd_components,\n",
    "#         'reduce_dim__n_iter': itera,\n",
    "        'classify__n_estimators': n_est,\n",
    "        'classify__max_depth': max_depth,\n",
    "        'classify__n_jobs': [-1],\n",
    "        'classify__learning_rate': learning_rates\n",
    "    }]\n",
    "\n",
    "score = {'f1': 'f1', \n",
    "         'accuracy': 'accuracy'}\n",
    "\n",
    "grid_adc = GridSearchCV(pipe, \n",
    "                        n_jobs=-1, \n",
    "                        param_grid=param_grid, \n",
    "                        scoring=score, \n",
    "                        refit='accuracy',\n",
    "                        verbose=10)\n",
    "\n",
    "grid_adc.fit(X_train, y_train)\n",
    "grid_adc.best_params_"
   ]
  },
  {
   "cell_type": "code",
   "execution_count": null,
   "metadata": {},
   "outputs": [],
   "source": [
    "# Check the gridsearch results:\n",
    "y_preds = grid_adc.predict(X_test)\n",
    "accuracy_score(y_test, y_preds)"
   ]
  },
  {
   "cell_type": "code",
   "execution_count": null,
   "metadata": {},
   "outputs": [],
   "source": [
    "y_score = grid_adc.predict_proba(X_test)\n",
    "fpr_gs, tpr_gs, thresholds = roc_curve(y_test, y_score[:,1])\n",
    "print('AUC: {}'.format(auc(fpr_gs, tpr_gs)))"
   ]
  },
  {
   "cell_type": "code",
   "execution_count": null,
   "metadata": {},
   "outputs": [],
   "source": [
    "plt.figure(0).clf()\n",
    "plt.figure(figsize=(10,8))\n",
    "lw = 2\n",
    "\n",
    "plt.plot(fpr, tpr, color='darkorange',\n",
    "         lw=lw, label='ROC curve XGBClassifier')\n",
    "plt.plot(fpr_gs,tpr_gs,\n",
    "         label='Grid Searched XGBClassifier')\n",
    "\n",
    "plt.plot([0, 1], [0, 1], color='navy', lw=lw, linestyle='--')\n",
    "plt.xlim([0.0, 1.0])\n",
    "plt.ylim([0.0, 1.05])\n",
    "plt.yticks([i/20.0 for i in range(21)])\n",
    "plt.xticks([i/20.0 for i in range(21)])\n",
    "plt.xlabel('False Positive Rate')\n",
    "plt.ylabel('True Positive Rate')\n",
    "plt.title('Receiver operating characteristic (ROC) Curve')\n",
    "plt.legend(loc=\"lower right\")\n",
    "plt.legend(loc=0)"
   ]
  },
  {
   "cell_type": "markdown",
   "metadata": {},
   "source": [
    "Negligible improvement."
   ]
  },
  {
   "cell_type": "code",
   "execution_count": null,
   "metadata": {},
   "outputs": [],
   "source": []
  }
 ],
 "metadata": {
  "kernelspec": {
   "display_name": "Python 3",
   "language": "python",
   "name": "python3"
  },
  "language_info": {
   "codemirror_mode": {
    "name": "ipython",
    "version": 3
   },
   "file_extension": ".py",
   "mimetype": "text/x-python",
   "name": "python",
   "nbconvert_exporter": "python",
   "pygments_lexer": "ipython3",
   "version": "3.7.2"
  }
 },
 "nbformat": 4,
 "nbformat_minor": 2
}
